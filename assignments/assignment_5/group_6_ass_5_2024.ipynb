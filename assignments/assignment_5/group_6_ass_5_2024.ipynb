{
 "cells": [
  {
   "cell_type": "markdown",
   "metadata": {},
   "source": [
    "# Assignment 5\n",
    "\n"
   ]
  },
  {
   "cell_type": "code",
   "execution_count": 1,
   "metadata": {},
   "outputs": [
    {
     "data": {
      "text/html": [
       "\n",
       "<style>\n",
       "    div#notebook-container    { width: 95%; }\n",
       "    div#menubar-container     { width: 65%; }\n",
       "    div#maintoolbar-container { width: 99%; }a\n",
       "</style>\n"
      ],
      "text/plain": [
       "<IPython.core.display.HTML object>"
      ]
     },
     "metadata": {},
     "output_type": "display_data"
    }
   ],
   "source": [
    "from IPython.display import display, HTML\n",
    "\n",
    "display(HTML(data=\"\"\"\n",
    "<style>\n",
    "    div#notebook-container    { width: 95%; }\n",
    "    div#menubar-container     { width: 65%; }\n",
    "    div#maintoolbar-container { width: 99%; }a\n",
    "</style>\n",
    "\"\"\"))"
   ]
  },
  {
   "cell_type": "code",
   "execution_count": 2,
   "metadata": {},
   "outputs": [
    {
     "name": "stdout",
     "output_type": "stream",
     "text": [
      "Requirement already satisfied: selenium in c:\\users\\hp\\anaconda3\\lib\\site-packages (4.16.0)\n",
      "Requirement already satisfied: urllib3[socks]<3,>=1.26 in c:\\users\\hp\\anaconda3\\lib\\site-packages (from selenium) (1.26.16)\n",
      "Requirement already satisfied: trio~=0.17 in c:\\users\\hp\\anaconda3\\lib\\site-packages (from selenium) (0.24.0)\n",
      "Requirement already satisfied: trio-websocket~=0.9 in c:\\users\\hp\\anaconda3\\lib\\site-packages (from selenium) (0.11.1)\n",
      "Requirement already satisfied: certifi>=2021.10.8 in c:\\users\\hp\\anaconda3\\lib\\site-packages (from selenium) (2023.11.17)\n",
      "Requirement already satisfied: attrs>=20.1.0 in c:\\users\\hp\\anaconda3\\lib\\site-packages (from trio~=0.17->selenium) (22.1.0)\n",
      "Requirement already satisfied: sortedcontainers in c:\\users\\hp\\anaconda3\\lib\\site-packages (from trio~=0.17->selenium) (2.4.0)\n",
      "Requirement already satisfied: idna in c:\\users\\hp\\anaconda3\\lib\\site-packages (from trio~=0.17->selenium) (3.4)\n",
      "Requirement already satisfied: outcome in c:\\users\\hp\\anaconda3\\lib\\site-packages (from trio~=0.17->selenium) (1.3.0.post0)\n",
      "Requirement already satisfied: sniffio>=1.3.0 in c:\\users\\hp\\anaconda3\\lib\\site-packages (from trio~=0.17->selenium) (1.3.0)\n",
      "Requirement already satisfied: cffi>=1.14 in c:\\users\\hp\\anaconda3\\lib\\site-packages (from trio~=0.17->selenium) (1.15.1)\n",
      "Requirement already satisfied: wsproto>=0.14 in c:\\users\\hp\\anaconda3\\lib\\site-packages (from trio-websocket~=0.9->selenium) (1.2.0)\n",
      "Requirement already satisfied: PySocks!=1.5.7,<2.0,>=1.5.6 in c:\\users\\hp\\anaconda3\\lib\\site-packages (from urllib3[socks]<3,>=1.26->selenium) (1.7.1)\n",
      "Requirement already satisfied: pycparser in c:\\users\\hp\\anaconda3\\lib\\site-packages (from cffi>=1.14->trio~=0.17->selenium) (2.21)\n",
      "Requirement already satisfied: h11<1,>=0.9.0 in c:\\users\\hp\\anaconda3\\lib\\site-packages (from wsproto>=0.14->trio-websocket~=0.9->selenium) (0.14.0)\n",
      "Requirement already satisfied: webdriver-manager in c:\\users\\hp\\anaconda3\\lib\\site-packages (4.0.1)\n",
      "Requirement already satisfied: requests in c:\\users\\hp\\anaconda3\\lib\\site-packages (from webdriver-manager) (2.31.0)\n",
      "Requirement already satisfied: python-dotenv in c:\\users\\hp\\anaconda3\\lib\\site-packages (from webdriver-manager) (0.21.0)\n",
      "Requirement already satisfied: packaging in c:\\users\\hp\\anaconda3\\lib\\site-packages (from webdriver-manager) (23.1)\n",
      "Requirement already satisfied: charset-normalizer<4,>=2 in c:\\users\\hp\\anaconda3\\lib\\site-packages (from requests->webdriver-manager) (2.0.4)\n",
      "Requirement already satisfied: idna<4,>=2.5 in c:\\users\\hp\\anaconda3\\lib\\site-packages (from requests->webdriver-manager) (3.4)\n",
      "Requirement already satisfied: urllib3<3,>=1.21.1 in c:\\users\\hp\\anaconda3\\lib\\site-packages (from requests->webdriver-manager) (1.26.16)\n",
      "Requirement already satisfied: certifi>=2017.4.17 in c:\\users\\hp\\anaconda3\\lib\\site-packages (from requests->webdriver-manager) (2023.11.17)\n"
     ]
    }
   ],
   "source": [
    "!pip install selenium\n",
    "!pip install webdriver-manager"
   ]
  },
  {
   "cell_type": "code",
   "execution_count": 3,
   "metadata": {},
   "outputs": [],
   "source": [
    "from selenium import webdriver\n",
    "from webdriver_manager.chrome import ChromeDriverManager\n",
    "from selenium.webdriver.support.ui import Select\n",
    "from selenium.webdriver.common.keys import Keys\n",
    "from selenium.webdriver.common.by import By\n",
    "from selenium.common.exceptions import NoSuchElementException\n",
    "from selenium.webdriver import ActionChains\n",
    "import re\n",
    "import os\n",
    "import time \n",
    "import pandas as pd"
   ]
  },
  {
   "cell_type": "code",
   "execution_count": 4,
   "metadata": {},
   "outputs": [],
   "source": [
    "# Setting up Chrome options for WebDriver\n",
    "chrome_options = webdriver.ChromeOptions()\n",
    "chrome_options.add_argument(\"executable_path=C:\\\\Users\\\\HP\\\\Documents\\\\tareas\\\\chromedriver-win64\\\\chromedriver.exe\")\n",
    "\n",
    "# Initializing the WebDriver with configured options\n",
    "driver = webdriver.Chrome(options=chrome_options)\n",
    "\n",
    "# Maximizing the browser window and zoom\n",
    "driver.maximize_window()\n",
    "driver.execute_script(\"document.body.style.zoom='100%'\")\n",
    "\n",
    "# Base URL for the web scraping\n",
    "url_base = \"https://infogob.jne.gob.pe/Eleccion\"\n",
    "\n",
    "# Lists to store Election Years and DataFrames\n",
    "eleccion_year_list = []\n",
    "dataframes_list = []\n",
    "\n",
    "# Looping through election years. LISTO\n",
    "for div in range(2, 27):\n",
    "    \n",
    "    # Opening the base URL in the WebDriver\n",
    "    driver.get(url_base)\n",
    "        # Interacting with dropdowns and elements to navigate to the desired election\n",
    "    dropdown_paths_1 = [\n",
    "        '/html/body/div[1]/section/div[2]/div[2]/div[2]/div[1]/div',\n",
    "        '/html/body/div[1]/section/div[2]/div[2]/div[2]/div[1]/div/div[2]/div[2]',\n",
    "        '/html/body/div[1]/section/div[2]/div[2]/div[2]/div[2]/div'\n",
    "         ]\n",
    "    for path_1 in dropdown_paths_1:\n",
    "        driver.find_element(By.XPATH, path_1).click()\n",
    "        time.sleep(1)\n",
    "\n",
    "    # Constructing XPath to locate the specific election element based on the loop variable 'div'\n",
    "    # The format function inserts the current value of 'div' into the XPath\n",
    "    election_xpath = '/html/body/div[1]/section/div[2]/div[2]/div[2]/div[2]/div/div[2]/div[{}]'.format(div)    \n",
    "    driver.find_element(By.XPATH, election_xpath).click()\n",
    "\n",
    "    # Getting the election year and adding it to the list\n",
    "    eleccion_year = driver.find_element(By.XPATH, election_xpath).text\n",
    "    eleccion_year_list.append(eleccion_year)\n",
    "\n",
    "    time.sleep(1)\n",
    "    \n",
    "    # Interacting with 'Ver datos de la elección' and 'Candidatos y resultados'\n",
    "    dropdown_paths_2 = [\n",
    "        '/html/body/div[1]/section/div[2]/div[2]/div[3]/div/button',\n",
    "        '/html/body/div[1]/section/div[2]/div[3]/div[1]/ul/li[2]/a'\n",
    "    ]\n",
    "    for path_2 in dropdown_paths_2:\n",
    "        \n",
    "        driver.find_element(By.XPATH, path_2).click()\n",
    "        time.sleep(2)\n",
    "    \n",
    "    # Getting the HTML of the election results table\n",
    "    table_path = driver.find_element(By.ID,'gridEleccionResultadosElectorales')\n",
    "    table_html = table_path.get_attribute( 'innerHTML' )\n",
    "    \n",
    "    # Getting the table directly using Pandas\n",
    "    df = pd.read_html(table_path.get_attribute('outerHTML'))[0]\n",
    "\n",
    "    # We create a new DataFrame and insert the list that we obtained previously \n",
    "    # We place it at the beginning [0] and with a new name    \n",
    "    df_cleaned = df.iloc[:, :].copy()\n",
    "    df_cleaned.insert(0, 'Elecciones', eleccion_year)\n",
    "\n",
    "    # Storing the DataFrame in the list\n",
    "    dataframes_list.append(df_cleaned)\n",
    "    \n",
    "# Concatenating all the DataFrames into one, removing the columns we don't want\n",
    "final_df = pd.concat(dataframes_list, ignore_index=True)\n",
    "columns_to_drop = ['SÍMBOLO', 'PLAN DE GOBIERNO', 'PORCENTAJE DE VOTOS VÁLIDOS', 'LISTA DE CANDIDATOS']\n",
    "final_df = final_df.drop(columns=columns_to_drop, errors='ignore')\n",
    "\n",
    "# Quitting the WebDriver at the end\n",
    "driver.quit()\n",
    "\n",
    "# Displaying the final DataFrame\n",
    "final_df\n",
    "\n",
    "# Saving the DataFrame to an Excel file\n",
    "excel_file_path = r'C:\\Users\\HP\\Documents\\GitHub\\QLAB_Summer_Python\\assignments\\assignment_5\\group_6_ass_5_2024.xlsx'\n",
    "final_df.to_excel(excel_file_path, index=False)\n"
   ]
  }
 ],
 "metadata": {
  "hide_input": false,
  "kernelspec": {
   "display_name": "Python 3 (ipykernel)",
   "language": "python",
   "name": "python3"
  },
  "language_info": {
   "codemirror_mode": {
    "name": "ipython",
    "version": 3
   },
   "file_extension": ".py",
   "mimetype": "text/x-python",
   "name": "python",
   "nbconvert_exporter": "python",
   "pygments_lexer": "ipython3",
   "version": "3.11.5"
  },
  "toc": {
   "base_numbering": 1,
   "nav_menu": {},
   "number_sections": true,
   "sideBar": true,
   "skip_h1_title": false,
   "title_cell": "Table of Contents",
   "title_sidebar": "Contents",
   "toc_cell": false,
   "toc_position": {},
   "toc_section_display": true,
   "toc_window_display": false
  }
 },
 "nbformat": 4,
 "nbformat_minor": 4
}

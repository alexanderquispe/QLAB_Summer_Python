{
 "cells": [
  {
   "cell_type": "markdown",
   "metadata": {},
   "source": [
    "#### Angie"
   ]
  },
  {
   "cell_type": "code",
   "execution_count": 1,
   "metadata": {},
   "outputs": [
    {
     "data": {
      "text/html": [
       "\n",
       "<style>\n",
       "    div#notebook-container    { width: 95%; }\n",
       "    div#menubar-container     { width: 65%; }\n",
       "    div#maintoolbar-container { width: 99%; }a\n",
       "</style>\n"
      ],
      "text/plain": [
       "<IPython.core.display.HTML object>"
      ]
     },
     "metadata": {},
     "output_type": "display_data"
    }
   ],
   "source": [
    "from IPython.display import display, HTML\n",
    "\n",
    "display(HTML(data=\"\"\"\n",
    "<style>\n",
    "    div#notebook-container    { width: 95%; }\n",
    "    div#menubar-container     { width: 65%; }\n",
    "    div#maintoolbar-container { width: 99%; }a\n",
    "</style>\n",
    "\"\"\"))"
   ]
  },
  {
   "cell_type": "code",
   "execution_count": 2,
   "metadata": {},
   "outputs": [
    {
     "name": "stdout",
     "output_type": "stream",
     "text": [
      "Requirement already satisfied: selenium in c:\\users\\a_aba\\appdata\\roaming\\python\\python311\\site-packages (4.16.0)\n",
      "Requirement already satisfied: urllib3[socks]<3,>=1.26 in c:\\users\\a_aba\\appdata\\local\\programs\\python\\python311\\lib\\site-packages (from selenium) (2.1.0)\n",
      "Requirement already satisfied: trio~=0.17 in c:\\users\\a_aba\\appdata\\roaming\\python\\python311\\site-packages (from selenium) (0.24.0)\n",
      "Requirement already satisfied: trio-websocket~=0.9 in c:\\users\\a_aba\\appdata\\roaming\\python\\python311\\site-packages (from selenium) (0.11.1)\n",
      "Requirement already satisfied: certifi>=2021.10.8 in c:\\users\\a_aba\\appdata\\local\\programs\\python\\python311\\lib\\site-packages (from selenium) (2023.11.17)\n",
      "Requirement already satisfied: attrs>=20.1.0 in c:\\users\\a_aba\\appdata\\local\\programs\\python\\python311\\lib\\site-packages (from trio~=0.17->selenium) (23.2.0)\n",
      "Requirement already satisfied: sortedcontainers in c:\\users\\a_aba\\appdata\\local\\programs\\python\\python311\\lib\\site-packages (from trio~=0.17->selenium) (2.4.0)\n",
      "Requirement already satisfied: idna in c:\\users\\a_aba\\appdata\\local\\programs\\python\\python311\\lib\\site-packages (from trio~=0.17->selenium) (3.6)\n",
      "Requirement already satisfied: outcome in c:\\users\\a_aba\\appdata\\roaming\\python\\python311\\site-packages (from trio~=0.17->selenium) (1.3.0.post0)\n",
      "Requirement already satisfied: sniffio>=1.3.0 in c:\\users\\a_aba\\appdata\\roaming\\python\\python311\\site-packages (from trio~=0.17->selenium) (1.3.0)\n",
      "Requirement already satisfied: cffi>=1.14 in c:\\users\\a_aba\\appdata\\local\\programs\\python\\python311\\lib\\site-packages (from trio~=0.17->selenium) (1.16.0)\n",
      "Requirement already satisfied: wsproto>=0.14 in c:\\users\\a_aba\\appdata\\roaming\\python\\python311\\site-packages (from trio-websocket~=0.9->selenium) (1.2.0)\n",
      "Requirement already satisfied: pysocks!=1.5.7,<2.0,>=1.5.6 in c:\\users\\a_aba\\appdata\\local\\programs\\python\\python311\\lib\\site-packages (from urllib3[socks]<3,>=1.26->selenium) (1.7.1)\n",
      "Requirement already satisfied: pycparser in c:\\users\\a_aba\\appdata\\local\\programs\\python\\python311\\lib\\site-packages (from cffi>=1.14->trio~=0.17->selenium) (2.21)\n",
      "Requirement already satisfied: h11<1,>=0.9.0 in c:\\users\\a_aba\\appdata\\roaming\\python\\python311\\site-packages (from wsproto>=0.14->trio-websocket~=0.9->selenium) (0.14.0)\n"
     ]
    },
    {
     "name": "stderr",
     "output_type": "stream",
     "text": [
      "\n",
      "[notice] A new release of pip available: 22.3.1 -> 23.3.2\n",
      "[notice] To update, run: python.exe -m pip install --upgrade pip\n"
     ]
    },
    {
     "name": "stdout",
     "output_type": "stream",
     "text": [
      "Requirement already satisfied: webdriver_manager in c:\\users\\a_aba\\appdata\\local\\programs\\python\\python311\\lib\\site-packages (4.0.1)"
     ]
    },
    {
     "name": "stderr",
     "output_type": "stream",
     "text": [
      "\n",
      "[notice] A new release of pip available: 22.3.1 -> 23.3.2\n",
      "[notice] To update, run: python.exe -m pip install --upgrade pip\n"
     ]
    },
    {
     "name": "stdout",
     "output_type": "stream",
     "text": [
      "\n",
      "Requirement already satisfied: requests in c:\\users\\a_aba\\appdata\\local\\programs\\python\\python311\\lib\\site-packages (from webdriver_manager) (2.31.0)\n",
      "Requirement already satisfied: python-dotenv in c:\\users\\a_aba\\appdata\\local\\programs\\python\\python311\\lib\\site-packages (from webdriver_manager) (1.0.0)\n",
      "Requirement already satisfied: packaging in c:\\users\\a_aba\\appdata\\roaming\\python\\python311\\site-packages (from webdriver_manager) (23.2)\n",
      "Requirement already satisfied: charset-normalizer<4,>=2 in c:\\users\\a_aba\\appdata\\local\\programs\\python\\python311\\lib\\site-packages (from requests->webdriver_manager) (3.3.2)\n",
      "Requirement already satisfied: idna<4,>=2.5 in c:\\users\\a_aba\\appdata\\local\\programs\\python\\python311\\lib\\site-packages (from requests->webdriver_manager) (3.6)\n",
      "Requirement already satisfied: urllib3<3,>=1.21.1 in c:\\users\\a_aba\\appdata\\local\\programs\\python\\python311\\lib\\site-packages (from requests->webdriver_manager) (2.1.0)\n",
      "Requirement already satisfied: certifi>=2017.4.17 in c:\\users\\a_aba\\appdata\\local\\programs\\python\\python311\\lib\\site-packages (from requests->webdriver_manager) (2023.11.17)\n"
     ]
    }
   ],
   "source": [
    "!pip install selenium\n",
    "!pip install webdriver_manager"
   ]
  },
  {
   "cell_type": "code",
   "execution_count": 2,
   "metadata": {},
   "outputs": [],
   "source": [
    "# this library is to manipulate browser\n",
    "from selenium import webdriver\n",
    "\n",
    "# it allows you to work with differen versions of drivers\n",
    "# We call ChromeDriver\n",
    "from webdriver_manager.chrome import ChromeDriverManager\n",
    "from selenium.webdriver.support.ui import Select\n",
    "import re\n",
    "import time \n",
    "import pandas as pd\n",
    "from selenium.webdriver.common.by import By"
   ]
  },
  {
   "cell_type": "code",
   "execution_count": 3,
   "metadata": {},
   "outputs": [],
   "source": [
    "driver = webdriver.Chrome()\n",
    "driver.maximize_window()\n",
    "driver.execute_script(\"document.body.style.zoom='100%'\")\n",
    "\n",
    "url = 'https://infogob.jne.gob.pe/Eleccion'\n",
    "driver.get(url)"
   ]
  },
  {
   "cell_type": "code",
   "execution_count": 4,
   "metadata": {},
   "outputs": [],
   "source": [
    "#All the elements for the loop and some examples. \n",
    "selection = driver.find_element(By.XPATH,'/html/body/div[1]/section/div[2]/div[2]/div[2]/div[1]/div')\n",
    "selection.click()"
   ]
  },
  {
   "cell_type": "code",
   "execution_count": 5,
   "metadata": {},
   "outputs": [],
   "source": [
    "presidential_elections = driver.find_element(By.XPATH,'/html/body/div[1]/section/div[2]/div[2]/div[2]/div[1]/div/div[2]/div[2]')\n",
    "presidential_elections.click()"
   ]
  },
  {
   "cell_type": "code",
   "execution_count": 6,
   "metadata": {},
   "outputs": [],
   "source": [
    "selection_2 = driver.find_element(By.XPATH,'/html/body/div[1]/section/div[2]/div[2]/div[2]/div[2]/div')\n",
    "selection_2.click()"
   ]
  },
  {
   "cell_type": "code",
   "execution_count": 7,
   "metadata": {},
   "outputs": [],
   "source": [
    "elections_2021 = driver.find_element(By.XPATH,'/html/body/div[1]/section/div[2]/div[2]/div[2]/div[2]/div/div[2]/div[2]')\n",
    "elections_2021.click()"
   ]
  },
  {
   "cell_type": "code",
   "execution_count": 8,
   "metadata": {},
   "outputs": [],
   "source": [
    "see_data = driver.find_element(By.XPATH,'/html/body/div[1]/section/div[2]/div[2]/div[3]/div/button/span')\n",
    "see_data.click()"
   ]
  },
  {
   "cell_type": "code",
   "execution_count": 9,
   "metadata": {},
   "outputs": [],
   "source": [
    "candidates_results = driver.find_element(By.XPATH,'/html/body/div[1]/section/div[2]/div[3]/div[1]/ul/li[2]/a')\n",
    "candidates_results.click()"
   ]
  },
  {
   "cell_type": "markdown",
   "metadata": {},
   "source": [
    "#### Marilia"
   ]
  },
  {
   "cell_type": "code",
   "execution_count": 10,
   "metadata": {},
   "outputs": [],
   "source": [
    "# Steps the loop will follow:\n",
    "# 1. Initialize the web scraper using Selenium and configure the Chrome browser.\n",
    "# 2. Iterate through a series of elections (numbers 2 to 26).\n",
    "# 3. For each election, navigate to the corresponding page, extract the name, and access the results.\n",
    "# 4. Process the HTML results table, clean it, and select the relevant columns as required by the task.\n",
    "# 5. Append the cleaned data to a list, and finally, concatenate them into a DataFrame saved in an Excel file.\n",
    "# 6. Close the browser upon completing the scraping process.\n"
   ]
  },
  {
   "cell_type": "code",
   "execution_count": 11,
   "metadata": {},
   "outputs": [],
   "source": [
    "# Store all_tables\n",
    "all_tables = {}\n"
   ]
  },
  {
   "cell_type": "code",
   "execution_count": 12,
   "metadata": {},
   "outputs": [],
   "source": [
    "#Bucle step by step:\n",
    "\n",
    "# Define a function to fetch election results table\n",
    "def get_election_table(driver, number):\n",
    "    # Open the election results webpage\n",
    "    driver.get(url)\n",
    "    \n",
    "    # Select the first option select\n",
    "    selection_1 = driver.find_element(By.XPATH,'/html/body/div[1]/section/div[2]/div[2]/div[2]/div[1]/div')\n",
    "    selection_1.click()\n",
    "    time.sleep(1)\n",
    "    \n",
    "    # Select the \"Presidential Elections\" option\n",
    "    presidential_elections = driver.find_element(By.XPATH,'/html/body/div[1]/section/div[2]/div[2]/div[2]/div[1]/div/div[2]/div[2]')\n",
    "    presidential_elections.click()\n",
    "    time.sleep(1)\n",
    "\n",
    "    # Select the second option select\n",
    "    selection_2 = driver.find_element(By.XPATH,'/html/body/div[1]/section/div[2]/div[2]/div[2]/div[2]/div')\n",
    "    selection_2.click()\n",
    "    time.sleep(1)\n",
    "\n",
    "    # Select the specific election option\n",
    "    election_options = driver.find_element(By.XPATH,'/html/body/div[1]/section/div[2]/div[2]/div[2]/div[2]/div/div[2]/div[{}]'.format(number))\n",
    "    election_options.click()\n",
    "    election_name = election_options.text\n",
    "    time.sleep(1)\n",
    "\n",
    "    # Click the \"See Data\" button\n",
    "    see_data = driver.find_element(By.XPATH,'/html/body/div[1]/section/div[2]/div[2]/div[3]/div/button')\n",
    "    see_data.click()\n",
    "    time.sleep(2)\n",
    "\n",
    "    # Go to the \"Candidates Results\" section\n",
    "    candidates_results = driver.find_element(By.XPATH,'/html/body/div[1]/section/div[2]/div[3]/div[1]/ul/li[2]/a')\n",
    "    candidates_results.click()\n",
    "    time.sleep(1)\n",
    "\n",
    "    # Extract the HTML content of the election results table\n",
    "    table_ID_cleaned = driver.find_element(By.ID,'gridEleccionResultadosElectorales')\n",
    "    table_html = table_ID_cleaned.get_attribute('innerHTML')\n",
    "\n",
    "    # Clean the HTML content to make it compatible with pandas\n",
    "    table_head = \"<table id=\\\"gridEleccionResultadosElectorales\\\" class=\\\"table table-hover table-striped\\\">\"\n",
    "    cleaned_table = table_head + table_html[21:-1]\n",
    "\n",
    "    # Read the HTML table into a DataFrame\n",
    "    table = pd.read_html(cleaned_table)\n",
    "    \n",
    "    # Juan Diego Linares\n",
    "    # Lastly, as it is stated in the task, we have to create a new colum called \"elecciones\" and we also have to get only the colums \"Organización Política\" and \"Total Votos\"\n",
    "    # With this, we will get the requested table.\n",
    "    cleaned_table = table[0].iloc[:, : ]\n",
    "    cleaned_table = cleaned_table.loc[:, ['ORGANIZACIÓN POLÍTICA', 'TOTAL VOTOS']]\n",
    "    cleaned_table.insert(0, 'Elecciones', election_name)\n",
    "\n",
    "    return cleaned_table"
   ]
  },
  {
   "cell_type": "code",
   "execution_count": 14,
   "metadata": {},
   "outputs": [
    {
     "data": {
      "text/html": [
       "<div>\n",
       "<style scoped>\n",
       "    .dataframe tbody tr th:only-of-type {\n",
       "        vertical-align: middle;\n",
       "    }\n",
       "\n",
       "    .dataframe tbody tr th {\n",
       "        vertical-align: top;\n",
       "    }\n",
       "\n",
       "    .dataframe thead th {\n",
       "        text-align: right;\n",
       "    }\n",
       "</style>\n",
       "<table border=\"1\" class=\"dataframe\">\n",
       "  <thead>\n",
       "    <tr style=\"text-align: right;\">\n",
       "      <th></th>\n",
       "      <th>Elecciones</th>\n",
       "      <th>ORGANIZACIÓN POLÍTICA</th>\n",
       "      <th>TOTAL VOTOS</th>\n",
       "    </tr>\n",
       "  </thead>\n",
       "  <tbody>\n",
       "    <tr>\n",
       "      <th>0</th>\n",
       "      <td>PRESIDENCIAL 2021 - 2DA VUELTA</td>\n",
       "      <td>PARTIDO POLITICO NACIONAL PERU LIBRE</td>\n",
       "      <td>8836380</td>\n",
       "    </tr>\n",
       "    <tr>\n",
       "      <th>1</th>\n",
       "      <td>PRESIDENCIAL 2021 - 2DA VUELTA</td>\n",
       "      <td>FUERZA POPULAR</td>\n",
       "      <td>8792117</td>\n",
       "    </tr>\n",
       "    <tr>\n",
       "      <th>2</th>\n",
       "      <td>PRESIDENCIAL 2021 - 2DA VUELTA</td>\n",
       "      <td>VOTOS EN BLANCO</td>\n",
       "      <td>121489</td>\n",
       "    </tr>\n",
       "    <tr>\n",
       "      <th>3</th>\n",
       "      <td>PRESIDENCIAL 2021 - 2DA VUELTA</td>\n",
       "      <td>VOTOS NULOS</td>\n",
       "      <td>1106816</td>\n",
       "    </tr>\n",
       "    <tr>\n",
       "      <th>4</th>\n",
       "      <td>PRESIDENCIAL 2021</td>\n",
       "      <td>PARTIDO POLITICO NACIONAL PERU LIBRE</td>\n",
       "      <td>2724752</td>\n",
       "    </tr>\n",
       "    <tr>\n",
       "      <th>...</th>\n",
       "      <td>...</td>\n",
       "      <td>...</td>\n",
       "      <td>...</td>\n",
       "    </tr>\n",
       "    <tr>\n",
       "      <th>152</th>\n",
       "      <td>PRESIDENCIAL 1936</td>\n",
       "      <td>PARTIDO REPUBLICANO</td>\n",
       "      <td>30803</td>\n",
       "    </tr>\n",
       "    <tr>\n",
       "      <th>153</th>\n",
       "      <td>PRESIDENCIAL 1931</td>\n",
       "      <td>UNION REVOLUCIONARIA</td>\n",
       "      <td>152149</td>\n",
       "    </tr>\n",
       "    <tr>\n",
       "      <th>154</th>\n",
       "      <td>PRESIDENCIAL 1931</td>\n",
       "      <td>PARTIDO APRISTA PERUANO</td>\n",
       "      <td>106088</td>\n",
       "    </tr>\n",
       "    <tr>\n",
       "      <th>155</th>\n",
       "      <td>PRESIDENCIAL 1931</td>\n",
       "      <td>PARTIDO DESCENTRALISTA</td>\n",
       "      <td>21950</td>\n",
       "    </tr>\n",
       "    <tr>\n",
       "      <th>156</th>\n",
       "      <td>PRESIDENCIAL 1931</td>\n",
       "      <td>PARTIDO COALICION NACIONAL</td>\n",
       "      <td>19640</td>\n",
       "    </tr>\n",
       "  </tbody>\n",
       "</table>\n",
       "<p>157 rows × 3 columns</p>\n",
       "</div>"
      ],
      "text/plain": [
       "                         Elecciones                 ORGANIZACIÓN POLÍTICA  \\\n",
       "0    PRESIDENCIAL 2021 - 2DA VUELTA  PARTIDO POLITICO NACIONAL PERU LIBRE   \n",
       "1    PRESIDENCIAL 2021 - 2DA VUELTA                        FUERZA POPULAR   \n",
       "2    PRESIDENCIAL 2021 - 2DA VUELTA                       VOTOS EN BLANCO   \n",
       "3    PRESIDENCIAL 2021 - 2DA VUELTA                           VOTOS NULOS   \n",
       "4                 PRESIDENCIAL 2021  PARTIDO POLITICO NACIONAL PERU LIBRE   \n",
       "..                              ...                                   ...   \n",
       "152               PRESIDENCIAL 1936                   PARTIDO REPUBLICANO   \n",
       "153               PRESIDENCIAL 1931                  UNION REVOLUCIONARIA   \n",
       "154               PRESIDENCIAL 1931               PARTIDO APRISTA PERUANO   \n",
       "155               PRESIDENCIAL 1931                PARTIDO DESCENTRALISTA   \n",
       "156               PRESIDENCIAL 1931            PARTIDO COALICION NACIONAL   \n",
       "\n",
       "     TOTAL VOTOS  \n",
       "0        8836380  \n",
       "1        8792117  \n",
       "2         121489  \n",
       "3        1106816  \n",
       "4        2724752  \n",
       "..           ...  \n",
       "152        30803  \n",
       "153       152149  \n",
       "154       106088  \n",
       "155        21950  \n",
       "156        19640  \n",
       "\n",
       "[157 rows x 3 columns]"
      ]
     },
     "execution_count": 14,
     "metadata": {},
     "output_type": "execute_result"
    }
   ],
   "source": [
    "# Juan Diego Linares\n",
    "#Preparing the bucle using the function previously defined.\n",
    "\n",
    "# First we configure the driver and the URL where we want to get the tables from.\n",
    "driver = webdriver.Chrome()\n",
    "driver.maximize_window()\n",
    "url = 'https://infogob.jne.gob.pe/Eleccion'\n",
    "\n",
    "# Now we create a list where we want to store individual DataFrames\n",
    "\n",
    "dataframes_elections = []\n",
    "\n",
    "# Giordano Medina Montes\n",
    "\n",
    "# We loop through to all the multiple elections ( we have 26 options in total inside of the section \"Elección\"). This will iterate trough all of them with the objective of recolecting all the tables.\n",
    "for number in range(2, 27):\n",
    "    election_table = get_election_table(driver, number)\n",
    "    dataframes_elections.append(election_table)\n",
    "\n",
    "# Finally, we join all the tables into one dataframe. Next, we will present the joined table and the route to export  it as an excel file.\n",
    "\n",
    "# We concatenate all the DataFrames into a single one as we was stated.\n",
    "final_dataframe = pd.concat(dataframes_elections, ignore_index=True)\n",
    "\n",
    "# Now we can save the final DataFrame as an Excel file and as an example, we will use the next direction, but it can be changed.\n",
    "\n",
    "save_path = r'group_5_ass_5_2024.xlsx'\n",
    "final_dataframe.to_excel(save_path, index=False)\n",
    "\n",
    "# Lastly, we close the driver when the webscrapping process is finished and we will print the dataframe to see what we have got.\n",
    "# As we can see, we got what was asked and now we\n",
    "driver.quit()\n",
    "\n",
    "final_dataframe\n",
    "\n"
   ]
  },
  {
   "cell_type": "code",
   "execution_count": null,
   "metadata": {},
   "outputs": [],
   "source": []
  }
 ],
 "metadata": {
  "kernelspec": {
   "display_name": "Python 3 (ipykernel)",
   "language": "python",
   "name": "python3"
  },
  "language_info": {
   "codemirror_mode": {
    "name": "ipython",
    "version": 3
   },
   "file_extension": ".py",
   "mimetype": "text/x-python",
   "name": "python",
   "nbconvert_exporter": "python",
   "pygments_lexer": "ipython3",
   "version": "3.11.4"
  }
 },
 "nbformat": 4,
 "nbformat_minor": 2
}

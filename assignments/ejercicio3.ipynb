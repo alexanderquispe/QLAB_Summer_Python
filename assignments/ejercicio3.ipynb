{
 "cells": [
  {
   "cell_type": "code",
   "execution_count": 12,
   "id": "377f2a50",
   "metadata": {},
   "outputs": [],
   "source": [
    "#3.1\n",
    "str1 = 'I am                            too                                                        old'\n",
    "s= \" \""
   ]
  },
  {
   "cell_type": "code",
   "execution_count": 13,
   "id": "f7653b44",
   "metadata": {},
   "outputs": [
    {
     "data": {
      "text/plain": [
       "['I', 'am', 'too', 'old']"
      ]
     },
     "execution_count": 13,
     "metadata": {},
     "output_type": "execute_result"
    }
   ],
   "source": [
    "str1.split()"
   ]
  },
  {
   "cell_type": "code",
   "execution_count": 15,
   "id": "5a1ccba6",
   "metadata": {},
   "outputs": [
    {
     "data": {
      "text/plain": [
       "'I am too old'"
      ]
     },
     "execution_count": 15,
     "metadata": {},
     "output_type": "execute_result"
    }
   ],
   "source": [
    "# en primer lugar se usa la función split para separar cada item del string \n",
    "# ñuego se usa la funcion join para unir todos los elementos separados y se procede a definir el separador espacio en blanco \" \"\n",
    "s.join(str1.split() )\n"
   ]
  },
  {
   "cell_type": "code",
   "execution_count": 21,
   "id": "d38ec8c4",
   "metadata": {},
   "outputs": [
    {
     "data": {
      "text/plain": [
       "12"
      ]
     },
     "execution_count": 21,
     "metadata": {},
     "output_type": "execute_result"
    }
   ],
   "source": [
    "#3.2. se usa la función y se inserta como argumento todo lo anterior para que se cuente solo las palabras\n",
    "len(s.join(str1.split() ))"
   ]
  },
  {
   "cell_type": "code",
   "execution_count": 35,
   "id": "ec6700cd",
   "metadata": {},
   "outputs": [
    {
     "data": {
      "text/plain": [
       "94"
      ]
     },
     "execution_count": 35,
     "metadata": {},
     "output_type": "execute_result"
    }
   ],
   "source": [
    "#3.3 count the blank spaces: se usa el conteo de todos los items que contiene str1 y se resta con el numero de letras que tiene\n",
    "# de ese modo se obtendrá el numero de espacios en blanco\n",
    "len(str1)-len(s.join(str1.split() ))"
   ]
  },
  {
   "cell_type": "code",
   "execution_count": 43,
   "id": "8deee180",
   "metadata": {},
   "outputs": [],
   "source": [
    "emails = [\"cscornejo@pucp.edu.pe\", \"orellana.cn@pucp.edu.pe\", \"karina.morales@pucp.edu.pe\", \"a20083223@pucp.pe\", \"abel.camacho@pucp.pe\", \"mtintaya@pucp.edu.pe\"]\n",
    "s = \"@\""
   ]
  },
  {
   "cell_type": "code",
   "execution_count": 53,
   "id": "21a68b83",
   "metadata": {},
   "outputs": [
    {
     "ename": "SyntaxError",
     "evalue": "invalid syntax (42969714.py, line 2)",
     "output_type": "error",
     "traceback": [
      "\u001b[1;36m  File \u001b[1;32m\"C:\\Users\\Windows\\AppData\\Local\\Temp\\ipykernel_5636\\42969714.py\"\u001b[1;36m, line \u001b[1;32m2\u001b[0m\n\u001b[1;33m    join.(emails)\u001b[0m\n\u001b[1;37m         ^\u001b[0m\n\u001b[1;31mSyntaxError\u001b[0m\u001b[1;31m:\u001b[0m invalid syntax\n"
     ]
    }
   ],
   "source": [
    "#3.4. \n",
    "join.(emails)\n",
    "s.find(emails)\n",
    "map(s.find(emails),emails)\n"
   ]
  },
  {
   "cell_type": "code",
   "execution_count": null,
   "id": "d2277f75",
   "metadata": {},
   "outputs": [],
   "source": [
    "#3.5 "
   ]
  }
 ],
 "metadata": {
  "kernelspec": {
   "display_name": "Python 3 (ipykernel)",
   "language": "python",
   "name": "python3"
  },
  "language_info": {
   "codemirror_mode": {
    "name": "ipython",
    "version": 3
   },
   "file_extension": ".py",
   "mimetype": "text/x-python",
   "name": "python",
   "nbconvert_exporter": "python",
   "pygments_lexer": "ipython3",
   "version": "3.9.13"
  }
 },
 "nbformat": 4,
 "nbformat_minor": 5
}

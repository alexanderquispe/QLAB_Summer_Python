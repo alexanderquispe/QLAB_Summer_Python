{
 "cells": [
  {
   "cell_type": "markdown",
   "metadata": {},
   "source": [
    "# 1 Assignment\n",
    "\n",
    "It is totally prohibited to use any kind of loop. You can use stackoverflow. If you copy codes from previous answers, explain each step. No explanation is `0 points`."
   ]
  },
  {
   "cell_type": "markdown",
   "metadata": {},
   "source": [
    "## 1.1 Tuple\n",
    "\n",
    "\n",
    "\n",
    "1. Print the first item of the second item of `tuple1` object. **Hint: Use indexing**<br><br>\n",
    "2. Print the last item of the `tuple1` object.**Hint: Use indexing**<br><br>\n",
    "3. Change the value \"orange\" for \"pink grapefruit\". Comment the output. **Hint: Is it possible?** <br><br>\n",
    "4. Print the length of `tuple1`. **Hint: Length function**<br><br>\n",
    "5. Sum all the elements of tuple2 and describe your steps and explain each of them. **Hint: Use `map` function.**<br><br>\n",
    "6. Generate a new tuple object named as `tuple3` with the half values of `tuple2`. This tuple should be similar as `tuple2`, tuple of lists.  **Hint: Use `map` funciont.**<br><br>"
   ]
  },
  {
   "cell_type": "code",
   "execution_count": 12,
   "metadata": {},
   "outputs": [
    {
     "name": "stdout",
     "output_type": "stream",
     "text": [
      "('Orange', [10, 20, 30], (5, 15, 25))\n"
     ]
    },
    {
     "data": {
      "text/plain": [
       "[10, 20, 30]"
      ]
     },
     "execution_count": 12,
     "metadata": {},
     "output_type": "execute_result"
    }
   ],
   "source": [
    "tuple1 = (\"Orange\", [10, 20, 30], (5, 15, 25))\n",
    "tuple2 = ([7, 8], [9, 1], [10, 7])\n",
    "# Answer question 1\n",
    "print(tuple1)\n",
    "tuple1[1]  #in this ocassion We use [1] because call second element of tuple 1: This is the first item of the second item of tuple 1\n"
   ]
  },
  {
   "cell_type": "code",
   "execution_count": 14,
   "metadata": {},
   "outputs": [
    {
     "name": "stdout",
     "output_type": "stream",
     "text": [
      "('Orange', [10, 20, 30], (5, 15, 25))\n"
     ]
    },
    {
     "data": {
      "text/plain": [
       "(5, 15, 25)"
      ]
     },
     "execution_count": 14,
     "metadata": {},
     "output_type": "execute_result"
    }
   ],
   "source": [
    "tuple1 = (\"Orange\", [10, 20, 30], (5, 15, 25))\n",
    "tuple2 = ([7, 8], [9, 1], [10, 7])\n",
    "#Answer question 2\n",
    "print(tuple1)\n",
    "tuple1[-1]  #In this ocassion We use [-1] because call last item of the tuple1."
   ]
  },
  {
   "cell_type": "code",
   "execution_count": 115,
   "metadata": {},
   "outputs": [
    {
     "name": "stdout",
     "output_type": "stream",
     "text": [
      "('pink grapefruit', [10, 20, 30], [5, 15, 25])\n"
     ]
    }
   ],
   "source": [
    "tuple1 = (\"Orange\", [10, 20, 30], (5, 15, 25)) #original Tuple1\n",
    "#Answer question 3\n",
    "# For definition about Tuples it's an ordered and unchangeable. So, We cannot change, add or remove items after the tuple has been created.\n",
    "#However we can change string for another string. \n",
    "tuple1 =(\"pink grapefruit\", [10, 20, 30], [5, 15, 25])\n",
    "print(tuple1)"
   ]
  },
  {
   "cell_type": "code",
   "execution_count": 23,
   "metadata": {},
   "outputs": [
    {
     "data": {
      "text/plain": [
       "3"
      ]
     },
     "execution_count": 23,
     "metadata": {},
     "output_type": "execute_result"
    }
   ],
   "source": [
    "tuple1 = (\"Orange\", [10, 20, 30], (5, 15, 25))\n",
    "#Answer question 4\n",
    "len(tuple1)  #We use len fuction to call length tuple1 \n"
   ]
  },
  {
   "cell_type": "code",
   "execution_count": 93,
   "metadata": {},
   "outputs": [
    {
     "name": "stdout",
     "output_type": "stream",
     "text": [
      "(15, 10, 17)\n",
      "42\n"
     ]
    }
   ],
   "source": [
    "tuple2 = ([7, 8], [9, 1], [10, 7])\n",
    "#Answer question 5\n",
    "result_tuple = tuple(map(sum, tuple2))   #Step 1: We create a new variable called \"result_tuple\". Then, we use tuple and add map fuction to applied sum from tuple2\n",
    "print(result_tuple)                      #Step 2: We use print to know if our code is correct.\n",
    "final_sum = sum(result_tuple)            #Step 3: Finally, we create a new variable called \"final sum\". In this variable add the final result about before code. We think sum all elements from tuple2.\n",
    "print(final_sum)                         #Step 4: We use print to show final result about sum all elemets from original tuple2.\n",
    "\n",
    "\n",
    "\n"
   ]
  },
  {
   "cell_type": "code",
   "execution_count": 116,
   "metadata": {},
   "outputs": [
    {
     "name": "stdout",
     "output_type": "stream",
     "text": [
      "([3.5, 4.0], [4.5, 0.5], [5.0, 3.5])\n"
     ]
    }
   ],
   "source": [
    "tuple2 = ([7, 8], [9, 1], [10, 7])\n",
    "# Answer question 6 \n",
    "tuple3 = tuple(map(lambda sublist: [x / 2 for x in sublist], tuple2))\n",
    "print(tuple3)\n"
   ]
  }
 ],
 "metadata": {
  "hide_input": false,
  "kernelspec": {
   "display_name": "Python 3",
   "language": "python",
   "name": "python3"
  },
  "language_info": {
   "codemirror_mode": {
    "name": "ipython",
    "version": 3
   },
   "file_extension": ".py",
   "mimetype": "text/x-python",
   "name": "python",
   "nbconvert_exporter": "python",
   "pygments_lexer": "ipython3",
   "version": "3.11.1"
  },
  "toc": {
   "base_numbering": 1,
   "nav_menu": {},
   "number_sections": true,
   "sideBar": true,
   "skip_h1_title": false,
   "title_cell": "Table of Contents",
   "title_sidebar": "Contents",
   "toc_cell": false,
   "toc_position": {},
   "toc_section_display": true,
   "toc_window_display": false
  }
 },
 "nbformat": 4,
 "nbformat_minor": 4
}

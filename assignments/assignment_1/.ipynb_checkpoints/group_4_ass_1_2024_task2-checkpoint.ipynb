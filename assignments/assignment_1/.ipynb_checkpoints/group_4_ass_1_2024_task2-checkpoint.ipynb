{
 "cells": [
  {
   "cell_type": "markdown",
   "metadata": {},
   "source": [
    "# Assignment"
   ]
  },
  {
   "cell_type": "code",
   "execution_count": 6,
   "metadata": {},
   "outputs": [],
   "source": [
    "tuple1 = (\"Orange\", [10, 20, 30], (5, 15, 25))\n",
    "tuple2 = ([7, 8], [9, 1], [10, 7])"
   ]
  },
  {
   "cell_type": "code",
   "execution_count": 2,
   "metadata": {},
   "outputs": [
    {
     "name": "stdout",
     "output_type": "stream",
     "text": [
      "10\n"
     ]
    }
   ],
   "source": [
    "#1 Print the first item of the second item of tuple1 object. Hint: Use indexing\n",
    "tuple1.index([10,20,30])\n",
    "tuple3= tuple1[1]\n",
    "print(tuple3[0])"
   ]
  },
  {
   "cell_type": "code",
   "execution_count": 7,
   "metadata": {},
   "outputs": [
    {
     "data": {
      "text/plain": [
       "(5, 15, 25)"
      ]
     },
     "execution_count": 7,
     "metadata": {},
     "output_type": "execute_result"
    }
   ],
   "source": [
    "#2 Print the last item of the tuple1 object.Hint: Use indexing\n",
    "tuple1.index((5,15,25))\n",
    "tuple1[2]"
   ]
  },
  {
   "cell_type": "code",
   "execution_count": 4,
   "metadata": {},
   "outputs": [
    {
     "ename": "TypeError",
     "evalue": "'tuple' object does not support item assignment",
     "output_type": "error",
     "traceback": [
      "\u001b[1;31m---------------------------------------------------------------------------\u001b[0m",
      "\u001b[1;31mTypeError\u001b[0m                                 Traceback (most recent call last)",
      "Cell \u001b[1;32mIn[4], line 3\u001b[0m\n\u001b[0;32m      1\u001b[0m \u001b[38;5;66;03m#3 Change the value \"orange\" for \"pink grapefruit\". Comment the output. Hint: Is it possible?\u001b[39;00m\n\u001b[0;32m      2\u001b[0m \u001b[38;5;66;03m#Its not posible, cause when you create a tupple theres no way that you can change the values of the same tupple.\u001b[39;00m\n\u001b[1;32m----> 3\u001b[0m tuple1[\u001b[38;5;241m0\u001b[39m]\u001b[38;5;241m=\u001b[39m \u001b[38;5;124m\"\u001b[39m\u001b[38;5;124mpink grapefruit\u001b[39m\u001b[38;5;124m\"\u001b[39m\n",
      "\u001b[1;31mTypeError\u001b[0m: 'tuple' object does not support item assignment"
     ]
    }
   ],
   "source": [
    "#3 Change the value \"orange\" for \"pink grapefruit\". Comment the output. Hint: Is it possible?\n",
    "#Its not posible, cause when you create a tupple theres no way that you can change the values of the same tupple.\n",
    "tuple1[0]= \"pink grapefruit\""
   ]
  },
  {
   "cell_type": "code",
   "execution_count": 2,
   "metadata": {},
   "outputs": [
    {
     "name": "stdout",
     "output_type": "stream",
     "text": [
      "3\n"
     ]
    }
   ],
   "source": [
    "#4\n",
    "tuple1 = (\"Orange\", [10, 20, 30], (5, 15, 25))\n",
    "tuple2 = ([7, 8], [9, 1], [10, 7])\n",
    "\n",
    "print(len(tuple1))\n",
    "#using \"len\" we can know the number of elements of an object.\n"
   ]
  },
  {
   "cell_type": "code",
   "execution_count": 3,
   "metadata": {},
   "outputs": [
    {
     "name": "stdout",
     "output_type": "stream",
     "text": [
      "42\n"
     ]
    }
   ],
   "source": [
    "#5\n",
    "print(sum(map(sum, tuple2)))\n",
    "#we use the \"sum\" function to sum each item within the lists with the map function\n",
    "#Finally, we use again \"sum\" to add up all the items."
   ]
  },
  {
   "cell_type": "code",
   "execution_count": 5,
   "metadata": {},
   "outputs": [
    {
     "name": "stdout",
     "output_type": "stream",
     "text": [
      "([3.5, 4.0], [4.5, 0.5], [5.0, 3.5])\n"
     ]
    }
   ],
   "source": [
    "#6\n",
    "tuple3 = tuple(map(lambda x: [x[0]/2, x[1]/2], tuple2))\n",
    "print(tuple3)\n",
    "#the funtcion \"map\" extract the 1st & 2nd element from each list to divide it by two\n",
    "#and turn them into a list and return them in the tuple3"
   ]
  }
 ],
 "metadata": {
  "kernelspec": {
   "display_name": "Python 3 (ipykernel)",
   "language": "python",
   "name": "python3"
  },
  "language_info": {
   "codemirror_mode": {
    "name": "ipython",
    "version": 3
   },
   "file_extension": ".py",
   "mimetype": "text/x-python",
   "name": "python",
   "nbconvert_exporter": "python",
   "pygments_lexer": "ipython3",
   "version": "3.11.5"
  }
 },
 "nbformat": 4,
 "nbformat_minor": 2
}

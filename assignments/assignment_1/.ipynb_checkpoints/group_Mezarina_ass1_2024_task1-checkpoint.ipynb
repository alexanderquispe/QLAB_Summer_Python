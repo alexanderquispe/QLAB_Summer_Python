{
 "cells": [
  {
   "cell_type": "code",
   "execution_count": null,
   "id": "dd9c36ce",
   "metadata": {},
   "outputs": [],
   "source": [
    "Leidy\n",
    "a. Database: ENAHO\n",
    "b. Information: Socioeconomic data for households in the 24 regions of Peru for the years 2021-2022.\n",
    "c. Interest: I would like to study income inequality among regions in Peru after the quarantine caused by COVID-1"
   ]
  },
  {
   "cell_type": "code",
   "execution_count": null,
   "id": "59819660",
   "metadata": {},
   "outputs": [],
   "source": [
    "Leidy, e-mail:a20193564@pucp.edu.pe\n",
    "a. Database: ENAHO\n",
    "b. Information: Socioeconomic data for households in the 24 regions of Peru for the years 2021-2022.\n",
    "c. Interest: I would like to study income inequality among regions in Peru after the quarantine caused by COVID-19"
   ]
  },
  {
   "cell_type": "code",
   "execution_count": null,
   "id": "1f284d7b",
   "metadata": {},
   "outputs": [],
   "source": []
  }
 ],
 "metadata": {
  "kernelspec": {
   "display_name": "Python 3 (ipykernel)",
   "language": "python",
   "name": "python3"
  },
  "language_info": {
   "codemirror_mode": {
    "name": "ipython",
    "version": 3
   },
   "file_extension": ".py",
   "mimetype": "text/x-python",
   "name": "python",
   "nbconvert_exporter": "python",
   "pygments_lexer": "ipython3",
   "version": "3.9.13"
  }
 },
 "nbformat": 4,
 "nbformat_minor": 5
}

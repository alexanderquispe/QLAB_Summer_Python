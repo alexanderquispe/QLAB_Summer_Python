{
 "cells": [
  {
   "cell_type": "markdown",
   "metadata": {},
   "source": [
    "# 1 Assignment 2\n",
    "\n",
    "It is totally prohibited to use any kind of loop. You can use stackoverflow. If you copy codes from previous answers, explain each step. No explanation is `0 points`. . . "
   ]
  },
  {
   "cell_type": "markdown",
   "metadata": {},
   "source": [
    "## 1.2 Lists\n",
    "1. Show the indices of the `np.nan` values  in the `f_list` list. We want to see this output: `The indices 0, 1, 4, 7 have np.nan values.` **Hint: Use print function and [f-strings](https://realpython.com/python-f-strings/) to insert the indices values.**<br><br>\n",
    "\n",
    "2. Replicate 4 times the values of the list `p2_list`. We expect an ouput like this: `[ 2 , 3, 4, 5, 2 , 3, 4, 5, 2 , 3, 4, 5, 2 , 3, 4, 5]`.  **Hint: Use multiplication function in `lists`and see the output.**<br><br>\n",
    "3. Print the length of `f_list`. **Hint: Length function**<br><br>\n",
    "4. Print `My teacher assistant is so boring.` using `text1` list. **Hint: Use the [`join` function](https://stackoverflow.com/questions/493819/why-is-it-string-joinlist-instead-of-list-joinstring)**<br><br>\n",
    "5. Print `My TA is so boring, but is very funny.` using `text1` list.**Hint: Use the `join` function, and `extend` method.**<br><br>\n",
    "6. Print <br>\n",
    "`The max value of values1 is 86 and is located in the 0 index. ` <br>\n",
    "`The min value of values1 is 0 and is located in the 7 index. ` <br> **Hint: Use the `f-string`, `min`, and `max` functions.**\n",
    "<br>\n",
    "7. Get two lists: `names` and `last_names` using `last_and_name` list. **Hint: Use `map` and `split`.**\n",
    "<br>\n",
    "8. Give only the last names of students who do not have email. Use the `emails` and `last_names` listt. **Hint: Use `map` and `split`.**\n",
    "<br>"
   ]
  },
  {
   "cell_type": "code",
   "execution_count": 3,
   "metadata": {},
   "outputs": [],
   "source": [
    "import numpy as np"
   ]
  },
  {
   "cell_type": "code",
   "execution_count": 4,
   "metadata": {},
   "outputs": [],
   "source": [
    "f_list = [np.nan , np.nan, \"Austria\", \"Germany\", np.nan, \"Pakistan\", \"np.nan\", np.nan ]"
   ]
  },
  {
   "cell_type": "code",
   "execution_count": 5,
   "metadata": {},
   "outputs": [],
   "source": [
    "text1 = ['My', 'teacher', 'assistant', 'is', 'so', 'boring.']"
   ]
  },
  {
   "cell_type": "code",
   "execution_count": 6,
   "metadata": {},
   "outputs": [],
   "source": [
    "p2_list = [ 2 , 3, 4, 5 ]"
   ]
  },
  {
   "cell_type": "code",
   "execution_count": 7,
   "metadata": {},
   "outputs": [],
   "source": [
    "values1 = [ 86, 86, 85, 85, 85, 83, 23, 0, 84, 1 ] "
   ]
  },
  {
   "cell_type": "code",
   "execution_count": 8,
   "metadata": {},
   "outputs": [],
   "source": [
    "# These two lists a\n",
    "last_and_name = [ \"CORNEJO SANCHEZ, CHRISTIAN SANTOS\", \"ORELLANA QUISPE, CRISTIAN NASSER\", \"MORALES CHOQUEHUANCA, ANGELICA KARINA\", \"GUIMARAY RIBEYRO, JOSE ROBERTO\", \"CAMACHO GAVIDIA, ABEL FERNANDO\", \"TINTAYA ORIHUELA, MEIR ALVARO\", \"CHAVEZ MARTINEZ, JOSELIN ALEXANDRA\", \"FIGUEROA MURO, LEONEL ARTURO\", \"GOMEZ CRIBILLERO, JOSE FELIPE\", \"PALOMINO SEGUÍN, AFRANIA\", \"LUZON CUEVA, BIANCA MARIETTE\", \"SUAÑA ZEGARRA, ADRIAN ANDRE\", \"SOTO POMACHAGUA, DORKAS YOMIRA JHERMY\", \"FIORENTINO MARTINEZ, LADY ALY\", \"LAMA MAVILA, HECTOR ANDRE\", \"MEZA HINOJO, GUSTAVO\", \"LOZADA MURILLO, PERSEO MARCELO\", \"ZAMBRANO JIMENEZ, MIGUEL ALONZO\", \"JACOBS LUQUE, NICOLAS\", \"VIDAL VIDAL, ROCIO GABRIELA\", \"TORRES ANICAMA, JANE CAMILA\", \"LOPEZ ESTRADA, MARIA ELISA\", \"BOYCO ORAMS, ALEJANDRO\", \"DIAZ BERROSPI, KARLINE ROSMELI\", \"RIEGA ESCALANTE, STEPHY ROSARIO\", \"LEVANO TORRES, VALERIA CECILIA\", \"ESQUIVES BRAVO, SEBASTIAN RENATO\", \"PEREZ GONZALES, JUAN CARLOS\", \"OTERO MAGUIÑA, MARIANA\", \"CLAVO CAMPOS, ANDREA BRIZETH\", \"AGUILAR GARCIA, ERICK JOSUE\", \"CALDAS VELASQUEZ, JOSUE DANIEL\", \"SALAS NUÑEZ BORJA, FABIO MANUEL\", \"PIZARRO VILLANES, FERNANDA NICOLLE\", \"QUILLATUPA MORALES, ANGELA ADELINA\", \"HUANCAYA IDONE, CESAR DANTE\", \"CALVO PORTOCARRERO, GABRIELA ISABEL\", \"IBAÑEZ ABANTO, ANGEL MAURICIO\", \"MELÉNDEZ APONTE, JUAN DIEGO\", \"CRISTIAN SERRANO, ARONE\", \"HINOJOSA CAHUANA, PERCY ALBERTH\", \"ANGLAS GARCÍA, KEVIN ARTURO\", \"ALDAVE ACOSTA, CESAR ERNESTO\", \"NÚÑEZ HUAMÁN, CÉSAR AGUSTO\", \"OBREGON HUAMAN, DIANA EDITH\", \"SOTO PACHERRES, RODRIGO FRANCO\", \"INGARUCA RIVERA, GRETTEL ALEXANDRA\", \"ROJAS HUAMAN, ROSA ANGELA\", \"NEYRA SALAS, DANTE OMAR\", \"HUERTA ESPINOZA, YAJAIRA ALEXANDRA\", \"HUANCA MARTINEZ, JORGE ALBERTO\", \"FLORES CADILLO, ALEXIS\" ]\n",
    "emails = [\"cscornejo@pucp.edu.pe\", \"orellana.cn@pucp.edu.pe\", \"karina.morales@pucp.edu.pe\", \"a20083223@pucp.pe\", \"abel.camacho@pucp.pe\", \"mtintaya@pucp.edu.pe\", \"joselin.chavez@pucp.edu.pe\", \"a20105737@pucp.pe\", \"jfgomezc@pucp.pe\", \"afrania.palomino@pucp.pe\", \"luzon.bianca@pucp.pe\", \"adrian.suanaz@pucp.pe\", \"soto.y@pucp.edu.pe\", \"a20132766@pucp.pe\", \"andre.lama@pucp.edu.pe\", \"gustavo.meza@pucp.edu.pe\", \"pmlozada@pucp.edu.pe\", \"m.zambranoj@pucp.edu.pe\", \"nicolas.jacobs@pucp.edu.pe\", \"gvidal@pucp.edu.pe\", \"jane.torres@pucp.edu.pe\", \"m.lopez@pucp.edu.pe\", \"alejandro.boyco@pucp.edu.pe\", \"a20167070@pucp.edu.pe\", \"riega.stephy@pucp.edu.pe\", \"vlevanot@pucp.edu.pe\", \"sesquives@pucp.edu.pe\", \"perez.juanc@pucp.edu.pe\", \"mariana.otero@pucp.edu.pe\", \"aclavo@pucp.edu.pe\", \"a20182474@pucp.edu.pe\", \"josue.caldas@pucp.edu.pe\", \"fabio.salas@pucp.edu.pe\", \"fernanda.pizarro@pucp.edu.pe\", \"aquillatupa@pucp.pe\", \"\", \"\", \"\", \"\", \"\", \"f0873079@pucp.edu.pe\", \"\", \"\", \"\", \"\", \"\", \"\", \"\", \"\", \"\", \"\", \"flores.alexis@pucp.edu.pe\", ]"
   ]
  },
  {
   "cell_type": "code",
   "execution_count": 9,
   "metadata": {},
   "outputs": [
    {
     "name": "stdout",
     "output_type": "stream",
     "text": [
      "The indices [0 1 4 7] have np.nan values\n"
     ]
    }
   ],
   "source": [
    "# ejercicio 1\n",
    "\n",
    "# transformar la lista en un array\n",
    "arr = np.array(f_list)\n",
    "\n",
    "# utilizar una función que permita hallar los índices, np.where(), a través de una condición y se utiliza [0] para que no salga 'dtype'\n",
    "ind = np.where (arr==\"nan\")[0]\n",
    "\n",
    "# mediante f-strings, con la función print obtenemos el output\n",
    "print(f\"The indices {ind} have np.nan values\")"
   ]
  },
  {
   "cell_type": "code",
   "execution_count": 10,
   "metadata": {},
   "outputs": [
    {
     "name": "stdout",
     "output_type": "stream",
     "text": [
      "[2, 3, 4, 5, 2, 3, 4, 5, 2, 3, 4, 5, 2, 3, 4, 5]\n"
     ]
    }
   ],
   "source": [
    "# ejercicio 2\n",
    "\n",
    "# multiplicamos por el número de veces que pide el enunciado (4)\n",
    "replicated_list = p2_list * 4\n",
    "\n",
    "print(replicated_list)"
   ]
  },
  {
   "cell_type": "code",
   "execution_count": 11,
   "metadata": {},
   "outputs": [
    {
     "name": "stdout",
     "output_type": "stream",
     "text": [
      "8\n"
     ]
    }
   ],
   "source": [
    "# ejercicio 3\n",
    "\n",
    "# a través de la función len\n",
    "lenght=len(f_list)\n",
    "\n",
    "print(lenght)"
   ]
  },
  {
   "cell_type": "code",
   "execution_count": 12,
   "metadata": {},
   "outputs": [
    {
     "name": "stdout",
     "output_type": "stream",
     "text": [
      "My teacher assistant is so boring.\n"
     ]
    }
   ],
   "source": [
    "# ejercicio 4\n",
    "\n",
    "# a través de la función join, utilizamos (\" \".) para que haya espacio entre cada palabra\n",
    "frase_1 = \" \".join(text1)\n",
    "\n",
    "print(frase_1)"
   ]
  },
  {
   "cell_type": "code",
   "execution_count": 13,
   "metadata": {},
   "outputs": [
    {
     "name": "stdout",
     "output_type": "stream",
     "text": [
      "My TA is so boring, but is very funny.\n"
     ]
    }
   ],
   "source": [
    "# ejercicio 5\n",
    "\n",
    "# reemplazamos \"teacher\" por \"TA\", \"boring.\" por \"boring,\" y removemos \"assistant\"\n",
    "text1.remove(\"assistant\")\n",
    "text1[1] = \"TA\"\n",
    "text1[-1] = \"boring,\"\n",
    "\n",
    "# agregamos text2 a text1\n",
    "text2 = ['but', 'is', 'very', 'funny.']\n",
    "text1.extend(text2)\n",
    "\n",
    "# utilizamos la función join y (\" \".)\n",
    "frase_2 = \" \".join(text1)\n",
    "\n",
    "print(frase_2)"
   ]
  },
  {
   "cell_type": "code",
   "execution_count": 14,
   "metadata": {},
   "outputs": [
    {
     "name": "stdout",
     "output_type": "stream",
     "text": [
      "The max value of values1 is 86 and is located in the 0 index.\n",
      "The min value of values1 is 0 and is located in the 7 index.\n"
     ]
    }
   ],
   "source": [
    "# ejercicio 6\n",
    "\n",
    "# a través de .index() se indicará en que índice se encuentra el máximo y mínimo valor\n",
    "max_index = values1.index(max(values1))\n",
    "min_index = values1.index(min(values1))\n",
    "\n",
    "# finalmente, a través de max() y min() se podrá encontrar cuál es el valor máximo y mínimo\n",
    "print(f\"The max value of values1 is {max(values1)} and is located in the {max_index} index.\")\n",
    "print(f\"The min value of values1 is {min(values1)} and is located in the {min_index} index.\")"
   ]
  },
  {
   "cell_type": "code",
   "execution_count": 15,
   "metadata": {},
   "outputs": [
    {
     "name": "stdout",
     "output_type": "stream",
     "text": [
      "['CHRISTIAN SANTOS', 'CRISTIAN NASSER', 'ANGELICA KARINA', 'JOSE ROBERTO', 'ABEL FERNANDO', 'MEIR ALVARO', 'JOSELIN ALEXANDRA', 'LEONEL ARTURO', 'JOSE FELIPE', 'AFRANIA', 'BIANCA MARIETTE', 'ADRIAN ANDRE', 'DORKAS YOMIRA JHERMY', 'LADY ALY', 'HECTOR ANDRE', 'GUSTAVO', 'PERSEO MARCELO', 'MIGUEL ALONZO', 'NICOLAS', 'ROCIO GABRIELA', 'JANE CAMILA', 'MARIA ELISA', 'ALEJANDRO', 'KARLINE ROSMELI', 'STEPHY ROSARIO', 'VALERIA CECILIA', 'SEBASTIAN RENATO', 'JUAN CARLOS', 'MARIANA', 'ANDREA BRIZETH', 'ERICK JOSUE', 'JOSUE DANIEL', 'FABIO MANUEL', 'FERNANDA NICOLLE', 'ANGELA ADELINA', 'CESAR DANTE', 'GABRIELA ISABEL', 'ANGEL MAURICIO', 'JUAN DIEGO', 'ARONE', 'PERCY ALBERTH', 'KEVIN ARTURO', 'CESAR ERNESTO', 'CÉSAR AGUSTO', 'DIANA EDITH', 'RODRIGO FRANCO', 'GRETTEL ALEXANDRA', 'ROSA ANGELA', 'DANTE OMAR', 'YAJAIRA ALEXANDRA', 'JORGE ALBERTO', 'ALEXIS']\n",
      "['CORNEJO SANCHEZ', 'ORELLANA QUISPE', 'MORALES CHOQUEHUANCA', 'GUIMARAY RIBEYRO', 'CAMACHO GAVIDIA', 'TINTAYA ORIHUELA', 'CHAVEZ MARTINEZ', 'FIGUEROA MURO', 'GOMEZ CRIBILLERO', 'PALOMINO SEGUÍN', 'LUZON CUEVA', 'SUAÑA ZEGARRA', 'SOTO POMACHAGUA', 'FIORENTINO MARTINEZ', 'LAMA MAVILA', 'MEZA HINOJO', 'LOZADA MURILLO', 'ZAMBRANO JIMENEZ', 'JACOBS LUQUE', 'VIDAL VIDAL', 'TORRES ANICAMA', 'LOPEZ ESTRADA', 'BOYCO ORAMS', 'DIAZ BERROSPI', 'RIEGA ESCALANTE', 'LEVANO TORRES', 'ESQUIVES BRAVO', 'PEREZ GONZALES', 'OTERO MAGUIÑA', 'CLAVO CAMPOS', 'AGUILAR GARCIA', 'CALDAS VELASQUEZ', 'SALAS NUÑEZ BORJA', 'PIZARRO VILLANES', 'QUILLATUPA MORALES', 'HUANCAYA IDONE', 'CALVO PORTOCARRERO', 'IBAÑEZ ABANTO', 'MELÉNDEZ APONTE', 'CRISTIAN SERRANO', 'HINOJOSA CAHUANA', 'ANGLAS GARCÍA', 'ALDAVE ACOSTA', 'NÚÑEZ HUAMÁN', 'OBREGON HUAMAN', 'SOTO PACHERRES', 'INGARUCA RIVERA', 'ROJAS HUAMAN', 'NEYRA SALAS', 'HUERTA ESPINOZA', 'HUANCA MARTINEZ', 'FLORES CADILLO']\n"
     ]
    }
   ],
   "source": [
    "# ejercicio 7\n",
    "\n",
    "# The map(lambda x: x.split(', '), last_and_name) part applies the split(', ') function to each element in last_and_name, splitting each full name into a list of two elements (last name and first name).\n",
    "# The result will be two lists, names and last_names, where each element corresponds to a name or last name from the original list of full names.\n",
    "last_names, names = zip(*(name.split(', ') for name in last_and_name))\n",
    "\n",
    "print(list(names))\n",
    "print(list(last_names))"
   ]
  },
  {
   "cell_type": "code",
   "execution_count": 16,
   "metadata": {},
   "outputs": [
    {
     "name": "stdout",
     "output_type": "stream",
     "text": [
      "['HUANCAYA IDONE', 'CALVO PORTOCARRERO', 'IBAÑEZ ABANTO', 'MELÉNDEZ APONTE', 'CRISTIAN SERRANO', 'ANGLAS GARCÍA', 'ALDAVE ACOSTA', 'NÚÑEZ HUAMÁN', 'OBREGON HUAMAN', 'SOTO PACHERRES', 'INGARUCA RIVERA', 'ROJAS HUAMAN', 'NEYRA SALAS', 'HUERTA ESPINOZA', 'HUANCA MARTINEZ']\n"
     ]
    }
   ],
   "source": [
    "# ejercicio 8\n",
    "\n",
    "# Extract last names using map and split\n",
    "last_names = list(map(lambda x: x.split(', ')[0], last_and_name))\n",
    "\n",
    "# Filter last names based on the absence of an email\n",
    "last_names_without_email = [last_name for email, last_name in zip(emails, last_names) if not email]\n",
    "\n",
    "print(last_names_without_email)"
   ]
  },
  {
   "cell_type": "markdown",
   "metadata": {},
   "source": [
    "## 1.3 Strings\n",
    "\n",
    "\n",
    "1. Drop the duplicated blank spaces in `str1`. Do not use the regular expresions. Do not use the code shown in class. Explain your steps.**Hint: Use `split` method and `join` function.**\n",
    "\n",
    "2. Get the number of letters in the string .**Hint: Use `len`function.**\n",
    "\n",
    "3. Get the number of blank spaces (all of them) in the string .**Hint: Use `len`function.**\n",
    "\n",
    "4. Get the position of `@` in each string in the emails list. **Hint: Use `map`function and `find` method.**\n",
    "\n",
    "5. Identifies if exists `.edu.`  in each string in the `emails` list. Get a list of Booleans. **Hint: Use `map`function and `find` method.**\n",
    "\n",
    "6. Get all the strings before the first dot `.`in each string in the `emails` list. Identifies how many of them has `@`. **Hint: Use `map`function and `find` method.**"
   ]
  },
  {
   "cell_type": "code",
   "execution_count": 2,
   "metadata": {},
   "outputs": [],
   "source": [
    "str1 = 'I am                            too                                                        old'"
   ]
  },
  {
   "cell_type": "code",
   "execution_count": 3,
   "metadata": {},
   "outputs": [],
   "source": [
    "emails = [\"cscornejo@pucp.edu.pe\", \"orellana.cn@pucp.edu.pe\", \"karina.morales@pucp.edu.pe\", \"a20083223@pucp.pe\", \"abel.camacho@pucp.pe\", \"mtintaya@pucp.edu.pe\", \"joselin.chavez@pucp.edu.pe\", \"a20105737@pucp.pe\", \"jfgomezc@pucp.pe\", \"afrania.palomino@pucp.pe\", \"luzon.bianca@pucp.pe\", \"adrian.suanaz@pucp.pe\", \"soto.y@pucp.edu.pe\", \"a20132766@pucp.pe\", \"andre.lama@pucp.edu.pe\", \"gustavo.meza@pucp.edu.pe\", \"pmlozada@pucp.edu.pe\", \"m.zambranoj@pucp.edu.pe\", \"nicolas.jacobs@pucp.edu.pe\", \"gvidal@pucp.edu.pe\", \"jane.torres@pucp.edu.pe\", \"m.lopez@pucp.edu.pe\", \"alejandro.boyco@pucp.edu.pe\", \"a20167070@pucp.edu.pe\", \"riega.stephy@pucp.edu.pe\", \"vlevanot@pucp.edu.pe\", \"sesquives@pucp.edu.pe\", \"perez.juanc@pucp.edu.pe\", \"mariana.otero@pucp.edu.pe\", \"aclavo@pucp.edu.pe\", \"a20182474@pucp.edu.pe\", \"josue.caldas@pucp.edu.pe\", \"fabio.salas@pucp.edu.pe\", \"fernanda.pizarro@pucp.edu.pe\", \"aquillatupa@pucp.pe\"]"
   ]
  },
  {
   "cell_type": "code",
   "execution_count": 4,
   "metadata": {},
   "outputs": [
    {
     "name": "stdout",
     "output_type": "stream",
     "text": [
      "I am too old\n"
     ]
    }
   ],
   "source": [
    "# ejercicio 1\n",
    "\n",
    "# Con split y () se separan los elementos por cada espacio en blanco, luego con join y ' ' se juntan en una frase\n",
    "cleaned_str1 = ' '.join(str1.split())\n",
    "\n",
    "print(cleaned_str1)"
   ]
  },
  {
   "cell_type": "code",
   "execution_count": 5,
   "metadata": {},
   "outputs": [
    {
     "name": "stdout",
     "output_type": "stream",
     "text": [
      "9\n"
     ]
    }
   ],
   "source": [
    "# ejercicio 2\n",
    "\n",
    "# Se utiliza de nuevo la función split(), pero cuando se use join se coloca '' para no contar los espacios en blanco con len\n",
    "num_letters = len(''.join(str1.split()))\n",
    "\n",
    "print(num_letters)"
   ]
  },
  {
   "cell_type": "code",
   "execution_count": 6,
   "metadata": {},
   "outputs": [
    {
     "name": "stdout",
     "output_type": "stream",
     "text": [
      "85\n"
     ]
    }
   ],
   "source": [
    "# ejercicio 3\n",
    "\n",
    "# Con la función .count(\" \") se cuentan todos los espacios en blanco de str1\n",
    "num_blank_spaces = str1.count(\" \")\n",
    "\n",
    "print(num_blank_spaces)"
   ]
  },
  {
   "cell_type": "code",
   "execution_count": 7,
   "metadata": {},
   "outputs": [
    {
     "name": "stdout",
     "output_type": "stream",
     "text": [
      "[9, 11, 14, 9, 12, 8, 14, 9, 8, 16, 12, 13, 6, 9, 10, 12, 8, 11, 14, 6, 11, 7, 15, 9, 12, 8, 9, 11, 13, 6, 9, 12, 11, 16, 11]\n"
     ]
    }
   ],
   "source": [
    "# ejercicio 4\n",
    "\n",
    "# We use the map function to apply the find method to each email in the list, which returns the position of '@' in each email.\n",
    "positions_at = list(map(lambda email: email.find('@'), emails))\n",
    "\n",
    "print(positions_at)"
   ]
  },
  {
   "cell_type": "code",
   "execution_count": 8,
   "metadata": {},
   "outputs": [
    {
     "name": "stdout",
     "output_type": "stream",
     "text": [
      "[True, True, True, False, False, True, True, False, False, False, False, False, True, False, True, True, True, True, True, True, True, True, True, True, True, True, True, True, True, True, True, True, True, True, False]\n"
     ]
    }
   ],
   "source": [
    "# ejercicio 5\n",
    "\n",
    "# Similar to the previous step, we use the map function to check if '.edu.' exists in each email.\n",
    "has_edu = list(map(lambda email: '.edu.' in email, emails))\n",
    "\n",
    "print(has_edu)"
   ]
  },
  {
   "cell_type": "code",
   "execution_count": 9,
   "metadata": {},
   "outputs": [
    {
     "name": "stdout",
     "output_type": "stream",
     "text": [
      "['cscornejo@pucp', 'orellana', 'karina', 'a20083223@pucp', 'abel', 'mtintaya@pucp', 'joselin', 'a20105737@pucp', 'jfgomezc@pucp', 'afrania', 'luzon', 'adrian', 'soto', 'a20132766@pucp', 'andre', 'gustavo', 'pmlozada@pucp', 'm', 'nicolas', 'gvidal@pucp', 'jane', 'm', 'alejandro', 'a20167070@pucp', 'riega', 'vlevanot@pucp', 'sesquives@pucp', 'perez', 'mariana', 'aclavo@pucp', 'a20182474@pucp', 'josue', 'fabio', 'fernanda', 'aquillatupa@pucp']\n"
     ]
    }
   ],
   "source": [
    "# ejercicio 6\n",
    "\n",
    "# We use the find method to locate the position of the first dot in each email and extract the substring before it.\n",
    "before_first_dot = list(map(lambda email: email.split('.')[0], emails))\n",
    "\n",
    "print(before_first_dot)"
   ]
  },
  {
   "cell_type": "code",
   "execution_count": 10,
   "metadata": {},
   "outputs": [
    {
     "name": "stdout",
     "output_type": "stream",
     "text": [
      "14\n"
     ]
    }
   ],
   "source": [
    "# We use a list comprehension and sum function to count the number of emails that contain '@'.\n",
    "num_with_at = sum('@' in before_first_dot for before_first_dot in before_first_dot)\n",
    "print(num_with_at)"
   ]
  },
  {
   "cell_type": "code",
   "execution_count": null,
   "metadata": {},
   "outputs": [],
   "source": [
    "# LISTO!!"
   ]
  },
  {
   "cell_type": "markdown",
   "metadata": {},
   "source": [
    "## 1.4 Pandas\n",
    "\n",
    "You can and should always ask ChatGPT, BARD, Bing, etc.\n",
    "In this exercise, you will work with financial data. Follow the steps below:\n",
    "\n",
    "1. Load Data:\n",
    "   Load the financial data available at this URL:    https://raw.githubusercontent.com/datasets/finance-vix/main/data/vix-daily.csv\n",
    "   Use `pd.read_csv()` adn the link to load the data into a DataFrame.\n",
    "\n",
    "2. Explore Data:\n",
    "   a) Display the first five rows of the DataFrame.\n",
    "   b) Display the summary statistics of the DataFrame.\n",
    "\n",
    "3. Add Columns:\n",
    "   a) Add a new column 'Level' that categorizes the 'Close' column values into 'Low' (< 20), 'Medium' (20-30), and 'High' (>30). You need to make a filter to make this categorization. You can see below some suggestions how to do it.\n",
    "   b) Add a new column 'Year' extracted from the 'Date' column. You need to work with dates. You can do it directly workiwith the column splitting it or changing it to date format an dfollowing the below suggestion. \n",
    "\n",
    "4. Add Rows:\n",
    "   a) Add a new row with a date of your choice and fill the other columns with appropriate values. \n",
    "\n",
    "5. Analysis:\n",
    "   a) Calculate the average of the column 'Close' for each 'Year'. You need to group for this task.\n",
    "   b) Count the number of 'High', 'Medium', and 'Low'  Level days in the data.\n",
    "\n",
    "Suggestions:\n",
    "   - Use `pd.cut()` for categorizing 'Close' values.\n",
    "   - Use `pd.to_datetime()` and `dt.year` to extract the year from a date.\n",
    "   - Use `DataFrame.append()` or `pd.concat()` to add rows.\n",
    "   - Use `groupby()` for aggregation tasks."
   ]
  },
  {
   "cell_type": "code",
   "execution_count": 2,
   "metadata": {},
   "outputs": [],
   "source": [
    "# ejercicio 1\n",
    "\n",
    "import pandas as pd\n",
    "\n",
    "# Load Data\n",
    "url = \"https://raw.githubusercontent.com/datasets/finance-vix/main/data/vix-daily.csv\"\n",
    "df = pd.read_csv(url)"
   ]
  },
  {
   "cell_type": "code",
   "execution_count": 3,
   "metadata": {},
   "outputs": [
    {
     "data": {
      "text/html": [
       "<div>\n",
       "<style scoped>\n",
       "    .dataframe tbody tr th:only-of-type {\n",
       "        vertical-align: middle;\n",
       "    }\n",
       "\n",
       "    .dataframe tbody tr th {\n",
       "        vertical-align: top;\n",
       "    }\n",
       "\n",
       "    .dataframe thead th {\n",
       "        text-align: right;\n",
       "    }\n",
       "</style>\n",
       "<table border=\"1\" class=\"dataframe\">\n",
       "  <thead>\n",
       "    <tr style=\"text-align: right;\">\n",
       "      <th></th>\n",
       "      <th>DATE</th>\n",
       "      <th>OPEN</th>\n",
       "      <th>HIGH</th>\n",
       "      <th>LOW</th>\n",
       "      <th>CLOSE</th>\n",
       "    </tr>\n",
       "  </thead>\n",
       "  <tbody>\n",
       "    <tr>\n",
       "      <th>0</th>\n",
       "      <td>01/02/1990</td>\n",
       "      <td>17.24</td>\n",
       "      <td>17.24</td>\n",
       "      <td>17.24</td>\n",
       "      <td>17.24</td>\n",
       "    </tr>\n",
       "    <tr>\n",
       "      <th>1</th>\n",
       "      <td>01/03/1990</td>\n",
       "      <td>18.19</td>\n",
       "      <td>18.19</td>\n",
       "      <td>18.19</td>\n",
       "      <td>18.19</td>\n",
       "    </tr>\n",
       "    <tr>\n",
       "      <th>2</th>\n",
       "      <td>01/04/1990</td>\n",
       "      <td>19.22</td>\n",
       "      <td>19.22</td>\n",
       "      <td>19.22</td>\n",
       "      <td>19.22</td>\n",
       "    </tr>\n",
       "    <tr>\n",
       "      <th>3</th>\n",
       "      <td>01/05/1990</td>\n",
       "      <td>20.11</td>\n",
       "      <td>20.11</td>\n",
       "      <td>20.11</td>\n",
       "      <td>20.11</td>\n",
       "    </tr>\n",
       "    <tr>\n",
       "      <th>4</th>\n",
       "      <td>01/08/1990</td>\n",
       "      <td>20.26</td>\n",
       "      <td>20.26</td>\n",
       "      <td>20.26</td>\n",
       "      <td>20.26</td>\n",
       "    </tr>\n",
       "  </tbody>\n",
       "</table>\n",
       "</div>"
      ],
      "text/plain": [
       "         DATE   OPEN   HIGH    LOW  CLOSE\n",
       "0  01/02/1990  17.24  17.24  17.24  17.24\n",
       "1  01/03/1990  18.19  18.19  18.19  18.19\n",
       "2  01/04/1990  19.22  19.22  19.22  19.22\n",
       "3  01/05/1990  20.11  20.11  20.11  20.11\n",
       "4  01/08/1990  20.26  20.26  20.26  20.26"
      ]
     },
     "execution_count": 3,
     "metadata": {},
     "output_type": "execute_result"
    }
   ],
   "source": [
    "# ejercicio 2\n",
    "\n",
    "# Explore Data\n",
    "\n",
    "# a) Display the first five rows of the DataFrame.\n",
    "df.head()"
   ]
  },
  {
   "cell_type": "code",
   "execution_count": 4,
   "metadata": {},
   "outputs": [
    {
     "data": {
      "text/html": [
       "<div>\n",
       "<style scoped>\n",
       "    .dataframe tbody tr th:only-of-type {\n",
       "        vertical-align: middle;\n",
       "    }\n",
       "\n",
       "    .dataframe tbody tr th {\n",
       "        vertical-align: top;\n",
       "    }\n",
       "\n",
       "    .dataframe thead th {\n",
       "        text-align: right;\n",
       "    }\n",
       "</style>\n",
       "<table border=\"1\" class=\"dataframe\">\n",
       "  <thead>\n",
       "    <tr style=\"text-align: right;\">\n",
       "      <th></th>\n",
       "      <th>OPEN</th>\n",
       "      <th>HIGH</th>\n",
       "      <th>LOW</th>\n",
       "      <th>CLOSE</th>\n",
       "    </tr>\n",
       "  </thead>\n",
       "  <tbody>\n",
       "    <tr>\n",
       "      <th>count</th>\n",
       "      <td>8577.000000</td>\n",
       "      <td>8577.000000</td>\n",
       "      <td>8577.000000</td>\n",
       "      <td>8577.000000</td>\n",
       "    </tr>\n",
       "    <tr>\n",
       "      <th>mean</th>\n",
       "      <td>19.666454</td>\n",
       "      <td>20.474364</td>\n",
       "      <td>18.914884</td>\n",
       "      <td>19.580374</td>\n",
       "    </tr>\n",
       "    <tr>\n",
       "      <th>std</th>\n",
       "      <td>7.979066</td>\n",
       "      <td>8.439927</td>\n",
       "      <td>7.469827</td>\n",
       "      <td>7.906214</td>\n",
       "    </tr>\n",
       "    <tr>\n",
       "      <th>min</th>\n",
       "      <td>9.010000</td>\n",
       "      <td>9.310000</td>\n",
       "      <td>8.560000</td>\n",
       "      <td>9.140000</td>\n",
       "    </tr>\n",
       "    <tr>\n",
       "      <th>25%</th>\n",
       "      <td>13.940000</td>\n",
       "      <td>14.540000</td>\n",
       "      <td>13.400000</td>\n",
       "      <td>13.880000</td>\n",
       "    </tr>\n",
       "    <tr>\n",
       "      <th>50%</th>\n",
       "      <td>17.790000</td>\n",
       "      <td>18.470000</td>\n",
       "      <td>17.220000</td>\n",
       "      <td>17.760000</td>\n",
       "    </tr>\n",
       "    <tr>\n",
       "      <th>75%</th>\n",
       "      <td>23.100000</td>\n",
       "      <td>23.960000</td>\n",
       "      <td>22.320000</td>\n",
       "      <td>22.990000</td>\n",
       "    </tr>\n",
       "    <tr>\n",
       "      <th>max</th>\n",
       "      <td>82.690000</td>\n",
       "      <td>89.530000</td>\n",
       "      <td>72.760000</td>\n",
       "      <td>82.690000</td>\n",
       "    </tr>\n",
       "  </tbody>\n",
       "</table>\n",
       "</div>"
      ],
      "text/plain": [
       "              OPEN         HIGH          LOW        CLOSE\n",
       "count  8577.000000  8577.000000  8577.000000  8577.000000\n",
       "mean     19.666454    20.474364    18.914884    19.580374\n",
       "std       7.979066     8.439927     7.469827     7.906214\n",
       "min       9.010000     9.310000     8.560000     9.140000\n",
       "25%      13.940000    14.540000    13.400000    13.880000\n",
       "50%      17.790000    18.470000    17.220000    17.760000\n",
       "75%      23.100000    23.960000    22.320000    22.990000\n",
       "max      82.690000    89.530000    72.760000    82.690000"
      ]
     },
     "execution_count": 4,
     "metadata": {},
     "output_type": "execute_result"
    }
   ],
   "source": [
    "# b) Display the summary statistics of the DataFrame\n",
    "df.describe()"
   ]
  },
  {
   "cell_type": "code",
   "execution_count": 5,
   "metadata": {},
   "outputs": [
    {
     "data": {
      "text/html": [
       "<div>\n",
       "<style scoped>\n",
       "    .dataframe tbody tr th:only-of-type {\n",
       "        vertical-align: middle;\n",
       "    }\n",
       "\n",
       "    .dataframe tbody tr th {\n",
       "        vertical-align: top;\n",
       "    }\n",
       "\n",
       "    .dataframe thead th {\n",
       "        text-align: right;\n",
       "    }\n",
       "</style>\n",
       "<table border=\"1\" class=\"dataframe\">\n",
       "  <thead>\n",
       "    <tr style=\"text-align: right;\">\n",
       "      <th></th>\n",
       "      <th>DATE</th>\n",
       "      <th>OPEN</th>\n",
       "      <th>HIGH</th>\n",
       "      <th>LOW</th>\n",
       "      <th>CLOSE</th>\n",
       "      <th>LEVEL</th>\n",
       "    </tr>\n",
       "  </thead>\n",
       "  <tbody>\n",
       "    <tr>\n",
       "      <th>0</th>\n",
       "      <td>01/02/1990</td>\n",
       "      <td>17.24</td>\n",
       "      <td>17.24</td>\n",
       "      <td>17.24</td>\n",
       "      <td>17.24</td>\n",
       "      <td>Low</td>\n",
       "    </tr>\n",
       "    <tr>\n",
       "      <th>1</th>\n",
       "      <td>01/03/1990</td>\n",
       "      <td>18.19</td>\n",
       "      <td>18.19</td>\n",
       "      <td>18.19</td>\n",
       "      <td>18.19</td>\n",
       "      <td>Low</td>\n",
       "    </tr>\n",
       "    <tr>\n",
       "      <th>2</th>\n",
       "      <td>01/04/1990</td>\n",
       "      <td>19.22</td>\n",
       "      <td>19.22</td>\n",
       "      <td>19.22</td>\n",
       "      <td>19.22</td>\n",
       "      <td>Low</td>\n",
       "    </tr>\n",
       "    <tr>\n",
       "      <th>3</th>\n",
       "      <td>01/05/1990</td>\n",
       "      <td>20.11</td>\n",
       "      <td>20.11</td>\n",
       "      <td>20.11</td>\n",
       "      <td>20.11</td>\n",
       "      <td>Medium</td>\n",
       "    </tr>\n",
       "    <tr>\n",
       "      <th>4</th>\n",
       "      <td>01/08/1990</td>\n",
       "      <td>20.26</td>\n",
       "      <td>20.26</td>\n",
       "      <td>20.26</td>\n",
       "      <td>20.26</td>\n",
       "      <td>Medium</td>\n",
       "    </tr>\n",
       "    <tr>\n",
       "      <th>...</th>\n",
       "      <td>...</td>\n",
       "      <td>...</td>\n",
       "      <td>...</td>\n",
       "      <td>...</td>\n",
       "      <td>...</td>\n",
       "      <td>...</td>\n",
       "    </tr>\n",
       "    <tr>\n",
       "      <th>8572</th>\n",
       "      <td>12/29/2023</td>\n",
       "      <td>12.55</td>\n",
       "      <td>13.19</td>\n",
       "      <td>12.36</td>\n",
       "      <td>12.45</td>\n",
       "      <td>Low</td>\n",
       "    </tr>\n",
       "    <tr>\n",
       "      <th>8573</th>\n",
       "      <td>01/02/2024</td>\n",
       "      <td>13.22</td>\n",
       "      <td>14.23</td>\n",
       "      <td>13.10</td>\n",
       "      <td>13.20</td>\n",
       "      <td>Low</td>\n",
       "    </tr>\n",
       "    <tr>\n",
       "      <th>8574</th>\n",
       "      <td>01/03/2024</td>\n",
       "      <td>13.35</td>\n",
       "      <td>14.22</td>\n",
       "      <td>13.33</td>\n",
       "      <td>14.04</td>\n",
       "      <td>Low</td>\n",
       "    </tr>\n",
       "    <tr>\n",
       "      <th>8575</th>\n",
       "      <td>01/04/2024</td>\n",
       "      <td>13.93</td>\n",
       "      <td>14.20</td>\n",
       "      <td>13.64</td>\n",
       "      <td>14.13</td>\n",
       "      <td>Low</td>\n",
       "    </tr>\n",
       "    <tr>\n",
       "      <th>8576</th>\n",
       "      <td>01/05/2024</td>\n",
       "      <td>14.24</td>\n",
       "      <td>14.58</td>\n",
       "      <td>13.29</td>\n",
       "      <td>13.35</td>\n",
       "      <td>Low</td>\n",
       "    </tr>\n",
       "  </tbody>\n",
       "</table>\n",
       "<p>8577 rows × 6 columns</p>\n",
       "</div>"
      ],
      "text/plain": [
       "            DATE   OPEN   HIGH    LOW  CLOSE   LEVEL\n",
       "0     01/02/1990  17.24  17.24  17.24  17.24     Low\n",
       "1     01/03/1990  18.19  18.19  18.19  18.19     Low\n",
       "2     01/04/1990  19.22  19.22  19.22  19.22     Low\n",
       "3     01/05/1990  20.11  20.11  20.11  20.11  Medium\n",
       "4     01/08/1990  20.26  20.26  20.26  20.26  Medium\n",
       "...          ...    ...    ...    ...    ...     ...\n",
       "8572  12/29/2023  12.55  13.19  12.36  12.45     Low\n",
       "8573  01/02/2024  13.22  14.23  13.10  13.20     Low\n",
       "8574  01/03/2024  13.35  14.22  13.33  14.04     Low\n",
       "8575  01/04/2024  13.93  14.20  13.64  14.13     Low\n",
       "8576  01/05/2024  14.24  14.58  13.29  13.35     Low\n",
       "\n",
       "[8577 rows x 6 columns]"
      ]
     },
     "execution_count": 5,
     "metadata": {},
     "output_type": "execute_result"
    }
   ],
   "source": [
    "# ejercicio 3\n",
    "\n",
    "# a) Add a new column 'Level' that categorizes the 'Close' column values into 'Low' (< 20), 'Medium' (20-30), and 'High' (>30). You need to make a filter to make this categorization. You can see below some suggestions how to do it\n",
    "# Creamos una nueva columna llamada \"Level\" la cual toma los valores de la columna \"Close\" y los clasifica en 3 intervalos: \"low\", \"mid\" y \"high\"\n",
    "\n",
    "low_limit = float('-inf')\n",
    "mid_limit1, mid_limit2 = 20, 30\n",
    "high_limit = float('inf')\n",
    "\n",
    "df['LEVEL'] = pd.cut(df['CLOSE'], bins=[low_limit, mid_limit1, mid_limit2, high_limit], labels=['Low', 'Medium', 'High'])\n",
    "\n",
    "df"
   ]
  },
  {
   "cell_type": "code",
   "execution_count": 6,
   "metadata": {},
   "outputs": [
    {
     "data": {
      "text/html": [
       "<div>\n",
       "<style scoped>\n",
       "    .dataframe tbody tr th:only-of-type {\n",
       "        vertical-align: middle;\n",
       "    }\n",
       "\n",
       "    .dataframe tbody tr th {\n",
       "        vertical-align: top;\n",
       "    }\n",
       "\n",
       "    .dataframe thead th {\n",
       "        text-align: right;\n",
       "    }\n",
       "</style>\n",
       "<table border=\"1\" class=\"dataframe\">\n",
       "  <thead>\n",
       "    <tr style=\"text-align: right;\">\n",
       "      <th></th>\n",
       "      <th>DATE</th>\n",
       "      <th>OPEN</th>\n",
       "      <th>HIGH</th>\n",
       "      <th>LOW</th>\n",
       "      <th>CLOSE</th>\n",
       "      <th>LEVEL</th>\n",
       "      <th>YEAR</th>\n",
       "    </tr>\n",
       "  </thead>\n",
       "  <tbody>\n",
       "    <tr>\n",
       "      <th>0</th>\n",
       "      <td>1990-01-02</td>\n",
       "      <td>17.24</td>\n",
       "      <td>17.24</td>\n",
       "      <td>17.24</td>\n",
       "      <td>17.24</td>\n",
       "      <td>Low</td>\n",
       "      <td>1990</td>\n",
       "    </tr>\n",
       "    <tr>\n",
       "      <th>1</th>\n",
       "      <td>1990-01-03</td>\n",
       "      <td>18.19</td>\n",
       "      <td>18.19</td>\n",
       "      <td>18.19</td>\n",
       "      <td>18.19</td>\n",
       "      <td>Low</td>\n",
       "      <td>1990</td>\n",
       "    </tr>\n",
       "    <tr>\n",
       "      <th>2</th>\n",
       "      <td>1990-01-04</td>\n",
       "      <td>19.22</td>\n",
       "      <td>19.22</td>\n",
       "      <td>19.22</td>\n",
       "      <td>19.22</td>\n",
       "      <td>Low</td>\n",
       "      <td>1990</td>\n",
       "    </tr>\n",
       "    <tr>\n",
       "      <th>3</th>\n",
       "      <td>1990-01-05</td>\n",
       "      <td>20.11</td>\n",
       "      <td>20.11</td>\n",
       "      <td>20.11</td>\n",
       "      <td>20.11</td>\n",
       "      <td>Medium</td>\n",
       "      <td>1990</td>\n",
       "    </tr>\n",
       "    <tr>\n",
       "      <th>4</th>\n",
       "      <td>1990-01-08</td>\n",
       "      <td>20.26</td>\n",
       "      <td>20.26</td>\n",
       "      <td>20.26</td>\n",
       "      <td>20.26</td>\n",
       "      <td>Medium</td>\n",
       "      <td>1990</td>\n",
       "    </tr>\n",
       "    <tr>\n",
       "      <th>...</th>\n",
       "      <td>...</td>\n",
       "      <td>...</td>\n",
       "      <td>...</td>\n",
       "      <td>...</td>\n",
       "      <td>...</td>\n",
       "      <td>...</td>\n",
       "      <td>...</td>\n",
       "    </tr>\n",
       "    <tr>\n",
       "      <th>8572</th>\n",
       "      <td>2023-12-29</td>\n",
       "      <td>12.55</td>\n",
       "      <td>13.19</td>\n",
       "      <td>12.36</td>\n",
       "      <td>12.45</td>\n",
       "      <td>Low</td>\n",
       "      <td>2023</td>\n",
       "    </tr>\n",
       "    <tr>\n",
       "      <th>8573</th>\n",
       "      <td>2024-01-02</td>\n",
       "      <td>13.22</td>\n",
       "      <td>14.23</td>\n",
       "      <td>13.10</td>\n",
       "      <td>13.20</td>\n",
       "      <td>Low</td>\n",
       "      <td>2024</td>\n",
       "    </tr>\n",
       "    <tr>\n",
       "      <th>8574</th>\n",
       "      <td>2024-01-03</td>\n",
       "      <td>13.35</td>\n",
       "      <td>14.22</td>\n",
       "      <td>13.33</td>\n",
       "      <td>14.04</td>\n",
       "      <td>Low</td>\n",
       "      <td>2024</td>\n",
       "    </tr>\n",
       "    <tr>\n",
       "      <th>8575</th>\n",
       "      <td>2024-01-04</td>\n",
       "      <td>13.93</td>\n",
       "      <td>14.20</td>\n",
       "      <td>13.64</td>\n",
       "      <td>14.13</td>\n",
       "      <td>Low</td>\n",
       "      <td>2024</td>\n",
       "    </tr>\n",
       "    <tr>\n",
       "      <th>8576</th>\n",
       "      <td>2024-01-05</td>\n",
       "      <td>14.24</td>\n",
       "      <td>14.58</td>\n",
       "      <td>13.29</td>\n",
       "      <td>13.35</td>\n",
       "      <td>Low</td>\n",
       "      <td>2024</td>\n",
       "    </tr>\n",
       "  </tbody>\n",
       "</table>\n",
       "<p>8577 rows × 7 columns</p>\n",
       "</div>"
      ],
      "text/plain": [
       "           DATE   OPEN   HIGH    LOW  CLOSE   LEVEL  YEAR\n",
       "0    1990-01-02  17.24  17.24  17.24  17.24     Low  1990\n",
       "1    1990-01-03  18.19  18.19  18.19  18.19     Low  1990\n",
       "2    1990-01-04  19.22  19.22  19.22  19.22     Low  1990\n",
       "3    1990-01-05  20.11  20.11  20.11  20.11  Medium  1990\n",
       "4    1990-01-08  20.26  20.26  20.26  20.26  Medium  1990\n",
       "...         ...    ...    ...    ...    ...     ...   ...\n",
       "8572 2023-12-29  12.55  13.19  12.36  12.45     Low  2023\n",
       "8573 2024-01-02  13.22  14.23  13.10  13.20     Low  2024\n",
       "8574 2024-01-03  13.35  14.22  13.33  14.04     Low  2024\n",
       "8575 2024-01-04  13.93  14.20  13.64  14.13     Low  2024\n",
       "8576 2024-01-05  14.24  14.58  13.29  13.35     Low  2024\n",
       "\n",
       "[8577 rows x 7 columns]"
      ]
     },
     "execution_count": 6,
     "metadata": {},
     "output_type": "execute_result"
    }
   ],
   "source": [
    "# b) Add a new column 'Year' extracted from the 'Date' column. You need to work with dates. You can do it directly workiwith the column splitting it or changing it to date format an dfollowing the below suggestion.\n",
    "\n",
    "# Hemos creado una columna en la que convertimos la fecha a un dato tipo datetime., posteriormente unimos esta columna a la base de datos \"df\"\n",
    "df['DATE'] = pd.to_datetime(df['DATE'])\n",
    "df['YEAR'] = df['DATE'].dt.year\n",
    "df"
   ]
  },
  {
   "cell_type": "code",
   "execution_count": null,
   "metadata": {},
   "outputs": [],
   "source": []
  }
 ],
 "metadata": {
  "hide_input": false,
  "kernelspec": {
   "display_name": "Python 3 (ipykernel)",
   "language": "python",
   "name": "python3"
  },
  "language_info": {
   "codemirror_mode": {
    "name": "ipython",
    "version": 3
   },
   "file_extension": ".py",
   "mimetype": "text/x-python",
   "name": "python",
   "nbconvert_exporter": "python",
   "pygments_lexer": "ipython3",
   "version": "3.11.5"
  },
  "toc": {
   "base_numbering": 1,
   "nav_menu": {},
   "number_sections": true,
   "sideBar": true,
   "skip_h1_title": false,
   "title_cell": "Table of Contents",
   "title_sidebar": "Contents",
   "toc_cell": false,
   "toc_position": {},
   "toc_section_display": true,
   "toc_window_display": false
  }
 },
 "nbformat": 4,
 "nbformat_minor": 4
}

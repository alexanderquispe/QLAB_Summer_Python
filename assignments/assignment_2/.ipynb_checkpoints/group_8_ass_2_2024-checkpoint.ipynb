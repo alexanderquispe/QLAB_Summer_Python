{
 "cells": [
  {
   "cell_type": "markdown",
   "metadata": {},
   "source": [
    "# 1 Assignment 2\n",
    "\n",
    "It is totally prohibited to use any kind of loop. You can use stackoverflow. If you copy codes from previous answers, explain each step. No explanation is `0 points`."
   ]
  },
  {
   "cell_type": "markdown",
   "metadata": {},
   "source": [
    "## 1.2 Lists\n",
    "1. Show the indices of the `np.nan` values  in the `f_list` list. We want to see this output: `The indices 0, 1, 4, 7 have np.nan values.` **Hint: Use print function and [f-strings](https://realpython.com/python-f-strings/) to insert the indices values.**<br><br>\n",
    "\n",
    "2. Replicate 4 times the values of the list `p2_list`. We expect an ouput like this: `[ 2 , 3, 4, 5, 2 , 3, 4, 5, 2 , 3, 4, 5, 2 , 3, 4, 5]`.  **Hint: Use multiplication function in `lists`and see the output.**<br><br>\n",
    "3. Print the length of `f_list`. **Hint: Length function**<br><br>\n",
    "4. Print `My teacher assistant is so boring.` using `text1` list. **Hint: Use the [`join` function](https://stackoverflow.com/questions/493819/why-is-it-string-joinlist-instead-of-list-joinstring)**<br><br>\n",
    "5. Print `My TA is so boring, but is very funny.` using `text1` list.**Hint: Use the `join` function, and `extend` method.**<br><br>\n",
    "6. Print <br>\n",
    "`The max value of values1 is 86 and is located in the 0 index. ` <br>\n",
    "`The min value of values1 is 0 and is located in the 7 index. ` <br> **Hint: Use the `f-string`, `min`, and `max` functions.**\n",
    "<br>\n",
    "7. Get two lists: `names` and `last_names` using `last_and_name` list. **Hint: Use `map` and `split`.**\n",
    "<br>\n",
    "8. Give only the last names of students who do not have email. Use the `emails` and `last_names` listt. **Hint: Use `map` and `split`.**\n",
    "<br>"
   ]
  },
  {
   "cell_type": "code",
   "execution_count": 1,
   "metadata": {},
   "outputs": [
    {
     "name": "stdout",
     "output_type": "stream",
     "text": [
      "The indices 0, 1, 2, 3, 4, 5, 6, 7 have np.nan values.\n"
     ]
    }
   ],
   "source": [
    "# 1\n",
    "import numpy as np\n",
    "# Primero se crea la lista f_list\n",
    "f_list = [np.nan , np.nan, \"Austria\", \"Germany\", np.nan, \"Pakistan\", \"np.nan\", np.nan ] \n",
    "#Crea un nuevo array NumPy llamado filtered_arr. Recorrer cada elemento x en f_list y convierte los elementos que \n",
    "# son números enteros o flotantes a tipo de dato float, mientras que los demás elementos se convierten en np.nan.\n",
    "# El resultado es un array NumPy de tipo float.\n",
    "filtered_arr = np.array([float(x) if isinstance(x, (int, float)) else np.nan for x in f_list]) \n",
    "#Encuentra los índices de los elementos np.nan\n",
    "nan_indices = np.flatnonzero(np.isnan(filtered_arr)) \n",
    "#Imprime un mensaje utilizando f-strings. Utiliza ', '.join(map(str, nan_indices)) para convertir los índices de \n",
    "# nan_indices a una cadena y luego los imprime en el mensaje.\n",
    "print(f\"The indices {', '.join(map(str, nan_indices))} have np.nan values.\") "
   ]
  },
  {
   "cell_type": "code",
   "execution_count": 19,
   "metadata": {},
   "outputs": [
    {
     "name": "stdout",
     "output_type": "stream",
     "text": [
      "[2, 3, 4, 5, 2, 3, 4, 5, 2, 3, 4, 5, 2, 3, 4, 5]\n"
     ]
    }
   ],
   "source": [
    "# 2\n",
    "# Se crea una lista p2_list \n",
    "p2_list = [ 2 , 3, 4, 5 ]\n",
    "# Se crea una nueva lista llamada replicated_list. Python genera una nueva lista que contiene múltiples copias de la original.\n",
    "replicated_list = p2_list * 4\n",
    "# Se imprime el resultado\n",
    "print(replicated_list)"
   ]
  },
  {
   "cell_type": "code",
   "execution_count": 20,
   "metadata": {},
   "outputs": [
    {
     "data": {
      "text/plain": [
       "8"
      ]
     },
     "execution_count": 20,
     "metadata": {},
     "output_type": "execute_result"
    }
   ],
   "source": [
    "#3\n",
    "# Se obtiene la longitud de la secuencia con len()\n",
    "len(f_list)"
   ]
  },
  {
   "cell_type": "code",
   "execution_count": 21,
   "metadata": {},
   "outputs": [
    {
     "name": "stdout",
     "output_type": "stream",
     "text": [
      "My teacher assistant is so boring\n"
     ]
    }
   ],
   "source": [
    "#4 \n",
    "# Se crea la lista text1\n",
    "text1 = ['My', 'teacher', 'assistant', 'is', 'so', 'boring']\n",
    "# Se utiliza el método join de las cadenas para concatenar los elementos de la lista text1 separados por\n",
    "# un espacio en blanco. Esto crea una cadena única que representa la oración.\n",
    "sentence = ' '.join(text1)\n",
    "# Se imprime la cadena\n",
    "print(sentence)"
   ]
  },
  {
   "cell_type": "code",
   "execution_count": 22,
   "metadata": {},
   "outputs": [
    {
     "name": "stdout",
     "output_type": "stream",
     "text": [
      "My teacher assistant is so boring ,but is very funny.\n"
     ]
    }
   ],
   "source": [
    "#5\n",
    "# Se crea una nueva lista llamada new_text \n",
    "new_text = text1.copy()\n",
    "# Se utiliza el método extend() para agregar los elementos requeridos\n",
    "new_text.extend([',but', 'is', 'very', 'funny.'])\n",
    "# Se utiliza el método join de las cadenas para concatenar los elementos de la lista new_text\n",
    "# separados por un espacio en blanco. Esto crea una cadena única que representa la oración\n",
    "sentence = ' '.join(new_text)\n",
    "# Se imprime el resultado\n",
    "print(sentence)"
   ]
  },
  {
   "cell_type": "code",
   "execution_count": 1,
   "metadata": {},
   "outputs": [
    {
     "name": "stdout",
     "output_type": "stream",
     "text": [
      "The max value of values1 is 86 and is located in the 0 index.\n",
      "The min value of values1 is 0 and is located in the 7 index.\n"
     ]
    }
   ],
   "source": [
    "#6\n",
    "# Se crea una lista values1\n",
    "values1 = [ 86, 86, 85, 85, 85, 83, 23, 0, 84, 1 ] \n",
    "# Se utiliza la función max() para obtener el valor máximo de la lista\n",
    "max_value = max(values1)\n",
    "# Se utiliza el método index() para encontrar el índice del valor máximo\n",
    "max_index = values1.index(max_value)\n",
    "# Se utiliza la función min() para obtener el valor mínimo de la lista values1\n",
    "min_value = min(values1)\n",
    "# Se utiliza el método index() para encontrar el índice del valor mínimo \n",
    "min_index = values1.index(min_value)\n",
    "# Imprime el mensaje utilizando f-strings que incluye el valor máximo y su índice en la lista.\n",
    "print(f\"The max value of values1 is {max_value} and is located in the {max_index} index.\")\n",
    "print(f\"The min value of values1 is {min_value} and is located in the {min_index} index.\")"
   ]
  },
  {
   "cell_type": "code",
   "execution_count": 2,
   "metadata": {},
   "outputs": [
    {
     "name": "stdout",
     "output_type": "stream",
     "text": [
      "('CORNEJO SANCHEZ', 'ORELLANA QUISPE', 'MORALES CHOQUEHUANCA', 'GUIMARAY RIBEYRO', 'CAMACHO GAVIDIA', 'TINTAYA ORIHUELA', 'CHAVEZ MARTINEZ', 'FIGUEROA MURO', 'GOMEZ CRIBILLERO', 'PALOMINO SEGUÍN', 'LUZON CUEVA', 'SUAÑA ZEGARRA', 'SOTO POMACHAGUA', 'FIORENTINO MARTINEZ', 'LAMA MAVILA', 'MEZA HINOJO', 'LOZADA MURILLO', 'ZAMBRANO JIMENEZ', 'JACOBS LUQUE', 'VIDAL VIDAL', 'TORRES ANICAMA', 'LOPEZ ESTRADA', 'BOYCO ORAMS', 'DIAZ BERROSPI', 'RIEGA ESCALANTE', 'LEVANO TORRES', 'ESQUIVES BRAVO', 'PEREZ GONZALES', 'OTERO MAGUIÑA', 'CLAVO CAMPOS', 'AGUILAR GARCIA', 'CALDAS VELASQUEZ', 'SALAS NUÑEZ BORJA', 'PIZARRO VILLANES', 'QUILLATUPA MORALES', 'HUANCAYA IDONE', 'CALVO PORTOCARRERO', 'IBAÑEZ ABANTO', 'MELÉNDEZ APONTE', 'CRISTIAN SERRANO', 'HINOJOSA CAHUANA', 'ANGLAS GARCÍA', 'ALDAVE ACOSTA', 'NÚÑEZ HUAMÁN', 'OBREGON HUAMAN', 'SOTO PACHERRES', 'INGARUCA RIVERA', 'ROJAS HUAMAN', 'NEYRA SALAS', 'HUERTA ESPINOZA', 'HUANCA MARTINEZ', 'FLORES CADILLO')\n",
      "('CHRISTIAN SANTOS', 'CRISTIAN NASSER', 'ANGELICA KARINA', 'JOSE ROBERTO', 'ABEL FERNANDO', 'MEIR ALVARO', 'JOSELIN ALEXANDRA', 'LEONEL ARTURO', 'JOSE FELIPE', 'AFRANIA', 'BIANCA MARIETTE', 'ADRIAN ANDRE', 'DORKAS YOMIRA JHERMY', 'LADY ALY', 'HECTOR ANDRE', 'GUSTAVO', 'PERSEO MARCELO', 'MIGUEL ALONZO', 'NICOLAS', 'ROCIO GABRIELA', 'JANE CAMILA', 'MARIA ELISA', 'ALEJANDRO', 'KARLINE ROSMELI', 'STEPHY ROSARIO', 'VALERIA CECILIA', 'SEBASTIAN RENATO', 'JUAN CARLOS', 'MARIANA', 'ANDREA BRIZETH', 'ERICK JOSUE', 'JOSUE DANIEL', 'FABIO MANUEL', 'FERNANDA NICOLLE', 'ANGELA ADELINA', 'CESAR DANTE', 'GABRIELA ISABEL', 'ANGEL MAURICIO', 'JUAN DIEGO', 'ARONE', 'PERCY ALBERTH', 'KEVIN ARTURO', 'CESAR ERNESTO', 'CÉSAR AGUSTO', 'DIANA EDITH', 'RODRIGO FRANCO', 'GRETTEL ALEXANDRA', 'ROSA ANGELA', 'DANTE OMAR', 'YAJAIRA ALEXANDRA', 'JORGE ALBERTO', 'ALEXIS')\n"
     ]
    }
   ],
   "source": [
    "#7\n",
    "# These two lists a\n",
    "# Se define una lista llamada last_and_name que contiene nombres completos en el formato \"Apellido, Nombre\"\n",
    "last_and_name = [ \"CORNEJO SANCHEZ, CHRISTIAN SANTOS\", \"ORELLANA QUISPE, CRISTIAN NASSER\", \"MORALES CHOQUEHUANCA, ANGELICA KARINA\", \"GUIMARAY RIBEYRO, JOSE ROBERTO\", \"CAMACHO GAVIDIA, ABEL FERNANDO\", \"TINTAYA ORIHUELA, MEIR ALVARO\", \"CHAVEZ MARTINEZ, JOSELIN ALEXANDRA\", \"FIGUEROA MURO, LEONEL ARTURO\", \"GOMEZ CRIBILLERO, JOSE FELIPE\", \"PALOMINO SEGUÍN, AFRANIA\", \"LUZON CUEVA, BIANCA MARIETTE\", \"SUAÑA ZEGARRA, ADRIAN ANDRE\", \"SOTO POMACHAGUA, DORKAS YOMIRA JHERMY\", \"FIORENTINO MARTINEZ, LADY ALY\", \"LAMA MAVILA, HECTOR ANDRE\", \"MEZA HINOJO, GUSTAVO\", \"LOZADA MURILLO, PERSEO MARCELO\", \"ZAMBRANO JIMENEZ, MIGUEL ALONZO\", \"JACOBS LUQUE, NICOLAS\", \"VIDAL VIDAL, ROCIO GABRIELA\", \"TORRES ANICAMA, JANE CAMILA\", \"LOPEZ ESTRADA, MARIA ELISA\", \"BOYCO ORAMS, ALEJANDRO\", \"DIAZ BERROSPI, KARLINE ROSMELI\", \"RIEGA ESCALANTE, STEPHY ROSARIO\", \"LEVANO TORRES, VALERIA CECILIA\", \"ESQUIVES BRAVO, SEBASTIAN RENATO\", \"PEREZ GONZALES, JUAN CARLOS\", \"OTERO MAGUIÑA, MARIANA\", \"CLAVO CAMPOS, ANDREA BRIZETH\", \"AGUILAR GARCIA, ERICK JOSUE\", \"CALDAS VELASQUEZ, JOSUE DANIEL\", \"SALAS NUÑEZ BORJA, FABIO MANUEL\", \"PIZARRO VILLANES, FERNANDA NICOLLE\", \"QUILLATUPA MORALES, ANGELA ADELINA\", \"HUANCAYA IDONE, CESAR DANTE\", \"CALVO PORTOCARRERO, GABRIELA ISABEL\", \"IBAÑEZ ABANTO, ANGEL MAURICIO\", \"MELÉNDEZ APONTE, JUAN DIEGO\", \"CRISTIAN SERRANO, ARONE\", \"HINOJOSA CAHUANA, PERCY ALBERTH\", \"ANGLAS GARCÍA, KEVIN ARTURO\", \"ALDAVE ACOSTA, CESAR ERNESTO\", \"NÚÑEZ HUAMÁN, CÉSAR AGUSTO\", \"OBREGON HUAMAN, DIANA EDITH\", \"SOTO PACHERRES, RODRIGO FRANCO\", \"INGARUCA RIVERA, GRETTEL ALEXANDRA\", \"ROJAS HUAMAN, ROSA ANGELA\", \"NEYRA SALAS, DANTE OMAR\", \"HUERTA ESPINOZA, YAJAIRA ALEXANDRA\", \"HUANCA MARTINEZ, JORGE ALBERTO\", \"FLORES CADILLO, ALEXIS\" ]\n",
    "# Se utiliza la función map para aplicar la función lambda x: x.split(', ', 1) a cada elemento de last_and_name. \n",
    "# Esta función divide cada cadena en dos partes utilizando ', ' como separador.\n",
    "# Luego, zip(*...) se utiliza para desempaquetar las tuplas resultantes en dos listas separadas\n",
    "last_names, names = zip(*(map(lambda x: x.split(', ', 1), last_and_name)))\n",
    "# Se imprimen los resultados de la lista de apellidos y nombres\n",
    "print(last_names)\n",
    "print(names)"
   ]
  },
  {
   "cell_type": "code",
   "execution_count": 3,
   "metadata": {},
   "outputs": [
    {
     "name": "stdout",
     "output_type": "stream",
     "text": [
      "Last Names without Email: ['HUANCAYA IDONE, CESAR DANTE', 'CALVO PORTOCARRERO, GABRIELA ISABEL', 'IBAÑEZ ABANTO, ANGEL MAURICIO', 'MELÉNDEZ APONTE, JUAN DIEGO', 'CRISTIAN SERRANO, ARONE', 'ANGLAS GARCÍA, KEVIN ARTURO', 'ALDAVE ACOSTA, CESAR ERNESTO', 'NÚÑEZ HUAMÁN, CÉSAR AGUSTO', 'OBREGON HUAMAN, DIANA EDITH', 'SOTO PACHERRES, RODRIGO FRANCO', 'INGARUCA RIVERA, GRETTEL ALEXANDRA', 'ROJAS HUAMAN, ROSA ANGELA', 'NEYRA SALAS, DANTE OMAR', 'HUERTA ESPINOZA, YAJAIRA ALEXANDRA', 'HUANCA MARTINEZ, JORGE ALBERTO']\n"
     ]
    }
   ],
   "source": [
    "#8 \n",
    "# Se crea la lista de emails\n",
    "emails = [\"cscornejo@pucp.edu.pe\", \"orellana.cn@pucp.edu.pe\", \"karina.morales@pucp.edu.pe\", \"a20083223@pucp.pe\", \"abel.camacho@pucp.pe\", \"mtintaya@pucp.edu.pe\", \"joselin.chavez@pucp.edu.pe\", \"a20105737@pucp.pe\", \"jfgomezc@pucp.pe\", \"afrania.palomino@pucp.pe\", \"luzon.bianca@pucp.pe\", \"adrian.suanaz@pucp.pe\", \"soto.y@pucp.edu.pe\", \"a20132766@pucp.pe\", \"andre.lama@pucp.edu.pe\", \"gustavo.meza@pucp.edu.pe\", \"pmlozada@pucp.edu.pe\", \"m.zambranoj@pucp.edu.pe\", \"nicolas.jacobs@pucp.edu.pe\", \"gvidal@pucp.edu.pe\", \"jane.torres@pucp.edu.pe\", \"m.lopez@pucp.edu.pe\", \"alejandro.boyco@pucp.edu.pe\", \"a20167070@pucp.edu.pe\", \"riega.stephy@pucp.edu.pe\", \"vlevanot@pucp.edu.pe\", \"sesquives@pucp.edu.pe\", \"perez.juanc@pucp.edu.pe\", \"mariana.otero@pucp.edu.pe\", \"aclavo@pucp.edu.pe\", \"a20182474@pucp.edu.pe\", \"josue.caldas@pucp.edu.pe\", \"fabio.salas@pucp.edu.pe\", \"fernanda.pizarro@pucp.edu.pe\", \"aquillatupa@pucp.pe\", \"\", \"\", \"\", \"\", \"\", \"f0873079@pucp.edu.pe\", \"\", \"\", \"\", \"\", \"\", \"\", \"\", \"\", \"\", \"\", \"flores.alexis@pucp.edu.pe\", ]\n",
    "# Combina las listas emails y last_and_name en una lista de tuplas.\n",
    "# Filtra las tuplas donde el primer elemento (correo electrónico) es una cadena vacía ''.\n",
    "# Mapea para obtener el segundo elemento de cada tupla después de la filtración, que es el nombre completo en el formato \"Apellido, Nombre\".\n",
    "# Convierte el resultado en una lista.\n",
    "last_names_no_email = list(map(lambda x: x[1], filter(lambda y: y[0] == '', zip(emails, last_and_name))))\n",
    "\n",
    "# Se imprime los apellidos de estudiantes sin correo electrónico\n",
    "print(\"Last Names without Email:\", last_names_no_email)\n"
   ]
  },
  {
   "cell_type": "markdown",
   "metadata": {},
   "source": [
    "## 1.3 Strings\n",
    "\n",
    "\n",
    "1. Drop the duplicated blank spaces in `str1`. Do not use the regular expresions. Do not use the code shown in class. Explain your steps.**Hint: Use `split` method and `join` function.**\n",
    "\n",
    "2. Get the number of letters in the string .**Hint: Use `len`function.**\n",
    "\n",
    "3. Get the number of blank spaces (all of them) in the string .**Hint: Use `len`function.**\n",
    "\n",
    "4. Get the position of `@` in each string in the emails list. **Hint: Use `map`function and `find` method.**\n",
    "\n",
    "5. Identifies if exists `.edu.`  in each string in the `emails` list. Get a list of Booleans. **Hint: Use `map`function and `find` method.**\n",
    "\n",
    "6. Get all the strings before the first dot `.`in each string in the `emails` list. Identifies how many of them has `@`. **Hint: Use `map`function and `find` method.**"
   ]
  },
  {
   "cell_type": "code",
   "execution_count": 6,
   "metadata": {},
   "outputs": [],
   "source": [
    "str1 = 'I am                            too                                                        old'"
   ]
  },
  {
   "cell_type": "code",
   "execution_count": 7,
   "metadata": {},
   "outputs": [],
   "source": [
    "emails = [\"cscornejo@pucp.edu.pe\", \"orellana.cn@pucp.edu.pe\", \"karina.morales@pucp.edu.pe\", \"a20083223@pucp.pe\", \"abel.camacho@pucp.pe\", \"mtintaya@pucp.edu.pe\", \"joselin.chavez@pucp.edu.pe\", \"a20105737@pucp.pe\", \"jfgomezc@pucp.pe\", \"afrania.palomino@pucp.pe\", \"luzon.bianca@pucp.pe\", \"adrian.suanaz@pucp.pe\", \"soto.y@pucp.edu.pe\", \"a20132766@pucp.pe\", \"andre.lama@pucp.edu.pe\", \"gustavo.meza@pucp.edu.pe\", \"pmlozada@pucp.edu.pe\", \"m.zambranoj@pucp.edu.pe\", \"nicolas.jacobs@pucp.edu.pe\", \"gvidal@pucp.edu.pe\", \"jane.torres@pucp.edu.pe\", \"m.lopez@pucp.edu.pe\", \"alejandro.boyco@pucp.edu.pe\", \"a20167070@pucp.edu.pe\", \"riega.stephy@pucp.edu.pe\", \"vlevanot@pucp.edu.pe\", \"sesquives@pucp.edu.pe\", \"perez.juanc@pucp.edu.pe\", \"mariana.otero@pucp.edu.pe\", \"aclavo@pucp.edu.pe\", \"a20182474@pucp.edu.pe\", \"josue.caldas@pucp.edu.pe\", \"fabio.salas@pucp.edu.pe\", \"fernanda.pizarro@pucp.edu.pe\", \"aquillatupa@pucp.pe\"]"
   ]
  },
  {
   "cell_type": "code",
   "execution_count": 8,
   "metadata": {},
   "outputs": [
    {
     "name": "stdout",
     "output_type": "stream",
     "text": [
      "I am too old\n"
     ]
    }
   ],
   "source": [
    "#Question number 1  \n",
    "str2 = \" \".join(str1.split())  # We separated elements using double quotes and then converted list. So, we ingore special characters (like spaces)\n",
    "print(str2)                    # Finally, we join the elements of a list. So, We need to indicate separated spaces to eliminate double quotes."
   ]
  },
  {
   "cell_type": "code",
   "execution_count": 9,
   "metadata": {},
   "outputs": [
    {
     "data": {
      "text/plain": [
       "9"
      ]
     },
     "execution_count": 9,
     "metadata": {},
     "output_type": "execute_result"
    }
   ],
   "source": [
    "#Question number 2\n",
    "len(\"\".join(str1.split()))  #We used only len to contain numbers elements"
   ]
  },
  {
   "cell_type": "code",
   "execution_count": 10,
   "metadata": {},
   "outputs": [
    {
     "name": "stdout",
     "output_type": "stream",
     "text": [
      "85\n"
     ]
    }
   ],
   "source": [
    "#Question number 3\n",
    "print(str1.count(\" \"))  #We used the \"count\" fuction to count the blank space in the string."
   ]
  },
  {
   "cell_type": "code",
   "execution_count": 11,
   "metadata": {},
   "outputs": [
    {
     "name": "stdout",
     "output_type": "stream",
     "text": [
      "[9, 11, 14, 9, 12, 8, 14, 9, 8, 16, 12, 13, 6, 9, 10, 12, 8, 11, 14, 6, 11, 7, 15, 9, 12, 8, 9, 11, 13, 6, 9, 12, 11, 16, 11]\n"
     ]
    }
   ],
   "source": [
    "#Question number 4\n",
    "def find_a(emails):   #in this case we use copilot to guide about this question. So, we difine a fuction\n",
    "    return emails.find(\"@\")  #we use return method to find @ \n",
    "find_a = list(map(find_a, emails)) #we called the find_A\n",
    "print(find_a)"
   ]
  },
  {
   "cell_type": "code",
   "execution_count": 12,
   "metadata": {},
   "outputs": [
    {
     "name": "stdout",
     "output_type": "stream",
     "text": [
      "[True, True, True, False, False, True, True, False, False, False, False, False, True, False, True, True, True, True, True, True, True, True, True, True, True, True, True, True, True, True, True, True, True, True, False]\n"
     ]
    }
   ],
   "source": [
    "#Question number 5\n",
    "def find_edu(emails):   #First, we define a function to find_edu in each strings with a True/False condition\n",
    "    if emails.find(\".edu\") != -1:  #we use if, else to conditional fuction and return method. \n",
    "        return True\n",
    "    else:\n",
    "        return False\n",
    "find_edu = list(map(find_edu, emails))   #We called fuction and the print the result. obs: we use copilotgpt4 to understand this exercise.\n",
    "\n",
    "print(find_edu)"
   ]
  },
  {
   "cell_type": "code",
   "execution_count": 13,
   "metadata": {},
   "outputs": [
    {
     "name": "stdout",
     "output_type": "stream",
     "text": [
      "['cscornejo@pucp', 'orellana', 'karina', 'a20083223@pucp', 'abel', 'mtintaya@pucp', 'joselin', 'a20105737@pucp', 'jfgomezc@pucp', 'afrania', 'luzon', 'adrian', 'soto', 'a20132766@pucp', 'andre', 'gustavo', 'pmlozada@pucp', 'm', 'nicolas', 'gvidal@pucp', 'jane', 'm', 'alejandro', 'a20167070@pucp', 'riega', 'vlevanot@pucp', 'sesquives@pucp', 'perez', 'mariana', 'aclavo@pucp', 'a20182474@pucp', 'josue', 'fabio', 'fernanda', 'aquillatupa@pucp']\n"
     ]
    }
   ],
   "source": [
    "#Question number 6\n",
    "def before_dot(emails):  ## First we define a function to get all the strings before the first dot\n",
    "    return emails.split(\".\")[0] \n",
    "before_dot = list(map(before_dot, emails)) # Then we print the new list \n",
    "print(before_dot)"
   ]
  },
  {
   "cell_type": "markdown",
   "metadata": {},
   "source": [
    "## 1.4 Pandas\n",
    "\n",
    "You can and should always ask ChatGPT, BARD, Bing, etc.\n",
    "In this exercise, you will work with financial data. Follow the steps below:\n",
    "\n",
    "1. Load Data:\n",
    "   Load the financial data available at this URL:    https://raw.githubusercontent.com/datasets/finance-vix/main/data/vix-daily.csv\n",
    "   Use `pd.read_csv()` adn the link to load the data into a DataFrame.\n",
    "\n",
    "2. Explore Data:\n",
    "   a) Display the first five rows of the DataFrame.\n",
    "   b) Display the summary statistics of the DataFrame.\n",
    "\n",
    "3. Add Columns:\n",
    "   a) Add a new column 'Level' that categorizes the 'Close' column values into 'Low' (< 20), 'Medium' (20-30), and 'High' (>30). You need to make a filter to make this categorization. You can see below some suggestions how to do it.\n",
    "   b) Add a new column 'Year' extracted from the 'Date' column. You need to work with dates. You can do it directly workiwith the column splitting it or changing it to date format an dfollowing the below suggestion. \n",
    "\n",
    "4. Add Rows:\n",
    "   a) Add a new row with a date of your choice and fill the other columns with appropriate values. \n",
    "\n",
    "5. Analysis:\n",
    "   a) Calculate the average of the column 'Close' for each 'Year'. You need to group for this task.\n",
    "   b) Count the number of 'High', 'Medium', and 'Low'  Level days in the data.\n",
    "\n",
    "Suggestions:\n",
    "   - Use `pd.cut()` for categorizing 'Close' values.\n",
    "   - Use `pd.to_datetime()` and `dt.year` to extract the year from a date.\n",
    "   - Use `DataFrame.append()` or `pd.concat()` to add rows.\n",
    "   - Use `groupby()` for aggregation tasks."
   ]
  },
  {
   "cell_type": "code",
   "execution_count": 19,
   "metadata": {},
   "outputs": [],
   "source": [
    "import pandas as pd\n",
    "url = \"https://raw.githubusercontent.com/datasets/finance-vix/main/data/vix-daily.csv\"\n",
    "df  = pd.read_csv(url)"
   ]
  },
  {
   "cell_type": "code",
   "execution_count": 15,
   "metadata": {},
   "outputs": [
    {
     "data": {
      "text/html": [
       "<div>\n",
       "<style scoped>\n",
       "    .dataframe tbody tr th:only-of-type {\n",
       "        vertical-align: middle;\n",
       "    }\n",
       "\n",
       "    .dataframe tbody tr th {\n",
       "        vertical-align: top;\n",
       "    }\n",
       "\n",
       "    .dataframe thead th {\n",
       "        text-align: right;\n",
       "    }\n",
       "</style>\n",
       "<table border=\"1\" class=\"dataframe\">\n",
       "  <thead>\n",
       "    <tr style=\"text-align: right;\">\n",
       "      <th></th>\n",
       "      <th>DATE</th>\n",
       "      <th>OPEN</th>\n",
       "      <th>HIGH</th>\n",
       "      <th>LOW</th>\n",
       "      <th>CLOSE</th>\n",
       "    </tr>\n",
       "  </thead>\n",
       "  <tbody>\n",
       "    <tr>\n",
       "      <th>0</th>\n",
       "      <td>01/02/1990</td>\n",
       "      <td>17.24</td>\n",
       "      <td>17.24</td>\n",
       "      <td>17.24</td>\n",
       "      <td>17.24</td>\n",
       "    </tr>\n",
       "    <tr>\n",
       "      <th>1</th>\n",
       "      <td>01/03/1990</td>\n",
       "      <td>18.19</td>\n",
       "      <td>18.19</td>\n",
       "      <td>18.19</td>\n",
       "      <td>18.19</td>\n",
       "    </tr>\n",
       "    <tr>\n",
       "      <th>2</th>\n",
       "      <td>01/04/1990</td>\n",
       "      <td>19.22</td>\n",
       "      <td>19.22</td>\n",
       "      <td>19.22</td>\n",
       "      <td>19.22</td>\n",
       "    </tr>\n",
       "    <tr>\n",
       "      <th>3</th>\n",
       "      <td>01/05/1990</td>\n",
       "      <td>20.11</td>\n",
       "      <td>20.11</td>\n",
       "      <td>20.11</td>\n",
       "      <td>20.11</td>\n",
       "    </tr>\n",
       "    <tr>\n",
       "      <th>4</th>\n",
       "      <td>01/08/1990</td>\n",
       "      <td>20.26</td>\n",
       "      <td>20.26</td>\n",
       "      <td>20.26</td>\n",
       "      <td>20.26</td>\n",
       "    </tr>\n",
       "  </tbody>\n",
       "</table>\n",
       "</div>"
      ],
      "text/plain": [
       "         DATE   OPEN   HIGH    LOW  CLOSE\n",
       "0  01/02/1990  17.24  17.24  17.24  17.24\n",
       "1  01/03/1990  18.19  18.19  18.19  18.19\n",
       "2  01/04/1990  19.22  19.22  19.22  19.22\n",
       "3  01/05/1990  20.11  20.11  20.11  20.11\n",
       "4  01/08/1990  20.26  20.26  20.26  20.26"
      ]
     },
     "execution_count": 15,
     "metadata": {},
     "output_type": "execute_result"
    }
   ],
   "source": [
    "#Question number 2 a) display the first five rows of the DataFrame\n",
    "df.head(5) #Show the first five rows"
   ]
  },
  {
   "cell_type": "code",
   "execution_count": 20,
   "metadata": {},
   "outputs": [
    {
     "data": {
      "text/html": [
       "<div>\n",
       "<style scoped>\n",
       "    .dataframe tbody tr th:only-of-type {\n",
       "        vertical-align: middle;\n",
       "    }\n",
       "\n",
       "    .dataframe tbody tr th {\n",
       "        vertical-align: top;\n",
       "    }\n",
       "\n",
       "    .dataframe thead th {\n",
       "        text-align: right;\n",
       "    }\n",
       "</style>\n",
       "<table border=\"1\" class=\"dataframe\">\n",
       "  <thead>\n",
       "    <tr style=\"text-align: right;\">\n",
       "      <th></th>\n",
       "      <th>DATE</th>\n",
       "      <th>OPEN</th>\n",
       "      <th>HIGH</th>\n",
       "      <th>LOW</th>\n",
       "      <th>CLOSE</th>\n",
       "    </tr>\n",
       "  </thead>\n",
       "  <tbody>\n",
       "    <tr>\n",
       "      <th>count</th>\n",
       "      <td>8577</td>\n",
       "      <td>8577.000000</td>\n",
       "      <td>8577.000000</td>\n",
       "      <td>8577.000000</td>\n",
       "      <td>8577.000000</td>\n",
       "    </tr>\n",
       "    <tr>\n",
       "      <th>unique</th>\n",
       "      <td>8577</td>\n",
       "      <td>NaN</td>\n",
       "      <td>NaN</td>\n",
       "      <td>NaN</td>\n",
       "      <td>NaN</td>\n",
       "    </tr>\n",
       "    <tr>\n",
       "      <th>top</th>\n",
       "      <td>01/02/1990</td>\n",
       "      <td>NaN</td>\n",
       "      <td>NaN</td>\n",
       "      <td>NaN</td>\n",
       "      <td>NaN</td>\n",
       "    </tr>\n",
       "    <tr>\n",
       "      <th>freq</th>\n",
       "      <td>1</td>\n",
       "      <td>NaN</td>\n",
       "      <td>NaN</td>\n",
       "      <td>NaN</td>\n",
       "      <td>NaN</td>\n",
       "    </tr>\n",
       "    <tr>\n",
       "      <th>mean</th>\n",
       "      <td>NaN</td>\n",
       "      <td>19.666454</td>\n",
       "      <td>20.474364</td>\n",
       "      <td>18.914884</td>\n",
       "      <td>19.580374</td>\n",
       "    </tr>\n",
       "    <tr>\n",
       "      <th>std</th>\n",
       "      <td>NaN</td>\n",
       "      <td>7.979066</td>\n",
       "      <td>8.439927</td>\n",
       "      <td>7.469827</td>\n",
       "      <td>7.906214</td>\n",
       "    </tr>\n",
       "    <tr>\n",
       "      <th>min</th>\n",
       "      <td>NaN</td>\n",
       "      <td>9.010000</td>\n",
       "      <td>9.310000</td>\n",
       "      <td>8.560000</td>\n",
       "      <td>9.140000</td>\n",
       "    </tr>\n",
       "    <tr>\n",
       "      <th>25%</th>\n",
       "      <td>NaN</td>\n",
       "      <td>13.940000</td>\n",
       "      <td>14.540000</td>\n",
       "      <td>13.400000</td>\n",
       "      <td>13.880000</td>\n",
       "    </tr>\n",
       "    <tr>\n",
       "      <th>50%</th>\n",
       "      <td>NaN</td>\n",
       "      <td>17.790000</td>\n",
       "      <td>18.470000</td>\n",
       "      <td>17.220000</td>\n",
       "      <td>17.760000</td>\n",
       "    </tr>\n",
       "    <tr>\n",
       "      <th>75%</th>\n",
       "      <td>NaN</td>\n",
       "      <td>23.100000</td>\n",
       "      <td>23.960000</td>\n",
       "      <td>22.320000</td>\n",
       "      <td>22.990000</td>\n",
       "    </tr>\n",
       "    <tr>\n",
       "      <th>max</th>\n",
       "      <td>NaN</td>\n",
       "      <td>82.690000</td>\n",
       "      <td>89.530000</td>\n",
       "      <td>72.760000</td>\n",
       "      <td>82.690000</td>\n",
       "    </tr>\n",
       "  </tbody>\n",
       "</table>\n",
       "</div>"
      ],
      "text/plain": [
       "              DATE         OPEN         HIGH          LOW        CLOSE\n",
       "count         8577  8577.000000  8577.000000  8577.000000  8577.000000\n",
       "unique        8577          NaN          NaN          NaN          NaN\n",
       "top     01/02/1990          NaN          NaN          NaN          NaN\n",
       "freq             1          NaN          NaN          NaN          NaN\n",
       "mean           NaN    19.666454    20.474364    18.914884    19.580374\n",
       "std            NaN     7.979066     8.439927     7.469827     7.906214\n",
       "min            NaN     9.010000     9.310000     8.560000     9.140000\n",
       "25%            NaN    13.940000    14.540000    13.400000    13.880000\n",
       "50%            NaN    17.790000    18.470000    17.220000    17.760000\n",
       "75%            NaN    23.100000    23.960000    22.320000    22.990000\n",
       "max            NaN    82.690000    89.530000    72.760000    82.690000"
      ]
     },
     "execution_count": 20,
     "metadata": {},
     "output_type": "execute_result"
    }
   ],
   "source": [
    "#Display the summarize statistics of data fram\n",
    "df.describe(include=\"all\") #the function \"describe\" provide us descriptive statistics about the variables"
   ]
  },
  {
   "cell_type": "code",
   "execution_count": 21,
   "metadata": {},
   "outputs": [
    {
     "name": "stdout",
     "output_type": "stream",
     "text": [
      "            DATE   OPEN   HIGH    LOW  CLOSE   Level\n",
      "0     01/02/1990  17.24  17.24  17.24  17.24     Low\n",
      "1     01/03/1990  18.19  18.19  18.19  18.19     Low\n",
      "2     01/04/1990  19.22  19.22  19.22  19.22     Low\n",
      "3     01/05/1990  20.11  20.11  20.11  20.11  Medium\n",
      "4     01/08/1990  20.26  20.26  20.26  20.26  Medium\n",
      "...          ...    ...    ...    ...    ...     ...\n",
      "8572  12/29/2023  12.55  13.19  12.36  12.45     Low\n",
      "8573  01/02/2024  13.22  14.23  13.10  13.20     Low\n",
      "8574  01/03/2024  13.35  14.22  13.33  14.04     Low\n",
      "8575  01/04/2024  13.93  14.20  13.64  14.13     Low\n",
      "8576  01/05/2024  14.24  14.58  13.29  13.35     Low\n",
      "\n",
      "[8577 rows x 6 columns]\n"
     ]
    }
   ],
   "source": [
    "#question number 3 a) \n",
    "bins = [0, 20, 30, float('inf')]  #categorization\n",
    "labels = ['Low', 'Medium', 'High'] #Label for each category\n",
    "df['Level'] = pd.cut(df['CLOSE'], bins=bins, labels=labels, right=False) #add the column \n",
    "print(df)"
   ]
  },
  {
   "cell_type": "code",
   "execution_count": 22,
   "metadata": {},
   "outputs": [
    {
     "name": "stdout",
     "output_type": "stream",
     "text": [
      "            DATE   OPEN   HIGH    LOW  CLOSE   Level  year\n",
      "0     01/02/1990  17.24  17.24  17.24  17.24     Low  1990\n",
      "1     01/03/1990  18.19  18.19  18.19  18.19     Low  1990\n",
      "2     01/04/1990  19.22  19.22  19.22  19.22     Low  1990\n",
      "3     01/05/1990  20.11  20.11  20.11  20.11  Medium  1990\n",
      "4     01/08/1990  20.26  20.26  20.26  20.26  Medium  1990\n",
      "...          ...    ...    ...    ...    ...     ...   ...\n",
      "8572  12/29/2023  12.55  13.19  12.36  12.45     Low  2023\n",
      "8573  01/02/2024  13.22  14.23  13.10  13.20     Low  2024\n",
      "8574  01/03/2024  13.35  14.22  13.33  14.04     Low  2024\n",
      "8575  01/04/2024  13.93  14.20  13.64  14.13     Low  2024\n",
      "8576  01/05/2024  14.24  14.58  13.29  13.35     Low  2024\n",
      "\n",
      "[8577 rows x 7 columns]\n"
     ]
    }
   ],
   "source": [
    "#question number 3 b)\n",
    "df['year'] = df['DATE'].str[-4:] #Extract the last 4 digits of the 'DATE' column\n",
    "print(df)"
   ]
  },
  {
   "cell_type": "code",
   "execution_count": 23,
   "metadata": {},
   "outputs": [
    {
     "name": "stdout",
     "output_type": "stream",
     "text": [
      "            DATE   OPEN   HIGH    LOW  CLOSE   Level  year\n",
      "0     01/02/1990  17.24  17.24  17.24  17.24     Low  1990\n",
      "1     01/03/1990  18.19  18.19  18.19  18.19     Low  1990\n",
      "2     01/04/1990  19.22  19.22  19.22  19.22     Low  1990\n",
      "3     01/05/1990  20.11  20.11  20.11  20.11  Medium  1990\n",
      "4     01/08/1990  20.26  20.26  20.26  20.26  Medium  1990\n",
      "...          ...    ...    ...    ...    ...     ...   ...\n",
      "8573  01/02/2024  13.22  14.23  13.10  13.20     Low  2024\n",
      "8574  01/03/2024  13.35  14.22  13.33  14.04     Low  2024\n",
      "8575  01/04/2024  13.93  14.20  13.64  14.13     Low  2024\n",
      "8576  01/05/2024  14.24  14.58  13.29  13.35     Low  2024\n",
      "8577  01/06/2024  13.55  14.25  13.52  14.03     Low  2024\n",
      "\n",
      "[8578 rows x 7 columns]\n"
     ]
    },
    {
     "name": "stderr",
     "output_type": "stream",
     "text": [
      "C:\\Users\\Hp\\AppData\\Local\\Temp\\ipykernel_16204\\2524339065.py:4: FutureWarning: The frame.append method is deprecated and will be removed from pandas in a future version. Use pandas.concat instead.\n",
      "  df = df.append(new_row, ignore_index=True)\n"
     ]
    }
   ],
   "source": [
    "#question number 4\n",
    "\n",
    "new_row = {'DATE': '01/06/2024', 'OPEN': 13.55, 'HIGH':14.25, 'LOW': 13.52, 'CLOSE':14.03}\n",
    "df = df.append(new_row, ignore_index=True)\n",
    "df['year'] = df['DATE'].str[-4:]\n",
    "bins = [0, 20, 30, float('inf')]  \n",
    "labels = ['Low', 'Medium', 'High']\n",
    "df['Level'] = pd.cut(df['CLOSE'], bins=bins, labels=labels, right=False)\n",
    "print(df)"
   ]
  },
  {
   "cell_type": "code",
   "execution_count": 24,
   "metadata": {},
   "outputs": [
    {
     "name": "stdout",
     "output_type": "stream",
     "text": [
      "year\n",
      "1990    23.063478\n",
      "1991    18.373373\n",
      "1992    15.452047\n",
      "1993    12.686245\n",
      "1994    13.925516\n",
      "1995    12.388770\n",
      "1996    16.442165\n",
      "1997    22.363984\n",
      "1998    25.602976\n",
      "1999    24.371912\n",
      "2000    23.315000\n",
      "2001    25.749677\n",
      "2002    27.292460\n",
      "2003    21.982857\n",
      "2004    15.479644\n",
      "2005    12.807063\n",
      "2006    12.810320\n",
      "2007    17.535936\n",
      "2008    32.695534\n",
      "2009    31.479008\n",
      "2010    22.548889\n",
      "2011    24.202579\n",
      "2012    17.801640\n",
      "2013    14.230119\n",
      "2014    14.175992\n",
      "2015    16.674087\n",
      "2016    15.825635\n",
      "2017    11.090239\n",
      "2018    16.639841\n",
      "2019    15.387540\n",
      "2020    29.251304\n",
      "2021    19.656151\n",
      "2022    25.637148\n",
      "2023    16.849027\n",
      "2024    13.750000\n",
      "Name: CLOSE, dtype: float64\n"
     ]
    }
   ],
   "source": [
    "#question number 5  later a)\n",
    "average_close_per_year = df.groupby('year')['CLOSE'].mean() \n",
    "#Calculate the average 'Close' for each year, the groupby method is used to group the DataFrame by the 'Year' column\n",
    "print(average_close_per_year)"
   ]
  },
  {
   "cell_type": "code",
   "execution_count": 25,
   "metadata": {},
   "outputs": [
    {
     "name": "stdout",
     "output_type": "stream",
     "text": [
      "Low       5273\n",
      "Medium    2583\n",
      "High       722\n",
      "Name: Level, dtype: int64\n"
     ]
    }
   ],
   "source": [
    "#question number 5 later b)\n",
    "level_counts = df['Level'].value_counts() \n",
    "#the value_counts() method is applied to the 'Level' column, which counts the occurrences of each unique value in that column\n",
    "print(level_counts)"
   ]
  }
 ],
 "metadata": {
  "hide_input": false,
  "kernelspec": {
   "display_name": "Python 3 (ipykernel)",
   "language": "python",
   "name": "python3"
  },
  "language_info": {
   "codemirror_mode": {
    "name": "ipython",
    "version": 3
   },
   "file_extension": ".py",
   "mimetype": "text/x-python",
   "name": "python",
   "nbconvert_exporter": "python",
   "pygments_lexer": "ipython3",
   "version": "3.11.5"
  },
  "toc": {
   "base_numbering": 1,
   "nav_menu": {},
   "number_sections": true,
   "sideBar": true,
   "skip_h1_title": false,
   "title_cell": "Table of Contents",
   "title_sidebar": "Contents",
   "toc_cell": false,
   "toc_position": {},
   "toc_section_display": true,
   "toc_window_display": false
  }
 },
 "nbformat": 4,
 "nbformat_minor": 4
}

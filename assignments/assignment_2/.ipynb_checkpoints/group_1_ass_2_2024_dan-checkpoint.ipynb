{
 "cells": [
  {
   "cell_type": "markdown",
   "id": "1b8dd22a",
   "metadata": {},
   "source": [
    "## Assignment 2 - Group 1 \n",
    "\n",
    "First of all, we import the libraries to be used in this work:"
   ]
  },
  {
   "cell_type": "code",
   "execution_count": 1,
   "id": "3d3a41c3",
   "metadata": {},
   "outputs": [],
   "source": [
    "import numpy as np\n",
    "import pandas as pd"
   ]
  },
  {
   "cell_type": "markdown",
   "id": "88921579",
   "metadata": {},
   "source": [
    "#### Question 1.4 - Pandas\n",
    "\n",
    "1. Load Data:\n",
    "   Load the financial data available at this URL:    https://raw.githubusercontent.com/datasets/finance-vix/main/data/vix-daily.csv\n",
    "   Use `pd.read_csv()` and the link to load the data into a DataFrame.\n",
    "   \n",
    "We can do this simply with the following line of code."
   ]
  },
  {
   "cell_type": "code",
   "execution_count": 33,
   "id": "3a5deb8c",
   "metadata": {},
   "outputs": [],
   "source": [
    "df=pd.read_csv(r'https://raw.githubusercontent.com/datasets/finance-vix/main/data/vix-daily.csv')"
   ]
  },
  {
   "cell_type": "markdown",
   "id": "0a492b7c",
   "metadata": {},
   "source": [
    "It can be seen that the imported DataFrame is the following:"
   ]
  },
  {
   "cell_type": "code",
   "execution_count": 34,
   "id": "83e9ebbd",
   "metadata": {},
   "outputs": [
    {
     "data": {
      "text/html": [
       "<div>\n",
       "<style scoped>\n",
       "    .dataframe tbody tr th:only-of-type {\n",
       "        vertical-align: middle;\n",
       "    }\n",
       "\n",
       "    .dataframe tbody tr th {\n",
       "        vertical-align: top;\n",
       "    }\n",
       "\n",
       "    .dataframe thead th {\n",
       "        text-align: right;\n",
       "    }\n",
       "</style>\n",
       "<table border=\"1\" class=\"dataframe\">\n",
       "  <thead>\n",
       "    <tr style=\"text-align: right;\">\n",
       "      <th></th>\n",
       "      <th>DATE</th>\n",
       "      <th>OPEN</th>\n",
       "      <th>HIGH</th>\n",
       "      <th>LOW</th>\n",
       "      <th>CLOSE</th>\n",
       "    </tr>\n",
       "  </thead>\n",
       "  <tbody>\n",
       "    <tr>\n",
       "      <th>0</th>\n",
       "      <td>01/02/1990</td>\n",
       "      <td>17.24</td>\n",
       "      <td>17.24</td>\n",
       "      <td>17.24</td>\n",
       "      <td>17.24</td>\n",
       "    </tr>\n",
       "    <tr>\n",
       "      <th>1</th>\n",
       "      <td>01/03/1990</td>\n",
       "      <td>18.19</td>\n",
       "      <td>18.19</td>\n",
       "      <td>18.19</td>\n",
       "      <td>18.19</td>\n",
       "    </tr>\n",
       "    <tr>\n",
       "      <th>2</th>\n",
       "      <td>01/04/1990</td>\n",
       "      <td>19.22</td>\n",
       "      <td>19.22</td>\n",
       "      <td>19.22</td>\n",
       "      <td>19.22</td>\n",
       "    </tr>\n",
       "    <tr>\n",
       "      <th>3</th>\n",
       "      <td>01/05/1990</td>\n",
       "      <td>20.11</td>\n",
       "      <td>20.11</td>\n",
       "      <td>20.11</td>\n",
       "      <td>20.11</td>\n",
       "    </tr>\n",
       "    <tr>\n",
       "      <th>4</th>\n",
       "      <td>01/08/1990</td>\n",
       "      <td>20.26</td>\n",
       "      <td>20.26</td>\n",
       "      <td>20.26</td>\n",
       "      <td>20.26</td>\n",
       "    </tr>\n",
       "    <tr>\n",
       "      <th>...</th>\n",
       "      <td>...</td>\n",
       "      <td>...</td>\n",
       "      <td>...</td>\n",
       "      <td>...</td>\n",
       "      <td>...</td>\n",
       "    </tr>\n",
       "    <tr>\n",
       "      <th>8572</th>\n",
       "      <td>12/29/2023</td>\n",
       "      <td>12.55</td>\n",
       "      <td>13.19</td>\n",
       "      <td>12.36</td>\n",
       "      <td>12.45</td>\n",
       "    </tr>\n",
       "    <tr>\n",
       "      <th>8573</th>\n",
       "      <td>01/02/2024</td>\n",
       "      <td>13.22</td>\n",
       "      <td>14.23</td>\n",
       "      <td>13.10</td>\n",
       "      <td>13.20</td>\n",
       "    </tr>\n",
       "    <tr>\n",
       "      <th>8574</th>\n",
       "      <td>01/03/2024</td>\n",
       "      <td>13.35</td>\n",
       "      <td>14.22</td>\n",
       "      <td>13.33</td>\n",
       "      <td>14.04</td>\n",
       "    </tr>\n",
       "    <tr>\n",
       "      <th>8575</th>\n",
       "      <td>01/04/2024</td>\n",
       "      <td>13.93</td>\n",
       "      <td>14.20</td>\n",
       "      <td>13.64</td>\n",
       "      <td>14.13</td>\n",
       "    </tr>\n",
       "    <tr>\n",
       "      <th>8576</th>\n",
       "      <td>01/05/2024</td>\n",
       "      <td>14.24</td>\n",
       "      <td>14.58</td>\n",
       "      <td>13.29</td>\n",
       "      <td>13.35</td>\n",
       "    </tr>\n",
       "  </tbody>\n",
       "</table>\n",
       "<p>8577 rows × 5 columns</p>\n",
       "</div>"
      ],
      "text/plain": [
       "            DATE   OPEN   HIGH    LOW  CLOSE\n",
       "0     01/02/1990  17.24  17.24  17.24  17.24\n",
       "1     01/03/1990  18.19  18.19  18.19  18.19\n",
       "2     01/04/1990  19.22  19.22  19.22  19.22\n",
       "3     01/05/1990  20.11  20.11  20.11  20.11\n",
       "4     01/08/1990  20.26  20.26  20.26  20.26\n",
       "...          ...    ...    ...    ...    ...\n",
       "8572  12/29/2023  12.55  13.19  12.36  12.45\n",
       "8573  01/02/2024  13.22  14.23  13.10  13.20\n",
       "8574  01/03/2024  13.35  14.22  13.33  14.04\n",
       "8575  01/04/2024  13.93  14.20  13.64  14.13\n",
       "8576  01/05/2024  14.24  14.58  13.29  13.35\n",
       "\n",
       "[8577 rows x 5 columns]"
      ]
     },
     "execution_count": 34,
     "metadata": {},
     "output_type": "execute_result"
    }
   ],
   "source": [
    "df"
   ]
  },
  {
   "cell_type": "markdown",
   "id": "bf086d3e",
   "metadata": {},
   "source": [
    "2. Explore Data:\n",
    "   a) Display the first five rows of the DataFrame.\n",
    "   b) Display the summary statistics of the DataFrame.\n",
    "\n",
    "To display only the first five rows of the DataFrame we use the `head` method as follows:"
   ]
  },
  {
   "cell_type": "code",
   "execution_count": 35,
   "id": "01b1093c",
   "metadata": {},
   "outputs": [
    {
     "data": {
      "text/html": [
       "<div>\n",
       "<style scoped>\n",
       "    .dataframe tbody tr th:only-of-type {\n",
       "        vertical-align: middle;\n",
       "    }\n",
       "\n",
       "    .dataframe tbody tr th {\n",
       "        vertical-align: top;\n",
       "    }\n",
       "\n",
       "    .dataframe thead th {\n",
       "        text-align: right;\n",
       "    }\n",
       "</style>\n",
       "<table border=\"1\" class=\"dataframe\">\n",
       "  <thead>\n",
       "    <tr style=\"text-align: right;\">\n",
       "      <th></th>\n",
       "      <th>DATE</th>\n",
       "      <th>OPEN</th>\n",
       "      <th>HIGH</th>\n",
       "      <th>LOW</th>\n",
       "      <th>CLOSE</th>\n",
       "    </tr>\n",
       "  </thead>\n",
       "  <tbody>\n",
       "    <tr>\n",
       "      <th>0</th>\n",
       "      <td>01/02/1990</td>\n",
       "      <td>17.24</td>\n",
       "      <td>17.24</td>\n",
       "      <td>17.24</td>\n",
       "      <td>17.24</td>\n",
       "    </tr>\n",
       "    <tr>\n",
       "      <th>1</th>\n",
       "      <td>01/03/1990</td>\n",
       "      <td>18.19</td>\n",
       "      <td>18.19</td>\n",
       "      <td>18.19</td>\n",
       "      <td>18.19</td>\n",
       "    </tr>\n",
       "    <tr>\n",
       "      <th>2</th>\n",
       "      <td>01/04/1990</td>\n",
       "      <td>19.22</td>\n",
       "      <td>19.22</td>\n",
       "      <td>19.22</td>\n",
       "      <td>19.22</td>\n",
       "    </tr>\n",
       "    <tr>\n",
       "      <th>3</th>\n",
       "      <td>01/05/1990</td>\n",
       "      <td>20.11</td>\n",
       "      <td>20.11</td>\n",
       "      <td>20.11</td>\n",
       "      <td>20.11</td>\n",
       "    </tr>\n",
       "    <tr>\n",
       "      <th>4</th>\n",
       "      <td>01/08/1990</td>\n",
       "      <td>20.26</td>\n",
       "      <td>20.26</td>\n",
       "      <td>20.26</td>\n",
       "      <td>20.26</td>\n",
       "    </tr>\n",
       "  </tbody>\n",
       "</table>\n",
       "</div>"
      ],
      "text/plain": [
       "         DATE   OPEN   HIGH    LOW  CLOSE\n",
       "0  01/02/1990  17.24  17.24  17.24  17.24\n",
       "1  01/03/1990  18.19  18.19  18.19  18.19\n",
       "2  01/04/1990  19.22  19.22  19.22  19.22\n",
       "3  01/05/1990  20.11  20.11  20.11  20.11\n",
       "4  01/08/1990  20.26  20.26  20.26  20.26"
      ]
     },
     "execution_count": 35,
     "metadata": {},
     "output_type": "execute_result"
    }
   ],
   "source": [
    "df.head(5)"
   ]
  },
  {
   "cell_type": "markdown",
   "id": "6901f31d",
   "metadata": {},
   "source": [
    "To display a statistical summary we use the `describe` method as follows:"
   ]
  },
  {
   "cell_type": "code",
   "execution_count": 36,
   "id": "1d8124d3",
   "metadata": {},
   "outputs": [
    {
     "data": {
      "text/html": [
       "<div>\n",
       "<style scoped>\n",
       "    .dataframe tbody tr th:only-of-type {\n",
       "        vertical-align: middle;\n",
       "    }\n",
       "\n",
       "    .dataframe tbody tr th {\n",
       "        vertical-align: top;\n",
       "    }\n",
       "\n",
       "    .dataframe thead th {\n",
       "        text-align: right;\n",
       "    }\n",
       "</style>\n",
       "<table border=\"1\" class=\"dataframe\">\n",
       "  <thead>\n",
       "    <tr style=\"text-align: right;\">\n",
       "      <th></th>\n",
       "      <th>OPEN</th>\n",
       "      <th>HIGH</th>\n",
       "      <th>LOW</th>\n",
       "      <th>CLOSE</th>\n",
       "    </tr>\n",
       "  </thead>\n",
       "  <tbody>\n",
       "    <tr>\n",
       "      <th>count</th>\n",
       "      <td>8577.000000</td>\n",
       "      <td>8577.000000</td>\n",
       "      <td>8577.000000</td>\n",
       "      <td>8577.000000</td>\n",
       "    </tr>\n",
       "    <tr>\n",
       "      <th>mean</th>\n",
       "      <td>19.666454</td>\n",
       "      <td>20.474364</td>\n",
       "      <td>18.914884</td>\n",
       "      <td>19.580374</td>\n",
       "    </tr>\n",
       "    <tr>\n",
       "      <th>std</th>\n",
       "      <td>7.979066</td>\n",
       "      <td>8.439927</td>\n",
       "      <td>7.469827</td>\n",
       "      <td>7.906214</td>\n",
       "    </tr>\n",
       "    <tr>\n",
       "      <th>min</th>\n",
       "      <td>9.010000</td>\n",
       "      <td>9.310000</td>\n",
       "      <td>8.560000</td>\n",
       "      <td>9.140000</td>\n",
       "    </tr>\n",
       "    <tr>\n",
       "      <th>25%</th>\n",
       "      <td>13.940000</td>\n",
       "      <td>14.540000</td>\n",
       "      <td>13.400000</td>\n",
       "      <td>13.880000</td>\n",
       "    </tr>\n",
       "    <tr>\n",
       "      <th>50%</th>\n",
       "      <td>17.790000</td>\n",
       "      <td>18.470000</td>\n",
       "      <td>17.220000</td>\n",
       "      <td>17.760000</td>\n",
       "    </tr>\n",
       "    <tr>\n",
       "      <th>75%</th>\n",
       "      <td>23.100000</td>\n",
       "      <td>23.960000</td>\n",
       "      <td>22.320000</td>\n",
       "      <td>22.990000</td>\n",
       "    </tr>\n",
       "    <tr>\n",
       "      <th>max</th>\n",
       "      <td>82.690000</td>\n",
       "      <td>89.530000</td>\n",
       "      <td>72.760000</td>\n",
       "      <td>82.690000</td>\n",
       "    </tr>\n",
       "  </tbody>\n",
       "</table>\n",
       "</div>"
      ],
      "text/plain": [
       "              OPEN         HIGH          LOW        CLOSE\n",
       "count  8577.000000  8577.000000  8577.000000  8577.000000\n",
       "mean     19.666454    20.474364    18.914884    19.580374\n",
       "std       7.979066     8.439927     7.469827     7.906214\n",
       "min       9.010000     9.310000     8.560000     9.140000\n",
       "25%      13.940000    14.540000    13.400000    13.880000\n",
       "50%      17.790000    18.470000    17.220000    17.760000\n",
       "75%      23.100000    23.960000    22.320000    22.990000\n",
       "max      82.690000    89.530000    72.760000    82.690000"
      ]
     },
     "execution_count": 36,
     "metadata": {},
     "output_type": "execute_result"
    }
   ],
   "source": [
    "df.describe()"
   ]
  },
  {
   "cell_type": "markdown",
   "id": "af39315d",
   "metadata": {},
   "source": [
    "3. Add Columns:\n",
    "   a) Add a new column 'Level' that categorizes the 'Close' column values into 'Low' (< 20), 'Medium' (20-30), and 'High' (>30). You need to make a filter to make this categorization. You can see below some suggestions how to do it.\n",
    "   b) Add a new column 'Year' extracted from the 'Date' column. You need to work with dates. You can do it directly workiwith the column splitting it or changing it to date format an dfollowing the below suggestion. \n",
    "   \n",
    "We can use `pd.cut` as follows:"
   ]
  },
  {
   "cell_type": "code",
   "execution_count": 37,
   "id": "0a0f576c",
   "metadata": {},
   "outputs": [],
   "source": [
    "bins = [0, 20, 30, float('inf')]\n",
    "labels = ['Low', 'Medium', 'High']\n",
    "\n",
    "df['LEVEL']=pd.cut(df['CLOSE'],bins=bins,labels=labels)"
   ]
  },
  {
   "cell_type": "markdown",
   "id": "6e34d25a",
   "metadata": {},
   "source": [
    "The breakpoints of the classifier interval are specified in the `bins` list. The first interval is from 0 to 20, the second is from 20 to 30, and the last is from 30 onwards. The values of `df['CLOSE']` that are in the first interval will be classified within it and the same happens with the other values in other intervals. Finally, `Low` will be placed as a label if the observation was placed in the first interval, `Medium` if the observation was placed in the second interval, and `High` if the observation was placed in the last interval. This creates the required column called `LEVEL` (which is created using `df['LEVEL']=`). You can see it created in the following line:"
   ]
  },
  {
   "cell_type": "code",
   "execution_count": 38,
   "id": "e1707661",
   "metadata": {},
   "outputs": [
    {
     "data": {
      "text/html": [
       "<div>\n",
       "<style scoped>\n",
       "    .dataframe tbody tr th:only-of-type {\n",
       "        vertical-align: middle;\n",
       "    }\n",
       "\n",
       "    .dataframe tbody tr th {\n",
       "        vertical-align: top;\n",
       "    }\n",
       "\n",
       "    .dataframe thead th {\n",
       "        text-align: right;\n",
       "    }\n",
       "</style>\n",
       "<table border=\"1\" class=\"dataframe\">\n",
       "  <thead>\n",
       "    <tr style=\"text-align: right;\">\n",
       "      <th></th>\n",
       "      <th>DATE</th>\n",
       "      <th>OPEN</th>\n",
       "      <th>HIGH</th>\n",
       "      <th>LOW</th>\n",
       "      <th>CLOSE</th>\n",
       "      <th>LEVEL</th>\n",
       "    </tr>\n",
       "  </thead>\n",
       "  <tbody>\n",
       "    <tr>\n",
       "      <th>0</th>\n",
       "      <td>01/02/1990</td>\n",
       "      <td>17.24</td>\n",
       "      <td>17.24</td>\n",
       "      <td>17.24</td>\n",
       "      <td>17.24</td>\n",
       "      <td>Low</td>\n",
       "    </tr>\n",
       "    <tr>\n",
       "      <th>1</th>\n",
       "      <td>01/03/1990</td>\n",
       "      <td>18.19</td>\n",
       "      <td>18.19</td>\n",
       "      <td>18.19</td>\n",
       "      <td>18.19</td>\n",
       "      <td>Low</td>\n",
       "    </tr>\n",
       "    <tr>\n",
       "      <th>2</th>\n",
       "      <td>01/04/1990</td>\n",
       "      <td>19.22</td>\n",
       "      <td>19.22</td>\n",
       "      <td>19.22</td>\n",
       "      <td>19.22</td>\n",
       "      <td>Low</td>\n",
       "    </tr>\n",
       "    <tr>\n",
       "      <th>3</th>\n",
       "      <td>01/05/1990</td>\n",
       "      <td>20.11</td>\n",
       "      <td>20.11</td>\n",
       "      <td>20.11</td>\n",
       "      <td>20.11</td>\n",
       "      <td>Medium</td>\n",
       "    </tr>\n",
       "    <tr>\n",
       "      <th>4</th>\n",
       "      <td>01/08/1990</td>\n",
       "      <td>20.26</td>\n",
       "      <td>20.26</td>\n",
       "      <td>20.26</td>\n",
       "      <td>20.26</td>\n",
       "      <td>Medium</td>\n",
       "    </tr>\n",
       "    <tr>\n",
       "      <th>...</th>\n",
       "      <td>...</td>\n",
       "      <td>...</td>\n",
       "      <td>...</td>\n",
       "      <td>...</td>\n",
       "      <td>...</td>\n",
       "      <td>...</td>\n",
       "    </tr>\n",
       "    <tr>\n",
       "      <th>8572</th>\n",
       "      <td>12/29/2023</td>\n",
       "      <td>12.55</td>\n",
       "      <td>13.19</td>\n",
       "      <td>12.36</td>\n",
       "      <td>12.45</td>\n",
       "      <td>Low</td>\n",
       "    </tr>\n",
       "    <tr>\n",
       "      <th>8573</th>\n",
       "      <td>01/02/2024</td>\n",
       "      <td>13.22</td>\n",
       "      <td>14.23</td>\n",
       "      <td>13.10</td>\n",
       "      <td>13.20</td>\n",
       "      <td>Low</td>\n",
       "    </tr>\n",
       "    <tr>\n",
       "      <th>8574</th>\n",
       "      <td>01/03/2024</td>\n",
       "      <td>13.35</td>\n",
       "      <td>14.22</td>\n",
       "      <td>13.33</td>\n",
       "      <td>14.04</td>\n",
       "      <td>Low</td>\n",
       "    </tr>\n",
       "    <tr>\n",
       "      <th>8575</th>\n",
       "      <td>01/04/2024</td>\n",
       "      <td>13.93</td>\n",
       "      <td>14.20</td>\n",
       "      <td>13.64</td>\n",
       "      <td>14.13</td>\n",
       "      <td>Low</td>\n",
       "    </tr>\n",
       "    <tr>\n",
       "      <th>8576</th>\n",
       "      <td>01/05/2024</td>\n",
       "      <td>14.24</td>\n",
       "      <td>14.58</td>\n",
       "      <td>13.29</td>\n",
       "      <td>13.35</td>\n",
       "      <td>Low</td>\n",
       "    </tr>\n",
       "  </tbody>\n",
       "</table>\n",
       "<p>8577 rows × 6 columns</p>\n",
       "</div>"
      ],
      "text/plain": [
       "            DATE   OPEN   HIGH    LOW  CLOSE   LEVEL\n",
       "0     01/02/1990  17.24  17.24  17.24  17.24     Low\n",
       "1     01/03/1990  18.19  18.19  18.19  18.19     Low\n",
       "2     01/04/1990  19.22  19.22  19.22  19.22     Low\n",
       "3     01/05/1990  20.11  20.11  20.11  20.11  Medium\n",
       "4     01/08/1990  20.26  20.26  20.26  20.26  Medium\n",
       "...          ...    ...    ...    ...    ...     ...\n",
       "8572  12/29/2023  12.55  13.19  12.36  12.45     Low\n",
       "8573  01/02/2024  13.22  14.23  13.10  13.20     Low\n",
       "8574  01/03/2024  13.35  14.22  13.33  14.04     Low\n",
       "8575  01/04/2024  13.93  14.20  13.64  14.13     Low\n",
       "8576  01/05/2024  14.24  14.58  13.29  13.35     Low\n",
       "\n",
       "[8577 rows x 6 columns]"
      ]
     },
     "execution_count": 38,
     "metadata": {},
     "output_type": "execute_result"
    }
   ],
   "source": [
    "df"
   ]
  },
  {
   "cell_type": "markdown",
   "id": "62c4dd20",
   "metadata": {},
   "source": [
    "Now, to create the requested year column, we first obtain a series in datetime format with the following command:"
   ]
  },
  {
   "cell_type": "code",
   "execution_count": 39,
   "id": "73c2a385",
   "metadata": {},
   "outputs": [],
   "source": [
    "serie1=pd.to_datetime(df['DATE'])"
   ]
  },
  {
   "cell_type": "markdown",
   "id": "dd3ba38e",
   "metadata": {},
   "source": [
    "Series1 contains in datetime format the string dates contained in `df['DATE']`\n",
    "\n",
    "Now we extract the year from each date with `dt.year`"
   ]
  },
  {
   "cell_type": "code",
   "execution_count": 40,
   "id": "fe9990fb",
   "metadata": {},
   "outputs": [],
   "source": [
    "serie2=serie1.dt.year"
   ]
  },
  {
   "cell_type": "markdown",
   "id": "a2e35ed3",
   "metadata": {},
   "source": [
    "And finally we create the required column using the years obtained."
   ]
  },
  {
   "cell_type": "code",
   "execution_count": 41,
   "id": "308f4c35",
   "metadata": {},
   "outputs": [],
   "source": [
    "df['YEAR']=serie2"
   ]
  },
  {
   "cell_type": "markdown",
   "id": "adb3331a",
   "metadata": {},
   "source": [
    "4. Add Rows:\n",
    "   a) Add a new row with a date of your choice and fill the other columns with appropriate values. \n",
    "\n",
    "First we look at the end of the DataFrame:"
   ]
  },
  {
   "cell_type": "code",
   "execution_count": 42,
   "id": "9fd138c4",
   "metadata": {},
   "outputs": [
    {
     "data": {
      "text/html": [
       "<div>\n",
       "<style scoped>\n",
       "    .dataframe tbody tr th:only-of-type {\n",
       "        vertical-align: middle;\n",
       "    }\n",
       "\n",
       "    .dataframe tbody tr th {\n",
       "        vertical-align: top;\n",
       "    }\n",
       "\n",
       "    .dataframe thead th {\n",
       "        text-align: right;\n",
       "    }\n",
       "</style>\n",
       "<table border=\"1\" class=\"dataframe\">\n",
       "  <thead>\n",
       "    <tr style=\"text-align: right;\">\n",
       "      <th></th>\n",
       "      <th>DATE</th>\n",
       "      <th>OPEN</th>\n",
       "      <th>HIGH</th>\n",
       "      <th>LOW</th>\n",
       "      <th>CLOSE</th>\n",
       "      <th>LEVEL</th>\n",
       "      <th>YEAR</th>\n",
       "    </tr>\n",
       "  </thead>\n",
       "  <tbody>\n",
       "    <tr>\n",
       "      <th>8572</th>\n",
       "      <td>12/29/2023</td>\n",
       "      <td>12.55</td>\n",
       "      <td>13.19</td>\n",
       "      <td>12.36</td>\n",
       "      <td>12.45</td>\n",
       "      <td>Low</td>\n",
       "      <td>2023</td>\n",
       "    </tr>\n",
       "    <tr>\n",
       "      <th>8573</th>\n",
       "      <td>01/02/2024</td>\n",
       "      <td>13.22</td>\n",
       "      <td>14.23</td>\n",
       "      <td>13.10</td>\n",
       "      <td>13.20</td>\n",
       "      <td>Low</td>\n",
       "      <td>2024</td>\n",
       "    </tr>\n",
       "    <tr>\n",
       "      <th>8574</th>\n",
       "      <td>01/03/2024</td>\n",
       "      <td>13.35</td>\n",
       "      <td>14.22</td>\n",
       "      <td>13.33</td>\n",
       "      <td>14.04</td>\n",
       "      <td>Low</td>\n",
       "      <td>2024</td>\n",
       "    </tr>\n",
       "    <tr>\n",
       "      <th>8575</th>\n",
       "      <td>01/04/2024</td>\n",
       "      <td>13.93</td>\n",
       "      <td>14.20</td>\n",
       "      <td>13.64</td>\n",
       "      <td>14.13</td>\n",
       "      <td>Low</td>\n",
       "      <td>2024</td>\n",
       "    </tr>\n",
       "    <tr>\n",
       "      <th>8576</th>\n",
       "      <td>01/05/2024</td>\n",
       "      <td>14.24</td>\n",
       "      <td>14.58</td>\n",
       "      <td>13.29</td>\n",
       "      <td>13.35</td>\n",
       "      <td>Low</td>\n",
       "      <td>2024</td>\n",
       "    </tr>\n",
       "  </tbody>\n",
       "</table>\n",
       "</div>"
      ],
      "text/plain": [
       "            DATE   OPEN   HIGH    LOW  CLOSE LEVEL  YEAR\n",
       "8572  12/29/2023  12.55  13.19  12.36  12.45   Low  2023\n",
       "8573  01/02/2024  13.22  14.23  13.10  13.20   Low  2024\n",
       "8574  01/03/2024  13.35  14.22  13.33  14.04   Low  2024\n",
       "8575  01/04/2024  13.93  14.20  13.64  14.13   Low  2024\n",
       "8576  01/05/2024  14.24  14.58  13.29  13.35   Low  2024"
      ]
     },
     "execution_count": 42,
     "metadata": {},
     "output_type": "execute_result"
    }
   ],
   "source": [
    "df.tail()"
   ]
  },
  {
   "cell_type": "markdown",
   "id": "7f2f9ad9",
   "metadata": {},
   "source": [
    "We then create the following dictionary using values close to the last observation."
   ]
  },
  {
   "cell_type": "code",
   "execution_count": 43,
   "id": "a140b3a0",
   "metadata": {},
   "outputs": [],
   "source": [
    "t=pd.Series(pd.to_datetime('01/06/2024')).dt.year # With this we extract the year from the date that we assign to this observation that we want to add.\n",
    "\n",
    "r={'DATE':'01/06/2024','OPEN':[14],'HIGH':[14.5],'LOW':[13.5],'CLOSE':[13.9],'LEVEL':'Low','YEAR':np.float64(t)}"
   ]
  },
  {
   "cell_type": "markdown",
   "id": "ab731dcb",
   "metadata": {},
   "source": [
    "We use the dictionary to create the DataFrame of the new observation. Likewise, we apply an appropriate index."
   ]
  },
  {
   "cell_type": "code",
   "execution_count": 44,
   "id": "68497a2a",
   "metadata": {},
   "outputs": [],
   "source": [
    "new_row=pd.DataFrame(r,index=['8576'])"
   ]
  },
  {
   "cell_type": "markdown",
   "id": "a9f2dd18",
   "metadata": {},
   "source": [
    "Now we add the observation contained in the previous DataFrame using the `append` method:"
   ]
  },
  {
   "cell_type": "code",
   "execution_count": 45,
   "id": "b710f487",
   "metadata": {},
   "outputs": [],
   "source": [
    "df=df.append(new_row)"
   ]
  },
  {
   "cell_type": "markdown",
   "id": "aba12207",
   "metadata": {},
   "source": [
    "We see that the observation was added."
   ]
  },
  {
   "cell_type": "code",
   "execution_count": 46,
   "id": "dfbb9157",
   "metadata": {},
   "outputs": [
    {
     "data": {
      "text/html": [
       "<div>\n",
       "<style scoped>\n",
       "    .dataframe tbody tr th:only-of-type {\n",
       "        vertical-align: middle;\n",
       "    }\n",
       "\n",
       "    .dataframe tbody tr th {\n",
       "        vertical-align: top;\n",
       "    }\n",
       "\n",
       "    .dataframe thead th {\n",
       "        text-align: right;\n",
       "    }\n",
       "</style>\n",
       "<table border=\"1\" class=\"dataframe\">\n",
       "  <thead>\n",
       "    <tr style=\"text-align: right;\">\n",
       "      <th></th>\n",
       "      <th>DATE</th>\n",
       "      <th>OPEN</th>\n",
       "      <th>HIGH</th>\n",
       "      <th>LOW</th>\n",
       "      <th>CLOSE</th>\n",
       "      <th>LEVEL</th>\n",
       "      <th>YEAR</th>\n",
       "    </tr>\n",
       "  </thead>\n",
       "  <tbody>\n",
       "    <tr>\n",
       "      <th>8573</th>\n",
       "      <td>01/02/2024</td>\n",
       "      <td>13.22</td>\n",
       "      <td>14.23</td>\n",
       "      <td>13.10</td>\n",
       "      <td>13.20</td>\n",
       "      <td>Low</td>\n",
       "      <td>2024.0</td>\n",
       "    </tr>\n",
       "    <tr>\n",
       "      <th>8574</th>\n",
       "      <td>01/03/2024</td>\n",
       "      <td>13.35</td>\n",
       "      <td>14.22</td>\n",
       "      <td>13.33</td>\n",
       "      <td>14.04</td>\n",
       "      <td>Low</td>\n",
       "      <td>2024.0</td>\n",
       "    </tr>\n",
       "    <tr>\n",
       "      <th>8575</th>\n",
       "      <td>01/04/2024</td>\n",
       "      <td>13.93</td>\n",
       "      <td>14.20</td>\n",
       "      <td>13.64</td>\n",
       "      <td>14.13</td>\n",
       "      <td>Low</td>\n",
       "      <td>2024.0</td>\n",
       "    </tr>\n",
       "    <tr>\n",
       "      <th>8576</th>\n",
       "      <td>01/05/2024</td>\n",
       "      <td>14.24</td>\n",
       "      <td>14.58</td>\n",
       "      <td>13.29</td>\n",
       "      <td>13.35</td>\n",
       "      <td>Low</td>\n",
       "      <td>2024.0</td>\n",
       "    </tr>\n",
       "    <tr>\n",
       "      <th>8576</th>\n",
       "      <td>01/06/2024</td>\n",
       "      <td>14.00</td>\n",
       "      <td>14.50</td>\n",
       "      <td>13.50</td>\n",
       "      <td>13.90</td>\n",
       "      <td>Low</td>\n",
       "      <td>2024.0</td>\n",
       "    </tr>\n",
       "  </tbody>\n",
       "</table>\n",
       "</div>"
      ],
      "text/plain": [
       "            DATE   OPEN   HIGH    LOW  CLOSE LEVEL    YEAR\n",
       "8573  01/02/2024  13.22  14.23  13.10  13.20   Low  2024.0\n",
       "8574  01/03/2024  13.35  14.22  13.33  14.04   Low  2024.0\n",
       "8575  01/04/2024  13.93  14.20  13.64  14.13   Low  2024.0\n",
       "8576  01/05/2024  14.24  14.58  13.29  13.35   Low  2024.0\n",
       "8576  01/06/2024  14.00  14.50  13.50  13.90   Low  2024.0"
      ]
     },
     "execution_count": 46,
     "metadata": {},
     "output_type": "execute_result"
    }
   ],
   "source": [
    "df.tail()"
   ]
  },
  {
   "cell_type": "markdown",
   "id": "9e56b46d",
   "metadata": {},
   "source": [
    "5. Analysis:\n",
    "   a) Calculate the average of the column 'Close' for each 'Year'. You need to group for this task.\n",
    "   b) Count the number of 'High', 'Medium', and 'Low'  Level days in the data.\n",
    "   \n",
    "With the `groupby` method we join the observations under the same year (introducing `['YEAR']` as an argument) and with the `mean` method we calculate the mean per year (only for the `CLOSE` column, which is achieved specifying `['CLOSE']`). In the following lines of code we do this:"
   ]
  },
  {
   "cell_type": "code",
   "execution_count": 47,
   "id": "38cb1870",
   "metadata": {},
   "outputs": [
    {
     "data": {
      "text/plain": [
       "YEAR\n",
       "1990.0    23.063478\n",
       "1991.0    18.373373\n",
       "1992.0    15.452047\n",
       "1993.0    12.686245\n",
       "1994.0    13.925516\n",
       "1995.0    12.388770\n",
       "1996.0    16.442165\n",
       "1997.0    22.363984\n",
       "1998.0    25.602976\n",
       "1999.0    24.371912\n",
       "2000.0    23.315000\n",
       "2001.0    25.749677\n",
       "2002.0    27.292460\n",
       "2003.0    21.982857\n",
       "2004.0    15.479644\n",
       "2005.0    12.807063\n",
       "2006.0    12.810320\n",
       "2007.0    17.535936\n",
       "2008.0    32.695534\n",
       "2009.0    31.479008\n",
       "2010.0    22.548889\n",
       "2011.0    24.202579\n",
       "2012.0    17.801640\n",
       "2013.0    14.230119\n",
       "2014.0    14.175992\n",
       "2015.0    16.674087\n",
       "2016.0    15.825635\n",
       "2017.0    11.090239\n",
       "2018.0    16.639841\n",
       "2019.0    15.387540\n",
       "2020.0    29.251304\n",
       "2021.0    19.656151\n",
       "2022.0    25.637148\n",
       "2023.0    16.849027\n",
       "2024.0    13.724000\n",
       "Name: CLOSE, dtype: float64"
      ]
     },
     "execution_count": 47,
     "metadata": {},
     "output_type": "execute_result"
    }
   ],
   "source": [
    "avg1=df.groupby(['YEAR'])\n",
    "avg1['CLOSE'].mean()"
   ]
  },
  {
   "cell_type": "markdown",
   "id": "9b988a00",
   "metadata": {},
   "source": [
    "Remember that we are only showing the average values that 'CLOSE' obtained for each year.\n",
    "\n",
    "Now, to count the number of `high`, `medium` and `low` level days in the data we do the following:\n",
    "\n",
    "We create a column of ones called N:"
   ]
  },
  {
   "cell_type": "code",
   "execution_count": 48,
   "id": "9e6fdbf3",
   "metadata": {},
   "outputs": [],
   "source": [
    "df['N']=1"
   ]
  },
  {
   "cell_type": "markdown",
   "id": "a89a2cae",
   "metadata": {},
   "source": [
    "Now we group according to `LEVEL` with the `groupby` method. Then with the `sum` method we obtain the total of ones for each `LEVEL`. Note that each one represents a day, so the sum represents the total number of days for each `LEVEL`"
   ]
  },
  {
   "cell_type": "code",
   "execution_count": 49,
   "id": "2a6ece0e",
   "metadata": {},
   "outputs": [
    {
     "data": {
      "text/plain": [
       "LEVEL\n",
       "High       720\n",
       "Low       5276\n",
       "Medium    2582\n",
       "Name: N, dtype: int64"
      ]
     },
     "execution_count": 49,
     "metadata": {},
     "output_type": "execute_result"
    }
   ],
   "source": [
    "avg2=df.groupby(['LEVEL'])\n",
    "avg2['N'].sum()"
   ]
  }
 ],
 "metadata": {
  "kernelspec": {
   "display_name": "Python 3 (ipykernel)",
   "language": "python",
   "name": "python3"
  },
  "language_info": {
   "codemirror_mode": {
    "name": "ipython",
    "version": 3
   },
   "file_extension": ".py",
   "mimetype": "text/x-python",
   "name": "python",
   "nbconvert_exporter": "python",
   "pygments_lexer": "ipython3",
   "version": "3.11.5"
  }
 },
 "nbformat": 4,
 "nbformat_minor": 5
}

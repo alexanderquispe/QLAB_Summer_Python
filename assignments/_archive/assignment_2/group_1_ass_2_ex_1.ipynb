{
 "cells": [
  {
   "cell_type": "markdown",
   "id": "5b9dc8ab",
   "metadata": {},
   "source": [
    "Assigment 2\n"
   ]
  },
  {
   "cell_type": "code",
   "execution_count": 19,
   "id": "f1ccd7b8",
   "metadata": {},
   "outputs": [
    {
     "data": {
      "text/plain": [
       "(5, 15, 25)"
      ]
     },
     "execution_count": 19,
     "metadata": {},
     "output_type": "execute_result"
    }
   ],
   "source": [
    "\n",
    "tuple1 = (\"Orange\", [10, 20, 30], (5, 15, 25))\n",
    "tuple2 = ([7, 8], [9, 1], [10, 7])"
   ]
  },
  {
   "cell_type": "markdown",
   "id": "3cedba29",
   "metadata": {},
   "source": [
    "Print the first item of the second item of tuple1 object. Hint: Use indexing"
   ]
  },
  {
   "cell_type": "code",
   "execution_count": 59,
   "id": "de273481",
   "metadata": {},
   "outputs": [
    {
     "data": {
      "text/plain": [
       "0"
      ]
     },
     "execution_count": 59,
     "metadata": {},
     "output_type": "execute_result"
    }
   ],
   "source": [
    "y=tuple1[2]\n",
    "y\n",
    "y.index ( 5 )"
   ]
  },
  {
   "cell_type": "markdown",
   "id": "016d5cfb",
   "metadata": {},
   "source": [
    "Print the last item of the tuple1 object.Hint: Use indexing\n",
    "\n"
   ]
  },
  {
   "cell_type": "code",
   "execution_count": 78,
   "id": "cf3c84ae",
   "metadata": {},
   "outputs": [
    {
     "data": {
      "text/plain": [
       "(5, 15, 25)"
      ]
     },
     "execution_count": 78,
     "metadata": {},
     "output_type": "execute_result"
    }
   ],
   "source": [
    "tuple1[2]"
   ]
  },
  {
   "cell_type": "markdown",
   "id": "643232b8",
   "metadata": {},
   "source": [
    "Change the value \"orange\" for \"pink grapefruit\". Comment the output. Hint: Is it possible?\n"
   ]
  },
  {
   "cell_type": "markdown",
   "id": "b0aa4ace",
   "metadata": {},
   "source": [
    "Not possible because you cant change items in a tuple. "
   ]
  },
  {
   "cell_type": "markdown",
   "id": "8b436132",
   "metadata": {},
   "source": [
    "Print the length of tuple1. Hint: Length function\n"
   ]
  },
  {
   "cell_type": "code",
   "execution_count": 19,
   "id": "f5489175",
   "metadata": {},
   "outputs": [
    {
     "data": {
      "text/plain": [
       "3"
      ]
     },
     "execution_count": 19,
     "metadata": {},
     "output_type": "execute_result"
    }
   ],
   "source": [
    "len(tuple1)"
   ]
  },
  {
   "cell_type": "markdown",
   "id": "157e515c",
   "metadata": {},
   "source": [
    "Sum all the elements of tuple2 and describe your steps and explain each of them. Hint: Use map function.\n"
   ]
  },
  {
   "cell_type": "code",
   "execution_count": 26,
   "id": "067be1ad",
   "metadata": {},
   "outputs": [
    {
     "name": "stdout",
     "output_type": "stream",
     "text": [
      "<map object at 0x000002187105C730>\n"
     ]
    }
   ],
   "source": [
    "\n",
    "x = map(tuple2, (7, 8, 9), (1, 10, 7))\n",
    "print(x)"
   ]
  },
  {
   "cell_type": "code",
   "execution_count": 31,
   "id": "f346d794",
   "metadata": {},
   "outputs": [
    {
     "data": {
      "text/plain": [
       "42"
      ]
     },
     "execution_count": 31,
     "metadata": {},
     "output_type": "execute_result"
    }
   ],
   "source": [
    "#Primero convertimos la tupla en una lista para poder modificar (sumar) sus elementos, luego usamos la función map para \"flatten\"\n",
    "#los elementos, es decir, que no estén separados por [] y, por lo tanto, no sean objetos distintos dentro de la lista, luego\n",
    "#volvemos a convertir el elemento en una lista y finalmente sumamos todo. Cabe aclarar que la primera suma, suma lo elementos\n",
    "#de los tres objetos que tiene la lista, que, posteriormente, dejarán de estar separados gracias a la función map,\n",
    "#el resultado sería [15, 10, 17], pero si volvemos a sumar ahora sí nos da la suma total\n",
    "new= sum(list(map(sum, list(tuple2))))\n",
    "new"
   ]
  },
  {
   "cell_type": "markdown",
   "id": "03d54836",
   "metadata": {},
   "source": [
    "Generate a new tuple object named as tuple3 with the half values of tuple2. This tuple should be similar as tuple2, tuple of lists. Hint: Use map funciont.\n"
   ]
  },
  {
   "cell_type": "code",
   "execution_count": 74,
   "id": "beb53d82",
   "metadata": {},
   "outputs": [
    {
     "data": {
      "text/plain": [
       "([7, 8], [9])"
      ]
     },
     "execution_count": 74,
     "metadata": {},
     "output_type": "execute_result"
    }
   ],
   "source": [
    "tuple3 = ([7, 8], [9])\n",
    "tuple3"
   ]
  },
  {
   "cell_type": "code",
   "execution_count": 75,
   "id": "0b9fe2cd",
   "metadata": {},
   "outputs": [],
   "source": [
    "a=tuple2[0]\n",
    "b=tuple2[1]\n",
    "c=tuple2[2]"
   ]
  },
  {
   "cell_type": "code",
   "execution_count": 69,
   "id": "96b51ad8",
   "metadata": {},
   "outputs": [],
   "source": [
    "tuple3=a+b+c"
   ]
  },
  {
   "cell_type": "code",
   "execution_count": 72,
   "id": "f63f6516",
   "metadata": {},
   "outputs": [
    {
     "data": {
      "text/plain": [
       "[7, 8, 9]"
      ]
     },
     "execution_count": 72,
     "metadata": {},
     "output_type": "execute_result"
    }
   ],
   "source": [
    "tuple3=tuple3[0:3]\n",
    "tuple3"
   ]
  }
 ],
 "metadata": {
  "kernelspec": {
   "display_name": "Python 3 (ipykernel)",
   "language": "python",
   "name": "python3"
  },
  "language_info": {
   "codemirror_mode": {
    "name": "ipython",
    "version": 3
   },
   "file_extension": ".py",
   "mimetype": "text/x-python",
   "name": "python",
   "nbconvert_exporter": "python",
   "pygments_lexer": "ipython3",
   "version": "3.9.7"
  }
 },
 "nbformat": 4,
 "nbformat_minor": 5
}

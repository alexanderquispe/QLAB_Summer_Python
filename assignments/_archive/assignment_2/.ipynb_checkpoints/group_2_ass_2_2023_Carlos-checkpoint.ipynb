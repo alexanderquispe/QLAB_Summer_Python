{
 "cells": [
  {
   "cell_type": "code",
   "execution_count": 2,
   "id": "2ae8b385",
   "metadata": {},
   "outputs": [],
   "source": [
    "str1 = 'I am                            too                                                        old'"
   ]
  },
  {
   "cell_type": "code",
   "execution_count": 3,
   "id": "f4be3fc3",
   "metadata": {},
   "outputs": [],
   "source": [
    "emails = [\"cscornejo@pucp.edu.pe\", \"orellana.cn@pucp.edu.pe\", \"karina.morales@pucp.edu.pe\", \"a20083223@pucp.pe\", \"abel.camacho@pucp.pe\", \"mtintaya@pucp.edu.pe\", \"joselin.chavez@pucp.edu.pe\", \"a20105737@pucp.pe\", \"jfgomezc@pucp.pe\", \"afrania.palomino@pucp.pe\", \"luzon.bianca@pucp.pe\", \"adrian.suanaz@pucp.pe\", \"soto.y@pucp.edu.pe\", \"a20132766@pucp.pe\", \"andre.lama@pucp.edu.pe\", \"gustavo.meza@pucp.edu.pe\", \"pmlozada@pucp.edu.pe\", \"m.zambranoj@pucp.edu.pe\", \"nicolas.jacobs@pucp.edu.pe\", \"gvidal@pucp.edu.pe\", \"jane.torres@pucp.edu.pe\", \"m.lopez@pucp.edu.pe\", \"alejandro.boyco@pucp.edu.pe\", \"a20167070@pucp.edu.pe\", \"riega.stephy@pucp.edu.pe\", \"vlevanot@pucp.edu.pe\", \"sesquives@pucp.edu.pe\", \"perez.juanc@pucp.edu.pe\", \"mariana.otero@pucp.edu.pe\", \"aclavo@pucp.edu.pe\", \"a20182474@pucp.edu.pe\", \"josue.caldas@pucp.edu.pe\", \"fabio.salas@pucp.edu.pe\", \"fernanda.pizarro@pucp.edu.pe\", \"aquillatupa@pucp.pe\"]"
   ]
  },
  {
   "cell_type": "code",
   "execution_count": 4,
   "id": "16d767b1",
   "metadata": {},
   "outputs": [
    {
     "name": "stdout",
     "output_type": "stream",
     "text": [
      "I am                            too                                                        old\n"
     ]
    }
   ],
   "source": [
    "print (str1)"
   ]
  },
  {
   "cell_type": "code",
   "execution_count": 5,
   "id": "024f323e",
   "metadata": {
    "scrolled": true
   },
   "outputs": [
    {
     "name": "stdout",
     "output_type": "stream",
     "text": [
      "['cscornejo@pucp.edu.pe', 'orellana.cn@pucp.edu.pe', 'karina.morales@pucp.edu.pe', 'a20083223@pucp.pe', 'abel.camacho@pucp.pe', 'mtintaya@pucp.edu.pe', 'joselin.chavez@pucp.edu.pe', 'a20105737@pucp.pe', 'jfgomezc@pucp.pe', 'afrania.palomino@pucp.pe', 'luzon.bianca@pucp.pe', 'adrian.suanaz@pucp.pe', 'soto.y@pucp.edu.pe', 'a20132766@pucp.pe', 'andre.lama@pucp.edu.pe', 'gustavo.meza@pucp.edu.pe', 'pmlozada@pucp.edu.pe', 'm.zambranoj@pucp.edu.pe', 'nicolas.jacobs@pucp.edu.pe', 'gvidal@pucp.edu.pe', 'jane.torres@pucp.edu.pe', 'm.lopez@pucp.edu.pe', 'alejandro.boyco@pucp.edu.pe', 'a20167070@pucp.edu.pe', 'riega.stephy@pucp.edu.pe', 'vlevanot@pucp.edu.pe', 'sesquives@pucp.edu.pe', 'perez.juanc@pucp.edu.pe', 'mariana.otero@pucp.edu.pe', 'aclavo@pucp.edu.pe', 'a20182474@pucp.edu.pe', 'josue.caldas@pucp.edu.pe', 'fabio.salas@pucp.edu.pe', 'fernanda.pizarro@pucp.edu.pe', 'aquillatupa@pucp.pe']\n"
     ]
    }
   ],
   "source": [
    "print (emails)"
   ]
  },
  {
   "cell_type": "code",
   "execution_count": 6,
   "id": "c1195297",
   "metadata": {},
   "outputs": [],
   "source": [
    "##Ejercicio 1"
   ]
  },
  {
   "cell_type": "code",
   "execution_count": 7,
   "id": "1f0a5a4e",
   "metadata": {},
   "outputs": [],
   "source": [
    "letras= str1.split()"
   ]
  },
  {
   "cell_type": "code",
   "execution_count": 8,
   "id": "c25fc9e6",
   "metadata": {},
   "outputs": [
    {
     "name": "stdout",
     "output_type": "stream",
     "text": [
      "['I', 'am', 'too', 'old']\n"
     ]
    }
   ],
   "source": [
    "print (letras)"
   ]
  },
  {
   "cell_type": "code",
   "execution_count": 9,
   "id": "68412ad1",
   "metadata": {},
   "outputs": [],
   "source": [
    "separador = \" \""
   ]
  },
  {
   "cell_type": "code",
   "execution_count": 10,
   "id": "116b274c",
   "metadata": {},
   "outputs": [],
   "source": [
    "stc = separador.join(letras)"
   ]
  },
  {
   "cell_type": "code",
   "execution_count": 11,
   "id": "6e03b218",
   "metadata": {},
   "outputs": [
    {
     "name": "stdout",
     "output_type": "stream",
     "text": [
      "I am too old\n"
     ]
    }
   ],
   "source": [
    "print (stc)"
   ]
  },
  {
   "cell_type": "code",
   "execution_count": 12,
   "id": "d0df27f8",
   "metadata": {},
   "outputs": [],
   "source": [
    "##Explicacion: En el ejercicio 1 se ha utilizado el metodo split y la funcion join\n",
    "##Primero se ha aplicado un split en el str1, de este modo, se selecciono las letras.\n",
    "##Posteriormente, se delimito el separador, un espacio, y se uso la funcion join para unir las letras.\n"
   ]
  },
  {
   "cell_type": "code",
   "execution_count": 13,
   "id": "bf7033b2",
   "metadata": {},
   "outputs": [],
   "source": [
    "## Ejercicio 2"
   ]
  },
  {
   "cell_type": "code",
   "execution_count": 14,
   "id": "aeb3af3f",
   "metadata": {},
   "outputs": [
    {
     "data": {
      "text/plain": [
       "12"
      ]
     },
     "execution_count": 14,
     "metadata": {},
     "output_type": "execute_result"
    }
   ],
   "source": [
    "len (stc)"
   ]
  },
  {
   "cell_type": "code",
   "execution_count": 15,
   "id": "cd5ea230",
   "metadata": {},
   "outputs": [],
   "source": [
    "letters = stc.replace (\" \", \"\")"
   ]
  },
  {
   "cell_type": "code",
   "execution_count": 16,
   "id": "14ede7bd",
   "metadata": {},
   "outputs": [
    {
     "name": "stdout",
     "output_type": "stream",
     "text": [
      "Iamtooold\n"
     ]
    }
   ],
   "source": [
    "print (letters)"
   ]
  },
  {
   "cell_type": "code",
   "execution_count": 17,
   "id": "129e7a8c",
   "metadata": {},
   "outputs": [
    {
     "data": {
      "text/plain": [
       "9"
      ]
     },
     "execution_count": 17,
     "metadata": {},
     "output_type": "execute_result"
    }
   ],
   "source": [
    "len (letters)"
   ]
  },
  {
   "cell_type": "code",
   "execution_count": 18,
   "id": "f8ab52d2",
   "metadata": {},
   "outputs": [],
   "source": [
    "## Ejercicio 3"
   ]
  },
  {
   "cell_type": "code",
   "execution_count": 19,
   "id": "5413cff8",
   "metadata": {},
   "outputs": [
    {
     "data": {
      "text/plain": [
       "3"
      ]
     },
     "execution_count": 19,
     "metadata": {},
     "output_type": "execute_result"
    }
   ],
   "source": [
    "len (stc) - len (letters)"
   ]
  },
  {
   "cell_type": "code",
   "execution_count": 20,
   "id": "8219c5a6",
   "metadata": {},
   "outputs": [],
   "source": [
    "##Explicacion: Se ha restado el numero de caracteres totales menos el numero solo de letras"
   ]
  },
  {
   "cell_type": "code",
   "execution_count": 21,
   "id": "6b127cde",
   "metadata": {},
   "outputs": [],
   "source": [
    "## Ejercicio 4"
   ]
  },
  {
   "cell_type": "code",
   "execution_count": 22,
   "id": "1ce10621",
   "metadata": {},
   "outputs": [
    {
     "data": {
      "text/plain": [
       "list"
      ]
     },
     "execution_count": 22,
     "metadata": {},
     "output_type": "execute_result"
    }
   ],
   "source": [
    "type (emails)"
   ]
  },
  {
   "cell_type": "code",
   "execution_count": 23,
   "id": "e25d2df6",
   "metadata": {},
   "outputs": [
    {
     "name": "stdout",
     "output_type": "stream",
     "text": [
      "['cscornejo@pucp.edu.pe', 'orellana.cn@pucp.edu.pe', 'karina.morales@pucp.edu.pe', 'a20083223@pucp.pe', 'abel.camacho@pucp.pe', 'mtintaya@pucp.edu.pe', 'joselin.chavez@pucp.edu.pe', 'a20105737@pucp.pe', 'jfgomezc@pucp.pe', 'afrania.palomino@pucp.pe', 'luzon.bianca@pucp.pe', 'adrian.suanaz@pucp.pe', 'soto.y@pucp.edu.pe', 'a20132766@pucp.pe', 'andre.lama@pucp.edu.pe', 'gustavo.meza@pucp.edu.pe', 'pmlozada@pucp.edu.pe', 'm.zambranoj@pucp.edu.pe', 'nicolas.jacobs@pucp.edu.pe', 'gvidal@pucp.edu.pe', 'jane.torres@pucp.edu.pe', 'm.lopez@pucp.edu.pe', 'alejandro.boyco@pucp.edu.pe', 'a20167070@pucp.edu.pe', 'riega.stephy@pucp.edu.pe', 'vlevanot@pucp.edu.pe', 'sesquives@pucp.edu.pe', 'perez.juanc@pucp.edu.pe', 'mariana.otero@pucp.edu.pe', 'aclavo@pucp.edu.pe', 'a20182474@pucp.edu.pe', 'josue.caldas@pucp.edu.pe', 'fabio.salas@pucp.edu.pe', 'fernanda.pizarro@pucp.edu.pe', 'aquillatupa@pucp.pe']\n"
     ]
    }
   ],
   "source": [
    "print (emails)"
   ]
  },
  {
   "cell_type": "code",
   "execution_count": null,
   "id": "ba33cd1c",
   "metadata": {},
   "outputs": [],
   "source": [
    "\n"
   ]
  },
  {
   "cell_type": "code",
   "execution_count": null,
   "id": "cfe855ce",
   "metadata": {},
   "outputs": [],
   "source": [
    "\n"
   ]
  },
  {
   "cell_type": "code",
   "execution_count": null,
   "id": "4d05873f",
   "metadata": {},
   "outputs": [],
   "source": []
  },
  {
   "cell_type": "code",
   "execution_count": null,
   "id": "702ec306",
   "metadata": {},
   "outputs": [],
   "source": []
  }
 ],
 "metadata": {
  "kernelspec": {
   "display_name": "Python 3 (ipykernel)",
   "language": "python",
   "name": "python3"
  },
  "language_info": {
   "codemirror_mode": {
    "name": "ipython",
    "version": 3
   },
   "file_extension": ".py",
   "mimetype": "text/x-python",
   "name": "python",
   "nbconvert_exporter": "python",
   "pygments_lexer": "ipython3",
   "version": "3.9.13"
  }
 },
 "nbformat": 4,
 "nbformat_minor": 5
}

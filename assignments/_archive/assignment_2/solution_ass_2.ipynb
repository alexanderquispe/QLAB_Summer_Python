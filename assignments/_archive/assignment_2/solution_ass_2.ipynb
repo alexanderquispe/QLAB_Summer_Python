{
 "cells": [
  {
   "cell_type": "markdown",
   "id": "daae30af",
   "metadata": {},
   "source": [
    "# 1 Assignment\n",
    "\n",
    "It is totally prohibited to use any kind of loop. You can use stackoverflow. If you copy codes from previous answers, explain each step. No explanation is `0 points`."
   ]
  },
  {
   "cell_type": "markdown",
   "id": "6ac3de54",
   "metadata": {},
   "source": [
    "## 1.1 Tuple"
   ]
  },
  {
   "cell_type": "code",
   "execution_count": 1,
   "id": "7dcaa6b5",
   "metadata": {},
   "outputs": [],
   "source": [
    "tuple1 = (\"Orange\", [10, 20, 30], (5, 15, 25))\n",
    "tuple2 = ([7, 8], [9, 1], [10, 7])"
   ]
  },
  {
   "cell_type": "markdown",
   "id": "c6628adc",
   "metadata": {},
   "source": [
    "1. Print the first item of the second item of `tuple1` object. **Hint: Use indexing**<br><br>"
   ]
  },
  {
   "cell_type": "code",
   "execution_count": 3,
   "id": "e0cd2bad",
   "metadata": {},
   "outputs": [
    {
     "name": "stdout",
     "output_type": "stream",
     "text": [
      "10\n"
     ]
    }
   ],
   "source": [
    "# Use a double index to get an element inside other element\n",
    "print(tuple1[1][0])"
   ]
  },
  {
   "cell_type": "markdown",
   "id": "7fd35fad",
   "metadata": {},
   "source": [
    "2. Print the last item of the `tuple1` object.**Hint: Use indexing**<br><br>"
   ]
  },
  {
   "cell_type": "code",
   "execution_count": 7,
   "id": "bf555a45",
   "metadata": {},
   "outputs": [
    {
     "name": "stdout",
     "output_type": "stream",
     "text": [
      "(5, 15, 25)\n"
     ]
    }
   ],
   "source": [
    "# Use [-1] to identify the last item\n",
    "print(tuple1[-1])\n"
   ]
  },
  {
   "cell_type": "markdown",
   "id": "efe946ab",
   "metadata": {},
   "source": [
    "3. Change the value \"orange\" for \"pink grapefruit\". Comment the output. **Hint: Is it possible?** <br><br>"
   ]
  },
  {
   "cell_type": "code",
   "execution_count": 4,
   "id": "93a681cc",
   "metadata": {},
   "outputs": [
    {
     "ename": "TypeError",
     "evalue": "'tuple' object does not support item assignment",
     "output_type": "error",
     "traceback": [
      "\u001b[0;31m---------------------------------------------------------------------------\u001b[0m",
      "\u001b[0;31mTypeError\u001b[0m                                 Traceback (most recent call last)",
      "\u001b[0;32m/var/folders/t0/bh8jstj91y5ctmcqzzd24zyc0000gn/T/ipykernel_50251/2712537968.py\u001b[0m in \u001b[0;36m<module>\u001b[0;34m\u001b[0m\n\u001b[1;32m      1\u001b[0m \u001b[0;31m# It is not possible to change any value of a tuple because these are unchangeable and inmutable\u001b[0m\u001b[0;34m\u001b[0m\u001b[0;34m\u001b[0m\u001b[0m\n\u001b[0;32m----> 2\u001b[0;31m \u001b[0mtuple1\u001b[0m\u001b[0;34m[\u001b[0m\u001b[0;36m0\u001b[0m\u001b[0;34m]\u001b[0m \u001b[0;34m=\u001b[0m \u001b[0;34m\"pink grapefruit\"\u001b[0m\u001b[0;34m\u001b[0m\u001b[0;34m\u001b[0m\u001b[0m\n\u001b[0m\u001b[1;32m      3\u001b[0m \u001b[0;34m\u001b[0m\u001b[0m\n\u001b[1;32m      4\u001b[0m \u001b[0;31m# Output: TypeError: 'tuple' object does not support item assignment\u001b[0m\u001b[0;34m\u001b[0m\u001b[0;34m\u001b[0m\u001b[0m\n",
      "\u001b[0;31mTypeError\u001b[0m: 'tuple' object does not support item assignment"
     ]
    }
   ],
   "source": [
    "# It is not possible to change any value of a tuple because these are unchangeable and inmutable\n",
    "tuple1[0] = \"pink grapefruit\"\n",
    "\n",
    "# Output: TypeError: 'tuple' object does not support item assignment"
   ]
  },
  {
   "cell_type": "markdown",
   "id": "cadc4dae",
   "metadata": {},
   "source": [
    "4. Print the length of `tuple1`. **Hint: Length function**<br><br>"
   ]
  },
  {
   "cell_type": "code",
   "execution_count": 5,
   "id": "905577b5",
   "metadata": {},
   "outputs": [
    {
     "name": "stdout",
     "output_type": "stream",
     "text": [
      "3\n"
     ]
    }
   ],
   "source": [
    "# Use the function 'len' to know the lenght of the tuple\n",
    "print(len(tuple1))"
   ]
  },
  {
   "cell_type": "markdown",
   "id": "f91fd36f",
   "metadata": {},
   "source": [
    "5. Sum all the elements of tuple2 and describe your steps and explain each of them. **Hint: Use `map` function.**<br><br>"
   ]
  },
  {
   "cell_type": "code",
   "execution_count": 21,
   "id": "ff571c7e",
   "metadata": {},
   "outputs": [
    {
     "data": {
      "text/plain": [
       "42"
      ]
     },
     "execution_count": 21,
     "metadata": {},
     "output_type": "execute_result"
    }
   ],
   "source": [
    "# First, use the map function to add each element of the tuple\n",
    "suma = map(sum, tuple2)\n",
    "\n",
    "# Then sum each value of the list\n",
    "sum(suma)"
   ]
  },
  {
   "cell_type": "markdown",
   "id": "1b79f087",
   "metadata": {},
   "source": [
    "6. Generate a new tuple object named as `tuple3` with the half values of `tuple2`. This tuple should be similar as `tuple2`, tuple of lists.  **Hint: Use `map` funciont.**<br><br>"
   ]
  },
  {
   "cell_type": "code",
   "execution_count": 24,
   "id": "3c00a3d6",
   "metadata": {},
   "outputs": [
    {
     "name": "stdout",
     "output_type": "stream",
     "text": [
      "([3.5, 4.0], [4.5, 0.5], [5.0, 3.5])\n"
     ]
    }
   ],
   "source": [
    "# First, iterate through every list element of the tuple with map function\n",
    "# Then, inside the first map create another map to iterate for every element of the list and divide it by 2. \n",
    "\n",
    "tuple3 = tuple(map(lambda y: list(map(lambda x: x/2, y)), tuple2))\n",
    "print(tuple3)\n"
   ]
  },
  {
   "cell_type": "markdown",
   "id": "cad99c9f",
   "metadata": {},
   "source": [
    "## 1.2 Lists"
   ]
  },
  {
   "cell_type": "code",
   "execution_count": 28,
   "id": "68fa0df0",
   "metadata": {},
   "outputs": [],
   "source": [
    "import numpy as np"
   ]
  },
  {
   "cell_type": "code",
   "execution_count": 29,
   "id": "002160d4",
   "metadata": {},
   "outputs": [],
   "source": [
    "f_list = [np.nan , np.nan, \"Austria\", \"Germany\", np.nan, \"Pakistan\", \"np.nan\", np.nan ]"
   ]
  },
  {
   "cell_type": "code",
   "execution_count": 30,
   "id": "1ddbed30",
   "metadata": {},
   "outputs": [],
   "source": [
    "text1 = ['My', 'teacher', 'assistant', 'is', 'so', 'boring.']"
   ]
  },
  {
   "cell_type": "code",
   "execution_count": 31,
   "id": "79b70d20",
   "metadata": {},
   "outputs": [],
   "source": [
    "p2_list = [ 2 , 3, 4, 5 ]"
   ]
  },
  {
   "cell_type": "code",
   "execution_count": 32,
   "id": "4f5f8c3b",
   "metadata": {},
   "outputs": [],
   "source": [
    "values1 = [ 86, 86, 85, 85, 85, 83, 23, 0, 84, 1 ] "
   ]
  },
  {
   "cell_type": "code",
   "execution_count": 33,
   "id": "3300d484",
   "metadata": {},
   "outputs": [],
   "source": [
    "# These two lists a\n",
    "last_and_name = [ \"CORNEJO SANCHEZ, CHRISTIAN SANTOS\", \"ORELLANA QUISPE, CRISTIAN NASSER\", \"MORALES CHOQUEHUANCA, ANGELICA KARINA\", \"GUIMARAY RIBEYRO, JOSE ROBERTO\", \"CAMACHO GAVIDIA, ABEL FERNANDO\", \"TINTAYA ORIHUELA, MEIR ALVARO\", \"CHAVEZ MARTINEZ, JOSELIN ALEXANDRA\", \"FIGUEROA MURO, LEONEL ARTURO\", \"GOMEZ CRIBILLERO, JOSE FELIPE\", \"PALOMINO SEGUÍN, AFRANIA\", \"LUZON CUEVA, BIANCA MARIETTE\", \"SUAÑA ZEGARRA, ADRIAN ANDRE\", \"SOTO POMACHAGUA, DORKAS YOMIRA JHERMY\", \"FIORENTINO MARTINEZ, LADY ALY\", \"LAMA MAVILA, HECTOR ANDRE\", \"MEZA HINOJO, GUSTAVO\", \"LOZADA MURILLO, PERSEO MARCELO\", \"ZAMBRANO JIMENEZ, MIGUEL ALONZO\", \"JACOBS LUQUE, NICOLAS\", \"VIDAL VIDAL, ROCIO GABRIELA\", \"TORRES ANICAMA, JANE CAMILA\", \"LOPEZ ESTRADA, MARIA ELISA\", \"BOYCO ORAMS, ALEJANDRO\", \"DIAZ BERROSPI, KARLINE ROSMELI\", \"RIEGA ESCALANTE, STEPHY ROSARIO\", \"LEVANO TORRES, VALERIA CECILIA\", \"ESQUIVES BRAVO, SEBASTIAN RENATO\", \"PEREZ GONZALES, JUAN CARLOS\", \"OTERO MAGUIÑA, MARIANA\", \"CLAVO CAMPOS, ANDREA BRIZETH\", \"AGUILAR GARCIA, ERICK JOSUE\", \"CALDAS VELASQUEZ, JOSUE DANIEL\", \"SALAS NUÑEZ BORJA, FABIO MANUEL\", \"PIZARRO VILLANES, FERNANDA NICOLLE\", \"QUILLATUPA MORALES, ANGELA ADELINA\", \"HUANCAYA IDONE, CESAR DANTE\", \"CALVO PORTOCARRERO, GABRIELA ISABEL\", \"IBAÑEZ ABANTO, ANGEL MAURICIO\", \"MELÉNDEZ APONTE, JUAN DIEGO\", \"CRISTIAN SERRANO, ARONE\", \"HINOJOSA CAHUANA, PERCY ALBERTH\", \"ANGLAS GARCÍA, KEVIN ARTURO\", \"ALDAVE ACOSTA, CESAR ERNESTO\", \"NÚÑEZ HUAMÁN, CÉSAR AGUSTO\", \"OBREGON HUAMAN, DIANA EDITH\", \"SOTO PACHERRES, RODRIGO FRANCO\", \"INGARUCA RIVERA, GRETTEL ALEXANDRA\", \"ROJAS HUAMAN, ROSA ANGELA\", \"NEYRA SALAS, DANTE OMAR\", \"HUERTA ESPINOZA, YAJAIRA ALEXANDRA\", \"HUANCA MARTINEZ, JORGE ALBERTO\", \"FLORES CADILLO, ALEXIS\" ]\n",
    "emails = [\"cscornejo@pucp.edu.pe\", \"orellana.cn@pucp.edu.pe\", \"karina.morales@pucp.edu.pe\", \"a20083223@pucp.pe\", \"abel.camacho@pucp.pe\", \"mtintaya@pucp.edu.pe\", \"joselin.chavez@pucp.edu.pe\", \"a20105737@pucp.pe\", \"jfgomezc@pucp.pe\", \"afrania.palomino@pucp.pe\", \"luzon.bianca@pucp.pe\", \"adrian.suanaz@pucp.pe\", \"soto.y@pucp.edu.pe\", \"a20132766@pucp.pe\", \"andre.lama@pucp.edu.pe\", \"gustavo.meza@pucp.edu.pe\", \"pmlozada@pucp.edu.pe\", \"m.zambranoj@pucp.edu.pe\", \"nicolas.jacobs@pucp.edu.pe\", \"gvidal@pucp.edu.pe\", \"jane.torres@pucp.edu.pe\", \"m.lopez@pucp.edu.pe\", \"alejandro.boyco@pucp.edu.pe\", \"a20167070@pucp.edu.pe\", \"riega.stephy@pucp.edu.pe\", \"vlevanot@pucp.edu.pe\", \"sesquives@pucp.edu.pe\", \"perez.juanc@pucp.edu.pe\", \"mariana.otero@pucp.edu.pe\", \"aclavo@pucp.edu.pe\", \"a20182474@pucp.edu.pe\", \"josue.caldas@pucp.edu.pe\", \"fabio.salas@pucp.edu.pe\", \"fernanda.pizarro@pucp.edu.pe\", \"aquillatupa@pucp.pe\", \"\", \"\", \"\", \"\", \"\", \"f0873079@pucp.edu.pe\", \"\", \"\", \"\", \"\", \"\", \"\", \"\", \"\", \"\", \"\", \"flores.alexis@pucp.edu.pe\", ]"
   ]
  },
  {
   "cell_type": "markdown",
   "id": "40fa0de7",
   "metadata": {},
   "source": [
    "1. Show the indices of the `np.nan` values  in the `f_list` list. We want to see this output: `The indices 0, 1, 4, 7 have np.nan values.` **Hint: Use print function and [f-strings](https://realpython.com/python-f-strings/) to insert the indices values.**<br><br>"
   ]
  },
  {
   "cell_type": "code",
   "execution_count": 39,
   "id": "cd8af16f",
   "metadata": {},
   "outputs": [
    {
     "data": {
      "text/plain": [
       "array([0, 1, 4, 7])"
      ]
     },
     "execution_count": 39,
     "metadata": {},
     "output_type": "execute_result"
    }
   ],
   "source": [
    "# First, transform the list to array and we use the library numpy. \n",
    "x = np.array(f_list)\n",
    "\n",
    "# Then, create the condition and we print the indices. \n",
    "z = np.where(x == 'nan')[0]  # Create a array with the indices where the element of \"a\" == nan. \n",
    "z"
   ]
  },
  {
   "cell_type": "code",
   "execution_count": 40,
   "id": "b49a559f",
   "metadata": {},
   "outputs": [
    {
     "name": "stdout",
     "output_type": "stream",
     "text": [
      "The indices [0 1 4 7] have np.nan values\n"
     ]
    }
   ],
   "source": [
    "# Finally, print the results using f-strings\n",
    "print(f\"The indices {z} have np.nan values\")"
   ]
  },
  {
   "cell_type": "markdown",
   "id": "ba1bad9e",
   "metadata": {},
   "source": [
    "2. Replicate 4 times the values of the list `p2_list`. We expect an ouput like this: `[ 2 , 3, 4, 5, 2 , 3, 4, 5, 2 , 3, 4, 5, 2 , 3, 4, 5]`.  **Hint: Use multiplication function in `lists`and see the output.**<br><br>"
   ]
  },
  {
   "cell_type": "code",
   "execution_count": 43,
   "id": "5c2f10c2",
   "metadata": {},
   "outputs": [
    {
     "name": "stdout",
     "output_type": "stream",
     "text": [
      "[2, 3, 4, 5, 2, 3, 4, 5, 2, 3, 4, 5, 2, 3, 4, 5]\n"
     ]
    }
   ],
   "source": [
    "# Multiplicate the p2_list four times \n",
    "print(p2_list*4)"
   ]
  },
  {
   "cell_type": "markdown",
   "id": "22d51470",
   "metadata": {},
   "source": [
    "3. Print the length of `f_list`. **Hint: Length function**<br><br>"
   ]
  },
  {
   "cell_type": "code",
   "execution_count": 44,
   "id": "eb6b2480",
   "metadata": {},
   "outputs": [
    {
     "name": "stdout",
     "output_type": "stream",
     "text": [
      "8\n"
     ]
    }
   ],
   "source": [
    "# Use the len function\n",
    "print(len(f_list))"
   ]
  },
  {
   "cell_type": "markdown",
   "id": "b7415ed5",
   "metadata": {},
   "source": [
    "4. Print `My teacher assistant is so boring.` using `text1` list. **Hint: Use the [`join` function](https://stackoverflow.com/questions/493819/why-is-it-string-joinlist-instead-of-list-joinstring)**<br><br>"
   ]
  },
  {
   "cell_type": "code",
   "execution_count": 46,
   "id": "9539949f",
   "metadata": {},
   "outputs": [
    {
     "name": "stdout",
     "output_type": "stream",
     "text": [
      "My teacher assistant is so boring.\n"
     ]
    }
   ],
   "source": [
    "# use the join fuction with the \" \" to join each item of text1 list.\n",
    "text_1 = \" \".join(text1)\n",
    "\n",
    "print(text_1)"
   ]
  },
  {
   "cell_type": "markdown",
   "id": "867b9b68",
   "metadata": {},
   "source": [
    "5. Print `My TA is so boring, but is very funny.` using `text1` list.**Hint: Use the `join` function, and `extend` method.**<br><br>"
   ]
  },
  {
   "cell_type": "code",
   "execution_count": 65,
   "id": "669c7f7d",
   "metadata": {},
   "outputs": [
    {
     "name": "stdout",
     "output_type": "stream",
     "text": [
      "My TA is so boring , but is very funny\n"
     ]
    }
   ],
   "source": [
    "#First, I created a new list for text1\n",
    "text2 = text1\n",
    "\n",
    "#Second, I changed the second item of the list, for \"TA\"\n",
    "text2[1]= \"TA\"\n",
    "#third, I changed the sixth item of the list to erase the \".\"\n",
    "text2[5]= \"boring\"\n",
    "#Fourth, I removed the item third item of the list, \"assistant\"\n",
    "text2.remove(\"assistant\")\n",
    "\n",
    "#Then I created a new list with items containing the second part of the sentence\n",
    "text3 = [', but', 'is', 'very', 'funny']\n",
    "\n",
    "#Combined both text2 and text3 using the extend function\n",
    "text2.extend(text3)\n",
    "\n",
    "#Finally I joined the items on text2 and printed the output\n",
    "sentence_2 = \" \".join(text2)\n",
    "print(sentence_2)\n"
   ]
  },
  {
   "cell_type": "code",
   "execution_count": 49,
   "id": "61c93bc4",
   "metadata": {},
   "outputs": [
    {
     "name": "stdout",
     "output_type": "stream",
     "text": [
      "My TA is so boring, but is very funny.\n"
     ]
    }
   ],
   "source": [
    "# First, a copy of the text1 list is made with the copy() method\n",
    "text2 = text1.copy()\n",
    "\n",
    "# The \"teacher\" element is removed and the \"assistant\" element is replaced by \"TA\" modifying from its position in the list [1]\n",
    "text2.remove(\"teacher\")\n",
    "text2[1] = \"TA\"\n",
    "\n",
    "# The \"boring\" element is replaced by \"boring,\" based on its position in the list [-1]\n",
    "text2[-1] = \"boring,\"\n",
    "\n",
    "# Then, create a new object, whose element is \"but is a very funny.\"\n",
    "text3 = [\"but is very funny.\"]\n",
    "\n",
    "# Finally, join the text3 object to the text2 object with the extend() function and print the result\n",
    "text2.extend(text3)\n",
    "\n",
    "print(\" \".join(text2))"
   ]
  },
  {
   "cell_type": "markdown",
   "id": "659bdd2b",
   "metadata": {},
   "source": [
    "6. Print <br>\n",
    "`The max value of values1 is 86 and is located in the 0 index. ` <br>\n",
    "`The min value of values1 is 0 and is located in the 7 index. ` <br> **Hint: Use the `f-string`, `min`, and `max` functions.**\n",
    "<br>"
   ]
  },
  {
   "cell_type": "code",
   "execution_count": 51,
   "id": "30b1dfd3",
   "metadata": {},
   "outputs": [
    {
     "name": "stdout",
     "output_type": "stream",
     "text": [
      "The max value of values1 is 86 and is located in the 0 index.\n",
      "The min value of values1 is 0 and is located in the 7 index.\n"
     ]
    }
   ],
   "source": [
    "#First, create an object with the max and min values of the list values1\n",
    "max_1 = max(values1)\n",
    "\n",
    "#Second, create an object with the position of the max value\n",
    "max_2 = values1.index(max(values1))\n",
    "\n",
    "#Third, print the string containing both objects of max values\n",
    "print(f\"The max value of values1 is {max_1} and is located in the {max_2} index.\")\n",
    "\n",
    "#Then I created and object that tells the min value of the list values1\n",
    "min_1 = min(values1)\n",
    "\n",
    "#Afterwards created and object that tells the position of the min value \n",
    "min_2 = values1.index(min(values1))\n",
    "\n",
    "#Finally, I printed the string containing both objects of min values\n",
    "print(f\"The min value of values1 is {min_1} and is located in the {min_2} index.\")\n"
   ]
  },
  {
   "cell_type": "markdown",
   "id": "ee04b4d3",
   "metadata": {},
   "source": [
    "7. Get two lists: `names` and `last_names` using `last_and_name` list. **Hint: Use `map` and `split`.**"
   ]
  },
  {
   "cell_type": "code",
   "execution_count": 57,
   "id": "5315da45",
   "metadata": {},
   "outputs": [
    {
     "name": "stdout",
     "output_type": "stream",
     "text": [
      "['CHRISTIAN SANTOS', 'CRISTIAN NASSER', 'ANGELICA KARINA', 'JOSE ROBERTO', 'ABEL FERNANDO', 'MEIR ALVARO', 'JOSELIN ALEXANDRA', 'LEONEL ARTURO', 'JOSE FELIPE', 'AFRANIA', 'BIANCA MARIETTE', 'ADRIAN ANDRE', 'DORKAS YOMIRA JHERMY', 'LADY ALY', 'HECTOR ANDRE', 'GUSTAVO', 'PERSEO MARCELO', 'MIGUEL ALONZO', 'NICOLAS', 'ROCIO GABRIELA', 'JANE CAMILA', 'MARIA ELISA', 'ALEJANDRO', 'KARLINE ROSMELI', 'STEPHY ROSARIO', 'VALERIA CECILIA', 'SEBASTIAN RENATO', 'JUAN CARLOS', 'MARIANA', 'ANDREA BRIZETH', 'ERICK JOSUE', 'JOSUE DANIEL', 'FABIO MANUEL', 'FERNANDA NICOLLE', 'ANGELA ADELINA', 'CESAR DANTE', 'GABRIELA ISABEL', 'ANGEL MAURICIO', 'JUAN DIEGO', 'ARONE', 'PERCY ALBERTH', 'KEVIN ARTURO', 'CESAR ERNESTO', 'CÉSAR AGUSTO', 'DIANA EDITH', 'RODRIGO FRANCO', 'GRETTEL ALEXANDRA', 'ROSA ANGELA', 'DANTE OMAR', 'YAJAIRA ALEXANDRA', 'JORGE ALBERTO', 'ALEXIS']\n"
     ]
    }
   ],
   "source": [
    "# Create a list with map function and lambda to separate and replace the commas and spaces, selecting the second character [1]\n",
    "names = list(map(lambda x: x.split(\", \")[1], last_and_name))\n",
    "\n",
    "print(names)"
   ]
  },
  {
   "cell_type": "code",
   "execution_count": 55,
   "id": "e411e70f",
   "metadata": {},
   "outputs": [
    {
     "name": "stdout",
     "output_type": "stream",
     "text": [
      "['CORNEJO SANCHEZ', 'ORELLANA QUISPE', 'MORALES CHOQUEHUANCA', 'GUIMARAY RIBEYRO', 'CAMACHO GAVIDIA', 'TINTAYA ORIHUELA', 'CHAVEZ MARTINEZ', 'FIGUEROA MURO', 'GOMEZ CRIBILLERO', 'PALOMINO SEGUÍN', 'LUZON CUEVA', 'SUAÑA ZEGARRA', 'SOTO POMACHAGUA', 'FIORENTINO MARTINEZ', 'LAMA MAVILA', 'MEZA HINOJO', 'LOZADA MURILLO', 'ZAMBRANO JIMENEZ', 'JACOBS LUQUE', 'VIDAL VIDAL', 'TORRES ANICAMA', 'LOPEZ ESTRADA', 'BOYCO ORAMS', 'DIAZ BERROSPI', 'RIEGA ESCALANTE', 'LEVANO TORRES', 'ESQUIVES BRAVO', 'PEREZ GONZALES', 'OTERO MAGUIÑA', 'CLAVO CAMPOS', 'AGUILAR GARCIA', 'CALDAS VELASQUEZ', 'SALAS NUÑEZ BORJA', 'PIZARRO VILLANES', 'QUILLATUPA MORALES', 'HUANCAYA IDONE', 'CALVO PORTOCARRERO', 'IBAÑEZ ABANTO', 'MELÉNDEZ APONTE', 'CRISTIAN SERRANO', 'HINOJOSA CAHUANA', 'ANGLAS GARCÍA', 'ALDAVE ACOSTA', 'NÚÑEZ HUAMÁN', 'OBREGON HUAMAN', 'SOTO PACHERRES', 'INGARUCA RIVERA', 'ROJAS HUAMAN', 'NEYRA SALAS', 'HUERTA ESPINOZA', 'HUANCA MARTINEZ', 'FLORES CADILLO']\n"
     ]
    }
   ],
   "source": [
    "# Create a list with map function and lambda to separate and replace the commas and spaces, selecting the first character [0]\n",
    "last_names = list(map(lambda x: x.split(\", \")[0], last_and_name))\n",
    "\n",
    "print(last_names)"
   ]
  },
  {
   "cell_type": "markdown",
   "id": "fabf3732",
   "metadata": {},
   "source": [
    "8. Give only the last names of students who do not have email. Use the `emails` and `last_names` listt. **Hint: Use `map` and `split`.**"
   ]
  },
  {
   "cell_type": "code",
   "execution_count": 62,
   "id": "1e48dacb",
   "metadata": {},
   "outputs": [
    {
     "name": "stdout",
     "output_type": "stream",
     "text": [
      "['HUANCAYA IDONE', 'CALVO PORTOCARRERO', 'IBAÑEZ ABANTO', 'MELÉNDEZ APONTE', 'CRISTIAN SERRANO', 'ANGLAS GARCÍA', 'ALDAVE ACOSTA', 'NÚÑEZ HUAMÁN', 'OBREGON HUAMAN', 'SOTO PACHERRES', 'INGARUCA RIVERA', 'ROJAS HUAMAN', 'NEYRA SALAS', 'HUERTA ESPINOZA', 'HUANCA MARTINEZ']\n"
     ]
    }
   ],
   "source": [
    "# First, group the list of lastnames and emalis with zip function\n",
    "names_emails = zip(last_and_name, emails)\n",
    "\n",
    "# Then, identify the students who don't have e-mail in a new list\n",
    "no_email = filter(lambda x: x[1] == \"\", names_emails)\n",
    "\n",
    "# Finally, select the elements before the \" \" to get a list of the last names without email\n",
    "last_names = map(lambda x: x[0].split(\",\")[0], no_email)\n",
    "\n",
    "print(list(last_names))"
   ]
  },
  {
   "cell_type": "markdown",
   "id": "ed0343d2",
   "metadata": {},
   "source": [
    "## 1.3 Strings"
   ]
  },
  {
   "cell_type": "code",
   "execution_count": 67,
   "id": "89b1116a",
   "metadata": {},
   "outputs": [],
   "source": [
    "str1 = 'I am                            too                                                        old'"
   ]
  },
  {
   "cell_type": "code",
   "execution_count": 68,
   "id": "cf7dad3b",
   "metadata": {},
   "outputs": [],
   "source": [
    "emails = [\"cscornejo@pucp.edu.pe\", \"orellana.cn@pucp.edu.pe\", \"karina.morales@pucp.edu.pe\", \"a20083223@pucp.pe\", \"abel.camacho@pucp.pe\", \"mtintaya@pucp.edu.pe\", \"joselin.chavez@pucp.edu.pe\", \"a20105737@pucp.pe\", \"jfgomezc@pucp.pe\", \"afrania.palomino@pucp.pe\", \"luzon.bianca@pucp.pe\", \"adrian.suanaz@pucp.pe\", \"soto.y@pucp.edu.pe\", \"a20132766@pucp.pe\", \"andre.lama@pucp.edu.pe\", \"gustavo.meza@pucp.edu.pe\", \"pmlozada@pucp.edu.pe\", \"m.zambranoj@pucp.edu.pe\", \"nicolas.jacobs@pucp.edu.pe\", \"gvidal@pucp.edu.pe\", \"jane.torres@pucp.edu.pe\", \"m.lopez@pucp.edu.pe\", \"alejandro.boyco@pucp.edu.pe\", \"a20167070@pucp.edu.pe\", \"riega.stephy@pucp.edu.pe\", \"vlevanot@pucp.edu.pe\", \"sesquives@pucp.edu.pe\", \"perez.juanc@pucp.edu.pe\", \"mariana.otero@pucp.edu.pe\", \"aclavo@pucp.edu.pe\", \"a20182474@pucp.edu.pe\", \"josue.caldas@pucp.edu.pe\", \"fabio.salas@pucp.edu.pe\", \"fernanda.pizarro@pucp.edu.pe\", \"aquillatupa@pucp.pe\"]"
   ]
  },
  {
   "cell_type": "markdown",
   "id": "d1ee607f",
   "metadata": {},
   "source": [
    "1. Drop the duplicated blank spaces in `str1`. Do not use the regular expresions. Do not use the code shown in class. Explain your steps.**Hint: Use `split` method and `join` function.**"
   ]
  },
  {
   "cell_type": "code",
   "execution_count": 69,
   "id": "da1b8549",
   "metadata": {},
   "outputs": [
    {
     "name": "stdout",
     "output_type": "stream",
     "text": [
      "I am too old\n"
     ]
    }
   ],
   "source": [
    "# First, we separate the elements of a string and converts them into a list, ignoring special characters (like spaces)\n",
    "# Then, we join the elements of the list and indicate that they are separated with a space to eliminate duplicate spaces\n",
    "\n",
    "str2 = \" \".join(str1.split())\n",
    "print(str2)"
   ]
  },
  {
   "cell_type": "markdown",
   "id": "f47dfdcf",
   "metadata": {},
   "source": [
    "2. Get the number of letters in the string .**Hint: Use `len`function.**"
   ]
  },
  {
   "cell_type": "code",
   "execution_count": 70,
   "id": "261139bc",
   "metadata": {},
   "outputs": [
    {
     "data": {
      "text/plain": [
       "9"
      ]
     },
     "execution_count": 70,
     "metadata": {},
     "output_type": "execute_result"
    }
   ],
   "source": [
    "# First, with the split function, we remove the blank spaces and, with the join function, form a list of elements without adding a space between the words\n",
    "# Then, with the len function, we find the number of letters in the string\n",
    "\n",
    "len(\"\".join(str1.split()))"
   ]
  },
  {
   "cell_type": "markdown",
   "id": "68a333d3",
   "metadata": {},
   "source": [
    "3. Get the number of blank spaces (all of them) in the string .**Hint: Use `len`function.**\n"
   ]
  },
  {
   "cell_type": "code",
   "execution_count": 71,
   "id": "a9c4c744",
   "metadata": {},
   "outputs": [
    {
     "name": "stdout",
     "output_type": "stream",
     "text": [
      "85\n"
     ]
    }
   ],
   "source": [
    "# We use the count function with the internal argument to count the blank space in the string\n",
    "\n",
    "print(str1.count(\" \"))"
   ]
  },
  {
   "cell_type": "markdown",
   "id": "e5a05097",
   "metadata": {},
   "source": [
    "4. Get the position of `@` in each string in the emails list. **Hint: Use `map`function and `find` method.**"
   ]
  },
  {
   "cell_type": "code",
   "execution_count": 72,
   "id": "90cf40d7",
   "metadata": {},
   "outputs": [],
   "source": [
    "emails = [\"cscornejo@pucp.edu.pe\", \"orellana.cn@pucp.edu.pe\", \"karina.morales@pucp.edu.pe\", \"a20083223@pucp.pe\", \"abel.camacho@pucp.pe\", \"mtintaya@pucp.edu.pe\", \"joselin.chavez@pucp.edu.pe\", \"a20105737@pucp.pe\", \"jfgomezc@pucp.pe\", \"afrania.palomino@pucp.pe\", \"luzon.bianca@pucp.pe\", \"adrian.suanaz@pucp.pe\", \"soto.y@pucp.edu.pe\", \"a20132766@pucp.pe\", \"andre.lama@pucp.edu.pe\", \"gustavo.meza@pucp.edu.pe\", \"pmlozada@pucp.edu.pe\", \"m.zambranoj@pucp.edu.pe\", \"nicolas.jacobs@pucp.edu.pe\", \"gvidal@pucp.edu.pe\", \"jane.torres@pucp.edu.pe\", \"m.lopez@pucp.edu.pe\", \"alejandro.boyco@pucp.edu.pe\", \"a20167070@pucp.edu.pe\", \"riega.stephy@pucp.edu.pe\", \"vlevanot@pucp.edu.pe\", \"sesquives@pucp.edu.pe\", \"perez.juanc@pucp.edu.pe\", \"mariana.otero@pucp.edu.pe\", \"aclavo@pucp.edu.pe\", \"a20182474@pucp.edu.pe\", \"josue.caldas@pucp.edu.pe\", \"fabio.salas@pucp.edu.pe\", \"fernanda.pizarro@pucp.edu.pe\", \"aquillatupa@pucp.pe\"]"
   ]
  },
  {
   "cell_type": "code",
   "execution_count": 73,
   "id": "0a1d1d25",
   "metadata": {},
   "outputs": [
    {
     "name": "stdout",
     "output_type": "stream",
     "text": [
      "[9, 11, 14, 9, 12, 8, 14, 9, 8, 16, 12, 13, 6, 9, 10, 12, 8, 11, 14, 6, 11, 7, 15, 9, 12, 8, 9, 11, 13, 6, 9, 12, 11, 16, 11]\n"
     ]
    }
   ],
   "source": [
    "# First, we define a function to find the @ in the list of emails\n",
    "def find_a(emails):\n",
    "    return emails.find(\"@\")\n",
    "\n",
    "# Then, we generate the list of the position of @ in each string in the emails\n",
    "find_a = list(map(find_a, emails))\n",
    "\n",
    "print(find_a)"
   ]
  },
  {
   "cell_type": "markdown",
   "id": "cbd8351d",
   "metadata": {},
   "source": [
    "5. Identifies if exists `.edu.`  in each string in the `emails` list. Get a list of Booleans. **Hint: Use `map`function and `find` method.**\n"
   ]
  },
  {
   "cell_type": "code",
   "execution_count": 74,
   "id": "5a3f9eb0",
   "metadata": {},
   "outputs": [
    {
     "name": "stdout",
     "output_type": "stream",
     "text": [
      "[True, True, True, False, False, True, True, False, False, False, False, False, True, False, True, True, True, True, True, True, True, True, True, True, True, True, True, True, True, True, True, True, True, True, False]\n"
     ]
    }
   ],
   "source": [
    "# First, we define a function to find the \".edu\" in each strings with a True/False condition\n",
    "def find_edu(emails):\n",
    "    if emails.find(\".edu\") != -1:\n",
    "        return True\n",
    "    else:\n",
    "        return False\n",
    "\n",
    "# Then, we create a list of Booleans with the conditional function \n",
    "find_edu = list(map(find_edu, emails))\n",
    "\n",
    "print(find_edu)"
   ]
  },
  {
   "cell_type": "markdown",
   "id": "47ea05b2",
   "metadata": {},
   "source": [
    "6. Get all the strings before the first dot `.`in each string in the `emails` list. Identifies how many of them has `@`. **Hint: Use `map`function and `find` method.**"
   ]
  },
  {
   "cell_type": "code",
   "execution_count": 75,
   "id": "b7c45298",
   "metadata": {},
   "outputs": [
    {
     "name": "stdout",
     "output_type": "stream",
     "text": [
      "['cscornejo@pucp', 'orellana', 'karina', 'a20083223@pucp', 'abel', 'mtintaya@pucp', 'joselin', 'a20105737@pucp', 'jfgomezc@pucp', 'afrania', 'luzon', 'adrian', 'soto', 'a20132766@pucp', 'andre', 'gustavo', 'pmlozada@pucp', 'm', 'nicolas', 'gvidal@pucp', 'jane', 'm', 'alejandro', 'a20167070@pucp', 'riega', 'vlevanot@pucp', 'sesquives@pucp', 'perez', 'mariana', 'aclavo@pucp', 'a20182474@pucp', 'josue', 'fabio', 'fernanda', 'aquillatupa@pucp']\n"
     ]
    }
   ],
   "source": [
    "# First we define a function to get all the strings before the first dot\n",
    "def before_dot(emails):\n",
    "    return emails.split(\".\")[0] \n",
    "\n",
    "# Then we print the new list \n",
    "before_dot = list(map(before_dot, emails))\n",
    "\n",
    "print(before_dot)"
   ]
  },
  {
   "cell_type": "code",
   "execution_count": 76,
   "id": "1241e4c8",
   "metadata": {},
   "outputs": [
    {
     "name": "stdout",
     "output_type": "stream",
     "text": [
      "14\n"
     ]
    }
   ],
   "source": [
    "# With the new list, we define a conditional function to find the @ in each string\n",
    "def find_arro(before_dot):\n",
    "    if before_dot.find(\"@\") != -1:\n",
    "        return True\n",
    "    else:\n",
    "        return False\n",
    "    \n",
    "# Finally we count how many @ we got\n",
    "find_arro = list(map(find_arro, before_dot))\n",
    "\n",
    "print(find_arro.count(True))"
   ]
  },
  {
   "cell_type": "code",
   "execution_count": null,
   "id": "055568ec",
   "metadata": {},
   "outputs": [],
   "source": [
    "import numpy as np"
   ]
  },
  {
   "cell_type": "code",
   "execution_count": 63,
   "id": "bf8dfc33",
   "metadata": {},
   "outputs": [],
   "source": [
    "car = {\n",
    "  \"brand\": \"Ford\",\n",
    "  \"model\": \"Mustang\",\n",
    "  \"year\": 1964\n",
    "}\n",
    "\n",
    "hr_sleep = {\"january\": {\"wednesday\": 7,\n",
    "                      \"thursday\": 8,\n",
    "                      \"friday\": [2, 2, 1, 2]},\n",
    "          \"february\": {\"saturday\": 5,\n",
    "                       \"sunday\": 10,\n",
    "                       \"monday\": 8\n",
    "          }\n",
    "}"
   ]
  },
  {
   "cell_type": "code",
   "execution_count": 64,
   "id": "23e164ee",
   "metadata": {},
   "outputs": [],
   "source": [
    "week1 = ['monday', 'sunday']\n",
    "values2 = [ [2, 3, 4 ] , 8, ]"
   ]
  },
  {
   "cell_type": "markdown",
   "id": "87b1dbaf",
   "metadata": {},
   "source": [
    "1. Create a dictionary with two keys: `even_numbers` and `odd_numbers`. The first key should have all the even numbers in this range `[0, 2000]`, and the second key must have all the odd numbers in this range `[9000, 19000]`. The values should be stored in a `list`. **Hint: Use the `np.arange`, `zip`, and `np.tolist()` functions.** <br><br>"
   ]
  },
  {
   "cell_type": "code",
   "execution_count": 77,
   "id": "052f3d5c",
   "metadata": {
    "scrolled": true
   },
   "outputs": [
    {
     "name": "stdout",
     "output_type": "stream",
     "text": [
      "{'even': [0, 2, 4, 6, 8, 10, 12, 14, 16, 18, 20, 22, 24, 26, 28, 30, 32, 34, 36, 38, 40, 42, 44, 46, 48, 50, 52, 54, 56, 58, 60, 62, 64, 66, 68, 70, 72, 74, 76, 78, 80, 82, 84, 86, 88, 90, 92, 94, 96, 98, 100, 102, 104, 106, 108, 110, 112, 114, 116, 118, 120, 122, 124, 126, 128, 130, 132, 134, 136, 138, 140, 142, 144, 146, 148, 150, 152, 154, 156, 158, 160, 162, 164, 166, 168, 170, 172, 174, 176, 178, 180, 182, 184, 186, 188, 190, 192, 194, 196, 198, 200, 202, 204, 206, 208, 210, 212, 214, 216, 218, 220, 222, 224, 226, 228, 230, 232, 234, 236, 238, 240, 242, 244, 246, 248, 250, 252, 254, 256, 258, 260, 262, 264, 266, 268, 270, 272, 274, 276, 278, 280, 282, 284, 286, 288, 290, 292, 294, 296, 298, 300, 302, 304, 306, 308, 310, 312, 314, 316, 318, 320, 322, 324, 326, 328, 330, 332, 334, 336, 338, 340, 342, 344, 346, 348, 350, 352, 354, 356, 358, 360, 362, 364, 366, 368, 370, 372, 374, 376, 378, 380, 382, 384, 386, 388, 390, 392, 394, 396, 398, 400, 402, 404, 406, 408, 410, 412, 414, 416, 418, 420, 422, 424, 426, 428, 430, 432, 434, 436, 438, 440, 442, 444, 446, 448, 450, 452, 454, 456, 458, 460, 462, 464, 466, 468, 470, 472, 474, 476, 478, 480, 482, 484, 486, 488, 490, 492, 494, 496, 498, 500, 502, 504, 506, 508, 510, 512, 514, 516, 518, 520, 522, 524, 526, 528, 530, 532, 534, 536, 538, 540, 542, 544, 546, 548, 550, 552, 554, 556, 558, 560, 562, 564, 566, 568, 570, 572, 574, 576, 578, 580, 582, 584, 586, 588, 590, 592, 594, 596, 598, 600, 602, 604, 606, 608, 610, 612, 614, 616, 618, 620, 622, 624, 626, 628, 630, 632, 634, 636, 638, 640, 642, 644, 646, 648, 650, 652, 654, 656, 658, 660, 662, 664, 666, 668, 670, 672, 674, 676, 678, 680, 682, 684, 686, 688, 690, 692, 694, 696, 698, 700, 702, 704, 706, 708, 710, 712, 714, 716, 718, 720, 722, 724, 726, 728, 730, 732, 734, 736, 738, 740, 742, 744, 746, 748, 750, 752, 754, 756, 758, 760, 762, 764, 766, 768, 770, 772, 774, 776, 778, 780, 782, 784, 786, 788, 790, 792, 794, 796, 798, 800, 802, 804, 806, 808, 810, 812, 814, 816, 818, 820, 822, 824, 826, 828, 830, 832, 834, 836, 838, 840, 842, 844, 846, 848, 850, 852, 854, 856, 858, 860, 862, 864, 866, 868, 870, 872, 874, 876, 878, 880, 882, 884, 886, 888, 890, 892, 894, 896, 898, 900, 902, 904, 906, 908, 910, 912, 914, 916, 918, 920, 922, 924, 926, 928, 930, 932, 934, 936, 938, 940, 942, 944, 946, 948, 950, 952, 954, 956, 958, 960, 962, 964, 966, 968, 970, 972, 974, 976, 978, 980, 982, 984, 986, 988, 990, 992, 994, 996, 998, 1000, 1002, 1004, 1006, 1008, 1010, 1012, 1014, 1016, 1018, 1020, 1022, 1024, 1026, 1028, 1030, 1032, 1034, 1036, 1038, 1040, 1042, 1044, 1046, 1048, 1050, 1052, 1054, 1056, 1058, 1060, 1062, 1064, 1066, 1068, 1070, 1072, 1074, 1076, 1078, 1080, 1082, 1084, 1086, 1088, 1090, 1092, 1094, 1096, 1098, 1100, 1102, 1104, 1106, 1108, 1110, 1112, 1114, 1116, 1118, 1120, 1122, 1124, 1126, 1128, 1130, 1132, 1134, 1136, 1138, 1140, 1142, 1144, 1146, 1148, 1150, 1152, 1154, 1156, 1158, 1160, 1162, 1164, 1166, 1168, 1170, 1172, 1174, 1176, 1178, 1180, 1182, 1184, 1186, 1188, 1190, 1192, 1194, 1196, 1198, 1200, 1202, 1204, 1206, 1208, 1210, 1212, 1214, 1216, 1218, 1220, 1222, 1224, 1226, 1228, 1230, 1232, 1234, 1236, 1238, 1240, 1242, 1244, 1246, 1248, 1250, 1252, 1254, 1256, 1258, 1260, 1262, 1264, 1266, 1268, 1270, 1272, 1274, 1276, 1278, 1280, 1282, 1284, 1286, 1288, 1290, 1292, 1294, 1296, 1298, 1300, 1302, 1304, 1306, 1308, 1310, 1312, 1314, 1316, 1318, 1320, 1322, 1324, 1326, 1328, 1330, 1332, 1334, 1336, 1338, 1340, 1342, 1344, 1346, 1348, 1350, 1352, 1354, 1356, 1358, 1360, 1362, 1364, 1366, 1368, 1370, 1372, 1374, 1376, 1378, 1380, 1382, 1384, 1386, 1388, 1390, 1392, 1394, 1396, 1398, 1400, 1402, 1404, 1406, 1408, 1410, 1412, 1414, 1416, 1418, 1420, 1422, 1424, 1426, 1428, 1430, 1432, 1434, 1436, 1438, 1440, 1442, 1444, 1446, 1448, 1450, 1452, 1454, 1456, 1458, 1460, 1462, 1464, 1466, 1468, 1470, 1472, 1474, 1476, 1478, 1480, 1482, 1484, 1486, 1488, 1490, 1492, 1494, 1496, 1498, 1500, 1502, 1504, 1506, 1508, 1510, 1512, 1514, 1516, 1518, 1520, 1522, 1524, 1526, 1528, 1530, 1532, 1534, 1536, 1538, 1540, 1542, 1544, 1546, 1548, 1550, 1552, 1554, 1556, 1558, 1560, 1562, 1564, 1566, 1568, 1570, 1572, 1574, 1576, 1578, 1580, 1582, 1584, 1586, 1588, 1590, 1592, 1594, 1596, 1598, 1600, 1602, 1604, 1606, 1608, 1610, 1612, 1614, 1616, 1618, 1620, 1622, 1624, 1626, 1628, 1630, 1632, 1634, 1636, 1638, 1640, 1642, 1644, 1646, 1648, 1650, 1652, 1654, 1656, 1658, 1660, 1662, 1664, 1666, 1668, 1670, 1672, 1674, 1676, 1678, 1680, 1682, 1684, 1686, 1688, 1690, 1692, 1694, 1696, 1698, 1700, 1702, 1704, 1706, 1708, 1710, 1712, 1714, 1716, 1718, 1720, 1722, 1724, 1726, 1728, 1730, 1732, 1734, 1736, 1738, 1740, 1742, 1744, 1746, 1748, 1750, 1752, 1754, 1756, 1758, 1760, 1762, 1764, 1766, 1768, 1770, 1772, 1774, 1776, 1778, 1780, 1782, 1784, 1786, 1788, 1790, 1792, 1794, 1796, 1798, 1800, 1802, 1804, 1806, 1808, 1810, 1812, 1814, 1816, 1818, 1820, 1822, 1824, 1826, 1828, 1830, 1832, 1834, 1836, 1838, 1840, 1842, 1844, 1846, 1848, 1850, 1852, 1854, 1856, 1858, 1860, 1862, 1864, 1866, 1868, 1870, 1872, 1874, 1876, 1878, 1880, 1882, 1884, 1886, 1888, 1890, 1892, 1894, 1896, 1898, 1900, 1902, 1904, 1906, 1908, 1910, 1912, 1914, 1916, 1918, 1920, 1922, 1924, 1926, 1928, 1930, 1932, 1934, 1936, 1938, 1940, 1942, 1944, 1946, 1948, 1950, 1952, 1954, 1956, 1958, 1960, 1962, 1964, 1966, 1968, 1970, 1972, 1974, 1976, 1978, 1980, 1982, 1984, 1986, 1988, 1990, 1992, 1994, 1996, 1998, 2000], 'odd': [9001, 9003, 9005, 9007, 9009, 9011, 9013, 9015, 9017, 9019, 9021, 9023, 9025, 9027, 9029, 9031, 9033, 9035, 9037, 9039, 9041, 9043, 9045, 9047, 9049, 9051, 9053, 9055, 9057, 9059, 9061, 9063, 9065, 9067, 9069, 9071, 9073, 9075, 9077, 9079, 9081, 9083, 9085, 9087, 9089, 9091, 9093, 9095, 9097, 9099, 9101, 9103, 9105, 9107, 9109, 9111, 9113, 9115, 9117, 9119, 9121, 9123, 9125, 9127, 9129, 9131, 9133, 9135, 9137, 9139, 9141, 9143, 9145, 9147, 9149, 9151, 9153, 9155, 9157, 9159, 9161, 9163, 9165, 9167, 9169, 9171, 9173, 9175, 9177, 9179, 9181, 9183, 9185, 9187, 9189, 9191, 9193, 9195, 9197, 9199, 9201, 9203, 9205, 9207, 9209, 9211, 9213, 9215, 9217, 9219, 9221, 9223, 9225, 9227, 9229, 9231, 9233, 9235, 9237, 9239, 9241, 9243, 9245, 9247, 9249, 9251, 9253, 9255, 9257, 9259, 9261, 9263, 9265, 9267, 9269, 9271, 9273, 9275, 9277, 9279, 9281, 9283, 9285, 9287, 9289, 9291, 9293, 9295, 9297, 9299, 9301, 9303, 9305, 9307, 9309, 9311, 9313, 9315, 9317, 9319, 9321, 9323, 9325, 9327, 9329, 9331, 9333, 9335, 9337, 9339, 9341, 9343, 9345, 9347, 9349, 9351, 9353, 9355, 9357, 9359, 9361, 9363, 9365, 9367, 9369, 9371, 9373, 9375, 9377, 9379, 9381, 9383, 9385, 9387, 9389, 9391, 9393, 9395, 9397, 9399, 9401, 9403, 9405, 9407, 9409, 9411, 9413, 9415, 9417, 9419, 9421, 9423, 9425, 9427, 9429, 9431, 9433, 9435, 9437, 9439, 9441, 9443, 9445, 9447, 9449, 9451, 9453, 9455, 9457, 9459, 9461, 9463, 9465, 9467, 9469, 9471, 9473, 9475, 9477, 9479, 9481, 9483, 9485, 9487, 9489, 9491, 9493, 9495, 9497, 9499, 9501, 9503, 9505, 9507, 9509, 9511, 9513, 9515, 9517, 9519, 9521, 9523, 9525, 9527, 9529, 9531, 9533, 9535, 9537, 9539, 9541, 9543, 9545, 9547, 9549, 9551, 9553, 9555, 9557, 9559, 9561, 9563, 9565, 9567, 9569, 9571, 9573, 9575, 9577, 9579, 9581, 9583, 9585, 9587, 9589, 9591, 9593, 9595, 9597, 9599, 9601, 9603, 9605, 9607, 9609, 9611, 9613, 9615, 9617, 9619, 9621, 9623, 9625, 9627, 9629, 9631, 9633, 9635, 9637, 9639, 9641, 9643, 9645, 9647, 9649, 9651, 9653, 9655, 9657, 9659, 9661, 9663, 9665, 9667, 9669, 9671, 9673, 9675, 9677, 9679, 9681, 9683, 9685, 9687, 9689, 9691, 9693, 9695, 9697, 9699, 9701, 9703, 9705, 9707, 9709, 9711, 9713, 9715, 9717, 9719, 9721, 9723, 9725, 9727, 9729, 9731, 9733, 9735, 9737, 9739, 9741, 9743, 9745, 9747, 9749, 9751, 9753, 9755, 9757, 9759, 9761, 9763, 9765, 9767, 9769, 9771, 9773, 9775, 9777, 9779, 9781, 9783, 9785, 9787, 9789, 9791, 9793, 9795, 9797, 9799, 9801, 9803, 9805, 9807, 9809, 9811, 9813, 9815, 9817, 9819, 9821, 9823, 9825, 9827, 9829, 9831, 9833, 9835, 9837, 9839, 9841, 9843, 9845, 9847, 9849, 9851, 9853, 9855, 9857, 9859, 9861, 9863, 9865, 9867, 9869, 9871, 9873, 9875, 9877, 9879, 9881, 9883, 9885, 9887, 9889, 9891, 9893, 9895, 9897, 9899, 9901, 9903, 9905, 9907, 9909, 9911, 9913, 9915, 9917, 9919, 9921, 9923, 9925, 9927, 9929, 9931, 9933, 9935, 9937, 9939, 9941, 9943, 9945, 9947, 9949, 9951, 9953, 9955, 9957, 9959, 9961, 9963, 9965, 9967, 9969, 9971, 9973, 9975, 9977, 9979, 9981, 9983, 9985, 9987, 9989, 9991, 9993, 9995, 9997, 9999, 10001, 10003, 10005, 10007, 10009, 10011, 10013, 10015, 10017, 10019, 10021, 10023, 10025, 10027, 10029, 10031, 10033, 10035, 10037, 10039, 10041, 10043, 10045, 10047, 10049, 10051, 10053, 10055, 10057, 10059, 10061, 10063, 10065, 10067, 10069, 10071, 10073, 10075, 10077, 10079, 10081, 10083, 10085, 10087, 10089, 10091, 10093, 10095, 10097, 10099, 10101, 10103, 10105, 10107, 10109, 10111, 10113, 10115, 10117, 10119, 10121, 10123, 10125, 10127, 10129, 10131, 10133, 10135, 10137, 10139, 10141, 10143, 10145, 10147, 10149, 10151, 10153, 10155, 10157, 10159, 10161, 10163, 10165, 10167, 10169, 10171, 10173, 10175, 10177, 10179, 10181, 10183, 10185, 10187, 10189, 10191, 10193, 10195, 10197, 10199, 10201, 10203, 10205, 10207, 10209, 10211, 10213, 10215, 10217, 10219, 10221, 10223, 10225, 10227, 10229, 10231, 10233, 10235, 10237, 10239, 10241, 10243, 10245, 10247, 10249, 10251, 10253, 10255, 10257, 10259, 10261, 10263, 10265, 10267, 10269, 10271, 10273, 10275, 10277, 10279, 10281, 10283, 10285, 10287, 10289, 10291, 10293, 10295, 10297, 10299, 10301, 10303, 10305, 10307, 10309, 10311, 10313, 10315, 10317, 10319, 10321, 10323, 10325, 10327, 10329, 10331, 10333, 10335, 10337, 10339, 10341, 10343, 10345, 10347, 10349, 10351, 10353, 10355, 10357, 10359, 10361, 10363, 10365, 10367, 10369, 10371, 10373, 10375, 10377, 10379, 10381, 10383, 10385, 10387, 10389, 10391, 10393, 10395, 10397, 10399, 10401, 10403, 10405, 10407, 10409, 10411, 10413, 10415, 10417, 10419, 10421, 10423, 10425, 10427, 10429, 10431, 10433, 10435, 10437, 10439, 10441, 10443, 10445, 10447, 10449, 10451, 10453, 10455, 10457, 10459, 10461, 10463, 10465, 10467, 10469, 10471, 10473, 10475, 10477, 10479, 10481, 10483, 10485, 10487, 10489, 10491, 10493, 10495, 10497, 10499, 10501, 10503, 10505, 10507, 10509, 10511, 10513, 10515, 10517, 10519, 10521, 10523, 10525, 10527, 10529, 10531, 10533, 10535, 10537, 10539, 10541, 10543, 10545, 10547, 10549, 10551, 10553, 10555, 10557, 10559, 10561, 10563, 10565, 10567, 10569, 10571, 10573, 10575, 10577, 10579, 10581, 10583, 10585, 10587, 10589, 10591, 10593, 10595, 10597, 10599, 10601, 10603, 10605, 10607, 10609, 10611, 10613, 10615, 10617, 10619, 10621, 10623, 10625, 10627, 10629, 10631, 10633, 10635, 10637, 10639, 10641, 10643, 10645, 10647, 10649, 10651, 10653, 10655, 10657, 10659, 10661, 10663, 10665, 10667, 10669, 10671, 10673, 10675, 10677, 10679, 10681, 10683, 10685, 10687, 10689, 10691, 10693, 10695, 10697, 10699, 10701, 10703, 10705, 10707, 10709, 10711, 10713, 10715, 10717, 10719, 10721, 10723, 10725, 10727, 10729, 10731, 10733, 10735, 10737, 10739, 10741, 10743, 10745, 10747, 10749, 10751, 10753, 10755, 10757, 10759, 10761, 10763, 10765, 10767, 10769, 10771, 10773, 10775, 10777, 10779, 10781, 10783, 10785, 10787, 10789, 10791, 10793, 10795, 10797, 10799, 10801, 10803, 10805, 10807, 10809, 10811, 10813, 10815, 10817, 10819, 10821, 10823, 10825, 10827, 10829, 10831, 10833, 10835, 10837, 10839, 10841, 10843, 10845, 10847, 10849, 10851, 10853, 10855, 10857, 10859, 10861, 10863, 10865, 10867, 10869, 10871, 10873, 10875, 10877, 10879, 10881, 10883, 10885, 10887, 10889, 10891, 10893, 10895, 10897, 10899, 10901, 10903, 10905, 10907, 10909, 10911, 10913, 10915, 10917, 10919, 10921, 10923, 10925, 10927, 10929, 10931, 10933, 10935, 10937, 10939, 10941, 10943, 10945, 10947, 10949, 10951, 10953, 10955, 10957, 10959, 10961, 10963, 10965, 10967, 10969, 10971, 10973, 10975, 10977, 10979, 10981, 10983, 10985, 10987, 10989, 10991, 10993, 10995, 10997, 10999, 11001, 11003, 11005, 11007, 11009, 11011, 11013, 11015, 11017, 11019, 11021, 11023, 11025, 11027, 11029, 11031, 11033, 11035, 11037, 11039, 11041, 11043, 11045, 11047, 11049, 11051, 11053, 11055, 11057, 11059, 11061, 11063, 11065, 11067, 11069, 11071, 11073, 11075, 11077, 11079, 11081, 11083, 11085, 11087, 11089, 11091, 11093, 11095, 11097, 11099, 11101, 11103, 11105, 11107, 11109, 11111, 11113, 11115, 11117, 11119, 11121, 11123, 11125, 11127, 11129, 11131, 11133, 11135, 11137, 11139, 11141, 11143, 11145, 11147, 11149, 11151, 11153, 11155, 11157, 11159, 11161, 11163, 11165, 11167, 11169, 11171, 11173, 11175, 11177, 11179, 11181, 11183, 11185, 11187, 11189, 11191, 11193, 11195, 11197, 11199, 11201, 11203, 11205, 11207, 11209, 11211, 11213, 11215, 11217, 11219, 11221, 11223, 11225, 11227, 11229, 11231, 11233, 11235, 11237, 11239, 11241, 11243, 11245, 11247, 11249, 11251, 11253, 11255, 11257, 11259, 11261, 11263, 11265, 11267, 11269, 11271, 11273, 11275, 11277, 11279, 11281, 11283, 11285, 11287, 11289, 11291, 11293, 11295, 11297, 11299, 11301, 11303, 11305, 11307, 11309, 11311, 11313, 11315, 11317, 11319, 11321, 11323, 11325, 11327, 11329, 11331, 11333, 11335, 11337, 11339, 11341, 11343, 11345, 11347, 11349, 11351, 11353, 11355, 11357, 11359, 11361, 11363, 11365, 11367, 11369, 11371, 11373, 11375, 11377, 11379, 11381, 11383, 11385, 11387, 11389, 11391, 11393, 11395, 11397, 11399, 11401, 11403, 11405, 11407, 11409, 11411, 11413, 11415, 11417, 11419, 11421, 11423, 11425, 11427, 11429, 11431, 11433, 11435, 11437, 11439, 11441, 11443, 11445, 11447, 11449, 11451, 11453, 11455, 11457, 11459, 11461, 11463, 11465, 11467, 11469, 11471, 11473, 11475, 11477, 11479, 11481, 11483, 11485, 11487, 11489, 11491, 11493, 11495, 11497, 11499, 11501, 11503, 11505, 11507, 11509, 11511, 11513, 11515, 11517, 11519, 11521, 11523, 11525, 11527, 11529, 11531, 11533, 11535, 11537, 11539, 11541, 11543, 11545, 11547, 11549, 11551, 11553, 11555, 11557, 11559, 11561, 11563, 11565, 11567, 11569, 11571, 11573, 11575, 11577, 11579, 11581, 11583, 11585, 11587, 11589, 11591, 11593, 11595, 11597, 11599, 11601, 11603, 11605, 11607, 11609, 11611, 11613, 11615, 11617, 11619, 11621, 11623, 11625, 11627, 11629, 11631, 11633, 11635, 11637, 11639, 11641, 11643, 11645, 11647, 11649, 11651, 11653, 11655, 11657, 11659, 11661, 11663, 11665, 11667, 11669, 11671, 11673, 11675, 11677, 11679, 11681, 11683, 11685, 11687, 11689, 11691, 11693, 11695, 11697, 11699, 11701, 11703, 11705, 11707, 11709, 11711, 11713, 11715, 11717, 11719, 11721, 11723, 11725, 11727, 11729, 11731, 11733, 11735, 11737, 11739, 11741, 11743, 11745, 11747, 11749, 11751, 11753, 11755, 11757, 11759, 11761, 11763, 11765, 11767, 11769, 11771, 11773, 11775, 11777, 11779, 11781, 11783, 11785, 11787, 11789, 11791, 11793, 11795, 11797, 11799, 11801, 11803, 11805, 11807, 11809, 11811, 11813, 11815, 11817, 11819, 11821, 11823, 11825, 11827, 11829, 11831, 11833, 11835, 11837, 11839, 11841, 11843, 11845, 11847, 11849, 11851, 11853, 11855, 11857, 11859, 11861, 11863, 11865, 11867, 11869, 11871, 11873, 11875, 11877, 11879, 11881, 11883, 11885, 11887, 11889, 11891, 11893, 11895, 11897, 11899, 11901, 11903, 11905, 11907, 11909, 11911, 11913, 11915, 11917, 11919, 11921, 11923, 11925, 11927, 11929, 11931, 11933, 11935, 11937, 11939, 11941, 11943, 11945, 11947, 11949, 11951, 11953, 11955, 11957, 11959, 11961, 11963, 11965, 11967, 11969, 11971, 11973, 11975, 11977, 11979, 11981, 11983, 11985, 11987, 11989, 11991, 11993, 11995, 11997, 11999, 12001, 12003, 12005, 12007, 12009, 12011, 12013, 12015, 12017, 12019, 12021, 12023, 12025, 12027, 12029, 12031, 12033, 12035, 12037, 12039, 12041, 12043, 12045, 12047, 12049, 12051, 12053, 12055, 12057, 12059, 12061, 12063, 12065, 12067, 12069, 12071, 12073, 12075, 12077, 12079, 12081, 12083, 12085, 12087, 12089, 12091, 12093, 12095, 12097, 12099, 12101, 12103, 12105, 12107, 12109, 12111, 12113, 12115, 12117, 12119, 12121, 12123, 12125, 12127, 12129, 12131, 12133, 12135, 12137, 12139, 12141, 12143, 12145, 12147, 12149, 12151, 12153, 12155, 12157, 12159, 12161, 12163, 12165, 12167, 12169, 12171, 12173, 12175, 12177, 12179, 12181, 12183, 12185, 12187, 12189, 12191, 12193, 12195, 12197, 12199, 12201, 12203, 12205, 12207, 12209, 12211, 12213, 12215, 12217, 12219, 12221, 12223, 12225, 12227, 12229, 12231, 12233, 12235, 12237, 12239, 12241, 12243, 12245, 12247, 12249, 12251, 12253, 12255, 12257, 12259, 12261, 12263, 12265, 12267, 12269, 12271, 12273, 12275, 12277, 12279, 12281, 12283, 12285, 12287, 12289, 12291, 12293, 12295, 12297, 12299, 12301, 12303, 12305, 12307, 12309, 12311, 12313, 12315, 12317, 12319, 12321, 12323, 12325, 12327, 12329, 12331, 12333, 12335, 12337, 12339, 12341, 12343, 12345, 12347, 12349, 12351, 12353, 12355, 12357, 12359, 12361, 12363, 12365, 12367, 12369, 12371, 12373, 12375, 12377, 12379, 12381, 12383, 12385, 12387, 12389, 12391, 12393, 12395, 12397, 12399, 12401, 12403, 12405, 12407, 12409, 12411, 12413, 12415, 12417, 12419, 12421, 12423, 12425, 12427, 12429, 12431, 12433, 12435, 12437, 12439, 12441, 12443, 12445, 12447, 12449, 12451, 12453, 12455, 12457, 12459, 12461, 12463, 12465, 12467, 12469, 12471, 12473, 12475, 12477, 12479, 12481, 12483, 12485, 12487, 12489, 12491, 12493, 12495, 12497, 12499, 12501, 12503, 12505, 12507, 12509, 12511, 12513, 12515, 12517, 12519, 12521, 12523, 12525, 12527, 12529, 12531, 12533, 12535, 12537, 12539, 12541, 12543, 12545, 12547, 12549, 12551, 12553, 12555, 12557, 12559, 12561, 12563, 12565, 12567, 12569, 12571, 12573, 12575, 12577, 12579, 12581, 12583, 12585, 12587, 12589, 12591, 12593, 12595, 12597, 12599, 12601, 12603, 12605, 12607, 12609, 12611, 12613, 12615, 12617, 12619, 12621, 12623, 12625, 12627, 12629, 12631, 12633, 12635, 12637, 12639, 12641, 12643, 12645, 12647, 12649, 12651, 12653, 12655, 12657, 12659, 12661, 12663, 12665, 12667, 12669, 12671, 12673, 12675, 12677, 12679, 12681, 12683, 12685, 12687, 12689, 12691, 12693, 12695, 12697, 12699, 12701, 12703, 12705, 12707, 12709, 12711, 12713, 12715, 12717, 12719, 12721, 12723, 12725, 12727, 12729, 12731, 12733, 12735, 12737, 12739, 12741, 12743, 12745, 12747, 12749, 12751, 12753, 12755, 12757, 12759, 12761, 12763, 12765, 12767, 12769, 12771, 12773, 12775, 12777, 12779, 12781, 12783, 12785, 12787, 12789, 12791, 12793, 12795, 12797, 12799, 12801, 12803, 12805, 12807, 12809, 12811, 12813, 12815, 12817, 12819, 12821, 12823, 12825, 12827, 12829, 12831, 12833, 12835, 12837, 12839, 12841, 12843, 12845, 12847, 12849, 12851, 12853, 12855, 12857, 12859, 12861, 12863, 12865, 12867, 12869, 12871, 12873, 12875, 12877, 12879, 12881, 12883, 12885, 12887, 12889, 12891, 12893, 12895, 12897, 12899, 12901, 12903, 12905, 12907, 12909, 12911, 12913, 12915, 12917, 12919, 12921, 12923, 12925, 12927, 12929, 12931, 12933, 12935, 12937, 12939, 12941, 12943, 12945, 12947, 12949, 12951, 12953, 12955, 12957, 12959, 12961, 12963, 12965, 12967, 12969, 12971, 12973, 12975, 12977, 12979, 12981, 12983, 12985, 12987, 12989, 12991, 12993, 12995, 12997, 12999, 13001, 13003, 13005, 13007, 13009, 13011, 13013, 13015, 13017, 13019, 13021, 13023, 13025, 13027, 13029, 13031, 13033, 13035, 13037, 13039, 13041, 13043, 13045, 13047, 13049, 13051, 13053, 13055, 13057, 13059, 13061, 13063, 13065, 13067, 13069, 13071, 13073, 13075, 13077, 13079, 13081, 13083, 13085, 13087, 13089, 13091, 13093, 13095, 13097, 13099, 13101, 13103, 13105, 13107, 13109, 13111, 13113, 13115, 13117, 13119, 13121, 13123, 13125, 13127, 13129, 13131, 13133, 13135, 13137, 13139, 13141, 13143, 13145, 13147, 13149, 13151, 13153, 13155, 13157, 13159, 13161, 13163, 13165, 13167, 13169, 13171, 13173, 13175, 13177, 13179, 13181, 13183, 13185, 13187, 13189, 13191, 13193, 13195, 13197, 13199, 13201, 13203, 13205, 13207, 13209, 13211, 13213, 13215, 13217, 13219, 13221, 13223, 13225, 13227, 13229, 13231, 13233, 13235, 13237, 13239, 13241, 13243, 13245, 13247, 13249, 13251, 13253, 13255, 13257, 13259, 13261, 13263, 13265, 13267, 13269, 13271, 13273, 13275, 13277, 13279, 13281, 13283, 13285, 13287, 13289, 13291, 13293, 13295, 13297, 13299, 13301, 13303, 13305, 13307, 13309, 13311, 13313, 13315, 13317, 13319, 13321, 13323, 13325, 13327, 13329, 13331, 13333, 13335, 13337, 13339, 13341, 13343, 13345, 13347, 13349, 13351, 13353, 13355, 13357, 13359, 13361, 13363, 13365, 13367, 13369, 13371, 13373, 13375, 13377, 13379, 13381, 13383, 13385, 13387, 13389, 13391, 13393, 13395, 13397, 13399, 13401, 13403, 13405, 13407, 13409, 13411, 13413, 13415, 13417, 13419, 13421, 13423, 13425, 13427, 13429, 13431, 13433, 13435, 13437, 13439, 13441, 13443, 13445, 13447, 13449, 13451, 13453, 13455, 13457, 13459, 13461, 13463, 13465, 13467, 13469, 13471, 13473, 13475, 13477, 13479, 13481, 13483, 13485, 13487, 13489, 13491, 13493, 13495, 13497, 13499, 13501, 13503, 13505, 13507, 13509, 13511, 13513, 13515, 13517, 13519, 13521, 13523, 13525, 13527, 13529, 13531, 13533, 13535, 13537, 13539, 13541, 13543, 13545, 13547, 13549, 13551, 13553, 13555, 13557, 13559, 13561, 13563, 13565, 13567, 13569, 13571, 13573, 13575, 13577, 13579, 13581, 13583, 13585, 13587, 13589, 13591, 13593, 13595, 13597, 13599, 13601, 13603, 13605, 13607, 13609, 13611, 13613, 13615, 13617, 13619, 13621, 13623, 13625, 13627, 13629, 13631, 13633, 13635, 13637, 13639, 13641, 13643, 13645, 13647, 13649, 13651, 13653, 13655, 13657, 13659, 13661, 13663, 13665, 13667, 13669, 13671, 13673, 13675, 13677, 13679, 13681, 13683, 13685, 13687, 13689, 13691, 13693, 13695, 13697, 13699, 13701, 13703, 13705, 13707, 13709, 13711, 13713, 13715, 13717, 13719, 13721, 13723, 13725, 13727, 13729, 13731, 13733, 13735, 13737, 13739, 13741, 13743, 13745, 13747, 13749, 13751, 13753, 13755, 13757, 13759, 13761, 13763, 13765, 13767, 13769, 13771, 13773, 13775, 13777, 13779, 13781, 13783, 13785, 13787, 13789, 13791, 13793, 13795, 13797, 13799, 13801, 13803, 13805, 13807, 13809, 13811, 13813, 13815, 13817, 13819, 13821, 13823, 13825, 13827, 13829, 13831, 13833, 13835, 13837, 13839, 13841, 13843, 13845, 13847, 13849, 13851, 13853, 13855, 13857, 13859, 13861, 13863, 13865, 13867, 13869, 13871, 13873, 13875, 13877, 13879, 13881, 13883, 13885, 13887, 13889, 13891, 13893, 13895, 13897, 13899, 13901, 13903, 13905, 13907, 13909, 13911, 13913, 13915, 13917, 13919, 13921, 13923, 13925, 13927, 13929, 13931, 13933, 13935, 13937, 13939, 13941, 13943, 13945, 13947, 13949, 13951, 13953, 13955, 13957, 13959, 13961, 13963, 13965, 13967, 13969, 13971, 13973, 13975, 13977, 13979, 13981, 13983, 13985, 13987, 13989, 13991, 13993, 13995, 13997, 13999, 14001, 14003, 14005, 14007, 14009, 14011, 14013, 14015, 14017, 14019, 14021, 14023, 14025, 14027, 14029, 14031, 14033, 14035, 14037, 14039, 14041, 14043, 14045, 14047, 14049, 14051, 14053, 14055, 14057, 14059, 14061, 14063, 14065, 14067, 14069, 14071, 14073, 14075, 14077, 14079, 14081, 14083, 14085, 14087, 14089, 14091, 14093, 14095, 14097, 14099, 14101, 14103, 14105, 14107, 14109, 14111, 14113, 14115, 14117, 14119, 14121, 14123, 14125, 14127, 14129, 14131, 14133, 14135, 14137, 14139, 14141, 14143, 14145, 14147, 14149, 14151, 14153, 14155, 14157, 14159, 14161, 14163, 14165, 14167, 14169, 14171, 14173, 14175, 14177, 14179, 14181, 14183, 14185, 14187, 14189, 14191, 14193, 14195, 14197, 14199, 14201, 14203, 14205, 14207, 14209, 14211, 14213, 14215, 14217, 14219, 14221, 14223, 14225, 14227, 14229, 14231, 14233, 14235, 14237, 14239, 14241, 14243, 14245, 14247, 14249, 14251, 14253, 14255, 14257, 14259, 14261, 14263, 14265, 14267, 14269, 14271, 14273, 14275, 14277, 14279, 14281, 14283, 14285, 14287, 14289, 14291, 14293, 14295, 14297, 14299, 14301, 14303, 14305, 14307, 14309, 14311, 14313, 14315, 14317, 14319, 14321, 14323, 14325, 14327, 14329, 14331, 14333, 14335, 14337, 14339, 14341, 14343, 14345, 14347, 14349, 14351, 14353, 14355, 14357, 14359, 14361, 14363, 14365, 14367, 14369, 14371, 14373, 14375, 14377, 14379, 14381, 14383, 14385, 14387, 14389, 14391, 14393, 14395, 14397, 14399, 14401, 14403, 14405, 14407, 14409, 14411, 14413, 14415, 14417, 14419, 14421, 14423, 14425, 14427, 14429, 14431, 14433, 14435, 14437, 14439, 14441, 14443, 14445, 14447, 14449, 14451, 14453, 14455, 14457, 14459, 14461, 14463, 14465, 14467, 14469, 14471, 14473, 14475, 14477, 14479, 14481, 14483, 14485, 14487, 14489, 14491, 14493, 14495, 14497, 14499, 14501, 14503, 14505, 14507, 14509, 14511, 14513, 14515, 14517, 14519, 14521, 14523, 14525, 14527, 14529, 14531, 14533, 14535, 14537, 14539, 14541, 14543, 14545, 14547, 14549, 14551, 14553, 14555, 14557, 14559, 14561, 14563, 14565, 14567, 14569, 14571, 14573, 14575, 14577, 14579, 14581, 14583, 14585, 14587, 14589, 14591, 14593, 14595, 14597, 14599, 14601, 14603, 14605, 14607, 14609, 14611, 14613, 14615, 14617, 14619, 14621, 14623, 14625, 14627, 14629, 14631, 14633, 14635, 14637, 14639, 14641, 14643, 14645, 14647, 14649, 14651, 14653, 14655, 14657, 14659, 14661, 14663, 14665, 14667, 14669, 14671, 14673, 14675, 14677, 14679, 14681, 14683, 14685, 14687, 14689, 14691, 14693, 14695, 14697, 14699, 14701, 14703, 14705, 14707, 14709, 14711, 14713, 14715, 14717, 14719, 14721, 14723, 14725, 14727, 14729, 14731, 14733, 14735, 14737, 14739, 14741, 14743, 14745, 14747, 14749, 14751, 14753, 14755, 14757, 14759, 14761, 14763, 14765, 14767, 14769, 14771, 14773, 14775, 14777, 14779, 14781, 14783, 14785, 14787, 14789, 14791, 14793, 14795, 14797, 14799, 14801, 14803, 14805, 14807, 14809, 14811, 14813, 14815, 14817, 14819, 14821, 14823, 14825, 14827, 14829, 14831, 14833, 14835, 14837, 14839, 14841, 14843, 14845, 14847, 14849, 14851, 14853, 14855, 14857, 14859, 14861, 14863, 14865, 14867, 14869, 14871, 14873, 14875, 14877, 14879, 14881, 14883, 14885, 14887, 14889, 14891, 14893, 14895, 14897, 14899, 14901, 14903, 14905, 14907, 14909, 14911, 14913, 14915, 14917, 14919, 14921, 14923, 14925, 14927, 14929, 14931, 14933, 14935, 14937, 14939, 14941, 14943, 14945, 14947, 14949, 14951, 14953, 14955, 14957, 14959, 14961, 14963, 14965, 14967, 14969, 14971, 14973, 14975, 14977, 14979, 14981, 14983, 14985, 14987, 14989, 14991, 14993, 14995, 14997, 14999, 15001, 15003, 15005, 15007, 15009, 15011, 15013, 15015, 15017, 15019, 15021, 15023, 15025, 15027, 15029, 15031, 15033, 15035, 15037, 15039, 15041, 15043, 15045, 15047, 15049, 15051, 15053, 15055, 15057, 15059, 15061, 15063, 15065, 15067, 15069, 15071, 15073, 15075, 15077, 15079, 15081, 15083, 15085, 15087, 15089, 15091, 15093, 15095, 15097, 15099, 15101, 15103, 15105, 15107, 15109, 15111, 15113, 15115, 15117, 15119, 15121, 15123, 15125, 15127, 15129, 15131, 15133, 15135, 15137, 15139, 15141, 15143, 15145, 15147, 15149, 15151, 15153, 15155, 15157, 15159, 15161, 15163, 15165, 15167, 15169, 15171, 15173, 15175, 15177, 15179, 15181, 15183, 15185, 15187, 15189, 15191, 15193, 15195, 15197, 15199, 15201, 15203, 15205, 15207, 15209, 15211, 15213, 15215, 15217, 15219, 15221, 15223, 15225, 15227, 15229, 15231, 15233, 15235, 15237, 15239, 15241, 15243, 15245, 15247, 15249, 15251, 15253, 15255, 15257, 15259, 15261, 15263, 15265, 15267, 15269, 15271, 15273, 15275, 15277, 15279, 15281, 15283, 15285, 15287, 15289, 15291, 15293, 15295, 15297, 15299, 15301, 15303, 15305, 15307, 15309, 15311, 15313, 15315, 15317, 15319, 15321, 15323, 15325, 15327, 15329, 15331, 15333, 15335, 15337, 15339, 15341, 15343, 15345, 15347, 15349, 15351, 15353, 15355, 15357, 15359, 15361, 15363, 15365, 15367, 15369, 15371, 15373, 15375, 15377, 15379, 15381, 15383, 15385, 15387, 15389, 15391, 15393, 15395, 15397, 15399, 15401, 15403, 15405, 15407, 15409, 15411, 15413, 15415, 15417, 15419, 15421, 15423, 15425, 15427, 15429, 15431, 15433, 15435, 15437, 15439, 15441, 15443, 15445, 15447, 15449, 15451, 15453, 15455, 15457, 15459, 15461, 15463, 15465, 15467, 15469, 15471, 15473, 15475, 15477, 15479, 15481, 15483, 15485, 15487, 15489, 15491, 15493, 15495, 15497, 15499, 15501, 15503, 15505, 15507, 15509, 15511, 15513, 15515, 15517, 15519, 15521, 15523, 15525, 15527, 15529, 15531, 15533, 15535, 15537, 15539, 15541, 15543, 15545, 15547, 15549, 15551, 15553, 15555, 15557, 15559, 15561, 15563, 15565, 15567, 15569, 15571, 15573, 15575, 15577, 15579, 15581, 15583, 15585, 15587, 15589, 15591, 15593, 15595, 15597, 15599, 15601, 15603, 15605, 15607, 15609, 15611, 15613, 15615, 15617, 15619, 15621, 15623, 15625, 15627, 15629, 15631, 15633, 15635, 15637, 15639, 15641, 15643, 15645, 15647, 15649, 15651, 15653, 15655, 15657, 15659, 15661, 15663, 15665, 15667, 15669, 15671, 15673, 15675, 15677, 15679, 15681, 15683, 15685, 15687, 15689, 15691, 15693, 15695, 15697, 15699, 15701, 15703, 15705, 15707, 15709, 15711, 15713, 15715, 15717, 15719, 15721, 15723, 15725, 15727, 15729, 15731, 15733, 15735, 15737, 15739, 15741, 15743, 15745, 15747, 15749, 15751, 15753, 15755, 15757, 15759, 15761, 15763, 15765, 15767, 15769, 15771, 15773, 15775, 15777, 15779, 15781, 15783, 15785, 15787, 15789, 15791, 15793, 15795, 15797, 15799, 15801, 15803, 15805, 15807, 15809, 15811, 15813, 15815, 15817, 15819, 15821, 15823, 15825, 15827, 15829, 15831, 15833, 15835, 15837, 15839, 15841, 15843, 15845, 15847, 15849, 15851, 15853, 15855, 15857, 15859, 15861, 15863, 15865, 15867, 15869, 15871, 15873, 15875, 15877, 15879, 15881, 15883, 15885, 15887, 15889, 15891, 15893, 15895, 15897, 15899, 15901, 15903, 15905, 15907, 15909, 15911, 15913, 15915, 15917, 15919, 15921, 15923, 15925, 15927, 15929, 15931, 15933, 15935, 15937, 15939, 15941, 15943, 15945, 15947, 15949, 15951, 15953, 15955, 15957, 15959, 15961, 15963, 15965, 15967, 15969, 15971, 15973, 15975, 15977, 15979, 15981, 15983, 15985, 15987, 15989, 15991, 15993, 15995, 15997, 15999, 16001, 16003, 16005, 16007, 16009, 16011, 16013, 16015, 16017, 16019, 16021, 16023, 16025, 16027, 16029, 16031, 16033, 16035, 16037, 16039, 16041, 16043, 16045, 16047, 16049, 16051, 16053, 16055, 16057, 16059, 16061, 16063, 16065, 16067, 16069, 16071, 16073, 16075, 16077, 16079, 16081, 16083, 16085, 16087, 16089, 16091, 16093, 16095, 16097, 16099, 16101, 16103, 16105, 16107, 16109, 16111, 16113, 16115, 16117, 16119, 16121, 16123, 16125, 16127, 16129, 16131, 16133, 16135, 16137, 16139, 16141, 16143, 16145, 16147, 16149, 16151, 16153, 16155, 16157, 16159, 16161, 16163, 16165, 16167, 16169, 16171, 16173, 16175, 16177, 16179, 16181, 16183, 16185, 16187, 16189, 16191, 16193, 16195, 16197, 16199, 16201, 16203, 16205, 16207, 16209, 16211, 16213, 16215, 16217, 16219, 16221, 16223, 16225, 16227, 16229, 16231, 16233, 16235, 16237, 16239, 16241, 16243, 16245, 16247, 16249, 16251, 16253, 16255, 16257, 16259, 16261, 16263, 16265, 16267, 16269, 16271, 16273, 16275, 16277, 16279, 16281, 16283, 16285, 16287, 16289, 16291, 16293, 16295, 16297, 16299, 16301, 16303, 16305, 16307, 16309, 16311, 16313, 16315, 16317, 16319, 16321, 16323, 16325, 16327, 16329, 16331, 16333, 16335, 16337, 16339, 16341, 16343, 16345, 16347, 16349, 16351, 16353, 16355, 16357, 16359, 16361, 16363, 16365, 16367, 16369, 16371, 16373, 16375, 16377, 16379, 16381, 16383, 16385, 16387, 16389, 16391, 16393, 16395, 16397, 16399, 16401, 16403, 16405, 16407, 16409, 16411, 16413, 16415, 16417, 16419, 16421, 16423, 16425, 16427, 16429, 16431, 16433, 16435, 16437, 16439, 16441, 16443, 16445, 16447, 16449, 16451, 16453, 16455, 16457, 16459, 16461, 16463, 16465, 16467, 16469, 16471, 16473, 16475, 16477, 16479, 16481, 16483, 16485, 16487, 16489, 16491, 16493, 16495, 16497, 16499, 16501, 16503, 16505, 16507, 16509, 16511, 16513, 16515, 16517, 16519, 16521, 16523, 16525, 16527, 16529, 16531, 16533, 16535, 16537, 16539, 16541, 16543, 16545, 16547, 16549, 16551, 16553, 16555, 16557, 16559, 16561, 16563, 16565, 16567, 16569, 16571, 16573, 16575, 16577, 16579, 16581, 16583, 16585, 16587, 16589, 16591, 16593, 16595, 16597, 16599, 16601, 16603, 16605, 16607, 16609, 16611, 16613, 16615, 16617, 16619, 16621, 16623, 16625, 16627, 16629, 16631, 16633, 16635, 16637, 16639, 16641, 16643, 16645, 16647, 16649, 16651, 16653, 16655, 16657, 16659, 16661, 16663, 16665, 16667, 16669, 16671, 16673, 16675, 16677, 16679, 16681, 16683, 16685, 16687, 16689, 16691, 16693, 16695, 16697, 16699, 16701, 16703, 16705, 16707, 16709, 16711, 16713, 16715, 16717, 16719, 16721, 16723, 16725, 16727, 16729, 16731, 16733, 16735, 16737, 16739, 16741, 16743, 16745, 16747, 16749, 16751, 16753, 16755, 16757, 16759, 16761, 16763, 16765, 16767, 16769, 16771, 16773, 16775, 16777, 16779, 16781, 16783, 16785, 16787, 16789, 16791, 16793, 16795, 16797, 16799, 16801, 16803, 16805, 16807, 16809, 16811, 16813, 16815, 16817, 16819, 16821, 16823, 16825, 16827, 16829, 16831, 16833, 16835, 16837, 16839, 16841, 16843, 16845, 16847, 16849, 16851, 16853, 16855, 16857, 16859, 16861, 16863, 16865, 16867, 16869, 16871, 16873, 16875, 16877, 16879, 16881, 16883, 16885, 16887, 16889, 16891, 16893, 16895, 16897, 16899, 16901, 16903, 16905, 16907, 16909, 16911, 16913, 16915, 16917, 16919, 16921, 16923, 16925, 16927, 16929, 16931, 16933, 16935, 16937, 16939, 16941, 16943, 16945, 16947, 16949, 16951, 16953, 16955, 16957, 16959, 16961, 16963, 16965, 16967, 16969, 16971, 16973, 16975, 16977, 16979, 16981, 16983, 16985, 16987, 16989, 16991, 16993, 16995, 16997, 16999, 17001, 17003, 17005, 17007, 17009, 17011, 17013, 17015, 17017, 17019, 17021, 17023, 17025, 17027, 17029, 17031, 17033, 17035, 17037, 17039, 17041, 17043, 17045, 17047, 17049, 17051, 17053, 17055, 17057, 17059, 17061, 17063, 17065, 17067, 17069, 17071, 17073, 17075, 17077, 17079, 17081, 17083, 17085, 17087, 17089, 17091, 17093, 17095, 17097, 17099, 17101, 17103, 17105, 17107, 17109, 17111, 17113, 17115, 17117, 17119, 17121, 17123, 17125, 17127, 17129, 17131, 17133, 17135, 17137, 17139, 17141, 17143, 17145, 17147, 17149, 17151, 17153, 17155, 17157, 17159, 17161, 17163, 17165, 17167, 17169, 17171, 17173, 17175, 17177, 17179, 17181, 17183, 17185, 17187, 17189, 17191, 17193, 17195, 17197, 17199, 17201, 17203, 17205, 17207, 17209, 17211, 17213, 17215, 17217, 17219, 17221, 17223, 17225, 17227, 17229, 17231, 17233, 17235, 17237, 17239, 17241, 17243, 17245, 17247, 17249, 17251, 17253, 17255, 17257, 17259, 17261, 17263, 17265, 17267, 17269, 17271, 17273, 17275, 17277, 17279, 17281, 17283, 17285, 17287, 17289, 17291, 17293, 17295, 17297, 17299, 17301, 17303, 17305, 17307, 17309, 17311, 17313, 17315, 17317, 17319, 17321, 17323, 17325, 17327, 17329, 17331, 17333, 17335, 17337, 17339, 17341, 17343, 17345, 17347, 17349, 17351, 17353, 17355, 17357, 17359, 17361, 17363, 17365, 17367, 17369, 17371, 17373, 17375, 17377, 17379, 17381, 17383, 17385, 17387, 17389, 17391, 17393, 17395, 17397, 17399, 17401, 17403, 17405, 17407, 17409, 17411, 17413, 17415, 17417, 17419, 17421, 17423, 17425, 17427, 17429, 17431, 17433, 17435, 17437, 17439, 17441, 17443, 17445, 17447, 17449, 17451, 17453, 17455, 17457, 17459, 17461, 17463, 17465, 17467, 17469, 17471, 17473, 17475, 17477, 17479, 17481, 17483, 17485, 17487, 17489, 17491, 17493, 17495, 17497, 17499, 17501, 17503, 17505, 17507, 17509, 17511, 17513, 17515, 17517, 17519, 17521, 17523, 17525, 17527, 17529, 17531, 17533, 17535, 17537, 17539, 17541, 17543, 17545, 17547, 17549, 17551, 17553, 17555, 17557, 17559, 17561, 17563, 17565, 17567, 17569, 17571, 17573, 17575, 17577, 17579, 17581, 17583, 17585, 17587, 17589, 17591, 17593, 17595, 17597, 17599, 17601, 17603, 17605, 17607, 17609, 17611, 17613, 17615, 17617, 17619, 17621, 17623, 17625, 17627, 17629, 17631, 17633, 17635, 17637, 17639, 17641, 17643, 17645, 17647, 17649, 17651, 17653, 17655, 17657, 17659, 17661, 17663, 17665, 17667, 17669, 17671, 17673, 17675, 17677, 17679, 17681, 17683, 17685, 17687, 17689, 17691, 17693, 17695, 17697, 17699, 17701, 17703, 17705, 17707, 17709, 17711, 17713, 17715, 17717, 17719, 17721, 17723, 17725, 17727, 17729, 17731, 17733, 17735, 17737, 17739, 17741, 17743, 17745, 17747, 17749, 17751, 17753, 17755, 17757, 17759, 17761, 17763, 17765, 17767, 17769, 17771, 17773, 17775, 17777, 17779, 17781, 17783, 17785, 17787, 17789, 17791, 17793, 17795, 17797, 17799, 17801, 17803, 17805, 17807, 17809, 17811, 17813, 17815, 17817, 17819, 17821, 17823, 17825, 17827, 17829, 17831, 17833, 17835, 17837, 17839, 17841, 17843, 17845, 17847, 17849, 17851, 17853, 17855, 17857, 17859, 17861, 17863, 17865, 17867, 17869, 17871, 17873, 17875, 17877, 17879, 17881, 17883, 17885, 17887, 17889, 17891, 17893, 17895, 17897, 17899, 17901, 17903, 17905, 17907, 17909, 17911, 17913, 17915, 17917, 17919, 17921, 17923, 17925, 17927, 17929, 17931, 17933, 17935, 17937, 17939, 17941, 17943, 17945, 17947, 17949, 17951, 17953, 17955, 17957, 17959, 17961, 17963, 17965, 17967, 17969, 17971, 17973, 17975, 17977, 17979, 17981, 17983, 17985, 17987, 17989, 17991, 17993, 17995, 17997, 17999, 18001, 18003, 18005, 18007, 18009, 18011, 18013, 18015, 18017, 18019, 18021, 18023, 18025, 18027, 18029, 18031, 18033, 18035, 18037, 18039, 18041, 18043, 18045, 18047, 18049, 18051, 18053, 18055, 18057, 18059, 18061, 18063, 18065, 18067, 18069, 18071, 18073, 18075, 18077, 18079, 18081, 18083, 18085, 18087, 18089, 18091, 18093, 18095, 18097, 18099, 18101, 18103, 18105, 18107, 18109, 18111, 18113, 18115, 18117, 18119, 18121, 18123, 18125, 18127, 18129, 18131, 18133, 18135, 18137, 18139, 18141, 18143, 18145, 18147, 18149, 18151, 18153, 18155, 18157, 18159, 18161, 18163, 18165, 18167, 18169, 18171, 18173, 18175, 18177, 18179, 18181, 18183, 18185, 18187, 18189, 18191, 18193, 18195, 18197, 18199, 18201, 18203, 18205, 18207, 18209, 18211, 18213, 18215, 18217, 18219, 18221, 18223, 18225, 18227, 18229, 18231, 18233, 18235, 18237, 18239, 18241, 18243, 18245, 18247, 18249, 18251, 18253, 18255, 18257, 18259, 18261, 18263, 18265, 18267, 18269, 18271, 18273, 18275, 18277, 18279, 18281, 18283, 18285, 18287, 18289, 18291, 18293, 18295, 18297, 18299, 18301, 18303, 18305, 18307, 18309, 18311, 18313, 18315, 18317, 18319, 18321, 18323, 18325, 18327, 18329, 18331, 18333, 18335, 18337, 18339, 18341, 18343, 18345, 18347, 18349, 18351, 18353, 18355, 18357, 18359, 18361, 18363, 18365, 18367, 18369, 18371, 18373, 18375, 18377, 18379, 18381, 18383, 18385, 18387, 18389, 18391, 18393, 18395, 18397, 18399, 18401, 18403, 18405, 18407, 18409, 18411, 18413, 18415, 18417, 18419, 18421, 18423, 18425, 18427, 18429, 18431, 18433, 18435, 18437, 18439, 18441, 18443, 18445, 18447, 18449, 18451, 18453, 18455, 18457, 18459, 18461, 18463, 18465, 18467, 18469, 18471, 18473, 18475, 18477, 18479, 18481, 18483, 18485, 18487, 18489, 18491, 18493, 18495, 18497, 18499, 18501, 18503, 18505, 18507, 18509, 18511, 18513, 18515, 18517, 18519, 18521, 18523, 18525, 18527, 18529, 18531, 18533, 18535, 18537, 18539, 18541, 18543, 18545, 18547, 18549, 18551, 18553, 18555, 18557, 18559, 18561, 18563, 18565, 18567, 18569, 18571, 18573, 18575, 18577, 18579, 18581, 18583, 18585, 18587, 18589, 18591, 18593, 18595, 18597, 18599, 18601, 18603, 18605, 18607, 18609, 18611, 18613, 18615, 18617, 18619, 18621, 18623, 18625, 18627, 18629, 18631, 18633, 18635, 18637, 18639, 18641, 18643, 18645, 18647, 18649, 18651, 18653, 18655, 18657, 18659, 18661, 18663, 18665, 18667, 18669, 18671, 18673, 18675, 18677, 18679, 18681, 18683, 18685, 18687, 18689, 18691, 18693, 18695, 18697, 18699, 18701, 18703, 18705, 18707, 18709, 18711, 18713, 18715, 18717, 18719, 18721, 18723, 18725, 18727, 18729, 18731, 18733, 18735, 18737, 18739, 18741, 18743, 18745, 18747, 18749, 18751, 18753, 18755, 18757, 18759, 18761, 18763, 18765, 18767, 18769, 18771, 18773, 18775, 18777, 18779, 18781, 18783, 18785, 18787, 18789, 18791, 18793, 18795, 18797, 18799, 18801, 18803, 18805, 18807, 18809, 18811, 18813, 18815, 18817, 18819, 18821, 18823, 18825, 18827, 18829, 18831, 18833, 18835, 18837, 18839, 18841, 18843, 18845, 18847, 18849, 18851, 18853, 18855, 18857, 18859, 18861, 18863, 18865, 18867, 18869, 18871, 18873, 18875, 18877, 18879, 18881, 18883, 18885, 18887, 18889, 18891, 18893, 18895, 18897, 18899, 18901, 18903, 18905, 18907, 18909, 18911, 18913, 18915, 18917, 18919, 18921, 18923, 18925, 18927, 18929, 18931, 18933, 18935, 18937, 18939, 18941, 18943, 18945, 18947, 18949, 18951, 18953, 18955, 18957, 18959, 18961, 18963, 18965, 18967, 18969, 18971, 18973, 18975, 18977, 18979, 18981, 18983, 18985, 18987, 18989, 18991, 18993, 18995, 18997, 18999]}\n"
     ]
    }
   ],
   "source": [
    "# Fist, create a list with two keys, even and odd numers \n",
    "keys = [\"even\", \"odd\"]\n",
    "\n",
    "# Then, create a list with the values of even  and odd numbers, using np.arange function\n",
    "even_odd = np.arange(0, 2001, 2).tolist(), np.arange(9001, 19000, 2).tolist()\n",
    "\n",
    "# Finally, zip the values with the keys into a dictionary\n",
    "dic = dict(zip(keys, even_odd))\n",
    "\n",
    "print(dic)"
   ]
  },
  {
   "cell_type": "markdown",
   "id": "4a4f263e",
   "metadata": {},
   "source": [
    "2. Print the value of `brand` key of `car` dictionary. **Hint: Use the `get` method.** <br><br>"
   ]
  },
  {
   "cell_type": "code",
   "execution_count": 78,
   "id": "9ebc16f9",
   "metadata": {},
   "outputs": [
    {
     "data": {
      "text/plain": [
       "'Ford'"
      ]
     },
     "execution_count": 78,
     "metadata": {},
     "output_type": "execute_result"
    }
   ],
   "source": [
    "# Obtain the value of the brand key with get method\n",
    "car.get('brand')"
   ]
  },
  {
   "cell_type": "markdown",
   "id": "15a0b759",
   "metadata": {},
   "source": [
    "3. Print all the the values of `brand` key of `car` dictionary. **Hint: Use the `values` method.** <br><br>\n"
   ]
  },
  {
   "cell_type": "code",
   "execution_count": 79,
   "id": "6ae992e5",
   "metadata": {},
   "outputs": [
    {
     "data": {
      "text/plain": [
       "dict_values(['Ford', 'Mustang', 1964])"
      ]
     },
     "execution_count": 79,
     "metadata": {},
     "output_type": "execute_result"
    }
   ],
   "source": [
    "# Get all the values of car dictionary with values method\n",
    "car.values()"
   ]
  },
  {
   "cell_type": "markdown",
   "id": "9614519d",
   "metadata": {},
   "source": [
    "4. Print the max value  of `friday` in `january` of `hr_sleep` dictionary. **Hint: [Indexing in nested dictioanries](https://stackoverflow.com/questions/25836376/how-to-get-the-inner-indexes-of-a-nested-dictionary-in-python).** <br><br>\n"
   ]
  },
  {
   "cell_type": "code",
   "execution_count": 83,
   "id": "622864f1",
   "metadata": {},
   "outputs": [
    {
     "data": {
      "text/plain": [
       "2"
      ]
     },
     "execution_count": 83,
     "metadata": {},
     "output_type": "execute_result"
    }
   ],
   "source": [
    "# Use the max function to obtain the maximum value in the selected date\n",
    "max(hr_sleep['january']['friday'])"
   ]
  },
  {
   "cell_type": "markdown",
   "id": "9d57c89e",
   "metadata": {},
   "source": [
    "5. Add `march` key to the `hr_sleep` dictionary using `week1` and `values2` Python lists. **Hint: Use `zip` function and [this link](https://stackoverflow.com/questions/1024847/how-can-i-add-new-keys-to-a-dictionary).** <br><br>"
   ]
  },
  {
   "cell_type": "code",
   "execution_count": 87,
   "id": "d1d6c4f3",
   "metadata": {},
   "outputs": [
    {
     "data": {
      "text/plain": [
       "{'january': {'wednesday': 7, 'thursday': 8, 'friday': [2, 2, 1, 2]},\n",
       " 'february': {'saturday': 5, 'sunday': 10, 'monday': 8},\n",
       " 'march': {'monday': [2, 3, 4], 'sunday': 8}}"
      ]
     },
     "execution_count": 87,
     "metadata": {},
     "output_type": "execute_result"
    }
   ],
   "source": [
    "# Create a dictionary with two keys and two values, using zip\n",
    "hr_sleep[\"march\"] = dict([*zip(week1, values2)])\n",
    "hr_sleep"
   ]
  }
 ],
 "metadata": {
  "kernelspec": {
   "display_name": "Python 3 (ipykernel)",
   "language": "python",
   "name": "python3"
  },
  "language_info": {
   "codemirror_mode": {
    "name": "ipython",
    "version": 3
   },
   "file_extension": ".py",
   "mimetype": "text/x-python",
   "name": "python",
   "nbconvert_exporter": "python",
   "pygments_lexer": "ipython3",
   "version": "3.9.7"
  }
 },
 "nbformat": 4,
 "nbformat_minor": 5
}

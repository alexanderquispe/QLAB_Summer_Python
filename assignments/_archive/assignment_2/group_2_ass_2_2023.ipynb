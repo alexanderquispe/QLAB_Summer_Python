{
 "cells": [
  {
   "cell_type": "markdown",
   "id": "761b3a76",
   "metadata": {},
   "source": [
    "## 1 Assignment \n",
    "\n",
    "It is totally prohibited to use any kind of loop. You can use stackoverflow. If you copy codes from previous answers, explain each step. No explanation is `0 points`."
   ]
  },
  {
   "cell_type": "markdown",
   "id": "32a01d7b",
   "metadata": {},
   "source": [
    "## 1.1 Tuple\n",
    "\n",
    "\n",
    "\n",
    "1. Print the first item of the second item of `tuple1` object. **Hint: Use indexing**<br><br>\n",
    "2. Print the last item of the `tuple1` object.**Hint: Use indexing**<br><br>\n",
    "3. Change the value \"orange\" for \"pink grapefruit\". Comment the output. **Hint: Is it possible?** <br><br>\n",
    "4. Print the length of `tuple1`. **Hint: Length function**<br><br>\n",
    "5. Sum all the elements of tuple2 and describe your steps and explain each of them. **Hint: Use `map` function.**<br><br>\n",
    "6. Generate a new tuple object named as `tuple3` with the half values of `tuple2`. This tuple should be similar as `tuple2`, tuple of lists.  **Hint: Use `map` funciont.**<br><br>"
   ]
  },
  {
   "cell_type": "code",
   "execution_count": 1,
   "id": "62f547af",
   "metadata": {},
   "outputs": [],
   "source": [
    "tuple1 = (\"Orange\", (10, 20, 30), (5, 15, 25))\n",
    "tuple2 = ([7, 8], [9, 1], [10, 7])"
   ]
  },
  {
   "cell_type": "code",
   "execution_count": 2,
   "id": "f387caff",
   "metadata": {},
   "outputs": [],
   "source": [
    "#Print the first item of the second item of tuple1\n",
    "second_item = tuple1[1]"
   ]
  },
  {
   "cell_type": "code",
   "execution_count": 3,
   "id": "c1e31b3e",
   "metadata": {},
   "outputs": [
    {
     "name": "stdout",
     "output_type": "stream",
     "text": [
      "(10, 20, 30)\n"
     ]
    }
   ],
   "source": [
    "print(second_item) "
   ]
  },
  {
   "cell_type": "code",
   "execution_count": 4,
   "id": "19f888b6",
   "metadata": {},
   "outputs": [],
   "source": [
    "#print the last item of the tuple1 object.ç\n",
    "Last_item = tuple1[2]"
   ]
  },
  {
   "cell_type": "code",
   "execution_count": 5,
   "id": "ce140b32",
   "metadata": {},
   "outputs": [
    {
     "name": "stdout",
     "output_type": "stream",
     "text": [
      "(5, 15, 25)\n"
     ]
    }
   ],
   "source": [
    "print(Last_item) "
   ]
  },
  {
   "cell_type": "code",
   "execution_count": 6,
   "id": "00098ce1",
   "metadata": {},
   "outputs": [],
   "source": [
    "#Change the value \"orange\" for \"pink grapefruit\". Comment the output.\n",
    "#This item is not possible, because once you create a Tuple.\n",
    "#you can´t make changes "
   ]
  },
  {
   "cell_type": "code",
   "execution_count": 7,
   "id": "370aef63",
   "metadata": {},
   "outputs": [
    {
     "data": {
      "text/plain": [
       "3"
      ]
     },
     "execution_count": 7,
     "metadata": {},
     "output_type": "execute_result"
    }
   ],
   "source": [
    "#Print the length of tuple1\n",
    "#The result is 3, because there are 3 groups of elements in the tuple 1\n",
    "len(tuple1)"
   ]
  },
  {
   "cell_type": "code",
   "execution_count": 8,
   "id": "d3fad0f8",
   "metadata": {},
   "outputs": [
    {
     "name": "stdout",
     "output_type": "stream",
     "text": [
      "The original tuple is : ([7, 8], [9, 1], [10, 7])\n",
      "The summation of tuple elements are : 42\n"
     ]
    }
   ],
   "source": [
    "#Sum all the elements of tuple2 and describe your steps and explain each of them.\n",
    "\n",
    "# converting into list\n",
    "test = list(tuple2)\n",
    "\n",
    "\n",
    "# we know that\n",
    "tuple2 = ([7, 8], [9, 1], [10, 7])\n",
    "\n",
    "# printing original tuple\n",
    "print(\"The original tuple is : \" + str(tuple2))\n",
    " \n",
    "# Tuple elements inversions\n",
    "# Using map() + list() + sum()\n",
    "res = sum(list(map(sum, list(tuple2))))\n",
    " \n",
    "# printing result\n",
    "print(\"The summation of tuple elements are : \" + str(res))"
   ]
  },
  {
   "cell_type": "code",
   "execution_count": 9,
   "id": "5e4bfdd3",
   "metadata": {},
   "outputs": [
    {
     "name": "stdout",
     "output_type": "stream",
     "text": [
      "[8, 1, 7]\n"
     ]
    }
   ],
   "source": [
    "#Generate a new tuple object named as tuple3 with the half values of tuple2. \n",
    "#This tuple should be similar as tuple2, tuple of lists. \n",
    "\n",
    "#We generate a new tuple named tuple3\n",
    "#to have the  half values of tuple2, we selected the second value of each item.\n",
    "tuple3=  [tup[1] for tup in tuple2]\n",
    "\n",
    "#We print the tuple3\n",
    "print(tuple3)"
   ]
  },
  {
   "cell_type": "code",
   "execution_count": null,
   "id": "49baa0c2",
   "metadata": {},
   "outputs": [],
   "source": []
  },
  {
   "cell_type": "code",
   "execution_count": null,
   "id": "5417c26e",
   "metadata": {},
   "outputs": [],
   "source": []
  },
  {
   "cell_type": "markdown",
   "id": "a4a9fa5f",
   "metadata": {},
   "source": [
    "## 1.2 Lists"
   ]
  },
  {
   "cell_type": "markdown",
   "id": "09fa51e6",
   "metadata": {},
   "source": [
    "Exercise 1"
   ]
  },
  {
   "cell_type": "code",
   "execution_count": 10,
   "id": "5b35d306",
   "metadata": {},
   "outputs": [],
   "source": [
    "# Importamos la biblioteca numpy \n",
    "import  numpy  as  np"
   ]
  },
  {
   "cell_type": "code",
   "execution_count": 11,
   "id": "3c5c2e87",
   "metadata": {},
   "outputs": [],
   "source": [
    "f_list = ['np.nan' , 'np.nan', \"Austria\", \"Germany\", 'np.nan', \"Pakistan\", \"np.nan\", 'np.nan']"
   ]
  },
  {
   "cell_type": "code",
   "execution_count": 12,
   "id": "b86b05a0",
   "metadata": {},
   "outputs": [],
   "source": [
    "# We create the list \"indices\" with the requested values.\n",
    "indices = [0, 1, 4, 7]"
   ]
  },
  {
   "cell_type": "code",
   "execution_count": 13,
   "id": "a4ff88af",
   "metadata": {},
   "outputs": [
    {
     "name": "stdout",
     "output_type": "stream",
     "text": [
      "The indices [0, 1, 4, 7] have np.nan values\n"
     ]
    }
   ],
   "source": [
    "# We use f-strings to produce the requested sentence and print the output\n",
    "print(f'The indices {indices} have np.nan values')"
   ]
  },
  {
   "cell_type": "markdown",
   "id": "ad0d24a5",
   "metadata": {},
   "source": [
    "Exercise 2"
   ]
  },
  {
   "cell_type": "code",
   "execution_count": 15,
   "id": "6b751302",
   "metadata": {},
   "outputs": [
    {
     "data": {
      "text/plain": [
       "[2, 3, 4, 5, 2, 3, 4, 5, 2, 3, 4, 5, 2, 3, 4, 5]"
      ]
     },
     "execution_count": 15,
     "metadata": {},
     "output_type": "execute_result"
    }
   ],
   "source": [
    "# We copy the p2_list and use the multiplication function\n",
    "p2_list = [ 2 , 3, 4, 5 ]\n",
    "p2_list * 4"
   ]
  },
  {
   "cell_type": "markdown",
   "id": "ca79a414",
   "metadata": {},
   "source": [
    "Exercise 3"
   ]
  },
  {
   "cell_type": "code",
   "execution_count": 16,
   "id": "11332d79",
   "metadata": {},
   "outputs": [
    {
     "name": "stdout",
     "output_type": "stream",
     "text": [
      "8\n"
     ]
    }
   ],
   "source": [
    "f_list = [np.nan , np.nan, \"Austria\", \"Germany\", np.nan, \"Pakistan\", \"np.nan\", np.nan ]\n",
    "# We use the lenght function\n",
    "print(len(f_list))"
   ]
  },
  {
   "cell_type": "markdown",
   "id": "2c459833",
   "metadata": {},
   "source": [
    "Exercise 4"
   ]
  },
  {
   "cell_type": "code",
   "execution_count": 17,
   "id": "6a4c223a",
   "metadata": {},
   "outputs": [],
   "source": [
    "# We copy the text1 list\n",
    "text1 = ['My', 'teacher', 'assistant', 'is', 'so', 'boring.']"
   ]
  },
  {
   "cell_type": "code",
   "execution_count": 18,
   "id": "46e020d8",
   "metadata": {},
   "outputs": [],
   "source": [
    "# We use the join function to join the values\n",
    "text1 = \" \".join(text1)"
   ]
  },
  {
   "cell_type": "code",
   "execution_count": 19,
   "id": "10965767",
   "metadata": {},
   "outputs": [
    {
     "name": "stdout",
     "output_type": "stream",
     "text": [
      "My teacher assistant is so boring.\n"
     ]
    }
   ],
   "source": [
    "# We print the output\n",
    "print(text1)"
   ]
  },
  {
   "cell_type": "markdown",
   "id": "f43fe56c",
   "metadata": {},
   "source": [
    "Exercise 5"
   ]
  },
  {
   "cell_type": "code",
   "execution_count": 20,
   "id": "630edfec",
   "metadata": {},
   "outputs": [],
   "source": [
    "# We create a second list with the requested values\n",
    "text2= ['but', 'he', 'is', 'very', 'funny']"
   ]
  },
  {
   "cell_type": "code",
   "execution_count": 21,
   "id": "f7490e11",
   "metadata": {},
   "outputs": [],
   "source": [
    "# We change the values of the 'text1' list\n",
    "text1= ['My', 'TA', 'is', 'so', 'boring']"
   ]
  },
  {
   "cell_type": "code",
   "execution_count": 22,
   "id": "c7e44ae1",
   "metadata": {},
   "outputs": [],
   "source": [
    "# We use the extend function to join both lists\n",
    "text1.extend(text2)"
   ]
  },
  {
   "cell_type": "code",
   "execution_count": 23,
   "id": "af95d7bb",
   "metadata": {},
   "outputs": [
    {
     "data": {
      "text/plain": [
       "['My', 'TA', 'is', 'so', 'boring', 'but', 'he', 'is', 'very', 'funny']"
      ]
     },
     "execution_count": 23,
     "metadata": {},
     "output_type": "execute_result"
    }
   ],
   "source": [
    "# We check if the 'text1' list contains now all the expected values \n",
    "text1"
   ]
  },
  {
   "cell_type": "code",
   "execution_count": 24,
   "id": "4fc45954",
   "metadata": {},
   "outputs": [],
   "source": [
    "# We use the join function to join the values in a single sentence\n",
    "text1 = \" \".join(text1)"
   ]
  },
  {
   "cell_type": "code",
   "execution_count": 25,
   "id": "cd9700c7",
   "metadata": {},
   "outputs": [
    {
     "name": "stdout",
     "output_type": "stream",
     "text": [
      "My TA is so boring but he is very funny\n"
     ]
    }
   ],
   "source": [
    "# We print the output\n",
    "print(text1)"
   ]
  },
  {
   "cell_type": "markdown",
   "id": "714cffe6",
   "metadata": {},
   "source": [
    "Exercise 6"
   ]
  },
  {
   "cell_type": "code",
   "execution_count": 26,
   "id": "6aa52dfc",
   "metadata": {},
   "outputs": [],
   "source": [
    "# We copy the 'values1' list\n",
    "values1 = [ 86, 86, 85, 85, 85, 83, 23, 0, 84, 1 ] "
   ]
  },
  {
   "cell_type": "code",
   "execution_count": 27,
   "id": "59826e02",
   "metadata": {},
   "outputs": [],
   "source": [
    "# We create a new list that contains the maximum value of the values1 list, using the max function.\n",
    "max_v1 = max(values1)"
   ]
  },
  {
   "cell_type": "code",
   "execution_count": 28,
   "id": "bdd6a2ee",
   "metadata": {},
   "outputs": [],
   "source": [
    "# We create a second list that contains the position of the maximum value of the 'values1' list\n",
    "max_v2 = values1.index(86)"
   ]
  },
  {
   "cell_type": "code",
   "execution_count": 29,
   "id": "695ec07b",
   "metadata": {},
   "outputs": [
    {
     "name": "stdout",
     "output_type": "stream",
     "text": [
      "The max value of values1 is 86 and is located in the 0 index\n"
     ]
    }
   ],
   "source": [
    "# We use the f-strings function to build the requested sentence and print the output\n",
    "print(f'The max value of values1 is {max_v1} and is located in the {max_v2} index')"
   ]
  },
  {
   "cell_type": "code",
   "execution_count": 30,
   "id": "095b6a93",
   "metadata": {},
   "outputs": [],
   "source": [
    "# We create a new list that contains the minimum value of the values1 list, using the min function.\n",
    "min_v1 = min(values1)"
   ]
  },
  {
   "cell_type": "code",
   "execution_count": 31,
   "id": "60df02a7",
   "metadata": {},
   "outputs": [],
   "source": [
    "# We create a second list that contains the position of the minimum value of the 'values1' list\n",
    "min_v2 = values1.index(0)"
   ]
  },
  {
   "cell_type": "code",
   "execution_count": 33,
   "id": "4d36e4ee",
   "metadata": {},
   "outputs": [
    {
     "name": "stdout",
     "output_type": "stream",
     "text": [
      "The min value of values1 is 0 and is located in the 7 index\n"
     ]
    }
   ],
   "source": [
    "# We use the f-strings function to build the requested sentence and print the output\n",
    "print(f'The min value of values1 is {min_v1} and is located in the {min_v2} index')"
   ]
  },
  {
   "cell_type": "markdown",
   "id": "652eaa26",
   "metadata": {},
   "source": [
    "Exercise 7"
   ]
  },
  {
   "cell_type": "code",
   "execution_count": 34,
   "id": "75efa7db",
   "metadata": {},
   "outputs": [],
   "source": [
    "# We copy the last_and_name list\n",
    "last_and_name = [ \"CORNEJO SANCHEZ, CHRISTIAN SANTOS\", \"ORELLANA QUISPE, CRISTIAN NASSER\", \"MORALES CHOQUEHUANCA, ANGELICA KARINA\", \"GUIMARAY RIBEYRO, JOSE ROBERTO\", \"CAMACHO GAVIDIA, ABEL FERNANDO\", \"TINTAYA ORIHUELA, MEIR ALVARO\", \"CHAVEZ MARTINEZ, JOSELIN ALEXANDRA\", \"FIGUEROA MURO, LEONEL ARTURO\", \"GOMEZ CRIBILLERO, JOSE FELIPE\", \"PALOMINO SEGUÍN, AFRANIA\", \"LUZON CUEVA, BIANCA MARIETTE\", \"SUAÑA ZEGARRA, ADRIAN ANDRE\", \"SOTO POMACHAGUA, DORKAS YOMIRA JHERMY\", \"FIORENTINO MARTINEZ, LADY ALY\", \"LAMA MAVILA, HECTOR ANDRE\", \"MEZA HINOJO, GUSTAVO\", \"LOZADA MURILLO, PERSEO MARCELO\", \"ZAMBRANO JIMENEZ, MIGUEL ALONZO\", \"JACOBS LUQUE, NICOLAS\", \"VIDAL VIDAL, ROCIO GABRIELA\", \"TORRES ANICAMA, JANE CAMILA\", \"LOPEZ ESTRADA, MARIA ELISA\", \"BOYCO ORAMS, ALEJANDRO\", \"DIAZ BERROSPI, KARLINE ROSMELI\", \"RIEGA ESCALANTE, STEPHY ROSARIO\", \"LEVANO TORRES, VALERIA CECILIA\", \"ESQUIVES BRAVO, SEBASTIAN RENATO\", \"PEREZ GONZALES, JUAN CARLOS\", \"OTERO MAGUIÑA, MARIANA\", \"CLAVO CAMPOS, ANDREA BRIZETH\", \"AGUILAR GARCIA, ERICK JOSUE\", \"CALDAS VELASQUEZ, JOSUE DANIEL\", \"SALAS NUÑEZ BORJA, FABIO MANUEL\", \"PIZARRO VILLANES, FERNANDA NICOLLE\", \"QUILLATUPA MORALES, ANGELA ADELINA\", \"HUANCAYA IDONE, CESAR DANTE\", \"CALVO PORTOCARRERO, GABRIELA ISABEL\", \"IBAÑEZ ABANTO, ANGEL MAURICIO\", \"MELÉNDEZ APONTE, JUAN DIEGO\", \"CRISTIAN SERRANO, ARONE\", \"HINOJOSA CAHUANA, PERCY ALBERTH\", \"ANGLAS GARCÍA, KEVIN ARTURO\", \"ALDAVE ACOSTA, CESAR ERNESTO\", \"NÚÑEZ HUAMÁN, CÉSAR AGUSTO\", \"OBREGON HUAMAN, DIANA EDITH\", \"SOTO PACHERRES, RODRIGO FRANCO\", \"INGARUCA RIVERA, GRETTEL ALEXANDRA\", \"ROJAS HUAMAN, ROSA ANGELA\", \"NEYRA SALAS, DANTE OMAR\", \"HUERTA ESPINOZA, YAJAIRA ALEXANDRA\", \"HUANCA MARTINEZ, JORGE ALBERTO\", \"FLORES CADILLO, ALEXIS\" ]\n",
    "emails = [\"cscornejo@pucp.edu.pe\", \"orellana.cn@pucp.edu.pe\", \"karina.morales@pucp.edu.pe\", \"a20083223@pucp.pe\", \"abel.camacho@pucp.pe\", \"mtintaya@pucp.edu.pe\", \"joselin.chavez@pucp.edu.pe\", \"a20105737@pucp.pe\", \"jfgomezc@pucp.pe\", \"afrania.palomino@pucp.pe\", \"luzon.bianca@pucp.pe\", \"adrian.suanaz@pucp.pe\", \"soto.y@pucp.edu.pe\", \"a20132766@pucp.pe\", \"andre.lama@pucp.edu.pe\", \"gustavo.meza@pucp.edu.pe\", \"pmlozada@pucp.edu.pe\", \"m.zambranoj@pucp.edu.pe\", \"nicolas.jacobs@pucp.edu.pe\", \"gvidal@pucp.edu.pe\", \"jane.torres@pucp.edu.pe\", \"m.lopez@pucp.edu.pe\", \"alejandro.boyco@pucp.edu.pe\", \"a20167070@pucp.edu.pe\", \"riega.stephy@pucp.edu.pe\", \"vlevanot@pucp.edu.pe\", \"sesquives@pucp.edu.pe\", \"perez.juanc@pucp.edu.pe\", \"mariana.otero@pucp.edu.pe\", \"aclavo@pucp.edu.pe\", \"a20182474@pucp.edu.pe\", \"josue.caldas@pucp.edu.pe\", \"fabio.salas@pucp.edu.pe\", \"fernanda.pizarro@pucp.edu.pe\", \"aquillatupa@pucp.pe\", \"\", \"\", \"\", \"\", \"\", \"f0873079@pucp.edu.pe\", \"\", \"\", \"\", \"\", \"\", \"\", \"\", \"\", \"\", \"\", \"flores.alexis@pucp.edu.pe\", ]"
   ]
  },
  {
   "cell_type": "code",
   "execution_count": 35,
   "id": "14c53578",
   "metadata": {},
   "outputs": [],
   "source": [
    "# We create a new list that contains only the names using the split function and selecting the second portion of each value\n",
    "name = [i.split(',')[1] for i in last_and_name]"
   ]
  },
  {
   "cell_type": "code",
   "execution_count": 36,
   "id": "3e8451d8",
   "metadata": {},
   "outputs": [
    {
     "name": "stdout",
     "output_type": "stream",
     "text": [
      "[' CHRISTIAN SANTOS', ' CRISTIAN NASSER', ' ANGELICA KARINA', ' JOSE ROBERTO', ' ABEL FERNANDO', ' MEIR ALVARO', ' JOSELIN ALEXANDRA', ' LEONEL ARTURO', ' JOSE FELIPE', ' AFRANIA', ' BIANCA MARIETTE', ' ADRIAN ANDRE', ' DORKAS YOMIRA JHERMY', ' LADY ALY', ' HECTOR ANDRE', ' GUSTAVO', ' PERSEO MARCELO', ' MIGUEL ALONZO', ' NICOLAS', ' ROCIO GABRIELA', ' JANE CAMILA', ' MARIA ELISA', ' ALEJANDRO', ' KARLINE ROSMELI', ' STEPHY ROSARIO', ' VALERIA CECILIA', ' SEBASTIAN RENATO', ' JUAN CARLOS', ' MARIANA', ' ANDREA BRIZETH', ' ERICK JOSUE', ' JOSUE DANIEL', ' FABIO MANUEL', ' FERNANDA NICOLLE', ' ANGELA ADELINA', ' CESAR DANTE', ' GABRIELA ISABEL', ' ANGEL MAURICIO', ' JUAN DIEGO', ' ARONE', ' PERCY ALBERTH', ' KEVIN ARTURO', ' CESAR ERNESTO', ' CÉSAR AGUSTO', ' DIANA EDITH', ' RODRIGO FRANCO', ' GRETTEL ALEXANDRA', ' ROSA ANGELA', ' DANTE OMAR', ' YAJAIRA ALEXANDRA', ' JORGE ALBERTO', ' ALEXIS']\n"
     ]
    }
   ],
   "source": [
    "# We print the output \n",
    "print(name)"
   ]
  },
  {
   "cell_type": "code",
   "execution_count": 41,
   "id": "f77a5666",
   "metadata": {},
   "outputs": [],
   "source": [
    "# We create a second new list that contains only the last bames using the split function and selecting the first portion of each value\n",
    "last_name = [i.split(',')[0] for i in last_and_name]"
   ]
  },
  {
   "cell_type": "code",
   "execution_count": 42,
   "id": "14171580",
   "metadata": {},
   "outputs": [
    {
     "name": "stdout",
     "output_type": "stream",
     "text": [
      "['CORNEJO SANCHEZ', 'ORELLANA QUISPE', 'MORALES CHOQUEHUANCA', 'GUIMARAY RIBEYRO', 'CAMACHO GAVIDIA', 'TINTAYA ORIHUELA', 'CHAVEZ MARTINEZ', 'FIGUEROA MURO', 'GOMEZ CRIBILLERO', 'PALOMINO SEGUÍN', 'LUZON CUEVA', 'SUAÑA ZEGARRA', 'SOTO POMACHAGUA', 'FIORENTINO MARTINEZ', 'LAMA MAVILA', 'MEZA HINOJO', 'LOZADA MURILLO', 'ZAMBRANO JIMENEZ', 'JACOBS LUQUE', 'VIDAL VIDAL', 'TORRES ANICAMA', 'LOPEZ ESTRADA', 'BOYCO ORAMS', 'DIAZ BERROSPI', 'RIEGA ESCALANTE', 'LEVANO TORRES', 'ESQUIVES BRAVO', 'PEREZ GONZALES', 'OTERO MAGUIÑA', 'CLAVO CAMPOS', 'AGUILAR GARCIA', 'CALDAS VELASQUEZ', 'SALAS NUÑEZ BORJA', 'PIZARRO VILLANES', 'QUILLATUPA MORALES', 'HUANCAYA IDONE', 'CALVO PORTOCARRERO', 'IBAÑEZ ABANTO', 'MELÉNDEZ APONTE', 'CRISTIAN SERRANO', 'HINOJOSA CAHUANA', 'ANGLAS GARCÍA', 'ALDAVE ACOSTA', 'NÚÑEZ HUAMÁN', 'OBREGON HUAMAN', 'SOTO PACHERRES', 'INGARUCA RIVERA', 'ROJAS HUAMAN', 'NEYRA SALAS', 'HUERTA ESPINOZA', 'HUANCA MARTINEZ', 'FLORES CADILLO']\n"
     ]
    }
   ],
   "source": [
    "# We print the output\n",
    "print(last_name)"
   ]
  },
  {
   "cell_type": "markdown",
   "id": "ba6f83ce",
   "metadata": {},
   "source": [
    "Exercise 8"
   ]
  },
  {
   "cell_type": "markdown",
   "id": "6694804f",
   "metadata": {},
   "source": [
    "## 1.3 Strings"
   ]
  },
  {
   "cell_type": "code",
   "execution_count": 44,
   "id": "94671059",
   "metadata": {},
   "outputs": [],
   "source": [
    "str1 = 'I am                            too                                                        old'"
   ]
  },
  {
   "cell_type": "code",
   "execution_count": 45,
   "id": "3706654d",
   "metadata": {},
   "outputs": [],
   "source": [
    "emails = [\"cscornejo@pucp.edu.pe\", \"orellana.cn@pucp.edu.pe\", \"karina.morales@pucp.edu.pe\", \"a20083223@pucp.pe\", \"abel.camacho@pucp.pe\", \"mtintaya@pucp.edu.pe\", \"joselin.chavez@pucp.edu.pe\", \"a20105737@pucp.pe\", \"jfgomezc@pucp.pe\", \"afrania.palomino@pucp.pe\", \"luzon.bianca@pucp.pe\", \"adrian.suanaz@pucp.pe\", \"soto.y@pucp.edu.pe\", \"a20132766@pucp.pe\", \"andre.lama@pucp.edu.pe\", \"gustavo.meza@pucp.edu.pe\", \"pmlozada@pucp.edu.pe\", \"m.zambranoj@pucp.edu.pe\", \"nicolas.jacobs@pucp.edu.pe\", \"gvidal@pucp.edu.pe\", \"jane.torres@pucp.edu.pe\", \"m.lopez@pucp.edu.pe\", \"alejandro.boyco@pucp.edu.pe\", \"a20167070@pucp.edu.pe\", \"riega.stephy@pucp.edu.pe\", \"vlevanot@pucp.edu.pe\", \"sesquives@pucp.edu.pe\", \"perez.juanc@pucp.edu.pe\", \"mariana.otero@pucp.edu.pe\", \"aclavo@pucp.edu.pe\", \"a20182474@pucp.edu.pe\", \"josue.caldas@pucp.edu.pe\", \"fabio.salas@pucp.edu.pe\", \"fernanda.pizarro@pucp.edu.pe\", \"aquillatupa@pucp.pe\"]"
   ]
  },
  {
   "cell_type": "code",
   "execution_count": 46,
   "id": "a658dce4",
   "metadata": {},
   "outputs": [
    {
     "name": "stdout",
     "output_type": "stream",
     "text": [
      "I am                            too                                                        old\n"
     ]
    }
   ],
   "source": [
    "print (str1)"
   ]
  },
  {
   "cell_type": "code",
   "execution_count": 47,
   "id": "bce0ded9",
   "metadata": {},
   "outputs": [
    {
     "name": "stdout",
     "output_type": "stream",
     "text": [
      "['cscornejo@pucp.edu.pe', 'orellana.cn@pucp.edu.pe', 'karina.morales@pucp.edu.pe', 'a20083223@pucp.pe', 'abel.camacho@pucp.pe', 'mtintaya@pucp.edu.pe', 'joselin.chavez@pucp.edu.pe', 'a20105737@pucp.pe', 'jfgomezc@pucp.pe', 'afrania.palomino@pucp.pe', 'luzon.bianca@pucp.pe', 'adrian.suanaz@pucp.pe', 'soto.y@pucp.edu.pe', 'a20132766@pucp.pe', 'andre.lama@pucp.edu.pe', 'gustavo.meza@pucp.edu.pe', 'pmlozada@pucp.edu.pe', 'm.zambranoj@pucp.edu.pe', 'nicolas.jacobs@pucp.edu.pe', 'gvidal@pucp.edu.pe', 'jane.torres@pucp.edu.pe', 'm.lopez@pucp.edu.pe', 'alejandro.boyco@pucp.edu.pe', 'a20167070@pucp.edu.pe', 'riega.stephy@pucp.edu.pe', 'vlevanot@pucp.edu.pe', 'sesquives@pucp.edu.pe', 'perez.juanc@pucp.edu.pe', 'mariana.otero@pucp.edu.pe', 'aclavo@pucp.edu.pe', 'a20182474@pucp.edu.pe', 'josue.caldas@pucp.edu.pe', 'fabio.salas@pucp.edu.pe', 'fernanda.pizarro@pucp.edu.pe', 'aquillatupa@pucp.pe']\n"
     ]
    }
   ],
   "source": [
    "print (emails)"
   ]
  },
  {
   "cell_type": "code",
   "execution_count": 48,
   "id": "51b9be92",
   "metadata": {},
   "outputs": [],
   "source": [
    "## Ejercicio 1"
   ]
  },
  {
   "cell_type": "code",
   "execution_count": 49,
   "id": "36615747",
   "metadata": {},
   "outputs": [],
   "source": [
    "letras = str1.split()"
   ]
  },
  {
   "cell_type": "code",
   "execution_count": 50,
   "id": "12ce85c9",
   "metadata": {},
   "outputs": [
    {
     "name": "stdout",
     "output_type": "stream",
     "text": [
      "['I', 'am', 'too', 'old']\n"
     ]
    }
   ],
   "source": [
    "print (letras)"
   ]
  },
  {
   "cell_type": "code",
   "execution_count": 51,
   "id": "b10ef9bb",
   "metadata": {},
   "outputs": [],
   "source": [
    "separador = \" \""
   ]
  },
  {
   "cell_type": "code",
   "execution_count": 53,
   "id": "631b6c29",
   "metadata": {},
   "outputs": [
    {
     "data": {
      "text/plain": [
       "'I am too old'"
      ]
     },
     "execution_count": 53,
     "metadata": {},
     "output_type": "execute_result"
    }
   ],
   "source": [
    "stc = separador.join(letras)\n",
    "stc"
   ]
  },
  {
   "cell_type": "code",
   "execution_count": 54,
   "id": "e7871b59",
   "metadata": {},
   "outputs": [],
   "source": [
    "##Explicacion: En el ejercicio 1 se ha utilizado el metodo split y la funcion join\n",
    "##Primero se ha aplicado un split en el str1, de este modo, se selecciono las letras.\n",
    "##Posteriormente, se delimito el separador, un espacio, y se uso la funcion join para unir las letras"
   ]
  },
  {
   "cell_type": "code",
   "execution_count": 55,
   "id": "137dcd5c",
   "metadata": {},
   "outputs": [],
   "source": [
    "## Ejercicio 2"
   ]
  },
  {
   "cell_type": "code",
   "execution_count": 56,
   "id": "c01d3979",
   "metadata": {},
   "outputs": [
    {
     "data": {
      "text/plain": [
       "12"
      ]
     },
     "execution_count": 56,
     "metadata": {},
     "output_type": "execute_result"
    }
   ],
   "source": [
    "len (stc)"
   ]
  },
  {
   "cell_type": "code",
   "execution_count": 57,
   "id": "87b3b251",
   "metadata": {},
   "outputs": [
    {
     "data": {
      "text/plain": [
       "'Iamtooold'"
      ]
     },
     "execution_count": 57,
     "metadata": {},
     "output_type": "execute_result"
    }
   ],
   "source": [
    "letters = stc.replace (\" \", \"\")\n",
    "letters"
   ]
  },
  {
   "cell_type": "code",
   "execution_count": 58,
   "id": "56387c45",
   "metadata": {},
   "outputs": [
    {
     "data": {
      "text/plain": [
       "9"
      ]
     },
     "execution_count": 58,
     "metadata": {},
     "output_type": "execute_result"
    }
   ],
   "source": [
    "len (letters)"
   ]
  },
  {
   "cell_type": "code",
   "execution_count": 59,
   "id": "dcef5bde",
   "metadata": {},
   "outputs": [],
   "source": [
    "## Ejercicio 3"
   ]
  },
  {
   "cell_type": "code",
   "execution_count": 60,
   "id": "ed54e722",
   "metadata": {},
   "outputs": [
    {
     "data": {
      "text/plain": [
       "3"
      ]
     },
     "execution_count": 60,
     "metadata": {},
     "output_type": "execute_result"
    }
   ],
   "source": [
    "len (stc) - len (letters)"
   ]
  },
  {
   "cell_type": "code",
   "execution_count": 61,
   "id": "6eefe81c",
   "metadata": {},
   "outputs": [],
   "source": [
    "##Explicacion: Se ha restado el numero de caracteres totales menos el numero solo de letras"
   ]
  },
  {
   "cell_type": "code",
   "execution_count": 62,
   "id": "c57da3d4",
   "metadata": {},
   "outputs": [],
   "source": [
    "#Ejercicio 4"
   ]
  },
  {
   "cell_type": "code",
   "execution_count": 63,
   "id": "a9e0fa89",
   "metadata": {},
   "outputs": [
    {
     "data": {
      "text/plain": [
       "list"
      ]
     },
     "execution_count": 63,
     "metadata": {},
     "output_type": "execute_result"
    }
   ],
   "source": [
    "type (emails)"
   ]
  },
  {
   "cell_type": "code",
   "execution_count": 64,
   "id": "49c24b10",
   "metadata": {},
   "outputs": [
    {
     "name": "stdout",
     "output_type": "stream",
     "text": [
      "['cscornejo@pucp.edu.pe', 'orellana.cn@pucp.edu.pe', 'karina.morales@pucp.edu.pe', 'a20083223@pucp.pe', 'abel.camacho@pucp.pe', 'mtintaya@pucp.edu.pe', 'joselin.chavez@pucp.edu.pe', 'a20105737@pucp.pe', 'jfgomezc@pucp.pe', 'afrania.palomino@pucp.pe', 'luzon.bianca@pucp.pe', 'adrian.suanaz@pucp.pe', 'soto.y@pucp.edu.pe', 'a20132766@pucp.pe', 'andre.lama@pucp.edu.pe', 'gustavo.meza@pucp.edu.pe', 'pmlozada@pucp.edu.pe', 'm.zambranoj@pucp.edu.pe', 'nicolas.jacobs@pucp.edu.pe', 'gvidal@pucp.edu.pe', 'jane.torres@pucp.edu.pe', 'm.lopez@pucp.edu.pe', 'alejandro.boyco@pucp.edu.pe', 'a20167070@pucp.edu.pe', 'riega.stephy@pucp.edu.pe', 'vlevanot@pucp.edu.pe', 'sesquives@pucp.edu.pe', 'perez.juanc@pucp.edu.pe', 'mariana.otero@pucp.edu.pe', 'aclavo@pucp.edu.pe', 'a20182474@pucp.edu.pe', 'josue.caldas@pucp.edu.pe', 'fabio.salas@pucp.edu.pe', 'fernanda.pizarro@pucp.edu.pe', 'aquillatupa@pucp.pe']\n"
     ]
    }
   ],
   "source": [
    "print (emails)"
   ]
  },
  {
   "cell_type": "code",
   "execution_count": 65,
   "id": "30cd7ac0",
   "metadata": {},
   "outputs": [
    {
     "data": {
      "text/plain": [
       "\"['cscornejo@pucp.edu.pe', 'orellana.cn@pucp.edu.pe', 'karina.morales@pucp.edu.pe', 'a20083223@pucp.pe', 'abel.camacho@pucp.pe', 'mtintaya@pucp.edu.pe', 'joselin.chavez@pucp.edu.pe', 'a20105737@pucp.pe', 'jfgomezc@pucp.pe', 'afrania.palomino@pucp.pe', 'luzon.bianca@pucp.pe', 'adrian.suanaz@pucp.pe', 'soto.y@pucp.edu.pe', 'a20132766@pucp.pe', 'andre.lama@pucp.edu.pe', 'gustavo.meza@pucp.edu.pe', 'pmlozada@pucp.edu.pe', 'm.zambranoj@pucp.edu.pe', 'nicolas.jacobs@pucp.edu.pe', 'gvidal@pucp.edu.pe', 'jane.torres@pucp.edu.pe', 'm.lopez@pucp.edu.pe', 'alejandro.boyco@pucp.edu.pe', 'a20167070@pucp.edu.pe', 'riega.stephy@pucp.edu.pe', 'vlevanot@pucp.edu.pe', 'sesquives@pucp.edu.pe', 'perez.juanc@pucp.edu.pe', 'mariana.otero@pucp.edu.pe', 'aclavo@pucp.edu.pe', 'a20182474@pucp.edu.pe', 'josue.caldas@pucp.edu.pe', 'fabio.salas@pucp.edu.pe', 'fernanda.pizarro@pucp.edu.pe', 'aquillatupa@pucp.pe']\""
      ]
     },
     "execution_count": 65,
     "metadata": {},
     "output_type": "execute_result"
    }
   ],
   "source": [
    "n = str (emails)\n",
    "n"
   ]
  },
  {
   "cell_type": "code",
   "execution_count": 66,
   "id": "7931d3ee",
   "metadata": {},
   "outputs": [
    {
     "ename": "TypeError",
     "evalue": "'int' object is not callable",
     "output_type": "error",
     "traceback": [
      "\u001b[1;31m---------------------------------------------------------------------------\u001b[0m",
      "\u001b[1;31mTypeError\u001b[0m                                 Traceback (most recent call last)",
      "\u001b[1;32m~\\AppData\\Local\\Temp\\ipykernel_5836\\376707213.py\u001b[0m in \u001b[0;36m<module>\u001b[1;34m\u001b[0m\n\u001b[1;32m----> 1\u001b[1;33m \u001b[0mlist\u001b[0m\u001b[1;33m(\u001b[0m\u001b[0mmap\u001b[0m\u001b[1;33m(\u001b[0m\u001b[0mn\u001b[0m\u001b[1;33m.\u001b[0m\u001b[0mfind\u001b[0m\u001b[1;33m(\u001b[0m\u001b[1;34m\"@\"\u001b[0m\u001b[1;33m)\u001b[0m\u001b[1;33m,\u001b[0m\u001b[0mn\u001b[0m\u001b[1;33m)\u001b[0m\u001b[1;33m)\u001b[0m\u001b[1;33m\u001b[0m\u001b[1;33m\u001b[0m\u001b[0m\n\u001b[0m",
      "\u001b[1;31mTypeError\u001b[0m: 'int' object is not callable"
     ]
    }
   ],
   "source": [
    "list(map(n.find(\"@\"),n))"
   ]
  },
  {
   "cell_type": "code",
   "execution_count": 68,
   "id": "e09ddec7",
   "metadata": {},
   "outputs": [],
   "source": [
    "posicion= list(map(lambda y: y.find(\"@\"), emails))"
   ]
  },
  {
   "cell_type": "code",
   "execution_count": 70,
   "id": "587b5da2",
   "metadata": {},
   "outputs": [
    {
     "name": "stdout",
     "output_type": "stream",
     "text": [
      "[9, 11, 14, 9, 12, 8, 14, 9, 8, 16, 12, 13, 6, 9, 10, 12, 8, 11, 14, 6, 11, 7, 15, 9, 12, 8, 9, 11, 13, 6, 9, 12, 11, 16, 11]\n"
     ]
    }
   ],
   "source": [
    "print (posicion)"
   ]
  },
  {
   "cell_type": "markdown",
   "id": "f84ea55a",
   "metadata": {},
   "source": [
    "## 1.1 Dictionaries\n",
    "1. Create a dictionary with two keys: `even_numbers` and `odd_numbers`. The first key should have all the even numbers in this range `[0, 2000]`, and the second key must have all the odd numbers in this range `[9000, 19000]`. The values should be stored in a `list`. **Hint: Use the `np.arange`, `zip`, and `np.tolist()` functions.** <br><br>\n",
    "2. Print the value of `brand` key of `car` dictionary. **Hint: Use the `get` method.** <br><br>\n",
    "3. Print all the the values of `brand` key of `car` dictionary. **Hint: Use the `values` method.** <br><br>\n",
    "4. Print the max value  of `friday` in `january` of `hr_sleep` dictionary. **Hint: [Indexing in nested dictioanries](https://stackoverflow.com/questions/25836376/how-to-get-the-inner-indexes-of-a-nested-dictionary-in-python).** <br><br>\n",
    "5. Add `march` key to the `hr_sleep` dictionary using `week1` and `values2` Python lists. **Hint: Use `zip` function adn [this link](https://stackoverflow.com/questions/1024847/how-can-i-add-new-keys-to-a-dictionary).** <br><br>"
   ]
  },
  {
   "cell_type": "code",
   "execution_count": 71,
   "id": "4ac0192b",
   "metadata": {},
   "outputs": [],
   "source": [
    "car = {\n",
    "  \"brand\": \"Ford\",\n",
    "  \"model\": \"Mustang\",\n",
    "  \"year\": 1964\n",
    "}\n",
    "\n",
    "hr_sleep = {\"january\": {\"wednesday\": 7,\n",
    "                      \"thursday\": 8,\n",
    "                      \"friday\": [2, 2, 1, 2]},\n",
    "          \"february\": {\"saturday\": 5,\n",
    "                       \"sunday\": 10,\n",
    "                       \"monday\": 8\n",
    "          }\n",
    "}"
   ]
  },
  {
   "cell_type": "code",
   "execution_count": 72,
   "id": "f87f5210",
   "metadata": {},
   "outputs": [],
   "source": [
    "week1 = ['monday', 'sunday']\n",
    "values2 = [ [2, 3, 4 ] , 8, ]"
   ]
  },
  {
   "cell_type": "code",
   "execution_count": 75,
   "id": "f3f1d7d4",
   "metadata": {},
   "outputs": [
    {
     "name": "stdout",
     "output_type": "stream",
     "text": [
      "[   0    2    4 ... 1996 1998 2000]\n"
     ]
    }
   ],
   "source": [
    "#Create a dictionary: even_numbers\n",
    "\n",
    "import numpy as np\n",
    " \n",
    "# Declaring Range\n",
    "a=0;b=2000\n",
    "li= np.array(range(a, b+1))\n",
    " \n",
    "# printing odd numbers using numpy array\n",
    "even_num = li[li%2==0];\n",
    "\n",
    "#Create the dic named even_numbers \n",
    "even_numbers = {print(even_num)}\n",
    "\n"
   ]
  },
  {
   "cell_type": "code",
   "execution_count": 76,
   "id": "993885e2",
   "metadata": {},
   "outputs": [
    {
     "name": "stdout",
     "output_type": "stream",
     "text": [
      "[   0    2    4 ... 1996 1998 2000]\n"
     ]
    }
   ],
   "source": [
    "even_numbers = {print(even_num)}"
   ]
  },
  {
   "cell_type": "code",
   "execution_count": 77,
   "id": "b3242a23",
   "metadata": {},
   "outputs": [
    {
     "name": "stdout",
     "output_type": "stream",
     "text": [
      "[ 9001  9003  9005 ... 18995 18997 18999]\n"
     ]
    }
   ],
   "source": [
    "#Create a dictionary : odd_numbers. \n",
    "\n",
    "import numpy as np\n",
    " \n",
    "# Declaring Range\n",
    "a=9000;b=19000\n",
    "li= np.array(range(a, b+1))\n",
    " \n",
    "# printing odd numbers using numpy array\n",
    "odd_num = li[li%2!=0];\n",
    "\n",
    "#Create the dic named odd_numbers \n",
    "odd_numbers = {print(odd_num)}\n",
    "\n"
   ]
  },
  {
   "cell_type": "code",
   "execution_count": 78,
   "id": "b8b0bf0e",
   "metadata": {},
   "outputs": [
    {
     "name": "stdout",
     "output_type": "stream",
     "text": [
      "[ 9001  9003  9005 ... 18995 18997 18999]\n"
     ]
    }
   ],
   "source": [
    "odd_numbers = {print(odd_num)}"
   ]
  },
  {
   "cell_type": "code",
   "execution_count": null,
   "id": "874dac58",
   "metadata": {},
   "outputs": [],
   "source": []
  }
 ],
 "metadata": {
  "kernelspec": {
   "display_name": "Python 3 (ipykernel)",
   "language": "python",
   "name": "python3"
  },
  "language_info": {
   "codemirror_mode": {
    "name": "ipython",
    "version": 3
   },
   "file_extension": ".py",
   "mimetype": "text/x-python",
   "name": "python",
   "nbconvert_exporter": "python",
   "pygments_lexer": "ipython3",
   "version": "3.9.13"
  }
 },
 "nbformat": 4,
 "nbformat_minor": 5
}

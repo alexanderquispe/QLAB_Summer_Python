{
 "cells": [
  {
   "cell_type": "markdown",
   "id": "f91cca67",
   "metadata": {},
   "source": [
    "**Group 6** \n",
    "1. Carmen Mendoza\n",
    "2. Joaquín Pérez\n",
    "3. Lizbeth Minaya\n",
    "4. Valeria Albarracín"
   ]
  },
  {
   "cell_type": "markdown",
   "id": "999eb3c6",
   "metadata": {},
   "source": [
    "# 1 Assignment\n",
    "\n",
    "It is totally prohibited to use any kind of loop. You can use stackoverflow. If you copy codes from previous answers, explain each step. No explanation is `0 points`."
   ]
  },
  {
   "cell_type": "markdown",
   "id": "0eb1cf98",
   "metadata": {},
   "source": [
    "## 1.1 Conditional statements\n"
   ]
  },
  {
   "cell_type": "markdown",
   "id": "ad1c0d1f",
   "metadata": {},
   "source": [
    "1. You work at a college admissions office. When inspecting a dataset of college applicants, you notice that some students have represented their grades with letters (`\"AD\"`, `\"A\"`, `\"B\"`, `\"C\"`), whereas others have represented their grades with a number between 0 and 20.\n",
    "\n",
    "    You realize that for consistency, all of the grades should be formatted in the same way, and you decide to format them all as letters. For the conversion, you decide to assign:\n",
    "\n",
    "    - `\"AD\"` - any grade 18-20, inclusive\n",
    "    - `\"A\"` - any grade 14-17, inclusive\n",
    "    - `\"B\"` - any grade 10-13, inclusive\n",
    "    - `\"C\"` - any grade <10\n",
    "\n",
    "    Write a function get_grade() that takes as input:\n",
    "    - `score` - an integer 0-20 corresponding to a numerical grade\n",
    "\n",
    "   It should return a Python string with the letter grade that it corresponds to. For instance,\n",
    "\n",
    "    - A score of 12 corresponds to a B grade. In other words, `get_grade(12)` should return `\"B\"`.\n",
    "    - A score of 3 corresponds to an C grade. In other words, `get_grade(3)` should return `\"C\"`.\n",
    "\n",
    "   Make sure that when supplying the grade that is returned by the function, it is enclosed in quotes. (For instance, if you want to return `\"A\"`, you should write `return \"A\"` and not `return A`.)"
   ]
  },
  {
   "cell_type": "code",
   "execution_count": 6,
   "id": "830ce1b9",
   "metadata": {},
   "outputs": [],
   "source": [
    "#First, I created the 'get_grade' function with the parameter 'score', and if condition with more than 1 expression,\n",
    "# using the conversion scale showed above: <= 20 AD >= 18; <= 17 A >= 14; <= 13 B >= 10; and for any grade else, C\n",
    "\n",
    "def get_grade(score):\n",
    "    if score <= 20 and score >= 18:\n",
    "        grade = \"AD\"\n",
    "    elif score <= 17 and score >= 14:\n",
    "        grade = \"A\"\n",
    "    elif score <= 13 and score >= 10:\n",
    "        grade = \"B\"\n",
    "    else:\n",
    "        grade = \"C\"\n",
    "        #Then I coded the return with the new grade in the letters scale\n",
    "    return print(grade)"
   ]
  },
  {
   "cell_type": "code",
   "execution_count": 7,
   "id": "8903fcef",
   "metadata": {},
   "outputs": [
    {
     "name": "stdout",
     "output_type": "stream",
     "text": [
      "AD\n",
      "A\n",
      "B\n",
      "C\n"
     ]
    }
   ],
   "source": [
    "#Finally, I tried the get_grade function\n",
    "\n",
    "get_grade(19)\n",
    "get_grade(17)\n",
    "get_grade(12)\n",
    "get_grade(2)"
   ]
  },
  {
   "cell_type": "markdown",
   "id": "829c5f8c",
   "metadata": {},
   "source": [
    "2. You are a programmer at a water agency. Recently, you have been tasked to write a function `get_water_bill()` that takes as input:\n",
    "\n",
    "    - `num_gallons` = the number of gallons of water that a customer used that month. (This will always be an integer with no decimal part.)\n",
    "\n",
    "   It should output the water bill.\n",
    "\n",
    "   The water agency uses this pricing structure:\n",
    "\n",
    "| Tier        | Amount in gallons | Price per 1000 gallons |\n",
    "| ----------- | ----------------  | ---------------------- |\n",
    "| Tier 1      | 0 - 8,000         | 5                      |\n",
    "| Tier 2      | 8,001 - 22,000    | 6                      |\n",
    "| Tier 3      | 22,001 - 30,000\t  | 7                      |\n",
    "| Tier 4      | 30,001+\t      \t  | 10                     |\n"
   ]
  },
  {
   "cell_type": "code",
   "execution_count": 6,
   "id": "49167ac3",
   "metadata": {},
   "outputs": [],
   "source": [
    "#First, define a function called get_water_bill with input num_gallons\n",
    "#Then, use if, elif and else to define the range of prices\n",
    "#After that, since the price is per 1000 gallons, we need to divide the number by 1000 and then multiply by each price\n",
    "#Finally, print the result as integer \n",
    "def get_water_bill(num_gallons):\n",
    "    if num_gallons >= 0 and num_gallons <= 8000:\n",
    "        bill = (num_gallons/1000)*5\n",
    "    elif num_gallons >= 8001 and num_gallons <= 2200:\n",
    "        bill = (num_gallons/1000)*6\n",
    "    elif num_gallons >= 22001 and num_gallons <= 30000:\n",
    "        bill = (num_gallons/1000)*7\n",
    "    else:\n",
    "        bill = (num_gallons/1000)*10\n",
    "    \n",
    "    return print(int(bill))"
   ]
  },
  {
   "cell_type": "code",
   "execution_count": 7,
   "id": "cec82944",
   "metadata": {},
   "outputs": [
    {
     "name": "stdout",
     "output_type": "stream",
     "text": [
      "25\n"
     ]
    }
   ],
   "source": [
    "get_water_bill(5000)"
   ]
  },
  {
   "cell_type": "markdown",
   "id": "84d77a35",
   "metadata": {},
   "source": [
    "## 1.2 For Loop\n"
   ]
  },
  {
   "cell_type": "markdown",
   "id": "c8040884",
   "metadata": {},
   "source": [
    "1. Do the following to create a program that simulates how websites ensure that everyone has a unique username.\n",
    "\n",
    "    - Make a list of five or more usernames called `current_users`. Make another list of five usernames called `new_users`. Make sure one or two of the new usernames are also in the `current_users` list.\n",
    "    - Loop through the `new_users` list to see if each new username has already been used. If it has, print a message that the person will need to enter a new username. If a username has not been used, print a message saying that the username is available.\n",
    "    - Make sure your comparison is case insensitive. If `John` has been used, `JOHN` should not be accepted."
   ]
  },
  {
   "cell_type": "code",
   "execution_count": 1,
   "id": "7ae745d1",
   "metadata": {},
   "outputs": [],
   "source": [
    "current_users = ['eric', 'willie', 'admin', 'erin', 'Ever']\n",
    "new_users = ['sarah', 'Willie', 'PHIL', 'ever', 'Iona']"
   ]
  },
  {
   "cell_type": "code",
   "execution_count": 2,
   "id": "875d135f",
   "metadata": {},
   "outputs": [],
   "source": [
    "# Create a loop through the `new_users` list to see if each new username has already been used\n",
    "current_users_lower = [user.lower() for user in current_users]\n",
    "\n",
    "# Add the print messages if it has been used or if it is available\n",
    "def user_name(new_user):\n",
    "    if new_user.lower() in current_users_lower:\n",
    "        print(\"Sorry \" + new_user + \", that name is taken.\")\n",
    "    else:\n",
    "        print(\"Great, \" + new_user + \" is still available.\")\n",
    "        \n",
    "    return new_user"
   ]
  },
  {
   "cell_type": "code",
   "execution_count": 6,
   "id": "4f98d3f2",
   "metadata": {},
   "outputs": [
    {
     "name": "stdout",
     "output_type": "stream",
     "text": [
      "Great, PHIL is still available.\n"
     ]
    },
    {
     "data": {
      "text/plain": [
       "'PHIL'"
      ]
     },
     "execution_count": 6,
     "metadata": {},
     "output_type": "execute_result"
    }
   ],
   "source": [
    "# Try the function with a new username\n",
    "user_name('PHIL')"
   ]
  },
  {
   "cell_type": "code",
   "execution_count": 3,
   "id": "e7b04c0e",
   "metadata": {},
   "outputs": [
    {
     "name": "stdout",
     "output_type": "stream",
     "text": [
      "Sorry eric, that name is taken.\n"
     ]
    },
    {
     "data": {
      "text/plain": [
       "'eric'"
      ]
     },
     "execution_count": 3,
     "metadata": {},
     "output_type": "execute_result"
    }
   ],
   "source": [
    "# Try the function with a current username\n",
    "user_name('eric')"
   ]
  },
  {
   "cell_type": "code",
   "execution_count": 4,
   "id": "fa3b8b5c",
   "metadata": {},
   "outputs": [
    {
     "name": "stdout",
     "output_type": "stream",
     "text": [
      "Sorry Willie, that name is taken.\n"
     ]
    },
    {
     "data": {
      "text/plain": [
       "'Willie'"
      ]
     },
     "execution_count": 4,
     "metadata": {},
     "output_type": "execute_result"
    }
   ],
   "source": [
    "# Try the function with a current username (sensitive to capital letters)\n",
    "user_name('Willie')"
   ]
  },
  {
   "cell_type": "markdown",
   "id": "b5c7624f",
   "metadata": {},
   "source": [
    "2. Make a dictionary called `cities`. Use the names of three cities as keys in your dictionary. Create a dictionary of information about each city and include the country that the city is in, its approximate population, and one fact about that city. The keys for each city’s dictionary should be something like `country`, `population`, and `fact`. Print the name of each city and all of the information you have stored about it."
   ]
  },
  {
   "cell_type": "code",
   "execution_count": 1,
   "id": "e4049c8b",
   "metadata": {},
   "outputs": [],
   "source": [
    "cities = {\n",
    "    'santiago': {\n",
    "        'country': 'chile',\n",
    "        'population': 6158080,\n",
    "        'nearby mountains': 'andes',\n",
    "        },\n",
    "    'talkeetna': {\n",
    "        'country': 'alaska',\n",
    "        'population': 876,\n",
    "        'nearby mountains': 'alaska range',\n",
    "        },\n",
    "    'kathmandu': {\n",
    "        'country': 'nepal',\n",
    "        'population': 1003285,\n",
    "        'nearby mountains': 'himilaya',\n",
    "        }\n",
    "    }"
   ]
  },
  {
   "cell_type": "markdown",
   "id": "6e77b20d",
   "metadata": {},
   "source": [
    "## 1.2 While Loop\n"
   ]
  },
  {
   "cell_type": "markdown",
   "id": "17fdcd13",
   "metadata": {},
   "source": [
    "1. How a game will stay active as long as the player has enough power? Make a variable called `power`, and set its initial value to 5. So, the player's power starts out at 5 and is allowed to keep playing as long as their power is over 0. \n",
    "\n",
    "    - Inside the while loop, print a message that reports the player's current power.\n",
    "    - Inside the while loop, write a statement that decreases the player's power.\n",
    "    - Outside the while loop, print a message reporting that the player has grown too weak, and that the game is over.\n",
    "\n",
    "\n"
   ]
  },
  {
   "cell_type": "code",
   "execution_count": 4,
   "id": "b5c0a4b9",
   "metadata": {},
   "outputs": [
    {
     "name": "stdout",
     "output_type": "stream",
     "text": [
      "The player's power is 5\n",
      "The player's power is 4\n",
      "The player's power is 3\n",
      "The player's power is 2\n",
      "The player's power is 1\n",
      "The player's power has grown too weak: Game over\n"
     ]
    }
   ],
   "source": [
    "#First, I created the variable 'power' with an starting value of 5\n",
    "power = 5\n",
    "\n",
    "#Then, I created a while loop that repeats the code while the value of power is higher than 0. \n",
    "#Inside the while loop I printed the player's current power using f-string\n",
    "while power > 0: \n",
    "    print(f\"The player's power is {power}\")\n",
    "     #Then I created a break statement to decrease player's value in each loop by -1\n",
    "    power -= 1\n",
    "    #Lastly, when the condition power > 0 is no longer satisfied, I printed the exit message using f-string\n",
    "print(f\"The player's power has grown too weak: Game over\")"
   ]
  }
 ],
 "metadata": {
  "kernelspec": {
   "display_name": "Python 3 (ipykernel)",
   "language": "python",
   "name": "python3"
  },
  "language_info": {
   "codemirror_mode": {
    "name": "ipython",
    "version": 3
   },
   "file_extension": ".py",
   "mimetype": "text/x-python",
   "name": "python",
   "nbconvert_exporter": "python",
   "pygments_lexer": "ipython3",
   "version": "3.9.7"
  },
  "vscode": {
   "interpreter": {
    "hash": "d809ddb524a839eafd172abb3a87e0b3d97ee3f438f4c185554efa35ebfb7585"
   }
  }
 },
 "nbformat": 4,
 "nbformat_minor": 5
}

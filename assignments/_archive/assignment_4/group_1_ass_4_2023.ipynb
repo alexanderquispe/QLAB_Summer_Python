{
 "cells": [
  {
   "cell_type": "code",
   "execution_count": 1,
   "id": "9087a944",
   "metadata": {},
   "outputs": [
    {
     "name": "stdout",
     "output_type": "stream",
     "text": [
      "B\n"
     ]
    }
   ],
   "source": [
    "# EXERCISE 1.1\n",
    "## 1\n",
    "### Here, we create a coditional statement using \"return\".\n",
    "### We define the function \"get grade\", where the score needs to be transformed into a letter.\n",
    "### We use \"if\" and \"elif\". In case the first condition is not accomplished, it will pass to the next one and the next one until it arrives to \"else\". This means that none previous condition has been accomplished.\n",
    "def get_grade(score):\n",
    "    if score >=18:\n",
    "        return \"AD\"\n",
    "    elif score >=14:\n",
    "        return \"A\"\n",
    "    elif score >=10:\n",
    "        return \"B\"\n",
    "    else:\n",
    "            return\"C\"\n",
    "\n",
    "### Having defined this function, we put the grade \"12\" as an example of score.\n",
    "score=get_grade(12)\n",
    "### We see that the output is the grade in letter B.\n",
    "print(score)"
   ]
  },
  {
   "cell_type": "code",
   "execution_count": 2,
   "id": "a7ce5824",
   "metadata": {},
   "outputs": [
    {
     "name": "stdout",
     "output_type": "stream",
     "text": [
      "C\n"
     ]
    }
   ],
   "source": [
    "### Another example we can see is \"3\", where the grade transformed into letters is \"C\"\n",
    "score=get_grade(3)\n",
    "print(score)"
   ]
  },
  {
   "cell_type": "code",
   "execution_count": 3,
   "id": "739be6d5",
   "metadata": {},
   "outputs": [
    {
     "name": "stdout",
     "output_type": "stream",
     "text": [
      "147.0\n"
     ]
    }
   ],
   "source": [
    "## 2\n",
    "### Again, we create a coditional statement using \"return\".\n",
    "### We define the function \"get_water_bill\", where the number of gallons (represented by \"num_gallons\") needs to get its pricing.\n",
    "### We use \"if\" and \"elif\". In case the first condition is not accomplished, it will pass to the next one and the next one until it arrives to \"else\". This means that none previous condition has been accomplished.\n",
    "### As the price is measured each 1000 gallons, a previous calculus needs to be done. \n",
    "### To get the multiplier, the 0.001 (the convertion into thousand of any number) needs to be multiplied by the price of the list.\n",
    "### That is why, for example, in the case of the galoons between 8001 and 20000, the multiplier is 0.006 (0.001*6)\n",
    "def get_water_bill(num_gallons):\n",
    "    if num_gallons >=30001:\n",
    "        return num_gallons*0.010\n",
    "    elif num_gallons >=20001:\n",
    "        return  num_gallons*0.007\n",
    "    elif num_gallons >=8001:\n",
    "        return  num_gallons*0.006\n",
    "    else:\n",
    "            return num_gallons*0.005\n",
    "\n",
    "### Having defined this function, we put the number of gallons of \"2100\" as an example to get the price.\n",
    "price=get_water_bill(21000)\n",
    "### We see that, as this number is between 20001 and 30000 gallons, it is multiplied based on the price 7 soles per 1000 gallons. That is why the output is 147 soles.\n",
    "print(price)"
   ]
  },
  {
   "cell_type": "code",
   "execution_count": null,
   "id": "86b10f7b",
   "metadata": {},
   "outputs": [],
   "source": [
    "##1. Make a list of five or more usernames called current_users./"
   ]
  },
  {
   "cell_type": "code",
   "execution_count": 4,
   "id": "2c662d88",
   "metadata": {},
   "outputs": [
    {
     "data": {
      "text/plain": [
       "['eric', 'willie', 'admin', 'erin', 'Ever']"
      ]
     },
     "execution_count": 4,
     "metadata": {},
     "output_type": "execute_result"
    }
   ],
   "source": [
    "#We define each name of curren_users and new_users\n",
    "current_users = ['eric', 'willie', 'admin', 'erin', 'Ever']\n",
    "current_users"
   ]
  },
  {
   "cell_type": "code",
   "execution_count": 5,
   "id": "1169b526",
   "metadata": {},
   "outputs": [
    {
     "data": {
      "text/plain": [
       "['sarah', 'Willie', 'PHIL', 'ever', 'Iona']"
      ]
     },
     "execution_count": 5,
     "metadata": {},
     "output_type": "execute_result"
    }
   ],
   "source": [
    "new_users = ['sarah', 'Willie', 'PHIL', 'ever', 'Iona']\n",
    "new_users"
   ]
  },
  {
   "cell_type": "code",
   "execution_count": null,
   "id": "9335ee5f",
   "metadata": {},
   "outputs": [],
   "source": [
    "#2. Loop through the new_users list to see if each new username has already been used.\n",
    "# 1° step: Use lower method to convert each letter of the name to lowercase, since it necessary to recognize that Willie has been used/\n",
    "# when willie was used in current_users\n",
    "# 2° step: Use \"if\" to compare between the elements of the two lists, if they contain the same names (whether you use lowercase or not), an acceptance message will be printed\n",
    "# 3° step: Add else to add another message in case it does not meet the previous condition.\n"
   ]
  },
  {
   "cell_type": "code",
   "execution_count": 6,
   "id": "710ddeaa",
   "metadata": {},
   "outputs": [
    {
     "name": "stdout",
     "output_type": "stream",
     "text": [
      "The username sarah is available.\n",
      "The username Willie is already taken, enter a different username.\n",
      "The username PHIL is available.\n",
      "The username ever is already taken, enter a different username.\n",
      "The username Iona is available.\n"
     ]
    }
   ],
   "source": [
    "for new_user in new_users:\n",
    "    if new_user.lower() in [current_user.lower() for current_user in current_users]:\n",
    "        print(f\"The username {new_user} is already taken, enter a different username.\")\n",
    "    else:\n",
    "        print(f\"The username {new_user} is available.\")"
   ]
  },
  {
   "cell_type": "code",
   "execution_count": null,
   "id": "1aff5545",
   "metadata": {},
   "outputs": [],
   "source": [
    "#Make a dictionary called cities. Use the names of three cities as keys in your dictionary. \n",
    "#Create a dictionary of information about each city and include the country that the city is in, \n",
    "#its approximate population, and one fact about that city. \n",
    "#The keys for each city’s dictionary should be something like country, population, and fact. \n",
    "#Print the name of each city and all of the information you have stored about it."
   ]
  },
  {
   "cell_type": "code",
   "execution_count": 7,
   "id": "0c3ad14f",
   "metadata": {},
   "outputs": [],
   "source": [
    "cities = {\n",
    "    'santiago': {\n",
    "        'country': 'chile',\n",
    "        'population': 6158080,\n",
    "        'nearby mountains': 'andes',\n",
    "        },\n",
    "    'talkeetna': {\n",
    "        'country': 'alaska',\n",
    "        'population': 876,\n",
    "        'nearby mountains': 'alaska range',\n",
    "        },\n",
    "    'kathmandu': {\n",
    "        'country': 'nepal',\n",
    "        'population': 1003285,\n",
    "        'nearby mountains': 'himilaya',\n",
    "        }\n",
    "    }\n"
   ]
  },
  {
   "cell_type": "code",
   "execution_count": 8,
   "id": "13f3e28a",
   "metadata": {},
   "outputs": [
    {
     "name": "stdout",
     "output_type": "stream",
     "text": [
      "{'santiago': {'country': 'chile', 'population': 6158080, 'nearby mountains': 'andes'}, 'talkeetna': {'country': 'alaska', 'population': 876, 'nearby mountains': 'alaska range'}, 'kathmandu': {'country': 'nepal', 'population': 1003285, 'nearby mountains': 'himilaya'}}\n"
     ]
    }
   ],
   "source": [
    "print(cities)"
   ]
  },
  {
   "cell_type": "code",
   "execution_count": 9,
   "id": "bddcdc25",
   "metadata": {},
   "outputs": [
    {
     "name": "stdout",
     "output_type": "stream",
     "text": [
      "city=santiago\n",
      "city=talkeetna\n",
      "city=kathmandu\n"
     ]
    }
   ],
   "source": [
    "for ind in cities:\n",
    "    print(\"city=\"+ind)"
   ]
  },
  {
   "cell_type": "code",
   "execution_count": 10,
   "id": "f5aee2b1",
   "metadata": {},
   "outputs": [
    {
     "name": "stdout",
     "output_type": "stream",
     "text": [
      "santiago: {'country': 'chile', 'population': 6158080, 'nearby mountains': 'andes'}\n",
      "talkeetna: {'country': 'alaska', 'population': 876, 'nearby mountains': 'alaska range'}\n",
      "kathmandu: {'country': 'nepal', 'population': 1003285, 'nearby mountains': 'himilaya'}\n"
     ]
    }
   ],
   "source": [
    "print('\\n'.join(\"{}: {}\".format(k, v) for k, v in cities.items()))"
   ]
  },
  {
   "cell_type": "code",
   "execution_count": null,
   "id": "c781ade6",
   "metadata": {},
   "outputs": [],
   "source": [
    "#1.2 While Loop\n",
    "#How a game will stay active as long as the player has enough power? \n",
    "#Make a variable called power, and set its initial value to 5. So, \n",
    "#the player's power starts out at 5 and is allowed to keep playing as long as their power is over 0."
   ]
  },
  {
   "cell_type": "code",
   "execution_count": 15,
   "id": "30ab4939",
   "metadata": {},
   "outputs": [
    {
     "name": "stdout",
     "output_type": "stream",
     "text": [
      " Sigues en carrera, tu poder es\t5\n",
      " Sigues en carrera, tu poder es\t4\n",
      " Sigues en carrera, tu poder es\t3\n",
      " Sigues en carrera, tu poder es\t2\n",
      " Sigues en carrera, tu poder es\t1\n",
      "\n",
      "Lo siento, ya no puedes seguir jugando, tu poder es 0\n"
     ]
    }
   ],
   "source": [
    "#Indicamos el poder inicial del jugador\n",
    "power = 5\n",
    "\n",
    "# Indicamos donde romper el loop, mientrasa el poder sea mayor a 0 el loop continuará, el jugador seguirá estando en carrera\n",
    "# Adicionalmente, indicamos que con cada iteración el poder disminuya en 1, sino el loop seguirá por siempre\n",
    "#Por último, cuando termine el loop, cuando el poder sea cero, imprimimos un mensaje para el jugador, indicando que el juego \n",
    "#terminó\n",
    "\n",
    "while power > 0:\n",
    "    print(f' Sigues en carrera, tu poder es\\t{power}')\n",
    "    power = power - 1\n",
    "    \n",
    "print(\"\\nLo siento, ya no puedes seguir jugando, tu poder es 0\")"
   ]
  },
  {
   "cell_type": "code",
   "execution_count": null,
   "id": "d3d6b1ba",
   "metadata": {},
   "outputs": [],
   "source": []
  }
 ],
 "metadata": {
  "kernelspec": {
   "display_name": "Python 3 (ipykernel)",
   "language": "python",
   "name": "python3"
  },
  "language_info": {
   "codemirror_mode": {
    "name": "ipython",
    "version": 3
   },
   "file_extension": ".py",
   "mimetype": "text/x-python",
   "name": "python",
   "nbconvert_exporter": "python",
   "pygments_lexer": "ipython3",
   "version": "3.9.7"
  }
 },
 "nbformat": 4,
 "nbformat_minor": 5
}

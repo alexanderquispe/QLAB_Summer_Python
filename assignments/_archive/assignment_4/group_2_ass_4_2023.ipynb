{
 "cells": [
  {
   "cell_type": "markdown",
   "id": "e7ca8383",
   "metadata": {},
   "source": [
    "## Assignment 3 del Grupo 2\n",
    "\n",
    "#### Miembros:\n",
    "* Angie Quispe\n",
    "* Carlos Crespin\n",
    "* Jenny Tello"
   ]
  },
  {
   "cell_type": "markdown",
   "id": "d65a4215",
   "metadata": {},
   "source": [
    "## 1.1 Conditional statements\n"
   ]
  },
  {
   "cell_type": "markdown",
   "id": "64029372",
   "metadata": {},
   "source": [
    "1. You work at a college admissions office. When inspecting a dataset of college applicants, you notice that some students have represented their grades with letters (`\"AD\"`, `\"A\"`, `\"B\"`, `\"C\"`), whereas others have represented their grades with a number between 0 and 20.\n",
    "\n",
    "    You realize that for consistency, all of the grades should be formatted in the same way, and you decide to format them all as letters. For the conversion, you decide to assign:\n",
    "\n",
    "    - `\"AD\"` - any grade 18-20, inclusive\n",
    "    - `\"A\"` - any grade 14-17, inclusive\n",
    "    - `\"B\"` - any grade 10-13, inclusive\n",
    "    - `\"C\"` - any grade <10\n",
    "\n",
    "    Write a function get_grade() that takes as input:\n",
    "    - `score` - an integer 0-20 corresponding to a numerical grade\n",
    "\n",
    "   It should return a Python string with the letter grade that it corresponds to. For instance,\n",
    "\n",
    "    - A score of 12 corresponds to a B grade. In other words, `get_grade(12)` should return `\"B\"`.\n",
    "    - A score of 3 corresponds to an C grade. In other words, `get_grade(3)` should return `\"C\"`.\n",
    "\n",
    "   Make sure that when supplying the grade that is returned by the function, it is enclosed in quotes. (For instance, if you want to return `\"A\"`, you should write `return \"A\"` and not `return A`.)"
   ]
  },
  {
   "cell_type": "code",
   "execution_count": 27,
   "id": "4f7cd290",
   "metadata": {},
   "outputs": [],
   "source": [
    "#We use the comand get_grade() as a function and add the if conditional\n",
    "\n",
    "def get_grade(score):\n",
    "    if  score <= 10:\n",
    "        print(\"The grade is C\")\n",
    "    elif score <= 13 & score >= 10:\n",
    "        print(\"The grade is B\")\n",
    "    elif score <= 17 & score >= 14:    \n",
    "        print(\"The grade is A\")\n",
    "    else:\n",
    "        print(\"The grade is AD\")\n",
    " "
   ]
  },
  {
   "cell_type": "code",
   "execution_count": 28,
   "id": "fc4e7c64",
   "metadata": {},
   "outputs": [
    {
     "name": "stdout",
     "output_type": "stream",
     "text": [
      "The grade is B\n"
     ]
    }
   ],
   "source": [
    "#We check the results\n",
    "get_grade(12)"
   ]
  },
  {
   "cell_type": "code",
   "execution_count": 30,
   "id": "5374cad9",
   "metadata": {},
   "outputs": [
    {
     "name": "stdout",
     "output_type": "stream",
     "text": [
      "The grade is AD\n"
     ]
    }
   ],
   "source": [
    "#We check the results\n",
    "get_grade(20)"
   ]
  },
  {
   "cell_type": "markdown",
   "id": "67455053",
   "metadata": {},
   "source": [
    "2. You are a programmer at a water agency. Recently, you have been tasked to write a function `get_water_bill()` that takes as input:\n",
    "\n",
    "    - `num_gallons` = the number of gallons of water that a customer used that month. (This will always be an integer with no decimal part.)\n",
    "\n",
    "   It should output the water bill.\n",
    "\n",
    "   The water agency uses this pricing structure:\n",
    "\n",
    "| Tier        | Amount in gallons | Price per 1000 gallons |\n",
    "| ----------- | ----------------  | ---------------------- |\n",
    "| Tier 1      | 0 - 8,000         | 5                      |\n",
    "| Tier 2      | 8,001 - 22,000    | 6                      |\n",
    "| Tier 3      | 22,001 - 30,000\t  | 7                      |\n",
    "| Tier 4      | 30,001+\t      \t  | 10                     |\n"
   ]
  },
  {
   "cell_type": "code",
   "execution_count": 32,
   "id": "6d02b2f1",
   "metadata": {},
   "outputs": [],
   "source": [
    "#We use the comand def get_water_bill() as a function to get the bills\n",
    "#The equation that we use is (num_gallons/1000)*i where i depends in \n",
    "#amount in gallons\n",
    "\n",
    "def get_water_bill(num_gallons):\n",
    "    if num_gallons <= 8000:\n",
    "        bill = (num_gallons/1000)*5\n",
    "    elif num_gallons <= 22000:\n",
    "        bill = (num_gallons/1000)*6\n",
    "    elif num_gallons <= 30000:\n",
    "        bill = (num_gallons/1000)*7\n",
    "    else:\n",
    "        bill = (num_gallons/1000)*10\n",
    "    return bill"
   ]
  },
  {
   "cell_type": "code",
   "execution_count": 33,
   "id": "3833e778",
   "metadata": {},
   "outputs": [
    {
     "data": {
      "text/plain": [
       "35.0"
      ]
     },
     "execution_count": 33,
     "metadata": {},
     "output_type": "execute_result"
    }
   ],
   "source": [
    "#We check the results\n",
    "get_water_bill(7000)"
   ]
  },
  {
   "cell_type": "code",
   "execution_count": 34,
   "id": "c0113fbd",
   "metadata": {},
   "outputs": [
    {
     "data": {
      "text/plain": [
       "157.5"
      ]
     },
     "execution_count": 34,
     "metadata": {},
     "output_type": "execute_result"
    }
   ],
   "source": [
    "#We check the results\n",
    "get_water_bill(22500)"
   ]
  },
  {
   "cell_type": "markdown",
   "id": "772e77f1",
   "metadata": {},
   "source": [
    "## 1.2 For Loop"
   ]
  },
  {
   "cell_type": "markdown",
   "id": "d1d8e1ba",
   "metadata": {},
   "source": [
    "1. Do the following to create a program that simulates how websites ensure that everyone has a unique username.\n",
    "\n",
    "- Make a list of five or more usernames called current_users. Make another list of five usernames called new_users. Make sure one or two of the new usernames are also in the current_users list.\n",
    "- Loop through the new_users list to see if each new username has already been used. If it has, print a message that the person will need to enter a new username. If a username has not been used, print a message saying that the username is available.\n",
    "- Make sure your comparison is case insensitive. If John has been used, JOHN should not be accepted."
   ]
  },
  {
   "cell_type": "code",
   "execution_count": null,
   "id": "a11a1ec8",
   "metadata": {},
   "outputs": [],
   "source": [
    "#First, we create a list called \"current_users\" that contains five different usernames"
   ]
  },
  {
   "cell_type": "code",
   "execution_count": 1,
   "id": "082392ad",
   "metadata": {},
   "outputs": [],
   "source": [
    "current_users = ['vale', 'nina', 'rob', 'cami', 'eve']"
   ]
  },
  {
   "cell_type": "code",
   "execution_count": null,
   "id": "5372de12",
   "metadata": {},
   "outputs": [],
   "source": [
    "#We create a second list called \"new_users\" that contains five usernames. Two of them are also in the \"current_users\" list."
   ]
  },
  {
   "cell_type": "code",
   "execution_count": 2,
   "id": "2a0bf09b",
   "metadata": {},
   "outputs": [],
   "source": [
    "new_users = ['maria', 'vale', 'eve', 'sebas', 'nico']"
   ]
  },
  {
   "cell_type": "code",
   "execution_count": null,
   "id": "f4506293",
   "metadata": {},
   "outputs": [],
   "source": [
    "#We create a loop that contains a conditional. Considering that the username is in lower cases,\n",
    "#if the new username exists in the list \"current_users\", the user will be asked to enter another username\n",
    "#if the new username doesn't exist in said list, the user will know that it is available"
   ]
  },
  {
   "cell_type": "code",
   "execution_count": 8,
   "id": "0d6a0a56",
   "metadata": {
    "scrolled": true
   },
   "outputs": [
    {
     "name": "stdout",
     "output_type": "stream",
     "text": [
      "The username 'maria' is available\n",
      "The username 'vale is already taken. Please enter another username\n",
      "The username 'eve is already taken. Please enter another username\n",
      "The username 'sebas' is available\n",
      "The username 'nico' is available\n"
     ]
    }
   ],
   "source": [
    "for new_user in new_users:\n",
    "        if new_user.lower() in current_users:\n",
    "            print (\"The username '\" + new_user + \" is already taken. Please enter another username\")\n",
    "        else: \n",
    "            print (\"The username '\" + new_user + \"' is available\")"
   ]
  },
  {
   "cell_type": "markdown",
   "id": "be55a67f",
   "metadata": {},
   "source": [
    "2. Make a dictionary called cities. Use the names of three cities as keys in your dictionary. Create a dictionary of information about each city and include the country that the city is in, its approximate population, and one fact about that city. The keys for each city’s dictionary should be something like country, population, and fact. Print the name of each city and all of the information you have stored about it."
   ]
  },
  {
   "cell_type": "code",
   "execution_count": null,
   "id": "658b810d",
   "metadata": {},
   "outputs": [],
   "source": [
    "#First, we create the dictionary \"cities\", which includes \"santiago\", \"talkeetna\" and \"nepal\" as keys"
   ]
  },
  {
   "cell_type": "code",
   "execution_count": 10,
   "id": "998a406f",
   "metadata": {},
   "outputs": [],
   "source": [
    "cities = {\n",
    "    'santiago': {\n",
    "        'country': 'chile',\n",
    "        'population': 6158080,\n",
    "        'nearby mountains': 'andes',\n",
    "        },\n",
    "    'talkeetna': {\n",
    "        'country': 'alaska',\n",
    "        'population': 876,\n",
    "        'nearby mountains': 'alaska range',\n",
    "        },\n",
    "    'kathmandu': {\n",
    "        'country': 'nepal',\n",
    "        'population': 1003285,\n",
    "        'nearby mountains': 'himilaya',\n",
    "        }\n",
    "    }"
   ]
  },
  {
   "cell_type": "code",
   "execution_count": 9,
   "id": "bca00662",
   "metadata": {},
   "outputs": [],
   "source": [
    "# We create a loop to print the information of the cities that we have stored. We use \"Country\", \"Population\" \n",
    "#and \"Mountain Range\" as the keys for each city’s dictionary"
   ]
  },
  {
   "cell_type": "code",
   "execution_count": 11,
   "id": "b22f98ab",
   "metadata": {},
   "outputs": [
    {
     "name": "stdout",
     "output_type": "stream",
     "text": [
      "santiago\n",
      "\n",
      "   Country: chile\n",
      "   Population: 6158080\n",
      "   Mountain Range: andes\n",
      "\n",
      "talkeetna\n",
      "\n",
      "   Country: alaska\n",
      "   Population: 876\n",
      "   Mountain Range: alaska range\n",
      "\n",
      "kathmandu\n",
      "\n",
      "   Country: nepal\n",
      "   Population: 1003285\n",
      "   Mountain Range: himilaya\n",
      "\n"
     ]
    }
   ],
   "source": [
    "for city, inf in cities.items():\n",
    "    print(city + \"\\n\")\n",
    "    print(\"   \"f\"Country: {inf['country']}\")\n",
    "    print(\"   \"f\"Population: {inf['population']}\")\n",
    "    print(\"   \"f\"Mountain Range: {inf['nearby mountains']}\" + \"\\n\")"
   ]
  },
  {
   "cell_type": "markdown",
   "id": "b93dda47",
   "metadata": {},
   "source": [
    "## 1.2 While Loop"
   ]
  },
  {
   "cell_type": "markdown",
   "id": "ef14177b",
   "metadata": {},
   "source": [
    "1. How a game will stay active as long as the player has enough power? Make a variable called `power`, and set its initial value to 5. So, the player's power starts out at 5 and is allowed to keep playing as long as their power is over 0. \n",
    "\n",
    "    - Inside the while loop, print a message that reports the player's current power.\n",
    "    - Inside the while loop, write a statement that decreases the player's power.\n",
    "    - Outside the while loop, print a message reporting that the player has grown too weak, and that the game is over.\n",
    "\n",
    "\n"
   ]
  },
  {
   "cell_type": "code",
   "execution_count": 3,
   "id": "505a1432",
   "metadata": {},
   "outputs": [
    {
     "data": {
      "text/plain": [
       "5"
      ]
     },
     "execution_count": 3,
     "metadata": {},
     "output_type": "execute_result"
    }
   ],
   "source": [
    "# We create the ´power´ variable\n",
    "power = 5\n",
    "power"
   ]
  },
  {
   "cell_type": "code",
   "execution_count": 4,
   "id": "7697d1d3",
   "metadata": {},
   "outputs": [
    {
     "name": "stdout",
     "output_type": "stream",
     "text": [
      "5\n",
      "The current player's power is\n",
      "4\n",
      "The current player's power is\n",
      "3\n",
      "The current player's power is\n",
      "2\n",
      "The current player's power is\n",
      "1\n",
      "The current player's power is\n",
      "No power left, the game is over\n"
     ]
    }
   ],
   "source": [
    "# Set the loop\n",
    "while power > 0:\n",
    "    print (power)\n",
    "\n",
    "    # Add the break code. This is a Substraction assignment. Also will print the current players's power\n",
    "    power -= 1 #The player's power decrease en 1 point each time\n",
    "    print (\"The current player's power is\")\n",
    "    \n",
    "#Finally, we add the message that indicates that the player has grown to weak\n",
    "print (\"No power left, the game is over\")\n",
    "     \n",
    "    "
   ]
  },
  {
   "cell_type": "code",
   "execution_count": null,
   "id": "7a2ef391",
   "metadata": {},
   "outputs": [],
   "source": []
  },
  {
   "cell_type": "code",
   "execution_count": null,
   "id": "cf479f00",
   "metadata": {},
   "outputs": [],
   "source": []
  },
  {
   "cell_type": "code",
   "execution_count": null,
   "id": "d4701b96",
   "metadata": {},
   "outputs": [],
   "source": []
  }
 ],
 "metadata": {
  "kernelspec": {
   "display_name": "Python 3 (ipykernel)",
   "language": "python",
   "name": "python3"
  },
  "language_info": {
   "codemirror_mode": {
    "name": "ipython",
    "version": 3
   },
   "file_extension": ".py",
   "mimetype": "text/x-python",
   "name": "python",
   "nbconvert_exporter": "python",
   "pygments_lexer": "ipython3",
   "version": "3.9.12"
  },
  "vscode": {
   "interpreter": {
    "hash": "dc07d24e2f18896857f0b2a651fe84ba40ce7b297e58d8804a308c8039f752a6"
   }
  }
 },
 "nbformat": 4,
 "nbformat_minor": 5
}

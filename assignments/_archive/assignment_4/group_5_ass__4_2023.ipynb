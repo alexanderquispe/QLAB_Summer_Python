{
  "cells": [
    {
      "cell_type": "markdown",
      "id": "999eb3c6",
      "metadata": {
        "id": "999eb3c6"
      },
      "source": [
        "# 1 Assignment\n",
        "\n",
        "It is totally prohibited to use any kind of loop. You can use stackoverflow. If you copy codes from previous answers, explain each step. No explanation is `0 points`."
      ]
    },
    {
      "cell_type": "markdown",
      "id": "73e2467e",
      "metadata": {
        "id": "73e2467e"
      },
      "source": [
        "### Members:\n",
        "    - NOBLEJAS GARCÍA, JIMMY ALEXANDER\n",
        "    - PINILLOS ZEGARRA, XIMENA ALEJANDRA\n",
        "    - POGGI SOLANO, CESAR ALEJANDRO\n",
        "    - TORRES TAPIA, SEBASTIAN ELIAS"
      ]
    },
    {
      "cell_type": "markdown",
      "id": "0eb1cf98",
      "metadata": {
        "id": "0eb1cf98"
      },
      "source": [
        "## 1.1 Conditional statements\n"
      ]
    },
    {
      "cell_type": "markdown",
      "id": "ad1c0d1f",
      "metadata": {
        "id": "ad1c0d1f"
      },
      "source": [
        "1. You work at a college admissions office. When inspecting a dataset of college applicants, you notice that some students have represented their grades with letters (`\"AD\"`, `\"A\"`, `\"B\"`, `\"C\"`), whereas others have represented their grades with a number between 0 and 20.\n",
        "\n",
        "    You realize that for consistency, all of the grades should be formatted in the same way, and you decide to format them all as letters. For the conversion, you decide to assign:\n",
        "\n",
        "    - `\"AD\"` - any grade 18-20, inclusive\n",
        "    - `\"A\"` - any grade 14-17, inclusive\n",
        "    - `\"B\"` - any grade 10-13, inclusive\n",
        "    - `\"C\"` - any grade <10\n",
        "\n",
        "    Write a function get_grade() that takes as input:\n",
        "    - `score` - an integer 0-20 corresponding to a numerical grade\n",
        "\n",
        "   It should return a Python string with the letter grade that it corresponds to. For instance,\n",
        "\n",
        "    - A score of 12 corresponds to a B grade. In other words, `get_grade(12)` should return `\"B\"`.\n",
        "    - A score of 3 corresponds to an C grade. In other words, `get_grade(3)` should return `\"C\"`.\n",
        "\n",
        "   Make sure that when supplying the grade that is returned by the function, it is enclosed in quotes. (For instance, if you want to return `\"A\"`, you should write `return \"A\"` and not `return A`.)"
      ]
    },
    {
      "cell_type": "code",
      "execution_count": 1,
      "id": "a90ae7cf",
      "metadata": {
        "id": "a90ae7cf"
      },
      "outputs": [],
      "source": [
        "#We create a function using conditionals for every letter grade. We assure that the letter is between quotes\n",
        "\n",
        "def get_grade(x):\n",
        "    if (x >= 18 and x<=20):\n",
        "        return \"AD\"\n",
        "\n",
        "    elif (x >=14 and x<=17):\n",
        "        return \"A\"\n",
        "    \n",
        "    elif (x>=10 and x<=13):\n",
        "        return \"B\"\n",
        "    \n",
        "    elif (x>=0 and x<=10):\n",
        "        return \"C\""
      ]
    },
    {
      "cell_type": "code",
      "execution_count": null,
      "id": "421b5a09",
      "metadata": {
        "id": "421b5a09",
        "outputId": "ebc117a1-7836-42ea-bdec-bb2b9676248a"
      },
      "outputs": [
        {
          "data": {
            "text/plain": [
              "'B'"
            ]
          },
          "execution_count": 11,
          "metadata": {},
          "output_type": "execute_result"
        }
      ],
      "source": [
        "#Now we test and use our function!\n",
        "get_grade(12)"
      ]
    },
    {
      "cell_type": "code",
      "execution_count": 2,
      "id": "ce5a1afb",
      "metadata": {},
      "outputs": [
        {
          "data": {
            "text/plain": [
              "'A'"
            ]
          },
          "execution_count": 2,
          "metadata": {},
          "output_type": "execute_result"
        }
      ],
      "source": [
        "get_grade(16)"
      ]
    },
    {
      "cell_type": "code",
      "execution_count": null,
      "id": "fb083e2d",
      "metadata": {
        "id": "fb083e2d",
        "outputId": "0615c0f6-b214-4d21-b5d8-087b71725445"
      },
      "outputs": [
        {
          "data": {
            "text/plain": [
              "'C'"
            ]
          },
          "execution_count": 4,
          "metadata": {},
          "output_type": "execute_result"
        }
      ],
      "source": [
        "get_grade(3)"
      ]
    },
    {
      "cell_type": "markdown",
      "id": "829c5f8c",
      "metadata": {
        "id": "829c5f8c"
      },
      "source": [
        "2. You are a programmer at a water agency. Recently, you have been tasked to write a function `get_water_bill()` that takes as input:\n",
        "\n",
        "    - `num_gallons` = the number of gallons of water that a customer used that month. (This will always be an integer with no decimal part.)\n",
        "\n",
        "   It should output the water bill.\n",
        "\n",
        "   The water agency uses this pricing structure:\n",
        "\n",
        "| Tier        | Amount in gallons | Price per 1000 gallons |\n",
        "| ----------- | ----------------  | ---------------------- |\n",
        "| Tier 1      | 0 - 8,000         | 5                      |\n",
        "| Tier 2      | 8,001 - 22,000    | 6                      |\n",
        "| Tier 3      | 22,001 - 30,000\t  | 7                      |\n",
        "| Tier 4      | 30,001+\t      \t  | 10                     |\n"
      ]
    },
    {
      "cell_type": "code",
      "execution_count": 1,
      "id": "fd4a320c",
      "metadata": {},
      "outputs": [],
      "source": [
        "#Usamos los siguientes comados para elaborar la función indicando que tenemos cada parámetro entero sin decimales\n",
        "def get_water_bill (num_gallons = int):\n",
        "    \n",
        "#hacemos la ecuación donde el iterante depende del número de galones según los intervalos de precios:\n",
        "    if num_gallons >= 0 and num_gallons <= 8000:\n",
        "        bill = (num_gallons/1000)*5\n",
        "        print(int(bill))\n",
        "    \n",
        "    elif num_gallons > 8000 and num_gallons <= 22000:\n",
        "        bill = (num_gallons/1000)*6\n",
        "        print(int(bill))\n",
        "\n",
        "    elif num_gallons > 22000 and num_gallons <= 30000:\n",
        "        bill = (num_gallons/1000)*7\n",
        "        print(int(bill))\n",
        "\n",
        "    elif num_gallons > 30000:\n",
        "        bill = (num_gallons/1000)*10\n",
        "        print(int(bill))\n"
      ]
    },
    {
      "cell_type": "code",
      "execution_count": 2,
      "id": "bab33dd0",
      "metadata": {},
      "outputs": [
        {
          "name": "stdout",
          "output_type": "stream",
          "text": [
            "54\n"
          ]
        }
      ],
      "source": [
        "get_water_bill(9000)"
      ]
    },
    {
      "cell_type": "markdown",
      "id": "84d77a35",
      "metadata": {
        "id": "84d77a35"
      },
      "source": [
        "## 1.2 For Loop\n"
      ]
    },
    {
      "cell_type": "markdown",
      "id": "c8040884",
      "metadata": {
        "id": "c8040884"
      },
      "source": [
        "1. Do the following to create a program that simulates how websites ensure that everyone has a unique username.\n",
        "\n",
        "    - Make a list of five or more usernames called `current_users`. Make another list of five usernames called `new_users`. Make sure one or two of the new usernames are also in the `current_users` list.\n",
        "    - Loop through the `new_users` list to see if each new username has already been used. If it has, print a message that the person will need to enter a new username. If a username has not been used, print a message saying that the username is available.\n",
        "    - Make sure your comparison is case insensitive. If `John` has been used, `JOHN` should not be accepted."
      ]
    },
    {
      "cell_type": "code",
      "execution_count": null,
      "id": "7ae745d1",
      "metadata": {
        "id": "7ae745d1"
      },
      "outputs": [],
      "source": [
        "current_users = ['eric', 'willie', 'admin', 'erin', 'Ever']\n",
        "new_users = ['sarah', 'Willie', 'PHIL', 'ever', 'Iona']"
      ]
    },
    {
      "cell_type": "code",
      "execution_count": null,
      "id": "TC-M7uqlGXEH",
      "metadata": {
        "id": "TC-M7uqlGXEH"
      },
      "outputs": [],
      "source": [
        "# First, in order to loop trough the new_user list to see if any username has already been used, we can use lowercase method to recognize similar names (so it can be in case insensitive). \n",
        "current_users_low = [username.lower() for username in current_users]"
      ]
    },
    {
      "cell_type": "code",
      "execution_count": null,
      "id": "88ounNjWJRJg",
      "metadata": {
        "colab": {
          "base_uri": "https://localhost:8080/"
        },
        "id": "88ounNjWJRJg",
        "outputId": "72b6648e-6f4c-4176-eddd-817d6eaad27a"
      },
      "outputs": [
        {
          "name": "stdout",
          "output_type": "stream",
          "text": [
            "The username sarah is available.\n",
            "The username Willie has already been taken. Enter a new one.\n",
            "The username PHIL is available.\n",
            "The username ever has already been taken. Enter a new one.\n",
            "The username Iona is available.\n"
          ]
        }
      ],
      "source": [
        "# Second, we can loop trough the new_user list to check the usernames. If one username is already been used, we print \"has already been taken. Enter a new username.\". Otherwise, we will print \"The username is available.\"\n",
        "for username in new_users:\n",
        "    if username.lower() in current_users_low:\n",
        "        print(f\"The username {username} has already been taken. Enter a new one.\")\n",
        "    else:\n",
        "        print(f\"The username {username} is available.\")"
      ]
    },
    {
      "cell_type": "markdown",
      "id": "b5c7624f",
      "metadata": {
        "id": "b5c7624f"
      },
      "source": [
        "2. Make a dictionary called `cities`. Use the names of three cities as keys in your dictionary. Create a dictionary of information about each city and include the country that the city is in, its approximate population, and one fact about that city. The keys for each city’s dictionary should be something like `country`, `population`, and `fact`. Print the name of each city and all of the information you have stored about it."
      ]
    },
    {
      "cell_type": "code",
      "execution_count": null,
      "id": "e4049c8b",
      "metadata": {
        "id": "e4049c8b"
      },
      "outputs": [],
      "source": [
        "cities = {\n",
        "    'santiago': {\n",
        "        'country': 'chile',\n",
        "        'population': 6158080,\n",
        "        'fact': 'is the longest country in the world that stretches from North to South in a narrow strip.',\n",
        "        },\n",
        "    'talkeetna': {\n",
        "        'country': 'alaska',\n",
        "        'population': 876,\n",
        "        'fact': 'began in 1916 when the area was chosen as a district headquarters for the Alaska Railroad.',\n",
        "        },\n",
        "    'kathmandu': {\n",
        "        'country': 'nepal',\n",
        "        'population': 1003285,\n",
        "        'fact': 'is home to the oldest community of inhabitants: the Newar.',\n",
        "        }\n",
        "    }"
      ]
    },
    {
      "cell_type": "code",
      "execution_count": null,
      "id": "LQ5x0VlVLWuP",
      "metadata": {
        "colab": {
          "base_uri": "https://localhost:8080/"
        },
        "id": "LQ5x0VlVLWuP",
        "outputId": "0084a48c-1388-4e42-acd3-2e31537d7c03"
      },
      "outputs": [
        {
          "name": "stdout",
          "output_type": "stream",
          "text": [
            "{'santiago': {'country': 'chile', 'population': 6158080, 'fact': 'Chile is the longest country in the world that stretches from North to South in a narrow strip.'}, 'talkeetna': {'country': 'alaska', 'population': 876, 'fact': 'Talkeetna began in 1916 when the area was chosen as a district headquarters for the Alaska Railroad.'}, 'kathmandu': {'country': 'nepal', 'population': 1003285, 'fact': 'Kathmandu valley is home to the oldest community of inhabitants, the Newar.'}}\n"
          ]
        }
      ],
      "source": [
        "#First, we print the cities dictionary to check the info we will require.\n",
        "print(cities)"
      ]
    },
    {
      "cell_type": "code",
      "execution_count": null,
      "id": "KWp0aY6ZNNKD",
      "metadata": {
        "colab": {
          "base_uri": "https://localhost:8080/"
        },
        "id": "KWp0aY6ZNNKD",
        "outputId": "56b809db-c4a0-469a-ccc1-6def55c4e45b"
      },
      "outputs": [
        {
          "name": "stdout",
          "output_type": "stream",
          "text": [
            "\n",
            "Santiago is a city in Chile.\n",
            "  Its population is about 6158080 people.\n",
            "  A fact is that this city Is The Longest Country In The World That Stretches From North To South In A Narrow Strip.\n",
            "\n",
            "Talkeetna is a city in Alaska.\n",
            "  Its population is about 876 people.\n",
            "  A fact is that this city Began In 1916 When The Area Was Chosen As A District Headquarters For The Alaska Railroad.\n",
            "\n",
            "Kathmandu is a city in Nepal.\n",
            "  Its population is about 1003285 people.\n",
            "  A fact is that this city Is Home To The Oldest Community Of Inhabitants: The Newar.\n"
          ]
        }
      ],
      "source": [
        "# Then, we create a neat output for the cities and the additional info.\n",
        "for ct, ct_inf in cities.items():\n",
        "    country = ct_inf['country'].title()\n",
        "    population = ct_inf['population']\n",
        "    fact = ct_inf['fact'].title()\n",
        "\n",
        "  # Finally, we print the name of the city and the information we have just stored abut them. \n",
        "    print(\"\\n\" + ct.title() + \" is a city in \" + country + \".\")\n",
        "    print(\"  Its population is about \" + str(population) + \" \" + \"people.\")\n",
        "    print(\"  A fact is that this city \" + fact)"
      ]
    },
    {
      "cell_type": "markdown",
      "id": "6e77b20d",
      "metadata": {
        "id": "6e77b20d"
      },
      "source": [
        "## 1.2 While Loop\n"
      ]
    },
    {
      "cell_type": "markdown",
      "id": "17fdcd13",
      "metadata": {
        "id": "17fdcd13"
      },
      "source": [
        "1. How a game will stay active as long as the player has enough power? Make a variable called `power`, and set its initial value to 5. So, the player's power starts out at 5 and is allowed to keep playing as long as their power is over 0. \n",
        "\n",
        "    - Inside the while loop, print a message that reports the player's current power.\n",
        "    - Inside the while loop, write a statement that decreases the player's power.\n",
        "    - Outside the while loop, print a message reporting that the player has grown too weak, and that the game is over.\n",
        "\n",
        "\n"
      ]
    },
    {
      "cell_type": "code",
      "execution_count": 3,
      "id": "992014dc",
      "metadata": {
        "id": "992014dc",
        "outputId": "cc86383e-13fb-4a6d-f660-46cd0b1bbd01"
      },
      "outputs": [
        {
          "name": "stdout",
          "output_type": "stream",
          "text": [
            "The player's current power is  5\n",
            "The player's current power is  4\n",
            "The player's current power is  3\n",
            "The player's current power is  2\n",
            "The player's current power is  1\n",
            "THE GAME IS OVER! The player has grown too weak\n"
          ]
        }
      ],
      "source": [
        "#Firstly, we set the initial value in 5\n",
        "power = 5\n",
        "\n",
        "#Then we create the while loop\n",
        "while power > 0:\n",
        "    print(\"The player's current power is \", power) #This function will report the player's current power\n",
        "    #break code\n",
        "    power = power - 1\n",
        "    \n",
        "print(\"THE GAME IS OVER! The player has grown too weak\") #Final message"
      ]
    }
  ],
  "metadata": {
    "colab": {
      "provenance": []
    },
    "kernelspec": {
      "display_name": "base",
      "language": "python",
      "name": "python3"
    },
    "language_info": {
      "codemirror_mode": {
        "name": "ipython",
        "version": 3
      },
      "file_extension": ".py",
      "mimetype": "text/x-python",
      "name": "python",
      "nbconvert_exporter": "python",
      "pygments_lexer": "ipython3",
      "version": "3.9.13"
    },
    "vscode": {
      "interpreter": {
        "hash": "aa1ee2453168be90b16f29dd075ffb2e0d9206152b6d04a65daba75fbb025218"
      }
    }
  },
  "nbformat": 4,
  "nbformat_minor": 5
}

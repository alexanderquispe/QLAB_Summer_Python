{
 "cells": [
  {
   "cell_type": "markdown",
   "id": "63f53721",
   "metadata": {},
   "source": [
    "# 1 Assignment\n",
    "\n",
    "It is totally prohibited to use any kind of loop. You can use stackoverflow. If you copy codes from previous answers, explain each step. No explanation is `0 points`."
   ]
  },
  {
   "cell_type": "markdown",
   "id": "dfc33656",
   "metadata": {},
   "source": [
    "### Integrantes:\n",
    "- Cristhian Alfaro\n",
    "- Esteban Cabrera\n",
    "- Brisa Cruz\n",
    "- Alexander Du-Bois"
   ]
  },
  {
   "cell_type": "markdown",
   "id": "63164a87",
   "metadata": {},
   "source": [
    "## 1.1 Conditional statements\n"
   ]
  },
  {
   "cell_type": "markdown",
   "id": "d8e1b8e7",
   "metadata": {},
   "source": [
    "1. You work at a college admissions office. When inspecting a dataset of college applicants, you notice that some students have represented their grades with letters (`\"AD\"`, `\"A\"`, `\"B\"`, `\"C\"`), whereas others have represented their grades with a number between 0 and 20.\n",
    "\n",
    "    You realize that for consistency, all of the grades should be formatted in the same way, and you decide to format them all as letters. For the conversion, you decide to assign:\n",
    "\n",
    "    - `\"AD\"` - any grade 18-20, inclusive\n",
    "    - `\"A\"` - any grade 14-17, inclusive\n",
    "    - `\"B\"` - any grade 10-13, inclusive\n",
    "    - `\"C\"` - any grade <10\n",
    "\n",
    "    Write a function get_grade() that takes as input:\n",
    "    - `score` - an integer 0-20 corresponding to a numerical grade\n",
    "\n",
    "   It should return a Python string with the letter grade that it corresponds to. For instance,\n",
    "\n",
    "    - A score of 12 corresponds to a B grade. In other words, `get_grade(12)` should return `\"B\"`.\n",
    "    - A score of 3 corresponds to an C grade. In other words, `get_grade(3)` should return `\"C\"`.\n",
    "\n",
    "   Make sure that when supplying the grade that is returned by the function, it is enclosed in quotes. (For instance, if you want to return `\"A\"`, you should write `return \"A\"` and not `return A`.)"
   ]
  },
  {
   "cell_type": "markdown",
   "id": "c0703370",
   "metadata": {},
   "source": [
    "### 1."
   ]
  },
  {
   "cell_type": "code",
   "execution_count": 1,
   "id": "ceb1581e",
   "metadata": {},
   "outputs": [],
   "source": [
    "#We define the function get_grade() that takes one argument \"score\"\n",
    "def get_grade(score):\n",
    "        \n",
    "#We add the if conditional for the case when the score is above 18\n",
    "        if score <= 20 and score >= 18:\n",
    "            grade=\"AD\"\n",
    "#We add the elif conditionals for the other cases\n",
    "        elif score >= 14:\n",
    "            grade=\"A\"\n",
    "        elif score >= 10:\n",
    "            grade=\"B\"\n",
    "#In case the score is not equal or above 10, it will return \"C\"\n",
    "        else:\n",
    "            grade=\"C\"\n",
    "\n",
    "        return print(grade)\n",
    "\n"
   ]
  },
  {
   "cell_type": "code",
   "execution_count": 10,
   "id": "a4d3513f",
   "metadata": {},
   "outputs": [
    {
     "name": "stdout",
     "output_type": "stream",
     "text": [
      "AD\n"
     ]
    }
   ],
   "source": [
    "get_grade(18)"
   ]
  },
  {
   "cell_type": "code",
   "execution_count": 3,
   "id": "c9562965",
   "metadata": {},
   "outputs": [
    {
     "name": "stdout",
     "output_type": "stream",
     "text": [
      "C\n"
     ]
    }
   ],
   "source": [
    "get_grade(7)"
   ]
  },
  {
   "cell_type": "markdown",
   "id": "a06f9147",
   "metadata": {},
   "source": [
    "2. You are a programmer at a water agency. Recently, you have been tasked to write a function `get_water_bill()` that takes as input:\n",
    "\n",
    "    - `num_gallons` = the number of gallons of water that a customer used that month. (This will always be an integer with no decimal part.)\n",
    "\n",
    "   It should output the water bill.\n",
    "\n",
    "   The water agency uses this pricing structure:\n",
    "\n",
    "| Tier        | Amount in gallons | Price per 1000 gallons |\n",
    "| ----------- | ----------------  | ---------------------- |\n",
    "| Tier 1      | 0 - 8,000         | 5                      |\n",
    "| Tier 2      | 8,001 - 22,000    | 6                      |\n",
    "| Tier 3      | 22,001 - 30,000\t  | 7                      |\n",
    "| Tier 4      | 30,001+\t      \t  | 10                     |\n"
   ]
  },
  {
   "cell_type": "code",
   "execution_count": 28,
   "id": "f3565740",
   "metadata": {},
   "outputs": [],
   "source": [
    "#We define the function get_water_bill\n",
    "def get_water_bill(num_gallons):\n",
    "\n",
    "#We use the int() function so that it converts the float to an integer\n",
    "    if (num_gallons>=0) & (num_gallons<=8000):\n",
    "        price = (num_gallons/1000)*5\n",
    "    \n",
    "    elif (num_gallons>8000) & (num_gallons<=22000):\n",
    "        price = (num_gallons/1000)*6\n",
    "        \n",
    "    elif (num_gallons>22000) & (num_gallons<=30000):\n",
    "        price = (num_gallons/1000)*7\n",
    "        \n",
    "    else:\n",
    "        price = (num_gallons/1000)*10\n",
    "    \n",
    "    return int(price)"
   ]
  },
  {
   "cell_type": "code",
   "execution_count": 32,
   "id": "22aac839",
   "metadata": {},
   "outputs": [
    {
     "data": {
      "text/plain": [
       "66"
      ]
     },
     "execution_count": 32,
     "metadata": {},
     "output_type": "execute_result"
    }
   ],
   "source": [
    "get_water_bill(11000)"
   ]
  },
  {
   "cell_type": "code",
   "execution_count": 33,
   "id": "8ffcca60",
   "metadata": {},
   "outputs": [
    {
     "data": {
      "text/plain": [
       "400"
      ]
     },
     "execution_count": 33,
     "metadata": {},
     "output_type": "execute_result"
    }
   ],
   "source": [
    "get_water_bill(40000)"
   ]
  },
  {
   "cell_type": "markdown",
   "id": "407dd4b1",
   "metadata": {},
   "source": [
    "## 1.2 For Loop\n"
   ]
  },
  {
   "cell_type": "markdown",
   "id": "a22d8f5f",
   "metadata": {},
   "source": [
    "1. Do the following to create a program that simulates how websites ensure that everyone has a unique username.\n",
    "\n",
    "    - Make a list of five or more usernames called `current_users`. Make another list of five usernames called `new_users`. Make sure one or two of the new usernames are also in the `current_users` list.\n",
    "    - Loop through the `new_users` list to see if each new username has already been used. If it has, print a message that the person will need to enter a new username. If a username has not been used, print a message saying that the username is available.\n",
    "    - Make sure your comparison is case insensitive. If `John` has been used, `JOHN` should not be accepted."
   ]
  },
  {
   "cell_type": "code",
   "execution_count": 2,
   "id": "221edfa7",
   "metadata": {},
   "outputs": [],
   "source": [
    "current_users = ['eric', 'willie', 'admin', 'erin', 'Ever']\n",
    "new_users = ['sarah', 'Willie', 'PHIL', 'ever', 'Iona']"
   ]
  },
  {
   "cell_type": "code",
   "execution_count": 5,
   "id": "5412056d",
   "metadata": {},
   "outputs": [
    {
     "name": "stdout",
     "output_type": "stream",
     "text": [
      "username is avaible\n",
      "Enter a new surname\n",
      "username is avaible\n",
      "Enter a new surname\n",
      "username is avaible\n"
     ]
    }
   ],
   "source": [
    "for i in range(0,5): \n",
    "     if new_users[i] ==new_users[i] :\n",
    "        current_users[i] =current_users[i].lower()\n",
    "        new_users[i] =new_users[i].lower()\n",
    "for i in new_users:\n",
    "    if i in current_users:\n",
    "        print('Enter a new surname')\n",
    "    else:\n",
    "        print('username is avaible')"
   ]
  },
  {
   "cell_type": "markdown",
   "id": "dc1ded5e",
   "metadata": {},
   "source": [
    "2. Make a dictionary called `cities`. Use the names of three cities as keys in your dictionary. Create a dictionary of information about each city and include the country that the city is in, its approximate population, and one fact about that city. The keys for each city’s dictionary should be something like `country`, `population`, and `fact`. Print the name of each city and all of the information you have stored about it."
   ]
  },
  {
   "cell_type": "code",
   "execution_count": 3,
   "id": "f160e21e",
   "metadata": {},
   "outputs": [
    {
     "name": "stdout",
     "output_type": "stream",
     "text": [
      "santiago {'country': 'chile', 'population': 6158080, 'nearby mountains': 'andes'}\n",
      "talkeetna {'country': 'alaska', 'population': 876, 'nearby mountains': 'alaska range'}\n",
      "kathmandu {'country': 'nepal', 'population': 1003285, 'nearby mountains': 'himilaya'}\n"
     ]
    }
   ],
   "source": [
    "cities = {\n",
    "    'santiago': {\n",
    "        'country': 'chile',\n",
    "        'population': 6158080,\n",
    "        'nearby mountains': 'andes',\n",
    "        },\n",
    "    'talkeetna': {\n",
    "        'country': 'alaska',\n",
    "        'population': 876,\n",
    "        'nearby mountains': 'alaska range',\n",
    "        },\n",
    "    'kathmandu': {\n",
    "        'country': 'nepal',\n",
    "        'population': 1003285,\n",
    "        'nearby mountains': 'himilaya',\n",
    "        }\n",
    "    }\n",
    "\n",
    "for key, val in cities.items():\n",
    "    print( key, val )\n",
    "    "
   ]
  },
  {
   "cell_type": "markdown",
   "id": "ad3953ed",
   "metadata": {},
   "source": [
    "## 1.2 While Loop\n"
   ]
  },
  {
   "cell_type": "markdown",
   "id": "601bd820",
   "metadata": {},
   "source": [
    "1. How a game will stay active as long as the player has enough power? Make a variable called `power`, and set its initial value to 5. So, the player's power starts out at 5 and is allowed to keep playing as long as their power is over 0. \n",
    "\n",
    "    - Inside the while loop, print a message that reports the player's current power.\n",
    "    - Inside the while loop, write a statement that decreases the player's power.\n",
    "    - Outside the while loop, print a message reporting that the player has grown too weak, and that the game is over.\n",
    "\n",
    "\n"
   ]
  },
  {
   "cell_type": "code",
   "execution_count": 4,
   "id": "ab5741dc",
   "metadata": {},
   "outputs": [],
   "source": [
    "#First we create the variable power with the value 5.\n",
    "power = 5"
   ]
  },
  {
   "cell_type": "code",
   "execution_count": 5,
   "id": "fc88587b",
   "metadata": {},
   "outputs": [
    {
     "name": "stdout",
     "output_type": "stream",
     "text": [
      "5\n",
      "The player's power has decreased to 4\n",
      "4\n",
      "The player's power has decreased to 3\n",
      "3\n",
      "The player's power has decreased to 2\n",
      "2\n",
      "The player's power has decreased to 1\n",
      "1\n",
      "The player's power has decreased to 0\n",
      "The player has grown too weak, so the game is over.\n"
     ]
    }
   ],
   "source": [
    "#Now we need to create the loop\n",
    "\n",
    "#statement that need to be true.\n",
    "while power > 0:\n",
    "    print (power)\n",
    "    \n",
    "    #break code, that decreases the player's power\n",
    "    power -= 1\n",
    "    print(\"The player's power has decreased to\", power)\n",
    "\n",
    "print (\"The player has grown too weak, so the game is over.\")"
   ]
  }
 ],
 "metadata": {
  "kernelspec": {
   "display_name": "Python 3 (ipykernel)",
   "language": "python",
   "name": "python3"
  },
  "language_info": {
   "codemirror_mode": {
    "name": "ipython",
    "version": 3
   },
   "file_extension": ".py",
   "mimetype": "text/x-python",
   "name": "python",
   "nbconvert_exporter": "python",
   "pygments_lexer": "ipython3",
   "version": "3.9.12"
  }
 },
 "nbformat": 4,
 "nbformat_minor": 5
}

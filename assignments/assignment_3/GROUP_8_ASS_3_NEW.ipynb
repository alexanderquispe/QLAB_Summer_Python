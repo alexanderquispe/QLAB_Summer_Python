{
 "cells": [
  {
   "cell_type": "markdown",
   "id": "4131c565",
   "metadata": {},
   "source": [
    "1. Inspect this dataset `./_data/bogota_firms.xlsx` and show some descriptive statistics of it.\n",
    "2. Reshape the dataset from wide to long at year level. Drop columns if they are in Dollars. Keep columns from Operating revenue (Turnover) th LCU 2023 to the end, and the name of the firm.\n",
    "3. Rename the columns and use short names for each column. This new name should be shorter than 20 characters.\n",
    "4. Generate a dictionary with the definition of all the columns in your dataset.\n",
    "5. Generate a function named as calling_data that take as input the `name of the firm  or list of names (firm_name)` and `(start_year, end_year)`. The function should return a tuple with a dataframe with the same format as the one resulting from task 1-4, and your dictionary of columns. The function should work without `end_year`. It means it only takes `start_year`.\n",
    "6. Generate a class that do the same as the function, but has a method named as `descripitive` that gives you the mean, max, min, median, and rolling average ."
   ]
  },
  {
   "cell_type": "code",
   "execution_count": 29,
   "id": "c51748a0",
   "metadata": {},
   "outputs": [
    {
     "ename": "SyntaxError",
     "evalue": "invalid syntax (3141553307.py, line 1)",
     "output_type": "error",
     "traceback": [
      "\u001b[1;36m  File \u001b[1;32m\"C:\\Users\\Hp\\AppData\\Local\\Temp\\ipykernel_10220\\3141553307.py\"\u001b[1;36m, line \u001b[1;32m1\u001b[0m\n\u001b[1;33m    Ejercicio 5\u001b[0m\n\u001b[1;37m              ^\u001b[0m\n\u001b[1;31mSyntaxError\u001b[0m\u001b[1;31m:\u001b[0m invalid syntax\n"
     ]
    }
   ],
   "source": [
    " Ejercicio 5\n",
    "file_path = r\"C:\\Users\\Hp\\Documents\\GitHub\\QLAB_Summer_Python\\_data\\bogota_firms.xlsx\"\n",
    "df_Results = pd.read_excel(file_path, sheet_name=\"Results\")\n",
    "\n",
    "# Crear la función\n",
    "def obtener_data_empresa(data, company_name, start_year):\n",
    "    # Filtrar el DataFrame por el nombre de la empresa\n",
    "    empresa_df = data[data['Company name Latin alphabet'] == company_name]\n",
    "\n",
    "    if empresa_df.empty or empresa_df.iloc[:, 2:].eq('n.a.').all().all():\n",
    "        # La empresa no está en el DataFrame o todos los ingresos son 'n.a.', retorna un DataFrame vacío\n",
    "        return pd.DataFrame()\n",
    "\n",
    "    # Encontrar el año en que comenzaron a reportar los ingresos\n",
    "    ingresos_no_na = empresa_df.iloc[:, 2:].ne('n.a.')\n",
    "    start_year_found = ingresos_no_na.columns[ingresos_no_na.any(axis=0)].min()\n",
    "\n",
    "    if start_year_found is None or not start_year_found.isdigit():\n",
    "        # La empresa no tiene ingresos reportados o el año no es válido, retorna un DataFrame vacío\n",
    "        return pd.DataFrame()\n",
    "\n",
    "    # Obtener el Last avail. year\n",
    "    last_avail_year = empresa_df['Last avail. year'].values[0]\n",
    "\n",
    "    # Si no se proporciona start_year, utilizar el mínimo entre start_year y el año encontrado\n",
    "    start_year = min(start_year, int(start_year_found))\n",
    "\n",
    "    # Filtrar las columnas entre start_year y last_avail_year\n",
    "    cols_a_incluir = [col for col in empresa_df.columns if start_year <= int(col.split()[-1]) <= last_avail_year]\n",
    "\n",
    "    # Crear un nuevo DataFrame con las columnas seleccionadas\n",
    "    result_df = empresa_df[['Company name Latin alphabet', 'Last avail. year'] + cols_a_incluir]\n",
    "\n",
    "    return result_df\n",
    "\n",
    "# Uso de la función\n",
    "resultado = obtener_data_empresa(df, 'AGRET CARGA NACIONAL Y ESPECIAL S A S', 2023)\n",
    "print(resultado)"
   ]
  },
  {
   "cell_type": "code",
   "execution_count": 28,
   "id": "00e5a357",
   "metadata": {
    "scrolled": true
   },
   "outputs": [
    {
     "ename": "KeyError",
     "evalue": "'Firm Name'",
     "output_type": "error",
     "traceback": [
      "\u001b[1;31m---------------------------------------------------------------------------\u001b[0m",
      "\u001b[1;31mKeyError\u001b[0m                                  Traceback (most recent call last)",
      "\u001b[1;32m~\\anaconda3\\lib\\site-packages\\pandas\\core\\indexes\\base.py\u001b[0m in \u001b[0;36mget_loc\u001b[1;34m(self, key, method, tolerance)\u001b[0m\n\u001b[0;32m   3628\u001b[0m             \u001b[1;32mtry\u001b[0m\u001b[1;33m:\u001b[0m\u001b[1;33m\u001b[0m\u001b[1;33m\u001b[0m\u001b[0m\n\u001b[1;32m-> 3629\u001b[1;33m                 \u001b[1;32mreturn\u001b[0m \u001b[0mself\u001b[0m\u001b[1;33m.\u001b[0m\u001b[0m_engine\u001b[0m\u001b[1;33m.\u001b[0m\u001b[0mget_loc\u001b[0m\u001b[1;33m(\u001b[0m\u001b[0mcasted_key\u001b[0m\u001b[1;33m)\u001b[0m\u001b[1;33m\u001b[0m\u001b[1;33m\u001b[0m\u001b[0m\n\u001b[0m\u001b[0;32m   3630\u001b[0m             \u001b[1;32mexcept\u001b[0m \u001b[0mKeyError\u001b[0m \u001b[1;32mas\u001b[0m \u001b[0merr\u001b[0m\u001b[1;33m:\u001b[0m\u001b[1;33m\u001b[0m\u001b[1;33m\u001b[0m\u001b[0m\n",
      "\u001b[1;32m~\\anaconda3\\lib\\site-packages\\pandas\\_libs\\index.pyx\u001b[0m in \u001b[0;36mpandas._libs.index.IndexEngine.get_loc\u001b[1;34m()\u001b[0m\n",
      "\u001b[1;32m~\\anaconda3\\lib\\site-packages\\pandas\\_libs\\index.pyx\u001b[0m in \u001b[0;36mpandas._libs.index.IndexEngine.get_loc\u001b[1;34m()\u001b[0m\n",
      "\u001b[1;32mpandas\\_libs\\hashtable_class_helper.pxi\u001b[0m in \u001b[0;36mpandas._libs.hashtable.PyObjectHashTable.get_item\u001b[1;34m()\u001b[0m\n",
      "\u001b[1;32mpandas\\_libs\\hashtable_class_helper.pxi\u001b[0m in \u001b[0;36mpandas._libs.hashtable.PyObjectHashTable.get_item\u001b[1;34m()\u001b[0m\n",
      "\u001b[1;31mKeyError\u001b[0m: 'Firm Name'",
      "\nThe above exception was the direct cause of the following exception:\n",
      "\u001b[1;31mKeyError\u001b[0m                                  Traceback (most recent call last)",
      "\u001b[1;32m~\\AppData\\Local\\Temp\\ipykernel_10220\\2138344934.py\u001b[0m in \u001b[0;36m<module>\u001b[1;34m\u001b[0m\n\u001b[0;32m     19\u001b[0m \u001b[1;33m\u001b[0m\u001b[0m\n\u001b[0;32m     20\u001b[0m \u001b[1;31m# Llamar a la función con tu DataFrame y obtener el resultado\u001b[0m\u001b[1;33m\u001b[0m\u001b[1;33m\u001b[0m\u001b[0m\n\u001b[1;32m---> 21\u001b[1;33m \u001b[0mresulting_df\u001b[0m\u001b[1;33m,\u001b[0m \u001b[0mcolumn_definitions\u001b[0m \u001b[1;33m=\u001b[0m \u001b[0mcalling_data\u001b[0m\u001b[1;33m(\u001b[0m\u001b[0mdf_Results\u001b[0m\u001b[1;33m[\u001b[0m\u001b[1;34m'Firm Name'\u001b[0m\u001b[1;33m]\u001b[0m\u001b[1;33m,\u001b[0m \u001b[0mdf_Results\u001b[0m\u001b[1;33m[\u001b[0m\u001b[1;34m'Year_operacion'\u001b[0m\u001b[1;33m]\u001b[0m\u001b[1;33m)\u001b[0m\u001b[1;33m\u001b[0m\u001b[1;33m\u001b[0m\u001b[0m\n\u001b[0m\u001b[0;32m     22\u001b[0m \u001b[0mresulting_df\u001b[0m\u001b[1;33m.\u001b[0m\u001b[0mhead\u001b[0m\u001b[1;33m(\u001b[0m\u001b[1;36m3\u001b[0m\u001b[1;33m)\u001b[0m\u001b[1;33m\u001b[0m\u001b[1;33m\u001b[0m\u001b[0m\n",
      "\u001b[1;32m~\\anaconda3\\lib\\site-packages\\pandas\\core\\frame.py\u001b[0m in \u001b[0;36m__getitem__\u001b[1;34m(self, key)\u001b[0m\n\u001b[0;32m   3503\u001b[0m             \u001b[1;32mif\u001b[0m \u001b[0mself\u001b[0m\u001b[1;33m.\u001b[0m\u001b[0mcolumns\u001b[0m\u001b[1;33m.\u001b[0m\u001b[0mnlevels\u001b[0m \u001b[1;33m>\u001b[0m \u001b[1;36m1\u001b[0m\u001b[1;33m:\u001b[0m\u001b[1;33m\u001b[0m\u001b[1;33m\u001b[0m\u001b[0m\n\u001b[0;32m   3504\u001b[0m                 \u001b[1;32mreturn\u001b[0m \u001b[0mself\u001b[0m\u001b[1;33m.\u001b[0m\u001b[0m_getitem_multilevel\u001b[0m\u001b[1;33m(\u001b[0m\u001b[0mkey\u001b[0m\u001b[1;33m)\u001b[0m\u001b[1;33m\u001b[0m\u001b[1;33m\u001b[0m\u001b[0m\n\u001b[1;32m-> 3505\u001b[1;33m             \u001b[0mindexer\u001b[0m \u001b[1;33m=\u001b[0m \u001b[0mself\u001b[0m\u001b[1;33m.\u001b[0m\u001b[0mcolumns\u001b[0m\u001b[1;33m.\u001b[0m\u001b[0mget_loc\u001b[0m\u001b[1;33m(\u001b[0m\u001b[0mkey\u001b[0m\u001b[1;33m)\u001b[0m\u001b[1;33m\u001b[0m\u001b[1;33m\u001b[0m\u001b[0m\n\u001b[0m\u001b[0;32m   3506\u001b[0m             \u001b[1;32mif\u001b[0m \u001b[0mis_integer\u001b[0m\u001b[1;33m(\u001b[0m\u001b[0mindexer\u001b[0m\u001b[1;33m)\u001b[0m\u001b[1;33m:\u001b[0m\u001b[1;33m\u001b[0m\u001b[1;33m\u001b[0m\u001b[0m\n\u001b[0;32m   3507\u001b[0m                 \u001b[0mindexer\u001b[0m \u001b[1;33m=\u001b[0m \u001b[1;33m[\u001b[0m\u001b[0mindexer\u001b[0m\u001b[1;33m]\u001b[0m\u001b[1;33m\u001b[0m\u001b[1;33m\u001b[0m\u001b[0m\n",
      "\u001b[1;32m~\\anaconda3\\lib\\site-packages\\pandas\\core\\indexes\\base.py\u001b[0m in \u001b[0;36mget_loc\u001b[1;34m(self, key, method, tolerance)\u001b[0m\n\u001b[0;32m   3629\u001b[0m                 \u001b[1;32mreturn\u001b[0m \u001b[0mself\u001b[0m\u001b[1;33m.\u001b[0m\u001b[0m_engine\u001b[0m\u001b[1;33m.\u001b[0m\u001b[0mget_loc\u001b[0m\u001b[1;33m(\u001b[0m\u001b[0mcasted_key\u001b[0m\u001b[1;33m)\u001b[0m\u001b[1;33m\u001b[0m\u001b[1;33m\u001b[0m\u001b[0m\n\u001b[0;32m   3630\u001b[0m             \u001b[1;32mexcept\u001b[0m \u001b[0mKeyError\u001b[0m \u001b[1;32mas\u001b[0m \u001b[0merr\u001b[0m\u001b[1;33m:\u001b[0m\u001b[1;33m\u001b[0m\u001b[1;33m\u001b[0m\u001b[0m\n\u001b[1;32m-> 3631\u001b[1;33m                 \u001b[1;32mraise\u001b[0m \u001b[0mKeyError\u001b[0m\u001b[1;33m(\u001b[0m\u001b[0mkey\u001b[0m\u001b[1;33m)\u001b[0m \u001b[1;32mfrom\u001b[0m \u001b[0merr\u001b[0m\u001b[1;33m\u001b[0m\u001b[1;33m\u001b[0m\u001b[0m\n\u001b[0m\u001b[0;32m   3632\u001b[0m             \u001b[1;32mexcept\u001b[0m \u001b[0mTypeError\u001b[0m\u001b[1;33m:\u001b[0m\u001b[1;33m\u001b[0m\u001b[1;33m\u001b[0m\u001b[0m\n\u001b[0;32m   3633\u001b[0m                 \u001b[1;31m# If we have a listlike key, _check_indexing_error will raise\u001b[0m\u001b[1;33m\u001b[0m\u001b[1;33m\u001b[0m\u001b[0m\n",
      "\u001b[1;31mKeyError\u001b[0m: 'Firm Name'"
     ]
    }
   ],
   "source": [
    "import pandas as pd\n",
    "\n",
    "file_path = r\"C:\\Users\\Hp\\Documents\\GitHub\\QLAB_Summer_Python\\_data\\bogota_firms.xlsx\"\n",
    "df_Results = pd.read_excel(file_path, sheet_name=\"Results\")\n",
    "\n",
    "def calling_data(firm_name, start_year, end_year=None):\n",
    "    # Filtrar el DataFrame por nombre de empresa y rango de años\n",
    "    filtered_df = df_Results[df_Results['Firm Name'].isin(firm_name)]\n",
    "    \n",
    "    if end_year:\n",
    "        # Si se proporciona un año de fin, filtrar por rango de años\n",
    "        filtered_df = filtered_df[(filtered_df['Last avail. year'] >= start_year) & (filtered_df['Last avail. year'] <= end_year)]\n",
    "    else:\n",
    "        # Si no se proporciona un año de fin, filtrar por año de inicio\n",
    "        filtered_df = filtered_df[filtered_df['Year_operacion'] == start_year]\n",
    "\n",
    "    # Devolver el DataFrame resultante\n",
    "    return filtered_df, column_definitions\n",
    "\n",
    "# Llamar a la función con tu DataFrame y obtener el resultado\n",
    "resulting_df, column_definitions = calling_data(df_Results['Firm Name'], df_Results['Year_operacion'])\n",
    "resulting_df.head(3)"
   ]
  },
  {
   "cell_type": "code",
   "execution_count": 33,
   "id": "7fa69b9c",
   "metadata": {},
   "outputs": [
    {
     "name": "stdout",
     "output_type": "stream",
     "text": [
      "Empty DataFrame\n",
      "Columns: [Unnamed: 0, Company name Latin alphabet, Country ISO code, City\n",
      "Latin Alphabet, NACE Rev. 2, core code (4 digits), Consolidation code, Last avail. year, Operating revenue (Turnover)\n",
      "th LCU 2023, Operating revenue (Turnover)\n",
      "th USD 2023, Operating revenue (Turnover)\n",
      "th LCU 2022, Operating revenue (Turnover)\n",
      "th USD 2022, Operating revenue (Turnover)\n",
      "th LCU 2021, Operating revenue (Turnover)\n",
      "th USD 2021, Operating revenue (Turnover)\n",
      "th LCU 2020, Operating revenue (Turnover)\n",
      "th USD 2020, Operating revenue (Turnover)\n",
      "th LCU 2019, Operating revenue (Turnover)\n",
      "th USD 2019, Operating revenue (Turnover)\n",
      "th LCU 2018, Operating revenue (Turnover)\n",
      "th USD 2018, Operating revenue (Turnover)\n",
      "th LCU 2017, Operating revenue (Turnover)\n",
      "th USD 2017, Operating revenue (Turnover)\n",
      "th LCU 2016, Operating revenue (Turnover)\n",
      "th USD 2016, Operating revenue (Turnover)\n",
      "th LCU 2015, Operating revenue (Turnover)\n",
      "th USD 2015, Operating revenue (Turnover)\n",
      "th LCU 2014, Operating revenue (Turnover)\n",
      "th USD 2014, Operating revenue (Turnover)\n",
      "th LCU 2013, Operating revenue (Turnover)\n",
      "th USD 2013, Operating revenue (Turnover)\n",
      "th LCU 2012, Operating revenue (Turnover)\n",
      "th USD 2012, Operating revenue (Turnover)\n",
      "th LCU 2011, Operating revenue (Turnover)\n",
      "th USD 2011]\n",
      "Index: []\n",
      "\n",
      "[0 rows x 33 columns]\n",
      "{'Company name Latin alphabet': 'Firm Name', 'Last avail. year': 'Year', 'replace_this_with_correct_revenue_column_name': 'Revenue', 'replace_this_with_correct_profit_column_name': 'Profit'}\n"
     ]
    }
   ],
   "source": [
    "import pandas as pd\n",
    "\n",
    "def calling_data(firm_name, start_year):\n",
    "    # Read the Excel file\n",
    "    file_path = r\"C:\\Users\\Hp\\Documents\\GitHub\\QLAB_Summer_Python\\_data\\bogota_firms.xlsx\"\n",
    "    df_Results = pd.read_excel(file_path, sheet_name=\"Results\")\n",
    "\n",
    "    # Filter data based on firm_name and start_year\n",
    "    if isinstance(firm_name, list):\n",
    "        mask_firm = df_Results['Company name Latin alphabet'].isin(firm_name)\n",
    "    else:\n",
    "        mask_firm = df_Results['Company name Latin alphabet'] == firm_name\n",
    "\n",
    "    mask_year = df_Results['Last avail. year'] == start_year\n",
    "\n",
    "    filtered_df = df_Results[mask_firm & mask_year]\n",
    "\n",
    "    # Dictionary of columns\n",
    "    columns_dict = {\n",
    "        'Company name Latin alphabet': 'Firm Name',\n",
    "        'Last avail. year': 'Year',\n",
    "        'replace_this_with_correct_revenue_column_name': 'Revenue',\n",
    "        'replace_this_with_correct_profit_column_name': 'Profit',\n",
    "        # Add other columns as needed\n",
    "    }\n",
    "\n",
    "    return filtered_df, columns_dict\n",
    "firm_name = 'DINASTIA INVERSIONES S A'  # Replace with the desired firm name or list of names\n",
    "start_year = 2000\n",
    "\n",
    "result_df, columns_dict = calling_data(firm_name, start_year)\n",
    "print(result_df)\n",
    "print(columns_dict)"
   ]
  }
 ],
 "metadata": {
  "kernelspec": {
   "display_name": "Python 3 (ipykernel)",
   "language": "python",
   "name": "python3"
  },
  "language_info": {
   "codemirror_mode": {
    "name": "ipython",
    "version": 3
   },
   "file_extension": ".py",
   "mimetype": "text/x-python",
   "name": "python",
   "nbconvert_exporter": "python",
   "pygments_lexer": "ipython3",
   "version": "3.9.13"
  }
 },
 "nbformat": 4,
 "nbformat_minor": 5
}

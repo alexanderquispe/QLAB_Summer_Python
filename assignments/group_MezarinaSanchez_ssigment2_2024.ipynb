{
 "cells": [
  {
   "cell_type": "code",
   "execution_count": 39,
   "id": "7e02e31f",
   "metadata": {
    "scrolled": true
   },
   "outputs": [
    {
     "name": "stdout",
     "output_type": "stream",
     "text": [
      "The indices 0, 1, 4, 7 have np.nan values.\n"
     ]
    }
   ],
   "source": [
    "#Assigment 2\n",
    "##1.2. Lists\n",
    "\n",
    "###1.2.1.\n",
    "\n",
    "f_list\n",
    "# Given list\n",
    "f_list = [np.nan, np.nan, \"Austria\", \"Germany\", np.nan, \"Pakistan\", \"np.nan\", np.nan]\n",
    "\n",
    "# Find the indices of np.nan values\n",
    "nan_indices = [index for index, value in enumerate(f_list) if isinstance(value, (float, np.float64)) and np.isnan(value)]\n",
    "\n",
    "# Print the indices: Using f-strings, the print statement generates a message that includes the indices of the np.nan values found in the list. The join function is used to concatenate the indices into a comma-separated string for better readability. The result is printed to the console.\n",
    "print(f'The indices {\", \".join(map(str, nan_indices))} have np.nan values.')\n"
   ]
  },
  {
   "cell_type": "code",
   "execution_count": 40,
   "id": "6c757bab",
   "metadata": {},
   "outputs": [
    {
     "name": "stdout",
     "output_type": "stream",
     "text": [
      "[2, 3, 4, 5, 2, 3, 4, 5, 2, 3, 4, 5, 2, 3, 4, 5]\n"
     ]
    }
   ],
   "source": [
    "###1.2.2\n",
    "\n",
    "p2_list = [ 2 , 3, 4, 5 ]\n",
    "# Replicate the values four times, it called copy list.The * operator is used to replicate the elements of p2_list four times. This operation creates a new list called copy_list where the elements of p2_list are repeated in the order they appear.\n",
    "copy_list = p2_list * 4\n",
    "\n",
    "# Print the result\n",
    "print(copy_list)"
   ]
  },
  {
   "cell_type": "code",
   "execution_count": 27,
   "id": "bda97d26",
   "metadata": {},
   "outputs": [
    {
     "data": {
      "text/plain": [
       "8"
      ]
     },
     "execution_count": 27,
     "metadata": {},
     "output_type": "execute_result"
    }
   ],
   "source": [
    "###1.2.3.\n",
    "\n",
    "#The len() function is applied to the list f_list to determine the number of elements in the list. The result is stored in the variable list_length.\n",
    "len(f_list)\n"
   ]
  },
  {
   "cell_type": "code",
   "execution_count": 28,
   "id": "e52665dd",
   "metadata": {},
   "outputs": [
    {
     "name": "stdout",
     "output_type": "stream",
     "text": [
      "My teacher assistant is so boring.\n"
     ]
    }
   ],
   "source": [
    "###1.2.4.\n",
    "\n",
    "text1 = ['My', 'teacher', 'assistant', 'is', 'so', 'boring.']\n",
    "\n",
    "#The join() method is applied to concatenate the elements of text1 into a single string. The space character (' ') is used as a separator between the words.\n",
    "result_string = ' '.join(text1)\n",
    "\n",
    "# Print the result\n",
    "print(result_string)"
   ]
  },
  {
   "cell_type": "code",
   "execution_count": 29,
   "id": "7fbbac52",
   "metadata": {},
   "outputs": [
    {
     "name": "stdout",
     "output_type": "stream",
     "text": [
      "My teacher assistant is so, but is very funny.\n"
     ]
    }
   ],
   "source": [
    "###1.2.5.\n",
    "\n",
    "text1 = ['My', 'teacher', 'assistant', 'is', 'so', 'boring.']\n",
    "\n",
    "# Modify the sentence using join.Modify Excluding the last element (using text1[:-1]). The space character (' ') is used as a separator between the words. After joining, a comma and the phrase \", but is very funny.\" are appended to the result string.\n",
    "result_string = ' '.join(text1[:-1]) + ', but is very funny.'\n",
    "\n",
    "# Print the result\n",
    "print(result_string)\n"
   ]
  },
  {
   "cell_type": "code",
   "execution_count": 31,
   "id": "58496d0b",
   "metadata": {},
   "outputs": [
    {
     "name": "stdout",
     "output_type": "stream",
     "text": [
      "The max value of values1 is 86 and is located in the 0 index.\n",
      "The min value of values1 is 0 and is located in the 7 index.\n"
     ]
    }
   ],
   "source": [
    "###1.2.6.\n",
    "\n",
    "values1 = [86, 86, 85, 85, 85, 83, 23, 0, 84, 1]\n",
    "\n",
    "#The max() function is used to find the maximum value in the list, and index() is used to find its index in the list. \n",
    "max_value = max(values1)\n",
    "max_index = values1.index(max_value)\n",
    "\n",
    "#The min() function is used to find the minimum value in the list, and index() is used to find its index in the list.\n",
    "min_value = min(values1)\n",
    "min_index = values1.index(min_value)\n",
    "\n",
    "print(f\"The max value of values1 is {max_value} and is located in the {max_index} index.\")\n",
    "print(f\"The min value of values1 is {min_value} and is located in the {min_index} index.\")\n"
   ]
  },
  {
   "cell_type": "code",
   "execution_count": 56,
   "id": "d1a63675",
   "metadata": {},
   "outputs": [],
   "source": [
    "###1.2.7\n",
    "\n",
    "#The map() function is used along with a lambda function to apply the operation of splitting each full name and extracting the second part (first name). The result is a list of first names stored in the names variable.\n",
    "names = list(map(lambda x: x.split(\", \")[1], last_and_name))\n",
    "last_names = list(map(lambda x: x.split(\", \")[0], last_and_name))"
   ]
  },
  {
   "cell_type": "code",
   "execution_count": 57,
   "id": "a126b69a",
   "metadata": {},
   "outputs": [],
   "source": [
    "###1.2.8.\n",
    "\n",
    "emails = [\"cscornejo@pucp.edu.pe\", \"orellana.cn@pucp.edu.pe\", \"karina.morales@pucp.edu.pe\", \"a20083223@pucp.pe\", \"abel.camacho@pucp.pe\", \"mtintaya@pucp.edu.pe\", \"joselin.chavez@pucp.edu.pe\", \"a20105737@pucp.pe\", \"jfgomezc@pucp.pe\", \"afrania.palomino@pucp.pe\", \"luzon.bianca@pucp.pe\", \"adrian.suanaz@pucp.pe\", \"soto.y@pucp.edu.pe\", \"a20132766@pucp.pe\", \"andre.lama@pucp.edu.pe\", \"gustavo.meza@pucp.edu.pe\", \"pmlozada@pucp.edu.pe\", \"m.zambranoj@pucp.edu.pe\", \"nicolas.jacobs@pucp.edu.pe\", \"gvidal@pucp.edu.pe\", \"jane.torres@pucp.edu.pe\", \"m.lopez@pucp.edu.pe\", \"alejandro.boyco@pucp.edu.pe\", \"a20167070@pucp.edu.pe\", \"riega.stephy@pucp.edu.pe\", \"vlevanot@pucp.edu.pe\", \"sesquives@pucp.edu.pe\", \"perez.juanc@pucp.edu.pe\", \"mariana.otero@pucp.edu.pe\", \"aclavo@pucp.edu.pe\", \"a20182474@pucp.edu.pe\", \"josue.caldas@pucp.edu.pe\", \"fabio.salas@pucp.edu.pe\", \"fernanda.pizarro@pucp.edu.pe\", \"aquillatupa@pucp.pe\", \"\", \"\", \"\", \"\", \"\", \"f0873079@pucp.edu.pe\", \"\", \"\", \"\", \"\", \"\", \"\", \"\", \"\", \"\", \"\", \"flores.alexis@pucp.edu.pe\", ]\n",
    "\n",
    "#The filter() function is used to remove empty strings from the list of emails. Then, the map() function is applied with a lambda function to extract the last names by splitting each email at the dot (.) and taking the first part. The result is a list of last names stored in the last_names variable.\n",
    "last_names = list(map(lambda x: x.split(\" \")[0], filter(lambda x: x != \"\", emails)))\n"
   ]
  },
  {
   "cell_type": "code",
   "execution_count": 40,
   "id": "745b366b",
   "metadata": {},
   "outputs": [],
   "source": [
    "##1.3. Strings"
   ]
  },
  {
   "cell_type": "code",
   "execution_count": 30,
   "id": "ac277089",
   "metadata": {},
   "outputs": [
    {
     "name": "stdout",
     "output_type": "stream",
     "text": [
      "I am too old\n"
     ]
    }
   ],
   "source": [
    "###Question 1:\n",
    "\n",
    "# Split removes all the duplicated blank spaces in the given string.\n",
    "str1 = 'I am                            too                                                        old'\n",
    "words = str1.split()\n",
    "#Join removes extra whitespaces between words in the original string.\n",
    "new_str = ' '.join(words)\n",
    "\n",
    "print(new_str)\n"
   ]
  },
  {
   "cell_type": "code",
   "execution_count": 32,
   "id": "9a724757",
   "metadata": {},
   "outputs": [
    {
     "name": "stdout",
     "output_type": "stream",
     "text": [
      "The number of letters in the string is: 9\n"
     ]
    }
   ],
   "source": [
    "###Question 2:\n",
    "\n",
    "str1 = 'I am                            too                                                        old'\n",
    "# We created sum() function, that is applied to the resulting list of Boolean values.\n",
    "#The isalpha() method providing a True outcome if the character is a letter and False otherwise.\n",
    "\n",
    "num_letters = sum(char.isalpha() for char in str1)\n",
    "\n",
    "# Print\n",
    "print(f\"The number of letters in the string is: {num_letters}\")"
   ]
  },
  {
   "cell_type": "code",
   "execution_count": 50,
   "id": "f5c75309",
   "metadata": {},
   "outputs": [
    {
     "name": "stdout",
     "output_type": "stream",
     "text": [
      "The number of spaces in the corrected string is: 3\n"
     ]
    }
   ],
   "source": [
    "###Question 3:\n",
    "\n",
    "str1 = 'I am                            too                                                        old'\n",
    "words = str1.split()\n",
    "new_str = ' '.join(words)\n",
    "num_spaces = new_str.count(' ')\n",
    "\n",
    "print(f\"The number of spaces in the corrected string is: {num_spaces}\")\n"
   ]
  },
  {
   "cell_type": "code",
   "execution_count": 51,
   "id": "8e4db900",
   "metadata": {},
   "outputs": [
    {
     "name": "stdout",
     "output_type": "stream",
     "text": [
      "Positions of '@' in each email: [9, 11, 14, 9, 12, 8, 14, 9, 8, 16, 12, 13, 6, 9, 10, 12, 8, 11, 14, 6, 11, 7, 15, 9, 12, 8, 9, 11, 13, 6, 9, 12, 11, 16, 11]\n"
     ]
    }
   ],
   "source": [
    "###Question 4:\n",
    "\n",
    "emails = [\"cscornejo@pucp.edu.pe\", \"orellana.cn@pucp.edu.pe\", \"karina.morales@pucp.edu.pe\", \"a20083223@pucp.pe\", \"abel.camacho@pucp.pe\", \"mtintaya@pucp.edu.pe\", \"joselin.chavez@pucp.edu.pe\", \"a20105737@pucp.pe\", \"jfgomezc@pucp.pe\", \"afrania.palomino@pucp.pe\", \"luzon.bianca@pucp.pe\", \"adrian.suanaz@pucp.pe\", \"soto.y@pucp.edu.pe\", \"a20132766@pucp.pe\", \"andre.lama@pucp.edu.pe\", \"gustavo.meza@pucp.edu.pe\", \"pmlozada@pucp.edu.pe\", \"m.zambranoj@pucp.edu.pe\", \"nicolas.jacobs@pucp.edu.pe\", \"gvidal@pucp.edu.pe\", \"jane.torres@pucp.edu.pe\", \"m.lopez@pucp.edu.pe\", \"alejandro.boyco@pucp.edu.pe\", \"a20167070@pucp.edu.pe\", \"riega.stephy@pucp.edu.pe\", \"vlevanot@pucp.edu.pe\", \"sesquives@pucp.edu.pe\", \"perez.juanc@pucp.edu.pe\", \"mariana.otero@pucp.edu.pe\", \"aclavo@pucp.edu.pe\", \"a20182474@pucp.edu.pe\", \"josue.caldas@pucp.edu.pe\", \"fabio.salas@pucp.edu.pe\", \"fernanda.pizarro@pucp.edu.pe\", \"aquillatupa@pucp.pe\"]\n",
    "\n",
    "# The find() method is utilized to determine the position of the '@'. The outcome is a map object, and this is subsequently converted into a list using the list() function.\n",
    "at_positions = list(map(lambda email: email.find('@'), emails))\n",
    "\n",
    "#Print result\n",
    "print(\"Positions of '@' in each email:\", at_positions)\n"
   ]
  },
  {
   "cell_type": "code",
   "execution_count": 37,
   "id": "693ed39b",
   "metadata": {},
   "outputs": [
    {
     "name": "stdout",
     "output_type": "stream",
     "text": [
      "[True, True, True, False, False, True, True, False, False, False, False, False, True, False, True, True, True, True, True, True, True, True, True, True, True, True, True, True, True, True, True, True, True, True, False]\n"
     ]
    }
   ],
   "source": [
    "###Question 5\n",
    "emails = [\"cscornejo@pucp.edu.pe\", \"orellana.cn@pucp.edu.pe\", \"karina.morales@pucp.edu.pe\", \"a20083223@pucp.pe\", \"abel.camacho@pucp.pe\", \"mtintaya@pucp.edu.pe\", \"joselin.chavez@pucp.edu.pe\", \"a20105737@pucp.pe\", \"jfgomezc@pucp.pe\", \"afrania.palomino@pucp.pe\", \"luzon.bianca@pucp.pe\", \"adrian.suanaz@pucp.pe\", \"soto.y@pucp.edu.pe\", \"a20132766@pucp.pe\", \"andre.lama@pucp.edu.pe\", \"gustavo.meza@pucp.edu.pe\", \"pmlozada@pucp.edu.pe\", \"m.zambranoj@pucp.edu.pe\", \"nicolas.jacobs@pucp.edu.pe\", \"gvidal@pucp.edu.pe\", \"jane.torres@pucp.edu.pe\", \"m.lopez@pucp.edu.pe\", \"alejandro.boyco@pucp.edu.pe\", \"a20167070@pucp.edu.pe\", \"riega.stephy@pucp.edu.pe\", \"vlevanot@pucp.edu.pe\", \"sesquives@pucp.edu.pe\", \"perez.juanc@pucp.edu.pe\", \"mariana.otero@pucp.edu.pe\", \"aclavo@pucp.edu.pe\", \"a20182474@pucp.edu.pe\", \"josue.caldas@pucp.edu.pe\", \"fabio.salas@pucp.edu.pe\", \"fernanda.pizarro@pucp.edu.pe\", \"aquillatupa@pucp.pe\"]\n",
    "\n",
    "# The lambda function checks whether the substring \".edu.\" is present in each email address.\n",
    "#After that, we obtain The map function,this generates a view that is iterable and represents the outcomes of applying a function to each element in the list. To print the result, the map object is converted into a list using list().\n",
    "contains_edu = list(map(lambda email: \".edu.\" in email, emails))\n",
    "\n",
    "# Print result\n",
    "print(contains_edu)\n",
    "\n"
   ]
  },
  {
   "cell_type": "code",
   "execution_count": 38,
   "id": "855c72c4",
   "metadata": {},
   "outputs": [
    {
     "name": "stdout",
     "output_type": "stream",
     "text": [
      "Strings before the first dot: ['cscornejo@pucp', 'orellana', 'karina', 'a20083223@pucp', 'abel', 'mtintaya@pucp', 'joselin', 'a20105737@pucp', 'jfgomezc@pucp', 'afrania', 'luzon', 'adrian', 'soto', 'a20132766@pucp', 'andre', 'gustavo', 'pmlozada@pucp', 'm', 'nicolas', 'gvidal@pucp', 'jane', 'm', 'alejandro', 'a20167070@pucp', 'riega', 'vlevanot@pucp', 'sesquives@pucp', 'perez', 'mariana', 'aclavo@pucp', 'a20182474@pucp', 'josue', 'fabio', 'fernanda', 'aquillatupa@pucp']\n",
      "Number of them containing '@': 14\n"
     ]
    }
   ],
   "source": [
    "###Question 6\n",
    "emails = [\"cscornejo@pucp.edu.pe\", \"orellana.cn@pucp.edu.pe\", \"karina.morales@pucp.edu.pe\", \"a20083223@pucp.pe\", \"abel.camacho@pucp.pe\", \"mtintaya@pucp.edu.pe\", \"joselin.chavez@pucp.edu.pe\", \"a20105737@pucp.pe\", \"jfgomezc@pucp.pe\", \"afrania.palomino@pucp.pe\", \"luzon.bianca@pucp.pe\", \"adrian.suanaz@pucp.pe\", \"soto.y@pucp.edu.pe\", \"a20132766@pucp.pe\", \"andre.lama@pucp.edu.pe\", \"gustavo.meza@pucp.edu.pe\", \"pmlozada@pucp.edu.pe\", \"m.zambranoj@pucp.edu.pe\", \"nicolas.jacobs@pucp.edu.pe\", \"gvidal@pucp.edu.pe\", \"jane.torres@pucp.edu.pe\", \"m.lopez@pucp.edu.pe\", \"alejandro.boyco@pucp.edu.pe\", \"a20167070@pucp.edu.pe\", \"riega.stephy@pucp.edu.pe\", \"vlevanot@pucp.edu.pe\", \"sesquives@pucp.edu.pe\", \"perez.juanc@pucp.edu.pe\", \"mariana.otero@pucp.edu.pe\", \"aclavo@pucp.edu.pe\", \"a20182474@pucp.edu.pe\", \"josue.caldas@pucp.edu.pe\", \"fabio.salas@pucp.edu.pe\", \"fernanda.pizarro@pucp.edu.pe\", \"aquillatupa@pucp.pe\"]\n",
    "\n",
    "#Used map and split;the sum() function is used in combination with a generator expression to count the number of substrings in before_first_dot that contain the '@'.\n",
    "before_first_dot = list(map(lambda email: email.split('.')[0], emails))\n",
    "count_with_at = sum('@' in email for email in before_first_dot)\n",
    "\n",
    "#Print each result\n",
    "print(\"Strings before the first dot:\", before_first_dot)\n",
    "print(f\"Number of them containing '@': {count_with_at}\")\n"
   ]
  },
  {
   "cell_type": "code",
   "execution_count": null,
   "id": "907704a7",
   "metadata": {},
   "outputs": [],
   "source": [
    "##1.4"
   ]
  },
  {
   "cell_type": "code",
   "execution_count": 3,
   "id": "c41a89d5",
   "metadata": {},
   "outputs": [],
   "source": [
    "###1.4.1.\n",
    "import pandas as pd\n",
    "#The pd.read_csv() function is used to read the CSV file from the specified URL into a Pandas DataFrame.\n",
    "\n",
    "url = 'https://raw.githubusercontent.com/datasets/finance-vix/main/data/vix-daily.csv'\n",
    "df = pd.read_csv(url)\n"
   ]
  },
  {
   "cell_type": "code",
   "execution_count": 4,
   "id": "948ef0e2",
   "metadata": {},
   "outputs": [
    {
     "data": {
      "text/html": [
       "<div>\n",
       "<style scoped>\n",
       "    .dataframe tbody tr th:only-of-type {\n",
       "        vertical-align: middle;\n",
       "    }\n",
       "\n",
       "    .dataframe tbody tr th {\n",
       "        vertical-align: top;\n",
       "    }\n",
       "\n",
       "    .dataframe thead th {\n",
       "        text-align: right;\n",
       "    }\n",
       "</style>\n",
       "<table border=\"1\" class=\"dataframe\">\n",
       "  <thead>\n",
       "    <tr style=\"text-align: right;\">\n",
       "      <th></th>\n",
       "      <th>DATE</th>\n",
       "      <th>OPEN</th>\n",
       "      <th>HIGH</th>\n",
       "      <th>LOW</th>\n",
       "      <th>CLOSE</th>\n",
       "    </tr>\n",
       "  </thead>\n",
       "  <tbody>\n",
       "    <tr>\n",
       "      <th>0</th>\n",
       "      <td>01/02/1990</td>\n",
       "      <td>17.24</td>\n",
       "      <td>17.24</td>\n",
       "      <td>17.24</td>\n",
       "      <td>17.24</td>\n",
       "    </tr>\n",
       "    <tr>\n",
       "      <th>1</th>\n",
       "      <td>01/03/1990</td>\n",
       "      <td>18.19</td>\n",
       "      <td>18.19</td>\n",
       "      <td>18.19</td>\n",
       "      <td>18.19</td>\n",
       "    </tr>\n",
       "    <tr>\n",
       "      <th>2</th>\n",
       "      <td>01/04/1990</td>\n",
       "      <td>19.22</td>\n",
       "      <td>19.22</td>\n",
       "      <td>19.22</td>\n",
       "      <td>19.22</td>\n",
       "    </tr>\n",
       "    <tr>\n",
       "      <th>3</th>\n",
       "      <td>01/05/1990</td>\n",
       "      <td>20.11</td>\n",
       "      <td>20.11</td>\n",
       "      <td>20.11</td>\n",
       "      <td>20.11</td>\n",
       "    </tr>\n",
       "    <tr>\n",
       "      <th>4</th>\n",
       "      <td>01/08/1990</td>\n",
       "      <td>20.26</td>\n",
       "      <td>20.26</td>\n",
       "      <td>20.26</td>\n",
       "      <td>20.26</td>\n",
       "    </tr>\n",
       "  </tbody>\n",
       "</table>\n",
       "</div>"
      ],
      "text/plain": [
       "         DATE   OPEN   HIGH    LOW  CLOSE\n",
       "0  01/02/1990  17.24  17.24  17.24  17.24\n",
       "1  01/03/1990  18.19  18.19  18.19  18.19\n",
       "2  01/04/1990  19.22  19.22  19.22  19.22\n",
       "3  01/05/1990  20.11  20.11  20.11  20.11\n",
       "4  01/08/1990  20.26  20.26  20.26  20.26"
      ]
     },
     "execution_count": 4,
     "metadata": {},
     "output_type": "execute_result"
    }
   ],
   "source": [
    "###1.4.2.\n",
    "#Head is commonly used to display the first few rows of the DataFrame.\n",
    "df.head()"
   ]
  },
  {
   "cell_type": "code",
   "execution_count": 5,
   "id": "17046a5c",
   "metadata": {},
   "outputs": [
    {
     "data": {
      "text/html": [
       "<div>\n",
       "<style scoped>\n",
       "    .dataframe tbody tr th:only-of-type {\n",
       "        vertical-align: middle;\n",
       "    }\n",
       "\n",
       "    .dataframe tbody tr th {\n",
       "        vertical-align: top;\n",
       "    }\n",
       "\n",
       "    .dataframe thead th {\n",
       "        text-align: right;\n",
       "    }\n",
       "</style>\n",
       "<table border=\"1\" class=\"dataframe\">\n",
       "  <thead>\n",
       "    <tr style=\"text-align: right;\">\n",
       "      <th></th>\n",
       "      <th>OPEN</th>\n",
       "      <th>HIGH</th>\n",
       "      <th>LOW</th>\n",
       "      <th>CLOSE</th>\n",
       "    </tr>\n",
       "  </thead>\n",
       "  <tbody>\n",
       "    <tr>\n",
       "      <th>count</th>\n",
       "      <td>8580.000000</td>\n",
       "      <td>8580.000000</td>\n",
       "      <td>8580.000000</td>\n",
       "      <td>8580.000000</td>\n",
       "    </tr>\n",
       "    <tr>\n",
       "      <th>mean</th>\n",
       "      <td>19.664247</td>\n",
       "      <td>20.471935</td>\n",
       "      <td>18.912749</td>\n",
       "      <td>19.578019</td>\n",
       "    </tr>\n",
       "    <tr>\n",
       "      <th>std</th>\n",
       "      <td>7.978549</td>\n",
       "      <td>8.439456</td>\n",
       "      <td>7.469394</td>\n",
       "      <td>7.905835</td>\n",
       "    </tr>\n",
       "    <tr>\n",
       "      <th>min</th>\n",
       "      <td>9.010000</td>\n",
       "      <td>9.310000</td>\n",
       "      <td>8.560000</td>\n",
       "      <td>9.140000</td>\n",
       "    </tr>\n",
       "    <tr>\n",
       "      <th>25%</th>\n",
       "      <td>13.930000</td>\n",
       "      <td>14.537500</td>\n",
       "      <td>13.400000</td>\n",
       "      <td>13.880000</td>\n",
       "    </tr>\n",
       "    <tr>\n",
       "      <th>50%</th>\n",
       "      <td>17.790000</td>\n",
       "      <td>18.460000</td>\n",
       "      <td>17.205000</td>\n",
       "      <td>17.755000</td>\n",
       "    </tr>\n",
       "    <tr>\n",
       "      <th>75%</th>\n",
       "      <td>23.092500</td>\n",
       "      <td>23.960000</td>\n",
       "      <td>22.320000</td>\n",
       "      <td>22.990000</td>\n",
       "    </tr>\n",
       "    <tr>\n",
       "      <th>max</th>\n",
       "      <td>82.690000</td>\n",
       "      <td>89.530000</td>\n",
       "      <td>72.760000</td>\n",
       "      <td>82.690000</td>\n",
       "    </tr>\n",
       "  </tbody>\n",
       "</table>\n",
       "</div>"
      ],
      "text/plain": [
       "              OPEN         HIGH          LOW        CLOSE\n",
       "count  8580.000000  8580.000000  8580.000000  8580.000000\n",
       "mean     19.664247    20.471935    18.912749    19.578019\n",
       "std       7.978549     8.439456     7.469394     7.905835\n",
       "min       9.010000     9.310000     8.560000     9.140000\n",
       "25%      13.930000    14.537500    13.400000    13.880000\n",
       "50%      17.790000    18.460000    17.205000    17.755000\n",
       "75%      23.092500    23.960000    22.320000    22.990000\n",
       "max      82.690000    89.530000    72.760000    82.690000"
      ]
     },
     "execution_count": 5,
     "metadata": {},
     "output_type": "execute_result"
    }
   ],
   "source": [
    "df.describe()"
   ]
  },
  {
   "cell_type": "code",
   "execution_count": 14,
   "id": "acdd1ff2",
   "metadata": {},
   "outputs": [],
   "source": [
    "###1.4.3.\n",
    "\n",
    "def categorize_close(close):\n",
    "    if close < 20: #  This is the first condition. If the value of close is less than 20, the function returns 'Low'.\n",
    "        return 'Low' \n",
    "        return 'Medium'\n",
    "    else:\n",
    "        return 'High'\n",
    "    \n",
    "#The apply() method is used on the 'CLOSE' column of the DataFrame (df). It applies the categorize_close function to each 'CLOSE' value, creating a new column called 'Level' with the assigned categories.\n",
    "df['Level'] = df['CLOSE'].apply(categorize_close)\n",
    "#The 'DATE' column is converted to a datetime object using pd.to_datetime(). Then, the dt.year attribute is used to extract the year from each date, and a new column 'Year' is created in the DataFrame.df['Year'] = pd.to_datetime(df['DATE']).dt.year\n",
    "df['Year'] = pd.to_datetime(df['DATE']).dt.year"
   ]
  },
  {
   "cell_type": "code",
   "execution_count": 11,
   "id": "70282434",
   "metadata": {},
   "outputs": [
    {
     "name": "stdout",
     "output_type": "stream",
     "text": [
      "Index(['DATE', 'OPEN', 'HIGH', 'LOW', 'CLOSE', 'Level'], dtype='object')\n"
     ]
    }
   ],
   "source": [
    "print(df.columns)"
   ]
  },
  {
   "cell_type": "code",
   "execution_count": 36,
   "id": "31c10864",
   "metadata": {},
   "outputs": [
    {
     "name": "stdout",
     "output_type": "stream",
     "text": [
      "         DATE   OPEN   HIGH    LOW  CLOSE  Adj Close  Close Date  High  Low  \\\n",
      "0  01/02/1990  17.24  17.24  17.24  17.24        NaN    NaN  NaN   NaN  NaN   \n",
      "1  01/03/1990  18.19  18.19  18.19  18.19        NaN    NaN  NaN   NaN  NaN   \n",
      "2  01/04/1990  19.22  19.22  19.22  19.22        NaN    NaN  NaN   NaN  NaN   \n",
      "3  01/05/1990  20.11  20.11  20.11  20.11        NaN    NaN  NaN   NaN  NaN   \n",
      "4  01/08/1990  20.26  20.26  20.26  20.26        NaN    NaN  NaN   NaN  NaN   \n",
      "\n",
      "   Open  Volume  \n",
      "0   NaN     NaN  \n",
      "1   NaN     NaN  \n",
      "2   NaN     NaN  \n",
      "3   NaN     NaN  \n",
      "4   NaN     NaN  \n",
      "              OPEN         HIGH          LOW        CLOSE  Adj Close  Close  \\\n",
      "count  8580.000000  8580.000000  8580.000000  8580.000000        1.0    1.0   \n",
      "mean     19.664247    20.471935    18.912749    19.578019       18.0   18.0   \n",
      "std       7.978549     8.439456     7.469394     7.905835        NaN    NaN   \n",
      "min       9.010000     9.310000     8.560000     9.140000       18.0   18.0   \n",
      "25%      13.930000    14.537500    13.400000    13.880000       18.0   18.0   \n",
      "50%      17.790000    18.460000    17.205000    17.755000       18.0   18.0   \n",
      "75%      23.092500    23.960000    22.320000    22.990000       18.0   18.0   \n",
      "max      82.690000    89.530000    72.760000    82.690000       18.0   18.0   \n",
      "\n",
      "       High   Low  Open    Volume  \n",
      "count   1.0   1.0   1.0       1.0  \n",
      "mean   20.0  10.0  15.0  100000.0  \n",
      "std     NaN   NaN   NaN       NaN  \n",
      "min    20.0  10.0  15.0  100000.0  \n",
      "25%    20.0  10.0  15.0  100000.0  \n",
      "50%    20.0  10.0  15.0  100000.0  \n",
      "75%    20.0  10.0  15.0  100000.0  \n",
      "max    20.0  10.0  15.0  100000.0  \n"
     ]
    },
    {
     "name": "stderr",
     "output_type": "stream",
     "text": [
      "C:\\Users\\Maricielo\\AppData\\Local\\Temp\\ipykernel_16532\\2782873802.py:13: FutureWarning: The frame.append method is deprecated and will be removed from pandas in a future version. Use pandas.concat instead.\n",
      "  df = df.append(new_row, ignore_index=True)\n"
     ]
    }
   ],
   "source": [
    "###1.4.4\n",
    "import pandas as pd\n",
    "\n",
    "\n",
    "\n",
    "# Load the financial data into a DataFrame\n",
    "df = pd.read_csv('https://raw.githubusercontent.com/datasets/finance-vix/main/data/vix-daily.csv')\n",
    "\n",
    "# Add a new row with a date of your choice and fill the other columns with appropriate values\n",
    "new_row = {'Date': '2024-01-13', 'Open': 15.0, 'High': 20.0, 'Low': 10.0, 'Close': 18.0, 'Adj Close': 18.0, 'Volume': 100000}\n",
    "df = df.append(new_row, ignore_index=True)\n",
    "\n",
    "# Display the first five rows of the DataFrame\n",
    "print(df.head())\n",
    "\n",
    "# Display the summary statistics of the DataFrame\n",
    "print(df.describe())\n"
   ]
  },
  {
   "cell_type": "code",
   "execution_count": 35,
   "id": "f782e1ca",
   "metadata": {},
   "outputs": [
    {
     "data": {
      "text/plain": [
       "Level\n",
       "Low       1\n",
       "Medium    0\n",
       "High      0\n",
       "Name: Level, dtype: int64"
      ]
     },
     "execution_count": 35,
     "metadata": {},
     "output_type": "execute_result"
    }
   ],
   "source": [
    "###1.4.5 \n",
    "# The 'Date' column is converted to a datetime object using pd.to_datetime(). Then, the dt.year attribute is used to extract the year from each date, and a new column 'Year' is created in the DataFrame.\n",
    "df['Year'] = pd.to_datetime(df['Date']).dt.year\n",
    "df.groupby('Year')['Close'].mean()\n",
    "#The code involves defining bins and labels to categorize 'Close' values, using the bins list to set bin edges and the labels list to assign corresponding categories. The pd.cut() function is then applied to the 'Close' column of the DataFrame, creating a new 'Level' column that categorizes numerical values into specified bins.\n",
    "bins = [0, 20, 30, float('inf')]\n",
    "labels = ['Low', 'Medium', 'High']\n",
    "\n",
    "#The DataFrame is grouped by the 'Level' column, and the count() function is used to tally occurrences of each category. The resulting level_counts variable holds a Series detailing the count of occurrences for each category ('Low', 'Medium', 'High'), offering insights into the distribution of 'Close' values across different levels.\n",
    "df['Level'] = pd.cut(df['Close'], bins=bins, labels=labels)\n",
    "df.groupby('Level')['Level'].count()\n"
   ]
  },
  {
   "cell_type": "code",
   "execution_count": null,
   "id": "b5e032c4",
   "metadata": {},
   "outputs": [],
   "source": []
  }
 ],
 "metadata": {
  "kernelspec": {
   "display_name": "Python 3 (ipykernel)",
   "language": "python",
   "name": "python3"
  },
  "language_info": {
   "codemirror_mode": {
    "name": "ipython",
    "version": 3
   },
   "file_extension": ".py",
   "mimetype": "text/x-python",
   "name": "python",
   "nbconvert_exporter": "python",
   "pygments_lexer": "ipython3",
   "version": "3.9.13"
  }
 },
 "nbformat": 4,
 "nbformat_minor": 5
}

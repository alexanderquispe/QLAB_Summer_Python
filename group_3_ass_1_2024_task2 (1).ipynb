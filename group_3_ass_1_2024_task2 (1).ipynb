{
 "cells": [
  {
   "cell_type": "code",
   "execution_count": 58,
   "id": "e4ab19f7",
   "metadata": {},
   "outputs": [],
   "source": [
    "tuple1 = (\"Orange\", [10, 20, 30], (5, 15, 25))\n",
    "tuple2 = ([7, 8], [9, 1], [10, 7])"
   ]
  },
  {
   "cell_type": "code",
   "execution_count": 59,
   "id": "30348a75",
   "metadata": {},
   "outputs": [
    {
     "name": "stdout",
     "output_type": "stream",
     "text": [
      "10\n"
     ]
    }
   ],
   "source": [
    "#1. Print the first item of the second item of tuple1 object. Hint: Use indexing\n",
    "print(tuple1[1][0])"
   ]
  },
  {
   "cell_type": "code",
   "execution_count": 60,
   "id": "fb337093",
   "metadata": {},
   "outputs": [
    {
     "name": "stdout",
     "output_type": "stream",
     "text": [
      "25\n"
     ]
    }
   ],
   "source": [
    "#2. Print the last item of the tuple1 object.Hint: Use indexing\n",
    "print(tuple1[-1][2])"
   ]
  },
  {
   "cell_type": "code",
   "execution_count": 61,
   "id": "19a9cedb",
   "metadata": {},
   "outputs": [],
   "source": [
    "# 3. Change the value \"orange\" for \"pink grapefruit\". Comment the output. Hint: Is it possible?\n",
    "tuple1_list = list(tuple1)"
   ]
  },
  {
   "cell_type": "code",
   "execution_count": 62,
   "id": "29d6cc66",
   "metadata": {},
   "outputs": [
    {
     "data": {
      "text/plain": [
       "['Orange', [10, 20, 30], (5, 15, 25)]"
      ]
     },
     "execution_count": 62,
     "metadata": {},
     "output_type": "execute_result"
    }
   ],
   "source": [
    "tuple1_list"
   ]
  },
  {
   "cell_type": "code",
   "execution_count": 63,
   "id": "5770701c",
   "metadata": {},
   "outputs": [
    {
     "data": {
      "text/plain": [
       "list"
      ]
     },
     "execution_count": 63,
     "metadata": {},
     "output_type": "execute_result"
    }
   ],
   "source": [
    "type(tuple1_list)"
   ]
  },
  {
   "cell_type": "code",
   "execution_count": 64,
   "id": "12558d8e",
   "metadata": {},
   "outputs": [
    {
     "data": {
      "text/plain": [
       "tuple"
      ]
     },
     "execution_count": 64,
     "metadata": {},
     "output_type": "execute_result"
    }
   ],
   "source": [
    "type(tuple1)"
   ]
  },
  {
   "cell_type": "code",
   "execution_count": 65,
   "id": "f5dbdfa2",
   "metadata": {},
   "outputs": [
    {
     "data": {
      "text/plain": [
       "['Pink Grapefruit', [10, 20, 30], (5, 15, 25)]"
      ]
     },
     "execution_count": 65,
     "metadata": {},
     "output_type": "execute_result"
    }
   ],
   "source": [
    "tuple1_list[0] = \"Pink Grapefruit\"\n",
    "tuple1_list"
   ]
  },
  {
   "cell_type": "code",
   "execution_count": 66,
   "id": "d73782a4",
   "metadata": {},
   "outputs": [],
   "source": [
    "tuple1 = tuple(tuple1_list)"
   ]
  },
  {
   "cell_type": "code",
   "execution_count": 67,
   "id": "b96244f1",
   "metadata": {},
   "outputs": [
    {
     "data": {
      "text/plain": [
       "tuple"
      ]
     },
     "execution_count": 67,
     "metadata": {},
     "output_type": "execute_result"
    }
   ],
   "source": [
    "type(tuple1)"
   ]
  },
  {
   "cell_type": "code",
   "execution_count": 68,
   "id": "5f49e27f",
   "metadata": {},
   "outputs": [
    {
     "name": "stdout",
     "output_type": "stream",
     "text": [
      "('Pink Grapefruit', [10, 20, 30], (5, 15, 25))\n"
     ]
    }
   ],
   "source": [
    "print(tuple1)"
   ]
  },
  {
   "cell_type": "code",
   "execution_count": 69,
   "id": "af1aa145",
   "metadata": {},
   "outputs": [],
   "source": [
    "#Es posible cambiar pero debe estar en tipo \"list\" y luego volverlo a transformar en tipo \"tuple\""
   ]
  },
  {
   "cell_type": "code",
   "execution_count": 70,
   "id": "50f7648f",
   "metadata": {},
   "outputs": [
    {
     "name": "stdout",
     "output_type": "stream",
     "text": [
      "3\n"
     ]
    }
   ],
   "source": [
    "#4. Print the length of tuple1. Hint: Length function\n",
    "print(len(tuple1))"
   ]
  },
  {
   "cell_type": "code",
   "execution_count": 74,
   "id": "5c0654b4",
   "metadata": {},
   "outputs": [],
   "source": [
    "#5. Sum all the elements of tuple2 and describe your steps and explain each of them. Hint: Use map function.\n",
    "def sum_list(lst):\n",
    "    return sum(lst)"
   ]
  },
  {
   "cell_type": "code",
   "execution_count": 73,
   "id": "b0ea50e5",
   "metadata": {},
   "outputs": [],
   "source": [
    "# Uso map para utilizar la funcion sum_list con el iterable tuple2\n",
    "sum_result = list(map(sum_list, tuple2))"
   ]
  },
  {
   "cell_type": "code",
   "execution_count": 79,
   "id": "97c4f9ba",
   "metadata": {},
   "outputs": [
    {
     "data": {
      "text/plain": [
       "[15, 10, 17]"
      ]
     },
     "execution_count": 79,
     "metadata": {},
     "output_type": "execute_result"
    }
   ],
   "source": [
    "sum_result"
   ]
  },
  {
   "cell_type": "code",
   "execution_count": 84,
   "id": "d059c28d",
   "metadata": {},
   "outputs": [
    {
     "name": "stdout",
     "output_type": "stream",
     "text": [
      "la suma es: 42\n"
     ]
    }
   ],
   "source": [
    "# Print para el resultado total\n",
    "sum_total = sum(sum_result)\n",
    "print(\"la suma es:\",sum_total)"
   ]
  },
  {
   "cell_type": "code",
   "execution_count": 90,
   "id": "7075d4cb",
   "metadata": {},
   "outputs": [
    {
     "data": {
      "text/plain": [
       "([3, 4], [4, 0.5], [5, 3])"
      ]
     },
     "execution_count": 90,
     "metadata": {},
     "output_type": "execute_result"
    }
   ],
   "source": [
    "#6. Generate a new tuple object named as tuple3 with the half values of tuple2. This tuple should be similar as tuple2, tuple of lists. Hint: Use map funciont.\n",
    "tuple3 = tuple(map(lambda inner_list: [int(x / 2) if x / 2 >= 1 else x / 2 for x in inner_list], tuple2))\n",
    "tuple3"
   ]
  },
  {
   "cell_type": "code",
   "execution_count": null,
   "id": "5cf3809c",
   "metadata": {},
   "outputs": [],
   "source": []
  }
 ],
 "metadata": {
  "kernelspec": {
   "display_name": "Python 3 (ipykernel)",
   "language": "python",
   "name": "python3"
  },
  "language_info": {
   "codemirror_mode": {
    "name": "ipython",
    "version": 3
   },
   "file_extension": ".py",
   "mimetype": "text/x-python",
   "name": "python",
   "nbconvert_exporter": "python",
   "pygments_lexer": "ipython3",
   "version": "3.11.3"
  }
 },
 "nbformat": 4,
 "nbformat_minor": 5
}

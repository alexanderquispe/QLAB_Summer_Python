{
 "cells": [
  {
   "cell_type": "code",
   "execution_count": 3,
   "id": "22c1d793",
   "metadata": {},
   "outputs": [
    {
     "name": "stdout",
     "output_type": "stream",
     "text": [
      "[23, 35, 36, 56, 67]\n"
     ]
    }
   ],
   "source": [
    "lista1= [36, 35, 67, 23 ,56]\n",
    "lista1.sort()\n",
    "print (lista1)\n"
   ]
  },
  {
   "cell_type": "code",
   "execution_count": 6,
   "id": "b65aaec5",
   "metadata": {
    "scrolled": true
   },
   "outputs": [
    {
     "name": "stdout",
     "output_type": "stream",
     "text": [
      "['manzana', 'naranja', 'banana', 'durazno', 'pera']\n"
     ]
    }
   ],
   "source": [
    "lista2= ['manzana', 'naranja', 'banana', 'durazno']\n",
    "lista2.append('pera')\n",
    "print(lista2)"
   ]
  },
  {
   "cell_type": "code",
   "execution_count": 5,
   "id": "c95d580d",
   "metadata": {},
   "outputs": [
    {
     "name": "stdout",
     "output_type": "stream",
     "text": [
      "[23, 35, 36, 56, 67, 2, 37, 86, 54, 32, 2, 37, 86, 54, 32]\n"
     ]
    }
   ],
   "source": [
    "lista3= [2, 37, 86 ,54 ,32]\n",
    "lista1.extend(lista3)\n",
    "print (lista1)"
   ]
  },
  {
   "cell_type": "code",
   "execution_count": 8,
   "id": "8a21a585",
   "metadata": {
    "scrolled": true
   },
   "outputs": [
    {
     "name": "stdout",
     "output_type": "stream",
     "text": [
      "[86, 86, 67, 56, 54, 54, 37, 37, 36, 35, 32, 32, 23, 2, 2]\n"
     ]
    }
   ],
   "source": [
    "lista1.sort(reverse= True)\n",
    "print(lista1)"
   ]
  },
  {
   "cell_type": "code",
   "execution_count": 9,
   "id": "86c9c154",
   "metadata": {},
   "outputs": [
    {
     "name": "stdout",
     "output_type": "stream",
     "text": [
      "3\n"
     ]
    }
   ],
   "source": [
    "b = ['rojo', 'amarillo', 'azul']\n",
    "print( len( b ) )"
   ]
  },
  {
   "cell_type": "code",
   "execution_count": 10,
   "id": "c1ed8656",
   "metadata": {},
   "outputs": [
    {
     "name": "stdout",
     "output_type": "stream",
     "text": [
      "86\n",
      "2\n"
     ]
    }
   ],
   "source": [
    "print( max( lista1 ) )\n",
    "print( min( lista1 ) )"
   ]
  },
  {
   "cell_type": "code",
   "execution_count": null,
   "id": "e62ddb26",
   "metadata": {},
   "outputs": [],
   "source": []
  }
 ],
 "metadata": {
  "kernelspec": {
   "display_name": "Python 3 (ipykernel)",
   "language": "python",
   "name": "python3"
  },
  "language_info": {
   "codemirror_mode": {
    "name": "ipython",
    "version": 3
   },
   "file_extension": ".py",
   "mimetype": "text/x-python",
   "name": "python",
   "nbconvert_exporter": "python",
   "pygments_lexer": "ipython3",
   "version": "3.9.12"
  }
 },
 "nbformat": 4,
 "nbformat_minor": 5
}

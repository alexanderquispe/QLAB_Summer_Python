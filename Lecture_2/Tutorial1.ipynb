{
 "cells": [
  {
   "cell_type": "code",
   "execution_count": 10,
   "metadata": {},
   "outputs": [],
   "source": [
    "import pandas as pd\n",
    "import numpy as np"
   ]
  },
  {
   "cell_type": "code",
   "execution_count": 2,
   "metadata": {},
   "outputs": [],
   "source": [
    "df = pd.read_stata( r\"C:\\Users\\Anzony\\Documents\\GitHub\\Diplomado_PUCP\\_data/dime.dta\")"
   ]
  },
  {
   "cell_type": "code",
   "execution_count": 3,
   "metadata": {
    "scrolled": true
   },
   "outputs": [
    {
     "data": {
      "text/plain": [
       "False"
      ]
     },
     "execution_count": 3,
     "metadata": {},
     "output_type": "execute_result"
    }
   ],
   "source": [
    "# We know that our ID is not unique\n",
    "df.ID_05.is_unique"
   ]
  },
  {
   "cell_type": "code",
   "execution_count": 4,
   "metadata": {},
   "outputs": [],
   "source": [
    "# Drop all duplicates\n",
    "df2 = df.drop_duplicates().copy()"
   ]
  },
  {
   "cell_type": "code",
   "execution_count": 5,
   "metadata": {},
   "outputs": [
    {
     "name": "stdout",
     "output_type": "stream",
     "text": [
      "     ID_05      ID_06         ID_10 ID_10_CONFIRM ID_10_CORRECTED  INC_01  \\\n",
      "314   3730    Mubumwe  Rwamagana-35           Yes             NaN       0   \n",
      "829   3730  Nyakabuye  Rwamagana-35           Yes             NaN   80000   \n",
      "\n",
      "     INC_02  INC_03  INC_04  INC_06  ...  CRP08QA_C1_P1  CRP08QA_C1_P2  \\\n",
      "314       0       0       0       0  ...           80.0            NaN   \n",
      "829       0       0       0   50000  ...           50.0           80.0   \n",
      "\n",
      "     CRP08UA_C1_P1 CRP08UA_C1_P2 CRP09QA_C1_P1  CRP09QA_C1_P2  CRP09UA_C1_P1  \\\n",
      "314             kg           NaN           0.0            NaN            NaN   \n",
      "829             kg            kg           0.0           50.0            NaN   \n",
      "\n",
      "     CRP09UA_C1_P2  CRP10A_C1_P1 CRP10A_C1_P2  \n",
      "314            NaN           NaN          NaN  \n",
      "829             kg           NaN      10000.0  \n",
      "\n",
      "[2 rows x 35 columns]\n"
     ]
    }
   ],
   "source": [
    "# We see these duplicates are different in a lot of variables\n",
    "print(df2[df2.ID_05.duplicated( keep = False )])"
   ]
  },
  {
   "cell_type": "code",
   "execution_count": 32,
   "metadata": {},
   "outputs": [],
   "source": [
    "# Change ID for some rows\n",
    "df2.loc[314, 'ID_05'] = 3730 * 2"
   ]
  },
  {
   "cell_type": "code",
   "execution_count": 33,
   "metadata": {},
   "outputs": [
    {
     "data": {
      "text/html": [
       "<div>\n",
       "<style scoped>\n",
       "    .dataframe tbody tr th:only-of-type {\n",
       "        vertical-align: middle;\n",
       "    }\n",
       "\n",
       "    .dataframe tbody tr th {\n",
       "        vertical-align: top;\n",
       "    }\n",
       "\n",
       "    .dataframe thead th {\n",
       "        text-align: right;\n",
       "    }\n",
       "</style>\n",
       "<table border=\"1\" class=\"dataframe\">\n",
       "  <thead>\n",
       "    <tr style=\"text-align: right;\">\n",
       "      <th></th>\n",
       "      <th>ID_05</th>\n",
       "      <th>ID_06</th>\n",
       "      <th>ID_10</th>\n",
       "      <th>ID_10_CONFIRM</th>\n",
       "      <th>ID_10_CORRECTED</th>\n",
       "      <th>INC_01</th>\n",
       "      <th>INC_02</th>\n",
       "      <th>INC_03</th>\n",
       "      <th>INC_04</th>\n",
       "      <th>INC_06</th>\n",
       "      <th>...</th>\n",
       "      <th>cultivated_unit_P2</th>\n",
       "      <th>sold_unit_P1</th>\n",
       "      <th>sold_unit_P2</th>\n",
       "      <th>cultivated_kg_P1</th>\n",
       "      <th>cultivated_kg_P2</th>\n",
       "      <th>total_cultivated_kg</th>\n",
       "      <th>sold_kg_P1</th>\n",
       "      <th>sold_kg_P2</th>\n",
       "      <th>total_sold_kg</th>\n",
       "      <th>total_earnings_sell</th>\n",
       "    </tr>\n",
       "  </thead>\n",
       "  <tbody>\n",
       "  </tbody>\n",
       "</table>\n",
       "<p>0 rows × 47 columns</p>\n",
       "</div>"
      ],
      "text/plain": [
       "Empty DataFrame\n",
       "Columns: [ID_05, ID_06, ID_10, ID_10_CONFIRM, ID_10_CORRECTED, INC_01, INC_02, INC_03, INC_04, INC_06, INC_10, INC_11, INC_12, AA_01_1, AA_01_2, AA_02_1, AA_02_2, EXP_25_1, EXP_25_2, EXP_26_1, EXP_26_2, plant_crop_plot1, plant_crop_plot2, A_CROP_C1_P1, A_CROP_C1_P2, CRP08QA_C1_P1, CRP08QA_C1_P2, CRP08UA_C1_P1, CRP08UA_C1_P2, CRP09QA_C1_P1, CRP09QA_C1_P2, CRP09UA_C1_P1, CRP09UA_C1_P2, CRP10A_C1_P1, CRP10A_C1_P2, INC_total, cultivated_unit_P1, cultivated_unit_P2, sold_unit_P1, sold_unit_P2, cultivated_kg_P1, cultivated_kg_P2, total_cultivated_kg, sold_kg_P1, sold_kg_P2, total_sold_kg, total_earnings_sell]\n",
       "Index: []\n",
       "\n",
       "[0 rows x 47 columns]"
      ]
     },
     "execution_count": 33,
     "metadata": {},
     "output_type": "execute_result"
    }
   ],
   "source": [
    "# Now we do not have problems\n",
    "df2[df2.ID_05.duplicated( keep = False )]\n"
   ]
  },
  {
   "cell_type": "code",
   "execution_count": 34,
   "metadata": {
    "scrolled": true
   },
   "outputs": [
    {
     "data": {
      "text/plain": [
       "True"
      ]
     },
     "execution_count": 34,
     "metadata": {},
     "output_type": "execute_result"
    }
   ],
   "source": [
    "df2.ID_05.is_unique"
   ]
  },
  {
   "cell_type": "markdown",
   "metadata": {},
   "source": [
    "Table 1 - Income: descriptive statistics (DS) table showing each income source and total income."
   ]
  },
  {
   "cell_type": "code",
   "execution_count": 35,
   "metadata": {},
   "outputs": [],
   "source": [
    "inc_cols = df2.filter(regex=(\"INC_*\")).columns\n",
    "\n",
    "for col in inc_cols:\n",
    "    df2[f'{col}'] = df2[f'{col}'].replace( -88, np.nan )\n",
    "    df2[f'{col}'] = df2[f'{col}'].replace( -66, np.nan )"
   ]
  },
  {
   "cell_type": "code",
   "execution_count": 36,
   "metadata": {},
   "outputs": [],
   "source": [
    "# Sum all income sources\n",
    "df2['INC_total'] = df2.filter(regex=(\"INC_*\")).sum(axis = 1, skipna = False )"
   ]
  },
  {
   "cell_type": "code",
   "execution_count": 37,
   "metadata": {},
   "outputs": [
    {
     "data": {
      "text/html": [
       "<div>\n",
       "<style scoped>\n",
       "    .dataframe tbody tr th:only-of-type {\n",
       "        vertical-align: middle;\n",
       "    }\n",
       "\n",
       "    .dataframe tbody tr th {\n",
       "        vertical-align: top;\n",
       "    }\n",
       "\n",
       "    .dataframe thead th {\n",
       "        text-align: right;\n",
       "    }\n",
       "</style>\n",
       "<table border=\"1\" class=\"dataframe\">\n",
       "  <thead>\n",
       "    <tr style=\"text-align: right;\">\n",
       "      <th></th>\n",
       "      <th>count</th>\n",
       "      <th>mean</th>\n",
       "      <th>std</th>\n",
       "      <th>min</th>\n",
       "      <th>25%</th>\n",
       "      <th>50%</th>\n",
       "      <th>75%</th>\n",
       "      <th>max</th>\n",
       "    </tr>\n",
       "  </thead>\n",
       "  <tbody>\n",
       "    <tr>\n",
       "      <th>INC_01</th>\n",
       "      <td>994.0</td>\n",
       "      <td>50415.91</td>\n",
       "      <td>161461.57</td>\n",
       "      <td>0.0</td>\n",
       "      <td>0.0</td>\n",
       "      <td>0.0</td>\n",
       "      <td>41500.0</td>\n",
       "      <td>3080000.0</td>\n",
       "    </tr>\n",
       "    <tr>\n",
       "      <th>INC_02</th>\n",
       "      <td>995.0</td>\n",
       "      <td>57065.29</td>\n",
       "      <td>395754.68</td>\n",
       "      <td>0.0</td>\n",
       "      <td>0.0</td>\n",
       "      <td>0.0</td>\n",
       "      <td>25000.0</td>\n",
       "      <td>11200000.0</td>\n",
       "    </tr>\n",
       "    <tr>\n",
       "      <th>INC_03</th>\n",
       "      <td>996.0</td>\n",
       "      <td>2277.27</td>\n",
       "      <td>20367.26</td>\n",
       "      <td>0.0</td>\n",
       "      <td>0.0</td>\n",
       "      <td>0.0</td>\n",
       "      <td>0.0</td>\n",
       "      <td>500000.0</td>\n",
       "    </tr>\n",
       "    <tr>\n",
       "      <th>INC_04</th>\n",
       "      <td>996.0</td>\n",
       "      <td>26644.59</td>\n",
       "      <td>250147.73</td>\n",
       "      <td>0.0</td>\n",
       "      <td>0.0</td>\n",
       "      <td>0.0</td>\n",
       "      <td>0.0</td>\n",
       "      <td>6000000.0</td>\n",
       "    </tr>\n",
       "    <tr>\n",
       "      <th>INC_06</th>\n",
       "      <td>996.0</td>\n",
       "      <td>4777.01</td>\n",
       "      <td>30940.29</td>\n",
       "      <td>0.0</td>\n",
       "      <td>0.0</td>\n",
       "      <td>0.0</td>\n",
       "      <td>0.0</td>\n",
       "      <td>600000.0</td>\n",
       "    </tr>\n",
       "    <tr>\n",
       "      <th>INC_10</th>\n",
       "      <td>997.0</td>\n",
       "      <td>389.17</td>\n",
       "      <td>9832.38</td>\n",
       "      <td>0.0</td>\n",
       "      <td>0.0</td>\n",
       "      <td>0.0</td>\n",
       "      <td>0.0</td>\n",
       "      <td>300000.0</td>\n",
       "    </tr>\n",
       "    <tr>\n",
       "      <th>INC_11</th>\n",
       "      <td>992.0</td>\n",
       "      <td>65858.86</td>\n",
       "      <td>398896.39</td>\n",
       "      <td>0.0</td>\n",
       "      <td>0.0</td>\n",
       "      <td>5000.0</td>\n",
       "      <td>50000.0</td>\n",
       "      <td>11200000.0</td>\n",
       "    </tr>\n",
       "    <tr>\n",
       "      <th>INC_12</th>\n",
       "      <td>995.0</td>\n",
       "      <td>47717.10</td>\n",
       "      <td>90796.39</td>\n",
       "      <td>0.0</td>\n",
       "      <td>0.0</td>\n",
       "      <td>0.0</td>\n",
       "      <td>60000.0</td>\n",
       "      <td>1053000.0</td>\n",
       "    </tr>\n",
       "    <tr>\n",
       "      <th>INC_total</th>\n",
       "      <td>988.0</td>\n",
       "      <td>510416.90</td>\n",
       "      <td>1353091.22</td>\n",
       "      <td>0.0</td>\n",
       "      <td>80000.0</td>\n",
       "      <td>240000.0</td>\n",
       "      <td>506300.0</td>\n",
       "      <td>22568000.0</td>\n",
       "    </tr>\n",
       "  </tbody>\n",
       "</table>\n",
       "</div>"
      ],
      "text/plain": [
       "           count       mean         std  min      25%       50%       75%  \\\n",
       "INC_01     994.0   50415.91   161461.57  0.0      0.0       0.0   41500.0   \n",
       "INC_02     995.0   57065.29   395754.68  0.0      0.0       0.0   25000.0   \n",
       "INC_03     996.0    2277.27    20367.26  0.0      0.0       0.0       0.0   \n",
       "INC_04     996.0   26644.59   250147.73  0.0      0.0       0.0       0.0   \n",
       "INC_06     996.0    4777.01    30940.29  0.0      0.0       0.0       0.0   \n",
       "INC_10     997.0     389.17     9832.38  0.0      0.0       0.0       0.0   \n",
       "INC_11     992.0   65858.86   398896.39  0.0      0.0    5000.0   50000.0   \n",
       "INC_12     995.0   47717.10    90796.39  0.0      0.0       0.0   60000.0   \n",
       "INC_total  988.0  510416.90  1353091.22  0.0  80000.0  240000.0  506300.0   \n",
       "\n",
       "                  max  \n",
       "INC_01      3080000.0  \n",
       "INC_02     11200000.0  \n",
       "INC_03       500000.0  \n",
       "INC_04      6000000.0  \n",
       "INC_06       600000.0  \n",
       "INC_10       300000.0  \n",
       "INC_11     11200000.0  \n",
       "INC_12      1053000.0  \n",
       "INC_total  22568000.0  "
      ]
     },
     "execution_count": 37,
     "metadata": {},
     "output_type": "execute_result"
    }
   ],
   "source": [
    "table1 = df2.filter(regex=(\"INC_*\")).describe().transpose().round(2)\n",
    "table1"
   ]
  },
  {
   "cell_type": "markdown",
   "metadata": {},
   "source": [
    "Table 2 - Agricultural production: For the three most commonly cultivated crops, display descriptive statistics for total quantity harvested, total quantity sold, and sales value"
   ]
  },
  {
   "cell_type": "code",
   "execution_count": 15,
   "metadata": {},
   "outputs": [
    {
     "name": "stdout",
     "output_type": "stream",
     "text": [
      "['50 Kg sack', '25 Kg sack', 'tons', '100 Kg sack', 'Bucket (5 kg): Imbegeti (5kg)', '10 kg basket: 10 kg Agatebo', 'Mironko (1.5 kg)', 'kg', '15 kg basket: 15 kg Agatebo', 'no info', 'Bucket (2.5kg): Imbegeti (2.5kg)']\n"
     ]
    }
   ],
   "source": [
    "# from categorical to string\n",
    "df2['CRP08UA_C1_P1'] = df2['CRP08UA_C1_P1'].astype( str )\n",
    "df2['CRP08UA_C1_P2'] = df2['CRP08UA_C1_P2'].astype( str )\n",
    "df2['CRP09UA_C1_P1'] = df2['CRP09UA_C1_P1'].astype( str )\n",
    "df2['CRP09UA_C1_P2'] = df2['CRP09UA_C1_P2'].astype( str )\n",
    "\n",
    "# replace nana string\n",
    "df2['CRP08UA_C1_P1'] = df2.CRP08UA_C1_P1.replace( \"nan\", \"no info\").copy()\n",
    "df2['CRP08UA_C1_P2'] = df2.CRP08UA_C1_P2.replace( \"nan\", \"no info\").copy()\n",
    "df2['CRP09UA_C1_P1'] = df2['CRP09UA_C1_P1'].replace( \"nan\", \"no info\").copy()\n",
    "df2['CRP09UA_C1_P2'] = df2['CRP09UA_C1_P2'].replace( \"nan\", \"no info\").copy()\n",
    "\n",
    "# get unique values\n",
    "units_P1 = df2.CRP08UA_C1_P1.unique().tolist()\n",
    "units_P2 = df2.CRP08UA_C1_P2.unique().tolist()\n",
    "units_P3 = df2.CRP09UA_C1_P1.unique().tolist()\n",
    "units_P4 = df2.CRP09UA_C1_P2.unique().tolist()\n",
    "\n",
    "# Get unique units of measure\n",
    "unique_unit = list(set(units_P1).union(set(units_P2)).union( set(units_P3) ).union(  set(units_P4) )  )\n",
    "print(unique_unit)\n",
    "\n",
    "# Generate unique metrics Kg\n",
    "replace_vals = [1.5,  1000, 10, 25, 100, np.nan,  5, 1, 50, 2.5, 2.5, 15]\n",
    "\n",
    "# replace string with values\n",
    "df2['cultivated_unit_P1'] = df2['CRP08UA_C1_P1'].copy()\n",
    "df2['cultivated_unit_P2'] = df2['CRP08UA_C1_P2'].copy()\n",
    "df2['sold_unit_P1'] = df2['CRP09UA_C1_P1'].copy()\n",
    "df2['sold_unit_P2'] = df2['CRP09UA_C1_P2'].copy()\n",
    "for str_unit, val_unit in zip( unique_unit, replace_vals ):\n",
    "    df2['cultivated_unit_P1'] = df2['cultivated_unit_P1'].replace(str_unit, val_unit )\n",
    "    df2['cultivated_unit_P2'] = df2['cultivated_unit_P2'].replace(str_unit, val_unit )\n",
    "    df2['sold_unit_P1'] = df2['sold_unit_P1'].replace(str_unit, val_unit )\n",
    "    df2['sold_unit_P2'] = df2['sold_unit_P2'].replace(str_unit, val_unit )"
   ]
  },
  {
   "cell_type": "code",
   "execution_count": 16,
   "metadata": {},
   "outputs": [],
   "source": [
    "# Change Nulls with zeros when hh do not cultivate\n",
    "for val in range(1,3):\n",
    "    filter1 = df2[f'plant_crop_plot{val}'] == 0\n",
    "    df2.loc[ filter1 , f'CRP10A_C1_P{val}'] = 0\n",
    "    df2.loc[ filter1 , f'CRP08QA_C1_P{val}'] = 0\n",
    "    df2.loc[ filter1 , f'CRP09QA_C1_P{val}'] = 0\n",
    "    df2.loc[ filter1 , f'cultivated_unit_P{val}'] = 0\n",
    "    df2.loc[ filter1 , f'sold_unit_P{val}'] = 0"
   ]
  },
  {
   "cell_type": "code",
   "execution_count": 17,
   "metadata": {},
   "outputs": [],
   "source": [
    "# Cultivated Kg\n",
    "df2['cultivated_kg_P1'] = df2['CRP08QA_C1_P1'] * df2['cultivated_unit_P1']\n",
    "df2['cultivated_kg_P2'] = df2['CRP08QA_C1_P2'] * df2['cultivated_unit_P2']\n",
    "df2['total_cultivated_kg'] = df2['cultivated_kg_P1']  + df2['cultivated_kg_P2']\n",
    "\n",
    "# No sales, no money\n",
    "filter1 = df2.CRP09QA_C1_P1 ==0\n",
    "df2.loc[filter1 , 'CRP10A_C1_P1'] = 0\n",
    "df2.loc[filter1 , 'sold_unit_P1'] = 0\n",
    "\n",
    "# No sales, no money\n",
    "filter1 = df2.CRP09QA_C1_P2 ==0\n",
    "df2.loc[filter1 , 'CRP10A_C1_P2'] = 0\n",
    "df2.loc[filter1 , 'sold_unit_P2'] = 0\n",
    "\n",
    "# Sold Kg\n",
    "df2['sold_kg_P1'] = df2['CRP09QA_C1_P1'] * df2['sold_unit_P1']\n",
    "df2['sold_kg_P2'] = df2['CRP09QA_C1_P2'] * df2['sold_unit_P2']\n",
    "df2['total_sold_kg'] = df2['sold_kg_P1']  + df2['sold_kg_P2']\n",
    "\n",
    "\n",
    "\n",
    "# Sales\n",
    "df2['total_earnings_sell'] = df2.filter(regex=(\"CRP10A*\")).sum(axis = 1,  skipna = False )"
   ]
  },
  {
   "cell_type": "markdown",
   "metadata": {},
   "source": [
    "Most Commonly cultivated crops: We define this metrics as the number of households that cultivate this crop.\n",
    "\n",
    "We want to count how many houswholds cultivate an specific crop"
   ]
  },
  {
   "cell_type": "code",
   "execution_count": 18,
   "metadata": {},
   "outputs": [
    {
     "name": "stdout",
     "output_type": "stream",
     "text": [
      "         crop  Total_Households\n",
      "5   Dry Beans             895.0\n",
      "1     Sorghum             195.0\n",
      "14      Maize              80.0\n"
     ]
    }
   ],
   "source": [
    "# N Households cultivate idcrop in Plot 1\n",
    "df_aux_p1 = df2.groupby('A_CROP_C1_P1' , as_index = False).ID_05.count() \\\n",
    "                .rename(columns = {'A_CROP_C1_P1' : 'crop', 'ID_05' : 'N_Households_1'} )\n",
    "# N Households cultivate idcrop in Plot 2\n",
    "df_aux_p2 = df2.groupby('A_CROP_C1_P2' , as_index = False).ID_05.count() \\\n",
    "                .rename(columns = {'A_CROP_C1_P2' : 'crop', 'ID_05' : 'N_Households_2'} )\n",
    "\n",
    "# Total households taking into account all crops\n",
    "dft = df_aux_p1.merge(df_aux_p2, on = 'crop', how = 'outer')\n",
    "\n",
    "# Get total\n",
    "dft['Total_Households'] = dft.filter(regex=(\"N_*\")).sum( axis = 1 )\n",
    "\n",
    "# Drop values\n",
    "df_crop_hh = dft.drop(['N_Households_2', 'N_Households_1'], axis = 1).copy()\n",
    "\n",
    "# Get the three most cultivated crops\n",
    "print(df_crop_hh.sort_values('Total_Households', ascending=False).head(3))\n",
    "\n",
    "crop_top3 = df_crop_hh.sort_values('Total_Households', ascending=False).head(3).crop.tolist()"
   ]
  },
  {
   "cell_type": "code",
   "execution_count": 19,
   "metadata": {},
   "outputs": [],
   "source": [
    "df2_P1 = df2[['ID_05', 'A_CROP_C1_P1','cultivated_kg_P1', 'sold_kg_P1', 'CRP10A_C1_P1']].copy()\n",
    "df2_P1.columns = ['id', 'crop', 'cultivated_kg', 'sold_kg', 'sold_value' ]\n",
    "df2_P1['p'] = 1"
   ]
  },
  {
   "cell_type": "code",
   "execution_count": 20,
   "metadata": {},
   "outputs": [],
   "source": [
    "df2_P2 = df2[['ID_05', 'A_CROP_C1_P2','cultivated_kg_P2', 'sold_kg_P2', 'CRP10A_C1_P2']].copy()\n",
    "df2_P2.columns = ['id', 'crop', 'cultivated_kg', 'sold_kg', 'sold_value' ]\n",
    "df2_P2['p'] = 2"
   ]
  },
  {
   "cell_type": "code",
   "execution_count": 26,
   "metadata": {},
   "outputs": [],
   "source": [
    "df_tb2 = pd.concat([df2_P1, df2_P2], axis = 0 )"
   ]
  },
  {
   "cell_type": "code",
   "execution_count": 27,
   "metadata": {},
   "outputs": [],
   "source": [
    "filter_crop = df_tb2.crop.isin( crop_top3 )"
   ]
  },
  {
   "cell_type": "code",
   "execution_count": 28,
   "metadata": {},
   "outputs": [
    {
     "data": {
      "text/html": [
       "<div>\n",
       "<style scoped>\n",
       "    .dataframe tbody tr th:only-of-type {\n",
       "        vertical-align: middle;\n",
       "    }\n",
       "\n",
       "    .dataframe tbody tr th {\n",
       "        vertical-align: top;\n",
       "    }\n",
       "\n",
       "    .dataframe thead th {\n",
       "        text-align: right;\n",
       "    }\n",
       "</style>\n",
       "<table border=\"1\" class=\"dataframe\">\n",
       "  <thead>\n",
       "    <tr style=\"text-align: right;\">\n",
       "      <th></th>\n",
       "      <th></th>\n",
       "      <th>cultivated_kg</th>\n",
       "      <th>sold_kg</th>\n",
       "      <th>sold_value</th>\n",
       "    </tr>\n",
       "    <tr>\n",
       "      <th>crop</th>\n",
       "      <th></th>\n",
       "      <th></th>\n",
       "      <th></th>\n",
       "      <th></th>\n",
       "    </tr>\n",
       "  </thead>\n",
       "  <tbody>\n",
       "    <tr>\n",
       "      <th rowspan=\"8\" valign=\"top\">Dry Beans</th>\n",
       "      <th>count</th>\n",
       "      <td>890.00</td>\n",
       "      <td>851.00</td>\n",
       "      <td>851.00</td>\n",
       "    </tr>\n",
       "    <tr>\n",
       "      <th>mean</th>\n",
       "      <td>1357.18</td>\n",
       "      <td>15.76</td>\n",
       "      <td>5330.69</td>\n",
       "    </tr>\n",
       "    <tr>\n",
       "      <th>std</th>\n",
       "      <td>30197.30</td>\n",
       "      <td>48.05</td>\n",
       "      <td>16707.13</td>\n",
       "    </tr>\n",
       "    <tr>\n",
       "      <th>min</th>\n",
       "      <td>-888.00</td>\n",
       "      <td>0.00</td>\n",
       "      <td>0.00</td>\n",
       "    </tr>\n",
       "    <tr>\n",
       "      <th>25%</th>\n",
       "      <td>18.00</td>\n",
       "      <td>0.00</td>\n",
       "      <td>0.00</td>\n",
       "    </tr>\n",
       "    <tr>\n",
       "      <th>50%</th>\n",
       "      <td>40.00</td>\n",
       "      <td>0.00</td>\n",
       "      <td>0.00</td>\n",
       "    </tr>\n",
       "    <tr>\n",
       "      <th>75%</th>\n",
       "      <td>80.00</td>\n",
       "      <td>0.00</td>\n",
       "      <td>0.00</td>\n",
       "    </tr>\n",
       "    <tr>\n",
       "      <th>max</th>\n",
       "      <td>855000.00</td>\n",
       "      <td>600.00</td>\n",
       "      <td>185000.00</td>\n",
       "    </tr>\n",
       "    <tr>\n",
       "      <th rowspan=\"8\" valign=\"top\">Maize</th>\n",
       "      <th>count</th>\n",
       "      <td>80.00</td>\n",
       "      <td>72.00</td>\n",
       "      <td>72.00</td>\n",
       "    </tr>\n",
       "    <tr>\n",
       "      <th>mean</th>\n",
       "      <td>119.34</td>\n",
       "      <td>67.13</td>\n",
       "      <td>19092.36</td>\n",
       "    </tr>\n",
       "    <tr>\n",
       "      <th>std</th>\n",
       "      <td>230.08</td>\n",
       "      <td>110.33</td>\n",
       "      <td>38103.11</td>\n",
       "    </tr>\n",
       "    <tr>\n",
       "      <th>min</th>\n",
       "      <td>-888.00</td>\n",
       "      <td>0.00</td>\n",
       "      <td>0.00</td>\n",
       "    </tr>\n",
       "    <tr>\n",
       "      <th>25%</th>\n",
       "      <td>22.50</td>\n",
       "      <td>0.00</td>\n",
       "      <td>0.00</td>\n",
       "    </tr>\n",
       "    <tr>\n",
       "      <th>50%</th>\n",
       "      <td>75.00</td>\n",
       "      <td>25.00</td>\n",
       "      <td>6750.00</td>\n",
       "    </tr>\n",
       "    <tr>\n",
       "      <th>75%</th>\n",
       "      <td>150.00</td>\n",
       "      <td>100.00</td>\n",
       "      <td>20000.00</td>\n",
       "    </tr>\n",
       "    <tr>\n",
       "      <th>max</th>\n",
       "      <td>1100.00</td>\n",
       "      <td>600.00</td>\n",
       "      <td>200000.00</td>\n",
       "    </tr>\n",
       "    <tr>\n",
       "      <th rowspan=\"8\" valign=\"top\">Sorghum</th>\n",
       "      <th>count</th>\n",
       "      <td>195.00</td>\n",
       "      <td>179.00</td>\n",
       "      <td>179.00</td>\n",
       "    </tr>\n",
       "    <tr>\n",
       "      <th>mean</th>\n",
       "      <td>14816.01</td>\n",
       "      <td>162.39</td>\n",
       "      <td>31498.27</td>\n",
       "    </tr>\n",
       "    <tr>\n",
       "      <th>std</th>\n",
       "      <td>155123.44</td>\n",
       "      <td>439.78</td>\n",
       "      <td>62967.23</td>\n",
       "    </tr>\n",
       "    <tr>\n",
       "      <th>min</th>\n",
       "      <td>-888.00</td>\n",
       "      <td>0.00</td>\n",
       "      <td>0.00</td>\n",
       "    </tr>\n",
       "    <tr>\n",
       "      <th>25%</th>\n",
       "      <td>50.00</td>\n",
       "      <td>0.75</td>\n",
       "      <td>25.50</td>\n",
       "    </tr>\n",
       "    <tr>\n",
       "      <th>50%</th>\n",
       "      <td>120.00</td>\n",
       "      <td>70.00</td>\n",
       "      <td>15000.00</td>\n",
       "    </tr>\n",
       "    <tr>\n",
       "      <th>75%</th>\n",
       "      <td>275.00</td>\n",
       "      <td>200.00</td>\n",
       "      <td>40000.00</td>\n",
       "    </tr>\n",
       "    <tr>\n",
       "      <th>max</th>\n",
       "      <td>1995000.00</td>\n",
       "      <td>5540.00</td>\n",
       "      <td>700000.00</td>\n",
       "    </tr>\n",
       "  </tbody>\n",
       "</table>\n",
       "</div>"
      ],
      "text/plain": [
       "                 cultivated_kg  sold_kg  sold_value\n",
       "crop                                               \n",
       "Dry Beans count         890.00   851.00      851.00\n",
       "          mean         1357.18    15.76     5330.69\n",
       "          std         30197.30    48.05    16707.13\n",
       "          min          -888.00     0.00        0.00\n",
       "          25%            18.00     0.00        0.00\n",
       "          50%            40.00     0.00        0.00\n",
       "          75%            80.00     0.00        0.00\n",
       "          max        855000.00   600.00   185000.00\n",
       "Maize     count          80.00    72.00       72.00\n",
       "          mean          119.34    67.13    19092.36\n",
       "          std           230.08   110.33    38103.11\n",
       "          min          -888.00     0.00        0.00\n",
       "          25%            22.50     0.00        0.00\n",
       "          50%            75.00    25.00     6750.00\n",
       "          75%           150.00   100.00    20000.00\n",
       "          max          1100.00   600.00   200000.00\n",
       "Sorghum   count         195.00   179.00      179.00\n",
       "          mean        14816.01   162.39    31498.27\n",
       "          std        155123.44   439.78    62967.23\n",
       "          min          -888.00     0.00        0.00\n",
       "          25%            50.00     0.75       25.50\n",
       "          50%           120.00    70.00    15000.00\n",
       "          75%           275.00   200.00    40000.00\n",
       "          max       1995000.00  5540.00   700000.00"
      ]
     },
     "execution_count": 28,
     "metadata": {},
     "output_type": "execute_result"
    }
   ],
   "source": [
    "df_tb2[filter_crop].drop(['p', 'id'], axis =1 ) \\\n",
    "        .groupby(['crop']).describe().stack().round(2)\n",
    "    "
   ]
  },
  {
   "cell_type": "markdown",
   "metadata": {},
   "source": [
    "A graph representing the data on flour consumption (the exact nature of the graph is at your discretion)."
   ]
  },
  {
   "cell_type": "code",
   "execution_count": 29,
   "metadata": {},
   "outputs": [],
   "source": [
    "import seaborn as sns"
   ]
  },
  {
   "cell_type": "code",
   "execution_count": 30,
   "metadata": {},
   "outputs": [],
   "source": [
    "import matplotlib.pyplot as plt"
   ]
  },
  {
   "cell_type": "code",
   "execution_count": 31,
   "metadata": {},
   "outputs": [
    {
     "data": {
      "text/plain": [
       "Text(0.5, 1.0, 'Consumption of floor in Households')"
      ]
     },
     "execution_count": 31,
     "metadata": {},
     "output_type": "execute_result"
    },
    {
     "data": {
      "image/png": "[encoded data removed]",
      "text/plain": [
       "<Figure size 432x288 with 1 Axes>"
      ]
     },
     "metadata": {
      "needs_background": "light"
     },
     "output_type": "display_data"
    }
   ],
   "source": [
    "sns.countplot(x=df[\"EXP_25_1\"])\n",
    "plt.xlabel( 'Number Of Days')\n",
    "plt.ylabel( 'Number Of Househods')\n",
    "plt.title( 'Consumption of floor in Households')"
   ]
  }
 ],
 "metadata": {
  "hide_input": false,
  "kernelspec": {
   "display_name": "Python 3 (ipykernel)",
   "language": "python",
   "name": "python3"
  },
  "language_info": {
   "codemirror_mode": {
    "name": "ipython",
    "version": 3
   },
   "file_extension": ".py",
   "mimetype": "text/x-python",
   "name": "python",
   "nbconvert_exporter": "python",
   "pygments_lexer": "ipython3",
   "version": "3.9.12"
  },
  "toc": {
   "base_numbering": 1,
   "nav_menu": {},
   "number_sections": true,
   "sideBar": true,
   "skip_h1_title": false,
   "title_cell": "Table of Contents",
   "title_sidebar": "Contents",
   "toc_cell": false,
   "toc_position": {},
   "toc_section_display": true,
   "toc_window_display": false
  }
 },
 "nbformat": 4,
 "nbformat_minor": 4
}

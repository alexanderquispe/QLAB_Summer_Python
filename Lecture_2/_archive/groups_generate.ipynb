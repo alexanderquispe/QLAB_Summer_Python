{
 "cells": [
  {
   "cell_type": "code",
   "execution_count": 1,
   "metadata": {},
   "outputs": [],
   "source": [
    "import numpy as np"
   ]
  },
  {
   "cell_type": "code",
   "execution_count": 31,
   "metadata": {},
   "outputs": [],
   "source": [
    "np.random.seed(123)\n",
    "students = np.arange( 1, 50 )"
   ]
  },
  {
   "cell_type": "code",
   "execution_count": 32,
   "metadata": {},
   "outputs": [],
   "source": [
    "original = np.arange( 0 , 49 ).tolist()\n",
    "results = []"
   ]
  },
  {
   "cell_type": "code",
   "execution_count": 33,
   "metadata": {},
   "outputs": [],
   "source": [
    "for i in range(10):\n",
    "    try:\n",
    "        values = np.random.choice( original, size=5, replace=False)\n",
    "    except:\n",
    "        values = np.random.choice( original, size=4, replace=False)\n",
    "    original = list(set(original).difference(values))\n",
    "    results.append( values )"
   ]
  },
  {
   "cell_type": "code",
   "execution_count": 24,
   "metadata": {},
   "outputs": [],
   "source": [
    "import random\n",
    "\n",
    "def chunks(l, n):\n",
    "    \"\"\"Yield successive n-sized chunks from l.\"\"\"\n",
    "    for i in range(0, len(l), n):\n",
    "        yield l[i:i + n]\n"
   ]
  },
  {
   "cell_type": "code",
   "execution_count": 32,
   "metadata": {},
   "outputs": [],
   "source": [
    "grupos = list(chunks( np.arange(0, 50), 5))"
   ]
  },
  {
   "cell_type": "code",
   "execution_count": 33,
   "metadata": {},
   "outputs": [],
   "source": [
    "import pandas as pd"
   ]
  },
  {
   "cell_type": "code",
   "execution_count": 34,
   "metadata": {},
   "outputs": [],
   "source": [
    "data1 = pd.read_excel( r\"C:\\Users\\Anzony\\Downloads\\ListaParticipantes_2022 Curso de Capac (1).xls\" )"
   ]
  },
  {
   "cell_type": "code",
   "execution_count": 35,
   "metadata": {},
   "outputs": [],
   "source": [
    "data1['Grupos'] = \"\" \n",
    "\n",
    "i = 1\n",
    "for gr in grupos:\n",
    "    data1.iloc[ gr, -1 ] = f\"Grupo {i}\"\n",
    "    i = i + 1"
   ]
  },
  {
   "cell_type": "code",
   "execution_count": 37,
   "metadata": {},
   "outputs": [],
   "source": [
    "data1.iloc[ 50, -1 ] = \"Grupo 1\"\n",
    "data1.iloc[ 51, -1 ] = \"Grupo 2\""
   ]
  },
  {
   "cell_type": "code",
   "execution_count": 67,
   "metadata": {},
   "outputs": [],
   "source": [
    "groups = data1.loc[:, [ 'Apellidos y nombres', 'Grupos' ]] \\\n",
    "                .assign(order= data1.groupby(['Grupos']).cumcount()) \\\n",
    "                .pivot( index = ['order'] , columns = ['Grupos']) \\\n",
    "                .replace( np.nan, \"\") \\\n",
    "                .iloc[:, [0, 2,  3, 4, 5, 6, 7, 8, 9, 1] ]\n"
   ]
  },
  {
   "cell_type": "code",
   "execution_count": 70,
   "metadata": {},
   "outputs": [],
   "source": [
    "col1, col2 = zip(*groups.columns)"
   ]
  },
  {
   "cell_type": "code",
   "execution_count": 72,
   "metadata": {},
   "outputs": [],
   "source": [
    "groups.columns = list(col2)"
   ]
  },
  {
   "cell_type": "code",
   "execution_count": 80,
   "metadata": {},
   "outputs": [],
   "source": [
    "groups.iloc[:, 0:5].to_html( r\"..\\_data/groups2022_2_pt1.html\", index = False )"
   ]
  },
  {
   "cell_type": "code",
   "execution_count": 83,
   "metadata": {},
   "outputs": [],
   "source": [
    "groups.iloc[:, 5:10].to_html( r\"..\\_data/groups2022_2_pt2.html\", index = False )"
   ]
  },
  {
   "cell_type": "code",
   "execution_count": 23,
   "metadata": {},
   "outputs": [
    {
     "data": {
      "text/plain": [
       "[array([13,  9, 22, 18, 42]),\n",
       " array([12, 17, 35, 47,  4]),\n",
       " array([30, 16, 32,  5, 11]),\n",
       " array([20,  2, 19, 43,  3]),\n",
       " array([28, 44, 33,  8, 39]),\n",
       " array([29, 45, 14, 23,  6]),\n",
       " array([38,  1, 27,  7, 48]),\n",
       " array([40, 25, 46, 41, 15]),\n",
       " array([ 0, 31, 21, 24, 26]),\n",
       " array([36, 37, 10, 34])]"
      ]
     },
     "execution_count": 23,
     "metadata": {},
     "output_type": "execute_result"
    }
   ],
   "source": [
    "results"
   ]
  }
 ],
 "metadata": {
  "hide_input": false,
  "kernelspec": {
   "display_name": "Python 3",
   "language": "python",
   "name": "python3"
  },
  "language_info": {
   "codemirror_mode": {
    "name": "ipython",
    "version": 3
   },
   "file_extension": ".py",
   "mimetype": "text/x-python",
   "name": "python",
   "nbconvert_exporter": "python",
   "pygments_lexer": "ipython3",
   "version": "3.8.6"
  },
  "toc": {
   "base_numbering": 1,
   "nav_menu": {},
   "number_sections": true,
   "sideBar": true,
   "skip_h1_title": false,
   "title_cell": "Table of Contents",
   "title_sidebar": "Contents",
   "toc_cell": false,
   "toc_position": {},
   "toc_section_display": true,
   "toc_window_display": false
  }
 },
 "nbformat": 4,
 "nbformat_minor": 4
}

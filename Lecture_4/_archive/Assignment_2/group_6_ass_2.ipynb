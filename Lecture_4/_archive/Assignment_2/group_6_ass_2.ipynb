{
 "cells": [
  {
   "cell_type": "markdown",
   "metadata": {},
   "source": [
    "# Group 6"
   ]
  },
  {
   "cell_type": "markdown",
   "metadata": {},
   "source": [
    "## Assignment 2"
   ]
  },
  {
   "cell_type": "code",
   "execution_count": 41,
   "metadata": {},
   "outputs": [],
   "source": [
    "import os\n",
    "import os\n",
    "import pickle\n",
    "import pandas as pd\n",
    "import numpy as np\n",
    "import urllib.request"
   ]
  },
  {
   "cell_type": "markdown",
   "metadata": {},
   "source": [
    "1. Import the `REC0111.sav`, `RE223132.sav` and `RE516171.sav` files and their variables and values labels from this path `\"../../_data/endes/2019\"`. The name of imported files should be named as `rec_1`, `rec_2` and `rec_3` for files `REC0111.sav`, `RE223132.sav` and `RE516171.sav` respectively. The name of the variable and value labels should be `var_labels1` and `value_labels1` for `rec1`, `var_labels2` and `value_labels2` for `rec2`, and `var_labels3` and `value_labels3` for `rec3`. **Hint: See the section 3.3.4 of [the lecture 3](https://github.com/alexanderquispe/Diplomado_PUCP/blob/main/Lecture_3/Lecture_3.ipynb)**"
   ]
  },
  {
   "cell_type": "code",
   "execution_count": 42,
   "metadata": {},
   "outputs": [
    {
     "data": {
      "text/plain": [
       "'C:\\\\Users\\\\ROSALYN\\\\Documents\\\\GitHub\\\\Diplomado_PUCP\\\\Lecture_4\\\\Assignment_2'"
      ]
     },
     "execution_count": 42,
     "metadata": {},
     "output_type": "execute_result"
    }
   ],
   "source": [
    "pwd"
   ]
  },
  {
   "cell_type": "code",
   "execution_count": 43,
   "metadata": {},
   "outputs": [],
   "source": [
    "rec_1 = pd.read_spss( r\"../_data/endes/2019/REC0111.sav\" )\n",
    "rec_2 = pd.read_spss( r\"../_data/endes/2019/RE223132.sav\" )\n",
    "rec_3 = pd.read_spss( r\"../_data/endes/2019/RE516171.sav\" )"
   ]
  },
  {
   "cell_type": "code",
   "execution_count": 44,
   "metadata": {},
   "outputs": [],
   "source": [
    "import savReaderWriter as sav"
   ]
  },
  {
   "cell_type": "code",
   "execution_count": 45,
   "metadata": {},
   "outputs": [],
   "source": [
    "with sav.SavHeaderReader( r\"../_data/endes/2019/REC0111.sav\", ioUtf8=True) as header:\n",
    "    metadata = header.all()\n",
    "    var_labels1 = metadata.varLabels\n",
    "    value_labels1 = metadata.valueLabels\n",
    "    rec_1.attrs[ 'var_labels1' ] = var_labels1\n",
    "    rec_1.attrs[ 'value_labels1' ] = value_labels1"
   ]
  },
  {
   "cell_type": "code",
   "execution_count": 56,
   "metadata": {},
   "outputs": [],
   "source": [
    "with sav.SavHeaderReader( r\"../_data/endes/2019/RE223132.sav\", ioUtf8=True) as header:\n",
    "    metadata = header.all()\n",
    "    var_labels2 = metadata.varLabels\n",
    "    value_labels2 = metadata.valueLabels\n",
    "    rec_2.attrs[ 'var_labels2' ] = var_labels2   \n",
    "    rec_2.attrs[ 'value_labels2' ] = value_labels2"
   ]
  },
  {
   "cell_type": "code",
   "execution_count": 57,
   "metadata": {},
   "outputs": [],
   "source": [
    "with sav.SavHeaderReader( r\"../_data/endes/2019/RE516171.sav\", ioUtf8=True) as header:\n",
    "    metadata = header.all()\n",
    "    var_labels3 = metadata.varLabels\n",
    "    value_labels3 = metadata.valueLabels \n",
    "    rec_3.attrs[ 'var_labels3' ] = var_labels3  \n",
    "    rec_3.attrs[ 'value_labels3' ] = value_labels3"
   ]
  },
  {
   "cell_type": "markdown",
   "metadata": {},
   "source": [
    "2. Select the following columns for each data set:\n",
    "|Data|Columns|\n",
    "|---|---|\n",
    "|rec1| CASEID, V000, V001, V002, V003, V004, V007, V008, V009, V010, V011, V012, V024, V102, V120, V121, V122, V123, V124, V125, V127, V133 |\n",
    "|rec2| CASEID, V201, V2018, V301, V302, ..., V323, V323A, V325A, V326, V327, V337, V359, V360, V361, V362, V363, V364, V367, V372, V372A, V375A, V376, V376A, V379, V380 |\n",
    "|rec3| CASEID, V501, V502, V503, V504, V505, V506, V507, V508, V509, V510, V511, V512, V513, V525, V613, V714, V715 |\n",
    "\n",
    "\n",
    "Additioanlly, you should update the variables and value labels objects. They must have information only for the selected columns. The new dataframes should be name as `rec1_1`, `rec2_1`, and `rec3_1`. The new varible labels objects should be named as `new_var_labels1`, `new_var_labels2`, and `new_var_labels3`. The new value labels objects should be named as `new_value_labels1`, `new_value_labels2`, and `new_value_labels3` **Hint: Use the `loc` and column names to filter, `for loop`,   and [this link](https://stackoverflow.com/questions/3420122/filter-dict-to-contain-only-certain-keys) to update the var and value dictionary.**"
   ]
  },
  {
   "cell_type": "code",
   "execution_count": 58,
   "metadata": {},
   "outputs": [],
   "source": [
    "selcol_rec_1=[\"CASEID\", \"V000\", \"V001\", \"V002\", \"V003\", \"V004\", \"V007\", \"V008\", \"V009\", \"V010\", \"V011\", \"V012\", \"V024\", \"V102\", \"V120\", \"V121\", \"V122\", \"V123\",\"V124\", \"V125\", \"V127\", \"V133\"]"
   ]
  },
  {
   "cell_type": "code",
   "execution_count": 59,
   "metadata": {},
   "outputs": [],
   "source": [
    "selcol_rec_2=[\"CASEID\", \"V201\", \"V218\", \"V301\", \"V302\", \"V323\", \"V323A\", \"V325A\", \"V326\", \"V327\", \"V337\", \"V359\", \"V360\", \"V361\", \"V362\", \"V363\", \"V364\", \"V367\", \"V372\", \"V372A\", \"V375A\", \"V376\", \"V376A\", \"V379\", \"V380\"]"
   ]
  },
  {
   "cell_type": "code",
   "execution_count": 60,
   "metadata": {},
   "outputs": [],
   "source": [
    "selcol_rec_3=[\"CASEID\", \"V501\", \"V502\", \"V503\", \"V504\", \"V505\", \"V506\", \"V507\", \"V508\", \"V509\", \"V510\", \"V511\", \"V512\", \"V513\", \"V525\", \"V613\", \"V714\", \"V715\"]"
   ]
  },
  {
   "cell_type": "code",
   "execution_count": 61,
   "metadata": {},
   "outputs": [],
   "source": [
    "rec1_1 = rec_1.loc[ :, selcol_rec_1]\n",
    "\n",
    "rec2_1 = rec_2.loc[ :, selcol_rec_2]\n",
    "\n",
    "rec3_1 = rec_3.loc[ :, selcol_rec_3]"
   ]
  },
  {
   "cell_type": "code",
   "execution_count": 62,
   "metadata": {},
   "outputs": [],
   "source": [
    "new_var_labels1 = { key: var_labels1[ key ] for key in selcol_rec_1 }\n",
    "new_value_labels1 = { key: value_labels1[ key ] for key in selcol_rec_1 if key in value_labels1.keys() }"
   ]
  },
  {
   "cell_type": "code",
   "execution_count": 63,
   "metadata": {},
   "outputs": [
    {
     "data": {
      "text/plain": [
       "{'CASEID': 'Identificación Cuestionario Individual',\n",
       " 'V000': 'Código y fase del país',\n",
       " 'V001': 'Conglomerado',\n",
       " 'V002': 'Número de vivienda',\n",
       " 'V003': 'Número de línea de entrevistada',\n",
       " 'V004': 'Unidad de área final',\n",
       " 'V007': 'Año de la entrevista',\n",
       " 'V008': 'Fecha de la entrevista, Codificación centenaria de meses (CMC)',\n",
       " 'V009': 'Mes de nacimiento de la entrevistada',\n",
       " 'V010': 'Año de nacimiento de la entrevistada',\n",
       " 'V011': 'Fecha de nacimiento, Codificación centenaria de meses (CMC)',\n",
       " 'V012': 'Edad actual - entrevistada',\n",
       " 'V024': 'Región',\n",
       " 'V102': 'Tipo de lugar de residencia',\n",
       " 'V120': 'En su hogar tiene: radio',\n",
       " 'V121': 'En su hogar tiene: televisión',\n",
       " 'V122': 'En su hogar tiene: refrigerador',\n",
       " 'V123': 'En su hogar tiene: bicicleta',\n",
       " 'V124': 'En su hogar tiene: motocicleta/motocar',\n",
       " 'V125': 'En su hogar tiene: coche/camión',\n",
       " 'V127': 'Material predominante del piso de la vivienda',\n",
       " 'V133': 'Educación en años simples'}"
      ]
     },
     "execution_count": 63,
     "metadata": {},
     "output_type": "execute_result"
    }
   ],
   "source": [
    "new_var_labels1"
   ]
  },
  {
   "cell_type": "code",
   "execution_count": 64,
   "metadata": {},
   "outputs": [
    {
     "data": {
      "text/plain": [
       "{'V024': {1.0: 'Amazonas',\n",
       "  2.0: 'Ancash',\n",
       "  3.0: 'Apurimac',\n",
       "  4.0: 'Arequipa',\n",
       "  5.0: 'Ayacucho',\n",
       "  6.0: 'Cajamarca',\n",
       "  7.0: 'Callao',\n",
       "  8.0: 'Cusco',\n",
       "  9.0: 'Huancavelica',\n",
       "  10.0: ' Huanuco',\n",
       "  11.0: ' Ica',\n",
       "  12.0: ' Junin',\n",
       "  13.0: ' La Libertad',\n",
       "  14.0: ' Lambayeque',\n",
       "  15.0: ' Lima',\n",
       "  16.0: ' Loreto',\n",
       "  17.0: ' Madre de Dios',\n",
       "  18.0: ' Moquegua',\n",
       "  19.0: ' Pasco',\n",
       "  20.0: ' Piura',\n",
       "  21.0: ' Puno',\n",
       "  22.0: ' San Martin',\n",
       "  23.0: ' Tacna',\n",
       "  24.0: ' Tumbes',\n",
       "  25.0: ' Ucayali'},\n",
       " 'V102': {1.0: 'Urbano', 2.0: 'Rural'},\n",
       " 'V120': {0.0: 'No', 1.0: 'Si', 7.0: 'No es residente habitual'},\n",
       " 'V121': {0.0: 'No', 1.0: 'Si', 7.0: 'No es residente habitual'},\n",
       " 'V122': {0.0: 'No', 1.0: 'Si', 7.0: 'No es residente habitual'},\n",
       " 'V123': {0.0: 'No', 1.0: 'Si', 7.0: 'No es residente habitual'},\n",
       " 'V124': {0.0: 'No', 1.0: 'Si', 7.0: 'No es residente habitual'},\n",
       " 'V125': {0.0: 'No', 1.0: 'Si', 7.0: 'No es residente habitual'},\n",
       " 'V127': {11.0: 'Tierra/arena',\n",
       "  21.0: 'Madera (entablados)',\n",
       "  31.0: 'Parquet o madera pulida',\n",
       "  32.0: 'Làminas asfálticas, vinílicos o similares',\n",
       "  33.0: 'Losetas, terrazos o similares',\n",
       "  34.0: 'Cemento/ladrillo',\n",
       "  96.0: 'Pona',\n",
       "  97.0: 'Otro(pona)'},\n",
       " 'V133': {97.0: 'Inconsistente'}}"
      ]
     },
     "execution_count": 64,
     "metadata": {},
     "output_type": "execute_result"
    }
   ],
   "source": [
    "new_value_labels1"
   ]
  },
  {
   "cell_type": "code",
   "execution_count": 65,
   "metadata": {},
   "outputs": [],
   "source": [
    "new_var_labels2 = { key: var_labels2[ key ] for key in selcol_rec_2 }\n",
    "new_value_labels2 = { key: value_labels2[ key ] for key in selcol_rec_2 if key in value_labels2.keys() }"
   ]
  },
  {
   "cell_type": "code",
   "execution_count": 66,
   "metadata": {},
   "outputs": [],
   "source": [
    "new_var_labels3 = { key: var_labels3[ key ] for key in selcol_rec_3 }\n",
    "new_value_labels3 = { key: value_labels3[ key ] for key in selcol_rec_3 if key in value_labels3.keys() }"
   ]
  },
  {
   "cell_type": "markdown",
   "metadata": {},
   "source": [
    "3. Generate a new column for `rec1_1` named as `year`. It should be equal to `2019`. Also, you must update this new variable for the `var_labels` dictionary. Generate a new key for `new_var_labels1` and the value for this key should be **\"Year of the survey\"** **Hint: Use `loc` and `update` method.**"
   ]
  },
  {
   "cell_type": "code",
   "execution_count": 67,
   "metadata": {},
   "outputs": [],
   "source": [
    "rec1_1['year'] = 2019"
   ]
  },
  {
   "cell_type": "code",
   "execution_count": 68,
   "metadata": {},
   "outputs": [],
   "source": [
    "new_var_labels1['year'] = \"Year of the survey\""
   ]
  },
  {
   "cell_type": "markdown",
   "metadata": {},
   "source": [
    "4. Merge `rec1_1`, `rec2_1`, and `rec3_1` using **CASEID**. Name this new object as `endes_2019`. **Hint: Use [this link](https://stackoverflow.com/questions/53645882/pandas-merging-101)**"
   ]
  },
  {
   "cell_type": "code",
   "execution_count": 69,
   "metadata": {},
   "outputs": [],
   "source": [
    "sub_endes_2019 = rec1_1.merge(     # dataframe A to be merged\n",
    "                 rec2_1,           # dataframe B to be merged with\n",
    "                 on = 'CASEID',    # by variable name\n",
    "                 how = 'left',     # keep A and complete with B\n",
    "                 validate = \"1:1\"  # Asign unique values (others: m:1, 1:m, m:m)\n",
    "                 )\n",
    "\n",
    "endes_2019    =  sub_endes_2019.merge(# dataframe A to be merged\n",
    "                 rec3_1,              # dataframe B to be merged with\n",
    "                 on = 'CASEID',       # by variable name\n",
    "                 how = 'left',        # keep A and complete with B\n",
    "                 validate = \"1:1\"     # Asign unique values (others: m:1, 1:m, m:m)\n",
    "                 )"
   ]
  },
  {
   "cell_type": "markdown",
   "metadata": {},
   "source": [
    "5. Unify all the `new_var_labels` in one object and `new_value_labels` in another one object. Name these two objects as `var_labels` and `value_labels`. Use them to generate new attributes for `endes_2019`. These attributes should be named as `var_labels` and `value_labels`. Your final output should be equal to `endes_2019_ta` object **Hint: Use `update` method.**"
   ]
  },
  {
   "cell_type": "code",
   "execution_count": 70,
   "metadata": {},
   "outputs": [],
   "source": [
    "# Base labels\n",
    "new_var_labels = new_var_labels1.copy()\n",
    "new_value_labels = new_value_labels1.copy()\n",
    "\n",
    "# Adding labels2\n",
    "new_var_labels.update( new_var_labels2 )\n",
    "new_value_labels.update( new_value_labels2 )\n",
    "\n",
    "# Adding labels3\n",
    "new_var_labels.update( new_var_labels3 )\n",
    "new_value_labels.update( new_value_labels3 )\n",
    "\n",
    "# Final labels\n",
    "var_labels = new_var_labels.copy()\n",
    "value_labels = new_value_labels.copy()\n",
    "\n",
    "# Generating atributes for endes_2019\n",
    "endes_2019.attrs[ 'var_labels' ] = var_labels\n",
    "endes_2019.attrs[ 'value_labels' ] = value_labels"
   ]
  },
  {
   "cell_type": "markdown",
   "metadata": {},
   "source": [
    "Checking if current output is similar to `endes_2019_ta`"
   ]
  },
  {
   "cell_type": "code",
   "execution_count": 71,
   "metadata": {},
   "outputs": [
    {
     "name": "stdout",
     "output_type": "stream",
     "text": [
      "Are var_labels the same for endes_2019 and endes_2019_ta? \t False\n",
      "Are value_labels the same for endes_2019 and endes_2019_ta? \t False\n"
     ]
    }
   ],
   "source": [
    "# Importing endes_2019_ta data\n",
    "output = urllib.request.urlopen(r'https://www.dropbox.com/s/gwcssinb1j9zr6s/endes_2019_ta.pkl?dl=1')\n",
    "endes_2019_ta = pickle.load( output )\n",
    "\n",
    "## Validation\n",
    "# Variables validation\n",
    "var_validation = endes_2019.attrs[ 'var_labels' ] == endes_2019_ta.attrs[ 'var_labels' ]\n",
    "print('Are var_labels the same for endes_2019 and endes_2019_ta? \\t', var_validation)\n",
    "# Values validation\n",
    "value_validation = endes_2019.attrs[ 'value_labels' ] == endes_2019_ta.attrs[ 'value_labels' ]\n",
    "print('Are value_labels the same for endes_2019 and endes_2019_ta? \\t', value_validation)"
   ]
  },
  {
   "cell_type": "markdown",
   "metadata": {},
   "source": [
    "6. Now, replicate your code of the prevoius sections but for years **2019, 2018, 2017, 2016, 2015**. Import the `REC0111.sav`, `RE223132.sav` and `RE516171.sav` files and their **variables and values labels** from this path `\"../../_data/endes/\"`. For this excersie you must use a for loop. This loop must iterate over **2019, 2018, 2017, 2016, 2015 folders** and import these files. All the files have the same name. You must store these files and their labels in a nested dictionary named as `all_data`. The keys of the dictionary should be named as `year_2019`, for example, and the keys of the nested dictionary should be `data`, `var_labels`, and `value_labels`. The output of this exercise should be equal to the `all_data_ta` object. **Hint: Use [this link](https://notebooks.githubusercontent.com/view/ipynb?browser=chrome&color_mode=auto&commit=4d6de78e00e7001f16bf6473c2eb7ce24fb611cd&device=unknown_device&enc_url=68747470733a2f2f7261772e67697468756275736572636f6e74656e742e636f6d2f616c6578616e6465727175697370652f4469706c6f6d61646f5f505543502f346436646537386530306537303031663136626636343733633265623763653234666236313163642f4c6563747572655f342f4c6563747572655f342e6970796e62&logged_in=true&nwo=alexanderquispe%2FDiplomado_PUCP&path=Lecture_4%2FLecture_4.ipynb&platform=windows&repository_id=427747212&repository_type=Repository&version=95#4.2.)**"
   ]
  },
  {
   "cell_type": "code",
   "execution_count": 75,
   "metadata": {},
   "outputs": [
    {
     "name": "stdout",
     "output_type": "stream",
     "text": [
      " we are at rec_1 data of 2015\n",
      " we are at rec_2 data of 2015\n",
      " we are at rec_3 data of 2015\n",
      " we are at year column part of 2015\n",
      " we are at merge part of 2015\n",
      " we are at labeling part of 2015\n",
      " we are at storing data part of 2015\n"
     ]
    },
    {
     "name": "stderr",
     "output_type": "stream",
     "text": [
      "<ipython-input-75-41d2f86829c5>:129: SettingWithCopyWarning: \n",
      "A value is trying to be set on a copy of a slice from a DataFrame.\n",
      "Try using .loc[row_indexer,col_indexer] = value instead\n",
      "\n",
      "See the caveats in the documentation: https://pandas.pydata.org/pandas-docs/stable/user_guide/indexing.html#returning-a-view-versus-a-copy\n",
      "  rec_1_selec['year'] = year\n"
     ]
    },
    {
     "name": "stdout",
     "output_type": "stream",
     "text": [
      " we are at rec_1 data of 2016\n",
      " we are at rec_2 data of 2016\n",
      " we are at rec_3 data of 2016\n",
      " we are at year column part of 2016\n",
      " we are at merge part of 2016\n",
      " we are at labeling part of 2016\n",
      " we are at storing data part of 2016\n",
      " we are at rec_1 data of 2017\n",
      " we are at rec_2 data of 2017\n",
      " we are at rec_3 data of 2017\n",
      " we are at year column part of 2017\n",
      " we are at merge part of 2017\n",
      " we are at labeling part of 2017\n",
      " we are at storing data part of 2017\n",
      " we are at rec_1 data of 2018\n",
      " we are at rec_2 data of 2018\n",
      " we are at rec_3 data of 2018\n",
      " we are at year column part of 2018\n",
      " we are at merge part of 2018\n",
      " we are at labeling part of 2018\n",
      " we are at storing data part of 2018\n",
      " we are at rec_1 data of 2019\n",
      " we are at rec_2 data of 2019\n",
      " we are at rec_3 data of 2019\n",
      " we are at year column part of 2019\n",
      " we are at merge part of 2019\n",
      " we are at labeling part of 2019\n",
      " we are at storing data part of 2019\n"
     ]
    }
   ],
   "source": [
    "all_data = {} # empty object to store results, in for loop\n",
    "\n",
    "## Defining lists of variables\n",
    "# List 1\n",
    "var_list_1 = [\"CASEID\", \"V000\", \"V001\", \"V002\", \"V003\",\n",
    "              \"V004\", \"V007\", \"V008\", \"V009\", \"V010\",\n",
    "              \"V011\", \"V012\", \"V024\", \"V102\",\"V120\",\n",
    "              \"V121\", \"V122\", \"V123\", \"V124\", \"V125\",\n",
    "              \"V127\", \"V133\"]\n",
    "\n",
    "# List 2    \n",
    "rec_2_aux = pd.read_spss( r\"../_data/endes/2019/RE223132.sav\" )\n",
    "\n",
    "var_list_2 = [\"CASEID\", \"V201\", \"V218\", \"V301\"] \\\n",
    "             + rec_2_aux.loc[ : , \"V302\":\"V323\"].columns.tolist() \\\n",
    "             + [\"V323A\", \"V325A\", \"V326\", \"V327\",\n",
    "              \"V337\", \"V359\", \"V360\", \"V361\", \"V362\",\n",
    "              \"V363\", \"V364\", \"V367\", \"V372\", \"V372A\",\n",
    "              \"V375A\", \"V376\", \"V376A\", \"V379\", \"V380\"]\n",
    "\n",
    "#List 3\n",
    "var_list_3 = [\"CASEID\", \"V501\", \"V502\", \"V503\",\"V504\",\n",
    "              \"V505\", \"V506\", \"V507\", \"V508\", \"V509\",\n",
    "              \"V510\", \"V511\", \"V512\", \"V513\", \"V525\",\n",
    "              \"V613\", \"V714\", \"V715\"]    \n",
    "\n",
    "## library for labeling with sav\n",
    "import savReaderWriter as sav\n",
    "\n",
    "for year in range( 2015, 2020 ):\n",
    "    \n",
    "    ## REC_1 data\n",
    "    # reading REC_1 data\n",
    "    rec_1_data = pd.read_spss( fr\"../_data/endes/{year}/REC0111.sav\" )\n",
    "    \n",
    "    # getting labels \n",
    "    with sav.SavHeaderReader( fr\"../_data/endes/{year}/REC0111.sav\", ioUtf8=True) as header:\n",
    "        metadata = header.all()\n",
    "        var_label1 = metadata.varLabels.copy() #use .copy to don´t drag the same object by iteration\n",
    "        value_label1 = metadata.valueLabels.copy()\n",
    "    \n",
    "    # getting the selected variables new data frame\n",
    "    if year == 2018: # V007 not foun in 2018 year, provisional solution with if statement\n",
    "        var_list_1 = [\"CASEID\", \"V000\", \"V001\", \"V002\", \"V003\",\n",
    "                      \"V004\", \"V008\", \"V009\", \"V010\",\n",
    "                      \"V011\", \"V012\", \"V024\", \"V102\",\"V120\",\n",
    "                      \"V121\", \"V122\", \"V123\", \"V124\", \"V125\",\n",
    "                      \"V127\", \"V133\"]\n",
    "    else:\n",
    "        var_list_1 = var_list_1\n",
    "        \n",
    "    rec_1_selec = rec_1_data[var_list_1]\n",
    "    \n",
    "    \n",
    "    # Labels\n",
    "    new_var_label1 = {} #empty objtects to store \"values\" from loop\n",
    "    new_value_label1 = {}\n",
    "\n",
    "    for key in var_list_1: # Loop by list\n",
    "        if key in var_label1: # Store if select var label exist\n",
    "            new_var_label1[f'{key}'] = var_label1[f'{key}']\n",
    "\n",
    "        if key in value_label1:# Store if select value label exist\n",
    "            new_value_label1[f'{key}'] = value_label1[f'{key}']\n",
    "    \n",
    "    # Print for error detection\n",
    "    print(f\" we are at rec_1 data of {year}\")\n",
    "    \n",
    "    \n",
    "    ## REC_2 data\n",
    "    # reading REC_2 data\n",
    "    rec_2_data = pd.read_spss( fr\"../_data/endes/{year}/RE223132.sav\" )\n",
    "    \n",
    "    # getting labels \n",
    "    with sav.SavHeaderReader( fr\"../_data/endes/{year}/RE223132.sav\", ioUtf8=True) as header:\n",
    "        metadata = header.all()\n",
    "        var_label2 = metadata.varLabels.copy() #use .copy to don´t drag the same object by iteration\n",
    "        value_label2 = metadata.valueLabels.copy()\n",
    "    \n",
    "    # getting the selected variables new data frame\n",
    "    rec_2_selec = rec_2_data[var_list_2]\n",
    "    \n",
    "    \n",
    "    # Labels\n",
    "    new_var_label2 = {} #empty objtects to store \"values\" from loop\n",
    "    new_value_label2 = {}\n",
    "\n",
    "    for key in var_list_2: # Loop by list\n",
    "        if key in var_label2: # Store if select var label exist\n",
    "            new_var_label2[f'{key}'] = var_label2[f'{key}']\n",
    "\n",
    "        if key in value_label2:# Store if select value label exist\n",
    "            new_value_label2[f'{key}'] = value_label2[f'{key}']\n",
    "    \n",
    "    # Print for error detection\n",
    "    print(f\" we are at rec_2 data of {year}\")\n",
    "    \n",
    "    \n",
    "    ## REC_3 data\n",
    "    # reading REC_3 data\n",
    "    rec_3_data = pd.read_spss( fr\"../_data/endes/{year}/RE516171.sav\" )\n",
    "    \n",
    "    # getting labels \n",
    "    with sav.SavHeaderReader( fr\"../_data/endes/{year}/RE516171.sav\", ioUtf8=True) as header:\n",
    "        metadata = header.all()\n",
    "        var_label3 = metadata.varLabels.copy() #use .copy to don´t drag the same object by iteration\n",
    "        value_label3 = metadata.valueLabels.copy()\n",
    "    \n",
    "    # getting the selected variables new data frame\n",
    "    rec_3_selec = rec_3_data[var_list_3]\n",
    "    \n",
    "    \n",
    "    # Labels\n",
    "    new_var_label3 = {} #empty objtects to store \"values\" from loop\n",
    "    new_value_label3 = {}\n",
    "\n",
    "    for key in var_list_3: # Loop by list\n",
    "        if key in var_label3: # Store if select var label exist\n",
    "            new_var_label3[f'{key}'] = var_label3[f'{key}']\n",
    "\n",
    "        if key in value_label3:# Store if select value label exist\n",
    "            new_value_label3[f'{key}'] = value_label3[f'{key}']\n",
    "            \n",
    "    # Print for error detection\n",
    "    print(f\" we are at rec_3 data of {year}\")\n",
    "    \n",
    "    ## Year column and label\n",
    "    # year column\n",
    "    rec_1_selec['year'] = year\n",
    "    # year variable label\n",
    "    new_var_label1['year'] = \"Year of the survey\"\n",
    "    # Print for error detection\n",
    "    print(f\" we are at year column part of {year}\")\n",
    "    \n",
    "    \n",
    "    ## Data merge\n",
    "    sub_endes  = rec_1_selec.merge(     # dataframe A to be merged\n",
    "                 rec_2_selec,           # dataframe B to be merged with\n",
    "                 on = 'CASEID',         # by variable name\n",
    "                 how = 'left',          # keep A and complete with B\n",
    "                 validate = \"1:1\"       # Asign unique values (others: m:1, 1:m, m:m)\n",
    "                 )\n",
    "\n",
    "    endes     =  sub_endes.merge(     # dataframe A to be merged\n",
    "                 rec_3_selec,              # dataframe B to be merged with\n",
    "                 on = 'CASEID',       # by variable name\n",
    "                 how = 'left',        # keep A and complete with B\n",
    "                 validate = \"1:1\"     # Asign unique values (others: m:1, 1:m, m:m)\n",
    "                 )\n",
    "    # Print for error detection\n",
    "    print(f\" we are at merge part of {year}\")\n",
    "    \n",
    "    \n",
    "    ## Labeling data\n",
    "    # Base labels\n",
    "    new_var_label = new_var_label1.copy()\n",
    "    new_value_label = new_value_label1.copy()\n",
    "\n",
    "    # Adding labels2\n",
    "    new_var_label.update( new_var_label2 )\n",
    "    new_value_label.update( new_value_label2 )\n",
    "\n",
    "    # Adding labels3\n",
    "    new_var_label.update( new_var_label3 )\n",
    "    new_value_label.update( new_value_label3 )\n",
    "\n",
    "    # Final labels\n",
    "    var_labels = new_var_label.copy()\n",
    "    value_labels = new_value_label.copy()\n",
    "    \n",
    "    # Print for error detection\n",
    "    print(f\" we are at labeling part of {year}\")\n",
    "\n",
    "    ## Storing data\n",
    "    store_values = {\"data\" : endes , \n",
    "                      \"var_labels\" : var_labels, \n",
    "                      \"value_labels\" : value_labels\n",
    "                    }\n",
    "    all_data[ f'year_{year}'] = store_values\n",
    "    # Print for error detection\n",
    "    print(f\" we are at storing data part of {year}\")"
   ]
  },
  {
   "cell_type": "markdown",
   "metadata": {},
   "source": [
    "Checking if current output is similar to `all_data_ta`"
   ]
  },
  {
   "cell_type": "code",
   "execution_count": 76,
   "metadata": {},
   "outputs": [
    {
     "name": "stdout",
     "output_type": "stream",
     "text": [
      "Uncommon keys between all_data and all_data_ta:  {}\n"
     ]
    }
   ],
   "source": [
    "# Importinga all_data_ta\n",
    "output = urllib.request.urlopen(r'https://www.dropbox.com/s/dqv1d9of2uo6hul/all_data_ta.pkl?dl=1')\n",
    "all_data_ta = pickle.load( output )\n",
    "\n",
    "# Test if all_data is iqual to all_data_ta\n",
    "# We are going to compare by keys, as long there are too much commons keys\n",
    "# let's test if there are any uncommon keys\n",
    "uncommon_pairs = dict()\n",
    "for key in all_data:\n",
    "    if (key in all_data_ta and all_data[key] != all_data[key]):\n",
    "        uncommon_pairs[key] = all_data[key]\n",
    "print('Uncommon keys between all_data and all_data_ta: ',uncommon_pairs)\n",
    "# If you look for common key pairs you can try it by uncoment the next code, \n",
    "# this gives us a print of all keys, this is similar to print data_all or data_all_ta:\n",
    "#common_pairs = dict()\n",
    "#for key in all_data:\n",
    "#    if (key in all_data_ta and all_data[key] == all_data[key]):\n",
    "#        common_pairs[key] = all_data[key]\n",
    "#print('common keys between all_data and all_data_ta: ',common_pairs)"
   ]
  },
  {
   "cell_type": "markdown",
   "metadata": {},
   "source": [
    "7. Use `all_data` to append all the data sets. Store all data sets in a list using `for loop`. Then, use `pd.concat` to append all the data sets. Also, you must reset the index to have a good-looking data. This new object should be named as `endes_data_2015_2019`. **Hint: Use [this code](https://stackoverflow.com/questions/32444138/concatenate-a-list-of-pandas-dataframes-together)**"
   ]
  },
  {
   "cell_type": "code",
   "execution_count": 77,
   "metadata": {},
   "outputs": [
    {
     "data": {
      "text/plain": [
       "dict_keys(['data', 'var_labels', 'value_labels'])"
      ]
     },
     "execution_count": 77,
     "metadata": {},
     "output_type": "execute_result"
    }
   ],
   "source": [
    "# Checking the keys of the current data\n",
    "all_data['year_2019'].keys()"
   ]
  },
  {
   "cell_type": "code",
   "execution_count": 78,
   "metadata": {},
   "outputs": [],
   "source": [
    "#  Creating a list with the results we obtained previously\n",
    "all_data_list=[] #blank list\n",
    "\n",
    "for year in range(2015, 2020 ):\n",
    "    data =  all_data[f'year_{year}']['data'] #add to list\n",
    "    all_data_list.append( data )"
   ]
  },
  {
   "cell_type": "code",
   "execution_count": 79,
   "metadata": {},
   "outputs": [],
   "source": [
    "# Concatenating all data sets\n",
    "endes_data_2015_2019_1 = pd.concat(all_data_list)\n",
    "endes_data_2015_2019 = endes_data_2015_2019_1.reset_index( drop = True )  #reset the index"
   ]
  },
  {
   "cell_type": "markdown",
   "metadata": {},
   "source": [
    "8. Store all the `var_labels` and `value_labels` in a dictionary named as `all_var_labels` and `all_value_labels`. The first keys should be the year for both dictionaries.Then, use them to generate new attributes for `endes_data_2015_2019`. These attributes should be named as `var_labels` and `value_labels`. Your final output should be equal to `endes_data_2015_2019_ta` object. **Hint: Use [this link](https://notebooks.githubusercontent.com/view/ipynb?browser=chrome&color_mode=auto&commit=4d6de78e00e7001f16bf6473c2eb7ce24fb611cd&device=unknown_device&enc_url=68747470733a2f2f7261772e67697468756275736572636f6e74656e742e636f6d2f616c6578616e6465727175697370652f4469706c6f6d61646f5f505543502f346436646537386530306537303031663136626636343733633265623763653234666236313163642f4c6563747572655f342f4c6563747572655f342e6970796e62&logged_in=true&nwo=alexanderquispe%2FDiplomado_PUCP&path=Lecture_4%2FLecture_4.ipynb&platform=windows&repository_id=427747212&repository_type=Repository&version=95#4.2.3.)**"
   ]
  },
  {
   "cell_type": "code",
   "execution_count": 80,
   "metadata": {},
   "outputs": [],
   "source": [
    " # Labels\n",
    "all_var_labels ={} #empty objtects to store \"variables\" from loop\n",
    "all_value_labels = {} #empty objtects to store \"values\" from loop\n",
    "\n",
    "for year in range (2015, 2020):\n",
    "    all_var_labels[f'{ year }' ] = all_data[f'year_{year}'] ['var_labels']\n",
    "    all_value_labels[f'{ year }' ] = all_data[f'year_{year}'] ['value_labels']"
   ]
  },
  {
   "cell_type": "code",
   "execution_count": 81,
   "metadata": {},
   "outputs": [],
   "source": [
    "# Generating atributes for endes_data_2015_2019\n",
    "endes_data_2015_2019.attrs['var_labels'] = all_var_labels\n",
    "endes_data_2015_2019.attrs['value_labels'] = all_value_labels"
   ]
  },
  {
   "cell_type": "markdown",
   "metadata": {},
   "source": [
    "Checking if current output is similar to endes_data_2015_2019_ta"
   ]
  },
  {
   "cell_type": "code",
   "execution_count": 82,
   "metadata": {},
   "outputs": [],
   "source": [
    "output = urllib.request.urlopen( r'https://www.dropbox.com/s/oifvyjrr7s0e1md/endes_data_2015_2019_ta.pkl?dl=1')\n",
    "endes_data_2015_2019_ta = pickle.load( output )"
   ]
  },
  {
   "cell_type": "code",
   "execution_count": 83,
   "metadata": {},
   "outputs": [
    {
     "name": "stdout",
     "output_type": "stream",
     "text": [
      "Are value_labels the same for endes_data_2015_2019 and endes_data_2015_2019_ta? \t True\n"
     ]
    }
   ],
   "source": [
    "# Values validation\n",
    "value_validation = endes_data_2015_2019.attrs[ 'value_labels' ] == endes_data_2015_2019_ta.attrs[ 'value_labels' ]\n",
    "print('Are value_labels the same for endes_data_2015_2019 and endes_data_2015_2019_ta? \\t', value_validation)"
   ]
  },
  {
   "cell_type": "markdown",
   "metadata": {},
   "source": [
    "9. Use `endes_data_2015_2019` data to generate a new object named `mean_key_vars` to find the mean of **total children ever born (V201)**, **Ideal number of children (V613)**, **Husbands education-single yrs (V715)**, and **Age at first marriage (V511)** by year and department **(V024)**. Name these columns as **mean_total_children, mean_ideal_children, mean_hb_yr_educ and mean_first_marriage**, respectively. **Hint: Use groupby and [this link](https://stackoverflow.com/questions/40901770/is-there-a-simple-way-to-change-a-column-of-yes-no-to-1-0-in-a-pandas-dataframe).**"
   ]
  },
  {
   "cell_type": "code",
   "execution_count": 95,
   "metadata": {},
   "outputs": [
    {
     "data": {
      "text/plain": [
       "'Total de niños nacidos'"
      ]
     },
     "execution_count": 95,
     "metadata": {},
     "output_type": "execute_result"
    }
   ],
   "source": [
    "#We will work on this variable\n",
    "rec_2.attrs[ 'var_labels2' ]['V201']"
   ]
  },
  {
   "cell_type": "code",
   "execution_count": 137,
   "metadata": {},
   "outputs": [
    {
     "data": {
      "text/html": [
       "<div>\n",
       "<style scoped>\n",
       "    .dataframe tbody tr th:only-of-type {\n",
       "        vertical-align: middle;\n",
       "    }\n",
       "\n",
       "    .dataframe tbody tr th {\n",
       "        vertical-align: top;\n",
       "    }\n",
       "\n",
       "    .dataframe thead th {\n",
       "        text-align: right;\n",
       "    }\n",
       "</style>\n",
       "<table border=\"1\" class=\"dataframe\">\n",
       "  <thead>\n",
       "    <tr style=\"text-align: right;\">\n",
       "      <th></th>\n",
       "      <th>V201</th>\n",
       "    </tr>\n",
       "  </thead>\n",
       "  <tbody>\n",
       "    <tr>\n",
       "      <th>0</th>\n",
       "      <td>2.0</td>\n",
       "    </tr>\n",
       "    <tr>\n",
       "      <th>1</th>\n",
       "      <td>0.0</td>\n",
       "    </tr>\n",
       "    <tr>\n",
       "      <th>2</th>\n",
       "      <td>3.0</td>\n",
       "    </tr>\n",
       "    <tr>\n",
       "      <th>3</th>\n",
       "      <td>3.0</td>\n",
       "    </tr>\n",
       "    <tr>\n",
       "      <th>4</th>\n",
       "      <td>3.0</td>\n",
       "    </tr>\n",
       "    <tr>\n",
       "      <th>5</th>\n",
       "      <td>3.0</td>\n",
       "    </tr>\n",
       "  </tbody>\n",
       "</table>\n",
       "</div>"
      ],
      "text/plain": [
       "   V201\n",
       "0   2.0\n",
       "1   0.0\n",
       "2   3.0\n",
       "3   3.0\n",
       "4   3.0\n",
       "5   3.0"
      ]
     },
     "execution_count": 137,
     "metadata": {},
     "output_type": "execute_result"
    }
   ],
   "source": [
    "#view tables\n",
    "rec_2.loc[ 0:5 , [\"V201\"]]"
   ]
  },
  {
   "cell_type": "code",
   "execution_count": 102,
   "metadata": {},
   "outputs": [
    {
     "data": {
      "text/plain": [
       "'Edad al primer matrimonio'"
      ]
     },
     "execution_count": 102,
     "metadata": {},
     "output_type": "execute_result"
    }
   ],
   "source": [
    "rec_3.attrs[ 'var_labels3' ]['V511']"
   ]
  },
  {
   "cell_type": "code",
   "execution_count": 103,
   "metadata": {},
   "outputs": [
    {
     "data": {
      "text/plain": [
       "'Número ideal de niños'"
      ]
     },
     "execution_count": 103,
     "metadata": {},
     "output_type": "execute_result"
    }
   ],
   "source": [
    "rec_3.attrs[ 'var_labels3' ]['V613']"
   ]
  },
  {
   "cell_type": "code",
   "execution_count": 104,
   "metadata": {},
   "outputs": [
    {
     "data": {
      "text/plain": [
       "'Educación en años individuales del esposo/compañero'"
      ]
     },
     "execution_count": 104,
     "metadata": {},
     "output_type": "execute_result"
    }
   ],
   "source": [
    "rec_3.attrs[ 'var_labels3' ]['V715']"
   ]
  },
  {
   "cell_type": "code",
   "execution_count": 154,
   "metadata": {},
   "outputs": [
    {
     "data": {
      "text/html": [
       "<div>\n",
       "<style scoped>\n",
       "    .dataframe tbody tr th:only-of-type {\n",
       "        vertical-align: middle;\n",
       "    }\n",
       "\n",
       "    .dataframe tbody tr th {\n",
       "        vertical-align: top;\n",
       "    }\n",
       "\n",
       "    .dataframe thead th {\n",
       "        text-align: right;\n",
       "    }\n",
       "</style>\n",
       "<table border=\"1\" class=\"dataframe\">\n",
       "  <thead>\n",
       "    <tr style=\"text-align: right;\">\n",
       "      <th></th>\n",
       "      <th>V511</th>\n",
       "      <th>V613</th>\n",
       "      <th>V715</th>\n",
       "    </tr>\n",
       "  </thead>\n",
       "  <tbody>\n",
       "    <tr>\n",
       "      <th>0</th>\n",
       "      <td>21.0</td>\n",
       "      <td>2.0</td>\n",
       "      <td>11.0</td>\n",
       "    </tr>\n",
       "    <tr>\n",
       "      <th>1</th>\n",
       "      <td>28.0</td>\n",
       "      <td>3.0</td>\n",
       "      <td>14.0</td>\n",
       "    </tr>\n",
       "    <tr>\n",
       "      <th>2</th>\n",
       "      <td>14.0</td>\n",
       "      <td>0.0</td>\n",
       "      <td>6.0</td>\n",
       "    </tr>\n",
       "    <tr>\n",
       "      <th>3</th>\n",
       "      <td>18.0</td>\n",
       "      <td>2.0</td>\n",
       "      <td>6.0</td>\n",
       "    </tr>\n",
       "    <tr>\n",
       "      <th>4</th>\n",
       "      <td>17.0</td>\n",
       "      <td>2.0</td>\n",
       "      <td>16.0</td>\n",
       "    </tr>\n",
       "    <tr>\n",
       "      <th>5</th>\n",
       "      <td>NaN</td>\n",
       "      <td>2.0</td>\n",
       "      <td>NaN</td>\n",
       "    </tr>\n",
       "  </tbody>\n",
       "</table>\n",
       "</div>"
      ],
      "text/plain": [
       "   V511 V613  V715\n",
       "0  21.0  2.0  11.0\n",
       "1  28.0  3.0  14.0\n",
       "2  14.0  0.0   6.0\n",
       "3  18.0  2.0   6.0\n",
       "4  17.0  2.0  16.0\n",
       "5   NaN  2.0   NaN"
      ]
     },
     "execution_count": 154,
     "metadata": {},
     "output_type": "execute_result"
    }
   ],
   "source": [
    "rec_3.loc[ 0:5 , [\"V511\" , \"V613\", \"V715\"] ]"
   ]
  },
  {
   "cell_type": "code",
   "execution_count": 130,
   "metadata": {},
   "outputs": [],
   "source": [
    "import numpy as np"
   ]
  },
  {
   "cell_type": "code",
   "execution_count": 138,
   "metadata": {},
   "outputs": [
    {
     "data": {
      "text/html": [
       "<div>\n",
       "<style scoped>\n",
       "    .dataframe tbody tr th:only-of-type {\n",
       "        vertical-align: middle;\n",
       "    }\n",
       "\n",
       "    .dataframe tbody tr th {\n",
       "        vertical-align: top;\n",
       "    }\n",
       "\n",
       "    .dataframe thead th {\n",
       "        text-align: right;\n",
       "    }\n",
       "</style>\n",
       "<table border=\"1\" class=\"dataframe\">\n",
       "  <thead>\n",
       "    <tr style=\"text-align: right;\">\n",
       "      <th></th>\n",
       "      <th>year</th>\n",
       "      <th>V024</th>\n",
       "      <th>V201</th>\n",
       "    </tr>\n",
       "  </thead>\n",
       "  <tbody>\n",
       "    <tr>\n",
       "      <th>0</th>\n",
       "      <td>2015</td>\n",
       "      <td>Amazonas</td>\n",
       "      <td>2.445515</td>\n",
       "    </tr>\n",
       "    <tr>\n",
       "      <th>1</th>\n",
       "      <td>2015</td>\n",
       "      <td>Ancash</td>\n",
       "      <td>2.028594</td>\n",
       "    </tr>\n",
       "    <tr>\n",
       "      <th>2</th>\n",
       "      <td>2015</td>\n",
       "      <td>Apurimac</td>\n",
       "      <td>2.415771</td>\n",
       "    </tr>\n",
       "    <tr>\n",
       "      <th>3</th>\n",
       "      <td>2015</td>\n",
       "      <td>Arequipa</td>\n",
       "      <td>1.711661</td>\n",
       "    </tr>\n",
       "    <tr>\n",
       "      <th>4</th>\n",
       "      <td>2015</td>\n",
       "      <td>Ayacucho</td>\n",
       "      <td>2.493585</td>\n",
       "    </tr>\n",
       "    <tr>\n",
       "      <th>...</th>\n",
       "      <td>...</td>\n",
       "      <td>...</td>\n",
       "      <td>...</td>\n",
       "    </tr>\n",
       "    <tr>\n",
       "      <th>120</th>\n",
       "      <td>2019</td>\n",
       "      <td>Ayacucho</td>\n",
       "      <td>1.848787</td>\n",
       "    </tr>\n",
       "    <tr>\n",
       "      <th>121</th>\n",
       "      <td>2019</td>\n",
       "      <td>Cajamarca</td>\n",
       "      <td>1.931559</td>\n",
       "    </tr>\n",
       "    <tr>\n",
       "      <th>122</th>\n",
       "      <td>2019</td>\n",
       "      <td>Callao</td>\n",
       "      <td>1.567164</td>\n",
       "    </tr>\n",
       "    <tr>\n",
       "      <th>123</th>\n",
       "      <td>2019</td>\n",
       "      <td>Cusco</td>\n",
       "      <td>1.894415</td>\n",
       "    </tr>\n",
       "    <tr>\n",
       "      <th>124</th>\n",
       "      <td>2019</td>\n",
       "      <td>Huancavelica</td>\n",
       "      <td>2.083969</td>\n",
       "    </tr>\n",
       "  </tbody>\n",
       "</table>\n",
       "<p>125 rows × 3 columns</p>\n",
       "</div>"
      ],
      "text/plain": [
       "     year          V024      V201\n",
       "0    2015      Amazonas  2.445515\n",
       "1    2015        Ancash  2.028594\n",
       "2    2015      Apurimac  2.415771\n",
       "3    2015      Arequipa  1.711661\n",
       "4    2015      Ayacucho  2.493585\n",
       "..    ...           ...       ...\n",
       "120  2019      Ayacucho  1.848787\n",
       "121  2019     Cajamarca  1.931559\n",
       "122  2019        Callao  1.567164\n",
       "123  2019         Cusco  1.894415\n",
       "124  2019  Huancavelica  2.083969\n",
       "\n",
       "[125 rows x 3 columns]"
      ]
     },
     "execution_count": 138,
     "metadata": {},
     "output_type": "execute_result"
    }
   ],
   "source": [
    "endes_data_2015_2019_ta.groupby(['year', 'V024'], as_index = False )[['V201']].mean()"
   ]
  },
  {
   "cell_type": "code",
   "execution_count": 139,
   "metadata": {},
   "outputs": [
    {
     "data": {
      "text/html": [
       "<div>\n",
       "<style scoped>\n",
       "    .dataframe tbody tr th:only-of-type {\n",
       "        vertical-align: middle;\n",
       "    }\n",
       "\n",
       "    .dataframe tbody tr th {\n",
       "        vertical-align: top;\n",
       "    }\n",
       "\n",
       "    .dataframe thead th {\n",
       "        text-align: right;\n",
       "    }\n",
       "</style>\n",
       "<table border=\"1\" class=\"dataframe\">\n",
       "  <thead>\n",
       "    <tr style=\"text-align: right;\">\n",
       "      <th></th>\n",
       "      <th>year</th>\n",
       "      <th>V024</th>\n",
       "      <th>V511</th>\n",
       "    </tr>\n",
       "  </thead>\n",
       "  <tbody>\n",
       "    <tr>\n",
       "      <th>0</th>\n",
       "      <td>2015</td>\n",
       "      <td>Amazonas</td>\n",
       "      <td>19.014493</td>\n",
       "    </tr>\n",
       "    <tr>\n",
       "      <th>1</th>\n",
       "      <td>2015</td>\n",
       "      <td>Ancash</td>\n",
       "      <td>20.587935</td>\n",
       "    </tr>\n",
       "    <tr>\n",
       "      <th>2</th>\n",
       "      <td>2015</td>\n",
       "      <td>Apurimac</td>\n",
       "      <td>19.641466</td>\n",
       "    </tr>\n",
       "    <tr>\n",
       "      <th>3</th>\n",
       "      <td>2015</td>\n",
       "      <td>Arequipa</td>\n",
       "      <td>22.038043</td>\n",
       "    </tr>\n",
       "    <tr>\n",
       "      <th>4</th>\n",
       "      <td>2015</td>\n",
       "      <td>Ayacucho</td>\n",
       "      <td>20.037555</td>\n",
       "    </tr>\n",
       "    <tr>\n",
       "      <th>...</th>\n",
       "      <td>...</td>\n",
       "      <td>...</td>\n",
       "      <td>...</td>\n",
       "    </tr>\n",
       "    <tr>\n",
       "      <th>120</th>\n",
       "      <td>2019</td>\n",
       "      <td>Ayacucho</td>\n",
       "      <td>20.340228</td>\n",
       "    </tr>\n",
       "    <tr>\n",
       "      <th>121</th>\n",
       "      <td>2019</td>\n",
       "      <td>Cajamarca</td>\n",
       "      <td>19.610695</td>\n",
       "    </tr>\n",
       "    <tr>\n",
       "      <th>122</th>\n",
       "      <td>2019</td>\n",
       "      <td>Callao</td>\n",
       "      <td>21.517241</td>\n",
       "    </tr>\n",
       "    <tr>\n",
       "      <th>123</th>\n",
       "      <td>2019</td>\n",
       "      <td>Cusco</td>\n",
       "      <td>20.283154</td>\n",
       "    </tr>\n",
       "    <tr>\n",
       "      <th>124</th>\n",
       "      <td>2019</td>\n",
       "      <td>Huancavelica</td>\n",
       "      <td>19.780769</td>\n",
       "    </tr>\n",
       "  </tbody>\n",
       "</table>\n",
       "<p>125 rows × 3 columns</p>\n",
       "</div>"
      ],
      "text/plain": [
       "     year          V024       V511\n",
       "0    2015      Amazonas  19.014493\n",
       "1    2015        Ancash  20.587935\n",
       "2    2015      Apurimac  19.641466\n",
       "3    2015      Arequipa  22.038043\n",
       "4    2015      Ayacucho  20.037555\n",
       "..    ...           ...        ...\n",
       "120  2019      Ayacucho  20.340228\n",
       "121  2019     Cajamarca  19.610695\n",
       "122  2019        Callao  21.517241\n",
       "123  2019         Cusco  20.283154\n",
       "124  2019  Huancavelica  19.780769\n",
       "\n",
       "[125 rows x 3 columns]"
      ]
     },
     "execution_count": 139,
     "metadata": {},
     "output_type": "execute_result"
    }
   ],
   "source": [
    "endes_data_2015_2019_ta.groupby(['year', 'V024'], as_index = False )[['V511']].mean()"
   ]
  },
  {
   "cell_type": "code",
   "execution_count": 150,
   "metadata": {},
   "outputs": [
    {
     "data": {
      "text/plain": [
       "dtype('O')"
      ]
     },
     "execution_count": 150,
     "metadata": {},
     "output_type": "execute_result"
    }
   ],
   "source": [
    "#identify_error_no numeric types to aggregate\n",
    "endes_data_2015_2019_ta['V715'].dtype"
   ]
  },
  {
   "cell_type": "code",
   "execution_count": 155,
   "metadata": {},
   "outputs": [
    {
     "data": {
      "text/plain": [
       "[3.0,\n",
       " 9.0,\n",
       " 11.0,\n",
       " nan,\n",
       " 16.0,\n",
       " 6.0,\n",
       " 8.0,\n",
       " 5.0,\n",
       " 7.0,\n",
       " 12.0,\n",
       " 10.0,\n",
       " 15.0,\n",
       " 4.0,\n",
       " \"Don't know\",\n",
       " 0.0,\n",
       " 2.0,\n",
       " 1.0,\n",
       " 13.0,\n",
       " 14.0,\n",
       " 17.0,\n",
       " 'No sabe']"
      ]
     },
     "execution_count": 155,
     "metadata": {},
     "output_type": "execute_result"
    }
   ],
   "source": [
    "endes_data_2015_2019_ta['V715'].unique().tolist()"
   ]
  },
  {
   "cell_type": "code",
   "execution_count": 161,
   "metadata": {},
   "outputs": [
    {
     "data": {
      "text/plain": [
       "0          3.0\n",
       "1          9.0\n",
       "2         11.0\n",
       "3          NaN\n",
       "4          NaN\n",
       "          ... \n",
       "365731     5.0\n",
       "365732     7.0\n",
       "365733     5.0\n",
       "365734    11.0\n",
       "365735    11.0\n",
       "Name: V715, Length: 365736, dtype: float64"
      ]
     },
     "execution_count": 161,
     "metadata": {},
     "output_type": "execute_result"
    }
   ],
   "source": [
    "# from dtype'O' to np.nan\n",
    "endes_data_2015_2019_ta.V715.replace((\"Don't know\", 'No sabe'), (np.nan, np.nan), inplace=True)\n",
    "endes_data_2015_2019_ta.V715"
   ]
  },
  {
   "cell_type": "code",
   "execution_count": 162,
   "metadata": {},
   "outputs": [
    {
     "data": {
      "text/plain": [
       "[3.0,\n",
       " 9.0,\n",
       " 11.0,\n",
       " nan,\n",
       " 16.0,\n",
       " 6.0,\n",
       " 8.0,\n",
       " 5.0,\n",
       " 7.0,\n",
       " 12.0,\n",
       " 10.0,\n",
       " 15.0,\n",
       " 4.0,\n",
       " 0.0,\n",
       " 2.0,\n",
       " 1.0,\n",
       " 13.0,\n",
       " 14.0,\n",
       " 17.0]"
      ]
     },
     "execution_count": 162,
     "metadata": {},
     "output_type": "execute_result"
    }
   ],
   "source": [
    "endes_data_2015_2019_ta['V715'].unique().tolist()"
   ]
  },
  {
   "cell_type": "code",
   "execution_count": 163,
   "metadata": {},
   "outputs": [
    {
     "data": {
      "text/plain": [
       "dtype('O')"
      ]
     },
     "execution_count": 163,
     "metadata": {},
     "output_type": "execute_result"
    }
   ],
   "source": [
    "#identify_error_no numeric types to aggregate\n",
    "endes_data_2015_2019_ta['V613'].dtype"
   ]
  },
  {
   "cell_type": "code",
   "execution_count": 164,
   "metadata": {},
   "outputs": [
    {
     "data": {
      "text/plain": [
       "[4.0,\n",
       " 2.0,\n",
       " 1.0,\n",
       " 0.0,\n",
       " 3.0,\n",
       " nan,\n",
       " 7.0,\n",
       " 6.0,\n",
       " 5.0,\n",
       " 'Non-numeric response',\n",
       " 10.0,\n",
       " 12.0,\n",
       " 8.0,\n",
       " 9.0,\n",
       " 15.0,\n",
       " 11.0,\n",
       " 22.0,\n",
       " 20.0,\n",
       " 21.0,\n",
       " 13.0,\n",
       " 'Respuesta no numérica',\n",
       " 16.0]"
      ]
     },
     "execution_count": 164,
     "metadata": {},
     "output_type": "execute_result"
    }
   ],
   "source": [
    "endes_data_2015_2019_ta['V613'].unique().tolist()"
   ]
  },
  {
   "cell_type": "code",
   "execution_count": 171,
   "metadata": {},
   "outputs": [
    {
     "data": {
      "text/plain": [
       "0          3.0\n",
       "1          9.0\n",
       "2         11.0\n",
       "3          NaN\n",
       "4          NaN\n",
       "          ... \n",
       "365731     5.0\n",
       "365732     7.0\n",
       "365733     5.0\n",
       "365734    11.0\n",
       "365735    11.0\n",
       "Name: V715, Length: 365736, dtype: float64"
      ]
     },
     "execution_count": 171,
     "metadata": {},
     "output_type": "execute_result"
    }
   ],
   "source": [
    "# from dtype'O' to np.nan\n",
    "endes_data_2015_2019_ta.V613.replace((\"Don't know\", 'No sabe'), (np.nan, np.nan), inplace=True)\n",
    "endes_data_2015_2019_ta.V715"
   ]
  },
  {
   "cell_type": "code",
   "execution_count": 172,
   "metadata": {},
   "outputs": [
    {
     "data": {
      "text/plain": [
       "[4.0,\n",
       " 2.0,\n",
       " 1.0,\n",
       " 0.0,\n",
       " 3.0,\n",
       " nan,\n",
       " 7.0,\n",
       " 6.0,\n",
       " 5.0,\n",
       " 10.0,\n",
       " 12.0,\n",
       " 8.0,\n",
       " 9.0,\n",
       " 15.0,\n",
       " 11.0,\n",
       " 22.0,\n",
       " 20.0,\n",
       " 21.0,\n",
       " 13.0,\n",
       " 16.0]"
      ]
     },
     "execution_count": 172,
     "metadata": {},
     "output_type": "execute_result"
    }
   ],
   "source": [
    "endes_data_2015_2019_ta['V613'].unique().tolist()"
   ]
  },
  {
   "cell_type": "code",
   "execution_count": 173,
   "metadata": {},
   "outputs": [
    {
     "data": {
      "text/html": [
       "<div>\n",
       "<style scoped>\n",
       "    .dataframe tbody tr th:only-of-type {\n",
       "        vertical-align: middle;\n",
       "    }\n",
       "\n",
       "    .dataframe tbody tr th {\n",
       "        vertical-align: top;\n",
       "    }\n",
       "\n",
       "    .dataframe thead th {\n",
       "        text-align: right;\n",
       "    }\n",
       "</style>\n",
       "<table border=\"1\" class=\"dataframe\">\n",
       "  <thead>\n",
       "    <tr style=\"text-align: right;\">\n",
       "      <th></th>\n",
       "      <th>year</th>\n",
       "      <th>V024</th>\n",
       "      <th>V613</th>\n",
       "    </tr>\n",
       "  </thead>\n",
       "  <tbody>\n",
       "    <tr>\n",
       "      <th>0</th>\n",
       "      <td>2015</td>\n",
       "      <td>Amazonas</td>\n",
       "      <td>2.556632</td>\n",
       "    </tr>\n",
       "    <tr>\n",
       "      <th>1</th>\n",
       "      <td>2015</td>\n",
       "      <td>Ancash</td>\n",
       "      <td>2.536736</td>\n",
       "    </tr>\n",
       "    <tr>\n",
       "      <th>2</th>\n",
       "      <td>2015</td>\n",
       "      <td>Apurimac</td>\n",
       "      <td>2.305830</td>\n",
       "    </tr>\n",
       "    <tr>\n",
       "      <th>3</th>\n",
       "      <td>2015</td>\n",
       "      <td>Arequipa</td>\n",
       "      <td>2.190895</td>\n",
       "    </tr>\n",
       "    <tr>\n",
       "      <th>4</th>\n",
       "      <td>2015</td>\n",
       "      <td>Ayacucho</td>\n",
       "      <td>2.361299</td>\n",
       "    </tr>\n",
       "    <tr>\n",
       "      <th>...</th>\n",
       "      <td>...</td>\n",
       "      <td>...</td>\n",
       "      <td>...</td>\n",
       "    </tr>\n",
       "    <tr>\n",
       "      <th>120</th>\n",
       "      <td>2019</td>\n",
       "      <td>Ayacucho</td>\n",
       "      <td>2.209026</td>\n",
       "    </tr>\n",
       "    <tr>\n",
       "      <th>121</th>\n",
       "      <td>2019</td>\n",
       "      <td>Cajamarca</td>\n",
       "      <td>2.545923</td>\n",
       "    </tr>\n",
       "    <tr>\n",
       "      <th>122</th>\n",
       "      <td>2019</td>\n",
       "      <td>Callao</td>\n",
       "      <td>2.241724</td>\n",
       "    </tr>\n",
       "    <tr>\n",
       "      <th>123</th>\n",
       "      <td>2019</td>\n",
       "      <td>Cusco</td>\n",
       "      <td>2.100097</td>\n",
       "    </tr>\n",
       "    <tr>\n",
       "      <th>124</th>\n",
       "      <td>2019</td>\n",
       "      <td>Huancavelica</td>\n",
       "      <td>2.295098</td>\n",
       "    </tr>\n",
       "  </tbody>\n",
       "</table>\n",
       "<p>125 rows × 3 columns</p>\n",
       "</div>"
      ],
      "text/plain": [
       "     year          V024      V613\n",
       "0    2015      Amazonas  2.556632\n",
       "1    2015        Ancash  2.536736\n",
       "2    2015      Apurimac  2.305830\n",
       "3    2015      Arequipa  2.190895\n",
       "4    2015      Ayacucho  2.361299\n",
       "..    ...           ...       ...\n",
       "120  2019      Ayacucho  2.209026\n",
       "121  2019     Cajamarca  2.545923\n",
       "122  2019        Callao  2.241724\n",
       "123  2019         Cusco  2.100097\n",
       "124  2019  Huancavelica  2.295098\n",
       "\n",
       "[125 rows x 3 columns]"
      ]
     },
     "execution_count": 173,
     "metadata": {},
     "output_type": "execute_result"
    }
   ],
   "source": [
    "endes_data_2015_2019_ta.groupby(['year', 'V024'], as_index = False )[['V613']].mean()"
   ]
  },
  {
   "cell_type": "code",
   "execution_count": 174,
   "metadata": {},
   "outputs": [
    {
     "data": {
      "text/html": [
       "<div>\n",
       "<style scoped>\n",
       "    .dataframe tbody tr th:only-of-type {\n",
       "        vertical-align: middle;\n",
       "    }\n",
       "\n",
       "    .dataframe tbody tr th {\n",
       "        vertical-align: top;\n",
       "    }\n",
       "\n",
       "    .dataframe thead th {\n",
       "        text-align: right;\n",
       "    }\n",
       "</style>\n",
       "<table border=\"1\" class=\"dataframe\">\n",
       "  <thead>\n",
       "    <tr style=\"text-align: right;\">\n",
       "      <th></th>\n",
       "      <th>year</th>\n",
       "      <th>V024</th>\n",
       "      <th>V715</th>\n",
       "    </tr>\n",
       "  </thead>\n",
       "  <tbody>\n",
       "    <tr>\n",
       "      <th>0</th>\n",
       "      <td>2015</td>\n",
       "      <td>Amazonas</td>\n",
       "      <td>8.195632</td>\n",
       "    </tr>\n",
       "    <tr>\n",
       "      <th>1</th>\n",
       "      <td>2015</td>\n",
       "      <td>Ancash</td>\n",
       "      <td>9.661442</td>\n",
       "    </tr>\n",
       "    <tr>\n",
       "      <th>2</th>\n",
       "      <td>2015</td>\n",
       "      <td>Apurimac</td>\n",
       "      <td>8.976879</td>\n",
       "    </tr>\n",
       "    <tr>\n",
       "      <th>3</th>\n",
       "      <td>2015</td>\n",
       "      <td>Arequipa</td>\n",
       "      <td>10.530120</td>\n",
       "    </tr>\n",
       "    <tr>\n",
       "      <th>4</th>\n",
       "      <td>2015</td>\n",
       "      <td>Ayacucho</td>\n",
       "      <td>8.797882</td>\n",
       "    </tr>\n",
       "    <tr>\n",
       "      <th>...</th>\n",
       "      <td>...</td>\n",
       "      <td>...</td>\n",
       "      <td>...</td>\n",
       "    </tr>\n",
       "    <tr>\n",
       "      <th>120</th>\n",
       "      <td>2019</td>\n",
       "      <td>Ayacucho</td>\n",
       "      <td>10.470772</td>\n",
       "    </tr>\n",
       "    <tr>\n",
       "      <th>121</th>\n",
       "      <td>2019</td>\n",
       "      <td>Cajamarca</td>\n",
       "      <td>8.708874</td>\n",
       "    </tr>\n",
       "    <tr>\n",
       "      <th>122</th>\n",
       "      <td>2019</td>\n",
       "      <td>Callao</td>\n",
       "      <td>11.663909</td>\n",
       "    </tr>\n",
       "    <tr>\n",
       "      <th>123</th>\n",
       "      <td>2019</td>\n",
       "      <td>Cusco</td>\n",
       "      <td>10.569194</td>\n",
       "    </tr>\n",
       "    <tr>\n",
       "      <th>124</th>\n",
       "      <td>2019</td>\n",
       "      <td>Huancavelica</td>\n",
       "      <td>9.879221</td>\n",
       "    </tr>\n",
       "  </tbody>\n",
       "</table>\n",
       "<p>125 rows × 3 columns</p>\n",
       "</div>"
      ],
      "text/plain": [
       "     year          V024       V715\n",
       "0    2015      Amazonas   8.195632\n",
       "1    2015        Ancash   9.661442\n",
       "2    2015      Apurimac   8.976879\n",
       "3    2015      Arequipa  10.530120\n",
       "4    2015      Ayacucho   8.797882\n",
       "..    ...           ...        ...\n",
       "120  2019      Ayacucho  10.470772\n",
       "121  2019     Cajamarca   8.708874\n",
       "122  2019        Callao  11.663909\n",
       "123  2019         Cusco  10.569194\n",
       "124  2019  Huancavelica   9.879221\n",
       "\n",
       "[125 rows x 3 columns]"
      ]
     },
     "execution_count": 174,
     "metadata": {},
     "output_type": "execute_result"
    }
   ],
   "source": [
    "endes_data_2015_2019_ta.groupby(['year', 'V024'], as_index = False )[['V715']].mean()"
   ]
  },
  {
   "cell_type": "code",
   "execution_count": 176,
   "metadata": {},
   "outputs": [
    {
     "data": {
      "text/html": [
       "<div>\n",
       "<style scoped>\n",
       "    .dataframe tbody tr th:only-of-type {\n",
       "        vertical-align: middle;\n",
       "    }\n",
       "\n",
       "    .dataframe tbody tr th {\n",
       "        vertical-align: top;\n",
       "    }\n",
       "\n",
       "    .dataframe thead th {\n",
       "        text-align: right;\n",
       "    }\n",
       "</style>\n",
       "<table border=\"1\" class=\"dataframe\">\n",
       "  <thead>\n",
       "    <tr style=\"text-align: right;\">\n",
       "      <th></th>\n",
       "      <th>year</th>\n",
       "      <th>V024</th>\n",
       "      <th>mean_total_children</th>\n",
       "      <th>mean_ideal_children</th>\n",
       "      <th>mean_hb_yr_educ</th>\n",
       "      <th>mean_first_marriage</th>\n",
       "    </tr>\n",
       "  </thead>\n",
       "  <tbody>\n",
       "    <tr>\n",
       "      <th>0</th>\n",
       "      <td>2015</td>\n",
       "      <td>Amazonas</td>\n",
       "      <td>2.0</td>\n",
       "      <td>2.556632</td>\n",
       "      <td>8.195632</td>\n",
       "      <td>19.014493</td>\n",
       "    </tr>\n",
       "    <tr>\n",
       "      <th>1</th>\n",
       "      <td>2015</td>\n",
       "      <td>Ancash</td>\n",
       "      <td>2.0</td>\n",
       "      <td>2.536736</td>\n",
       "      <td>9.661442</td>\n",
       "      <td>20.587935</td>\n",
       "    </tr>\n",
       "    <tr>\n",
       "      <th>2</th>\n",
       "      <td>2015</td>\n",
       "      <td>Apurimac</td>\n",
       "      <td>2.0</td>\n",
       "      <td>2.305830</td>\n",
       "      <td>8.976879</td>\n",
       "      <td>19.641466</td>\n",
       "    </tr>\n",
       "    <tr>\n",
       "      <th>3</th>\n",
       "      <td>2015</td>\n",
       "      <td>Arequipa</td>\n",
       "      <td>2.0</td>\n",
       "      <td>2.190895</td>\n",
       "      <td>10.530120</td>\n",
       "      <td>22.038043</td>\n",
       "    </tr>\n",
       "    <tr>\n",
       "      <th>4</th>\n",
       "      <td>2015</td>\n",
       "      <td>Ayacucho</td>\n",
       "      <td>2.0</td>\n",
       "      <td>2.361299</td>\n",
       "      <td>8.797882</td>\n",
       "      <td>20.037555</td>\n",
       "    </tr>\n",
       "    <tr>\n",
       "      <th>...</th>\n",
       "      <td>...</td>\n",
       "      <td>...</td>\n",
       "      <td>...</td>\n",
       "      <td>...</td>\n",
       "      <td>...</td>\n",
       "      <td>...</td>\n",
       "    </tr>\n",
       "    <tr>\n",
       "      <th>120</th>\n",
       "      <td>2019</td>\n",
       "      <td>Ayacucho</td>\n",
       "      <td>1.0</td>\n",
       "      <td>2.209026</td>\n",
       "      <td>10.470772</td>\n",
       "      <td>20.340228</td>\n",
       "    </tr>\n",
       "    <tr>\n",
       "      <th>121</th>\n",
       "      <td>2019</td>\n",
       "      <td>Cajamarca</td>\n",
       "      <td>2.0</td>\n",
       "      <td>2.545923</td>\n",
       "      <td>8.708874</td>\n",
       "      <td>19.610695</td>\n",
       "    </tr>\n",
       "    <tr>\n",
       "      <th>122</th>\n",
       "      <td>2019</td>\n",
       "      <td>Callao</td>\n",
       "      <td>1.0</td>\n",
       "      <td>2.241724</td>\n",
       "      <td>11.663909</td>\n",
       "      <td>21.517241</td>\n",
       "    </tr>\n",
       "    <tr>\n",
       "      <th>123</th>\n",
       "      <td>2019</td>\n",
       "      <td>Cusco</td>\n",
       "      <td>2.0</td>\n",
       "      <td>2.100097</td>\n",
       "      <td>10.569194</td>\n",
       "      <td>20.283154</td>\n",
       "    </tr>\n",
       "    <tr>\n",
       "      <th>124</th>\n",
       "      <td>2019</td>\n",
       "      <td>Huancavelica</td>\n",
       "      <td>2.0</td>\n",
       "      <td>2.295098</td>\n",
       "      <td>9.879221</td>\n",
       "      <td>19.780769</td>\n",
       "    </tr>\n",
       "  </tbody>\n",
       "</table>\n",
       "<p>125 rows × 6 columns</p>\n",
       "</div>"
      ],
      "text/plain": [
       "     year          V024  mean_total_children  mean_ideal_children  \\\n",
       "0    2015      Amazonas                  2.0             2.556632   \n",
       "1    2015        Ancash                  2.0             2.536736   \n",
       "2    2015      Apurimac                  2.0             2.305830   \n",
       "3    2015      Arequipa                  2.0             2.190895   \n",
       "4    2015      Ayacucho                  2.0             2.361299   \n",
       "..    ...           ...                  ...                  ...   \n",
       "120  2019      Ayacucho                  1.0             2.209026   \n",
       "121  2019     Cajamarca                  2.0             2.545923   \n",
       "122  2019        Callao                  1.0             2.241724   \n",
       "123  2019         Cusco                  2.0             2.100097   \n",
       "124  2019  Huancavelica                  2.0             2.295098   \n",
       "\n",
       "     mean_hb_yr_educ  mean_first_marriage  \n",
       "0           8.195632            19.014493  \n",
       "1           9.661442            20.587935  \n",
       "2           8.976879            19.641466  \n",
       "3          10.530120            22.038043  \n",
       "4           8.797882            20.037555  \n",
       "..               ...                  ...  \n",
       "120        10.470772            20.340228  \n",
       "121         8.708874            19.610695  \n",
       "122        11.663909            21.517241  \n",
       "123        10.569194            20.283154  \n",
       "124         9.879221            19.780769  \n",
       "\n",
       "[125 rows x 6 columns]"
      ]
     },
     "execution_count": 176,
     "metadata": {},
     "output_type": "execute_result"
    }
   ],
   "source": [
    "#generate a new object\n",
    "mean_key_vars = endes_data_2015_2019_ta.groupby( [ 'year' ,'V024' ] , \n",
    "                                as_index = False \n",
    "                               ).agg( \n",
    "                                    mean_total_children = ( 'V201', np.median ), \n",
    "                                    mean_ideal_children = ( 'V613', np.mean ),\n",
    "                                    mean_hb_yr_educ = ( 'V715', np.mean ),\n",
    "                                    mean_first_marriage = ( 'V511', np.mean )\n",
    "                                )\n",
    "mean_key_vars"
   ]
  },
  {
   "cell_type": "markdown",
   "metadata": {},
   "source": [
    "10. Merge `mean_key_vars` with `endes_data_2015_2019`. Name this object `final_result`. Your ouput should be equal to `final_result_ta`. **Hint: Use merge.**"
   ]
  },
  {
   "cell_type": "code",
   "execution_count": 180,
   "metadata": {},
   "outputs": [],
   "source": [
    "final_result = endes_data_2015_2019_ta.merge( mean_key_vars , on = [ 'year' ,'V024' ] , how = \"left\" , validate = \"m:1\" ).head()"
   ]
  },
  {
   "cell_type": "code",
   "execution_count": 193,
   "metadata": {},
   "outputs": [],
   "source": [
    "output = urllib.request.urlopen( r'https://www.dropbox.com/s/ntor3jbpdxpj9u1/final_result_ta.pkl?dl=1' )\n",
    "final_result_ta = pickle.load( output )"
   ]
  },
  {
   "cell_type": "code",
   "execution_count": 200,
   "metadata": {},
   "outputs": [],
   "source": [
    "# Generating atributes for final_result_ta\n",
    "\n",
    "final_result_ta.attrs['var_labels'] = all_var_labels\n",
    "final_result_ta.attrs['value_labels'] = all_value_labels "
   ]
  },
  {
   "cell_type": "code",
   "execution_count": 194,
   "metadata": {},
   "outputs": [],
   "source": [
    "# Generating atributes for final_result\n",
    "final_result.attrs['var_labels'] = all_var_labels\n",
    "final_result.attrs['value_labels'] = all_value_labels"
   ]
  },
  {
   "cell_type": "code",
   "execution_count": 202,
   "metadata": {},
   "outputs": [
    {
     "name": "stdout",
     "output_type": "stream",
     "text": [
      "Are value_labels the same for final_result and final_result_ta? \t True\n"
     ]
    }
   ],
   "source": [
    "# Values validation\n",
    "value_validation = final_result.attrs[ 'value_labels' ] == final_result_ta.attrs[ 'value_labels' ]\n",
    "print('Are value_labels the same for final_result and final_result_ta? \\t', value_validation)"
   ]
  }
 ],
 "metadata": {
  "hide_input": false,
  "kernelspec": {
   "display_name": "Python 3",
   "language": "python",
   "name": "python3"
  },
  "language_info": {
   "codemirror_mode": {
    "name": "ipython",
    "version": 3
   },
   "file_extension": ".py",
   "mimetype": "text/x-python",
   "name": "python",
   "nbconvert_exporter": "python",
   "pygments_lexer": "ipython3",
   "version": "3.8.8"
  }
 },
 "nbformat": 4,
 "nbformat_minor": 4
}

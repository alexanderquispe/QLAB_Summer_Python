{
 "cells": [
  {
   "cell_type": "markdown",
   "metadata": {},
   "source": [
    "# 1 Assignment 2"
   ]
  },
  {
   "cell_type": "code",
   "execution_count": 180,
   "metadata": {},
   "outputs": [],
   "source": [
    "import os\n",
    "import os\n",
    "import pickle\n",
    "import pandas as pd\n",
    "import numpy as np\n",
    "import urllib.request"
   ]
  },
  {
   "cell_type": "markdown",
   "metadata": {},
   "source": [
    "1. Import the `REC0111.sav`, `RE223132.sav` and `RE516171.sav` files and their variables and values labels from this path `\"../../_data/endes/2019\"`. The name of imported files should be named as `rec_1`, `rec_2` and `rec_3` for files `REC0111.sav`, `RE223132.sav` and `RE516171.sav` respectively. The name of the variable and value labels should be `var_labels1` and `value_labels1` for `rec1`, `var_labels2` and `value_labels2` for `rec2`, and `var_labels3` and `value_labels3` for `rec3`. **Hint: See the section 3.3.4 of [the lecture 3](https://github.com/alexanderquispe/Diplomado_PUCP/blob/main/Lecture_3/Lecture_3.ipynb)**"
   ]
  },
  {
   "cell_type": "code",
   "execution_count": 93,
   "metadata": {},
   "outputs": [
    {
     "name": "stdout",
     "output_type": "stream",
     "text": [
      "Requirement already satisfied: pyreadstat in c:\\anaconda\\lib\\site-packages (1.1.3)\n",
      "Requirement already satisfied: pandas>0.24.0 in c:\\anaconda\\lib\\site-packages (from pyreadstat) (1.2.4)\n",
      "Requirement already satisfied: pytz>=2017.3 in c:\\anaconda\\lib\\site-packages (from pandas>0.24.0->pyreadstat) (2021.1)\n",
      "Requirement already satisfied: numpy>=1.16.5 in c:\\anaconda\\lib\\site-packages (from pandas>0.24.0->pyreadstat) (1.20.1)\n",
      "Requirement already satisfied: python-dateutil>=2.7.3 in c:\\anaconda\\lib\\site-packages (from pandas>0.24.0->pyreadstat) (2.8.1)\n",
      "Requirement already satisfied: six>=1.5 in c:\\anaconda\\lib\\site-packages (from python-dateutil>=2.7.3->pandas>0.24.0->pyreadstat) (1.15.0)\n",
      "Note: you may need to restart the kernel to use updated packages.\n"
     ]
    }
   ],
   "source": [
    "#pip install pyreadstat\n",
    "#pip install savReaderWriter"
   ]
  },
  {
   "cell_type": "markdown",
   "metadata": {},
   "source": [
    "#### Import REC0111.sav"
   ]
  },
  {
   "cell_type": "code",
   "execution_count": 95,
   "metadata": {},
   "outputs": [],
   "source": [
    "rec_1 = pd.read_spss(r\"../../_data/endes/2019/REC0111.sav\")"
   ]
  },
  {
   "cell_type": "code",
   "execution_count": 96,
   "metadata": {},
   "outputs": [
    {
     "data": {
      "text/html": [
       "<div>\n",
       "<style scoped>\n",
       "    .dataframe tbody tr th:only-of-type {\n",
       "        vertical-align: middle;\n",
       "    }\n",
       "\n",
       "    .dataframe tbody tr th {\n",
       "        vertical-align: top;\n",
       "    }\n",
       "\n",
       "    .dataframe thead th {\n",
       "        text-align: right;\n",
       "    }\n",
       "</style>\n",
       "<table border=\"1\" class=\"dataframe\">\n",
       "  <thead>\n",
       "    <tr style=\"text-align: right;\">\n",
       "      <th></th>\n",
       "      <th>ID1</th>\n",
       "      <th>HHID</th>\n",
       "      <th>CASEID</th>\n",
       "      <th>V001</th>\n",
       "      <th>V002</th>\n",
       "      <th>V003</th>\n",
       "      <th>V004</th>\n",
       "      <th>V007</th>\n",
       "      <th>V008</th>\n",
       "      <th>V009</th>\n",
       "      <th>...</th>\n",
       "      <th>QD333_4</th>\n",
       "      <th>QD333_5</th>\n",
       "      <th>QD333_6</th>\n",
       "      <th>UBIGEO</th>\n",
       "      <th>V022</th>\n",
       "      <th>V005</th>\n",
       "      <th>V190</th>\n",
       "      <th>V191</th>\n",
       "      <th>mujeres12a49</th>\n",
       "      <th>NCONGLOME</th>\n",
       "    </tr>\n",
       "  </thead>\n",
       "  <tbody>\n",
       "    <tr>\n",
       "      <th>0</th>\n",
       "      <td>2019.0</td>\n",
       "      <td>000100201</td>\n",
       "      <td>000100201  2</td>\n",
       "      <td>1.0</td>\n",
       "      <td>2.0</td>\n",
       "      <td>2.0</td>\n",
       "      <td>1.0</td>\n",
       "      <td>2019.0</td>\n",
       "      <td>1434.0</td>\n",
       "      <td>4.0</td>\n",
       "      <td>...</td>\n",
       "      <td>No</td>\n",
       "      <td>No</td>\n",
       "      <td>No</td>\n",
       "      <td>010101</td>\n",
       "      <td>3.0</td>\n",
       "      <td>154803.0</td>\n",
       "      <td>Rico</td>\n",
       "      <td>1.234450</td>\n",
       "      <td>Mujeres de 15 a 49 años de edad</td>\n",
       "      <td>7065.0</td>\n",
       "    </tr>\n",
       "    <tr>\n",
       "      <th>1</th>\n",
       "      <td>2019.0</td>\n",
       "      <td>000100201</td>\n",
       "      <td>000100201  3</td>\n",
       "      <td>1.0</td>\n",
       "      <td>2.0</td>\n",
       "      <td>3.0</td>\n",
       "      <td>1.0</td>\n",
       "      <td>2019.0</td>\n",
       "      <td>1434.0</td>\n",
       "      <td>1.0</td>\n",
       "      <td>...</td>\n",
       "      <td>No</td>\n",
       "      <td>No</td>\n",
       "      <td>No</td>\n",
       "      <td>010101</td>\n",
       "      <td>3.0</td>\n",
       "      <td>154803.0</td>\n",
       "      <td>Rico</td>\n",
       "      <td>1.234450</td>\n",
       "      <td>Mujeres de 12 a 14 de edad, nunca embarazadas</td>\n",
       "      <td>7065.0</td>\n",
       "    </tr>\n",
       "    <tr>\n",
       "      <th>2</th>\n",
       "      <td>2019.0</td>\n",
       "      <td>000102801</td>\n",
       "      <td>000102801  2</td>\n",
       "      <td>1.0</td>\n",
       "      <td>28.0</td>\n",
       "      <td>2.0</td>\n",
       "      <td>1.0</td>\n",
       "      <td>2019.0</td>\n",
       "      <td>1434.0</td>\n",
       "      <td>6.0</td>\n",
       "      <td>...</td>\n",
       "      <td>No</td>\n",
       "      <td>No</td>\n",
       "      <td>No</td>\n",
       "      <td>010101</td>\n",
       "      <td>3.0</td>\n",
       "      <td>154803.0</td>\n",
       "      <td>Rico</td>\n",
       "      <td>1.295611</td>\n",
       "      <td>Mujeres de 15 a 49 años de edad</td>\n",
       "      <td>7065.0</td>\n",
       "    </tr>\n",
       "    <tr>\n",
       "      <th>3</th>\n",
       "      <td>2019.0</td>\n",
       "      <td>000102801</td>\n",
       "      <td>000102801  6</td>\n",
       "      <td>1.0</td>\n",
       "      <td>28.0</td>\n",
       "      <td>6.0</td>\n",
       "      <td>1.0</td>\n",
       "      <td>2019.0</td>\n",
       "      <td>1434.0</td>\n",
       "      <td>3.0</td>\n",
       "      <td>...</td>\n",
       "      <td>No</td>\n",
       "      <td>No</td>\n",
       "      <td>No</td>\n",
       "      <td>010101</td>\n",
       "      <td>3.0</td>\n",
       "      <td>154803.0</td>\n",
       "      <td>Rico</td>\n",
       "      <td>1.295611</td>\n",
       "      <td>Mujeres de 15 a 49 años de edad</td>\n",
       "      <td>7065.0</td>\n",
       "    </tr>\n",
       "    <tr>\n",
       "      <th>4</th>\n",
       "      <td>2019.0</td>\n",
       "      <td>000104801</td>\n",
       "      <td>000104801  2</td>\n",
       "      <td>1.0</td>\n",
       "      <td>48.0</td>\n",
       "      <td>2.0</td>\n",
       "      <td>1.0</td>\n",
       "      <td>2019.0</td>\n",
       "      <td>1434.0</td>\n",
       "      <td>5.0</td>\n",
       "      <td>...</td>\n",
       "      <td>No</td>\n",
       "      <td>No</td>\n",
       "      <td>No</td>\n",
       "      <td>010101</td>\n",
       "      <td>3.0</td>\n",
       "      <td>154803.0</td>\n",
       "      <td>Pobrer</td>\n",
       "      <td>-0.256431</td>\n",
       "      <td>Mujeres de 15 a 49 años de edad</td>\n",
       "      <td>7065.0</td>\n",
       "    </tr>\n",
       "  </tbody>\n",
       "</table>\n",
       "<p>5 rows × 105 columns</p>\n",
       "</div>"
      ],
      "text/plain": [
       "      ID1             HHID              CASEID  V001  V002  V003  V004  \\\n",
       "0  2019.0        000100201        000100201  2   1.0   2.0   2.0   1.0   \n",
       "1  2019.0        000100201        000100201  3   1.0   2.0   3.0   1.0   \n",
       "2  2019.0        000102801        000102801  2   1.0  28.0   2.0   1.0   \n",
       "3  2019.0        000102801        000102801  6   1.0  28.0   6.0   1.0   \n",
       "4  2019.0        000104801        000104801  2   1.0  48.0   2.0   1.0   \n",
       "\n",
       "     V007    V008  V009  ...  QD333_4  QD333_5  QD333_6  UBIGEO V022  \\\n",
       "0  2019.0  1434.0   4.0  ...       No       No       No  010101  3.0   \n",
       "1  2019.0  1434.0   1.0  ...       No       No       No  010101  3.0   \n",
       "2  2019.0  1434.0   6.0  ...       No       No       No  010101  3.0   \n",
       "3  2019.0  1434.0   3.0  ...       No       No       No  010101  3.0   \n",
       "4  2019.0  1434.0   5.0  ...       No       No       No  010101  3.0   \n",
       "\n",
       "       V005    V190      V191                                   mujeres12a49  \\\n",
       "0  154803.0    Rico  1.234450                Mujeres de 15 a 49 años de edad   \n",
       "1  154803.0    Rico  1.234450  Mujeres de 12 a 14 de edad, nunca embarazadas   \n",
       "2  154803.0    Rico  1.295611                Mujeres de 15 a 49 años de edad   \n",
       "3  154803.0    Rico  1.295611                Mujeres de 15 a 49 años de edad   \n",
       "4  154803.0  Pobrer -0.256431                Mujeres de 15 a 49 años de edad   \n",
       "\n",
       "   NCONGLOME  \n",
       "0     7065.0  \n",
       "1     7065.0  \n",
       "2     7065.0  \n",
       "3     7065.0  \n",
       "4     7065.0  \n",
       "\n",
       "[5 rows x 105 columns]"
      ]
     },
     "execution_count": 96,
     "metadata": {},
     "output_type": "execute_result"
    }
   ],
   "source": [
    "rec_1.head(5)"
   ]
  },
  {
   "cell_type": "code",
   "execution_count": 97,
   "metadata": {
    "scrolled": true
   },
   "outputs": [],
   "source": [
    "# Método 1\n",
    "\n",
    "import savReaderWriter as sav\n",
    "with sav.SavHeaderReader(r\"../../_data/endes/2019/REC0111.sav\", ioUtf8=True) as header:\n",
    "    metadata1 = header.all()\n",
    "    value_labels1 = metadata1.valueLabels\n",
    "    var_labels1 = metadata1.varLabels"
   ]
  },
  {
   "cell_type": "code",
   "execution_count": 98,
   "metadata": {},
   "outputs": [],
   "source": [
    "# Método 2\n",
    "\n",
    "import pyreadstat\n",
    "rec1, meta = pyreadstat.read_sav( r\"../../_data/endes/2019/REC0111.sav\" )\n",
    "value_labels1 = meta.variable_value_labels\n",
    "var_labels1 = meta.column_names_to_labels"
   ]
  },
  {
   "cell_type": "code",
   "execution_count": 99,
   "metadata": {},
   "outputs": [],
   "source": [
    "rec_1.attrs['value_labels'] = value_labels1\n",
    "rec_1.attrs['var_labels'] = var_labels1"
   ]
  },
  {
   "cell_type": "code",
   "execution_count": 100,
   "metadata": {
    "scrolled": false
   },
   "outputs": [
    {
     "name": "stdout",
     "output_type": "stream",
     "text": [
      "Etnicidad\n"
     ]
    },
    {
     "data": {
      "text/plain": [
       "{1.0: 'Quechua',\n",
       " 2.0: 'Aimara',\n",
       " 3.0: 'Ashaninka',\n",
       " 4.0: 'Awajún/Aguaruna',\n",
       " 5.0: 'Shipibo/Konibo',\n",
       " 6.0: 'Shawi/Chayahuita',\n",
       " 7.0: 'Matsigenka/ Machiguenga',\n",
       " 8.0: 'Achuar',\n",
       " 9.0: 'Otra lengua nativa u originaria',\n",
       " 10.0: 'Castellano',\n",
       " 11.0: 'Portugués',\n",
       " 12.0: 'Otra lengua extranjera'}"
      ]
     },
     "execution_count": 100,
     "metadata": {},
     "output_type": "execute_result"
    }
   ],
   "source": [
    "print(var_labels1[\"V131\"])\n",
    "value_labels1[\"V131\"]"
   ]
  },
  {
   "cell_type": "markdown",
   "metadata": {},
   "source": [
    "#### Import RE223132.sav"
   ]
  },
  {
   "cell_type": "code",
   "execution_count": 101,
   "metadata": {},
   "outputs": [],
   "source": [
    "rec_2 = pd.read_spss(r\"../../_data/endes/2019/RE223132.sav\")"
   ]
  },
  {
   "cell_type": "code",
   "execution_count": 102,
   "metadata": {},
   "outputs": [],
   "source": [
    "# Método 1\n",
    "\n",
    "with sav.SavHeaderReader(r\"../../_data/endes/2019/RE223132.sav\", ioUtf8=True) as header:\n",
    "    metadata2 = header.all()\n",
    "    value_labels2 = metadata2.valueLabels\n",
    "    var_labels2 = metadata2.varLabels"
   ]
  },
  {
   "cell_type": "code",
   "execution_count": 103,
   "metadata": {},
   "outputs": [],
   "source": [
    "# Método 2\n",
    "\n",
    "import pyreadstat\n",
    "rec1, meta = pyreadstat.read_sav( r\"../../_data/endes/2019/RE223132.sav\" )\n",
    "value_labels2 = meta.variable_value_labels\n",
    "var_labels2 = meta.column_names_to_labels"
   ]
  },
  {
   "cell_type": "code",
   "execution_count": 104,
   "metadata": {},
   "outputs": [],
   "source": [
    "rec_2.attrs['value_labels'] = value_labels2\n",
    "rec_2.attrs['var_labels'] = var_labels2"
   ]
  },
  {
   "cell_type": "code",
   "execution_count": 105,
   "metadata": {},
   "outputs": [
    {
     "name": "stdout",
     "output_type": "stream",
     "text": [
      "Actualmente embarazada\n"
     ]
    },
    {
     "data": {
      "text/plain": [
       "{0.0: 'No o no está segura', 1.0: 'Sí'}"
      ]
     },
     "execution_count": 105,
     "metadata": {},
     "output_type": "execute_result"
    }
   ],
   "source": [
    "print(var_labels2['V213'])\n",
    "value_labels2['V213']"
   ]
  },
  {
   "cell_type": "markdown",
   "metadata": {},
   "source": [
    "#### Import RE516171.sav"
   ]
  },
  {
   "cell_type": "code",
   "execution_count": 106,
   "metadata": {},
   "outputs": [],
   "source": [
    "rec_3 = pd.read_spss(r\"../../_data/endes/2019/RE516171.sav\")"
   ]
  },
  {
   "cell_type": "code",
   "execution_count": 107,
   "metadata": {},
   "outputs": [],
   "source": [
    "# Método 1\n",
    "\n",
    "with sav.SavHeaderReader(r\"../../_data/endes/2019/RE516171.sav\", ioUtf8=True) as header:\n",
    "    metadata3 = header.all()\n",
    "    value_labels3 = metadata3.valueLabels\n",
    "    var_labels3 = metadata3.varLabels"
   ]
  },
  {
   "cell_type": "code",
   "execution_count": 108,
   "metadata": {},
   "outputs": [],
   "source": [
    "# Método 2\n",
    "\n",
    "import pyreadstat\n",
    "rec1, meta = pyreadstat.read_sav( r\"../../_data/endes/2019/RE516171.sav\" )\n",
    "value_labels3 = meta.variable_value_labels\n",
    "var_labels3 = meta.column_names_to_labels"
   ]
  },
  {
   "cell_type": "code",
   "execution_count": 109,
   "metadata": {},
   "outputs": [],
   "source": [
    "rec_3.attrs['value_labels'] = value_labels3\n",
    "rec_3.attrs['var_labels'] = var_labels3"
   ]
  },
  {
   "cell_type": "code",
   "execution_count": 110,
   "metadata": {},
   "outputs": [
    {
     "name": "stdout",
     "output_type": "stream",
     "text": [
      "Estado civil actual\n",
      "{0.0: 'Nunca casada', 1.0: 'Casado', 2.0: 'Viviendo juntos', 3.0: 'Viuda', 4.0: 'Divorciada', 5.0: 'No viven juntos'}\n",
      "Edad en la primera relación sexual\n",
      "{0.0: 'Nunca tuvo relaciones sexuales', 96.0: 'En la primera union'}\n"
     ]
    }
   ],
   "source": [
    "print(var_labels3['V501'])\n",
    "print(value_labels3['V501'])\n",
    "print(var_labels3['V525'])\n",
    "print(value_labels3['V525'])"
   ]
  },
  {
   "cell_type": "markdown",
   "metadata": {},
   "source": [
    "2. Select the following columns for each data set:\n",
    "|Data|Columns|\n",
    "|---|---|\n",
    "|rec1| CASEID, V000, V001, V002, V003, V004, V007, V008, V009, V010, V011, V012, V024, V102, V120, V121, V122, V123, V124, V125, V127, V133 |\n",
    "|rec2| CASEID, V201, V218, V301, V302, V323, V323A, V325A, V326, V327, V337, V359, V360, V361, V362, V363, V364, V367, V372, V372A, V375A, V376, V376A, V379, V380 |\n",
    "|rec3| CASEID, V501, V502, V503, V504, V505, V506, V507, V508, V509, V510, V511, V512, V513, V525, V613, V714, V715 |\n",
    "\n",
    "\n",
    "Additioanlly, you should update the variables and value labels objects. They must have information only for the selected columns. The new dataframes should be name as `rec1_1`, `rec2_1`, and `rec3_1`. The new varible labels objects should be named as `new_var_labels1`, `new_var_labels2`, and `new_var_labels3`. The new value labels objects should be named as `new_value_labels1`, `new_value_labels2`, and `new_value_labels3` **Hint: Use the `loc` and column names to filter, `for loop`,   and [this link](https://stackoverflow.com/questions/3420122/filter-dict-to-contain-only-certain-keys) to update the var and value dictionary.**"
   ]
  },
  {
   "cell_type": "code",
   "execution_count": 111,
   "metadata": {},
   "outputs": [
    {
     "data": {
      "text/plain": [
       "dict_keys(['ID1', 'HHID', 'CASEID', 'V001', 'V002', 'V003', 'V004', 'V007', 'V008', 'V009', 'V010', 'V011', 'V012', 'V013', 'V014', 'V015', 'V017', 'V018', 'V019', 'V019A', 'V020', 'V021', 'V023', 'V024', 'V025', 'V026', 'V027', 'V028', 'V029', 'V030', 'V031', 'V032', 'V033', 'V034', 'V040', 'V042', 'V043', 'V044', 'V000', 'Q105DD', 'V101', 'V102', 'V103', 'V104', 'V105', 'V106', 'V107', 'V113', 'V115', 'V116', 'V119', 'V120', 'V121', 'V122', 'V123', 'V124', 'V125', 'V127', 'V128', 'V129', 'V130', 'V131', 'V133', 'V134', 'V135', 'V136', 'V137', 'V138', 'V139', 'V140', 'V141', 'V149', 'V150', 'V151', 'V152', 'V153', 'AWFACTT', 'AWFACTU', 'AWFACTR', 'AWFACTE', 'AWFACTW', 'V155', 'V156', 'V157', 'V158', 'V159', 'V160', 'V161', 'V166', 'V167', 'V168', 'ML101', 'QD333_1', 'QD333_2', 'QD333_3', 'QD333_4', 'QD333_5', 'QD333_6', 'UBIGEO', 'V022', 'V005', 'V190', 'V191', 'mujeres12a49', 'NCONGLOME'])"
      ]
     },
     "execution_count": 111,
     "metadata": {},
     "output_type": "execute_result"
    }
   ],
   "source": [
    "var_labels1.keys()"
   ]
  },
  {
   "cell_type": "code",
   "execution_count": 112,
   "metadata": {},
   "outputs": [],
   "source": [
    "rec1_1 = rec_1.filter( items = ['CASEID', 'V000', 'V001', 'V002', 'V003', 'V004', 'V007', 'V008', 'V009', 'V010', 'V011', 'V012',\n",
    "                       'V024', 'V102', 'V120', 'V121', 'V122', 'V123', 'V124', 'V125', 'V127', 'V133'  ])"
   ]
  },
  {
   "cell_type": "code",
   "execution_count": 113,
   "metadata": {},
   "outputs": [
    {
     "data": {
      "text/plain": [
       "(38335, 22)"
      ]
     },
     "execution_count": 113,
     "metadata": {},
     "output_type": "execute_result"
    }
   ],
   "source": [
    "rec1_1.shape"
   ]
  },
  {
   "cell_type": "code",
   "execution_count": 114,
   "metadata": {},
   "outputs": [
    {
     "data": {
      "text/plain": [
       "dict_keys(['ID1', 'CASEID', 'V201', 'V202', 'V203', 'V204', 'V205', 'V206', 'V207', 'V208', 'V209', 'V210', 'V211', 'V212', 'V213', 'V214', 'V215', 'V216', 'V217', 'V218', 'V219', 'V220', 'V221', 'V222', 'V223', 'V224', 'V225', 'V226', 'V227', 'V228', 'V229', 'V230', 'V231', 'V232', 'V233', 'V234', 'V235', 'V237', 'V238', 'V239', 'V240', 'V241', 'V242', 'V243', 'V301', 'V302', 'V310', 'V311', 'V312', 'V313', 'V315', 'V316', 'V317', 'V318', 'V319', 'V320', 'V321', 'V322', 'V323', 'V323A', 'V325A', 'V326', 'V327', 'V337', 'V359', 'V360', 'V361', 'V362', 'V363', 'V364', 'V367', 'V372', 'V372A', 'V375A', 'V376', 'V376A', 'V379', 'V380', 'V384A', 'V384B', 'V384C', 'V393', 'V394', 'V395', 'V3A00A', 'V3A00B', 'V3A00C', 'V3A00D', 'V3A00E', 'V3A00F', 'V3A00G', 'V3A00H', 'V3A00I', 'V3A00J', 'V3A00K', 'V3A00L', 'V3A00M', 'V3A00N', 'V3A00O', 'V3A00P', 'V3A00Q', 'V3A00R', 'V3A00S', 'V3A00T', 'V3A00U', 'V3A00V', 'V3A00W', 'V3A00X', 'V3A00Y', 'V3A00Z', 'V3A01', 'V3A02', 'V3A03', 'V3A04', 'V3A05', 'V3A06', 'V3A07', 'V3A08A', 'V3A08B', 'V3A08C', 'V3A08D', 'V3A08E', 'V3A08F', 'V3A08G', 'V3A08H', 'V3A08I', 'V3A08J', 'V3A08K', 'V3A08L', 'V3A08M', 'V3A08N', 'V3A08O', 'V3A08P', 'V3A08Q', 'V3A08R', 'V3A08S', 'V3A08T', 'V3A08U', 'V3A08V', 'V3A08W', 'V3A08X', 'V3A08Z', 'V3A09A', 'V3A09B', 'V305_01', 'V305_02', 'V305_03', 'V305_05', 'V305_06', 'V305_07', 'V305_08', 'V305_09', 'V305_10', 'V305_11', 'V305_13', 'V305_14', 'V305_15', 'V305_16', 'V307_01', 'V307_02', 'V307_03', 'V307_04', 'V307_05', 'V307_06', 'V307_07', 'V307_08', 'V307_09', 'V307_10', 'V307_11', 'V307_12', 'V307_13', 'V307_14', 'V307_15', 'V307_16', 'QI302_05A', 'QI302_05B'])"
      ]
     },
     "execution_count": 114,
     "metadata": {},
     "output_type": "execute_result"
    }
   ],
   "source": [
    "var_labels2.keys()"
   ]
  },
  {
   "cell_type": "code",
   "execution_count": 115,
   "metadata": {},
   "outputs": [
    {
     "data": {
      "text/plain": [
       "(36922, 25)"
      ]
     },
     "execution_count": 115,
     "metadata": {},
     "output_type": "execute_result"
    }
   ],
   "source": [
    "rec2_1 = rec_2.filter( items = ['CASEID', 'V201', 'V218', 'V301', 'V302', 'V323', 'V323A', 'V325A', 'V326', 'V327', 'V337', 'V359',\n",
    "                       'V360', 'V361', 'V362', 'V363', 'V364', 'V367', 'V372', 'V372A', 'V375A', 'V376', 'V376A', 'V379', 'V380'  ])\n",
    "rec2_1.shape"
   ]
  },
  {
   "cell_type": "code",
   "execution_count": 116,
   "metadata": {},
   "outputs": [
    {
     "data": {
      "text/plain": [
       "Index(['ID1', 'CASEID', 'V501', 'V502', 'V503', 'V504', 'V505', 'V506', 'V507',\n",
       "       'V508', 'V509', 'V510', 'V511', 'V512', 'V513', 'V525', 'V527', 'V528',\n",
       "       'V529', 'V530', 'V531', 'V532', 'V535', 'V536', 'V537', 'V538', 'V539',\n",
       "       'V540', 'V541', 'V602', 'V603', 'V604', 'V605', 'V613', 'V614', 'V616',\n",
       "       'V621', 'V623', 'V624', 'V625', 'V626', 'V627', 'V628', 'V629', 'V631',\n",
       "       'V632', 'V633A', 'V633B', 'V633C', 'V633D', 'V633E', 'V633F', 'V633G',\n",
       "       'V634', 'V701', 'V702', 'V704', 'V705', 'V714', 'V714A', 'V715', 'V716',\n",
       "       'V717', 'V719', 'V721', 'V729', 'V730', 'V731', 'V732', 'V739', 'V740',\n",
       "       'V741', 'V743A', 'V743B', 'V743C', 'V743D', 'V743E', 'V743F', 'V744A',\n",
       "       'V744B', 'V744C', 'V744D', 'V744E', 'V746'],\n",
       "      dtype='object')"
      ]
     },
     "execution_count": 116,
     "metadata": {},
     "output_type": "execute_result"
    }
   ],
   "source": [
    "rec_3.columns"
   ]
  },
  {
   "cell_type": "code",
   "execution_count": 117,
   "metadata": {},
   "outputs": [
    {
     "data": {
      "text/plain": [
       "(33311, 18)"
      ]
     },
     "execution_count": 117,
     "metadata": {},
     "output_type": "execute_result"
    }
   ],
   "source": [
    "rec3_1 = rec_3.loc[ : , ['CASEID', 'V501', 'V502', 'V503', 'V504', 'V505', 'V506', 'V507',\n",
    "       'V508', 'V509', 'V510', 'V511', 'V512', 'V513', 'V525', 'V613', 'V714', 'V715']]\n",
    "rec3_1.shape"
   ]
  },
  {
   "cell_type": "code",
   "execution_count": 118,
   "metadata": {},
   "outputs": [],
   "source": [
    "selected_cols_rec1_1 = rec1_1.columns\n",
    "new_var_labels1 = { col: var_labels1[ col ] for col in selected_cols_rec1_1 }\n",
    "new_value_labels1 = { key: value_labels1[ key ] for key in selected_cols_rec1_1 if key in value_labels1.keys() }"
   ]
  },
  {
   "cell_type": "code",
   "execution_count": 119,
   "metadata": {},
   "outputs": [],
   "source": [
    "selected_cols_rec2_1 = rec2_1.columns\n",
    "new_var_labels2 = { col: var_labels2[ col ] for col in selected_cols_rec2_1 }\n",
    "new_value_labels2 = { key: value_labels2[ key ] for key in selected_cols_rec2_1 if key in value_labels2.keys() }"
   ]
  },
  {
   "cell_type": "code",
   "execution_count": 120,
   "metadata": {},
   "outputs": [],
   "source": [
    "selected_cols_rec3_1 = rec3_1.columns\n",
    "new_var_labels3 = { col: var_labels3[ col ] for col in selected_cols_rec3_1 }\n",
    "new_value_labels3 = { key: value_labels3[ key ] for key in selected_cols_rec3_1 if key in value_labels3.keys() }"
   ]
  },
  {
   "cell_type": "markdown",
   "metadata": {},
   "source": [
    "3. Generate a new column for `rec1_1` named as `year`. It should be equal to `2019`. Also, you must update this new variable for the `var_labels` dictionary. Generate a new key for `new_var_labels1` and the value for this key should be **\"Year of the survey\"** **Hint: Use `loc` and `update` method.**"
   ]
  },
  {
   "cell_type": "code",
   "execution_count": 121,
   "metadata": {},
   "outputs": [
    {
     "data": {
      "text/html": [
       "<div>\n",
       "<style scoped>\n",
       "    .dataframe tbody tr th:only-of-type {\n",
       "        vertical-align: middle;\n",
       "    }\n",
       "\n",
       "    .dataframe tbody tr th {\n",
       "        vertical-align: top;\n",
       "    }\n",
       "\n",
       "    .dataframe thead th {\n",
       "        text-align: right;\n",
       "    }\n",
       "</style>\n",
       "<table border=\"1\" class=\"dataframe\">\n",
       "  <thead>\n",
       "    <tr style=\"text-align: right;\">\n",
       "      <th></th>\n",
       "      <th>CASEID</th>\n",
       "      <th>V000</th>\n",
       "      <th>V001</th>\n",
       "      <th>V002</th>\n",
       "      <th>V003</th>\n",
       "      <th>V004</th>\n",
       "      <th>V007</th>\n",
       "      <th>V008</th>\n",
       "      <th>V009</th>\n",
       "      <th>V010</th>\n",
       "      <th>...</th>\n",
       "      <th>V102</th>\n",
       "      <th>V120</th>\n",
       "      <th>V121</th>\n",
       "      <th>V122</th>\n",
       "      <th>V123</th>\n",
       "      <th>V124</th>\n",
       "      <th>V125</th>\n",
       "      <th>V127</th>\n",
       "      <th>V133</th>\n",
       "      <th>year</th>\n",
       "    </tr>\n",
       "  </thead>\n",
       "  <tbody>\n",
       "    <tr>\n",
       "      <th>0</th>\n",
       "      <td>000100201  2</td>\n",
       "      <td>PE6</td>\n",
       "      <td>1.0</td>\n",
       "      <td>2.0</td>\n",
       "      <td>2.0</td>\n",
       "      <td>1.0</td>\n",
       "      <td>2019.0</td>\n",
       "      <td>1434.0</td>\n",
       "      <td>4.0</td>\n",
       "      <td>1986.0</td>\n",
       "      <td>...</td>\n",
       "      <td>Urbano</td>\n",
       "      <td>Si</td>\n",
       "      <td>Si</td>\n",
       "      <td>Si</td>\n",
       "      <td>No</td>\n",
       "      <td>No</td>\n",
       "      <td>No</td>\n",
       "      <td>Losetas, terrazos o similares</td>\n",
       "      <td>16.0</td>\n",
       "      <td>2019</td>\n",
       "    </tr>\n",
       "    <tr>\n",
       "      <th>1</th>\n",
       "      <td>000100201  3</td>\n",
       "      <td>PE6</td>\n",
       "      <td>1.0</td>\n",
       "      <td>2.0</td>\n",
       "      <td>3.0</td>\n",
       "      <td>1.0</td>\n",
       "      <td>2019.0</td>\n",
       "      <td>1434.0</td>\n",
       "      <td>1.0</td>\n",
       "      <td>2007.0</td>\n",
       "      <td>...</td>\n",
       "      <td>Urbano</td>\n",
       "      <td>Si</td>\n",
       "      <td>Si</td>\n",
       "      <td>Si</td>\n",
       "      <td>No</td>\n",
       "      <td>No</td>\n",
       "      <td>No</td>\n",
       "      <td>Losetas, terrazos o similares</td>\n",
       "      <td>6.0</td>\n",
       "      <td>2019</td>\n",
       "    </tr>\n",
       "    <tr>\n",
       "      <th>2</th>\n",
       "      <td>000102801  2</td>\n",
       "      <td>PE6</td>\n",
       "      <td>1.0</td>\n",
       "      <td>28.0</td>\n",
       "      <td>2.0</td>\n",
       "      <td>1.0</td>\n",
       "      <td>2019.0</td>\n",
       "      <td>1434.0</td>\n",
       "      <td>6.0</td>\n",
       "      <td>1983.0</td>\n",
       "      <td>...</td>\n",
       "      <td>Urbano</td>\n",
       "      <td>Si</td>\n",
       "      <td>Si</td>\n",
       "      <td>Si</td>\n",
       "      <td>Si</td>\n",
       "      <td>Si</td>\n",
       "      <td>Si</td>\n",
       "      <td>Losetas, terrazos o similares</td>\n",
       "      <td>16.0</td>\n",
       "      <td>2019</td>\n",
       "    </tr>\n",
       "    <tr>\n",
       "      <th>3</th>\n",
       "      <td>000102801  6</td>\n",
       "      <td>PE6</td>\n",
       "      <td>1.0</td>\n",
       "      <td>28.0</td>\n",
       "      <td>6.0</td>\n",
       "      <td>1.0</td>\n",
       "      <td>2019.0</td>\n",
       "      <td>1434.0</td>\n",
       "      <td>3.0</td>\n",
       "      <td>1970.0</td>\n",
       "      <td>...</td>\n",
       "      <td>Urbano</td>\n",
       "      <td>Si</td>\n",
       "      <td>Si</td>\n",
       "      <td>Si</td>\n",
       "      <td>Si</td>\n",
       "      <td>Si</td>\n",
       "      <td>Si</td>\n",
       "      <td>Losetas, terrazos o similares</td>\n",
       "      <td>4.0</td>\n",
       "      <td>2019</td>\n",
       "    </tr>\n",
       "    <tr>\n",
       "      <th>4</th>\n",
       "      <td>000104801  2</td>\n",
       "      <td>PE6</td>\n",
       "      <td>1.0</td>\n",
       "      <td>48.0</td>\n",
       "      <td>2.0</td>\n",
       "      <td>1.0</td>\n",
       "      <td>2019.0</td>\n",
       "      <td>1434.0</td>\n",
       "      <td>5.0</td>\n",
       "      <td>1991.0</td>\n",
       "      <td>...</td>\n",
       "      <td>Urbano</td>\n",
       "      <td>No</td>\n",
       "      <td>No</td>\n",
       "      <td>No</td>\n",
       "      <td>No</td>\n",
       "      <td>No</td>\n",
       "      <td>No</td>\n",
       "      <td>Cemento/ladrillo</td>\n",
       "      <td>1.0</td>\n",
       "      <td>2019</td>\n",
       "    </tr>\n",
       "    <tr>\n",
       "      <th>...</th>\n",
       "      <td>...</td>\n",
       "      <td>...</td>\n",
       "      <td>...</td>\n",
       "      <td>...</td>\n",
       "      <td>...</td>\n",
       "      <td>...</td>\n",
       "      <td>...</td>\n",
       "      <td>...</td>\n",
       "      <td>...</td>\n",
       "      <td>...</td>\n",
       "      <td>...</td>\n",
       "      <td>...</td>\n",
       "      <td>...</td>\n",
       "      <td>...</td>\n",
       "      <td>...</td>\n",
       "      <td>...</td>\n",
       "      <td>...</td>\n",
       "      <td>...</td>\n",
       "      <td>...</td>\n",
       "      <td>...</td>\n",
       "      <td>...</td>\n",
       "    </tr>\n",
       "    <tr>\n",
       "      <th>38330</th>\n",
       "      <td>325406201  2</td>\n",
       "      <td>PE6</td>\n",
       "      <td>3254.0</td>\n",
       "      <td>62.0</td>\n",
       "      <td>2.0</td>\n",
       "      <td>3254.0</td>\n",
       "      <td>2019.0</td>\n",
       "      <td>1440.0</td>\n",
       "      <td>12.0</td>\n",
       "      <td>1971.0</td>\n",
       "      <td>...</td>\n",
       "      <td>Rural</td>\n",
       "      <td>No</td>\n",
       "      <td>No</td>\n",
       "      <td>No</td>\n",
       "      <td>No</td>\n",
       "      <td>No</td>\n",
       "      <td>No</td>\n",
       "      <td>Pona</td>\n",
       "      <td>4.0</td>\n",
       "      <td>2019</td>\n",
       "    </tr>\n",
       "    <tr>\n",
       "      <th>38331</th>\n",
       "      <td>325406301  2</td>\n",
       "      <td>PE6</td>\n",
       "      <td>3254.0</td>\n",
       "      <td>63.0</td>\n",
       "      <td>2.0</td>\n",
       "      <td>3254.0</td>\n",
       "      <td>2019.0</td>\n",
       "      <td>1440.0</td>\n",
       "      <td>6.0</td>\n",
       "      <td>1988.0</td>\n",
       "      <td>...</td>\n",
       "      <td>Rural</td>\n",
       "      <td>No</td>\n",
       "      <td>No</td>\n",
       "      <td>No</td>\n",
       "      <td>No</td>\n",
       "      <td>No</td>\n",
       "      <td>No</td>\n",
       "      <td>Pona</td>\n",
       "      <td>6.0</td>\n",
       "      <td>2019</td>\n",
       "    </tr>\n",
       "    <tr>\n",
       "      <th>38332</th>\n",
       "      <td>325407001  2</td>\n",
       "      <td>PE6</td>\n",
       "      <td>3254.0</td>\n",
       "      <td>70.0</td>\n",
       "      <td>2.0</td>\n",
       "      <td>3254.0</td>\n",
       "      <td>2019.0</td>\n",
       "      <td>1440.0</td>\n",
       "      <td>7.0</td>\n",
       "      <td>1973.0</td>\n",
       "      <td>...</td>\n",
       "      <td>Rural</td>\n",
       "      <td>No</td>\n",
       "      <td>No</td>\n",
       "      <td>No</td>\n",
       "      <td>No</td>\n",
       "      <td>No</td>\n",
       "      <td>No</td>\n",
       "      <td>Pona</td>\n",
       "      <td>3.0</td>\n",
       "      <td>2019</td>\n",
       "    </tr>\n",
       "    <tr>\n",
       "      <th>38333</th>\n",
       "      <td>325407201  2</td>\n",
       "      <td>PE6</td>\n",
       "      <td>3254.0</td>\n",
       "      <td>72.0</td>\n",
       "      <td>2.0</td>\n",
       "      <td>3254.0</td>\n",
       "      <td>2019.0</td>\n",
       "      <td>1440.0</td>\n",
       "      <td>12.0</td>\n",
       "      <td>1994.0</td>\n",
       "      <td>...</td>\n",
       "      <td>Rural</td>\n",
       "      <td>No</td>\n",
       "      <td>No</td>\n",
       "      <td>No</td>\n",
       "      <td>No</td>\n",
       "      <td>No</td>\n",
       "      <td>No</td>\n",
       "      <td>Pona</td>\n",
       "      <td>9.0</td>\n",
       "      <td>2019</td>\n",
       "    </tr>\n",
       "    <tr>\n",
       "      <th>38334</th>\n",
       "      <td>325407401  2</td>\n",
       "      <td>PE6</td>\n",
       "      <td>3254.0</td>\n",
       "      <td>74.0</td>\n",
       "      <td>2.0</td>\n",
       "      <td>3254.0</td>\n",
       "      <td>2019.0</td>\n",
       "      <td>1440.0</td>\n",
       "      <td>10.0</td>\n",
       "      <td>1996.0</td>\n",
       "      <td>...</td>\n",
       "      <td>Rural</td>\n",
       "      <td>No</td>\n",
       "      <td>No</td>\n",
       "      <td>No</td>\n",
       "      <td>No</td>\n",
       "      <td>No</td>\n",
       "      <td>No</td>\n",
       "      <td>Pona</td>\n",
       "      <td>9.0</td>\n",
       "      <td>2019</td>\n",
       "    </tr>\n",
       "  </tbody>\n",
       "</table>\n",
       "<p>38335 rows × 23 columns</p>\n",
       "</div>"
      ],
      "text/plain": [
       "                   CASEID V000    V001  V002  V003    V004    V007    V008  \\\n",
       "0            000100201  2  PE6     1.0   2.0   2.0     1.0  2019.0  1434.0   \n",
       "1            000100201  3  PE6     1.0   2.0   3.0     1.0  2019.0  1434.0   \n",
       "2            000102801  2  PE6     1.0  28.0   2.0     1.0  2019.0  1434.0   \n",
       "3            000102801  6  PE6     1.0  28.0   6.0     1.0  2019.0  1434.0   \n",
       "4            000104801  2  PE6     1.0  48.0   2.0     1.0  2019.0  1434.0   \n",
       "...                   ...  ...     ...   ...   ...     ...     ...     ...   \n",
       "38330        325406201  2  PE6  3254.0  62.0   2.0  3254.0  2019.0  1440.0   \n",
       "38331        325406301  2  PE6  3254.0  63.0   2.0  3254.0  2019.0  1440.0   \n",
       "38332        325407001  2  PE6  3254.0  70.0   2.0  3254.0  2019.0  1440.0   \n",
       "38333        325407201  2  PE6  3254.0  72.0   2.0  3254.0  2019.0  1440.0   \n",
       "38334        325407401  2  PE6  3254.0  74.0   2.0  3254.0  2019.0  1440.0   \n",
       "\n",
       "       V009    V010  ...    V102  V120 V121 V122 V123 V124 V125  \\\n",
       "0       4.0  1986.0  ...  Urbano    Si   Si   Si   No   No   No   \n",
       "1       1.0  2007.0  ...  Urbano    Si   Si   Si   No   No   No   \n",
       "2       6.0  1983.0  ...  Urbano    Si   Si   Si   Si   Si   Si   \n",
       "3       3.0  1970.0  ...  Urbano    Si   Si   Si   Si   Si   Si   \n",
       "4       5.0  1991.0  ...  Urbano    No   No   No   No   No   No   \n",
       "...     ...     ...  ...     ...   ...  ...  ...  ...  ...  ...   \n",
       "38330  12.0  1971.0  ...   Rural    No   No   No   No   No   No   \n",
       "38331   6.0  1988.0  ...   Rural    No   No   No   No   No   No   \n",
       "38332   7.0  1973.0  ...   Rural    No   No   No   No   No   No   \n",
       "38333  12.0  1994.0  ...   Rural    No   No   No   No   No   No   \n",
       "38334  10.0  1996.0  ...   Rural    No   No   No   No   No   No   \n",
       "\n",
       "                                V127  V133  year  \n",
       "0      Losetas, terrazos o similares  16.0  2019  \n",
       "1      Losetas, terrazos o similares   6.0  2019  \n",
       "2      Losetas, terrazos o similares  16.0  2019  \n",
       "3      Losetas, terrazos o similares   4.0  2019  \n",
       "4                   Cemento/ladrillo   1.0  2019  \n",
       "...                              ...   ...   ...  \n",
       "38330                           Pona   4.0  2019  \n",
       "38331                           Pona   6.0  2019  \n",
       "38332                           Pona   3.0  2019  \n",
       "38333                           Pona   9.0  2019  \n",
       "38334                           Pona   9.0  2019  \n",
       "\n",
       "[38335 rows x 23 columns]"
      ]
     },
     "execution_count": 121,
     "metadata": {},
     "output_type": "execute_result"
    }
   ],
   "source": [
    "# creating a new column with df.assign\n",
    "\n",
    "rec1_1.assign(year = 2019)"
   ]
  },
  {
   "cell_type": "code",
   "execution_count": 122,
   "metadata": {},
   "outputs": [
    {
     "data": {
      "text/plain": [
       "'Year of the survey'"
      ]
     },
     "execution_count": 122,
     "metadata": {},
     "output_type": "execute_result"
    }
   ],
   "source": [
    "# updating the new variable in the new_var_labels1 dictionary\n",
    "\n",
    "new_var_labels1.update({\"Year\": \"Year of the survey\"})\n",
    "new_var_labels1.get('Year')"
   ]
  },
  {
   "cell_type": "markdown",
   "metadata": {},
   "source": [
    "4. Merge `rec1_1`, `rec2_1`, and `rec3_1` using **CASEID**. Name this new object as `endes_2019`. **Hint: Use [this link](https://stackoverflow.com/questions/53645882/pandas-merging-101)**"
   ]
  },
  {
   "cell_type": "code",
   "execution_count": 123,
   "metadata": {},
   "outputs": [
    {
     "data": {
      "text/plain": [
       "((38335, 22), (36922, 25))"
      ]
     },
     "execution_count": 123,
     "metadata": {},
     "output_type": "execute_result"
    }
   ],
   "source": [
    "(rec1_1.shape, rec2_1.shape)"
   ]
  },
  {
   "cell_type": "code",
   "execution_count": 124,
   "metadata": {},
   "outputs": [
    {
     "data": {
      "text/plain": [
       "(38335, 46)"
      ]
     },
     "execution_count": 124,
     "metadata": {},
     "output_type": "execute_result"
    }
   ],
   "source": [
    "rec12_merge = rec1_1.merge(rec2_1 , \n",
    "                           on = [ 'CASEID'], \n",
    "                           how = \"left\", \n",
    "                           validate = \"m:1\" )\n",
    "rec12_merge.shape"
   ]
  },
  {
   "cell_type": "code",
   "execution_count": 125,
   "metadata": {},
   "outputs": [
    {
     "data": {
      "text/plain": [
       "(38335, 63)"
      ]
     },
     "execution_count": 125,
     "metadata": {},
     "output_type": "execute_result"
    }
   ],
   "source": [
    "endes_2019 = rec12_merge.merge(rec3_1, \n",
    "                               on = [ 'CASEID']\n",
    "                               , how = \"left\",\n",
    "                               validate = \"m:1\" )\n",
    "endes_2019.shape"
   ]
  },
  {
   "cell_type": "markdown",
   "metadata": {},
   "source": [
    "5. Unify all the `new_var_labels` in one object and `new_value_labels` in another one object. Name these two objects as `var_labels` and `value_labels`. Use them to generate new attributes for `endes_2019`. These attributes should be named as `var_labels` and `value_labels`. Your final output should be equal to `endes_2019_ta` object **Hint: Use `update` method.**"
   ]
  },
  {
   "cell_type": "code",
   "execution_count": 126,
   "metadata": {},
   "outputs": [],
   "source": [
    "output = urllib.request.urlopen(r'https://www.dropbox.com/s/gwcssinb1j9zr6s/endes_2019_ta.pkl?dl=1')\n",
    "endes_2019_ta = pickle.load( output )"
   ]
  },
  {
   "cell_type": "code",
   "execution_count": 127,
   "metadata": {},
   "outputs": [],
   "source": [
    "# Unifying all the new_var_labels\n",
    "\n",
    "new_var_labels1.update(new_var_labels2)\n",
    "new_var_labels1.update(new_var_labels3)\n",
    "\n",
    "# naming it var_labels\n",
    "var_labels = new_var_labels1"
   ]
  },
  {
   "cell_type": "code",
   "execution_count": 128,
   "metadata": {},
   "outputs": [],
   "source": [
    "# Unifying all the new_var_labels\n",
    "\n",
    "new_value_labels1.update(new_value_labels2)\n",
    "new_value_labels1.update(new_value_labels3)\n",
    "\n",
    "# naming it var_labels\n",
    "value_labels = new_value_labels1"
   ]
  },
  {
   "cell_type": "code",
   "execution_count": 129,
   "metadata": {},
   "outputs": [],
   "source": [
    "endes_2019.attrs['var_labels'] = var_labels\n",
    "endes_2019.attrs['value_labels'] = value_labels"
   ]
  },
  {
   "cell_type": "code",
   "execution_count": 130,
   "metadata": {},
   "outputs": [
    {
     "data": {
      "text/plain": [
       "False"
      ]
     },
     "execution_count": 130,
     "metadata": {},
     "output_type": "execute_result"
    }
   ],
   "source": [
    "endes_2019.attrs[ 'var_labels' ] == endes_2019_ta.attrs[ 'var_labels' ]"
   ]
  },
  {
   "cell_type": "code",
   "execution_count": 131,
   "metadata": {},
   "outputs": [
    {
     "data": {
      "text/plain": [
       "False"
      ]
     },
     "execution_count": 131,
     "metadata": {},
     "output_type": "execute_result"
    }
   ],
   "source": [
    "endes_2019.attrs[ 'value_labels' ] == endes_2019_ta.attrs[ 'value_labels' ]"
   ]
  },
  {
   "cell_type": "markdown",
   "metadata": {},
   "source": [
    "6. Now, replicate your code of the prevoius sections but for years **2019, 2018, 2017, 2016, 2015**. Import the `REC0111.sav`, `RE223132.sav` and `RE516171.sav` files and their **variables and values labels** from this path `\"../../_data/endes/\"`. For this excersie you must use a for loop. This loop must iterate over **2019, 2018, 2017, 2016, 2015 folders** and import these files. All the files have the same name. You must store these files and their labels in a nested dictionary named as `all_data`. The keys of the dictionary should be named as `year_2019`, for example, and the keys of the nested dictionary should be `data`, `var_labels`, and `value_labels`. The output of this exercise should be equal to the `all_data_ta` object. **Hint: Use [this link](https://notebooks.githubusercontent.com/view/ipynb?browser=chrome&color_mode=auto&commit=4d6de78e00e7001f16bf6473c2eb7ce24fb611cd&device=unknown_device&enc_url=68747470733a2f2f7261772e67697468756275736572636f6e74656e742e636f6d2f616c6578616e6465727175697370652f4469706c6f6d61646f5f505543502f346436646537386530306537303031663136626636343733633265623763653234666236313163642f4c6563747572655f342f4c6563747572655f342e6970796e62&logged_in=true&nwo=alexanderquispe%2FDiplomado_PUCP&path=Lecture_4%2FLecture_4.ipynb&platform=windows&repository_id=427747212&repository_type=Repository&version=95#4.2.)**"
   ]
  },
  {
   "cell_type": "code",
   "execution_count": 132,
   "metadata": {},
   "outputs": [
    {
     "name": "stdout",
     "output_type": "stream",
     "text": [
      " When we first import rec1 from year 2015, dimension's file was {(36655, 96)}\n",
      "Once we do the filter task, rec1 from year 2015's new dimension is {(36655, 22)}\n",
      "After creating this new var, rec1 from year 2015, has {(36655, 23)} obs\n"
     ]
    },
    {
     "ename": "KeyError",
     "evalue": "'rec2_2015_1'",
     "output_type": "error",
     "traceback": [
      "\u001b[1;31m---------------------------------------------------------------------------\u001b[0m",
      "\u001b[1;31mKeyError\u001b[0m                                  Traceback (most recent call last)",
      "\u001b[1;32m<ipython-input-132-09bef7cdff9f>\u001b[0m in \u001b[0;36m<module>\u001b[1;34m\u001b[0m\n\u001b[0;32m     45\u001b[0m         \u001b[1;31m# merge\u001b[0m\u001b[1;33m\u001b[0m\u001b[1;33m\u001b[0m\u001b[1;33m\u001b[0m\u001b[0m\n\u001b[0;32m     46\u001b[0m \u001b[1;33m\u001b[0m\u001b[0m\n\u001b[1;32m---> 47\u001b[1;33m         rec1_merge = globals()[f\"rec1_{i}_1\"].merge(globals()[f\"rec2_{i}_1\"] , \n\u001b[0m\u001b[0;32m     48\u001b[0m                            \u001b[0mon\u001b[0m \u001b[1;33m=\u001b[0m \u001b[1;33m[\u001b[0m \u001b[1;34m'CASEID'\u001b[0m\u001b[1;33m]\u001b[0m\u001b[1;33m,\u001b[0m\u001b[1;33m\u001b[0m\u001b[1;33m\u001b[0m\u001b[0m\n\u001b[0;32m     49\u001b[0m                            \u001b[0mhow\u001b[0m \u001b[1;33m=\u001b[0m \u001b[1;34m\"left\"\u001b[0m\u001b[1;33m,\u001b[0m\u001b[1;33m\u001b[0m\u001b[1;33m\u001b[0m\u001b[0m\n",
      "\u001b[1;31mKeyError\u001b[0m: 'rec2_2015_1'"
     ]
    }
   ],
   "source": [
    "value_labels = []\n",
    "var_labels = []\n",
    "rec1_filters = ['CASEID', 'V000', 'V001', 'V002', 'V003', 'V004', 'V007', 'V008', 'V009', 'V010', 'V011', 'V012','V024', 'V102', 'V120', 'V121', 'V122', 'V123', 'V124', 'V125', 'V127', 'V133' ]\n",
    "rec2_filters = ['CASEID', 'V201', 'V218', 'V301', 'V302', 'V323', 'V323A', 'V325A', 'V326', 'V327', 'V337', 'V359', 'V360', 'V361', 'V362', 'V363', 'V364', 'V367', 'V372', 'V372A', 'V375A', 'V376', 'V376A', 'V379', 'V380']\n",
    "rec3_filters = ['CASEID', 'V501', 'V502', 'V503', 'V504', 'V505', 'V506', 'V507', 'V508', 'V509', 'V510', 'V511', 'V512', 'V513', 'V525', 'V613', 'V714', 'V715']\n",
    "rec1_filters_1 = [\"CASEID\", \"V000\", \"V001\", \"V002\", \"V003\", \"V004\", \"V008\", \"V009\", \"V010\", \"V011\", \"V012\", \"V024\", \"V102\",\"V120\", \"V121\", \"V122\", \"V123\", \"V124\", \"V125\", \"V127\", \"V133\"]\n",
    "all_data = []\n",
    "\n",
    "for i in range(2015,2020):\n",
    "    \n",
    "    # Opening files \n",
    "    \n",
    "    globals()[f\"rec1_{i}\"], globals()[f\"meta_1_{i}\"] = pyreadstat.read_sav( fr\"../../_data/endes/{i}/REC0111.sav\" )\n",
    "    globals()[f\"rec2_{i}\"], globals()[f\"meta_2_{i}\"] = pyreadstat.read_sav( fr\"../../_data/endes/{i}/RE223132.sav\" )\n",
    "    globals()[f\"rec3_{i}\"], globals()[f\"meta_3_{i}\"] = pyreadstat.read_sav( fr\"../../_data/endes/{i}/RE516171.sav\" )\n",
    "    \n",
    "    for a in range(1,4):\n",
    "        print(f\" When we first import rec{a} from year {i}, dimension's file was\", {globals()[f\"rec{a}_{i}\"].shape})\n",
    "\n",
    "        globals()[f\"value_labels_{a}_{i}\"] = globals()[f\"meta_{a}_{i}\"].variable_value_labels\n",
    "        globals()[f\"var_labels_{a}_{i}\"] = globals()[f\"meta_{a}_{i}\"].column_names_to_labels\n",
    "        globals()[f\"rec{a}_{i}\"].attrs['value_labels'] = globals()[f\"value_labels_{a}_{i}\"]\n",
    "        globals()[f\"rec{a}_{i}\"].attrs['var_labels'] = globals()[f\"var_labels_{a}_{i}\"]\n",
    "       \n",
    "        if i == 2018:\n",
    "            rec1_2018_1 = rec1_2018.filter( items = rec1_filters_1 )\n",
    "            rec2_2018_1 = rec2_2018.filter( items = rec2_filters )\n",
    "            rec3_2018_1 = rec3_2018.filter( items = rec3_filters )\n",
    "        else:\n",
    "            globals()[f\"rec{a}_{i}_1\"] = globals()[f\"rec{a}_{i}\"].filter( items = globals()[f\"rec{a}_filters\"] )\n",
    "        print(f\"Once we do the filter task, rec{a} from year {i}'s new dimension is\", {globals()[f\"rec{a}_{i}_1\"].shape})\n",
    "\n",
    "        globals()[f\"selected_cols_rec{a}_{i}_1_1\"] = globals()[f\"rec{a}_{i}_1\"].columns\n",
    "        globals()[f\"new_var_labels{a}_{i}_1_1\"] = { col: globals()[f\"var_labels_{a}_{i}\"][ col ] for col in globals()[f\"selected_cols_rec{a}_{i}_1_1\"] }\n",
    "        globals()[f\"new_value_labels{a}_{i}_1_1\"] = { key: globals()[f\"value_labels_{a}_{i}\"] for key in globals()[f\"selected_cols_rec{a}_{i}_1_1\"] if key in globals()[f\"value_labels_{a}_{i}\"].keys() }\n",
    "     \n",
    "        globals()[f\"rec{a}_{i}_1\"]['year'] = i\n",
    "        print(f\"After creating this new var, rec{a} from year {i}, has\", {globals()[f\"rec{a}_{i}_1\"].shape}, \"obs\")\n",
    "       \n",
    "        # updating the new variable in the new_var_labels# dictionary\n",
    "\n",
    "        globals()[f\"new_var_labels{a}_{i}_1_1\"].update({\"Year\": \"Year of the survey\"})\n",
    "        globals()[f\"new_var_labels{a}_{i}_1_1\"].get('Year')\n",
    "        \n",
    "        # merge\n",
    "            \n",
    "        rec1_merge = globals()[f\"rec1_{i}_1\"].merge(globals()[f\"rec2_{i}_1\"] , \n",
    "                           on = [ 'CASEID'], \n",
    "                           how = \"left\", \n",
    "                           validate = \"m:1\" )\n",
    "        globals()[f\"endes_{i}\"] = rec1_merge.merge(globals()[f\"rec3_{i}_1\"], \n",
    "                               on = [ 'CASEID']\n",
    "                               , how = \"left\",\n",
    "                               validate = \"m:1\" )\n",
    "        print(f\"Now, endes_{i} has\", {globals()[f\"endes_{i}\"].shape}, \"of dimension\")\n",
    "        \n",
    "        # Unifying all the new_var_labels\n",
    "\n",
    "        globals()[f\"new_var_labels1_{i}_1_1\"].update(globals()[f\"new_var_labels2_{i}_1_1\"])\n",
    "        globals()[f\"new_var_labels1_{i}_1_1\"].update(globals()[f\"new_var_labels3_{i}_1_1\"])\n",
    "        globals()[f\"var_labels_{i}\"] = globals()[f\"new_var_labels1_{i}_1_1\"]\n",
    "\n",
    "        # Unifying all the new_var_labels\n",
    "        \n",
    "        globals()[f\"new_value_labels1_{i}_1_1\"].update(globals()[f\"new_value_labels2_{i}_1_1\"])\n",
    "        globals()[f\"new_value_labels1_{i}_1_1\"].update(globals()[f\"new_value_labels3_{i}_1_1\"])\n",
    "        globals()[f\"value_labels_{i}\"]  = globals()[f\"new_value_labels1_{i}_1_1\"]\n",
    "\n",
    "        globals()[f\"endes_{i}\"].attrs['var_labels'] = globals()[f\"var_labels_{i}\"]\n",
    "        globals()[f\"endes_{i}\"].attrs['value_labels'] = globals()[f\"value_labels_{i}\"]"
   ]
  },
  {
   "cell_type": "code",
   "execution_count": null,
   "metadata": {},
   "outputs": [],
   "source": [
    "all_data = { 'year_2015' : { 'data' : endes_2015,\n",
    "                          'var_labels' : var_labels_2015,\n",
    "                          'value_labels' : value_labels_2015 },\n",
    "           'year_2016' : { 'data' : endes_2016,\n",
    "                          'var_labels' : var_labels_2016,\n",
    "                          'value_labels' : value_labels_2016 },\n",
    "           'year_2017' : { 'data' : endes_2017,\n",
    "                          'var_labels' : var_labels_2017,\n",
    "                          'value_labels' : value_labels_2017 },\n",
    "           'year_2018' : { 'data' : endes_2018,\n",
    "                          'var_labels' : var_labels_2018,\n",
    "                          'value_labels' : value_labels_2018 },\n",
    "           'year_2019' : { 'data' : endes_2019,\n",
    "                          'var_labels' : var_labels_2019,\n",
    "                          'value_labels' : value_labels_2019 }}"
   ]
  },
  {
   "cell_type": "code",
   "execution_count": null,
   "metadata": {},
   "outputs": [],
   "source": [
    "# Now we are ask to compare endes_\"year\" with all_data_ta\n",
    "\n",
    "output = urllib.request.urlopen(r'https://www.dropbox.com/s/dqv1d9of2uo6hul/all_data_ta.pkl?dl=1')\n",
    "all_data_ta = pickle.load( output )"
   ]
  },
  {
   "cell_type": "code",
   "execution_count": null,
   "metadata": {},
   "outputs": [],
   "source": [
    "all_data.values() == all_data_ta.values()"
   ]
  },
  {
   "cell_type": "code",
   "execution_count": 133,
   "metadata": {},
   "outputs": [
    {
     "ename": "AttributeError",
     "evalue": "'list' object has no attribute 'keys'",
     "output_type": "error",
     "traceback": [
      "\u001b[1;31m---------------------------------------------------------------------------\u001b[0m",
      "\u001b[1;31mAttributeError\u001b[0m                            Traceback (most recent call last)",
      "\u001b[1;32m<ipython-input-133-2b91765f2c22>\u001b[0m in \u001b[0;36m<module>\u001b[1;34m\u001b[0m\n\u001b[1;32m----> 1\u001b[1;33m \u001b[0mall_data\u001b[0m\u001b[1;33m.\u001b[0m\u001b[0mkeys\u001b[0m\u001b[1;33m(\u001b[0m\u001b[1;33m)\u001b[0m \u001b[1;33m==\u001b[0m \u001b[0mall_data_ta\u001b[0m\u001b[1;33m.\u001b[0m\u001b[0mkeys\u001b[0m\u001b[1;33m(\u001b[0m\u001b[1;33m)\u001b[0m\u001b[1;33m\u001b[0m\u001b[1;33m\u001b[0m\u001b[0m\n\u001b[0m",
      "\u001b[1;31mAttributeError\u001b[0m: 'list' object has no attribute 'keys'"
     ]
    }
   ],
   "source": [
    "all_data.keys() == all_data_ta.keys()"
   ]
  },
  {
   "cell_type": "markdown",
   "metadata": {},
   "source": [
    "7. Use `all_data` to append all the data sets. Store all data sets in a list using `for loop`. Then, use `pd.concat` to append all the data sets. Also, you must reset the index to have a good-looking data. This new object should be named as `endes_data_2015_2019`. **Hint: Use [this code](https://stackoverflow.com/questions/32444138/concatenate-a-list-of-pandas-dataframes-together)**"
   ]
  },
  {
   "cell_type": "code",
   "execution_count": 134,
   "metadata": {},
   "outputs": [
    {
     "ename": "AttributeError",
     "evalue": "'list' object has no attribute 'values'",
     "output_type": "error",
     "traceback": [
      "\u001b[1;31m---------------------------------------------------------------------------\u001b[0m",
      "\u001b[1;31mAttributeError\u001b[0m                            Traceback (most recent call last)",
      "\u001b[1;32m<ipython-input-134-0828562009a8>\u001b[0m in \u001b[0;36m<module>\u001b[1;34m\u001b[0m\n\u001b[1;32m----> 1\u001b[1;33m \u001b[0mall_data\u001b[0m\u001b[1;33m.\u001b[0m\u001b[0mvalues\u001b[0m\u001b[1;33m(\u001b[0m\u001b[1;33m)\u001b[0m\u001b[1;33m\u001b[0m\u001b[1;33m\u001b[0m\u001b[0m\n\u001b[0m",
      "\u001b[1;31mAttributeError\u001b[0m: 'list' object has no attribute 'values'"
     ]
    }
   ],
   "source": [
    "all_data.values()"
   ]
  },
  {
   "cell_type": "code",
   "execution_count": 135,
   "metadata": {},
   "outputs": [
    {
     "ename": "TypeError",
     "evalue": "list indices must be integers or slices, not str",
     "output_type": "error",
     "traceback": [
      "\u001b[1;31m---------------------------------------------------------------------------\u001b[0m",
      "\u001b[1;31mTypeError\u001b[0m                                 Traceback (most recent call last)",
      "\u001b[1;32m<ipython-input-135-05c18c6ed268>\u001b[0m in \u001b[0;36m<module>\u001b[1;34m\u001b[0m\n\u001b[0;32m      2\u001b[0m \u001b[1;33m\u001b[0m\u001b[0m\n\u001b[0;32m      3\u001b[0m \u001b[1;32mfor\u001b[0m \u001b[0mi\u001b[0m \u001b[1;32min\u001b[0m \u001b[0mrange\u001b[0m\u001b[1;33m(\u001b[0m\u001b[1;36m2015\u001b[0m\u001b[1;33m,\u001b[0m \u001b[1;36m2020\u001b[0m\u001b[1;33m)\u001b[0m\u001b[1;33m:\u001b[0m\u001b[1;33m\u001b[0m\u001b[1;33m\u001b[0m\u001b[0m\n\u001b[1;32m----> 4\u001b[1;33m     \u001b[0maux\u001b[0m \u001b[1;33m=\u001b[0m  \u001b[0mall_data\u001b[0m\u001b[1;33m[\u001b[0m\u001b[1;34mf\"year_{i}\"\u001b[0m\u001b[1;33m]\u001b[0m\u001b[1;33m[\u001b[0m\u001b[1;34m\"data\"\u001b[0m\u001b[1;33m]\u001b[0m\u001b[1;33m\u001b[0m\u001b[1;33m\u001b[0m\u001b[0m\n\u001b[0m\u001b[0;32m      5\u001b[0m     \u001b[0mall_data_1\u001b[0m\u001b[1;33m.\u001b[0m\u001b[0mappend\u001b[0m\u001b[1;33m(\u001b[0m\u001b[0mendes_data_2015_2019\u001b[0m\u001b[1;33m)\u001b[0m\u001b[1;33m\u001b[0m\u001b[1;33m\u001b[0m\u001b[0m\n",
      "\u001b[1;31mTypeError\u001b[0m: list indices must be integers or slices, not str"
     ]
    }
   ],
   "source": [
    "all_data_1 = [] \n",
    "\n",
    "for i in range(2015, 2020):\n",
    "    aux =  all_data[f\"year_{i}\"][\"data\"] \n",
    "    all_data_1.append(endes_data_2015_2019)"
   ]
  },
  {
   "cell_type": "code",
   "execution_count": 88,
   "metadata": {},
   "outputs": [
    {
     "ename": "ValueError",
     "evalue": "No objects to concatenate",
     "output_type": "error",
     "traceback": [
      "\u001b[1;31m---------------------------------------------------------------------------\u001b[0m",
      "\u001b[1;31mValueError\u001b[0m                                Traceback (most recent call last)",
      "\u001b[1;32m<ipython-input-88-47b2bcc487d9>\u001b[0m in \u001b[0;36m<module>\u001b[1;34m\u001b[0m\n\u001b[1;32m----> 1\u001b[1;33m \u001b[0mendes_data_2015_2019_1\u001b[0m \u001b[1;33m=\u001b[0m \u001b[0mpd\u001b[0m\u001b[1;33m.\u001b[0m\u001b[0mconcat\u001b[0m\u001b[1;33m(\u001b[0m\u001b[0mall_data_1\u001b[0m\u001b[1;33m)\u001b[0m\u001b[1;33m\u001b[0m\u001b[1;33m\u001b[0m\u001b[0m\n\u001b[0m\u001b[0;32m      2\u001b[0m \u001b[0mendes_data_2015_2019\u001b[0m \u001b[1;33m=\u001b[0m \u001b[0mendes_data_2015_2019_1\u001b[0m\u001b[1;33m.\u001b[0m\u001b[0mreset_index\u001b[0m\u001b[1;33m(\u001b[0m \u001b[0mdrop\u001b[0m \u001b[1;33m=\u001b[0m \u001b[1;32mTrue\u001b[0m \u001b[1;33m)\u001b[0m\u001b[1;33m\u001b[0m\u001b[1;33m\u001b[0m\u001b[0m\n",
      "\u001b[1;32mC:\\Anaconda\\lib\\site-packages\\pandas\\core\\reshape\\concat.py\u001b[0m in \u001b[0;36mconcat\u001b[1;34m(objs, axis, join, ignore_index, keys, levels, names, verify_integrity, sort, copy)\u001b[0m\n\u001b[0;32m    283\u001b[0m     \u001b[0mValueError\u001b[0m\u001b[1;33m:\u001b[0m \u001b[0mIndexes\u001b[0m \u001b[0mhave\u001b[0m \u001b[0moverlapping\u001b[0m \u001b[0mvalues\u001b[0m\u001b[1;33m:\u001b[0m \u001b[1;33m[\u001b[0m\u001b[1;34m'a'\u001b[0m\u001b[1;33m]\u001b[0m\u001b[1;33m\u001b[0m\u001b[1;33m\u001b[0m\u001b[0m\n\u001b[0;32m    284\u001b[0m     \"\"\"\n\u001b[1;32m--> 285\u001b[1;33m     op = _Concatenator(\n\u001b[0m\u001b[0;32m    286\u001b[0m         \u001b[0mobjs\u001b[0m\u001b[1;33m,\u001b[0m\u001b[1;33m\u001b[0m\u001b[1;33m\u001b[0m\u001b[0m\n\u001b[0;32m    287\u001b[0m         \u001b[0maxis\u001b[0m\u001b[1;33m=\u001b[0m\u001b[0maxis\u001b[0m\u001b[1;33m,\u001b[0m\u001b[1;33m\u001b[0m\u001b[1;33m\u001b[0m\u001b[0m\n",
      "\u001b[1;32mC:\\Anaconda\\lib\\site-packages\\pandas\\core\\reshape\\concat.py\u001b[0m in \u001b[0;36m__init__\u001b[1;34m(self, objs, axis, join, keys, levels, names, ignore_index, verify_integrity, copy, sort)\u001b[0m\n\u001b[0;32m    340\u001b[0m \u001b[1;33m\u001b[0m\u001b[0m\n\u001b[0;32m    341\u001b[0m         \u001b[1;32mif\u001b[0m \u001b[0mlen\u001b[0m\u001b[1;33m(\u001b[0m\u001b[0mobjs\u001b[0m\u001b[1;33m)\u001b[0m \u001b[1;33m==\u001b[0m \u001b[1;36m0\u001b[0m\u001b[1;33m:\u001b[0m\u001b[1;33m\u001b[0m\u001b[1;33m\u001b[0m\u001b[0m\n\u001b[1;32m--> 342\u001b[1;33m             \u001b[1;32mraise\u001b[0m \u001b[0mValueError\u001b[0m\u001b[1;33m(\u001b[0m\u001b[1;34m\"No objects to concatenate\"\u001b[0m\u001b[1;33m)\u001b[0m\u001b[1;33m\u001b[0m\u001b[1;33m\u001b[0m\u001b[0m\n\u001b[0m\u001b[0;32m    343\u001b[0m \u001b[1;33m\u001b[0m\u001b[0m\n\u001b[0;32m    344\u001b[0m         \u001b[1;32mif\u001b[0m \u001b[0mkeys\u001b[0m \u001b[1;32mis\u001b[0m \u001b[1;32mNone\u001b[0m\u001b[1;33m:\u001b[0m\u001b[1;33m\u001b[0m\u001b[1;33m\u001b[0m\u001b[0m\n",
      "\u001b[1;31mValueError\u001b[0m: No objects to concatenate"
     ]
    }
   ],
   "source": [
    "endes_data_2015_2019_1 = pd.concat(all_data_1)\n",
    "endes_data_2015_2019 = endes_data_2015_2019_1.reset_index( drop = True )  "
   ]
  },
  {
   "cell_type": "code",
   "execution_count": 136,
   "metadata": {},
   "outputs": [
    {
     "ename": "NameError",
     "evalue": "name 'endes_data_2015_2019' is not defined",
     "output_type": "error",
     "traceback": [
      "\u001b[1;31m---------------------------------------------------------------------------\u001b[0m",
      "\u001b[1;31mNameError\u001b[0m                                 Traceback (most recent call last)",
      "\u001b[1;32m<ipython-input-136-c12f35e6949c>\u001b[0m in \u001b[0;36m<module>\u001b[1;34m\u001b[0m\n\u001b[1;32m----> 1\u001b[1;33m \u001b[0mendes_data_2015_2019\u001b[0m\u001b[1;33m\u001b[0m\u001b[1;33m\u001b[0m\u001b[0m\n\u001b[0m",
      "\u001b[1;31mNameError\u001b[0m: name 'endes_data_2015_2019' is not defined"
     ]
    }
   ],
   "source": [
    "endes_data_2015_2019"
   ]
  },
  {
   "cell_type": "markdown",
   "metadata": {},
   "source": [
    "8. Store all the `var_labels` and `value_labels` in a dictionary named as `all_var_labels` and `all_value_labels`. The first keys should be the year for both dictionaries.Then, use them to generate new attributes for `endes_data_2015_2019`. These attributes should be named as `var_labels` and `value_labels`. Your final output should be equal to `endes_data_2015_2019_ta` object. **Hint: Use [this link](https://notebooks.githubusercontent.com/view/ipynb?browser=chrome&color_mode=auto&commit=4d6de78e00e7001f16bf6473c2eb7ce24fb611cd&device=unknown_device&enc_url=68747470733a2f2f7261772e67697468756275736572636f6e74656e742e636f6d2f616c6578616e6465727175697370652f4469706c6f6d61646f5f505543502f346436646537386530306537303031663136626636343733633265623763653234666236313163642f4c6563747572655f342f4c6563747572655f342e6970796e62&logged_in=true&nwo=alexanderquispe%2FDiplomado_PUCP&path=Lecture_4%2FLecture_4.ipynb&platform=windows&repository_id=427747212&repository_type=Repository&version=95#4.2.3.)**"
   ]
  },
  {
   "cell_type": "code",
   "execution_count": 90,
   "metadata": {},
   "outputs": [
    {
     "ename": "TypeError",
     "evalue": "list indices must be integers or slices, not str",
     "output_type": "error",
     "traceback": [
      "\u001b[1;31m---------------------------------------------------------------------------\u001b[0m",
      "\u001b[1;31mTypeError\u001b[0m                                 Traceback (most recent call last)",
      "\u001b[1;32m<ipython-input-90-0e1e95cfddcf>\u001b[0m in \u001b[0;36m<module>\u001b[1;34m\u001b[0m\n\u001b[0;32m      3\u001b[0m \u001b[1;33m\u001b[0m\u001b[0m\n\u001b[0;32m      4\u001b[0m \u001b[1;32mfor\u001b[0m \u001b[0mi\u001b[0m \u001b[1;32min\u001b[0m \u001b[0mrange\u001b[0m \u001b[1;33m(\u001b[0m\u001b[1;36m2015\u001b[0m\u001b[1;33m,\u001b[0m \u001b[1;36m2020\u001b[0m\u001b[1;33m)\u001b[0m\u001b[1;33m:\u001b[0m\u001b[1;33m\u001b[0m\u001b[1;33m\u001b[0m\u001b[0m\n\u001b[1;32m----> 5\u001b[1;33m     \u001b[0mall_var_labels\u001b[0m\u001b[1;33m[\u001b[0m\u001b[1;34mf'{i}'\u001b[0m\u001b[1;33m]\u001b[0m \u001b[1;33m=\u001b[0m \u001b[0mall_data\u001b[0m\u001b[1;33m[\u001b[0m\u001b[1;34mf\"year_{i}\"\u001b[0m\u001b[1;33m]\u001b[0m\u001b[1;33m[\u001b[0m\u001b[1;34m\"var_labels\"\u001b[0m\u001b[1;33m]\u001b[0m\u001b[1;33m\u001b[0m\u001b[1;33m\u001b[0m\u001b[0m\n\u001b[0m\u001b[0;32m      6\u001b[0m     \u001b[0mall_value_labels\u001b[0m\u001b[1;33m[\u001b[0m\u001b[1;34mf'{i}'\u001b[0m\u001b[1;33m]\u001b[0m \u001b[1;33m=\u001b[0m \u001b[0mall_data\u001b[0m\u001b[1;33m[\u001b[0m\u001b[1;34mf\"year_{i}\"\u001b[0m\u001b[1;33m]\u001b[0m\u001b[1;33m[\u001b[0m\u001b[1;34m\"value_labels\"\u001b[0m\u001b[1;33m]\u001b[0m\u001b[1;33m\u001b[0m\u001b[1;33m\u001b[0m\u001b[0m\n",
      "\u001b[1;31mTypeError\u001b[0m: list indices must be integers or slices, not str"
     ]
    }
   ],
   "source": [
    "all_var_labels = {}\n",
    "all_value_labels = {} \n",
    "\n",
    "for i in range (2015, 2020):\n",
    "    all_var_labels[f'{i}'] = all_data[f\"year_{i}\"][\"var_labels\"]\n",
    "    all_value_labels[f'{i}'] = all_data[f\"year_{i}\"][\"value_labels\"]"
   ]
  },
  {
   "cell_type": "code",
   "execution_count": 91,
   "metadata": {},
   "outputs": [
    {
     "ename": "NameError",
     "evalue": "name 'endes_data_2015_2019' is not defined",
     "output_type": "error",
     "traceback": [
      "\u001b[1;31m---------------------------------------------------------------------------\u001b[0m",
      "\u001b[1;31mNameError\u001b[0m                                 Traceback (most recent call last)",
      "\u001b[1;32m<ipython-input-91-bd983b3f41d3>\u001b[0m in \u001b[0;36m<module>\u001b[1;34m\u001b[0m\n\u001b[1;32m----> 1\u001b[1;33m \u001b[0mendes_data_2015_2019\u001b[0m\u001b[1;33m.\u001b[0m\u001b[0mattrs\u001b[0m\u001b[1;33m[\u001b[0m\u001b[1;34m'var_labels'\u001b[0m\u001b[1;33m]\u001b[0m \u001b[1;33m=\u001b[0m \u001b[0mall_var_labels\u001b[0m\u001b[1;33m\u001b[0m\u001b[1;33m\u001b[0m\u001b[0m\n\u001b[0m\u001b[0;32m      2\u001b[0m \u001b[0mendes_data_2015_2019\u001b[0m\u001b[1;33m.\u001b[0m\u001b[0mattrs\u001b[0m\u001b[1;33m[\u001b[0m\u001b[1;34m'value_labels'\u001b[0m\u001b[1;33m]\u001b[0m \u001b[1;33m=\u001b[0m \u001b[0mall_value_labels\u001b[0m\u001b[1;33m\u001b[0m\u001b[1;33m\u001b[0m\u001b[0m\n",
      "\u001b[1;31mNameError\u001b[0m: name 'endes_data_2015_2019' is not defined"
     ]
    }
   ],
   "source": [
    "endes_data_2015_2019.attrs['var_labels'] = all_var_labels\n",
    "endes_data_2015_2019.attrs['value_labels'] = all_value_labels"
   ]
  },
  {
   "cell_type": "code",
   "execution_count": 139,
   "metadata": {},
   "outputs": [],
   "source": [
    "output = urllib.request.urlopen( r'https://www.dropbox.com/s/oifvyjrr7s0e1md/endes_data_2015_2019_ta.pkl?dl=1')\n",
    "endes_data_2015_2019_ta = pickle.load( output )"
   ]
  },
  {
   "cell_type": "code",
   "execution_count": null,
   "metadata": {},
   "outputs": [],
   "source": [
    "endes_data_2015_2019.attrs['value_labels'] == endes_data_2015_2019_ta.attrs['value_labels']"
   ]
  },
  {
   "cell_type": "markdown",
   "metadata": {},
   "source": [
    "9. Use `endes_data_2015_2019` data to generate a new object named `mean_key_vars` to find the mean of **total children ever born (V201)**, **Ideal number of children (V613)**, **Husbands education-single yrs (V715)**, and **Age at first marriage (V511)** by year and department **(V024)**. Name these columns as **mean_total_children, mean_ideal_children, mean_hb_yr_educ and mean_first_marriage**, respectively. **Hint: Use groupby and [this link](https://stackoverflow.com/questions/40901770/is-there-a-simple-way-to-change-a-column-of-yes-no-to-1-0-in-a-pandas-dataframe).**"
   ]
  },
  {
   "cell_type": "code",
   "execution_count": null,
   "metadata": {},
   "outputs": [],
   "source": [
    "#'V201', 'V613', 'V715', 'V511'"
   ]
  },
  {
   "cell_type": "code",
   "execution_count": 260,
   "metadata": {},
   "outputs": [
    {
     "data": {
      "text/plain": [
       "(182868, 6)"
      ]
     },
     "execution_count": 260,
     "metadata": {},
     "output_type": "execute_result"
    }
   ],
   "source": [
    "# subsetting dataframe\n",
    "endes_subset = endes_data_2015_2019_ta.loc[:, ['year', 'V024', 'V201', 'V613', 'V715', 'V511'] ]\n",
    "endes_subset.shape"
   ]
  },
  {
   "cell_type": "code",
   "execution_count": 214,
   "metadata": {},
   "outputs": [
    {
     "data": {
      "text/plain": [
       "year        0\n",
       "V024        0\n",
       "V201     5100\n",
       "V613    12492\n",
       "V715    50729\n",
       "V511    50645\n",
       "dtype: int64"
      ]
     },
     "execution_count": 214,
     "metadata": {},
     "output_type": "execute_result"
    }
   ],
   "source": [
    "# checking for NaN values\n",
    "endes_subset.isnull().sum()"
   ]
  },
  {
   "cell_type": "code",
   "execution_count": 221,
   "metadata": {},
   "outputs": [],
   "source": [
    "# droping rows if either ['V715', 'V511'] columns have NaN values\n",
    "#endes_key_vars = endes_subset.dropna( subset = ['V715', 'V511'], how = 'any' )"
   ]
  },
  {
   "cell_type": "code",
   "execution_count": 261,
   "metadata": {},
   "outputs": [],
   "source": [
    "#endes_key_vars.isnull().sum()"
   ]
  },
  {
   "cell_type": "code",
   "execution_count": 259,
   "metadata": {},
   "outputs": [
    {
     "data": {
      "text/plain": [
       "(132138, 6)"
      ]
     },
     "execution_count": 259,
     "metadata": {},
     "output_type": "execute_result"
    }
   ],
   "source": [
    "endes_key_vars.shape"
   ]
  },
  {
   "cell_type": "code",
   "execution_count": 266,
   "metadata": {},
   "outputs": [],
   "source": [
    "# grouping by by year and department \n",
    "key_vars_grouped = endes_subset.groupby( ['year', 'V024'], as_index = False)"
   ]
  },
  {
   "cell_type": "code",
   "execution_count": 267,
   "metadata": {},
   "outputs": [
    {
     "data": {
      "text/html": [
       "<div>\n",
       "<style scoped>\n",
       "    .dataframe tbody tr th:only-of-type {\n",
       "        vertical-align: middle;\n",
       "    }\n",
       "\n",
       "    .dataframe tbody tr th {\n",
       "        vertical-align: top;\n",
       "    }\n",
       "\n",
       "    .dataframe thead th {\n",
       "        text-align: right;\n",
       "    }\n",
       "</style>\n",
       "<table border=\"1\" class=\"dataframe\">\n",
       "  <thead>\n",
       "    <tr style=\"text-align: right;\">\n",
       "      <th></th>\n",
       "      <th>year</th>\n",
       "      <th>V024</th>\n",
       "      <th>V201</th>\n",
       "      <th>V511</th>\n",
       "    </tr>\n",
       "  </thead>\n",
       "  <tbody>\n",
       "    <tr>\n",
       "      <th>0</th>\n",
       "      <td>2015</td>\n",
       "      <td>Amazonas</td>\n",
       "      <td>2.445515</td>\n",
       "      <td>19.014493</td>\n",
       "    </tr>\n",
       "    <tr>\n",
       "      <th>1</th>\n",
       "      <td>2015</td>\n",
       "      <td>Ancash</td>\n",
       "      <td>2.028594</td>\n",
       "      <td>20.587935</td>\n",
       "    </tr>\n",
       "    <tr>\n",
       "      <th>2</th>\n",
       "      <td>2015</td>\n",
       "      <td>Apurimac</td>\n",
       "      <td>2.415771</td>\n",
       "      <td>19.641466</td>\n",
       "    </tr>\n",
       "    <tr>\n",
       "      <th>3</th>\n",
       "      <td>2015</td>\n",
       "      <td>Arequipa</td>\n",
       "      <td>1.711661</td>\n",
       "      <td>22.038043</td>\n",
       "    </tr>\n",
       "    <tr>\n",
       "      <th>4</th>\n",
       "      <td>2015</td>\n",
       "      <td>Ayacucho</td>\n",
       "      <td>2.493585</td>\n",
       "      <td>20.037555</td>\n",
       "    </tr>\n",
       "    <tr>\n",
       "      <th>...</th>\n",
       "      <td>...</td>\n",
       "      <td>...</td>\n",
       "      <td>...</td>\n",
       "      <td>...</td>\n",
       "    </tr>\n",
       "    <tr>\n",
       "      <th>120</th>\n",
       "      <td>2019</td>\n",
       "      <td>Ayacucho</td>\n",
       "      <td>1.848787</td>\n",
       "      <td>20.340228</td>\n",
       "    </tr>\n",
       "    <tr>\n",
       "      <th>121</th>\n",
       "      <td>2019</td>\n",
       "      <td>Cajamarca</td>\n",
       "      <td>1.931559</td>\n",
       "      <td>19.610695</td>\n",
       "    </tr>\n",
       "    <tr>\n",
       "      <th>122</th>\n",
       "      <td>2019</td>\n",
       "      <td>Callao</td>\n",
       "      <td>1.567164</td>\n",
       "      <td>21.517241</td>\n",
       "    </tr>\n",
       "    <tr>\n",
       "      <th>123</th>\n",
       "      <td>2019</td>\n",
       "      <td>Cusco</td>\n",
       "      <td>1.894415</td>\n",
       "      <td>20.283154</td>\n",
       "    </tr>\n",
       "    <tr>\n",
       "      <th>124</th>\n",
       "      <td>2019</td>\n",
       "      <td>Huancavelica</td>\n",
       "      <td>2.083969</td>\n",
       "      <td>19.780769</td>\n",
       "    </tr>\n",
       "  </tbody>\n",
       "</table>\n",
       "<p>125 rows × 4 columns</p>\n",
       "</div>"
      ],
      "text/plain": [
       "     year          V024      V201       V511\n",
       "0    2015      Amazonas  2.445515  19.014493\n",
       "1    2015        Ancash  2.028594  20.587935\n",
       "2    2015      Apurimac  2.415771  19.641466\n",
       "3    2015      Arequipa  1.711661  22.038043\n",
       "4    2015      Ayacucho  2.493585  20.037555\n",
       "..    ...           ...       ...        ...\n",
       "120  2019      Ayacucho  1.848787  20.340228\n",
       "121  2019     Cajamarca  1.931559  19.610695\n",
       "122  2019        Callao  1.567164  21.517241\n",
       "123  2019         Cusco  1.894415  20.283154\n",
       "124  2019  Huancavelica  2.083969  19.780769\n",
       "\n",
       "[125 rows x 4 columns]"
      ]
     },
     "execution_count": 267,
     "metadata": {},
     "output_type": "execute_result"
    }
   ],
   "source": [
    "key_vars_grouped.agg('mean')"
   ]
  },
  {
   "cell_type": "code",
   "execution_count": 271,
   "metadata": {},
   "outputs": [
    {
     "data": {
      "text/html": [
       "<div>\n",
       "<style scoped>\n",
       "    .dataframe tbody tr th:only-of-type {\n",
       "        vertical-align: middle;\n",
       "    }\n",
       "\n",
       "    .dataframe tbody tr th {\n",
       "        vertical-align: top;\n",
       "    }\n",
       "\n",
       "    .dataframe thead th {\n",
       "        text-align: right;\n",
       "    }\n",
       "</style>\n",
       "<table border=\"1\" class=\"dataframe\">\n",
       "  <thead>\n",
       "    <tr style=\"text-align: right;\">\n",
       "      <th></th>\n",
       "      <th>year</th>\n",
       "      <th>V024</th>\n",
       "      <th>mean_total_children</th>\n",
       "      <th>mean_first_marriage</th>\n",
       "    </tr>\n",
       "  </thead>\n",
       "  <tbody>\n",
       "    <tr>\n",
       "      <th>0</th>\n",
       "      <td>2015</td>\n",
       "      <td>Amazonas</td>\n",
       "      <td>2.445515</td>\n",
       "      <td>19.014493</td>\n",
       "    </tr>\n",
       "    <tr>\n",
       "      <th>1</th>\n",
       "      <td>2015</td>\n",
       "      <td>Ancash</td>\n",
       "      <td>2.028594</td>\n",
       "      <td>20.587935</td>\n",
       "    </tr>\n",
       "    <tr>\n",
       "      <th>2</th>\n",
       "      <td>2015</td>\n",
       "      <td>Apurimac</td>\n",
       "      <td>2.415771</td>\n",
       "      <td>19.641466</td>\n",
       "    </tr>\n",
       "    <tr>\n",
       "      <th>3</th>\n",
       "      <td>2015</td>\n",
       "      <td>Arequipa</td>\n",
       "      <td>1.711661</td>\n",
       "      <td>22.038043</td>\n",
       "    </tr>\n",
       "    <tr>\n",
       "      <th>4</th>\n",
       "      <td>2015</td>\n",
       "      <td>Ayacucho</td>\n",
       "      <td>2.493585</td>\n",
       "      <td>20.037555</td>\n",
       "    </tr>\n",
       "    <tr>\n",
       "      <th>...</th>\n",
       "      <td>...</td>\n",
       "      <td>...</td>\n",
       "      <td>...</td>\n",
       "      <td>...</td>\n",
       "    </tr>\n",
       "    <tr>\n",
       "      <th>120</th>\n",
       "      <td>2019</td>\n",
       "      <td>Ayacucho</td>\n",
       "      <td>1.848787</td>\n",
       "      <td>20.340228</td>\n",
       "    </tr>\n",
       "    <tr>\n",
       "      <th>121</th>\n",
       "      <td>2019</td>\n",
       "      <td>Cajamarca</td>\n",
       "      <td>1.931559</td>\n",
       "      <td>19.610695</td>\n",
       "    </tr>\n",
       "    <tr>\n",
       "      <th>122</th>\n",
       "      <td>2019</td>\n",
       "      <td>Callao</td>\n",
       "      <td>1.567164</td>\n",
       "      <td>21.517241</td>\n",
       "    </tr>\n",
       "    <tr>\n",
       "      <th>123</th>\n",
       "      <td>2019</td>\n",
       "      <td>Cusco</td>\n",
       "      <td>1.894415</td>\n",
       "      <td>20.283154</td>\n",
       "    </tr>\n",
       "    <tr>\n",
       "      <th>124</th>\n",
       "      <td>2019</td>\n",
       "      <td>Huancavelica</td>\n",
       "      <td>2.083969</td>\n",
       "      <td>19.780769</td>\n",
       "    </tr>\n",
       "  </tbody>\n",
       "</table>\n",
       "<p>125 rows × 4 columns</p>\n",
       "</div>"
      ],
      "text/plain": [
       "     year          V024  mean_total_children  mean_first_marriage\n",
       "0    2015      Amazonas             2.445515            19.014493\n",
       "1    2015        Ancash             2.028594            20.587935\n",
       "2    2015      Apurimac             2.415771            19.641466\n",
       "3    2015      Arequipa             1.711661            22.038043\n",
       "4    2015      Ayacucho             2.493585            20.037555\n",
       "..    ...           ...                  ...                  ...\n",
       "120  2019      Ayacucho             1.848787            20.340228\n",
       "121  2019     Cajamarca             1.931559            19.610695\n",
       "122  2019        Callao             1.567164            21.517241\n",
       "123  2019         Cusco             1.894415            20.283154\n",
       "124  2019  Huancavelica             2.083969            19.780769\n",
       "\n",
       "[125 rows x 4 columns]"
      ]
     },
     "execution_count": 271,
     "metadata": {},
     "output_type": "execute_result"
    }
   ],
   "source": [
    "# couldn't agg for variables 'V715' and 'V511'\n",
    "mean_key_vars = key_vars_grouped.agg(\n",
    "    mean_total_children = ('V201', np.mean),\n",
    "    mean_first_marriage = ('V511', np.mean))\n",
    "    #mean_ideal_children =  ('V715', np.mean),\n",
    "    #mean_hb_yr_educ = ('V511', np.mean))\n",
    "mean_key_vars"
   ]
  },
  {
   "cell_type": "code",
   "execution_count": null,
   "metadata": {},
   "outputs": [],
   "source": [
    "#'V201', 'V613', 'V715', 'V511'"
   ]
  },
  {
   "cell_type": "markdown",
   "metadata": {},
   "source": [
    "10. Merge `mean_key_vars` with `endes_data_2015_2019`. Name this object `final_result`. Your ouput should be equal to `final_result_ta`. **Hint: Use merge.**"
   ]
  },
  {
   "cell_type": "code",
   "execution_count": 252,
   "metadata": {},
   "outputs": [],
   "source": [
    "output = urllib.request.urlopen( r'https://www.dropbox.com/s/ntor3jbpdxpj9u1/final_result_ta.pkl?dl=1' )\n",
    "final_result_ta = pickle.load( output )"
   ]
  },
  {
   "cell_type": "code",
   "execution_count": 254,
   "metadata": {},
   "outputs": [
    {
     "data": {
      "text/html": [
       "<div>\n",
       "<style scoped>\n",
       "    .dataframe tbody tr th:only-of-type {\n",
       "        vertical-align: middle;\n",
       "    }\n",
       "\n",
       "    .dataframe tbody tr th {\n",
       "        vertical-align: top;\n",
       "    }\n",
       "\n",
       "    .dataframe thead th {\n",
       "        text-align: right;\n",
       "    }\n",
       "</style>\n",
       "<table border=\"1\" class=\"dataframe\">\n",
       "  <thead>\n",
       "    <tr style=\"text-align: right;\">\n",
       "      <th></th>\n",
       "      <th>CASEID</th>\n",
       "      <th>V000</th>\n",
       "      <th>V001</th>\n",
       "      <th>V002</th>\n",
       "      <th>V003</th>\n",
       "      <th>V004</th>\n",
       "      <th>V008</th>\n",
       "      <th>V009</th>\n",
       "      <th>V010</th>\n",
       "      <th>V011</th>\n",
       "      <th>...</th>\n",
       "      <th>V512</th>\n",
       "      <th>V513</th>\n",
       "      <th>V525</th>\n",
       "      <th>V613</th>\n",
       "      <th>V714</th>\n",
       "      <th>V715</th>\n",
       "      <th>mean_total_children</th>\n",
       "      <th>mean_ideal_children</th>\n",
       "      <th>mean_hb_yr_educ</th>\n",
       "      <th>mean_first_marriage</th>\n",
       "    </tr>\n",
       "  </thead>\n",
       "  <tbody>\n",
       "    <tr>\n",
       "      <th>0</th>\n",
       "      <td>000102701  1</td>\n",
       "      <td>PE6</td>\n",
       "      <td>1.0</td>\n",
       "      <td>27.0</td>\n",
       "      <td>1.0</td>\n",
       "      <td>1.0</td>\n",
       "      <td>1386.0</td>\n",
       "      <td>7.0</td>\n",
       "      <td>1985.0</td>\n",
       "      <td>1027.0</td>\n",
       "      <td>...</td>\n",
       "      <td>13.0</td>\n",
       "      <td>10-14</td>\n",
       "      <td>15.0</td>\n",
       "      <td>4.0</td>\n",
       "      <td>Yes</td>\n",
       "      <td>3.0</td>\n",
       "      <td>2.445515</td>\n",
       "      <td>2.556632</td>\n",
       "      <td>8.195632</td>\n",
       "      <td>19.014493</td>\n",
       "    </tr>\n",
       "    <tr>\n",
       "      <th>1</th>\n",
       "      <td>000104301  1</td>\n",
       "      <td>PE6</td>\n",
       "      <td>1.0</td>\n",
       "      <td>43.0</td>\n",
       "      <td>1.0</td>\n",
       "      <td>1.0</td>\n",
       "      <td>1386.0</td>\n",
       "      <td>4.0</td>\n",
       "      <td>1974.0</td>\n",
       "      <td>892.0</td>\n",
       "      <td>...</td>\n",
       "      <td>8.0</td>\n",
       "      <td>5-9</td>\n",
       "      <td>26.0</td>\n",
       "      <td>2.0</td>\n",
       "      <td>No</td>\n",
       "      <td>9.0</td>\n",
       "      <td>2.445515</td>\n",
       "      <td>2.556632</td>\n",
       "      <td>8.195632</td>\n",
       "      <td>19.014493</td>\n",
       "    </tr>\n",
       "    <tr>\n",
       "      <th>2</th>\n",
       "      <td>000104801  2</td>\n",
       "      <td>PE6</td>\n",
       "      <td>1.0</td>\n",
       "      <td>48.0</td>\n",
       "      <td>2.0</td>\n",
       "      <td>1.0</td>\n",
       "      <td>1386.0</td>\n",
       "      <td>1.0</td>\n",
       "      <td>1980.0</td>\n",
       "      <td>961.0</td>\n",
       "      <td>...</td>\n",
       "      <td>17.0</td>\n",
       "      <td>15-19</td>\n",
       "      <td>18.0</td>\n",
       "      <td>1.0</td>\n",
       "      <td>Yes</td>\n",
       "      <td>11.0</td>\n",
       "      <td>2.445515</td>\n",
       "      <td>2.556632</td>\n",
       "      <td>8.195632</td>\n",
       "      <td>19.014493</td>\n",
       "    </tr>\n",
       "    <tr>\n",
       "      <th>3</th>\n",
       "      <td>000104801  3</td>\n",
       "      <td>PE6</td>\n",
       "      <td>1.0</td>\n",
       "      <td>48.0</td>\n",
       "      <td>3.0</td>\n",
       "      <td>1.0</td>\n",
       "      <td>1386.0</td>\n",
       "      <td>11.0</td>\n",
       "      <td>1999.0</td>\n",
       "      <td>1199.0</td>\n",
       "      <td>...</td>\n",
       "      <td>NaN</td>\n",
       "      <td>Never married</td>\n",
       "      <td>Not had intercourse</td>\n",
       "      <td>0.0</td>\n",
       "      <td>Yes</td>\n",
       "      <td>NaN</td>\n",
       "      <td>2.445515</td>\n",
       "      <td>2.556632</td>\n",
       "      <td>8.195632</td>\n",
       "      <td>19.014493</td>\n",
       "    </tr>\n",
       "    <tr>\n",
       "      <th>4</th>\n",
       "      <td>000105001  3</td>\n",
       "      <td>PE6</td>\n",
       "      <td>1.0</td>\n",
       "      <td>50.0</td>\n",
       "      <td>3.0</td>\n",
       "      <td>1.0</td>\n",
       "      <td>1386.0</td>\n",
       "      <td>8.0</td>\n",
       "      <td>1993.0</td>\n",
       "      <td>1124.0</td>\n",
       "      <td>...</td>\n",
       "      <td>NaN</td>\n",
       "      <td>Never married</td>\n",
       "      <td>21.0</td>\n",
       "      <td>2.0</td>\n",
       "      <td>No</td>\n",
       "      <td>NaN</td>\n",
       "      <td>2.445515</td>\n",
       "      <td>2.556632</td>\n",
       "      <td>8.195632</td>\n",
       "      <td>19.014493</td>\n",
       "    </tr>\n",
       "    <tr>\n",
       "      <th>...</th>\n",
       "      <td>...</td>\n",
       "      <td>...</td>\n",
       "      <td>...</td>\n",
       "      <td>...</td>\n",
       "      <td>...</td>\n",
       "      <td>...</td>\n",
       "      <td>...</td>\n",
       "      <td>...</td>\n",
       "      <td>...</td>\n",
       "      <td>...</td>\n",
       "      <td>...</td>\n",
       "      <td>...</td>\n",
       "      <td>...</td>\n",
       "      <td>...</td>\n",
       "      <td>...</td>\n",
       "      <td>...</td>\n",
       "      <td>...</td>\n",
       "      <td>...</td>\n",
       "      <td>...</td>\n",
       "      <td>...</td>\n",
       "      <td>...</td>\n",
       "    </tr>\n",
       "    <tr>\n",
       "      <th>182863</th>\n",
       "      <td>325406201  2</td>\n",
       "      <td>PE6</td>\n",
       "      <td>3254.0</td>\n",
       "      <td>62.0</td>\n",
       "      <td>2.0</td>\n",
       "      <td>3254.0</td>\n",
       "      <td>1440.0</td>\n",
       "      <td>12.0</td>\n",
       "      <td>1971.0</td>\n",
       "      <td>864.0</td>\n",
       "      <td>...</td>\n",
       "      <td>34.0</td>\n",
       "      <td>De 30 a más años</td>\n",
       "      <td>12.0</td>\n",
       "      <td>3.0</td>\n",
       "      <td>No</td>\n",
       "      <td>5.0</td>\n",
       "      <td>2.012258</td>\n",
       "      <td>2.388399</td>\n",
       "      <td>10.709355</td>\n",
       "      <td>18.985481</td>\n",
       "    </tr>\n",
       "    <tr>\n",
       "      <th>182864</th>\n",
       "      <td>325406301  2</td>\n",
       "      <td>PE6</td>\n",
       "      <td>3254.0</td>\n",
       "      <td>63.0</td>\n",
       "      <td>2.0</td>\n",
       "      <td>3254.0</td>\n",
       "      <td>1440.0</td>\n",
       "      <td>6.0</td>\n",
       "      <td>1988.0</td>\n",
       "      <td>1063.0</td>\n",
       "      <td>...</td>\n",
       "      <td>17.0</td>\n",
       "      <td>De 15 a 19 años</td>\n",
       "      <td>12.0</td>\n",
       "      <td>3.0</td>\n",
       "      <td>No</td>\n",
       "      <td>7.0</td>\n",
       "      <td>2.012258</td>\n",
       "      <td>2.388399</td>\n",
       "      <td>10.709355</td>\n",
       "      <td>18.985481</td>\n",
       "    </tr>\n",
       "    <tr>\n",
       "      <th>182865</th>\n",
       "      <td>325407001  2</td>\n",
       "      <td>PE6</td>\n",
       "      <td>3254.0</td>\n",
       "      <td>70.0</td>\n",
       "      <td>2.0</td>\n",
       "      <td>3254.0</td>\n",
       "      <td>1440.0</td>\n",
       "      <td>7.0</td>\n",
       "      <td>1973.0</td>\n",
       "      <td>883.0</td>\n",
       "      <td>...</td>\n",
       "      <td>33.0</td>\n",
       "      <td>De 30 a más años</td>\n",
       "      <td>12.0</td>\n",
       "      <td>4.0</td>\n",
       "      <td>No</td>\n",
       "      <td>5.0</td>\n",
       "      <td>2.012258</td>\n",
       "      <td>2.388399</td>\n",
       "      <td>10.709355</td>\n",
       "      <td>18.985481</td>\n",
       "    </tr>\n",
       "    <tr>\n",
       "      <th>182866</th>\n",
       "      <td>325407201  2</td>\n",
       "      <td>PE6</td>\n",
       "      <td>3254.0</td>\n",
       "      <td>72.0</td>\n",
       "      <td>2.0</td>\n",
       "      <td>3254.0</td>\n",
       "      <td>1440.0</td>\n",
       "      <td>12.0</td>\n",
       "      <td>1994.0</td>\n",
       "      <td>1140.0</td>\n",
       "      <td>...</td>\n",
       "      <td>11.0</td>\n",
       "      <td>De 10 a 14 años</td>\n",
       "      <td>13.0</td>\n",
       "      <td>2.0</td>\n",
       "      <td>No</td>\n",
       "      <td>11.0</td>\n",
       "      <td>2.012258</td>\n",
       "      <td>2.388399</td>\n",
       "      <td>10.709355</td>\n",
       "      <td>18.985481</td>\n",
       "    </tr>\n",
       "    <tr>\n",
       "      <th>182867</th>\n",
       "      <td>325407401  2</td>\n",
       "      <td>PE6</td>\n",
       "      <td>3254.0</td>\n",
       "      <td>74.0</td>\n",
       "      <td>2.0</td>\n",
       "      <td>3254.0</td>\n",
       "      <td>1440.0</td>\n",
       "      <td>10.0</td>\n",
       "      <td>1996.0</td>\n",
       "      <td>1163.0</td>\n",
       "      <td>...</td>\n",
       "      <td>6.0</td>\n",
       "      <td>De 5 a 9 años</td>\n",
       "      <td>15.0</td>\n",
       "      <td>2.0</td>\n",
       "      <td>No</td>\n",
       "      <td>11.0</td>\n",
       "      <td>2.012258</td>\n",
       "      <td>2.388399</td>\n",
       "      <td>10.709355</td>\n",
       "      <td>18.985481</td>\n",
       "    </tr>\n",
       "  </tbody>\n",
       "</table>\n",
       "<p>182868 rows × 67 columns</p>\n",
       "</div>"
      ],
      "text/plain": [
       "                    CASEID V000    V001  V002  V003    V004    V008  V009  \\\n",
       "0             000102701  1  PE6     1.0  27.0   1.0     1.0  1386.0   7.0   \n",
       "1             000104301  1  PE6     1.0  43.0   1.0     1.0  1386.0   4.0   \n",
       "2             000104801  2  PE6     1.0  48.0   2.0     1.0  1386.0   1.0   \n",
       "3             000104801  3  PE6     1.0  48.0   3.0     1.0  1386.0  11.0   \n",
       "4             000105001  3  PE6     1.0  50.0   3.0     1.0  1386.0   8.0   \n",
       "...                    ...  ...     ...   ...   ...     ...     ...   ...   \n",
       "182863        325406201  2  PE6  3254.0  62.0   2.0  3254.0  1440.0  12.0   \n",
       "182864        325406301  2  PE6  3254.0  63.0   2.0  3254.0  1440.0   6.0   \n",
       "182865        325407001  2  PE6  3254.0  70.0   2.0  3254.0  1440.0   7.0   \n",
       "182866        325407201  2  PE6  3254.0  72.0   2.0  3254.0  1440.0  12.0   \n",
       "182867        325407401  2  PE6  3254.0  74.0   2.0  3254.0  1440.0  10.0   \n",
       "\n",
       "          V010    V011  ...  V512              V513                 V525 V613  \\\n",
       "0       1985.0  1027.0  ...  13.0             10-14                 15.0  4.0   \n",
       "1       1974.0   892.0  ...   8.0               5-9                 26.0  2.0   \n",
       "2       1980.0   961.0  ...  17.0             15-19                 18.0  1.0   \n",
       "3       1999.0  1199.0  ...   NaN     Never married  Not had intercourse  0.0   \n",
       "4       1993.0  1124.0  ...   NaN     Never married                 21.0  2.0   \n",
       "...        ...     ...  ...   ...               ...                  ...  ...   \n",
       "182863  1971.0   864.0  ...  34.0  De 30 a más años                 12.0  3.0   \n",
       "182864  1988.0  1063.0  ...  17.0   De 15 a 19 años                 12.0  3.0   \n",
       "182865  1973.0   883.0  ...  33.0  De 30 a más años                 12.0  4.0   \n",
       "182866  1994.0  1140.0  ...  11.0   De 10 a 14 años                 13.0  2.0   \n",
       "182867  1996.0  1163.0  ...   6.0     De 5 a 9 años                 15.0  2.0   \n",
       "\n",
       "       V714  V715 mean_total_children mean_ideal_children mean_hb_yr_educ  \\\n",
       "0       Yes   3.0            2.445515            2.556632        8.195632   \n",
       "1        No   9.0            2.445515            2.556632        8.195632   \n",
       "2       Yes  11.0            2.445515            2.556632        8.195632   \n",
       "3       Yes   NaN            2.445515            2.556632        8.195632   \n",
       "4        No   NaN            2.445515            2.556632        8.195632   \n",
       "...     ...   ...                 ...                 ...             ...   \n",
       "182863   No   5.0            2.012258            2.388399       10.709355   \n",
       "182864   No   7.0            2.012258            2.388399       10.709355   \n",
       "182865   No   5.0            2.012258            2.388399       10.709355   \n",
       "182866   No  11.0            2.012258            2.388399       10.709355   \n",
       "182867   No  11.0            2.012258            2.388399       10.709355   \n",
       "\n",
       "       mean_first_marriage  \n",
       "0                19.014493  \n",
       "1                19.014493  \n",
       "2                19.014493  \n",
       "3                19.014493  \n",
       "4                19.014493  \n",
       "...                    ...  \n",
       "182863           18.985481  \n",
       "182864           18.985481  \n",
       "182865           18.985481  \n",
       "182866           18.985481  \n",
       "182867           18.985481  \n",
       "\n",
       "[182868 rows x 67 columns]"
      ]
     },
     "execution_count": 254,
     "metadata": {},
     "output_type": "execute_result"
    }
   ],
   "source": [
    "final_result_ta"
   ]
  },
  {
   "cell_type": "code",
   "execution_count": 272,
   "metadata": {},
   "outputs": [
    {
     "data": {
      "text/html": [
       "<div>\n",
       "<style scoped>\n",
       "    .dataframe tbody tr th:only-of-type {\n",
       "        vertical-align: middle;\n",
       "    }\n",
       "\n",
       "    .dataframe tbody tr th {\n",
       "        vertical-align: top;\n",
       "    }\n",
       "\n",
       "    .dataframe thead th {\n",
       "        text-align: right;\n",
       "    }\n",
       "</style>\n",
       "<table border=\"1\" class=\"dataframe\">\n",
       "  <thead>\n",
       "    <tr style=\"text-align: right;\">\n",
       "      <th></th>\n",
       "      <th>CASEID</th>\n",
       "      <th>V000</th>\n",
       "      <th>V001</th>\n",
       "      <th>V002</th>\n",
       "      <th>V003</th>\n",
       "      <th>V004</th>\n",
       "      <th>V008</th>\n",
       "      <th>V009</th>\n",
       "      <th>V010</th>\n",
       "      <th>V011</th>\n",
       "      <th>...</th>\n",
       "      <th>V510</th>\n",
       "      <th>V511</th>\n",
       "      <th>V512</th>\n",
       "      <th>V513</th>\n",
       "      <th>V525</th>\n",
       "      <th>V613</th>\n",
       "      <th>V714</th>\n",
       "      <th>V715</th>\n",
       "      <th>mean_total_children</th>\n",
       "      <th>mean_first_marriage</th>\n",
       "    </tr>\n",
       "  </thead>\n",
       "  <tbody>\n",
       "    <tr>\n",
       "      <th>0</th>\n",
       "      <td>000102701  1</td>\n",
       "      <td>PE6</td>\n",
       "      <td>1.0</td>\n",
       "      <td>27.0</td>\n",
       "      <td>1.0</td>\n",
       "      <td>1.0</td>\n",
       "      <td>1386.0</td>\n",
       "      <td>7.0</td>\n",
       "      <td>1985.0</td>\n",
       "      <td>1027.0</td>\n",
       "      <td>...</td>\n",
       "      <td>Month and year</td>\n",
       "      <td>16.0</td>\n",
       "      <td>13.0</td>\n",
       "      <td>10-14</td>\n",
       "      <td>15.0</td>\n",
       "      <td>4.0</td>\n",
       "      <td>Yes</td>\n",
       "      <td>3.0</td>\n",
       "      <td>2.445515</td>\n",
       "      <td>19.014493</td>\n",
       "    </tr>\n",
       "    <tr>\n",
       "      <th>1</th>\n",
       "      <td>000104301  1</td>\n",
       "      <td>PE6</td>\n",
       "      <td>1.0</td>\n",
       "      <td>43.0</td>\n",
       "      <td>1.0</td>\n",
       "      <td>1.0</td>\n",
       "      <td>1386.0</td>\n",
       "      <td>4.0</td>\n",
       "      <td>1974.0</td>\n",
       "      <td>892.0</td>\n",
       "      <td>...</td>\n",
       "      <td>Month and year</td>\n",
       "      <td>33.0</td>\n",
       "      <td>8.0</td>\n",
       "      <td>5-9</td>\n",
       "      <td>26.0</td>\n",
       "      <td>2.0</td>\n",
       "      <td>No</td>\n",
       "      <td>9.0</td>\n",
       "      <td>2.445515</td>\n",
       "      <td>19.014493</td>\n",
       "    </tr>\n",
       "    <tr>\n",
       "      <th>2</th>\n",
       "      <td>000104801  2</td>\n",
       "      <td>PE6</td>\n",
       "      <td>1.0</td>\n",
       "      <td>48.0</td>\n",
       "      <td>2.0</td>\n",
       "      <td>1.0</td>\n",
       "      <td>1386.0</td>\n",
       "      <td>1.0</td>\n",
       "      <td>1980.0</td>\n",
       "      <td>961.0</td>\n",
       "      <td>...</td>\n",
       "      <td>Month and year</td>\n",
       "      <td>18.0</td>\n",
       "      <td>17.0</td>\n",
       "      <td>15-19</td>\n",
       "      <td>18.0</td>\n",
       "      <td>1.0</td>\n",
       "      <td>Yes</td>\n",
       "      <td>11.0</td>\n",
       "      <td>2.445515</td>\n",
       "      <td>19.014493</td>\n",
       "    </tr>\n",
       "    <tr>\n",
       "      <th>3</th>\n",
       "      <td>000104801  3</td>\n",
       "      <td>PE6</td>\n",
       "      <td>1.0</td>\n",
       "      <td>48.0</td>\n",
       "      <td>3.0</td>\n",
       "      <td>1.0</td>\n",
       "      <td>1386.0</td>\n",
       "      <td>11.0</td>\n",
       "      <td>1999.0</td>\n",
       "      <td>1199.0</td>\n",
       "      <td>...</td>\n",
       "      <td>NaN</td>\n",
       "      <td>NaN</td>\n",
       "      <td>NaN</td>\n",
       "      <td>Never married</td>\n",
       "      <td>Not had intercourse</td>\n",
       "      <td>0.0</td>\n",
       "      <td>Yes</td>\n",
       "      <td>NaN</td>\n",
       "      <td>2.445515</td>\n",
       "      <td>19.014493</td>\n",
       "    </tr>\n",
       "    <tr>\n",
       "      <th>4</th>\n",
       "      <td>000105001  3</td>\n",
       "      <td>PE6</td>\n",
       "      <td>1.0</td>\n",
       "      <td>50.0</td>\n",
       "      <td>3.0</td>\n",
       "      <td>1.0</td>\n",
       "      <td>1386.0</td>\n",
       "      <td>8.0</td>\n",
       "      <td>1993.0</td>\n",
       "      <td>1124.0</td>\n",
       "      <td>...</td>\n",
       "      <td>NaN</td>\n",
       "      <td>NaN</td>\n",
       "      <td>NaN</td>\n",
       "      <td>Never married</td>\n",
       "      <td>21.0</td>\n",
       "      <td>2.0</td>\n",
       "      <td>No</td>\n",
       "      <td>NaN</td>\n",
       "      <td>2.445515</td>\n",
       "      <td>19.014493</td>\n",
       "    </tr>\n",
       "    <tr>\n",
       "      <th>...</th>\n",
       "      <td>...</td>\n",
       "      <td>...</td>\n",
       "      <td>...</td>\n",
       "      <td>...</td>\n",
       "      <td>...</td>\n",
       "      <td>...</td>\n",
       "      <td>...</td>\n",
       "      <td>...</td>\n",
       "      <td>...</td>\n",
       "      <td>...</td>\n",
       "      <td>...</td>\n",
       "      <td>...</td>\n",
       "      <td>...</td>\n",
       "      <td>...</td>\n",
       "      <td>...</td>\n",
       "      <td>...</td>\n",
       "      <td>...</td>\n",
       "      <td>...</td>\n",
       "      <td>...</td>\n",
       "      <td>...</td>\n",
       "      <td>...</td>\n",
       "    </tr>\n",
       "    <tr>\n",
       "      <th>182863</th>\n",
       "      <td>325406201  2</td>\n",
       "      <td>PE6</td>\n",
       "      <td>3254.0</td>\n",
       "      <td>62.0</td>\n",
       "      <td>2.0</td>\n",
       "      <td>3254.0</td>\n",
       "      <td>1440.0</td>\n",
       "      <td>12.0</td>\n",
       "      <td>1971.0</td>\n",
       "      <td>864.0</td>\n",
       "      <td>...</td>\n",
       "      <td>Tiene mes y año</td>\n",
       "      <td>14.0</td>\n",
       "      <td>34.0</td>\n",
       "      <td>De 30 a más años</td>\n",
       "      <td>12.0</td>\n",
       "      <td>3.0</td>\n",
       "      <td>No</td>\n",
       "      <td>5.0</td>\n",
       "      <td>2.012258</td>\n",
       "      <td>18.985481</td>\n",
       "    </tr>\n",
       "    <tr>\n",
       "      <th>182864</th>\n",
       "      <td>325406301  2</td>\n",
       "      <td>PE6</td>\n",
       "      <td>3254.0</td>\n",
       "      <td>63.0</td>\n",
       "      <td>2.0</td>\n",
       "      <td>3254.0</td>\n",
       "      <td>1440.0</td>\n",
       "      <td>6.0</td>\n",
       "      <td>1988.0</td>\n",
       "      <td>1063.0</td>\n",
       "      <td>...</td>\n",
       "      <td>Tiene mes y año</td>\n",
       "      <td>14.0</td>\n",
       "      <td>17.0</td>\n",
       "      <td>De 15 a 19 años</td>\n",
       "      <td>12.0</td>\n",
       "      <td>3.0</td>\n",
       "      <td>No</td>\n",
       "      <td>7.0</td>\n",
       "      <td>2.012258</td>\n",
       "      <td>18.985481</td>\n",
       "    </tr>\n",
       "    <tr>\n",
       "      <th>182865</th>\n",
       "      <td>325407001  2</td>\n",
       "      <td>PE6</td>\n",
       "      <td>3254.0</td>\n",
       "      <td>70.0</td>\n",
       "      <td>2.0</td>\n",
       "      <td>3254.0</td>\n",
       "      <td>1440.0</td>\n",
       "      <td>7.0</td>\n",
       "      <td>1973.0</td>\n",
       "      <td>883.0</td>\n",
       "      <td>...</td>\n",
       "      <td>Tiene mes y año</td>\n",
       "      <td>13.0</td>\n",
       "      <td>33.0</td>\n",
       "      <td>De 30 a más años</td>\n",
       "      <td>12.0</td>\n",
       "      <td>4.0</td>\n",
       "      <td>No</td>\n",
       "      <td>5.0</td>\n",
       "      <td>2.012258</td>\n",
       "      <td>18.985481</td>\n",
       "    </tr>\n",
       "    <tr>\n",
       "      <th>182866</th>\n",
       "      <td>325407201  2</td>\n",
       "      <td>PE6</td>\n",
       "      <td>3254.0</td>\n",
       "      <td>72.0</td>\n",
       "      <td>2.0</td>\n",
       "      <td>3254.0</td>\n",
       "      <td>1440.0</td>\n",
       "      <td>12.0</td>\n",
       "      <td>1994.0</td>\n",
       "      <td>1140.0</td>\n",
       "      <td>...</td>\n",
       "      <td>Tiene mes y año</td>\n",
       "      <td>13.0</td>\n",
       "      <td>11.0</td>\n",
       "      <td>De 10 a 14 años</td>\n",
       "      <td>13.0</td>\n",
       "      <td>2.0</td>\n",
       "      <td>No</td>\n",
       "      <td>11.0</td>\n",
       "      <td>2.012258</td>\n",
       "      <td>18.985481</td>\n",
       "    </tr>\n",
       "    <tr>\n",
       "      <th>182867</th>\n",
       "      <td>325407401  2</td>\n",
       "      <td>PE6</td>\n",
       "      <td>3254.0</td>\n",
       "      <td>74.0</td>\n",
       "      <td>2.0</td>\n",
       "      <td>3254.0</td>\n",
       "      <td>1440.0</td>\n",
       "      <td>10.0</td>\n",
       "      <td>1996.0</td>\n",
       "      <td>1163.0</td>\n",
       "      <td>...</td>\n",
       "      <td>Tiene mes y año</td>\n",
       "      <td>16.0</td>\n",
       "      <td>6.0</td>\n",
       "      <td>De 5 a 9 años</td>\n",
       "      <td>15.0</td>\n",
       "      <td>2.0</td>\n",
       "      <td>No</td>\n",
       "      <td>11.0</td>\n",
       "      <td>2.012258</td>\n",
       "      <td>18.985481</td>\n",
       "    </tr>\n",
       "  </tbody>\n",
       "</table>\n",
       "<p>182868 rows × 65 columns</p>\n",
       "</div>"
      ],
      "text/plain": [
       "                    CASEID V000    V001  V002  V003    V004    V008  V009  \\\n",
       "0             000102701  1  PE6     1.0  27.0   1.0     1.0  1386.0   7.0   \n",
       "1             000104301  1  PE6     1.0  43.0   1.0     1.0  1386.0   4.0   \n",
       "2             000104801  2  PE6     1.0  48.0   2.0     1.0  1386.0   1.0   \n",
       "3             000104801  3  PE6     1.0  48.0   3.0     1.0  1386.0  11.0   \n",
       "4             000105001  3  PE6     1.0  50.0   3.0     1.0  1386.0   8.0   \n",
       "...                    ...  ...     ...   ...   ...     ...     ...   ...   \n",
       "182863        325406201  2  PE6  3254.0  62.0   2.0  3254.0  1440.0  12.0   \n",
       "182864        325406301  2  PE6  3254.0  63.0   2.0  3254.0  1440.0   6.0   \n",
       "182865        325407001  2  PE6  3254.0  70.0   2.0  3254.0  1440.0   7.0   \n",
       "182866        325407201  2  PE6  3254.0  72.0   2.0  3254.0  1440.0  12.0   \n",
       "182867        325407401  2  PE6  3254.0  74.0   2.0  3254.0  1440.0  10.0   \n",
       "\n",
       "          V010    V011  ...             V510  V511  V512              V513  \\\n",
       "0       1985.0  1027.0  ...   Month and year  16.0  13.0             10-14   \n",
       "1       1974.0   892.0  ...   Month and year  33.0   8.0               5-9   \n",
       "2       1980.0   961.0  ...   Month and year  18.0  17.0             15-19   \n",
       "3       1999.0  1199.0  ...              NaN   NaN   NaN     Never married   \n",
       "4       1993.0  1124.0  ...              NaN   NaN   NaN     Never married   \n",
       "...        ...     ...  ...              ...   ...   ...               ...   \n",
       "182863  1971.0   864.0  ...  Tiene mes y año  14.0  34.0  De 30 a más años   \n",
       "182864  1988.0  1063.0  ...  Tiene mes y año  14.0  17.0   De 15 a 19 años   \n",
       "182865  1973.0   883.0  ...  Tiene mes y año  13.0  33.0  De 30 a más años   \n",
       "182866  1994.0  1140.0  ...  Tiene mes y año  13.0  11.0   De 10 a 14 años   \n",
       "182867  1996.0  1163.0  ...  Tiene mes y año  16.0   6.0     De 5 a 9 años   \n",
       "\n",
       "                       V525 V613 V714  V715 mean_total_children  \\\n",
       "0                      15.0  4.0  Yes   3.0            2.445515   \n",
       "1                      26.0  2.0   No   9.0            2.445515   \n",
       "2                      18.0  1.0  Yes  11.0            2.445515   \n",
       "3       Not had intercourse  0.0  Yes   NaN            2.445515   \n",
       "4                      21.0  2.0   No   NaN            2.445515   \n",
       "...                     ...  ...  ...   ...                 ...   \n",
       "182863                 12.0  3.0   No   5.0            2.012258   \n",
       "182864                 12.0  3.0   No   7.0            2.012258   \n",
       "182865                 12.0  4.0   No   5.0            2.012258   \n",
       "182866                 13.0  2.0   No  11.0            2.012258   \n",
       "182867                 15.0  2.0   No  11.0            2.012258   \n",
       "\n",
       "       mean_first_marriage  \n",
       "0                19.014493  \n",
       "1                19.014493  \n",
       "2                19.014493  \n",
       "3                19.014493  \n",
       "4                19.014493  \n",
       "...                    ...  \n",
       "182863           18.985481  \n",
       "182864           18.985481  \n",
       "182865           18.985481  \n",
       "182866           18.985481  \n",
       "182867           18.985481  \n",
       "\n",
       "[182868 rows x 65 columns]"
      ]
     },
     "execution_count": 272,
     "metadata": {},
     "output_type": "execute_result"
    }
   ],
   "source": [
    "final_result = endes_data_2015_2019_ta.merge(mean_key_vars , \n",
    "                           on = ['year', 'V024'], \n",
    "                           how = \"left\", \n",
    "                           validate = \"m:1\" )\n",
    "final_result"
   ]
  },
  {
   "cell_type": "code",
   "execution_count": null,
   "metadata": {},
   "outputs": [],
   "source": []
  }
 ],
 "metadata": {
  "hide_input": false,
  "kernelspec": {
   "display_name": "Python 3",
   "language": "python",
   "name": "python3"
  },
  "language_info": {
   "codemirror_mode": {
    "name": "ipython",
    "version": 3
   },
   "file_extension": ".py",
   "mimetype": "text/x-python",
   "name": "python",
   "nbconvert_exporter": "python",
   "pygments_lexer": "ipython3",
   "version": "3.8.8"
  }
 },
 "nbformat": 4,
 "nbformat_minor": 4
}

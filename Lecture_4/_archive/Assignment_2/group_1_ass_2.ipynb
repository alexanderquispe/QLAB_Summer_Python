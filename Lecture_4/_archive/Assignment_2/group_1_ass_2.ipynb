{
 "cells": [
  {
   "cell_type": "markdown",
   "metadata": {},
   "source": [
    "# 1 Assignment 2"
   ]
  },
  {
   "cell_type": "code",
   "execution_count": 1,
   "metadata": {},
   "outputs": [],
   "source": [
    "# !pip install pyreadstat\n",
    "# !pip install savReaderWriter\n",
    "import os\n",
    "import pickle\n",
    "import pandas as pd\n",
    "import numpy as np\n",
    "import urllib.request\n",
    "import savReaderWriter as sav"
   ]
  },
  {
   "cell_type": "markdown",
   "metadata": {},
   "source": [
    "1. Import the `REC0111.sav`, `RE223132.sav` and `RE516171.sav` files and their variables and values labels from this path `\"../../_data/endes/2019\"`. The name of imported files should be named as `rec_1`, `rec_2` and `rec_3` for files `REC0111.sav`, `RE223132.sav` and `RE516171.sav` respectively. The name of the variable and value labels should be `var_labels1` and `value_labels1` for `rec1`, `var_labels2` and `value_labels2` for `rec2`, and `var_labels3` and `value_labels3` for `rec3`. **Hint: See the section 3.3.4 of [the lecture 3](https://github.com/alexanderquispe/Diplomado_PUCP/blob/main/Lecture_3/Lecture_3.ipynb)**"
   ]
  },
  {
   "cell_type": "code",
   "execution_count": 2,
   "metadata": {},
   "outputs": [],
   "source": [
    "rec_1 = pd.read_spss( r\"../../_data/endes/2019/REC0111.sav\" )\n",
    "rec_2 = pd.read_spss( r\"../../_data/endes/2019/RE223132.sav\" )\n",
    "rec_3 = pd.read_spss( r\"../../_data/endes/2019/RE516171.sav\" )"
   ]
  },
  {
   "cell_type": "code",
   "execution_count": 3,
   "metadata": {},
   "outputs": [],
   "source": [
    "with sav.SavHeaderReader( r\"../../_data/endes/2019/REC0111.sav\", ioUtf8=True ) as header:\n",
    "    metadata = header.all()\n",
    "    value_labels1 = metadata.valueLabels\n",
    "    var_labels1 = metadata.varLabels\n",
    "\n",
    "with sav.SavHeaderReader( r\"../../_data/endes/2019/RE223132.sav\", ioUtf8=True ) as header:\n",
    "    metadata = header.all()\n",
    "    value_labels2 = metadata.valueLabels\n",
    "    var_labels2 = metadata.varLabels\n",
    "\n",
    "with sav.SavHeaderReader( r\"../../_data/endes/2019/RE516171.sav\", ioUtf8=True ) as header:\n",
    "    metadata = header.all()\n",
    "    value_labels3 = metadata.valueLabels\n",
    "    var_labels3 = metadata.varLabels"
   ]
  },
  {
   "cell_type": "markdown",
   "metadata": {},
   "source": [
    "2. Select the following columns for each data set:\n",
    "|Data|Columns|\n",
    "|---|---|\n",
    "|rec1| CASEID, V000, V001, V002, V003, V004, V007, V008, V009, V010, V011, V012, V024, V102, V120, V121, V122, V123, V124, V125, V127, V133 |\n",
    "|rec2| CASEID, V201, V2018, V301, V302, ..., V323, V323A, V325A, V326, V327, V337, V359, V360, V361, V362, V363, V364, V367, V372, V372A, V375A, V376, V376A, V379, V380 |\n",
    "|rec3| CASEID, V501, V502, V503, V504, V505, V506, V507, V508, V509, V510, V511, V512, V513, V525, V613, V714, V715 |\n",
    "\n",
    "\n",
    "Additioanlly, you should update the variables and value labels objects. They must have information only for the selected columns. The new dataframes should be name as `rec1_1`, `rec2_1`, and `rec3_1`. The new varible labels objects should be named as `new_var_labels1`, `new_var_labels2`, and `new_var_labels3`. The new value labels objects should be named as `new_value_labels1`, `new_value_labels2`, and `new_value_labels3` **Hint: Use the `loc` and column names to filter, `for loop`,   and [this link](https://stackoverflow.com/questions/3420122/filter-dict-to-contain-only-certain-keys) to update the var and value dictionary.**"
   ]
  },
  {
   "cell_type": "code",
   "execution_count": 4,
   "metadata": {},
   "outputs": [],
   "source": [
    "sel_vars1 = \"CASEID, V000, V001, V002, V003, V004, V008, V009, V010, V011, V012, V024, V102, V120, V121, V122, V123, V124, V125, V127, V133\".split( ', ' )\n",
    "sel_vars2 = \"CASEID, V201, V218, V301, V302, V323, V323A, V325A, V326, V327, V337, V359, V360, V361, V362, V363, V364, V367, V372, V372A, V375A, V376, V376A, V379, V380\".split(', ')\n",
    "sel_vars3 = \"CASEID, V501, V502, V503, V504, V505, V506, V507, V508, V509, V510, V511, V512, V513, V525, V613, V714, V715\".split(', ')"
   ]
  },
  {
   "cell_type": "code",
   "execution_count": 5,
   "metadata": {},
   "outputs": [],
   "source": [
    "rec1_1 = rec_1.loc[ :, sel_vars1 ]\n",
    "rec2_1 = rec_2.loc[ :, sel_vars2 ]\n",
    "rec3_1 = rec_3.loc[ :, sel_vars3 ]"
   ]
  },
  {
   "cell_type": "code",
   "execution_count": 6,
   "metadata": {},
   "outputs": [],
   "source": [
    "new_value_labels1 = { new_key: value_labels1[ new_key ] for new_key in sel_vars1 if new_key in value_labels1.keys() }\n",
    "new_var_labels1 = { new_key: var_labels1[ new_key ] for new_key in sel_vars1 }\n",
    "new_value_labels2 = { new_key: value_labels2[ new_key ] for new_key in sel_vars2 if new_key in value_labels2.keys() }\n",
    "new_var_labels2 = { new_key: var_labels2[ new_key ] for new_key in sel_vars2 }\n",
    "new_value_labels3 = { new_key: value_labels3[ new_key ] for new_key in sel_vars3 if new_key in value_labels3.keys() }\n",
    "new_var_labels3 = { new_key: var_labels3[ new_key ] for new_key in sel_vars3 }"
   ]
  },
  {
   "cell_type": "markdown",
   "metadata": {},
   "source": [
    "3. Generate a new column for `rec1_1` named as `year`. It should be equal to `2019`. Also, you must update this new variable for the `var_labels` dictionary. Generate a new key for `new_var_labels1` and the value for this key should be **\"Year of the survey\"** **Hint: Use `loc` and `update` method.**"
   ]
  },
  {
   "cell_type": "code",
   "execution_count": 7,
   "metadata": {},
   "outputs": [],
   "source": [
    "rec1_1.loc[ :, \"year\" ] = np.array( [ 2019 ] * len( rec1_1 ) )\n",
    "new_var_labels1.update( { 'year': \"Year of the survey\" } )"
   ]
  },
  {
   "cell_type": "markdown",
   "metadata": {},
   "source": [
    "4. Merge `rec1_1`, `rec2_1`, and `rec3_1` using **CASEID**. Name this new object as `endes_2019`. **Hint: Use [this link](https://stackoverflow.com/questions/53645882/pandas-merging-101)**"
   ]
  },
  {
   "cell_type": "code",
   "execution_count": 8,
   "metadata": {},
   "outputs": [],
   "source": [
    "# endes_20191 = rec1_1.merge( rec2_1, on = 'CASEID' ).merge( rec3_1, on = 'CASEID' )\n",
    "# endes_20192 = rec1_1.merge( rec2_1, on = 'CASEID', how = 'outer' ).merge( rec3_1, on = 'CASEID', how = 'outer' )\n",
    "# endes_2019.shape == endes_20192.shape <- # Output is True\n",
    "\n",
    "endes_2019 = rec1_1.merge( rec2_1, on = 'CASEID', how = 'outer' ).merge( rec3_1, on = 'CASEID', how = 'outer')"
   ]
  },
  {
   "cell_type": "markdown",
   "metadata": {},
   "source": [
    "5. Unify all the `new_var_labels` in one object and `new_value_labels` in another one object. Name these two objects as `var_labels` and `value_labels`. Use them to generate new attributes for `endes_2019`. These attributes should be named as `var_labels` and `value_labels`. Your final output should be equal to `endes_2019_ta` object **Hint: Use `update` method.**"
   ]
  },
  {
   "cell_type": "code",
   "execution_count": 9,
   "metadata": {},
   "outputs": [],
   "source": [
    "output = urllib.request.urlopen( r'https://www.dropbox.com/s/gwcssinb1j9zr6s/endes_2019_ta.pkl?dl=1' )\n",
    "endes_2019_ta = pickle.load( output )"
   ]
  },
  {
   "cell_type": "code",
   "execution_count": 10,
   "metadata": {},
   "outputs": [],
   "source": [
    "var_labels = {}\n",
    "var_labels.update(new_var_labels1)\n",
    "var_labels.update(new_var_labels2)\n",
    "var_labels.update(new_var_labels3)\n",
    "\n",
    "value_labels = {}\n",
    "value_labels.update(new_value_labels1)\n",
    "value_labels.update(new_value_labels2)\n",
    "value_labels.update(new_value_labels3)"
   ]
  },
  {
   "cell_type": "code",
   "execution_count": 11,
   "metadata": {},
   "outputs": [],
   "source": [
    "endes_2019.attrs[ 'var_labels' ] = var_labels\n",
    "endes_2019.attrs[ 'value_labels' ] = value_labels"
   ]
  },
  {
   "cell_type": "code",
   "execution_count": 12,
   "metadata": {},
   "outputs": [
    {
     "data": {
      "text/plain": [
       "set()"
      ]
     },
     "execution_count": 12,
     "metadata": {},
     "output_type": "execute_result"
    }
   ],
   "source": [
    "# set1 = set( endes_2019.attrs[ 'var_labels' ] )\n",
    "# set2 = set( endes_2019_ta.attrs[ 'var_labels' ] )\n",
    "# set1 ^ set2"
   ]
  },
  {
   "cell_type": "code",
   "execution_count": 13,
   "metadata": {},
   "outputs": [
    {
     "data": {
      "text/plain": [
       "True"
      ]
     },
     "execution_count": 13,
     "metadata": {},
     "output_type": "execute_result"
    }
   ],
   "source": [
    "endes_2019.attrs[ 'var_labels' ] == endes_2019_ta.attrs[ 'var_labels' ]"
   ]
  },
  {
   "cell_type": "code",
   "execution_count": 14,
   "metadata": {},
   "outputs": [
    {
     "data": {
      "text/plain": [
       "True"
      ]
     },
     "execution_count": 14,
     "metadata": {},
     "output_type": "execute_result"
    }
   ],
   "source": [
    "endes_2019.attrs[ 'value_labels' ] == endes_2019_ta.attrs[ 'value_labels' ]"
   ]
  },
  {
   "cell_type": "markdown",
   "metadata": {},
   "source": [
    "6. Now, replicate your code of the prevoius sections but for years **2019, 2018, 2017, 2016, 2015**. Import the `REC0111.sav`, `RE223132.sav` and `RE516171.sav` files and their **variables and values labels** from this path `\"../../_data/endes/\"`. For this excersie you must use a for loop. This loop must iterate over **2019, 2018, 2017, 2016, 2015 folders** and import these files. All the files have the same name. You must store these files and their labels in a nested dictionary named as `all_data`. The keys of the dictionary should be named as `year_2019`, for example, and the keys of the nested dictionary should be `data`, `var_labels`, and `value_labels`. The output of this exercise should be equal to the `all_data_ta` object. **Hint: Use [this link](https://notebooks.githubusercontent.com/view/ipynb?browser=chrome&color_mode=auto&commit=4d6de78e00e7001f16bf6473c2eb7ce24fb611cd&device=unknown_device&enc_url=68747470733a2f2f7261772e67697468756275736572636f6e74656e742e636f6d2f616c6578616e6465727175697370652f4469706c6f6d61646f5f505543502f346436646537386530306537303031663136626636343733633265623763653234666236313163642f4c6563747572655f342f4c6563747572655f342e6970796e62&logged_in=true&nwo=alexanderquispe%2FDiplomado_PUCP&path=Lecture_4%2FLecture_4.ipynb&platform=windows&repository_id=427747212&repository_type=Repository&version=95#4.2.)**"
   ]
  },
  {
   "cell_type": "code",
   "execution_count": 26,
   "metadata": {},
   "outputs": [],
   "source": [
    "sel_vars1 = \"CASEID, V000, V001, V002, V003, V004, V008, V009, V010, V011, V012, V024, V102, V120, V121, V122, V123, V124, V125, V127, V133\".split( ', ' )\n",
    "years = [ '2015', '2016', '2017', '2018', '2019' ]\n",
    "all_data = {}\n",
    "\n",
    "for year in years:\n",
    "    \n",
    "    data_1 = pd.read_spss( f\"../../_data/endes/{year}/REC0111.sav\" )\n",
    "    data_2 = pd.read_spss( f\"../../_data/endes/{year}/RE223132.sav\" )\n",
    "    data_3 = pd.read_spss( f\"../../_data/endes/{year}/RE516171.sav\" )\n",
    "    \n",
    "    with sav.SavHeaderReader( f\"../../_data/endes/{year}/REC0111.sav\", ioUtf8=True ) as header:\n",
    "        metadata = header.all()\n",
    "        value_labels1 = metadata.valueLabels\n",
    "        var_labels1 = metadata.varLabels\n",
    "\n",
    "    with sav.SavHeaderReader( f\"../../_data/endes/{year}/RE223132.sav\", ioUtf8=True ) as header:\n",
    "        metadata = header.all()\n",
    "        value_labels2 = metadata.valueLabels\n",
    "        var_labels2 = metadata.varLabels\n",
    "\n",
    "    with sav.SavHeaderReader( f\"../../_data/endes/{year}/RE516171.sav\", ioUtf8=True ) as header:\n",
    "        metadata = header.all()\n",
    "        value_labels3 = metadata.valueLabels\n",
    "        var_labels3 = metadata.varLabels\n",
    "    \n",
    "    data1_1 = data_1.loc[ :, sel_vars1 ]\n",
    "    data2_1 = data_2.loc[ :, sel_vars2 ]\n",
    "    data3_1 = data_3.loc[ :, sel_vars3 ]\n",
    "    \n",
    "    new_value_labels1 = { new_key: value_labels1[ new_key ] for new_key in sel_vars1 if new_key in value_labels1.keys() }\n",
    "    new_var_labels1 = { new_key: var_labels1[ new_key ] for new_key in sel_vars1 }\n",
    "    new_value_labels2 = { new_key: value_labels2[ new_key ] for new_key in sel_vars2 if new_key in value_labels2.keys() }\n",
    "    new_var_labels2 = { new_key: var_labels2[ new_key ] for new_key in sel_vars2 }\n",
    "    new_value_labels3 = { new_key: value_labels3[ new_key ] for new_key in sel_vars3 if new_key in value_labels3.keys() }\n",
    "    new_var_labels3 = { new_key: var_labels3[ new_key ] for new_key in sel_vars3 }\n",
    "    \n",
    "    data1_1.loc[ :, \"year\" ] = np.array( [ int( year ) ] * len( data1_1 ) )\n",
    "    new_var_labels1.update( { 'year': \"Year of the survey\" } )\n",
    "    \n",
    "    data = data1_1.merge( data2_1, on = 'CASEID' ).merge( data3_1, on = 'CASEID' )\n",
    "    \n",
    "    var_labels = {}\n",
    "    var_labels.update( new_var_labels1 )\n",
    "    var_labels.update( new_var_labels2 )\n",
    "    var_labels.update( new_var_labels3 )\n",
    "\n",
    "    value_labels = {}\n",
    "    value_labels.update( new_value_labels1 )\n",
    "    value_labels.update( new_value_labels2 )\n",
    "    value_labels.update( new_value_labels3 )\n",
    "    \n",
    "    all_data.update( { f'year_{ year }': { 'data': data, 'var_labels': var_labels, 'value_labels': value_labels } } )\n",
    "    \n",
    "\n"
   ]
  },
  {
   "cell_type": "code",
   "execution_count": 20,
   "metadata": {},
   "outputs": [],
   "source": [
    "output = urllib.request.urlopen(r'https://www.dropbox.com/s/dqv1d9of2uo6hul/all_data_ta.pkl?dl=1')\n",
    "all_data_ta = pickle.load( output )"
   ]
  },
  {
   "cell_type": "markdown",
   "metadata": {},
   "source": [
    "7. Use `all_data` to append all the data sets. Store all data sets in a list using `for loop`. Then, use `pd.concat` to append all the data sets. Also, you must reset the index to have a good-looking data. This new object should be named as `endes_data_2015_2019`. **Hint: Use [this code](https://stackoverflow.com/questions/32444138/concatenate-a-list-of-pandas-dataframes-together)**"
   ]
  },
  {
   "cell_type": "code",
   "execution_count": 40,
   "metadata": {},
   "outputs": [],
   "source": [
    "list_year=[]\n",
    "\n",
    "for year in years:\n",
    "    list_year += [ all_data.get( f'year_{ year }' ).get( 'data' ) ]\n",
    "\n",
    "endes_data_2015_2019 = pd.concat( list_year ).reset_index( drop = True )"
   ]
  },
  {
   "cell_type": "markdown",
   "metadata": {},
   "source": [
    "8. Store all the `var_labels` and `value_labels` in a dictionary named as `all_var_labels` and `all_value_labels`. The first keys should be the year for both dictionaries.Then, use them to generate new attributes for `endes_data_2015_2019`. These attributes should be named as `var_labels` and `value_labels`. Your final output should be equal to `endes_data_2015_2019_ta` object. **Hint: Use [this link](https://notebooks.githubusercontent.com/view/ipynb?browser=chrome&color_mode=auto&commit=4d6de78e00e7001f16bf6473c2eb7ce24fb611cd&device=unknown_device&enc_url=68747470733a2f2f7261772e67697468756275736572636f6e74656e742e636f6d2f616c6578616e6465727175697370652f4469706c6f6d61646f5f505543502f346436646537386530306537303031663136626636343733633265623763653234666236313163642f4c6563747572655f342f4c6563747572655f342e6970796e62&logged_in=true&nwo=alexanderquispe%2FDiplomado_PUCP&path=Lecture_4%2FLecture_4.ipynb&platform=windows&repository_id=427747212&repository_type=Repository&version=95#4.2.3.)**"
   ]
  },
  {
   "cell_type": "code",
   "execution_count": 43,
   "metadata": {},
   "outputs": [],
   "source": [
    "all_var_labels = {}\n",
    "\n",
    "for year in years:\n",
    "    all_var_labels[ f'{year}' ] = all_data.get( f'year_{ year }' ).get( 'var_labels' )"
   ]
  },
  {
   "cell_type": "code",
   "execution_count": 44,
   "metadata": {},
   "outputs": [],
   "source": [
    "all_value_labels = {}\n",
    "for year in years:\n",
    "    all_value_labels[ f'{year}' ] = all_data.get( f'year_{ year }' ).get( 'value_labels' )"
   ]
  },
  {
   "cell_type": "code",
   "execution_count": 45,
   "metadata": {},
   "outputs": [],
   "source": [
    "endes_data_2015_2019.attrs[ 'var_labels' ] = all_var_labels\n",
    "endes_data_2015_2019.attrs[ 'value_labels' ] = all_value_labels"
   ]
  },
  {
   "cell_type": "code",
   "execution_count": 46,
   "metadata": {},
   "outputs": [],
   "source": [
    "output = urllib.request.urlopen( r'https://www.dropbox.com/s/oifvyjrr7s0e1md/endes_data_2015_2019_ta.pkl?dl=1')\n",
    "endes_data_2015_2019_ta = pickle.load( output )"
   ]
  },
  {
   "cell_type": "code",
   "execution_count": 237,
   "metadata": {},
   "outputs": [
    {
     "data": {
      "text/plain": [
       "set()"
      ]
     },
     "execution_count": 237,
     "metadata": {},
     "output_type": "execute_result"
    }
   ],
   "source": [
    "# set1 = set( endes_data_2015_2019.attrs[ 'var_labels' ] )\n",
    "# set2 = set( endes_data_2015_2019_ta.attrs[ 'var_labels' ] )\n",
    "# set1 ^ set2\n",
    "# endes_data_2015_2019.attrs[ 'var_labels' ] == endes_data_2015_2019_ta.attrs[ 'var_labels' ]\n",
    "# endes_data_2015_2019.attrs[ 'value_labels' ] == endes_data_2015_2019_ta.attrs[ 'value_labels' ]"
   ]
  },
  {
   "cell_type": "markdown",
   "metadata": {},
   "source": [
    "9. Use `endes_data_2015_2019` data to generate a new object named `mean_key_vars` to find the mean of **total children ever born (V201)**, **Ideal number of children (V613)**, **Husbands education-single yrs (V715)**, and **Age at first marriage (V511)** by year and department **(V024)**. Name these columns as **mean_total_children, mean_ideal_children, mean_hb_yr_educ and mean_first_marriage**, respectively. **Hint: Use groupby and [this link](https://stackoverflow.com/questions/40901770/is-there-a-simple-way-to-change-a-column-of-yes-no-to-1-0-in-a-pandas-dataframe).**"
   ]
  },
  {
   "cell_type": "code",
   "execution_count": 51,
   "metadata": {},
   "outputs": [],
   "source": [
    "elements_cols= [ 'year', 'V024', 'V201', 'V613', 'V715', 'V511' ]\n",
    "\n",
    "mean_key_vars = endes_data_2015_2019[ elements_cols ].groupby( [ 'year', 'V024' ] ).mean()\n",
    "\n",
    "mean_key_vars.rename( columns= { 'V201': 'mean_total_children', \n",
    "                                'V613': 'mean_ideal_children', \n",
    "                                'V715': 'mean_hb_year_educ', \n",
    "                                'V511': 'mean_first_marriage' }, \n",
    "                     inplace=True )"
   ]
  },
  {
   "cell_type": "code",
   "execution_count": 52,
   "metadata": {},
   "outputs": [
    {
     "data": {
      "text/html": [
       "<div>\n",
       "<style scoped>\n",
       "    .dataframe tbody tr th:only-of-type {\n",
       "        vertical-align: middle;\n",
       "    }\n",
       "\n",
       "    .dataframe tbody tr th {\n",
       "        vertical-align: top;\n",
       "    }\n",
       "\n",
       "    .dataframe thead th {\n",
       "        text-align: right;\n",
       "    }\n",
       "</style>\n",
       "<table border=\"1\" class=\"dataframe\">\n",
       "  <thead>\n",
       "    <tr style=\"text-align: right;\">\n",
       "      <th></th>\n",
       "      <th></th>\n",
       "      <th>mean_total_children</th>\n",
       "      <th>mean_first_marriage</th>\n",
       "    </tr>\n",
       "    <tr>\n",
       "      <th>year</th>\n",
       "      <th>V024</th>\n",
       "      <th></th>\n",
       "      <th></th>\n",
       "    </tr>\n",
       "  </thead>\n",
       "  <tbody>\n",
       "    <tr>\n",
       "      <th rowspan=\"5\" valign=\"top\">2015</th>\n",
       "      <th>Amazonas</th>\n",
       "      <td>2.445515</td>\n",
       "      <td>19.014493</td>\n",
       "    </tr>\n",
       "    <tr>\n",
       "      <th>Ancash</th>\n",
       "      <td>2.028594</td>\n",
       "      <td>20.587935</td>\n",
       "    </tr>\n",
       "    <tr>\n",
       "      <th>Apurimac</th>\n",
       "      <td>2.415771</td>\n",
       "      <td>19.641466</td>\n",
       "    </tr>\n",
       "    <tr>\n",
       "      <th>Arequipa</th>\n",
       "      <td>1.711661</td>\n",
       "      <td>22.038043</td>\n",
       "    </tr>\n",
       "    <tr>\n",
       "      <th>Ayacucho</th>\n",
       "      <td>2.493585</td>\n",
       "      <td>20.037555</td>\n",
       "    </tr>\n",
       "    <tr>\n",
       "      <th>...</th>\n",
       "      <th>...</th>\n",
       "      <td>...</td>\n",
       "      <td>...</td>\n",
       "    </tr>\n",
       "    <tr>\n",
       "      <th rowspan=\"5\" valign=\"top\">2019</th>\n",
       "      <th>Ayacucho</th>\n",
       "      <td>2.052257</td>\n",
       "      <td>20.340228</td>\n",
       "    </tr>\n",
       "    <tr>\n",
       "      <th>Cajamarca</th>\n",
       "      <td>2.180258</td>\n",
       "      <td>19.610695</td>\n",
       "    </tr>\n",
       "    <tr>\n",
       "      <th>Callao</th>\n",
       "      <td>1.696154</td>\n",
       "      <td>21.517241</td>\n",
       "    </tr>\n",
       "    <tr>\n",
       "      <th>Cusco</th>\n",
       "      <td>2.109815</td>\n",
       "      <td>20.283154</td>\n",
       "    </tr>\n",
       "    <tr>\n",
       "      <th>Huancavelica</th>\n",
       "      <td>2.364774</td>\n",
       "      <td>19.780769</td>\n",
       "    </tr>\n",
       "  </tbody>\n",
       "</table>\n",
       "<p>125 rows × 2 columns</p>\n",
       "</div>"
      ],
      "text/plain": [
       "                   mean_total_children  mean_first_marriage\n",
       "year V024                                                  \n",
       "2015 Amazonas                 2.445515            19.014493\n",
       "     Ancash                   2.028594            20.587935\n",
       "     Apurimac                 2.415771            19.641466\n",
       "     Arequipa                 1.711661            22.038043\n",
       "     Ayacucho                 2.493585            20.037555\n",
       "...                                ...                  ...\n",
       "2019 Ayacucho                 2.052257            20.340228\n",
       "     Cajamarca                2.180258            19.610695\n",
       "     Callao                   1.696154            21.517241\n",
       "     Cusco                    2.109815            20.283154\n",
       "     Huancavelica             2.364774            19.780769\n",
       "\n",
       "[125 rows x 2 columns]"
      ]
     },
     "execution_count": 52,
     "metadata": {},
     "output_type": "execute_result"
    }
   ],
   "source": [
    "mean_key_vars"
   ]
  },
  {
   "cell_type": "markdown",
   "metadata": {},
   "source": [
    "10. Merge `mean_key_vars` with `endes_data_2015_2019`. Name this object `final_result`. Your ouput should be equal to `final_result_ta`. **Hint: Use merge.**"
   ]
  },
  {
   "cell_type": "code",
   "execution_count": 53,
   "metadata": {},
   "outputs": [],
   "source": [
    "final_result = mean_key_vars.merge( endes_data_2015_2019, on = [ 'year', 'V024' ] , how = \"left\" , validate = \"1:m\" )"
   ]
  },
  {
   "cell_type": "code",
   "execution_count": 54,
   "metadata": {},
   "outputs": [],
   "source": [
    "output = urllib.request.urlopen( r'https://www.dropbox.com/s/ntor3jbpdxpj9u1/final_result_ta.pkl?dl=1' )\n",
    "final_result_ta = pickle.load( output )"
   ]
  }
 ],
 "metadata": {
  "hide_input": false,
  "kernelspec": {
   "display_name": "Python 3 (ipykernel)",
   "language": "python",
   "name": "python3"
  },
  "language_info": {
   "codemirror_mode": {
    "name": "ipython",
    "version": 3
   },
   "file_extension": ".py",
   "mimetype": "text/x-python",
   "name": "python",
   "nbconvert_exporter": "python",
   "pygments_lexer": "ipython3",
   "version": "3.8.8"
  }
 },
 "nbformat": 4,
 "nbformat_minor": 4
}

{
 "cells": [
  {
   "cell_type": "markdown",
   "metadata": {
    "id": "g0hS_Z18eMAm"
   },
   "source": [
    "# Assigment 4\n",
    "\n",
    "This assigment will be graded if everything works well. I will run the script as once and everything should be done without errors and mistakes. I should be able to run your scripts in my computer and get all the results. **USE RELATIVE PATHS**. An error or exception or anything that breaks the code will means NO GRADE (0). Additionally, you are not able to modify any file handly. It also means NO GRADE (0). Comment everything you think will help others read your script. We expect 0 errors using GitHub. Everything will be graded!\n",
    "\n",
    "**ASK EVERYTHING! WE ARE HERE TO HELP YOU!**"
   ]
  },
  {
   "cell_type": "markdown",
   "metadata": {
    "id": "-AowPVlXeMAv"
   },
   "source": [
    "In this path **..\\_data\\sbs\\B_RawData\\bancos** you will find scraped data from [this link](https://www.sbs.gob.pe/app/pp/EstadisticasSAEEPortal/Paginas/TIActivaTipoCreditoEmpresa.aspx?tip=B). We get all the information of the last available day of every each month.\n",
    "\n",
    "1. Import all the data and generate a column named as `date_info` that should have the day to information corresponds.\n",
    "2. Append all this datasets and generate a unique dataframe. This newdataset should have information at `rate interest` and `date` level. The columns should be the name of the banks. Be careful since not all the excel files have the same format. **It is totally prohibited to manipulate manually the excel files. This kind of action means NO GRADE on this project.**\n",
    "3. What are the top 5 banks each year with the highest interest rate at `Préstamos hipotecarios para vivienda`, `Consumo -\n",
    "Tarjetas de Crédito`. Present a dataframe with these variables: `year`, `rate_concept`, `banks`, `rate_value`.\n",
    "4. We want to save this dataset in the folder **_output/sbs/group_#**, but we want to save a file per bank. We want to have the information disaggregated at the bank level. Please, save your files with the name of the bank. Avoid blank spaces and use only lowercase letters. Generate the folder of your group using python code. **Hint: os library**"
   ]
  },
  {
   "cell_type": "code",
   "execution_count": 6,
   "metadata": {},
   "outputs": [],
   "source": [
    "import os\n",
    "import pandas as pd"
   ]
  },
  {
   "cell_type": "code",
   "execution_count": 7,
   "metadata": {},
   "outputs": [
    {
     "name": "stdout",
     "output_type": "stream",
     "text": [
      "C:\\Users\\Hp\\Documents\\GitHub\\Diplomado_PUCP\\Lecture_4\\Assigment_4\n"
     ]
    }
   ],
   "source": [
    "print(os.getcwd())"
   ]
  },
  {
   "cell_type": "code",
   "execution_count": 8,
   "metadata": {},
   "outputs": [
    {
     "name": "stdout",
     "output_type": "stream",
     "text": [
      "C:\\Users\\Hp\\Documents\\GitHub\\Diplomado_PUCP\\_data\\sbs\\B_RawData\\bancos\n"
     ]
    }
   ],
   "source": [
    "os.chdir(\"C:/Users/Hp/Documents/GitHub/Diplomado_PUCP/_data/sbs/B_RawData/bancos/\")\n",
    "print(os.getcwd())"
   ]
  },
  {
   "cell_type": "code",
   "execution_count": 9,
   "metadata": {},
   "outputs": [
    {
     "name": "stdout",
     "output_type": "stream",
     "text": [
      "['table_clean_26_2_2004.xlsx', 'table_clean_26_2_2010.xlsx', 'table_clean_26_2_2021.xlsx', 'table_clean_27_2_2009.xlsx', 'table_clean_27_2_2015.xlsx', 'table_clean_27_3_2013.xlsx', 'table_clean_27_7_2005.xlsx', 'table_clean_27_7_2010.xlsx', 'table_clean_27_7_2011.xlsx', 'table_clean_27_7_2016.xlsx', 'table_clean_27_7_2022.xlsx', 'table_clean_27_8_2019.xlsx', 'table_clean_28_10_2011.xlsx', 'table_clean_28_11_2003.xlsx', 'table_clean_28_11_2008.xlsx', 'table_clean_28_11_2014.xlsx', 'table_clean_28_12_2012.xlsx', 'table_clean_28_2_2003.xlsx', 'table_clean_28_2_2005.xlsx', 'table_clean_28_2_2006.xlsx', 'table_clean_28_2_2007.xlsx', 'table_clean_28_2_2011.xlsx', 'table_clean_28_2_2013.xlsx', 'table_clean_28_2_2014.xlsx', 'table_clean_28_2_2017.xlsx', 'table_clean_28_2_2018.xlsx', 'table_clean_28_2_2019.xlsx', 'table_clean_28_2_2020.xlsx', 'table_clean_28_2_2022.xlsx', 'table_clean_28_3_2018.xlsx', 'table_clean_28_3_2019.xlsx', 'table_clean_28_4_2006.xlsx', 'table_clean_28_4_2017.xlsx', 'table_clean_28_6_2007.xlsx', 'table_clean_28_6_2012.xlsx', 'table_clean_28_6_2013.xlsx', 'table_clean_28_6_2017.xlsx', 'table_clean_28_6_2018.xlsx', 'table_clean_28_6_2019.xlsx', 'table_clean_28_9_2007.xlsx', 'table_clean_28_9_2012.xlsx', 'table_clean_28_9_2018.xlsx', 'table_clean_29_10_2004.xlsx', 'table_clean_29_10_2010.xlsx', 'table_clean_29_10_2021.xlsx', 'table_clean_29_11_2002.xlsx', 'table_clean_29_11_2005.xlsx', 'table_clean_29_11_2013.xlsx', 'table_clean_29_11_2019.xlsx', 'table_clean_29_12_2006.xlsx', 'table_clean_29_12_2017.xlsx', 'table_clean_29_1_2004.xlsx', 'table_clean_29_1_2010.xlsx', 'table_clean_29_1_2016.xlsx', 'table_clean_29_1_2021.xlsx', 'table_clean_29_2_2008.xlsx', 'table_clean_29_2_2012.xlsx', 'table_clean_29_2_2016.xlsx', 'table_clean_29_4_2005.xlsx', 'table_clean_29_4_2011.xlsx', 'table_clean_29_4_2016.xlsx', 'table_clean_29_4_2022.xlsx', 'table_clean_29_5_2009.xlsx', 'table_clean_29_5_2015.xlsx', 'table_clean_29_5_2020.xlsx', 'table_clean_29_8_2003.xlsx', 'table_clean_29_8_2008.xlsx', 'table_clean_29_8_2012.xlsx', 'table_clean_29_8_2013.xlsx', 'table_clean_29_8_2014.xlsx', 'table_clean_29_8_2018.xlsx', 'table_clean_29_9_2006.xlsx', 'table_clean_29_9_2017.xlsx', 'table_clean_30_10_2009.xlsx', 'table_clean_30_10_2015.xlsx', 'table_clean_30_10_2019.xlsx', 'table_clean_30_10_2020.xlsx', 'table_clean_30_11_2004.xlsx', 'table_clean_30_11_2006.xlsx', 'table_clean_30_11_2007.xlsx', 'table_clean_30_11_2009.xlsx', 'table_clean_30_11_2010.xlsx', 'table_clean_30_11_2011.xlsx', 'table_clean_30_11_2012.xlsx', 'table_clean_30_11_2015.xlsx', 'table_clean_30_11_2016.xlsx', 'table_clean_30_11_2017.xlsx', 'table_clean_30_11_2018.xlsx', 'table_clean_30_11_2020.xlsx', 'table_clean_30_11_2021.xlsx', 'table_clean_30_12_2005.xlsx', 'table_clean_30_12_2008.xlsx', 'table_clean_30_12_2009.xlsx', 'table_clean_30_12_2011.xlsx', 'table_clean_30_12_2013.xlsx', 'table_clean_30_12_2016.xlsx', 'table_clean_30_1_2009.xlsx', 'table_clean_30_1_2015.xlsx', 'table_clean_30_3_2007.xlsx', 'table_clean_30_3_2012.xlsx', 'table_clean_30_4_2003.xlsx', 'table_clean_30_4_2004.xlsx', 'table_clean_30_4_2007.xlsx', 'table_clean_30_4_2008.xlsx', 'table_clean_30_4_2009.xlsx', 'table_clean_30_4_2010.xlsx', 'table_clean_30_4_2012.xlsx', 'table_clean_30_4_2013.xlsx', 'table_clean_30_4_2014.xlsx', 'table_clean_30_4_2015.xlsx', 'table_clean_30_4_2018.xlsx', 'table_clean_30_4_2019.xlsx', 'table_clean_30_4_2020.xlsx', 'table_clean_30_4_2021.xlsx', 'table_clean_30_5_2003.xlsx', 'table_clean_30_5_2008.xlsx', 'table_clean_30_5_2014.xlsx', 'table_clean_30_6_2003.xlsx', 'table_clean_30_6_2004.xlsx', 'table_clean_30_6_2005.xlsx', 'table_clean_30_6_2006.xlsx', 'table_clean_30_6_2008.xlsx', 'table_clean_30_6_2009.xlsx', 'table_clean_30_6_2010.xlsx', 'table_clean_30_6_2011.xlsx', 'table_clean_30_6_2014.xlsx', 'table_clean_30_6_2015.xlsx', 'table_clean_30_6_2016.xlsx', 'table_clean_30_6_2020.xlsx', 'table_clean_30_6_2021.xlsx', 'table_clean_30_6_2022.xlsx', 'table_clean_30_7_2004.xlsx', 'table_clean_30_7_2021.xlsx', 'table_clean_30_9_2002.xlsx', 'table_clean_30_9_2003.xlsx', 'table_clean_30_9_2004.xlsx', 'table_clean_30_9_2005.xlsx', 'table_clean_30_9_2008.xlsx', 'table_clean_30_9_2009.xlsx', 'table_clean_30_9_2010.xlsx', 'table_clean_30_9_2011.xlsx', 'table_clean_30_9_2013.xlsx', 'table_clean_30_9_2014.xlsx', 'table_clean_30_9_2015.xlsx', 'table_clean_30_9_2016.xlsx', 'table_clean_30_9_2019.xlsx', 'table_clean_30_9_2020.xlsx', 'table_clean_30_9_2021.xlsx', 'table_clean_31_10_2002.xlsx', 'table_clean_31_10_2003.xlsx', 'table_clean_31_10_2005.xlsx', 'table_clean_31_10_2006.xlsx', 'table_clean_31_10_2007.xlsx', 'table_clean_31_10_2008.xlsx', 'table_clean_31_10_2012.xlsx', 'table_clean_31_10_2013.xlsx', 'table_clean_31_10_2014.xlsx', 'table_clean_31_10_2016.xlsx', 'table_clean_31_10_2017.xlsx', 'table_clean_31_10_2018.xlsx', 'table_clean_31_12_2002.xlsx', 'table_clean_31_12_2003.xlsx', 'table_clean_31_12_2004.xlsx', 'table_clean_31_12_2007.xlsx', 'table_clean_31_12_2010.xlsx', 'table_clean_31_12_2014.xlsx', 'table_clean_31_12_2015.xlsx', 'table_clean_31_12_2018.xlsx', 'table_clean_31_12_2019.xlsx', 'table_clean_31_12_2020.xlsx', 'table_clean_31_12_2021.xlsx', 'table_clean_31_1_2003.xlsx', 'table_clean_31_1_2005.xlsx', 'table_clean_31_1_2006.xlsx', 'table_clean_31_1_2007.xlsx', 'table_clean_31_1_2008.xlsx', 'table_clean_31_1_2011.xlsx', 'table_clean_31_1_2012.xlsx', 'table_clean_31_1_2013.xlsx', 'table_clean_31_1_2014.xlsx', 'table_clean_31_1_2017.xlsx', 'table_clean_31_1_2018.xlsx', 'table_clean_31_1_2019.xlsx', 'table_clean_31_1_2020.xlsx', 'table_clean_31_1_2022.xlsx', 'table_clean_31_3_2001.xlsx', 'table_clean_31_3_2003.xlsx', 'table_clean_31_3_2004.xlsx', 'table_clean_31_3_2005.xlsx', 'table_clean_31_3_2006.xlsx', 'table_clean_31_3_2008.xlsx', 'table_clean_31_3_2009.xlsx', 'table_clean_31_3_2010.xlsx', 'table_clean_31_3_2011.xlsx', 'table_clean_31_3_2014.xlsx', 'table_clean_31_3_2015.xlsx', 'table_clean_31_3_2016.xlsx', 'table_clean_31_3_2017.xlsx', 'table_clean_31_3_2020.xlsx', 'table_clean_31_3_2021.xlsx', 'table_clean_31_3_2022.xlsx', 'table_clean_31_5_2004.xlsx', 'table_clean_31_5_2005.xlsx', 'table_clean_31_5_2006.xlsx', 'table_clean_31_5_2007.xlsx', 'table_clean_31_5_2010.xlsx', 'table_clean_31_5_2011.xlsx', 'table_clean_31_5_2012.xlsx', 'table_clean_31_5_2013.xlsx', 'table_clean_31_5_2016.xlsx', 'table_clean_31_5_2017.xlsx', 'table_clean_31_5_2018.xlsx', 'table_clean_31_5_2019.xlsx', 'table_clean_31_5_2021.xlsx', 'table_clean_31_5_2022.xlsx', 'table_clean_31_7_2003.xlsx', 'table_clean_31_7_2006.xlsx', 'table_clean_31_7_2007.xlsx', 'table_clean_31_7_2008.xlsx', 'table_clean_31_7_2009.xlsx', 'table_clean_31_7_2012.xlsx', 'table_clean_31_7_2013.xlsx', 'table_clean_31_7_2014.xlsx', 'table_clean_31_7_2015.xlsx', 'table_clean_31_7_2017.xlsx', 'table_clean_31_7_2018.xlsx', 'table_clean_31_7_2019.xlsx', 'table_clean_31_7_2020.xlsx', 'table_clean_31_8_2004.xlsx', 'table_clean_31_8_2005.xlsx', 'table_clean_31_8_2006.xlsx', 'table_clean_31_8_2007.xlsx', 'table_clean_31_8_2009.xlsx', 'table_clean_31_8_2010.xlsx', 'table_clean_31_8_2011.xlsx', 'table_clean_31_8_2015.xlsx', 'table_clean_31_8_2016.xlsx', 'table_clean_31_8_2017.xlsx', 'table_clean_31_8_2020.xlsx', 'table_clean_31_8_2021.xlsx', 'table_clean_31_8_2022.xlsx']\n"
     ]
    }
   ],
   "source": [
    "path = \"C:/Users/Hp/Documents/GitHub/Diplomado_PUCP/_data/sbs/B_RawData/bancos/\"\n",
    "files = os.listdir(path)\n",
    "print(files)"
   ]
  },
  {
   "cell_type": "code",
   "execution_count": 11,
   "metadata": {},
   "outputs": [],
   "source": [
    "AllNames = pd.DataFrame()"
   ]
  },
  {
   "cell_type": "code",
   "execution_count": 15,
   "metadata": {},
   "outputs": [
    {
     "name": "stdout",
     "output_type": "stream",
     "text": [
      "<class 'pandas.core.frame.DataFrame'>\n",
      "Int64Index: 16846 entries, 0 to 45\n",
      "Data columns (total 90 columns):\n",
      " #   Column                       Non-Null Count  Dtype \n",
      "---  ------                       --------------  ----- \n",
      " 0   Unnamed: 0                   1918 non-null   object\n",
      " 1   COMERCIAL                    2190 non-null   object\n",
      " 2   COMERCIAL.1                  2190 non-null   object\n",
      " 3   COMERCIAL.2                  2190 non-null   object\n",
      " 4   COMERCIAL.3                  2190 non-null   object\n",
      " 5   COMERCIAL.4                  2190 non-null   object\n",
      " 6   COMERCIAL.5                  2190 non-null   object\n",
      " 7   COMERCIAL.6                  2190 non-null   object\n",
      " 8   A MICROEMPRESAS2             2190 non-null   object\n",
      " 9   A MICROEMPRESAS2.1           2190 non-null   object\n",
      " 10  A MICROEMPRESAS2.2           2190 non-null   object\n",
      " 11  CONSUMO                      2190 non-null   object\n",
      " 12  CONSUMO.1                    2190 non-null   object\n",
      " 13  CONSUMO.2                    2190 non-null   object\n",
      " 14  CONSUMO.3                    2190 non-null   object\n",
      " 15  CONSUMO.4                    2190 non-null   object\n",
      " 16  CONSUMO.5                    2190 non-null   object\n",
      " 17  CONSUMO.6                    2190 non-null   object\n",
      " 18  CONSUMO.7                    2190 non-null   object\n",
      " 19  CONSUMO.8                    2190 non-null   object\n",
      " 20  HIPOTECARIO                  2190 non-null   object\n",
      " 21  Tasa Anual (%)               14600 non-null  object\n",
      " 22  CRÉDITOS COMERCIALES         1008 non-null   object\n",
      " 23  CRÉDITOS COMERCIALES.1       1004 non-null   object\n",
      " 24  CRÉDITOS COMERCIALES.2       1004 non-null   object\n",
      " 25  CRÉDITOS COMERCIALES.3       1004 non-null   object\n",
      " 26  CRÉDITOS COMERCIALES.4       1004 non-null   object\n",
      " 27  CRÉDITOS COMERCIALES.5       1004 non-null   object\n",
      " 28  CRÉDITOS COMERCIALES.6       1004 non-null   object\n",
      " 29  CRÉDITOS COMERCIALES.7       940 non-null    object\n",
      " 30  CRÉDITOS COMERCIALES.8       940 non-null    object\n",
      " 31  CRÉDITOS COMERCIALES.9       940 non-null    object\n",
      " 32  CRÉDITOS COMERCIALES.10      940 non-null    object\n",
      " 33  CRÉDITOS COMERCIALES.11      940 non-null    object\n",
      " 34  CRÉDITOS COMERCIALES.12      940 non-null    object\n",
      " 35  CRÉDITOS COMERCIALES.13      940 non-null    object\n",
      " 36  CRÉDITOS COMERCIALES.14      940 non-null    object\n",
      " 37  CRÉDITOS COMERCIALES.15      940 non-null    object\n",
      " 38  CRÉDITOS COMERCIALES.16      940 non-null    object\n",
      " 39  CRÉDITOS COMERCIALES.17      940 non-null    object\n",
      " 40  CRÉDITOS COMERCIALES.18      940 non-null    object\n",
      " 41  CRÉDITOS COMERCIALES.19      940 non-null    object\n",
      " 42  CRÉDITOS COMERCIALES.20      940 non-null    object\n",
      " 43  CRÉDITOS A MICROEMPRESAS2    992 non-null    object\n",
      " 44  CRÉDITOS A MICROEMPRESAS2.1  992 non-null    object\n",
      " 45  CRÉDITOS A MICROEMPRESAS2.2  992 non-null    object\n",
      " 46  CRÉDITOS A MICROEMPRESAS2.3  992 non-null    object\n",
      " 47  CRÉDITOS DE CONSUMO          1068 non-null   object\n",
      " 48  CRÉDITOS DE CONSUMO.1        1068 non-null   object\n",
      " 49  CRÉDITOS DE CONSUMO.2        1068 non-null   object\n",
      " 50  CRÉDITOS DE CONSUMO.3        1068 non-null   object\n",
      " 51  CRÉDITOS DE CONSUMO.4        1068 non-null   object\n",
      " 52  CRÉDITOS DE CONSUMO.5        1060 non-null   object\n",
      " 53  CRÉDITOS DE CONSUMO.6        1060 non-null   object\n",
      " 54  CRÉDITOS DE CONSUMO.7        992 non-null    object\n",
      " 55  CRÉDITOS DE CONSUMO.8        992 non-null    object\n",
      " 56  CRÉDITOS DE CONSUMO.9        992 non-null    object\n",
      " 57  PRÉSTAMOS HIPOTECARIOS       1056 non-null   object\n",
      " 58  BBVA                         3680 non-null   object\n",
      " 59  Comercio                     13340 non-null  object\n",
      " 60  Crédito                      13340 non-null  object\n",
      " 61  Pichincha                    4600 non-null   object\n",
      " 62  BIF                          13340 non-null  object\n",
      " 63  Scotiabank                   13340 non-null  object\n",
      " 64  Citibank                     13340 non-null  object\n",
      " 65  Interbank                    13340 non-null  object\n",
      " 66  Mibanco                      13340 non-null  object\n",
      " 67  GNB                          7636 non-null   object\n",
      " 68  Falabella                    13340 non-null  object\n",
      " 69  Santander                    13340 non-null  object\n",
      " 70  Ripley                       13340 non-null  object\n",
      " 71  Azteca                       11500 non-null  object\n",
      " 72  ICBC                         9292 non-null   object\n",
      " 73  Bank of China                2484 non-null   object\n",
      " 74  Promedio                     13340 non-null  object\n",
      " 75  Continental                  9660 non-null   object\n",
      " 76  Financiero                   8648 non-null   object\n",
      " 77  Banco GNB                    2300 non-null   object\n",
      " 78  Deutsche                     6440 non-null   object\n",
      " 79  Cencosud                     3496 non-null   object\n",
      " 80  HSBC                         3404 non-null   object\n",
      " 81  CRÉDITOS A MICROEMPRESAS     76 non-null     object\n",
      " 82  CRÉDITOS A MICROEMPRESAS.1   76 non-null     object\n",
      " 83  CRÉDITOS A MICROEMPRESAS.2   76 non-null     object\n",
      " 84  CRÉDITOS A MICROEMPRESAS.3   76 non-null     object\n",
      " 85  CAT                          3680 non-null   object\n",
      " 86  Alfin                        1012 non-null   object\n",
      " 87  Azteca  *                    828 non-null    object\n",
      " 88  Financiero  *                92 non-null     object\n",
      " 89  BCI                          92 non-null     object\n",
      "dtypes: object(90)\n",
      "memory usage: 11.7+ MB\n"
     ]
    }
   ],
   "source": [
    "AllNames.info()"
   ]
  },
  {
   "cell_type": "code",
   "execution_count": null,
   "metadata": {},
   "outputs": [],
   "source": []
  }
 ],
 "metadata": {
  "colab": {
   "provenance": []
  },
  "hide_input": false,
  "kernelspec": {
   "display_name": "Python 3 (ipykernel)",
   "language": "python",
   "name": "python3"
  },
  "language_info": {
   "codemirror_mode": {
    "name": "ipython",
    "version": 3
   },
   "file_extension": ".py",
   "mimetype": "text/x-python",
   "name": "python",
   "nbconvert_exporter": "python",
   "pygments_lexer": "ipython3",
   "version": "3.9.13"
  },
  "toc": {
   "base_numbering": 1,
   "nav_menu": {},
   "number_sections": true,
   "sideBar": true,
   "skip_h1_title": false,
   "title_cell": "Table of Contents",
   "title_sidebar": "Contents",
   "toc_cell": false,
   "toc_position": {},
   "toc_section_display": true,
   "toc_window_display": false
  }
 },
 "nbformat": 4,
 "nbformat_minor": 4
}

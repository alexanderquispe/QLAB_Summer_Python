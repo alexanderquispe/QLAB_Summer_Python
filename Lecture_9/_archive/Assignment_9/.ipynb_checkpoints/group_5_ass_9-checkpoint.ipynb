{
 "cells": [
  {
   "cell_type": "markdown",
   "metadata": {},
   "source": [
    "## Packages"
   ]
  },
  {
   "cell_type": "code",
   "execution_count": null,
   "metadata": {},
   "outputs": [],
   "source": [
    "# ! pip install folium\n",
    "# ! pip install shapely\n",
    "\n",
    "import folium as fm\n",
    "import chardet\n",
    "\n",
    "\n",
    "import numpy as np\n",
    "import pandas as pd\n",
    "import geopandas as gpd\n",
    "import matplotlib.pyplot as plt \n",
    "\n",
    "\n",
    "from pandas import Series, DataFrame\n",
    "from folium import Marker, GeoJson\n",
    "from geopandas import GeoSeries\n",
    "from shapely.geometry import Point, LineString\n",
    "from folium.plugins import MarkerCluster, HeatMap\n",
    "\n",
    "import branca as br "
   ]
  },
  {
   "cell_type": "markdown",
   "metadata": {},
   "source": [
    "# Data Processing"
   ]
  },
  {
   "cell_type": "code",
   "execution_count": null,
   "metadata": {},
   "outputs": [],
   "source": [
    "base = open(r'../../_data/institutos1.csv','rb').read()\n",
    "det = chardet.detect(base)\n",
    "charenc = det['encoding']\n",
    "\n",
    "inst = pd.read_csv(r'../../_data/institutos1.csv', encoding = charenc)\n",
    "\n",
    "inst_geo = gpd.GeoDataFrame(inst, crs = \"EPSG:4326\", \n",
    "                            geometry = gpd.points_from_xy(inst.nlong_ie, inst.nlat_ie))\n",
    "\n",
    "shape = gpd.read_file(r'../../_data/INEI_LIMITE_DEPARTAMENTAL/INEI_LIMITE_DEPARTAMENTAL.shp')\n",
    "\n",
    "intersct_inst_geo = gpd.overlay(inst_geo, shape, how = \"intersection\")\n",
    "\n",
    "intersct_inst_geo"
   ]
  },
  {
   "cell_type": "markdown",
   "metadata": {},
   "source": [
    "# Vacancies by department"
   ]
  },
  {
   "cell_type": "code",
   "execution_count": null,
   "metadata": {},
   "outputs": [],
   "source": [
    "vars_sum = ['ltimoden_metaatencion', 'cuentadeid_postulante_procesoadm',\n",
    "            'sumaden_flagingresante',  'sumaden_flagmatriculado']\n",
    "\n",
    "tot_dpt = intersct_inst_geo.groupby(['CCDD'], as_index = False )[vars_sum ].sum()\n",
    "\n",
    "tot_dpt_shp = shape.merge(tot_dpt, on = 'CCDD' )\n",
    "\n",
    "# government palace coordinates\n",
    "\n",
    "lat_palacio = -12.0757538\n",
    "long_palacio = -76.9863174\n",
    "zoom_start = 5\n",
    "\n",
    "z = fm.Map(location = [lat_palacio, long_palacio], tiles='cartodbpositron', zoom_start = zoom_start)\n",
    "\n",
    "# Mandatory: geo_data in GeoJson format\n",
    "# columns: variables from economics indicators data set\n",
    "# Atention !!! key_on: commom variable between geodata and data \"feature.properties.(name of variable)\"\n",
    "\n",
    "fm.Choropleth(\n",
    "    geo_data=tot_dpt_shp,\n",
    "    data=tot_dpt_shp,\n",
    "    columns=['CCDD', 'ltimoden_metaatencion'],\n",
    "    key_on=\"feature.properties.CCDD\",\n",
    "    fill_color=\"YlOrRd\",\n",
    "    fill_opacity=0.8,\n",
    "    line_opacity=0.2,\n",
    "    legend_name=\"Total_vacancies\",\n",
    "    smooth_factor=0,\n",
    "    Highlight= True,\n",
    "    line_color = \"#0000\",\n",
    "    overlay=True,\n",
    "    nan_fill_color = \"White\"  # fill white missing values \n",
    "    ).add_to(z)\n",
    "\n",
    "#fm.LayerControl().add_to(z)\n",
    "\n",
    "# Save in a html format \n",
    "z.save(r\"./group_5_ass_9_html_maps/Total_vacancies.html\")\n",
    "z"
   ]
  },
  {
   "cell_type": "code",
   "execution_count": null,
   "metadata": {},
   "outputs": [],
   "source": []
  },
  {
   "cell_type": "code",
   "execution_count": null,
   "metadata": {},
   "outputs": [],
   "source": [
    "# Calculate ratio\n",
    "intersct_inst_geo['ratio_applicants_vacancies'] = intersct_inst_geo['cuentadeid_postulante_procesoadm'] / intersct_inst_geo['ltimoden_metaatencion']\n",
    "\n",
    "# Calculate superior ratio\n",
    "up_ratio = intersct_inst_geo.loc[intersct_inst_geo['ratio_applicants_vacancies'] > 1]\n",
    "up_coord = list(zip(up_ratio['nlat_ie'],up_ratio['nlong_ie']))\n",
    "\n",
    "# Calculate inferior ratio\n",
    "down_ratio = intersct_inst_geo.loc[intersct_inst_geo['ratio_applicants_vacancies'] < 1]\n",
    "down_coord = list(zip(down_ratio['nlat_ie'],down_ratio['nlong_ie']))\n",
    "\n",
    "# Map\n",
    "ratio_map = fm.Map(location = ubication, zoom_start = 4.5)\n",
    "\n",
    "# Cluster Map\n",
    "MarkerCluster( up_coord, name = 'Applicant surplus' ).add_to(ratio_map)\n",
    "MarkerCluster( down_coord, name = 'Applicant deficit' ).add_to(ratio_map)\n",
    "fm.LayerControl(collapsed=False).add_to(ratio_map)\n",
    "ratio_map.save(r\"./group_5_ass_9_html_maps/ratio_map.html\")\n",
    "ratio_map"
   ]
  },
  {
   "cell_type": "markdown",
   "metadata": {},
   "source": [
    "# Interactive map of markes (visual_html)"
   ]
  },
  {
   "cell_type": "code",
   "execution_count": null,
   "metadata": {},
   "outputs": [],
   "source": [
    "# Function create table by each Health center using html. This funtion will be aplly by each row\n",
    "# Almost alway each code on html requires a beginnig <p> and ending </p> \n",
    "\n",
    "def visual_html(i):\n",
    " \n",
    "    # information by Health center \n",
    "\n",
    "    \n",
    "    vacancies = intersct_inst_geo['ltimoden_metaatencion'].iloc[i]                             \n",
    "    applicants = intersct_inst_geo['cuentadeid_postulante_procesoadm'].iloc[i]                           \n",
    "    entrants = intersct_inst_geo['sumaden_flagingresante'].iloc[i]  \n",
    "    enrolled = intersct_inst_geo['sumaden_flagmatriculado'].iloc[i]  \n",
    "    \n",
    "    # Color by each column of table \n",
    "    \n",
    "    left_col_colour = \"#abd236\"\n",
    "    right_col_colour = \"#7ad1c3\"\n",
    "    \n",
    "    html = \"\"\"<!DOCTYPE html>\n",
    "<html>\n",
    "\n",
    "    <table style=\"height: 126px; width: 350px;\">  <!-- Comment: Create a teable. -->\n",
    "\n",
    "<!-- Add information  -->\n",
    "\n",
    "<tbody> \n",
    "<tr>\n",
    "\n",
    "<!-- Add color by column -->\n",
    "\n",
    "<td style=\"background-color: \"\"\"+ left_col_colour +\"\"\";\"><span style=\"color: #ffffff;\">Total Vacancies</span></td>\n",
    "<td style=\"width: 150px;background-color: \"\"\"+ right_col_colour +\"\"\";\">{}</td>\"\"\".format(vacancies) + \"\"\"\n",
    "</tr>\n",
    "<tr>\n",
    "<td style=\"background-color: \"\"\"+ left_col_colour +\"\"\";\"><span style=\"color: #ffffff;\">Total Applicants</span></td>\n",
    "<td style=\"width: 150px;background-color: \"\"\"+ right_col_colour +\"\"\";\">{}</td>\"\"\".format(applicants) + \"\"\"\n",
    "</tr>\n",
    "<tr>\n",
    "<td style=\"background-color: \"\"\"+ left_col_colour +\"\"\";\"><span style=\"color: #ffffff;\">Total Entrants</span></td>\n",
    "<td style=\"width: 150px;background-color: \"\"\"+ right_col_colour +\"\"\";\">{}</td>\"\"\".format(entrants) + \"\"\"\n",
    "</tr>\n",
    "<tr>\n",
    "<td style=\"background-color: \"\"\"+ left_col_colour +\"\"\";\"><span style=\"color: #ffffff;\">Total Enrolled</span></td>\n",
    "<td style=\"width: 150px;background-color: \"\"\"+ right_col_colour +\"\"\";\">{}</td>\"\"\".format(enrolled) + \"\"\"\n",
    "</tr>\n",
    "\n",
    "</tbody>\n",
    "</table>\n",
    "</html>\n",
    "\"\"\"\n",
    "    return html"
   ]
  },
  {
   "cell_type": "code",
   "execution_count": null,
   "metadata": {},
   "outputs": [],
   "source": [
    "ubication = [intersct_inst_geo['nlat_ie'].mean(), intersct_inst_geo['nlong_ie'].mean()]  # Average point\n",
    "\n",
    "institute = fm.Map(location = ubication, zoom_start=8)\n",
    "\n",
    "for i in range(0,len(intersct_inst_geo)):\n",
    "    html = visual_html(i)\n",
    "\n",
    "    iframe = br.element.IFrame(html=html,width=350,height=300)\n",
    "    popup = fm.Popup(iframe, parse_html=True)\n",
    "    \n",
    "    fm.Marker([intersct_inst_geo['nlat_ie'].iloc[i],intersct_inst_geo['nlong_ie'].iloc[i]],\n",
    "                  popup=popup, icon=fm.Icon(color= 'blue', icon='fa-university', prefix=\"fa\")).add_to(institute)\n",
    "\n",
    "institute.save(r\"./group_5_ass_9_html_maps/institute_info.html\")\n",
    "institute"
   ]
  },
  {
   "cell_type": "markdown",
   "metadata": {},
   "source": [
    "# Radio by vacancies - Surplus"
   ]
  },
  {
   "cell_type": "code",
   "execution_count": null,
   "metadata": {},
   "outputs": [],
   "source": [
    "radio_vac_map_s = fm.Map(location = ubication, zoom_start = 5, control_scale=True)\n",
    "\n",
    "# get superior ratios\n",
    "rads_s = list(up_ratio['ratio_applicants_vacancies'])\n",
    "\n",
    "# Create feature group\n",
    "feature_group = fm.FeatureGroup('Applicant Surplus')\n",
    "\n",
    "for i in range(len(up_coord)):\n",
    "    fm.Circle(up_coord[i], radius = rads_s[i]*10000,color = 'forestgreen').add_to(feature_group)\n",
    "\n",
    "# Agregate feature to map    \n",
    "feature_group.add_to(radio_vac_map_s)\n",
    "\n",
    "# Layer contro\n",
    "fm.LayerControl(collapsed=False).add_to(radio_vac_map_s)\n",
    "\n",
    "radio_vac_map_s.save(r\"./group_5_ass_9_html_maps/radio_vac_map_s.html\")\n",
    "radio_vac_map_s  "
   ]
  },
  {
   "cell_type": "markdown",
   "metadata": {},
   "source": [
    "# Radio by vacancies - Deficit"
   ]
  },
  {
   "cell_type": "code",
   "execution_count": null,
   "metadata": {},
   "outputs": [],
   "source": [
    "radio_vac_map_d = fm.Map(location = ubication, zoom_start = 5, control_scale=True)\n",
    "\n",
    "# Generate inferior radious\n",
    "rads_d = list(down_ratio['ratio_applicants_vacancies'])\n",
    "\n",
    "# Feature group\n",
    "feature_group = fm.FeatureGroup('Applicant Deficit')\n",
    "\n",
    "for i in range(len(down_coord)):\n",
    "    fm.Circle(down_coord[i], radius = rads_d[i]*10000,color = 'red').add_to(feature_group)\n",
    "    \n",
    "feature_group.add_to(radio_vac_map_d)\n",
    "    \n",
    "fm.LayerControl(collapsed=False).add_to(radio_vac_map_d)\n",
    "\n",
    "radio_vac_map_d.save(r\"./group_5_ass_9_html_maps/radio_vac_map_d.html\")\n",
    "radio_vac_map_d"
   ]
  }
 ],
 "metadata": {
  "kernelspec": {
   "display_name": "Python 3",
   "language": "python",
   "name": "python3"
  },
  "language_info": {
   "codemirror_mode": {
    "name": "ipython",
    "version": 3
   },
   "file_extension": ".py",
   "mimetype": "text/x-python",
   "name": "python",
   "nbconvert_exporter": "python",
   "pygments_lexer": "ipython3",
   "version": "3.8.3"
  }
 },
 "nbformat": 4,
 "nbformat_minor": 5
}

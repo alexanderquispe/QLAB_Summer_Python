{
 "cells": [
  {
   "cell_type": "markdown",
   "metadata": {},
   "source": [
    "# Inheritance, Private Variables, Fixed attributes, Costumize Exceptions with Python"
   ]
  },
  {
   "cell_type": "markdown",
   "metadata": {},
   "source": [
    "- <a href='#6.1.'>6.1. Inheritance</a>\n",
    "     - <a href='#6.1.1.'> 6.1.1. Single Inheritance </a> \n",
    "     - <a href='#6.1.2.'> 6.1.2. Multiple Inheritance </a> \n",
    "- <a href='#6.2.'>6.2. Private Variables </a> \n",
    "     - <a href='#6.2.1.'>6.2.1. Name Mangling </a> \n",
    "     - <a href='#6.2.2.'> 6.2.2. \\_Single Leading Underscores </a> \n",
    "     - <a href='#6.2.3.'> 6.2.3. \\_\\_Double Leading Underscores </a> \n",
    "- <a href='#6.3.'>6.3. Fixed attributes </a>  \n",
    "- <a href='#6.4.'>6.4. Costumize Exceptions with Python </a>  \n",
    "- <a href='#6.5.'>6.5. References </a>"
   ]
  },
  {
   "cell_type": "markdown",
   "metadata": {},
   "source": [
    "## <a id='6.1.'>6.1. Inheritance</a>\n",
    "Inheritance is the capability of one class to derive or inherit the properties from another class. The benefits of inheritance are:\n",
    "\n",
    "- It represents real-world relationships well.\n",
    "- It provides reusability of a code. We don’t have to write the same code again and again. Also, it allows us to add more features to a class without modifying it.\n",
    "- It is transitive in nature, which means that if class B inherits from another class A, then all the subclasses of B would automatically inherit from class A.\n",
    "- It will help you to understand how Sklearn Class works."
   ]
  },
  {
   "cell_type": "markdown",
   "metadata": {},
   "source": [
    "The base model is called Base or Super class."
   ]
  },
  {
   "cell_type": "markdown",
   "metadata": {},
   "source": [
    "Different forms of Inheritance: \n",
    "1. Single inheritance: When a child class inherits from only one parent class, it is called single inheritance. We saw an example above.\n",
    "2. Multiple inheritance: When a child class inherits from multiple parent classes, it is called multiple inheritance. \n",
    "Unlike Java and like C++, Python supports multiple inheritance. We specify all parent classes as a comma-separated list in the bracket. "
   ]
  },
  {
   "cell_type": "markdown",
   "metadata": {},
   "source": [
    "### <a id='6.1.1.'> 6.1.1. Single Inheritance </a> \n",
    "In single inheritance, the derived class uses the features or members of the single base class.\n",
    "![alt text](../_images/inh1.png)"
   ]
  },
  {
   "cell_type": "code",
   "execution_count": 31,
   "metadata": {},
   "outputs": [],
   "source": [
    "# Base model\n",
    "# We are going to define a family class\n",
    "class Family(object):\n",
    "       \n",
    "    # Constructor\n",
    "    # define initial attributes\n",
    "    # Assume all members of a family share \n",
    "    # lastname and nationality\n",
    "    def __init__( self, last_name , nationality ):\n",
    "        self.last_name = last_name\n",
    "        self.nationality = nationality\n",
    "   \n",
    "    # # Upper case Last name\n",
    "    def upper_lt_name( self, x ):\n",
    "        return  x.upper()\n",
    "    \n",
    "    # Print last name\n",
    "    def pr_LastName( self ):\n",
    "        up_last_name = self.upper_lt_name( self.last_name )\n",
    "        print( f\"The { up_last_name } family.\" )\n",
    "   \n",
    "    # Print Nationality\n",
    "    def pr_Natioanlity( self ):\n",
    "        print( f\"This family is {self.nationality}\" )"
   ]
  },
  {
   "cell_type": "code",
   "execution_count": 62,
   "metadata": {},
   "outputs": [],
   "source": [
    "# Now, we generate a class for family member \n",
    "# based on Family\n",
    "\n",
    "class FamMember( Family ):\n",
    "    \n",
    "    def __init__( self, last_name , nationality, name , age, school ):\n",
    "        self.name = name\n",
    "        self.age = age\n",
    "        self.school = school\n",
    "        # invoking the __init__ of the parent class \n",
    "        # we are executing the Family class inside the FamMember Class\n",
    "        # It allow us to get all methods and attributes\n",
    "        \n",
    "        Family.__init__(self, last_name , nationality ) \n",
    "        \n",
    "    def presentation( self ):\n",
    "        up_last_name = self.upper_lt_name( self.last_name )    # Here we are using the parent class\n",
    "        up_name = self.upper_lt_name( self.name )\n",
    "        up_school = self.upper_lt_name( self.school )\n",
    "        \n",
    "        print( f\"My name is { up_name } { up_last_name }. \\nI am {self.nationality}. I studied at {up_school}. \")"
   ]
  },
  {
   "cell_type": "code",
   "execution_count": 63,
   "metadata": {},
   "outputs": [
    {
     "name": "stdout",
     "output_type": "stream",
     "text": [
      "My name is CARLOS AZABACHE. \n",
      "I am Peruvian. I studied at FRANCO PERUANO. \n"
     ]
    }
   ],
   "source": [
    "member1_family1 = FamMember( last_name = \"Azabache\" , nationality = \"Peruvian\", name = \"Carlos\" , age = 26, school = \"Franco Peruano\" )\n",
    "member1_family1.presentation()"
   ]
  },
  {
   "cell_type": "code",
   "execution_count": 44,
   "metadata": {},
   "outputs": [],
   "source": [
    "family1 = Family( last_name = \"Azabache\", nationality = \"Peruvian\")"
   ]
  },
  {
   "cell_type": "code",
   "execution_count": 45,
   "metadata": {},
   "outputs": [
    {
     "name": "stdout",
     "output_type": "stream",
     "text": [
      "The AZABACHE family.\n"
     ]
    }
   ],
   "source": [
    "family1.pr_LastName()"
   ]
  },
  {
   "cell_type": "code",
   "execution_count": 41,
   "metadata": {},
   "outputs": [
    {
     "name": "stdout",
     "output_type": "stream",
     "text": [
      "This family is Peruvian\n"
     ]
    }
   ],
   "source": [
    "family1.pr_Natioanlity()"
   ]
  },
  {
   "cell_type": "markdown",
   "metadata": {},
   "source": [
    "We can see our defined methods in the code above. Now, we are going to generate a FamMember class. You'll see that this class have the same methods as Family class. It inherits the methods defined in Family Class."
   ]
  },
  {
   "cell_type": "code",
   "execution_count": 42,
   "metadata": {},
   "outputs": [],
   "source": [
    "member1_family1 = FamMember( last_name = \"Azabache\" , nationality = \"Peruvian\", name = \"Carlos\" , age = 26 )"
   ]
  },
  {
   "cell_type": "code",
   "execution_count": 43,
   "metadata": {},
   "outputs": [
    {
     "name": "stdout",
     "output_type": "stream",
     "text": [
      "My name is Carlos AZABACHE. \n",
      "I am Peruvian\n"
     ]
    }
   ],
   "source": [
    "member1_family1.presentation()"
   ]
  },
  {
   "cell_type": "markdown",
   "metadata": {},
   "source": [
    "### <a id='6.1.2.'> 6.1.2. Multiple Inheritance </a> \n",
    "\n",
    "Multiple inheritance is one in which the derived class acquires two or more base classes. In multiple inheritance, the derived class are allowed to use the joint features of the inherited base classes. _**Sklearn** uses multiple inheritance._\n",
    "\n",
    " ![alt text](../_images/inh2.png)"
   ]
  },
  {
   "cell_type": "code",
   "execution_count": 5,
   "metadata": {},
   "outputs": [],
   "source": [
    "# Base model\n",
    "# We are going to define a family class\n",
    "class Family(object):\n",
    "       \n",
    "    # Constructor\n",
    "    def __init__( self, last_name , nationality ):\n",
    "        self.last_name = last_name\n",
    "        self.nationality = nationality\n",
    "   \n",
    "    # Upper case Last name\n",
    "    def upper_lt_name( self, x ):\n",
    "        return  x.upper()\n",
    "    \n",
    "    # Print last name\n",
    "    def pr_LastName( self ):\n",
    "        up_last_name = self.upper_lt_name( self.last_name )\n",
    "        print( f\"The { up_last_name } family.\" )\n",
    "   \n",
    "    # Print Nationality\n",
    "    def pr_Natioanlity( self ):\n",
    "        print( f\"This family is {self.nationality}\" )\n",
    "        \n",
    "   "
   ]
  },
  {
   "cell_type": "code",
   "execution_count": 6,
   "metadata": {},
   "outputs": [],
   "source": [
    "# Now, we generate a class \n",
    "# to define the job of a family member\n",
    "\n",
    "class Job(object):\n",
    "       \n",
    "    # Constructor\n",
    "    # define initial attributes\n",
    "    # Assume all members of a family share \n",
    "    # lastname and nationality\n",
    "    def __init__( self, job ):\n",
    "        self.job = job\n",
    "    \n",
    "    def up_work( self ):\n",
    "        return self.job.upper()"
   ]
  },
  {
   "cell_type": "code",
   "execution_count": 7,
   "metadata": {},
   "outputs": [],
   "source": [
    "class FamMember( Family , Job ):\n",
    "    \n",
    "    def __init__( self, last_name , nationality, name , age , job ):\n",
    "        self.name = name\n",
    "        self.age = age\n",
    "        # invoking the __init__ of the parent class \n",
    "        Family.__init__(self, last_name , nationality ) \n",
    "        Job.__init__(self, job ) \n",
    "        \n",
    "    def presentation( self ):\n",
    "        up_last_name = self.upper_lt_name( self.last_name )\n",
    "        job_up = self.up_work()\n",
    "        print( f\"My name is { self.name } { up_last_name }. \\nI am {self.nationality}. \\nI work as a {job_up}.\")"
   ]
  },
  {
   "cell_type": "code",
   "execution_count": 8,
   "metadata": {},
   "outputs": [],
   "source": [
    "member1_family1 = FamMember( \n",
    "                            last_name = \"Azabache\" , \n",
    "                            nationality = \"Peruvian\", \n",
    "                            name = \"Carlos\" , \n",
    "                            age = 26 , \n",
    "                            job = \"Research Assistant\" \n",
    "                           )"
   ]
  },
  {
   "cell_type": "code",
   "execution_count": 9,
   "metadata": {},
   "outputs": [
    {
     "name": "stdout",
     "output_type": "stream",
     "text": [
      "My name is Carlos AZABACHE. \n",
      "I am Peruvian. \n",
      "I work as a RESEARCH ASSISTANT.\n"
     ]
    }
   ],
   "source": [
    "member1_family1.presentation()"
   ]
  },
  {
   "cell_type": "markdown",
   "metadata": {},
   "source": [
    "# Deeper Topics about Class"
   ]
  },
  {
   "cell_type": "markdown",
   "metadata": {},
   "source": [
    "## <a id='6.2.'>6.2. Private Variables </a> \n",
    "\n",
    "Private variables allow us to specify variables that we do not want to be changed by users or project partners.\n",
    "\n",
    "\n",
    "“Private” instance variables are variables that cannot be accessed except from inside an object. However, there is no existence of “Private” variables. In python, a convention is being followed by most Python code and coders i.e., a name prefixed with an underscore, For e.g. \\_diploma should be treated as a non-public part of the API or any Python code, whether it is a function, a method, or a data member. \n",
    "\n"
   ]
  },
  {
   "cell_type": "markdown",
   "metadata": {},
   "source": [
    "#### Example"
   ]
  },
  {
   "cell_type": "code",
   "execution_count": 27,
   "metadata": {},
   "outputs": [],
   "source": [
    "class MyFirstClass:\n",
    "    \n",
    "    def __init__( self, name, age ):\n",
    "        self.name = name\n",
    "        self.age = age\n",
    "    \n",
    "    # best way to define a method\n",
    "    def print_name( self ):\n",
    "        print( f'I am { self.name }.' )\n",
    "    \n"
   ]
  },
  {
   "cell_type": "code",
   "execution_count": 38,
   "metadata": {},
   "outputs": [],
   "source": [
    "class1 = MyFirstClass( \"Jose\", 35 )"
   ]
  },
  {
   "cell_type": "code",
   "execution_count": 39,
   "metadata": {},
   "outputs": [
    {
     "name": "stdout",
     "output_type": "stream",
     "text": [
      "I am Jose.\n"
     ]
    }
   ],
   "source": [
    "class1.print_name()"
   ]
  },
  {
   "cell_type": "markdown",
   "metadata": {},
   "source": [
    "We can access this variable and change its value."
   ]
  },
  {
   "cell_type": "code",
   "execution_count": 40,
   "metadata": {},
   "outputs": [],
   "source": [
    "class1.name = \"Andres\""
   ]
  },
  {
   "cell_type": "code",
   "execution_count": 41,
   "metadata": {},
   "outputs": [
    {
     "name": "stdout",
     "output_type": "stream",
     "text": [
      "I am Andres.\n"
     ]
    }
   ],
   "source": [
    "class1.print_name()"
   ]
  },
  {
   "cell_type": "markdown",
   "metadata": {},
   "source": [
    "Using private variables. **\\_\\_name** is a private variable."
   ]
  },
  {
   "cell_type": "code",
   "execution_count": 10,
   "metadata": {},
   "outputs": [],
   "source": [
    "class MyFirstClass:\n",
    "    \n",
    "    def __init__( self, name, age ):\n",
    "        self.__name = name\n",
    "        self.age = age\n",
    "    \n",
    "    # best way to define a method\n",
    "    def print_name( self ):\n",
    "        print( f'I am { self.__name }.' )\n",
    "    \n"
   ]
  },
  {
   "cell_type": "code",
   "execution_count": 11,
   "metadata": {},
   "outputs": [],
   "source": [
    "class2 = MyFirstClass( \"Jose\", 35 )"
   ]
  },
  {
   "cell_type": "code",
   "execution_count": 12,
   "metadata": {},
   "outputs": [
    {
     "name": "stdout",
     "output_type": "stream",
     "text": [
      "I am Jose.\n"
     ]
    }
   ],
   "source": [
    "class2.print_name()"
   ]
  },
  {
   "cell_type": "code",
   "execution_count": 15,
   "metadata": {},
   "outputs": [
    {
     "ename": "AttributeError",
     "evalue": "'MyFirstClass' object has no attribute '__name'",
     "output_type": "error",
     "traceback": [
      "\u001b[1;31m---------------------------------------------------------------------------\u001b[0m",
      "\u001b[1;31mAttributeError\u001b[0m                            Traceback (most recent call last)",
      "\u001b[1;32m<ipython-input-15-8662921a8c1c>\u001b[0m in \u001b[0;36m<module>\u001b[1;34m\u001b[0m\n\u001b[1;32m----> 1\u001b[1;33m \u001b[0mclass2\u001b[0m\u001b[1;33m.\u001b[0m\u001b[0m__name\u001b[0m\u001b[1;33m\u001b[0m\u001b[1;33m\u001b[0m\u001b[0m\n\u001b[0m",
      "\u001b[1;31mAttributeError\u001b[0m: 'MyFirstClass' object has no attribute '__name'"
     ]
    }
   ],
   "source": [
    "class2.__name"
   ]
  },
  {
   "cell_type": "markdown",
   "metadata": {},
   "source": [
    "In the above example, the class variable \\_\\_name is not accessible outside the class. we can see al the attributes and methods using bult-in function dir."
   ]
  },
  {
   "cell_type": "code",
   "execution_count": 84,
   "metadata": {},
   "outputs": [
    {
     "data": {
      "text/plain": [
       "['_MyFirstClass__name',\n",
       " '__class__',\n",
       " '__delattr__',\n",
       " '__dict__',\n",
       " '__dir__',\n",
       " '__doc__',\n",
       " '__eq__',\n",
       " '__format__',\n",
       " '__ge__',\n",
       " '__getattribute__',\n",
       " '__gt__',\n",
       " '__hash__',\n",
       " '__init__',\n",
       " '__init_subclass__',\n",
       " '__le__',\n",
       " '__lt__',\n",
       " '__module__',\n",
       " '__name',\n",
       " '__ne__',\n",
       " '__new__',\n",
       " '__reduce__',\n",
       " '__reduce_ex__',\n",
       " '__repr__',\n",
       " '__setattr__',\n",
       " '__sizeof__',\n",
       " '__str__',\n",
       " '__subclasshook__',\n",
       " '__weakref__',\n",
       " 'age',\n",
       " 'print_name']"
      ]
     },
     "execution_count": 84,
     "metadata": {},
     "output_type": "execute_result"
    }
   ],
   "source": [
    "dir( class2 )"
   ]
  },
  {
   "cell_type": "code",
   "execution_count": 80,
   "metadata": {},
   "outputs": [],
   "source": [
    "class2.__name = \"Andres\""
   ]
  },
  {
   "cell_type": "code",
   "execution_count": 81,
   "metadata": {},
   "outputs": [
    {
     "name": "stdout",
     "output_type": "stream",
     "text": [
      "I am Jose.\n"
     ]
    }
   ],
   "source": [
    "class2.print_name()"
   ]
  },
  {
   "cell_type": "code",
   "execution_count": 82,
   "metadata": {},
   "outputs": [
    {
     "data": {
      "text/plain": [
       "'Andres'"
      ]
     },
     "execution_count": 82,
     "metadata": {},
     "output_type": "execute_result"
    }
   ],
   "source": [
    "class2.__name"
   ]
  },
  {
   "cell_type": "markdown",
   "metadata": {},
   "source": [
    "Here, the output of `print_name` was not modified. However, we add a new attribute \"\\_\\_name\" to the class. We are going to deal with this later."
   ]
  },
  {
   "cell_type": "code",
   "execution_count": 65,
   "metadata": {},
   "outputs": [
    {
     "data": {
      "text/plain": [
       "'Andres'"
      ]
     },
     "execution_count": 65,
     "metadata": {},
     "output_type": "execute_result"
    }
   ],
   "source": [
    "class2.name"
   ]
  },
  {
   "cell_type": "markdown",
   "metadata": {},
   "source": [
    "### <a id='6.2.1.'>6.2.1. Name Mangling </a> \n",
    "It help us to deal with private variables. In name mangling process any identifier with two leading underscore and one trailing underscore is textually replaced with \\_classname\\_\\_identifier where classname is the name of the current class. Name mangling takes place at class creation time; any functions that refer to mangled names are adjusted as well. The name mangling process helps to access the class variables from outside the class. The class variables can be accessed by adding \\_classname to it. The name mangling is closest to private not exactly private.\n",
    "\n",
    "Names, in a class, with a leading underscore are simply to indicate to other programmers that the attribute or method is intended to be private. However, nothing special is done with the name itself."
   ]
  },
  {
   "cell_type": "code",
   "execution_count": 85,
   "metadata": {},
   "outputs": [],
   "source": [
    "class3 = MyFirstClass( \"Doris\", 28 )"
   ]
  },
  {
   "cell_type": "code",
   "execution_count": 86,
   "metadata": {},
   "outputs": [
    {
     "data": {
      "text/plain": [
       "['_MyFirstClass__name',\n",
       " '__class__',\n",
       " '__delattr__',\n",
       " '__dict__',\n",
       " '__dir__',\n",
       " '__doc__',\n",
       " '__eq__',\n",
       " '__format__',\n",
       " '__ge__',\n",
       " '__getattribute__',\n",
       " '__gt__',\n",
       " '__hash__',\n",
       " '__init__',\n",
       " '__init_subclass__',\n",
       " '__le__',\n",
       " '__lt__',\n",
       " '__module__',\n",
       " '__ne__',\n",
       " '__new__',\n",
       " '__reduce__',\n",
       " '__reduce_ex__',\n",
       " '__repr__',\n",
       " '__setattr__',\n",
       " '__sizeof__',\n",
       " '__str__',\n",
       " '__subclasshook__',\n",
       " '__weakref__',\n",
       " 'age',\n",
       " 'print_name']"
      ]
     },
     "execution_count": 86,
     "metadata": {},
     "output_type": "execute_result"
    }
   ],
   "source": [
    "dir( class3 )"
   ]
  },
  {
   "cell_type": "markdown",
   "metadata": {},
   "source": [
    "As you can see, there is an attribute named as **\\_MyFirstClass\\_\\_name**. We can access to this variable and modify it."
   ]
  },
  {
   "cell_type": "code",
   "execution_count": 87,
   "metadata": {},
   "outputs": [
    {
     "name": "stdout",
     "output_type": "stream",
     "text": [
      "I am Doris.\n"
     ]
    }
   ],
   "source": [
    "class3.print_name()"
   ]
  },
  {
   "cell_type": "code",
   "execution_count": 89,
   "metadata": {},
   "outputs": [],
   "source": [
    "class3._MyFirstClass__name = \"Rebeca\""
   ]
  },
  {
   "cell_type": "code",
   "execution_count": 90,
   "metadata": {},
   "outputs": [
    {
     "name": "stdout",
     "output_type": "stream",
     "text": [
      "I am Rebeca.\n"
     ]
    }
   ],
   "source": [
    "class3.print_name()"
   ]
  },
  {
   "cell_type": "markdown",
   "metadata": {},
   "source": [
    "We can modify the private variable using names created by name mangling. This is the reason why we say that there is no existence of “Private” instance variables in Python like in other programing languages like Jave, C++. However, we use this standardized Python way to generate private variables to communicate other programmers which variables should not be modified."
   ]
  },
  {
   "cell_type": "markdown",
   "metadata": {},
   "source": [
    "### <a id='6.2.2.'> 6.2.2. \\_Single Leading Underscores </a> \n",
    "One underline at the beginning of a method, function, or data member means you shouldn’t access this method because it’s not part of the API."
   ]
  },
  {
   "cell_type": "code",
   "execution_count": 91,
   "metadata": {},
   "outputs": [],
   "source": [
    "\n",
    "# Python code to illustrate how double\n",
    "# underscore at the beginning works\n",
    "class Geek:\n",
    "    def _single_method(self):\n",
    "        pass\n",
    "    def __double_method(self): # for mangling\n",
    "        pass\n",
    "class Pyth(Geek):\n",
    "    def __double_method(self): # for mangling\n",
    "        pass"
   ]
  },
  {
   "cell_type": "code",
   "execution_count": 93,
   "metadata": {},
   "outputs": [
    {
     "data": {
      "text/plain": [
       "['_Geek__double_method',\n",
       " '_Pyth__double_method',\n",
       " '__class__',\n",
       " '__delattr__',\n",
       " '__dict__',\n",
       " '__dir__',\n",
       " '__doc__',\n",
       " '__eq__',\n",
       " '__format__',\n",
       " '__ge__',\n",
       " '__getattribute__',\n",
       " '__gt__',\n",
       " '__hash__',\n",
       " '__init__',\n",
       " '__init_subclass__',\n",
       " '__le__',\n",
       " '__lt__',\n",
       " '__module__',\n",
       " '__ne__',\n",
       " '__new__',\n",
       " '__reduce__',\n",
       " '__reduce_ex__',\n",
       " '__repr__',\n",
       " '__setattr__',\n",
       " '__sizeof__',\n",
       " '__str__',\n",
       " '__subclasshook__',\n",
       " '__weakref__',\n",
       " '_single_method']"
      ]
     },
     "execution_count": 93,
     "metadata": {},
     "output_type": "execute_result"
    }
   ],
   "source": [
    "dir(Pyth)"
   ]
  },
  {
   "cell_type": "code",
   "execution_count": 92,
   "metadata": {},
   "outputs": [
    {
     "data": {
      "text/plain": [
       "['_Geek__double_method',\n",
       " '__class__',\n",
       " '__delattr__',\n",
       " '__dict__',\n",
       " '__dir__',\n",
       " '__doc__',\n",
       " '__eq__',\n",
       " '__format__',\n",
       " '__ge__',\n",
       " '__getattribute__',\n",
       " '__gt__',\n",
       " '__hash__',\n",
       " '__init__',\n",
       " '__init_subclass__',\n",
       " '__le__',\n",
       " '__lt__',\n",
       " '__module__',\n",
       " '__ne__',\n",
       " '__new__',\n",
       " '__reduce__',\n",
       " '__reduce_ex__',\n",
       " '__repr__',\n",
       " '__setattr__',\n",
       " '__sizeof__',\n",
       " '__str__',\n",
       " '__subclasshook__',\n",
       " '__weakref__',\n",
       " '_single_method']"
      ]
     },
     "execution_count": 92,
     "metadata": {},
     "output_type": "execute_result"
    }
   ],
   "source": [
    "dir(Geek)"
   ]
  },
  {
   "cell_type": "markdown",
   "metadata": {},
   "source": [
    "### <a id='6.2.3.'> 6.2.3. \\_\\_Double Leading Underscores </a> \n",
    "Double underscore will mangle the attribute names of a class to avoid conflicts of attribute names between classes."
   ]
  },
  {
   "cell_type": "code",
   "execution_count": 100,
   "metadata": {},
   "outputs": [],
   "source": [
    "# Python code to illustrate how double\n",
    "# double underscore at the beginning works\n",
    "class Diploma:\n",
    "    def _single_method(self):\n",
    "        pass\n",
    "    def __double_method(self): # for mangling\n",
    "        pass\n",
    "class Pyth(Diploma):\n",
    "    def __double_method(self): # for mangling\n",
    "        pass"
   ]
  },
  {
   "cell_type": "code",
   "execution_count": 101,
   "metadata": {},
   "outputs": [
    {
     "data": {
      "text/plain": [
       "['_Diploma__double_method',\n",
       " '_Pyth__double_method',\n",
       " '__class__',\n",
       " '__delattr__',\n",
       " '__dict__',\n",
       " '__dir__',\n",
       " '__doc__',\n",
       " '__eq__',\n",
       " '__format__',\n",
       " '__ge__',\n",
       " '__getattribute__',\n",
       " '__gt__',\n",
       " '__hash__',\n",
       " '__init__',\n",
       " '__init_subclass__',\n",
       " '__le__',\n",
       " '__lt__',\n",
       " '__module__',\n",
       " '__ne__',\n",
       " '__new__',\n",
       " '__reduce__',\n",
       " '__reduce_ex__',\n",
       " '__repr__',\n",
       " '__setattr__',\n",
       " '__sizeof__',\n",
       " '__str__',\n",
       " '__subclasshook__',\n",
       " '__weakref__',\n",
       " '_single_method']"
      ]
     },
     "execution_count": 101,
     "metadata": {},
     "output_type": "execute_result"
    }
   ],
   "source": [
    "dir(Pyth)"
   ]
  },
  {
   "cell_type": "code",
   "execution_count": 168,
   "metadata": {},
   "outputs": [],
   "source": [
    "# Python code to illustrate how double\n",
    "# single underscore at the beginning does not works\n",
    "class Diploma:\n",
    "    def _single_method(self):\n",
    "        pass\n",
    "    def _double_method(self): # for mangling\n",
    "        pass\n",
    "class Pyth(Diploma):\n",
    "    def __double_method(self): # for mangling\n",
    "        pass"
   ]
  },
  {
   "cell_type": "code",
   "execution_count": 169,
   "metadata": {},
   "outputs": [
    {
     "data": {
      "text/plain": [
       "['_Pyth__double_method',\n",
       " '__class__',\n",
       " '__delattr__',\n",
       " '__dict__',\n",
       " '__dir__',\n",
       " '__doc__',\n",
       " '__eq__',\n",
       " '__format__',\n",
       " '__ge__',\n",
       " '__getattribute__',\n",
       " '__gt__',\n",
       " '__hash__',\n",
       " '__init__',\n",
       " '__init_subclass__',\n",
       " '__le__',\n",
       " '__lt__',\n",
       " '__module__',\n",
       " '__ne__',\n",
       " '__new__',\n",
       " '__reduce__',\n",
       " '__reduce_ex__',\n",
       " '__repr__',\n",
       " '__setattr__',\n",
       " '__sizeof__',\n",
       " '__str__',\n",
       " '__subclasshook__',\n",
       " '__weakref__',\n",
       " '_double_method',\n",
       " '_single_method']"
      ]
     },
     "execution_count": 169,
     "metadata": {},
     "output_type": "execute_result"
    }
   ],
   "source": [
    "dir( Pyth )"
   ]
  },
  {
   "cell_type": "markdown",
   "metadata": {},
   "source": [
    "As you can see, the Pyth class does not inherit private **\\_double\\_method**."
   ]
  },
  {
   "cell_type": "markdown",
   "metadata": {},
   "source": [
    "### <a id='6.3.'>6.3. Fixed attributes </a>  "
   ]
  },
  {
   "cell_type": "markdown",
   "metadata": {},
   "source": [
    "We comment that we can can dynamically add attributes to objects of classes. However, it is not recomended. Most libraries do not have this option. Let's look at a numpy array."
   ]
  },
  {
   "cell_type": "code",
   "execution_count": 170,
   "metadata": {},
   "outputs": [],
   "source": [
    "A = np.arange( 7, 35, 5)"
   ]
  },
  {
   "cell_type": "code",
   "execution_count": 171,
   "metadata": {},
   "outputs": [
    {
     "data": {
      "text/plain": [
       "array([ 7, 12, 17, 22, 27, 32])"
      ]
     },
     "execution_count": 171,
     "metadata": {},
     "output_type": "execute_result"
    }
   ],
   "source": [
    "A"
   ]
  },
  {
   "cell_type": "code",
   "execution_count": 172,
   "metadata": {},
   "outputs": [
    {
     "ename": "AttributeError",
     "evalue": "'numpy.ndarray' object has no attribute 'new_attr'",
     "output_type": "error",
     "traceback": [
      "\u001b[1;31m---------------------------------------------------------------------------\u001b[0m",
      "\u001b[1;31mAttributeError\u001b[0m                            Traceback (most recent call last)",
      "\u001b[1;32m<ipython-input-172-512d4d9583bb>\u001b[0m in \u001b[0;36m<module>\u001b[1;34m\u001b[0m\n\u001b[1;32m----> 1\u001b[1;33m \u001b[0mA\u001b[0m\u001b[1;33m.\u001b[0m\u001b[0mnew_attr\u001b[0m \u001b[1;33m=\u001b[0m \u001b[1;34m\"New attribute\"\u001b[0m\u001b[1;33m\u001b[0m\u001b[1;33m\u001b[0m\u001b[0m\n\u001b[0m",
      "\u001b[1;31mAttributeError\u001b[0m: 'numpy.ndarray' object has no attribute 'new_attr'"
     ]
    }
   ],
   "source": [
    "A.new_attr = \"New attribute\""
   ]
  },
  {
   "cell_type": "markdown",
   "metadata": {},
   "source": [
    "As you can see, it is not possible to add more attributes. It is not recomended since users or project partners may change the original values of these attributes or methods. "
   ]
  },
  {
   "cell_type": "code",
   "execution_count": 180,
   "metadata": {},
   "outputs": [],
   "source": [
    "# Base model\n",
    "# We are going to define a family\n",
    "# Imagine family\n",
    "class Family(object):\n",
    "       \n",
    "    # Constructor\n",
    "    def __init__( self, last_name , nationality ):\n",
    "        self.last_name = last_name\n",
    "        self.nationality = nationality\n",
    "   \n",
    "    # Upper case Last name\n",
    "    def upper_lt_name( self, x ):\n",
    "        return  x.upper()\n",
    "    \n",
    "    # Print last name\n",
    "    def pr_LastName( self ):\n",
    "        up_last_name = self.upper_lt_name( self.last_name )\n",
    "        print( f\"The { up_last_name } family.\" )\n",
    "   \n",
    "    # Print Nationality\n",
    "    def pr_Natioanlity( self ):\n",
    "        print( f\"This family is {self.nationality}\" )\n",
    "        "
   ]
  },
  {
   "cell_type": "code",
   "execution_count": 181,
   "metadata": {},
   "outputs": [],
   "source": [
    "std1 = Family( \"Azabache\" , \"Peruvian\")"
   ]
  },
  {
   "cell_type": "code",
   "execution_count": 182,
   "metadata": {},
   "outputs": [],
   "source": [
    "# We define a new function\n",
    "def lower_case( x ):\n",
    "    x1 = x.lower()\n",
    "    return x1"
   ]
  },
  {
   "cell_type": "code",
   "execution_count": 183,
   "metadata": {},
   "outputs": [],
   "source": [
    "# We change the `upper_lt_name` function\n",
    "std1.upper_lt_name = lower_case"
   ]
  },
  {
   "cell_type": "code",
   "execution_count": 185,
   "metadata": {},
   "outputs": [
    {
     "name": "stdout",
     "output_type": "stream",
     "text": [
      "The azabache family.\n"
     ]
    }
   ],
   "source": [
    "std1.pr_LastName()"
   ]
  },
  {
   "cell_type": "markdown",
   "metadata": {},
   "source": [
    "We can change methods and attributes of a class object if we do not fix them. We use \\_\\_slots\\_\\_ to fix them."
   ]
  },
  {
   "cell_type": "markdown",
   "metadata": {},
   "source": [
    "The special attribute \\_\\_slots\\_\\_ allows you to explicitly state which instance attributes you expect your object instances to have, with the expected results:\n",
    "\n",
    "1. faster attribute access.\n",
    "2. space savings in memory.\n",
    "3. The space savings is from"
   ]
  },
  {
   "cell_type": "markdown",
   "metadata": {},
   "source": [
    "When we design a class, we can use slots to prevent the dynamic creation of attributes."
   ]
  },
  {
   "cell_type": "code",
   "execution_count": 200,
   "metadata": {},
   "outputs": [],
   "source": [
    "# Base model\n",
    "# We are going to define a family\n",
    "# Imagine family\n",
    "class Family(object):\n",
    "    \n",
    "    __slots__ = [ 'last_name', 'nationality', ]\n",
    "    \n",
    "    # Constructor\n",
    "    def __init__( self, last_name , nationality ):\n",
    "        self.last_name = last_name\n",
    "        self.nationality = nationality\n",
    "   \n",
    "    # Upper case Last name\n",
    "    def upper_lt_name( self, x ):\n",
    "        return  x.upper()\n",
    "    \n",
    "    # Print last name\n",
    "    def pr_LastName( self ):\n",
    "        up_last_name = self.upper_lt_name( self.last_name )\n",
    "        print( f\"The { up_last_name } family.\" )\n",
    "   \n",
    "    # Print Nationality\n",
    "    def pr_Natioanlity( self ):\n",
    "        print( f\"This family is {self.nationality}\" )\n",
    "        "
   ]
  },
  {
   "cell_type": "code",
   "execution_count": 201,
   "metadata": {},
   "outputs": [],
   "source": [
    "std1 = Family( \"Azabache\" , \"Peruvian\")"
   ]
  },
  {
   "cell_type": "code",
   "execution_count": 202,
   "metadata": {},
   "outputs": [
    {
     "ename": "AttributeError",
     "evalue": "'Family' object has no attribute 'number_children'",
     "output_type": "error",
     "traceback": [
      "\u001b[1;31m---------------------------------------------------------------------------\u001b[0m",
      "\u001b[1;31mAttributeError\u001b[0m                            Traceback (most recent call last)",
      "\u001b[1;32m<ipython-input-202-53f13afe38d0>\u001b[0m in \u001b[0;36m<module>\u001b[1;34m\u001b[0m\n\u001b[0;32m      1\u001b[0m \u001b[1;31m## add a new attribute\u001b[0m\u001b[1;33m\u001b[0m\u001b[1;33m\u001b[0m\u001b[1;33m\u001b[0m\u001b[0m\n\u001b[1;32m----> 2\u001b[1;33m \u001b[0mstd1\u001b[0m\u001b[1;33m.\u001b[0m\u001b[0mnumber_children\u001b[0m \u001b[1;33m=\u001b[0m \u001b[1;36m8\u001b[0m\u001b[1;33m\u001b[0m\u001b[1;33m\u001b[0m\u001b[0m\n\u001b[0m",
      "\u001b[1;31mAttributeError\u001b[0m: 'Family' object has no attribute 'number_children'"
     ]
    }
   ],
   "source": [
    "## add a new attribute\n",
    "std1.number_children = 8"
   ]
  },
  {
   "cell_type": "markdown",
   "metadata": {},
   "source": [
    "We can not add more attributes."
   ]
  },
  {
   "cell_type": "code",
   "execution_count": 203,
   "metadata": {},
   "outputs": [],
   "source": [
    "# We define a new function\n",
    "def lower_case( x ):\n",
    "    x1 = x.lower()\n",
    "    return x1"
   ]
  },
  {
   "cell_type": "code",
   "execution_count": 204,
   "metadata": {},
   "outputs": [
    {
     "ename": "AttributeError",
     "evalue": "'Family' object attribute 'upper_lt_name' is read-only",
     "output_type": "error",
     "traceback": [
      "\u001b[1;31m---------------------------------------------------------------------------\u001b[0m",
      "\u001b[1;31mAttributeError\u001b[0m                            Traceback (most recent call last)",
      "\u001b[1;32m<ipython-input-204-f35240125f21>\u001b[0m in \u001b[0;36m<module>\u001b[1;34m\u001b[0m\n\u001b[0;32m      1\u001b[0m \u001b[1;31m# We change the `upper_lt_name` function\u001b[0m\u001b[1;33m\u001b[0m\u001b[1;33m\u001b[0m\u001b[1;33m\u001b[0m\u001b[0m\n\u001b[1;32m----> 2\u001b[1;33m \u001b[0mstd1\u001b[0m\u001b[1;33m.\u001b[0m\u001b[0mupper_lt_name\u001b[0m \u001b[1;33m=\u001b[0m \u001b[0mlower_case\u001b[0m\u001b[1;33m\u001b[0m\u001b[1;33m\u001b[0m\u001b[0m\n\u001b[0m",
      "\u001b[1;31mAttributeError\u001b[0m: 'Family' object attribute 'upper_lt_name' is read-only"
     ]
    }
   ],
   "source": [
    "# We change the `upper_lt_name` function\n",
    "std1.upper_lt_name = lower_case"
   ]
  },
  {
   "cell_type": "markdown",
   "metadata": {},
   "source": [
    "Additionally, we can not add or modify methods."
   ]
  },
  {
   "cell_type": "markdown",
   "metadata": {},
   "source": [
    "### <a id='6.4.'>6.4. Costumize Exceptions with Python </a>  \n",
    "\n",
    "Python has numerous built-in exceptions that force your program to output an error when something in the program goes wrong. However, sometimes you may need to create your own custom exceptions that serve your purpose."
   ]
  },
  {
   "cell_type": "code",
   "execution_count": 213,
   "metadata": {},
   "outputs": [],
   "source": [
    "# define Python user-defined exceptions\n",
    "# we create custom exceptions using the base class Exception\n",
    "class LastNameisLower( Exception ):\n",
    "    \"\"\"Raised when the last name string is lower case\"\"\"\n",
    "    pass"
   ]
  },
  {
   "cell_type": "code",
   "execution_count": 212,
   "metadata": {},
   "outputs": [],
   "source": [
    "class LastNameisUpper(Exception):\n",
    "    \"\"\"Raised when the last name string is upper case\"\"\"\n",
    "    pass"
   ]
  },
  {
   "cell_type": "code",
   "execution_count": 235,
   "metadata": {},
   "outputs": [],
   "source": [
    "# Base model\n",
    "# We are going to define a family\n",
    "# Imagine family\n",
    "class Family(object):\n",
    "    \n",
    "    __slots__ = [ 'last_name', 'nationality', ]\n",
    "    \n",
    "    # Constructor\n",
    "    def __init__( self, last_name , nationality ):\n",
    "        \n",
    "        if last_name[ 0 ].islower():\n",
    "            raise LastNameisLower( f\"The first letter in last_name is lowercase. \\nPlease, the first letter must be uppercase.\")\n",
    "\n",
    "            \n",
    "        for i in range( len( last_name ) - 1 ):\n",
    "            \n",
    "         \n",
    "            str1 = last_name[ i + 1 ]\n",
    "            if str1.isupper():\n",
    "                \n",
    "                raise LastNameisUpper( f\"Index { i +1 } in last_name is uppercase. \\nPlease, only the first letter must be uppercase.\")\n",
    "        \n",
    "            \n",
    "        \n",
    "        self.last_name = last_name\n",
    "        self.nationality = nationality\n",
    "   \n",
    "    # Print last name\n",
    "    def pr_LastName( self ):\n",
    "        print( f\"The { self.last_name } family.\" )\n",
    "   \n",
    "    # Print Nationality\n",
    "    def pr_Natioanlity( self ):\n",
    "        print( f\"This family is {self.nationality}\" )\n",
    "        "
   ]
  },
  {
   "cell_type": "code",
   "execution_count": 240,
   "metadata": {},
   "outputs": [
    {
     "ename": "LastNameisUpper",
     "evalue": "Index 3 in last_name is uppercase. \nPlease, only the first letter must be uppercase.",
     "output_type": "error",
     "traceback": [
      "\u001b[1;31m---------------------------------------------------------------------------\u001b[0m",
      "\u001b[1;31mLastNameisUpper\u001b[0m                           Traceback (most recent call last)",
      "\u001b[1;32m<ipython-input-240-24225eceac5e>\u001b[0m in \u001b[0;36m<module>\u001b[1;34m\u001b[0m\n\u001b[1;32m----> 1\u001b[1;33m \u001b[0mstd1\u001b[0m \u001b[1;33m=\u001b[0m \u001b[0mFamily\u001b[0m\u001b[1;33m(\u001b[0m \u001b[1;34m\"AzaBache\"\u001b[0m \u001b[1;33m,\u001b[0m \u001b[1;34m\"Peruvian\"\u001b[0m\u001b[1;33m)\u001b[0m\u001b[1;33m\u001b[0m\u001b[1;33m\u001b[0m\u001b[0m\n\u001b[0m",
      "\u001b[1;32m<ipython-input-235-560a2ad23198>\u001b[0m in \u001b[0;36m__init__\u001b[1;34m(self, last_name, nationality)\u001b[0m\n\u001b[0;32m     19\u001b[0m             \u001b[1;32mif\u001b[0m \u001b[0mstr1\u001b[0m\u001b[1;33m.\u001b[0m\u001b[0misupper\u001b[0m\u001b[1;33m(\u001b[0m\u001b[1;33m)\u001b[0m\u001b[1;33m:\u001b[0m\u001b[1;33m\u001b[0m\u001b[1;33m\u001b[0m\u001b[0m\n\u001b[0;32m     20\u001b[0m \u001b[1;33m\u001b[0m\u001b[0m\n\u001b[1;32m---> 21\u001b[1;33m                 \u001b[1;32mraise\u001b[0m \u001b[0mLastNameisUpper\u001b[0m\u001b[1;33m(\u001b[0m \u001b[1;34mf\"Index { i +1 } in last_name is uppercase. \\nPlease, only the first letter must be uppercase.\"\u001b[0m\u001b[1;33m)\u001b[0m\u001b[1;33m\u001b[0m\u001b[1;33m\u001b[0m\u001b[0m\n\u001b[0m\u001b[0;32m     22\u001b[0m \u001b[1;33m\u001b[0m\u001b[0m\n\u001b[0;32m     23\u001b[0m \u001b[1;33m\u001b[0m\u001b[0m\n",
      "\u001b[1;31mLastNameisUpper\u001b[0m: Index 3 in last_name is uppercase. \nPlease, only the first letter must be uppercase."
     ]
    }
   ],
   "source": [
    "std1 = Family( \"AzaBache\" , \"Peruvian\")"
   ]
  },
  {
   "cell_type": "code",
   "execution_count": 239,
   "metadata": {},
   "outputs": [
    {
     "ename": "LastNameisLower",
     "evalue": "The first letter in last_name is lowercase. \nPlease, the first letter must be uppercase.",
     "output_type": "error",
     "traceback": [
      "\u001b[1;31m---------------------------------------------------------------------------\u001b[0m",
      "\u001b[1;31mLastNameisLower\u001b[0m                           Traceback (most recent call last)",
      "\u001b[1;32m<ipython-input-239-e3041492e7a0>\u001b[0m in \u001b[0;36m<module>\u001b[1;34m\u001b[0m\n\u001b[1;32m----> 1\u001b[1;33m \u001b[0mstd1\u001b[0m \u001b[1;33m=\u001b[0m \u001b[0mFamily\u001b[0m\u001b[1;33m(\u001b[0m \u001b[1;34m\"azabache\"\u001b[0m \u001b[1;33m,\u001b[0m \u001b[1;34m\"Peruvian\"\u001b[0m\u001b[1;33m)\u001b[0m\u001b[1;33m\u001b[0m\u001b[1;33m\u001b[0m\u001b[0m\n\u001b[0m",
      "\u001b[1;32m<ipython-input-235-560a2ad23198>\u001b[0m in \u001b[0;36m__init__\u001b[1;34m(self, last_name, nationality)\u001b[0m\n\u001b[0;32m     10\u001b[0m \u001b[1;33m\u001b[0m\u001b[0m\n\u001b[0;32m     11\u001b[0m         \u001b[1;32mif\u001b[0m \u001b[0mlast_name\u001b[0m\u001b[1;33m[\u001b[0m \u001b[1;36m0\u001b[0m \u001b[1;33m]\u001b[0m\u001b[1;33m.\u001b[0m\u001b[0mislower\u001b[0m\u001b[1;33m(\u001b[0m\u001b[1;33m)\u001b[0m\u001b[1;33m:\u001b[0m\u001b[1;33m\u001b[0m\u001b[1;33m\u001b[0m\u001b[0m\n\u001b[1;32m---> 12\u001b[1;33m             \u001b[1;32mraise\u001b[0m \u001b[0mLastNameisLower\u001b[0m\u001b[1;33m(\u001b[0m \u001b[1;34mf\"The first letter in last_name is lowercase. \\nPlease, the first letter must be uppercase.\"\u001b[0m\u001b[1;33m)\u001b[0m\u001b[1;33m\u001b[0m\u001b[1;33m\u001b[0m\u001b[0m\n\u001b[0m\u001b[0;32m     13\u001b[0m \u001b[1;33m\u001b[0m\u001b[0m\n\u001b[0;32m     14\u001b[0m \u001b[1;33m\u001b[0m\u001b[0m\n",
      "\u001b[1;31mLastNameisLower\u001b[0m: The first letter in last_name is lowercase. \nPlease, the first letter must be uppercase."
     ]
    }
   ],
   "source": [
    "std1 = Family( \"azabache\" , \"Peruvian\")"
   ]
  },
  {
   "cell_type": "markdown",
   "metadata": {},
   "source": [
    "### <a id='6.5.'>6.5. References </a>"
   ]
  },
  {
   "cell_type": "markdown",
   "metadata": {},
   "source": [
    "https://bytes.com/topic/python/answers/43335-__init__-method-raising-exceptions\n",
    "\n",
    "https://stackoverflow.com/questions/472000/usage-of-slots\n",
    "\n",
    "https://www.geeksforgeeks.org/private-variables-python/\n",
    "\n",
    "https://stackoverflow.com/questions/1301346/what-is-the-meaning-of-single-and-double-underscore-before-an-object-name\n",
    "\n",
    "https://www.programiz.com/python-programming/user-defined-exception"
   ]
  },
  {
   "cell_type": "markdown",
   "metadata": {},
   "source": [
    "## Excersise\n",
    "#### Importing a Dictionary"
   ]
  },
  {
   "cell_type": "code",
   "execution_count": 111,
   "metadata": {},
   "outputs": [],
   "source": [
    "import pickle\n",
    "import pandas as pd\n",
    "import numpy as np"
   ]
  },
  {
   "cell_type": "markdown",
   "metadata": {},
   "source": [
    "The `places_result` dictionary stores information from a Google API request that aims to geolocate all the National Identity Management Commission establishments in Nigeria. We want to store the results in a Pandas DataFrame. We want to keep the name of the establishment and its coordiantes."
   ]
  },
  {
   "cell_type": "code",
   "execution_count": 112,
   "metadata": {},
   "outputs": [],
   "source": [
    "dictionary_places = open( r\"..\\_data\\places_result\", \"rb\")\n",
    "places_result = pickle.load( dictionary_places )"
   ]
  },
  {
   "cell_type": "code",
   "execution_count": 113,
   "metadata": {},
   "outputs": [
    {
     "data": {
      "text/plain": [
       "dict"
      ]
     },
     "execution_count": 113,
     "metadata": {},
     "output_type": "execute_result"
    }
   ],
   "source": [
    "# It is a dictionary\n",
    "type( places_result )"
   ]
  },
  {
   "cell_type": "code",
   "execution_count": 114,
   "metadata": {},
   "outputs": [
    {
     "data": {
      "text/plain": [
       "'National Identity Management Commission'"
      ]
     },
     "execution_count": 114,
     "metadata": {},
     "output_type": "execute_result"
    }
   ],
   "source": [
    " places_result['results'][0]['name']"
   ]
  },
  {
   "cell_type": "code",
   "execution_count": 115,
   "metadata": {},
   "outputs": [
    {
     "data": {
      "text/plain": [
       "20"
      ]
     },
     "execution_count": 115,
     "metadata": {},
     "output_type": "execute_result"
    }
   ],
   "source": [
    "len(places_result['results'])"
   ]
  },
  {
   "cell_type": "code",
   "execution_count": 116,
   "metadata": {},
   "outputs": [
    {
     "name": "stdout",
     "output_type": "stream",
     "text": [
      "National Identity Management Commission (Nimc)\n",
      "National Identity Management Commission NIMC\n",
      "National Identity Management Commission\n",
      "National Identity Management Commission (Nimc)\n",
      "National Identity Management Commission\n",
      "National Identity Management Commission\n",
      "National Identity Management Commission (Nimc)\n",
      "National Identity Management Commission\n",
      "National Identity Management Commission (Nimc)\n",
      "National Identity Management Commission (Nimc)\n",
      "National Identity Management Center\n",
      "National Identity Management Commision (NIMC) Lagos\n",
      "National Identity Management Commission\n",
      "National Identity Management Commission (Nimc)\n",
      "National Identity Management Commission Umuahia\n",
      "National Identity Management Commission\n",
      "National Identity Management Commission (Nimc)\n",
      "National Identity Management Commission, Northwest Zonal Office\n",
      "National Identity Management Commission Nimc\n"
     ]
    }
   ],
   "source": [
    "# See all the establishments\n",
    "i = 0\n",
    "while True:\n",
    "    try:\n",
    "        i = i + 1\n",
    "        print( places_result['results'][i]['name'] )\n",
    "    except:\n",
    "        break"
   ]
  },
  {
   "cell_type": "markdown",
   "metadata": {},
   "source": [
    "`places_result` is a nested dictionary. It is composed of a list, dictionary, and a dictionary."
   ]
  },
  {
   "cell_type": "markdown",
   "metadata": {},
   "source": [
    "First, we are going to do it using a for loop. We are not going to use a function. After we get our expected results, we will define a function."
   ]
  },
  {
   "cell_type": "markdown",
   "metadata": {},
   "source": [
    "##### We can do it lists"
   ]
  },
  {
   "cell_type": "code",
   "execution_count": 117,
   "metadata": {},
   "outputs": [
    {
     "data": {
      "text/plain": [
       "7.4549606"
      ]
     },
     "execution_count": 117,
     "metadata": {},
     "output_type": "execute_result"
    }
   ],
   "source": [
    "places_result['results'][0]['geometry']['location']['lat']\n",
    "places_result['results'][0]['geometry']['location']['lng']"
   ]
  },
  {
   "cell_type": "code",
   "execution_count": 118,
   "metadata": {},
   "outputs": [],
   "source": [
    "from tqdm import tqdm"
   ]
  },
  {
   "cell_type": "code",
   "execution_count": 119,
   "metadata": {},
   "outputs": [],
   "source": [
    "# Lists\n",
    "latitudes = []\n",
    "longitudes = []\n",
    "institutions = []"
   ]
  },
  {
   "cell_type": "code",
   "execution_count": 120,
   "metadata": {},
   "outputs": [
    {
     "data": {
      "text/plain": [
       "20"
      ]
     },
     "execution_count": 120,
     "metadata": {},
     "output_type": "execute_result"
    }
   ],
   "source": [
    "# define all the results\n",
    "results = places_result[ 'results' ]\n",
    "len(results)"
   ]
  },
  {
   "cell_type": "code",
   "execution_count": 121,
   "metadata": {},
   "outputs": [
    {
     "name": "stderr",
     "output_type": "stream",
     "text": [
      "100%|███████████████████████████████████████████████████████████████████████████████| 20/20 [00:00<00:00, 20140.72it/s]\n"
     ]
    },
    {
     "data": {
      "text/html": [
       "<div>\n",
       "<style scoped>\n",
       "    .dataframe tbody tr th:only-of-type {\n",
       "        vertical-align: middle;\n",
       "    }\n",
       "\n",
       "    .dataframe tbody tr th {\n",
       "        vertical-align: top;\n",
       "    }\n",
       "\n",
       "    .dataframe thead th {\n",
       "        text-align: right;\n",
       "    }\n",
       "</style>\n",
       "<table border=\"1\" class=\"dataframe\">\n",
       "  <thead>\n",
       "    <tr style=\"text-align: right;\">\n",
       "      <th></th>\n",
       "      <th>Institution</th>\n",
       "      <th>Latitud</th>\n",
       "      <th>Longitud</th>\n",
       "    </tr>\n",
       "  </thead>\n",
       "  <tbody>\n",
       "    <tr>\n",
       "      <th>0</th>\n",
       "      <td>National Identity Management Commission Nimc</td>\n",
       "      <td>9.065977</td>\n",
       "      <td>7.454961</td>\n",
       "    </tr>\n",
       "    <tr>\n",
       "      <th>1</th>\n",
       "      <td>National Identity Management Commission Nimc</td>\n",
       "      <td>8.450151</td>\n",
       "      <td>4.542503</td>\n",
       "    </tr>\n",
       "    <tr>\n",
       "      <th>2</th>\n",
       "      <td>National Identity Management Commission Nimc</td>\n",
       "      <td>8.505730</td>\n",
       "      <td>8.531775</td>\n",
       "    </tr>\n",
       "    <tr>\n",
       "      <th>3</th>\n",
       "      <td>National Identity Management Commission Nimc</td>\n",
       "      <td>9.058854</td>\n",
       "      <td>7.468078</td>\n",
       "    </tr>\n",
       "    <tr>\n",
       "      <th>4</th>\n",
       "      <td>National Identity Management Commission Nimc</td>\n",
       "      <td>9.895973</td>\n",
       "      <td>8.931434</td>\n",
       "    </tr>\n",
       "    <tr>\n",
       "      <th>5</th>\n",
       "      <td>National Identity Management Commission Nimc</td>\n",
       "      <td>9.892295</td>\n",
       "      <td>8.917566</td>\n",
       "    </tr>\n",
       "    <tr>\n",
       "      <th>6</th>\n",
       "      <td>National Identity Management Commission Nimc</td>\n",
       "      <td>9.857233</td>\n",
       "      <td>7.967972</td>\n",
       "    </tr>\n",
       "    <tr>\n",
       "      <th>7</th>\n",
       "      <td>National Identity Management Commission Nimc</td>\n",
       "      <td>7.711656</td>\n",
       "      <td>8.526523</td>\n",
       "    </tr>\n",
       "    <tr>\n",
       "      <th>8</th>\n",
       "      <td>National Identity Management Commission Nimc</td>\n",
       "      <td>11.989994</td>\n",
       "      <td>8.489165</td>\n",
       "    </tr>\n",
       "    <tr>\n",
       "      <th>9</th>\n",
       "      <td>National Identity Management Commission Nimc</td>\n",
       "      <td>10.310332</td>\n",
       "      <td>9.826602</td>\n",
       "    </tr>\n",
       "    <tr>\n",
       "      <th>10</th>\n",
       "      <td>National Identity Management Commission Nimc</td>\n",
       "      <td>10.592473</td>\n",
       "      <td>7.449456</td>\n",
       "    </tr>\n",
       "    <tr>\n",
       "      <th>11</th>\n",
       "      <td>National Identity Management Commission Nimc</td>\n",
       "      <td>5.471781</td>\n",
       "      <td>7.008344</td>\n",
       "    </tr>\n",
       "    <tr>\n",
       "      <th>12</th>\n",
       "      <td>National Identity Management Commission Nimc</td>\n",
       "      <td>6.617086</td>\n",
       "      <td>3.357951</td>\n",
       "    </tr>\n",
       "    <tr>\n",
       "      <th>13</th>\n",
       "      <td>National Identity Management Commission Nimc</td>\n",
       "      <td>6.460106</td>\n",
       "      <td>7.579009</td>\n",
       "    </tr>\n",
       "    <tr>\n",
       "      <th>14</th>\n",
       "      <td>National Identity Management Commission Nimc</td>\n",
       "      <td>9.076770</td>\n",
       "      <td>7.493777</td>\n",
       "    </tr>\n",
       "    <tr>\n",
       "      <th>15</th>\n",
       "      <td>National Identity Management Commission Nimc</td>\n",
       "      <td>5.502502</td>\n",
       "      <td>7.517956</td>\n",
       "    </tr>\n",
       "    <tr>\n",
       "      <th>16</th>\n",
       "      <td>National Identity Management Commission Nimc</td>\n",
       "      <td>4.822006</td>\n",
       "      <td>7.007972</td>\n",
       "    </tr>\n",
       "    <tr>\n",
       "      <th>17</th>\n",
       "      <td>National Identity Management Commission Nimc</td>\n",
       "      <td>11.988203</td>\n",
       "      <td>8.496804</td>\n",
       "    </tr>\n",
       "    <tr>\n",
       "      <th>18</th>\n",
       "      <td>National Identity Management Commission Nimc</td>\n",
       "      <td>10.543617</td>\n",
       "      <td>7.460988</td>\n",
       "    </tr>\n",
       "    <tr>\n",
       "      <th>19</th>\n",
       "      <td>National Identity Management Commission Nimc</td>\n",
       "      <td>4.849608</td>\n",
       "      <td>7.052736</td>\n",
       "    </tr>\n",
       "  </tbody>\n",
       "</table>\n",
       "</div>"
      ],
      "text/plain": [
       "                                     Institution    Latitud  Longitud\n",
       "0   National Identity Management Commission Nimc   9.065977  7.454961\n",
       "1   National Identity Management Commission Nimc   8.450151  4.542503\n",
       "2   National Identity Management Commission Nimc   8.505730  8.531775\n",
       "3   National Identity Management Commission Nimc   9.058854  7.468078\n",
       "4   National Identity Management Commission Nimc   9.895973  8.931434\n",
       "5   National Identity Management Commission Nimc   9.892295  8.917566\n",
       "6   National Identity Management Commission Nimc   9.857233  7.967972\n",
       "7   National Identity Management Commission Nimc   7.711656  8.526523\n",
       "8   National Identity Management Commission Nimc  11.989994  8.489165\n",
       "9   National Identity Management Commission Nimc  10.310332  9.826602\n",
       "10  National Identity Management Commission Nimc  10.592473  7.449456\n",
       "11  National Identity Management Commission Nimc   5.471781  7.008344\n",
       "12  National Identity Management Commission Nimc   6.617086  3.357951\n",
       "13  National Identity Management Commission Nimc   6.460106  7.579009\n",
       "14  National Identity Management Commission Nimc   9.076770  7.493777\n",
       "15  National Identity Management Commission Nimc   5.502502  7.517956\n",
       "16  National Identity Management Commission Nimc   4.822006  7.007972\n",
       "17  National Identity Management Commission Nimc  11.988203  8.496804\n",
       "18  National Identity Management Commission Nimc  10.543617  7.460988\n",
       "19  National Identity Management Commission Nimc   4.849608  7.052736"
      ]
     },
     "execution_count": 121,
     "metadata": {},
     "output_type": "execute_result"
    }
   ],
   "source": [
    "# loop para guardar cada uno de los elementos\n",
    "for element in tqdm( range( 0 , len( results ) ) ):\n",
    "    \n",
    "    # latitude\n",
    "    lat = results[ element ]['geometry']['location']['lat']\n",
    "    \n",
    "    # Longitude\n",
    "    lng = results[ element ]['geometry']['location']['lng']\n",
    "    \n",
    "    # nombre de la institution\n",
    "    institution = results[ row ]['name']\n",
    "    \n",
    "    # Save results\n",
    "    latitudes.append( lat )\n",
    "    longitudes.append( lng )\n",
    "    institutions.append( institution )\n",
    "    \n",
    "# Diccionario\n",
    "final_result = { 'Institution': institutions, 'Latitud' : latitudes, 'Longitud' : longitudes }\n",
    "\n",
    "# Dataframe\n",
    "df_result = pd.DataFrame( final_result )\n",
    "df_result"
   ]
  },
  {
   "cell_type": "markdown",
   "metadata": {},
   "source": [
    "##### We can do it using iteration over rows of a DataFrame"
   ]
  },
  {
   "cell_type": "code",
   "execution_count": 122,
   "metadata": {},
   "outputs": [
    {
     "name": "stderr",
     "output_type": "stream",
     "text": [
      "100%|█████████████████████████████████████████████████████████████████████████████████| 20/20 [00:00<00:00, 284.38it/s]\n"
     ]
    },
    {
     "data": {
      "text/html": [
       "<div>\n",
       "<style scoped>\n",
       "    .dataframe tbody tr th:only-of-type {\n",
       "        vertical-align: middle;\n",
       "    }\n",
       "\n",
       "    .dataframe tbody tr th {\n",
       "        vertical-align: top;\n",
       "    }\n",
       "\n",
       "    .dataframe thead th {\n",
       "        text-align: right;\n",
       "    }\n",
       "</style>\n",
       "<table border=\"1\" class=\"dataframe\">\n",
       "  <thead>\n",
       "    <tr style=\"text-align: right;\">\n",
       "      <th></th>\n",
       "      <th>Institution</th>\n",
       "      <th>Latitude</th>\n",
       "      <th>Longitud</th>\n",
       "    </tr>\n",
       "  </thead>\n",
       "  <tbody>\n",
       "    <tr>\n",
       "      <th>0</th>\n",
       "      <td>National Identity Management Commission</td>\n",
       "      <td>9.065977</td>\n",
       "      <td>7.454961</td>\n",
       "    </tr>\n",
       "    <tr>\n",
       "      <th>1</th>\n",
       "      <td>National Identity Management Commission (Nimc)</td>\n",
       "      <td>8.450151</td>\n",
       "      <td>4.542503</td>\n",
       "    </tr>\n",
       "    <tr>\n",
       "      <th>2</th>\n",
       "      <td>National Identity Management Commission NIMC</td>\n",
       "      <td>8.505730</td>\n",
       "      <td>8.531775</td>\n",
       "    </tr>\n",
       "    <tr>\n",
       "      <th>3</th>\n",
       "      <td>National Identity Management Commission</td>\n",
       "      <td>9.058854</td>\n",
       "      <td>7.468078</td>\n",
       "    </tr>\n",
       "    <tr>\n",
       "      <th>4</th>\n",
       "      <td>National Identity Management Commission (Nimc)</td>\n",
       "      <td>9.895973</td>\n",
       "      <td>8.931434</td>\n",
       "    </tr>\n",
       "    <tr>\n",
       "      <th>5</th>\n",
       "      <td>National Identity Management Commission</td>\n",
       "      <td>9.892295</td>\n",
       "      <td>8.917566</td>\n",
       "    </tr>\n",
       "    <tr>\n",
       "      <th>6</th>\n",
       "      <td>National Identity Management Commission</td>\n",
       "      <td>9.857233</td>\n",
       "      <td>7.967972</td>\n",
       "    </tr>\n",
       "    <tr>\n",
       "      <th>7</th>\n",
       "      <td>National Identity Management Commission (Nimc)</td>\n",
       "      <td>7.711656</td>\n",
       "      <td>8.526523</td>\n",
       "    </tr>\n",
       "    <tr>\n",
       "      <th>8</th>\n",
       "      <td>National Identity Management Commission</td>\n",
       "      <td>11.989994</td>\n",
       "      <td>8.489165</td>\n",
       "    </tr>\n",
       "    <tr>\n",
       "      <th>9</th>\n",
       "      <td>National Identity Management Commission (Nimc)</td>\n",
       "      <td>10.310332</td>\n",
       "      <td>9.826602</td>\n",
       "    </tr>\n",
       "    <tr>\n",
       "      <th>10</th>\n",
       "      <td>National Identity Management Commission (Nimc)</td>\n",
       "      <td>10.592473</td>\n",
       "      <td>7.449456</td>\n",
       "    </tr>\n",
       "    <tr>\n",
       "      <th>11</th>\n",
       "      <td>National Identity Management Center</td>\n",
       "      <td>5.471781</td>\n",
       "      <td>7.008344</td>\n",
       "    </tr>\n",
       "    <tr>\n",
       "      <th>12</th>\n",
       "      <td>National Identity Management Commision (NIMC) ...</td>\n",
       "      <td>6.617086</td>\n",
       "      <td>3.357951</td>\n",
       "    </tr>\n",
       "    <tr>\n",
       "      <th>13</th>\n",
       "      <td>National Identity Management Commission</td>\n",
       "      <td>6.460106</td>\n",
       "      <td>7.579009</td>\n",
       "    </tr>\n",
       "    <tr>\n",
       "      <th>14</th>\n",
       "      <td>National Identity Management Commission (Nimc)</td>\n",
       "      <td>9.076770</td>\n",
       "      <td>7.493777</td>\n",
       "    </tr>\n",
       "    <tr>\n",
       "      <th>15</th>\n",
       "      <td>National Identity Management Commission Umuahia</td>\n",
       "      <td>5.502502</td>\n",
       "      <td>7.517956</td>\n",
       "    </tr>\n",
       "    <tr>\n",
       "      <th>16</th>\n",
       "      <td>National Identity Management Commission</td>\n",
       "      <td>4.822006</td>\n",
       "      <td>7.007972</td>\n",
       "    </tr>\n",
       "    <tr>\n",
       "      <th>17</th>\n",
       "      <td>National Identity Management Commission (Nimc)</td>\n",
       "      <td>11.988203</td>\n",
       "      <td>8.496804</td>\n",
       "    </tr>\n",
       "    <tr>\n",
       "      <th>18</th>\n",
       "      <td>National Identity Management Commission, North...</td>\n",
       "      <td>10.543617</td>\n",
       "      <td>7.460988</td>\n",
       "    </tr>\n",
       "    <tr>\n",
       "      <th>19</th>\n",
       "      <td>National Identity Management Commission Nimc</td>\n",
       "      <td>4.849608</td>\n",
       "      <td>7.052736</td>\n",
       "    </tr>\n",
       "  </tbody>\n",
       "</table>\n",
       "</div>"
      ],
      "text/plain": [
       "                                          Institution   Latitude  Longitud\n",
       "0             National Identity Management Commission   9.065977  7.454961\n",
       "1      National Identity Management Commission (Nimc)   8.450151  4.542503\n",
       "2        National Identity Management Commission NIMC   8.505730  8.531775\n",
       "3             National Identity Management Commission   9.058854  7.468078\n",
       "4      National Identity Management Commission (Nimc)   9.895973  8.931434\n",
       "5             National Identity Management Commission   9.892295  8.917566\n",
       "6             National Identity Management Commission   9.857233  7.967972\n",
       "7      National Identity Management Commission (Nimc)   7.711656  8.526523\n",
       "8             National Identity Management Commission  11.989994  8.489165\n",
       "9      National Identity Management Commission (Nimc)  10.310332  9.826602\n",
       "10     National Identity Management Commission (Nimc)  10.592473  7.449456\n",
       "11                National Identity Management Center   5.471781  7.008344\n",
       "12  National Identity Management Commision (NIMC) ...   6.617086  3.357951\n",
       "13            National Identity Management Commission   6.460106  7.579009\n",
       "14     National Identity Management Commission (Nimc)   9.076770  7.493777\n",
       "15    National Identity Management Commission Umuahia   5.502502  7.517956\n",
       "16            National Identity Management Commission   4.822006  7.007972\n",
       "17     National Identity Management Commission (Nimc)  11.988203  8.496804\n",
       "18  National Identity Management Commission, North...  10.543617  7.460988\n",
       "19       National Identity Management Commission Nimc   4.849608  7.052736"
      ]
     },
     "execution_count": 122,
     "metadata": {},
     "output_type": "execute_result"
    }
   ],
   "source": [
    "df2 = pd.DataFrame( columns = ['Institution','Latitude','Longitud'] )\n",
    "\n",
    "results = places_result['results']\n",
    "\n",
    "for fila in tqdm(range( 0 , len( results ) )):\n",
    "    \n",
    "    df2.loc[fila] = [results[ fila ]['name'], \\\n",
    "                       results[ fila ]['geometry']['location']['lat'], \\\n",
    "                       results[ fila ]['geometry']['location']['lng']]\n",
    "    \n",
    "df2"
   ]
  },
  {
   "cell_type": "code",
   "execution_count": 140,
   "metadata": {},
   "outputs": [],
   "source": [
    "def dict_output( dictionary , output = 'tuple'):\n",
    "    \n",
    "    # key results\n",
    "    results = dictionary['results']\n",
    "    \n",
    "    # Lists\n",
    "    latitudes = []\n",
    "    longitudes = []\n",
    "    inst = []\n",
    "    \n",
    "    # iterate over values and store in lists\n",
    "    # we are going to use lists apporach\n",
    "    for fila in range( 0 , len( results ) ):\n",
    "        # latitude\n",
    "        lat = results[ fila ]['geometry']['location']['lat']\n",
    "\n",
    "        # Longitude\n",
    "        lng = results[ fila ]['geometry']['location']['lng']\n",
    "\n",
    "        # nombre de la institucion\n",
    "        institucion = results[ fila ]['name']\n",
    "\n",
    "        # Save results\n",
    "        latitudes.append( lat )\n",
    "        longitudes.append( lng )\n",
    "        inst.append( institucion )\n",
    "    \n",
    "    # Store all values in \n",
    "    # dictionary\n",
    "    results_dict = { 'Instituciones': institutions, 'Latitud' : latitudes, 'Longitud' : longitudes }\n",
    "    \n",
    "    # pandas\n",
    "    results_pd = pd.DataFrame( results_dict )\n",
    "    \n",
    "    # tuple\n",
    "    results_tuple = ( latitudes , longitudes , inst )\n",
    "    \n",
    "    # We can use return with if condition\n",
    "    if output == 'dataframe':\n",
    "        return results_pd\n",
    "    \n",
    "    elif output == 'dictionary':\n",
    "        return results_dict\n",
    "    \n",
    "    elif output == 'tuple':\n",
    "        return results_tuple\n",
    "    \n",
    "    else:\n",
    "        raise Exception( f'''The output value ({output}) is wrong. \\nYou can only use `tuple`, `dataframe`, or `dictionary` as argument variables.''' )"
   ]
  },
  {
   "cell_type": "code",
   "execution_count": 141,
   "metadata": {},
   "outputs": [],
   "source": [
    "tuple_result = dict_output( places_result, output = \"tuple\" )"
   ]
  },
  {
   "cell_type": "code",
   "execution_count": 142,
   "metadata": {},
   "outputs": [
    {
     "data": {
      "text/plain": [
       "['National Identity Management Commission',\n",
       " 'National Identity Management Commission (Nimc)',\n",
       " 'National Identity Management Commission NIMC',\n",
       " 'National Identity Management Commission',\n",
       " 'National Identity Management Commission (Nimc)',\n",
       " 'National Identity Management Commission',\n",
       " 'National Identity Management Commission',\n",
       " 'National Identity Management Commission (Nimc)',\n",
       " 'National Identity Management Commission',\n",
       " 'National Identity Management Commission (Nimc)',\n",
       " 'National Identity Management Commission (Nimc)',\n",
       " 'National Identity Management Center',\n",
       " 'National Identity Management Commision (NIMC) Lagos',\n",
       " 'National Identity Management Commission',\n",
       " 'National Identity Management Commission (Nimc)',\n",
       " 'National Identity Management Commission Umuahia',\n",
       " 'National Identity Management Commission',\n",
       " 'National Identity Management Commission (Nimc)',\n",
       " 'National Identity Management Commission, Northwest Zonal Office',\n",
       " 'National Identity Management Commission Nimc']"
      ]
     },
     "execution_count": 142,
     "metadata": {},
     "output_type": "execute_result"
    }
   ],
   "source": [
    "tuple_result[2]"
   ]
  },
  {
   "cell_type": "code",
   "execution_count": 143,
   "metadata": {},
   "outputs": [
    {
     "data": {
      "text/html": [
       "<div>\n",
       "<style scoped>\n",
       "    .dataframe tbody tr th:only-of-type {\n",
       "        vertical-align: middle;\n",
       "    }\n",
       "\n",
       "    .dataframe tbody tr th {\n",
       "        vertical-align: top;\n",
       "    }\n",
       "\n",
       "    .dataframe thead th {\n",
       "        text-align: right;\n",
       "    }\n",
       "</style>\n",
       "<table border=\"1\" class=\"dataframe\">\n",
       "  <thead>\n",
       "    <tr style=\"text-align: right;\">\n",
       "      <th></th>\n",
       "      <th>Instituciones</th>\n",
       "      <th>Latitud</th>\n",
       "      <th>Longitud</th>\n",
       "    </tr>\n",
       "  </thead>\n",
       "  <tbody>\n",
       "    <tr>\n",
       "      <th>0</th>\n",
       "      <td>National Identity Management Commission Nimc</td>\n",
       "      <td>9.065977</td>\n",
       "      <td>7.454961</td>\n",
       "    </tr>\n",
       "    <tr>\n",
       "      <th>1</th>\n",
       "      <td>National Identity Management Commission Nimc</td>\n",
       "      <td>8.450151</td>\n",
       "      <td>4.542503</td>\n",
       "    </tr>\n",
       "    <tr>\n",
       "      <th>2</th>\n",
       "      <td>National Identity Management Commission Nimc</td>\n",
       "      <td>8.505730</td>\n",
       "      <td>8.531775</td>\n",
       "    </tr>\n",
       "    <tr>\n",
       "      <th>3</th>\n",
       "      <td>National Identity Management Commission Nimc</td>\n",
       "      <td>9.058854</td>\n",
       "      <td>7.468078</td>\n",
       "    </tr>\n",
       "    <tr>\n",
       "      <th>4</th>\n",
       "      <td>National Identity Management Commission Nimc</td>\n",
       "      <td>9.895973</td>\n",
       "      <td>8.931434</td>\n",
       "    </tr>\n",
       "    <tr>\n",
       "      <th>5</th>\n",
       "      <td>National Identity Management Commission Nimc</td>\n",
       "      <td>9.892295</td>\n",
       "      <td>8.917566</td>\n",
       "    </tr>\n",
       "    <tr>\n",
       "      <th>6</th>\n",
       "      <td>National Identity Management Commission Nimc</td>\n",
       "      <td>9.857233</td>\n",
       "      <td>7.967972</td>\n",
       "    </tr>\n",
       "    <tr>\n",
       "      <th>7</th>\n",
       "      <td>National Identity Management Commission Nimc</td>\n",
       "      <td>7.711656</td>\n",
       "      <td>8.526523</td>\n",
       "    </tr>\n",
       "    <tr>\n",
       "      <th>8</th>\n",
       "      <td>National Identity Management Commission Nimc</td>\n",
       "      <td>11.989994</td>\n",
       "      <td>8.489165</td>\n",
       "    </tr>\n",
       "    <tr>\n",
       "      <th>9</th>\n",
       "      <td>National Identity Management Commission Nimc</td>\n",
       "      <td>10.310332</td>\n",
       "      <td>9.826602</td>\n",
       "    </tr>\n",
       "    <tr>\n",
       "      <th>10</th>\n",
       "      <td>National Identity Management Commission Nimc</td>\n",
       "      <td>10.592473</td>\n",
       "      <td>7.449456</td>\n",
       "    </tr>\n",
       "    <tr>\n",
       "      <th>11</th>\n",
       "      <td>National Identity Management Commission Nimc</td>\n",
       "      <td>5.471781</td>\n",
       "      <td>7.008344</td>\n",
       "    </tr>\n",
       "    <tr>\n",
       "      <th>12</th>\n",
       "      <td>National Identity Management Commission Nimc</td>\n",
       "      <td>6.617086</td>\n",
       "      <td>3.357951</td>\n",
       "    </tr>\n",
       "    <tr>\n",
       "      <th>13</th>\n",
       "      <td>National Identity Management Commission Nimc</td>\n",
       "      <td>6.460106</td>\n",
       "      <td>7.579009</td>\n",
       "    </tr>\n",
       "    <tr>\n",
       "      <th>14</th>\n",
       "      <td>National Identity Management Commission Nimc</td>\n",
       "      <td>9.076770</td>\n",
       "      <td>7.493777</td>\n",
       "    </tr>\n",
       "    <tr>\n",
       "      <th>15</th>\n",
       "      <td>National Identity Management Commission Nimc</td>\n",
       "      <td>5.502502</td>\n",
       "      <td>7.517956</td>\n",
       "    </tr>\n",
       "    <tr>\n",
       "      <th>16</th>\n",
       "      <td>National Identity Management Commission Nimc</td>\n",
       "      <td>4.822006</td>\n",
       "      <td>7.007972</td>\n",
       "    </tr>\n",
       "    <tr>\n",
       "      <th>17</th>\n",
       "      <td>National Identity Management Commission Nimc</td>\n",
       "      <td>11.988203</td>\n",
       "      <td>8.496804</td>\n",
       "    </tr>\n",
       "    <tr>\n",
       "      <th>18</th>\n",
       "      <td>National Identity Management Commission Nimc</td>\n",
       "      <td>10.543617</td>\n",
       "      <td>7.460988</td>\n",
       "    </tr>\n",
       "    <tr>\n",
       "      <th>19</th>\n",
       "      <td>National Identity Management Commission Nimc</td>\n",
       "      <td>4.849608</td>\n",
       "      <td>7.052736</td>\n",
       "    </tr>\n",
       "  </tbody>\n",
       "</table>\n",
       "</div>"
      ],
      "text/plain": [
       "                                   Instituciones    Latitud  Longitud\n",
       "0   National Identity Management Commission Nimc   9.065977  7.454961\n",
       "1   National Identity Management Commission Nimc   8.450151  4.542503\n",
       "2   National Identity Management Commission Nimc   8.505730  8.531775\n",
       "3   National Identity Management Commission Nimc   9.058854  7.468078\n",
       "4   National Identity Management Commission Nimc   9.895973  8.931434\n",
       "5   National Identity Management Commission Nimc   9.892295  8.917566\n",
       "6   National Identity Management Commission Nimc   9.857233  7.967972\n",
       "7   National Identity Management Commission Nimc   7.711656  8.526523\n",
       "8   National Identity Management Commission Nimc  11.989994  8.489165\n",
       "9   National Identity Management Commission Nimc  10.310332  9.826602\n",
       "10  National Identity Management Commission Nimc  10.592473  7.449456\n",
       "11  National Identity Management Commission Nimc   5.471781  7.008344\n",
       "12  National Identity Management Commission Nimc   6.617086  3.357951\n",
       "13  National Identity Management Commission Nimc   6.460106  7.579009\n",
       "14  National Identity Management Commission Nimc   9.076770  7.493777\n",
       "15  National Identity Management Commission Nimc   5.502502  7.517956\n",
       "16  National Identity Management Commission Nimc   4.822006  7.007972\n",
       "17  National Identity Management Commission Nimc  11.988203  8.496804\n",
       "18  National Identity Management Commission Nimc  10.543617  7.460988\n",
       "19  National Identity Management Commission Nimc   4.849608  7.052736"
      ]
     },
     "execution_count": 143,
     "metadata": {},
     "output_type": "execute_result"
    }
   ],
   "source": [
    "dict_output( places_result, output = \"dataframe\" )"
   ]
  },
  {
   "cell_type": "code",
   "execution_count": 144,
   "metadata": {},
   "outputs": [
    {
     "data": {
      "text/plain": [
       "{'Instituciones': ['National Identity Management Commission Nimc',\n",
       "  'National Identity Management Commission Nimc',\n",
       "  'National Identity Management Commission Nimc',\n",
       "  'National Identity Management Commission Nimc',\n",
       "  'National Identity Management Commission Nimc',\n",
       "  'National Identity Management Commission Nimc',\n",
       "  'National Identity Management Commission Nimc',\n",
       "  'National Identity Management Commission Nimc',\n",
       "  'National Identity Management Commission Nimc',\n",
       "  'National Identity Management Commission Nimc',\n",
       "  'National Identity Management Commission Nimc',\n",
       "  'National Identity Management Commission Nimc',\n",
       "  'National Identity Management Commission Nimc',\n",
       "  'National Identity Management Commission Nimc',\n",
       "  'National Identity Management Commission Nimc',\n",
       "  'National Identity Management Commission Nimc',\n",
       "  'National Identity Management Commission Nimc',\n",
       "  'National Identity Management Commission Nimc',\n",
       "  'National Identity Management Commission Nimc',\n",
       "  'National Identity Management Commission Nimc'],\n",
       " 'Latitud': [9.065977,\n",
       "  8.450151,\n",
       "  8.50573,\n",
       "  9.058854499999999,\n",
       "  9.895973,\n",
       "  9.892294699999999,\n",
       "  9.8572331,\n",
       "  7.711655800000001,\n",
       "  11.9899944,\n",
       "  10.310332,\n",
       "  10.592473,\n",
       "  5.4717813,\n",
       "  6.617086,\n",
       "  6.460105899999999,\n",
       "  9.07677,\n",
       "  5.5025021,\n",
       "  4.822006,\n",
       "  11.988203,\n",
       "  10.5436173,\n",
       "  4.8496083],\n",
       " 'Longitud': [7.4549606,\n",
       "  4.542503,\n",
       "  8.531774799999999,\n",
       "  7.468077600000001,\n",
       "  8.931434,\n",
       "  8.9175658,\n",
       "  7.967971899999998,\n",
       "  8.5265235,\n",
       "  8.4891647,\n",
       "  9.826602,\n",
       "  7.449456,\n",
       "  7.0083439,\n",
       "  3.357951,\n",
       "  7.579008999999999,\n",
       "  7.493777,\n",
       "  7.517955600000001,\n",
       "  7.0079724,\n",
       "  8.496804,\n",
       "  7.4609879,\n",
       "  7.0527365]}"
      ]
     },
     "execution_count": 144,
     "metadata": {},
     "output_type": "execute_result"
    }
   ],
   "source": [
    "dict_output( places_result, output = \"dictionary\" )"
   ]
  },
  {
   "cell_type": "code",
   "execution_count": 145,
   "metadata": {},
   "outputs": [
    {
     "ename": "Exception",
     "evalue": "The output value (list) is wrong. \nYou can only use `tuple`, `dataframe`, or `dictionary` as argument variables.",
     "output_type": "error",
     "traceback": [
      "\u001b[1;31m---------------------------------------------------------------------------\u001b[0m",
      "\u001b[1;31mException\u001b[0m                                 Traceback (most recent call last)",
      "\u001b[1;32m<ipython-input-145-e91397d3200f>\u001b[0m in \u001b[0;36m<module>\u001b[1;34m\u001b[0m\n\u001b[1;32m----> 1\u001b[1;33m \u001b[0mdict_output\u001b[0m\u001b[1;33m(\u001b[0m \u001b[0mplaces_result\u001b[0m\u001b[1;33m,\u001b[0m \u001b[0moutput\u001b[0m \u001b[1;33m=\u001b[0m \u001b[1;34m\"list\"\u001b[0m \u001b[1;33m)\u001b[0m\u001b[1;33m\u001b[0m\u001b[1;33m\u001b[0m\u001b[0m\n\u001b[0m",
      "\u001b[1;32m<ipython-input-140-830bbfba4732>\u001b[0m in \u001b[0;36mdict_output\u001b[1;34m(dictionary, output)\u001b[0m\n\u001b[0;32m     47\u001b[0m \u001b[1;33m\u001b[0m\u001b[0m\n\u001b[0;32m     48\u001b[0m     \u001b[1;32melse\u001b[0m\u001b[1;33m:\u001b[0m\u001b[1;33m\u001b[0m\u001b[1;33m\u001b[0m\u001b[0m\n\u001b[1;32m---> 49\u001b[1;33m         \u001b[1;32mraise\u001b[0m \u001b[0mException\u001b[0m\u001b[1;33m(\u001b[0m \u001b[1;34mf'''The output value ({output}) is wrong. \\nYou can only use `tuple`, `dataframe`, or `dictionary` as argument variables.'''\u001b[0m \u001b[1;33m)\u001b[0m\u001b[1;33m\u001b[0m\u001b[1;33m\u001b[0m\u001b[0m\n\u001b[0m",
      "\u001b[1;31mException\u001b[0m: The output value (list) is wrong. \nYou can only use `tuple`, `dataframe`, or `dictionary` as argument variables."
     ]
    }
   ],
   "source": [
    "dict_output( places_result, output = \"list\" )"
   ]
  },
  {
   "cell_type": "code",
   "execution_count": 147,
   "metadata": {},
   "outputs": [
    {
     "data": {
      "text/plain": [
       "([9.065977,\n",
       "  8.450151,\n",
       "  8.50573,\n",
       "  9.058854499999999,\n",
       "  9.895973,\n",
       "  9.892294699999999,\n",
       "  9.8572331,\n",
       "  7.711655800000001,\n",
       "  11.9899944,\n",
       "  10.310332,\n",
       "  10.592473,\n",
       "  5.4717813,\n",
       "  6.617086,\n",
       "  6.460105899999999,\n",
       "  9.07677,\n",
       "  5.5025021,\n",
       "  4.822006,\n",
       "  11.988203,\n",
       "  10.5436173,\n",
       "  4.8496083],\n",
       " [7.4549606,\n",
       "  4.542503,\n",
       "  8.531774799999999,\n",
       "  7.468077600000001,\n",
       "  8.931434,\n",
       "  8.9175658,\n",
       "  7.967971899999998,\n",
       "  8.5265235,\n",
       "  8.4891647,\n",
       "  9.826602,\n",
       "  7.449456,\n",
       "  7.0083439,\n",
       "  3.357951,\n",
       "  7.579008999999999,\n",
       "  7.493777,\n",
       "  7.517955600000001,\n",
       "  7.0079724,\n",
       "  8.496804,\n",
       "  7.4609879,\n",
       "  7.0527365],\n",
       " ['National Identity Management Commission',\n",
       "  'National Identity Management Commission (Nimc)',\n",
       "  'National Identity Management Commission NIMC',\n",
       "  'National Identity Management Commission',\n",
       "  'National Identity Management Commission (Nimc)',\n",
       "  'National Identity Management Commission',\n",
       "  'National Identity Management Commission',\n",
       "  'National Identity Management Commission (Nimc)',\n",
       "  'National Identity Management Commission',\n",
       "  'National Identity Management Commission (Nimc)',\n",
       "  'National Identity Management Commission (Nimc)',\n",
       "  'National Identity Management Center',\n",
       "  'National Identity Management Commision (NIMC) Lagos',\n",
       "  'National Identity Management Commission',\n",
       "  'National Identity Management Commission (Nimc)',\n",
       "  'National Identity Management Commission Umuahia',\n",
       "  'National Identity Management Commission',\n",
       "  'National Identity Management Commission (Nimc)',\n",
       "  'National Identity Management Commission, Northwest Zonal Office',\n",
       "  'National Identity Management Commission Nimc'])"
      ]
     },
     "execution_count": 147,
     "metadata": {},
     "output_type": "execute_result"
    }
   ],
   "source": [
    "dict_output( places_result )"
   ]
  },
  {
   "cell_type": "code",
   "execution_count": null,
   "metadata": {},
   "outputs": [],
   "source": []
  }
 ],
 "metadata": {
  "hide_input": false,
  "kernelspec": {
   "display_name": "Python 3 (ipykernel)",
   "language": "python",
   "name": "python3"
  },
  "language_info": {
   "codemirror_mode": {
    "name": "ipython",
    "version": 3
   },
   "file_extension": ".py",
   "mimetype": "text/x-python",
   "name": "python",
   "nbconvert_exporter": "python",
   "pygments_lexer": "ipython3",
   "version": "3.9.12"
  }
 },
 "nbformat": 4,
 "nbformat_minor": 4
}

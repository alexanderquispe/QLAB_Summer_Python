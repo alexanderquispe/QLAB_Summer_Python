{
 "cells": [
  {
   "cell_type": "markdown",
   "metadata": {},
   "source": [
    "# Inheritance, Private Variables, Fixed attributes, Costumize Exceptions with Python"
   ]
  },
  {
   "cell_type": "markdown",
   "metadata": {},
   "source": [
    "- <a href='#6.1.'>6.1. Inheritance</a>\n",
    "     - <a href='#6.1.1.'> 6.1.1. Single Inheritance </a> \n",
    "     - <a href='#6.1.2.'> 6.1.2. Multiple Inheritance </a> \n",
    "- <a href='#6.2.'>6.2. Private Variables </a> \n",
    "     - <a href='#6.2.1.'>6.2.1. Name Mangling </a> \n",
    "     - <a href='#6.2.2.'> 6.2.2. \\_Single Leading Underscores </a> \n",
    "     - <a href='#6.2.3.'> 6.2.3. \\_\\_Double Leading Underscores </a> \n",
    "- <a href='#6.3.'>6.3. Fixed attributes </a>  \n",
    "- <a href='#6.4.'>6.4. Costumize Exceptions with Python </a>  \n",
    "- <a href='#6.5.'>6.5. References </a>"
   ]
  },
  {
   "cell_type": "markdown",
   "metadata": {},
   "source": [
    "## <a id='6.1.'>6.1. Inheritance</a>\n",
    "Inheritance is the capability of one class to derive or inherit the properties from another class. The benefits of inheritance are:\n",
    "\n",
    "- It represents real-world relationships well.\n",
    "- It provides reusability of a code. We don’t have to write the same code again and again. Also, it allows us to add more features to a class without modifying it.\n",
    "- It is transitive in nature, which means that if class B inherits from another class A, then all the subclasses of B would automatically inherit from class A.\n",
    "- It will help you to understand how Sklearn Class works."
   ]
  },
  {
   "cell_type": "markdown",
   "metadata": {},
   "source": [
    "The base model is called Base or Super class."
   ]
  },
  {
   "cell_type": "markdown",
   "metadata": {},
   "source": [
    "Different forms of Inheritance: \n",
    "1. Single inheritance: When a child class inherits from only one parent class, it is called single inheritance. We saw an example above.\n",
    "2. Multiple inheritance: When a child class inherits from multiple parent classes, it is called multiple inheritance. \n",
    "Unlike Java and like C++, Python supports multiple inheritance. We specify all parent classes as a comma-separated list in the bracket. "
   ]
  },
  {
   "cell_type": "markdown",
   "metadata": {},
   "source": [
    "### <a id='6.1.1.'> 6.1.1. Single Inheritance </a> \n",
    "In single inheritance, the derived class uses the features or members of the single base class.\n",
    "![alt text](../_images/inh1.png)"
   ]
  },
  {
   "cell_type": "code",
   "execution_count": 186,
   "metadata": {},
   "outputs": [],
   "source": [
    "# Base model\n",
    "# We are going to define a family class\n",
    "class Family(object):\n",
    "       \n",
    "    # Constructor\n",
    "    # define initial attributes\n",
    "    # Assume all members of a family share \n",
    "    # lastname and nationality\n",
    "    def __init__( self, last_name , nationality ):\n",
    "        self.last_name = last_name\n",
    "        self.nationality = nationality\n",
    "   \n",
    "    # Upper case Last name\n",
    "    def upper_lt_name( self, x ):\n",
    "        return  x.upper()\n",
    "    \n",
    "    # Print last name\n",
    "    def pr_LastName( self ):\n",
    "        up_last_name = self.upper_lt_name( self.last_name )\n",
    "        print( f\"The { up_last_name } family.\" )\n",
    "   \n",
    "    # Print Nationality\n",
    "    def pr_Natioanlity( self ):\n",
    "        print( f\"This family is {self.nationality}\" )\n",
    "        \n",
    "   "
   ]
  },
  {
   "cell_type": "code",
   "execution_count": 193,
   "metadata": {},
   "outputs": [],
   "source": [
    "# Now, we generate a class for family member \n",
    "# based on Family\n",
    "\n",
    "class FamMember( Family ):\n",
    "    \n",
    "    def __init__( self, last_name , nationality, name , age ):\n",
    "        self.name = name\n",
    "        self.age = age\n",
    "        # invoking the __init__ of the parent class \n",
    "        # we are executing the Family class inside the FamMember Class\n",
    "        # It allow us to get all methods and attributes\n",
    "        Family.__init__(self, last_name , nationality ) \n",
    "        \n",
    "    def presentation( self ):\n",
    "        up_last_name = self.upper_lt_name( self.last_name )\n",
    "        print( f\"My name is { self.name } { up_last_name }. \\nI am {self.nationality}\")"
   ]
  },
  {
   "cell_type": "code",
   "execution_count": 195,
   "metadata": {},
   "outputs": [],
   "source": [
    "family1 = Family( \"Azabache\", \"Peruvian\")"
   ]
  },
  {
   "cell_type": "code",
   "execution_count": 196,
   "metadata": {},
   "outputs": [
    {
     "name": "stdout",
     "output_type": "stream",
     "text": [
      "The AZABACHE family.\n"
     ]
    }
   ],
   "source": [
    "family1.pr_LastName()"
   ]
  },
  {
   "cell_type": "code",
   "execution_count": 197,
   "metadata": {},
   "outputs": [
    {
     "name": "stdout",
     "output_type": "stream",
     "text": [
      "This family is Peruvian\n"
     ]
    }
   ],
   "source": [
    "family1.pr_Natioanlity()"
   ]
  },
  {
   "cell_type": "markdown",
   "metadata": {},
   "source": [
    "We can see our defined methods in the code above. Now, we are going to generate a FamMember class. You'll see that this class have the same methods as Family class. It inherits the methods defined in Family Class."
   ]
  },
  {
   "cell_type": "code",
   "execution_count": 198,
   "metadata": {},
   "outputs": [],
   "source": [
    "member1_family1 = FamMember( last_name = \"Azabache\" , nationality = \"Peruvian\", name = \"Carlos\" , age = 26 )"
   ]
  },
  {
   "cell_type": "code",
   "execution_count": 199,
   "metadata": {},
   "outputs": [
    {
     "name": "stdout",
     "output_type": "stream",
     "text": [
      "My name is Carlos AZABACHE. \n",
      "I am Peruvian\n"
     ]
    }
   ],
   "source": [
    "member1_family1.presentation()"
   ]
  },
  {
   "cell_type": "markdown",
   "metadata": {},
   "source": [
    "### <a id='6.1.2.'> 6.1.2. Multiple Inheritance </a> \n",
    "\n",
    "Multiple inheritance is one in which the derived class acquires two or more base classes. In multiple inheritance, the derived class are allowed to use the joint features of the inherited base classes. _**Sklearn** uses multiple inheritance._\n",
    "\n",
    " ![alt text](../_images/inh2.png)"
   ]
  },
  {
   "cell_type": "code",
   "execution_count": 243,
   "metadata": {},
   "outputs": [],
   "source": [
    "# Base model\n",
    "# We are going to define a family class\n",
    "class Family(object):\n",
    "       \n",
    "    # Constructor\n",
    "    def __init__( self, last_name , nationality ):\n",
    "        self.last_name = last_name\n",
    "        self.nationality = nationality\n",
    "   \n",
    "    # Upper case Last name\n",
    "    def upper_lt_name( self, x ):\n",
    "        return  x.upper()\n",
    "    \n",
    "    # Print last name\n",
    "    def pr_LastName( self ):\n",
    "        up_last_name = self.upper_lt_name( self.last_name )\n",
    "        print( f\"The { up_last_name } family.\" )\n",
    "   \n",
    "    # Print Nationality\n",
    "    def pr_Natioanlity( self ):\n",
    "        print( f\"This family is {self.nationality}\" )\n",
    "        \n",
    "   "
   ]
  },
  {
   "cell_type": "code",
   "execution_count": 265,
   "metadata": {},
   "outputs": [],
   "source": [
    "# Now, we generate a class \n",
    "# to define the job of a family member\n",
    "\n",
    "class Job(object):\n",
    "       \n",
    "    # Constructor\n",
    "    # define initial attributes\n",
    "    # Assume all members of a family share \n",
    "    # lastname and nationality\n",
    "    def __init__( self, job ):\n",
    "        self.job = job\n",
    "    \n",
    "    def up_work( self ):\n",
    "        return self.job.upper()"
   ]
  },
  {
   "cell_type": "code",
   "execution_count": 262,
   "metadata": {},
   "outputs": [],
   "source": [
    "class FamMember( Family , Job ):\n",
    "    \n",
    "    def __init__( self, last_name , nationality, name , age , job ):\n",
    "        self.name = name\n",
    "        self.age = age\n",
    "        # invoking the __init__ of the parent class \n",
    "        Family.__init__(self, last_name , nationality ) \n",
    "        Job.__init__(self, job ) \n",
    "        \n",
    "    def presentation( self ):\n",
    "        up_last_name = self.upper_lt_name( self.last_name )\n",
    "        job_up = self.up_work()\n",
    "        print( f\"My name is { self.name } { up_last_name }. \\nI am {self.nationality}. \\nI work as a {job_up}.\")"
   ]
  },
  {
   "cell_type": "code",
   "execution_count": 263,
   "metadata": {},
   "outputs": [],
   "source": [
    "member1_family1 = FamMember( \n",
    "                            last_name = \"Azabache\" , \n",
    "                            nationality = \"Peruvian\", \n",
    "                            name = \"Carlos\" , \n",
    "                            age = 26 , \n",
    "                            job = \"Research Assistant\" \n",
    "                           )"
   ]
  },
  {
   "cell_type": "code",
   "execution_count": 264,
   "metadata": {},
   "outputs": [
    {
     "name": "stdout",
     "output_type": "stream",
     "text": [
      "My name is Carlos AZABACHE. \n",
      "I am Peruvian. \n",
      "I work as a RESEARCH ASSISTANT.\n"
     ]
    }
   ],
   "source": [
    "member1_family1.presentation()"
   ]
  },
  {
   "cell_type": "markdown",
   "metadata": {},
   "source": [
    "## <a id='6.2.'>6.2. Private Variables </a> \n",
    "\n",
    "Private variables allow us to specify variables that we do not want to be changed by users or project partners.\n",
    "\n",
    "\n",
    "“Private” instance variables are variables that cannot be accessed except from inside an object. However, there is no existence of “Private” variables. In python, a convention is being followed by most Python code and coders i.e., a name prefixed with an underscore, For e.g. \\_diploma should be treated as a non-public part of the API or any Python code, whether it is a function, a method, or a data member. \n",
    "\n"
   ]
  },
  {
   "cell_type": "markdown",
   "metadata": {},
   "source": [
    "#### Example"
   ]
  },
  {
   "cell_type": "code",
   "execution_count": 27,
   "metadata": {},
   "outputs": [],
   "source": [
    "class MyFirstClass:\n",
    "    \n",
    "    def __init__( self, name, age ):\n",
    "        self.name = name\n",
    "        self.age = age\n",
    "    \n",
    "    # best way to define a method\n",
    "    def print_name( self ):\n",
    "        print( f'I am { self.name }.' )\n",
    "    \n"
   ]
  },
  {
   "cell_type": "code",
   "execution_count": 38,
   "metadata": {},
   "outputs": [],
   "source": [
    "class1 = MyFirstClass( \"Jose\", 35 )"
   ]
  },
  {
   "cell_type": "code",
   "execution_count": 39,
   "metadata": {},
   "outputs": [
    {
     "name": "stdout",
     "output_type": "stream",
     "text": [
      "I am Jose.\n"
     ]
    }
   ],
   "source": [
    "class1.print_name()"
   ]
  },
  {
   "cell_type": "markdown",
   "metadata": {},
   "source": [
    "We can access this variable and change its value."
   ]
  },
  {
   "cell_type": "code",
   "execution_count": 40,
   "metadata": {},
   "outputs": [],
   "source": [
    "class1.name = \"Andres\""
   ]
  },
  {
   "cell_type": "code",
   "execution_count": 41,
   "metadata": {},
   "outputs": [
    {
     "name": "stdout",
     "output_type": "stream",
     "text": [
      "I am Andres.\n"
     ]
    }
   ],
   "source": [
    "class1.print_name()"
   ]
  },
  {
   "cell_type": "markdown",
   "metadata": {},
   "source": [
    "Using private variables. **\\_\\_name** is a private variable."
   ]
  },
  {
   "cell_type": "code",
   "execution_count": 76,
   "metadata": {},
   "outputs": [],
   "source": [
    "class MyFirstClass:\n",
    "    \n",
    "    def __init__( self, name, age ):\n",
    "        self.__name = name\n",
    "        self.age = age\n",
    "    \n",
    "    # best way to define a method\n",
    "    def print_name( self ):\n",
    "        print( f'I am { self.__name }.' )\n",
    "    \n"
   ]
  },
  {
   "cell_type": "code",
   "execution_count": 77,
   "metadata": {},
   "outputs": [],
   "source": [
    "class2 = MyFirstClass( \"Jose\", 35 )"
   ]
  },
  {
   "cell_type": "code",
   "execution_count": 78,
   "metadata": {},
   "outputs": [
    {
     "name": "stdout",
     "output_type": "stream",
     "text": [
      "I am Jose.\n"
     ]
    }
   ],
   "source": [
    "class2.print_name()"
   ]
  },
  {
   "cell_type": "code",
   "execution_count": 79,
   "metadata": {},
   "outputs": [
    {
     "ename": "AttributeError",
     "evalue": "'MyFirstClass' object has no attribute '__name'",
     "output_type": "error",
     "traceback": [
      "\u001b[1;31m---------------------------------------------------------------------------\u001b[0m",
      "\u001b[1;31mAttributeError\u001b[0m                            Traceback (most recent call last)",
      "\u001b[1;32m<ipython-input-79-8662921a8c1c>\u001b[0m in \u001b[0;36m<module>\u001b[1;34m\u001b[0m\n\u001b[1;32m----> 1\u001b[1;33m \u001b[0mclass2\u001b[0m\u001b[1;33m.\u001b[0m\u001b[0m__name\u001b[0m\u001b[1;33m\u001b[0m\u001b[1;33m\u001b[0m\u001b[0m\n\u001b[0m",
      "\u001b[1;31mAttributeError\u001b[0m: 'MyFirstClass' object has no attribute '__name'"
     ]
    }
   ],
   "source": [
    "class2.__name"
   ]
  },
  {
   "cell_type": "markdown",
   "metadata": {},
   "source": [
    "In the above example, the class variable \\_\\_name is not accessible outside the class. we can see al the attributes and methods using bult-in function dir."
   ]
  },
  {
   "cell_type": "code",
   "execution_count": 84,
   "metadata": {},
   "outputs": [
    {
     "data": {
      "text/plain": [
       "['_MyFirstClass__name',\n",
       " '__class__',\n",
       " '__delattr__',\n",
       " '__dict__',\n",
       " '__dir__',\n",
       " '__doc__',\n",
       " '__eq__',\n",
       " '__format__',\n",
       " '__ge__',\n",
       " '__getattribute__',\n",
       " '__gt__',\n",
       " '__hash__',\n",
       " '__init__',\n",
       " '__init_subclass__',\n",
       " '__le__',\n",
       " '__lt__',\n",
       " '__module__',\n",
       " '__name',\n",
       " '__ne__',\n",
       " '__new__',\n",
       " '__reduce__',\n",
       " '__reduce_ex__',\n",
       " '__repr__',\n",
       " '__setattr__',\n",
       " '__sizeof__',\n",
       " '__str__',\n",
       " '__subclasshook__',\n",
       " '__weakref__',\n",
       " 'age',\n",
       " 'print_name']"
      ]
     },
     "execution_count": 84,
     "metadata": {},
     "output_type": "execute_result"
    }
   ],
   "source": [
    "dir( class2 )"
   ]
  },
  {
   "cell_type": "code",
   "execution_count": 80,
   "metadata": {},
   "outputs": [],
   "source": [
    "class2.__name = \"Andres\""
   ]
  },
  {
   "cell_type": "code",
   "execution_count": 81,
   "metadata": {},
   "outputs": [
    {
     "name": "stdout",
     "output_type": "stream",
     "text": [
      "I am Jose.\n"
     ]
    }
   ],
   "source": [
    "class2.print_name()"
   ]
  },
  {
   "cell_type": "code",
   "execution_count": 82,
   "metadata": {},
   "outputs": [
    {
     "data": {
      "text/plain": [
       "'Andres'"
      ]
     },
     "execution_count": 82,
     "metadata": {},
     "output_type": "execute_result"
    }
   ],
   "source": [
    "class2.__name"
   ]
  },
  {
   "cell_type": "markdown",
   "metadata": {},
   "source": [
    "Here, the output of `print_name` was not modified. However, we add a new attribute \"\\_\\_name\" to the class. We are going to deal with this later."
   ]
  },
  {
   "cell_type": "code",
   "execution_count": 65,
   "metadata": {},
   "outputs": [
    {
     "data": {
      "text/plain": [
       "'Andres'"
      ]
     },
     "execution_count": 65,
     "metadata": {},
     "output_type": "execute_result"
    }
   ],
   "source": [
    "class2.name"
   ]
  },
  {
   "cell_type": "markdown",
   "metadata": {},
   "source": [
    "### <a id='6.2.1.'>6.2.1. Name Mangling </a> \n",
    "It help us to deal with private variables. In name mangling process any identifier with two leading underscore and one trailing underscore is textually replaced with \\_classname\\_\\_identifier where classname is the name of the current class. Name mangling takes place at class creation time; any functions that refer to mangled names are adjusted as well. The name mangling process helps to access the class variables from outside the class. The class variables can be accessed by adding \\_classname to it. The name mangling is closest to private not exactly private.\n",
    "\n",
    "Names, in a class, with a leading underscore are simply to indicate to other programmers that the attribute or method is intended to be private. However, nothing special is done with the name itself."
   ]
  },
  {
   "cell_type": "code",
   "execution_count": 85,
   "metadata": {},
   "outputs": [],
   "source": [
    "class3 = MyFirstClass( \"Doris\", 28 )"
   ]
  },
  {
   "cell_type": "code",
   "execution_count": 86,
   "metadata": {},
   "outputs": [
    {
     "data": {
      "text/plain": [
       "['_MyFirstClass__name',\n",
       " '__class__',\n",
       " '__delattr__',\n",
       " '__dict__',\n",
       " '__dir__',\n",
       " '__doc__',\n",
       " '__eq__',\n",
       " '__format__',\n",
       " '__ge__',\n",
       " '__getattribute__',\n",
       " '__gt__',\n",
       " '__hash__',\n",
       " '__init__',\n",
       " '__init_subclass__',\n",
       " '__le__',\n",
       " '__lt__',\n",
       " '__module__',\n",
       " '__ne__',\n",
       " '__new__',\n",
       " '__reduce__',\n",
       " '__reduce_ex__',\n",
       " '__repr__',\n",
       " '__setattr__',\n",
       " '__sizeof__',\n",
       " '__str__',\n",
       " '__subclasshook__',\n",
       " '__weakref__',\n",
       " 'age',\n",
       " 'print_name']"
      ]
     },
     "execution_count": 86,
     "metadata": {},
     "output_type": "execute_result"
    }
   ],
   "source": [
    "dir( class3 )"
   ]
  },
  {
   "cell_type": "markdown",
   "metadata": {},
   "source": [
    "As you can see, there is an attribute named as **\\_MyFirstClass\\_\\_name**. We can access to this variable and modify it."
   ]
  },
  {
   "cell_type": "code",
   "execution_count": 87,
   "metadata": {},
   "outputs": [
    {
     "name": "stdout",
     "output_type": "stream",
     "text": [
      "I am Doris.\n"
     ]
    }
   ],
   "source": [
    "class3.print_name()"
   ]
  },
  {
   "cell_type": "code",
   "execution_count": 89,
   "metadata": {},
   "outputs": [],
   "source": [
    "class3._MyFirstClass__name = \"Rebeca\""
   ]
  },
  {
   "cell_type": "code",
   "execution_count": 90,
   "metadata": {},
   "outputs": [
    {
     "name": "stdout",
     "output_type": "stream",
     "text": [
      "I am Rebeca.\n"
     ]
    }
   ],
   "source": [
    "class3.print_name()"
   ]
  },
  {
   "cell_type": "markdown",
   "metadata": {},
   "source": [
    "We can modify the private variable using names created by name mangling. This is the reason why we say that there is no existence of “Private” instance variables in Python like in other programing languages like Jave, C++. However, we use this standardized Python way to generate private variables to communicate other programmers which variables should not be modified."
   ]
  },
  {
   "cell_type": "markdown",
   "metadata": {},
   "source": [
    "### <a id='6.2.2.'> 6.2.2. \\_Single Leading Underscores </a> \n",
    "One underline at the beginning of a method, function, or data member means you shouldn’t access this method because it’s not part of the API."
   ]
  },
  {
   "cell_type": "code",
   "execution_count": 91,
   "metadata": {},
   "outputs": [],
   "source": [
    "\n",
    "# Python code to illustrate how double\n",
    "# underscore at the beginning works\n",
    "class Geek:\n",
    "    def _single_method(self):\n",
    "        pass\n",
    "    def __double_method(self): # for mangling\n",
    "        pass\n",
    "class Pyth(Geek):\n",
    "    def __double_method(self): # for mangling\n",
    "        pass"
   ]
  },
  {
   "cell_type": "code",
   "execution_count": 93,
   "metadata": {},
   "outputs": [
    {
     "data": {
      "text/plain": [
       "['_Geek__double_method',\n",
       " '_Pyth__double_method',\n",
       " '__class__',\n",
       " '__delattr__',\n",
       " '__dict__',\n",
       " '__dir__',\n",
       " '__doc__',\n",
       " '__eq__',\n",
       " '__format__',\n",
       " '__ge__',\n",
       " '__getattribute__',\n",
       " '__gt__',\n",
       " '__hash__',\n",
       " '__init__',\n",
       " '__init_subclass__',\n",
       " '__le__',\n",
       " '__lt__',\n",
       " '__module__',\n",
       " '__ne__',\n",
       " '__new__',\n",
       " '__reduce__',\n",
       " '__reduce_ex__',\n",
       " '__repr__',\n",
       " '__setattr__',\n",
       " '__sizeof__',\n",
       " '__str__',\n",
       " '__subclasshook__',\n",
       " '__weakref__',\n",
       " '_single_method']"
      ]
     },
     "execution_count": 93,
     "metadata": {},
     "output_type": "execute_result"
    }
   ],
   "source": [
    "dir(Pyth)"
   ]
  },
  {
   "cell_type": "code",
   "execution_count": 92,
   "metadata": {},
   "outputs": [
    {
     "data": {
      "text/plain": [
       "['_Geek__double_method',\n",
       " '__class__',\n",
       " '__delattr__',\n",
       " '__dict__',\n",
       " '__dir__',\n",
       " '__doc__',\n",
       " '__eq__',\n",
       " '__format__',\n",
       " '__ge__',\n",
       " '__getattribute__',\n",
       " '__gt__',\n",
       " '__hash__',\n",
       " '__init__',\n",
       " '__init_subclass__',\n",
       " '__le__',\n",
       " '__lt__',\n",
       " '__module__',\n",
       " '__ne__',\n",
       " '__new__',\n",
       " '__reduce__',\n",
       " '__reduce_ex__',\n",
       " '__repr__',\n",
       " '__setattr__',\n",
       " '__sizeof__',\n",
       " '__str__',\n",
       " '__subclasshook__',\n",
       " '__weakref__',\n",
       " '_single_method']"
      ]
     },
     "execution_count": 92,
     "metadata": {},
     "output_type": "execute_result"
    }
   ],
   "source": [
    "dir(Geek)"
   ]
  },
  {
   "cell_type": "markdown",
   "metadata": {},
   "source": [
    "### <a id='6.2.3.'> 6.2.3. \\_\\_Double Leading Underscores </a> \n",
    "Double underscore will mangle the attribute names of a class to avoid conflicts of attribute names between classes."
   ]
  },
  {
   "cell_type": "code",
   "execution_count": 100,
   "metadata": {},
   "outputs": [],
   "source": [
    "# Python code to illustrate how double\n",
    "# double underscore at the beginning works\n",
    "class Diploma:\n",
    "    def _single_method(self):\n",
    "        pass\n",
    "    def __double_method(self): # for mangling\n",
    "        pass\n",
    "class Pyth(Diploma):\n",
    "    def __double_method(self): # for mangling\n",
    "        pass"
   ]
  },
  {
   "cell_type": "code",
   "execution_count": 101,
   "metadata": {},
   "outputs": [
    {
     "data": {
      "text/plain": [
       "['_Diploma__double_method',\n",
       " '_Pyth__double_method',\n",
       " '__class__',\n",
       " '__delattr__',\n",
       " '__dict__',\n",
       " '__dir__',\n",
       " '__doc__',\n",
       " '__eq__',\n",
       " '__format__',\n",
       " '__ge__',\n",
       " '__getattribute__',\n",
       " '__gt__',\n",
       " '__hash__',\n",
       " '__init__',\n",
       " '__init_subclass__',\n",
       " '__le__',\n",
       " '__lt__',\n",
       " '__module__',\n",
       " '__ne__',\n",
       " '__new__',\n",
       " '__reduce__',\n",
       " '__reduce_ex__',\n",
       " '__repr__',\n",
       " '__setattr__',\n",
       " '__sizeof__',\n",
       " '__str__',\n",
       " '__subclasshook__',\n",
       " '__weakref__',\n",
       " '_single_method']"
      ]
     },
     "execution_count": 101,
     "metadata": {},
     "output_type": "execute_result"
    }
   ],
   "source": [
    "dir(Pyth)"
   ]
  },
  {
   "cell_type": "code",
   "execution_count": 168,
   "metadata": {},
   "outputs": [],
   "source": [
    "# Python code to illustrate how double\n",
    "# single underscore at the beginning does not works\n",
    "class Diploma:\n",
    "    def _single_method(self):\n",
    "        pass\n",
    "    def _double_method(self): # for mangling\n",
    "        pass\n",
    "class Pyth(Diploma):\n",
    "    def __double_method(self): # for mangling\n",
    "        pass"
   ]
  },
  {
   "cell_type": "code",
   "execution_count": 169,
   "metadata": {},
   "outputs": [
    {
     "data": {
      "text/plain": [
       "['_Pyth__double_method',\n",
       " '__class__',\n",
       " '__delattr__',\n",
       " '__dict__',\n",
       " '__dir__',\n",
       " '__doc__',\n",
       " '__eq__',\n",
       " '__format__',\n",
       " '__ge__',\n",
       " '__getattribute__',\n",
       " '__gt__',\n",
       " '__hash__',\n",
       " '__init__',\n",
       " '__init_subclass__',\n",
       " '__le__',\n",
       " '__lt__',\n",
       " '__module__',\n",
       " '__ne__',\n",
       " '__new__',\n",
       " '__reduce__',\n",
       " '__reduce_ex__',\n",
       " '__repr__',\n",
       " '__setattr__',\n",
       " '__sizeof__',\n",
       " '__str__',\n",
       " '__subclasshook__',\n",
       " '__weakref__',\n",
       " '_double_method',\n",
       " '_single_method']"
      ]
     },
     "execution_count": 169,
     "metadata": {},
     "output_type": "execute_result"
    }
   ],
   "source": [
    "dir( Pyth )"
   ]
  },
  {
   "cell_type": "markdown",
   "metadata": {},
   "source": [
    "As you can see, the Pyth class does not inherit private **\\_double\\_method**."
   ]
  },
  {
   "cell_type": "markdown",
   "metadata": {},
   "source": [
    "### <a id='6.3.'>6.3. Fixed attributes </a>  "
   ]
  },
  {
   "cell_type": "markdown",
   "metadata": {},
   "source": [
    "We comment that we can can dynamically add attributes to objects of classes. However, it is not recomended. Most libraries do not have this option. Let's look at a numpy array."
   ]
  },
  {
   "cell_type": "code",
   "execution_count": 170,
   "metadata": {},
   "outputs": [],
   "source": [
    "A = np.arange( 7, 35, 5)"
   ]
  },
  {
   "cell_type": "code",
   "execution_count": 171,
   "metadata": {},
   "outputs": [
    {
     "data": {
      "text/plain": [
       "array([ 7, 12, 17, 22, 27, 32])"
      ]
     },
     "execution_count": 171,
     "metadata": {},
     "output_type": "execute_result"
    }
   ],
   "source": [
    "A"
   ]
  },
  {
   "cell_type": "code",
   "execution_count": 172,
   "metadata": {},
   "outputs": [
    {
     "ename": "AttributeError",
     "evalue": "'numpy.ndarray' object has no attribute 'new_attr'",
     "output_type": "error",
     "traceback": [
      "\u001b[1;31m---------------------------------------------------------------------------\u001b[0m",
      "\u001b[1;31mAttributeError\u001b[0m                            Traceback (most recent call last)",
      "\u001b[1;32m<ipython-input-172-512d4d9583bb>\u001b[0m in \u001b[0;36m<module>\u001b[1;34m\u001b[0m\n\u001b[1;32m----> 1\u001b[1;33m \u001b[0mA\u001b[0m\u001b[1;33m.\u001b[0m\u001b[0mnew_attr\u001b[0m \u001b[1;33m=\u001b[0m \u001b[1;34m\"New attribute\"\u001b[0m\u001b[1;33m\u001b[0m\u001b[1;33m\u001b[0m\u001b[0m\n\u001b[0m",
      "\u001b[1;31mAttributeError\u001b[0m: 'numpy.ndarray' object has no attribute 'new_attr'"
     ]
    }
   ],
   "source": [
    "A.new_attr = \"New attribute\""
   ]
  },
  {
   "cell_type": "markdown",
   "metadata": {},
   "source": [
    "As you can see, it is not possible to add more attributes. It is not recomended since users or project partners may change the original values of these attributes or methods. "
   ]
  },
  {
   "cell_type": "code",
   "execution_count": 180,
   "metadata": {},
   "outputs": [],
   "source": [
    "# Base model\n",
    "# We are going to define a family\n",
    "# Imagine family\n",
    "class Family(object):\n",
    "       \n",
    "    # Constructor\n",
    "    def __init__( self, last_name , nationality ):\n",
    "        self.last_name = last_name\n",
    "        self.nationality = nationality\n",
    "   \n",
    "    # Upper case Last name\n",
    "    def upper_lt_name( self, x ):\n",
    "        return  x.upper()\n",
    "    \n",
    "    # Print last name\n",
    "    def pr_LastName( self ):\n",
    "        up_last_name = self.upper_lt_name( self.last_name )\n",
    "        print( f\"The { up_last_name } family.\" )\n",
    "   \n",
    "    # Print Nationality\n",
    "    def pr_Natioanlity( self ):\n",
    "        print( f\"This family is {self.nationality}\" )\n",
    "        "
   ]
  },
  {
   "cell_type": "code",
   "execution_count": 181,
   "metadata": {},
   "outputs": [],
   "source": [
    "std1 = Family( \"Azabache\" , \"Peruvian\")"
   ]
  },
  {
   "cell_type": "code",
   "execution_count": 182,
   "metadata": {},
   "outputs": [],
   "source": [
    "# We define a new function\n",
    "def lower_case( x ):\n",
    "    x1 = x.lower()\n",
    "    return x1"
   ]
  },
  {
   "cell_type": "code",
   "execution_count": 183,
   "metadata": {},
   "outputs": [],
   "source": [
    "# We change the `upper_lt_name` function\n",
    "std1.upper_lt_name = lower_case"
   ]
  },
  {
   "cell_type": "code",
   "execution_count": 185,
   "metadata": {},
   "outputs": [
    {
     "name": "stdout",
     "output_type": "stream",
     "text": [
      "The azabache family.\n"
     ]
    }
   ],
   "source": [
    "std1.pr_LastName()"
   ]
  },
  {
   "cell_type": "markdown",
   "metadata": {},
   "source": [
    "We can change methods and attributes of a class object if we do not fix them. We use \\_\\_slots\\_\\_ to fix them."
   ]
  },
  {
   "cell_type": "markdown",
   "metadata": {},
   "source": [
    "The special attribute \\_\\_slots\\_\\_ allows you to explicitly state which instance attributes you expect your object instances to have, with the expected results:\n",
    "\n",
    "1. faster attribute access.\n",
    "2. space savings in memory.\n",
    "3. The space savings is from"
   ]
  },
  {
   "cell_type": "markdown",
   "metadata": {},
   "source": [
    "When we design a class, we can use slots to prevent the dynamic creation of attributes."
   ]
  },
  {
   "cell_type": "code",
   "execution_count": 200,
   "metadata": {},
   "outputs": [],
   "source": [
    "# Base model\n",
    "# We are going to define a family\n",
    "# Imagine family\n",
    "class Family(object):\n",
    "    \n",
    "    __slots__ = [ 'last_name', 'nationality', ]\n",
    "    \n",
    "    # Constructor\n",
    "    def __init__( self, last_name , nationality ):\n",
    "        self.last_name = last_name\n",
    "        self.nationality = nationality\n",
    "   \n",
    "    # Upper case Last name\n",
    "    def upper_lt_name( self, x ):\n",
    "        return  x.upper()\n",
    "    \n",
    "    # Print last name\n",
    "    def pr_LastName( self ):\n",
    "        up_last_name = self.upper_lt_name( self.last_name )\n",
    "        print( f\"The { up_last_name } family.\" )\n",
    "   \n",
    "    # Print Nationality\n",
    "    def pr_Natioanlity( self ):\n",
    "        print( f\"This family is {self.nationality}\" )\n",
    "        "
   ]
  },
  {
   "cell_type": "code",
   "execution_count": 201,
   "metadata": {},
   "outputs": [],
   "source": [
    "std1 = Family( \"Azabache\" , \"Peruvian\")"
   ]
  },
  {
   "cell_type": "code",
   "execution_count": 202,
   "metadata": {},
   "outputs": [
    {
     "ename": "AttributeError",
     "evalue": "'Family' object has no attribute 'number_children'",
     "output_type": "error",
     "traceback": [
      "\u001b[1;31m---------------------------------------------------------------------------\u001b[0m",
      "\u001b[1;31mAttributeError\u001b[0m                            Traceback (most recent call last)",
      "\u001b[1;32m<ipython-input-202-53f13afe38d0>\u001b[0m in \u001b[0;36m<module>\u001b[1;34m\u001b[0m\n\u001b[0;32m      1\u001b[0m \u001b[1;31m## add a new attribute\u001b[0m\u001b[1;33m\u001b[0m\u001b[1;33m\u001b[0m\u001b[1;33m\u001b[0m\u001b[0m\n\u001b[1;32m----> 2\u001b[1;33m \u001b[0mstd1\u001b[0m\u001b[1;33m.\u001b[0m\u001b[0mnumber_children\u001b[0m \u001b[1;33m=\u001b[0m \u001b[1;36m8\u001b[0m\u001b[1;33m\u001b[0m\u001b[1;33m\u001b[0m\u001b[0m\n\u001b[0m",
      "\u001b[1;31mAttributeError\u001b[0m: 'Family' object has no attribute 'number_children'"
     ]
    }
   ],
   "source": [
    "## add a new attribute\n",
    "std1.number_children = 8"
   ]
  },
  {
   "cell_type": "markdown",
   "metadata": {},
   "source": [
    "We can not add more attributes."
   ]
  },
  {
   "cell_type": "code",
   "execution_count": 203,
   "metadata": {},
   "outputs": [],
   "source": [
    "# We define a new function\n",
    "def lower_case( x ):\n",
    "    x1 = x.lower()\n",
    "    return x1"
   ]
  },
  {
   "cell_type": "code",
   "execution_count": 204,
   "metadata": {},
   "outputs": [
    {
     "ename": "AttributeError",
     "evalue": "'Family' object attribute 'upper_lt_name' is read-only",
     "output_type": "error",
     "traceback": [
      "\u001b[1;31m---------------------------------------------------------------------------\u001b[0m",
      "\u001b[1;31mAttributeError\u001b[0m                            Traceback (most recent call last)",
      "\u001b[1;32m<ipython-input-204-f35240125f21>\u001b[0m in \u001b[0;36m<module>\u001b[1;34m\u001b[0m\n\u001b[0;32m      1\u001b[0m \u001b[1;31m# We change the `upper_lt_name` function\u001b[0m\u001b[1;33m\u001b[0m\u001b[1;33m\u001b[0m\u001b[1;33m\u001b[0m\u001b[0m\n\u001b[1;32m----> 2\u001b[1;33m \u001b[0mstd1\u001b[0m\u001b[1;33m.\u001b[0m\u001b[0mupper_lt_name\u001b[0m \u001b[1;33m=\u001b[0m \u001b[0mlower_case\u001b[0m\u001b[1;33m\u001b[0m\u001b[1;33m\u001b[0m\u001b[0m\n\u001b[0m",
      "\u001b[1;31mAttributeError\u001b[0m: 'Family' object attribute 'upper_lt_name' is read-only"
     ]
    }
   ],
   "source": [
    "# We change the `upper_lt_name` function\n",
    "std1.upper_lt_name = lower_case"
   ]
  },
  {
   "cell_type": "markdown",
   "metadata": {},
   "source": [
    "Additionally, we can not add or modify methods."
   ]
  },
  {
   "cell_type": "markdown",
   "metadata": {},
   "source": [
    "### <a id='6.4.'>6.4. Costumize Exceptions with Python </a>  \n",
    "\n",
    "Python has numerous built-in exceptions that force your program to output an error when something in the program goes wrong. However, sometimes you may need to create your own custom exceptions that serve your purpose."
   ]
  },
  {
   "cell_type": "code",
   "execution_count": 213,
   "metadata": {},
   "outputs": [],
   "source": [
    "# define Python user-defined exceptions\n",
    "# we create custom exceptions using the base class Exception\n",
    "class LastNameisLower( Exception ):\n",
    "    \"\"\"Raised when the last name string is lower case\"\"\"\n",
    "    pass"
   ]
  },
  {
   "cell_type": "code",
   "execution_count": 212,
   "metadata": {},
   "outputs": [],
   "source": [
    "class LastNameisUpper(Exception):\n",
    "    \"\"\"Raised when the last name string is upper case\"\"\"\n",
    "    pass"
   ]
  },
  {
   "cell_type": "code",
   "execution_count": 235,
   "metadata": {},
   "outputs": [],
   "source": [
    "# Base model\n",
    "# We are going to define a family\n",
    "# Imagine family\n",
    "class Family(object):\n",
    "    \n",
    "    __slots__ = [ 'last_name', 'nationality', ]\n",
    "    \n",
    "    # Constructor\n",
    "    def __init__( self, last_name , nationality ):\n",
    "        \n",
    "        if last_name[ 0 ].islower():\n",
    "            raise LastNameisLower( f\"The first letter in last_name is lowercase. \\nPlease, the first letter must be uppercase.\")\n",
    "\n",
    "            \n",
    "        for i in range( len( last_name ) - 1 ):\n",
    "            \n",
    "         \n",
    "            str1 = last_name[ i + 1 ]\n",
    "            if str1.isupper():\n",
    "                \n",
    "                raise LastNameisUpper( f\"Index { i +1 } in last_name is uppercase. \\nPlease, only the first letter must be uppercase.\")\n",
    "        \n",
    "            \n",
    "        \n",
    "        self.last_name = last_name\n",
    "        self.nationality = nationality\n",
    "   \n",
    "    # Print last name\n",
    "    def pr_LastName( self ):\n",
    "        print( f\"The { self.last_name } family.\" )\n",
    "   \n",
    "    # Print Nationality\n",
    "    def pr_Natioanlity( self ):\n",
    "        print( f\"This family is {self.nationality}\" )\n",
    "        "
   ]
  },
  {
   "cell_type": "code",
   "execution_count": 240,
   "metadata": {},
   "outputs": [
    {
     "ename": "LastNameisUpper",
     "evalue": "Index 3 in last_name is uppercase. \nPlease, only the first letter must be uppercase.",
     "output_type": "error",
     "traceback": [
      "\u001b[1;31m---------------------------------------------------------------------------\u001b[0m",
      "\u001b[1;31mLastNameisUpper\u001b[0m                           Traceback (most recent call last)",
      "\u001b[1;32m<ipython-input-240-24225eceac5e>\u001b[0m in \u001b[0;36m<module>\u001b[1;34m\u001b[0m\n\u001b[1;32m----> 1\u001b[1;33m \u001b[0mstd1\u001b[0m \u001b[1;33m=\u001b[0m \u001b[0mFamily\u001b[0m\u001b[1;33m(\u001b[0m \u001b[1;34m\"AzaBache\"\u001b[0m \u001b[1;33m,\u001b[0m \u001b[1;34m\"Peruvian\"\u001b[0m\u001b[1;33m)\u001b[0m\u001b[1;33m\u001b[0m\u001b[1;33m\u001b[0m\u001b[0m\n\u001b[0m",
      "\u001b[1;32m<ipython-input-235-560a2ad23198>\u001b[0m in \u001b[0;36m__init__\u001b[1;34m(self, last_name, nationality)\u001b[0m\n\u001b[0;32m     19\u001b[0m             \u001b[1;32mif\u001b[0m \u001b[0mstr1\u001b[0m\u001b[1;33m.\u001b[0m\u001b[0misupper\u001b[0m\u001b[1;33m(\u001b[0m\u001b[1;33m)\u001b[0m\u001b[1;33m:\u001b[0m\u001b[1;33m\u001b[0m\u001b[1;33m\u001b[0m\u001b[0m\n\u001b[0;32m     20\u001b[0m \u001b[1;33m\u001b[0m\u001b[0m\n\u001b[1;32m---> 21\u001b[1;33m                 \u001b[1;32mraise\u001b[0m \u001b[0mLastNameisUpper\u001b[0m\u001b[1;33m(\u001b[0m \u001b[1;34mf\"Index { i +1 } in last_name is uppercase. \\nPlease, only the first letter must be uppercase.\"\u001b[0m\u001b[1;33m)\u001b[0m\u001b[1;33m\u001b[0m\u001b[1;33m\u001b[0m\u001b[0m\n\u001b[0m\u001b[0;32m     22\u001b[0m \u001b[1;33m\u001b[0m\u001b[0m\n\u001b[0;32m     23\u001b[0m \u001b[1;33m\u001b[0m\u001b[0m\n",
      "\u001b[1;31mLastNameisUpper\u001b[0m: Index 3 in last_name is uppercase. \nPlease, only the first letter must be uppercase."
     ]
    }
   ],
   "source": [
    "std1 = Family( \"AzaBache\" , \"Peruvian\")"
   ]
  },
  {
   "cell_type": "code",
   "execution_count": 239,
   "metadata": {},
   "outputs": [
    {
     "ename": "LastNameisLower",
     "evalue": "The first letter in last_name is lowercase. \nPlease, the first letter must be uppercase.",
     "output_type": "error",
     "traceback": [
      "\u001b[1;31m---------------------------------------------------------------------------\u001b[0m",
      "\u001b[1;31mLastNameisLower\u001b[0m                           Traceback (most recent call last)",
      "\u001b[1;32m<ipython-input-239-e3041492e7a0>\u001b[0m in \u001b[0;36m<module>\u001b[1;34m\u001b[0m\n\u001b[1;32m----> 1\u001b[1;33m \u001b[0mstd1\u001b[0m \u001b[1;33m=\u001b[0m \u001b[0mFamily\u001b[0m\u001b[1;33m(\u001b[0m \u001b[1;34m\"azabache\"\u001b[0m \u001b[1;33m,\u001b[0m \u001b[1;34m\"Peruvian\"\u001b[0m\u001b[1;33m)\u001b[0m\u001b[1;33m\u001b[0m\u001b[1;33m\u001b[0m\u001b[0m\n\u001b[0m",
      "\u001b[1;32m<ipython-input-235-560a2ad23198>\u001b[0m in \u001b[0;36m__init__\u001b[1;34m(self, last_name, nationality)\u001b[0m\n\u001b[0;32m     10\u001b[0m \u001b[1;33m\u001b[0m\u001b[0m\n\u001b[0;32m     11\u001b[0m         \u001b[1;32mif\u001b[0m \u001b[0mlast_name\u001b[0m\u001b[1;33m[\u001b[0m \u001b[1;36m0\u001b[0m \u001b[1;33m]\u001b[0m\u001b[1;33m.\u001b[0m\u001b[0mislower\u001b[0m\u001b[1;33m(\u001b[0m\u001b[1;33m)\u001b[0m\u001b[1;33m:\u001b[0m\u001b[1;33m\u001b[0m\u001b[1;33m\u001b[0m\u001b[0m\n\u001b[1;32m---> 12\u001b[1;33m             \u001b[1;32mraise\u001b[0m \u001b[0mLastNameisLower\u001b[0m\u001b[1;33m(\u001b[0m \u001b[1;34mf\"The first letter in last_name is lowercase. \\nPlease, the first letter must be uppercase.\"\u001b[0m\u001b[1;33m)\u001b[0m\u001b[1;33m\u001b[0m\u001b[1;33m\u001b[0m\u001b[0m\n\u001b[0m\u001b[0;32m     13\u001b[0m \u001b[1;33m\u001b[0m\u001b[0m\n\u001b[0;32m     14\u001b[0m \u001b[1;33m\u001b[0m\u001b[0m\n",
      "\u001b[1;31mLastNameisLower\u001b[0m: The first letter in last_name is lowercase. \nPlease, the first letter must be uppercase."
     ]
    }
   ],
   "source": [
    "std1 = Family( \"azabache\" , \"Peruvian\")"
   ]
  },
  {
   "cell_type": "markdown",
   "metadata": {},
   "source": [
    "### <a id='6.5.'>6.5. References </a>"
   ]
  },
  {
   "cell_type": "markdown",
   "metadata": {},
   "source": [
    "https://bytes.com/topic/python/answers/43335-__init__-method-raising-exceptions\n",
    "\n",
    "https://stackoverflow.com/questions/472000/usage-of-slots\n",
    "\n",
    "https://www.geeksforgeeks.org/private-variables-python/\n",
    "\n",
    "https://stackoverflow.com/questions/1301346/what-is-the-meaning-of-single-and-double-underscore-before-an-object-name\n",
    "\n",
    "https://www.programiz.com/python-programming/user-defined-exception"
   ]
  }
 ],
 "metadata": {
  "hide_input": false,
  "kernelspec": {
   "display_name": "Python 3",
   "language": "python",
   "name": "python3"
  },
  "language_info": {
   "codemirror_mode": {
    "name": "ipython",
    "version": 3
   },
   "file_extension": ".py",
   "mimetype": "text/x-python",
   "name": "python",
   "nbconvert_exporter": "python",
   "pygments_lexer": "ipython3",
   "version": "3.8.5"
  }
 },
 "nbformat": 4,
 "nbformat_minor": 4
}

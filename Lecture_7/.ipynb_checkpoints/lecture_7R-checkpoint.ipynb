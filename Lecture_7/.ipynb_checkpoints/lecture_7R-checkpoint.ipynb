{
 "cells": [
  {
   "cell_type": "code",
   "execution_count": 1,
   "metadata": {},
   "outputs": [
    {
     "data": {
      "text/html": [
       "\n",
       "<style>\n",
       "    div#notebook-container    { width: 95%; }\n",
       "    div#menubar-container     { width: 65%; }\n",
       "    div#maintoolbar-container { width: 99%; }a\n",
       "</style>\n"
      ],
      "text/plain": [
       "<IPython.core.display.HTML object>"
      ]
     },
     "metadata": {},
     "output_type": "display_data"
    }
   ],
   "source": [
    "from IPython.display import display, HTML\n",
    "\n",
    "display(HTML(data=\"\"\"\n",
    "<style>\n",
    "    div#notebook-container    { width: 95%; }\n",
    "    div#menubar-container     { width: 65%; }\n",
    "    div#maintoolbar-container { width: 99%; }a\n",
    "</style>\n",
    "\"\"\"))"
   ]
  },
  {
   "cell_type": "markdown",
   "metadata": {},
   "source": [
    "# 7. Web Scraping"
   ]
  },
  {
   "cell_type": "markdown",
   "metadata": {},
   "source": [
    "Web  scraping  is  the  practice  of  gathering  data  through  any  means  otherthan a program interacting with an API (or, obviously, through a human using a webbrowser).  This  is  most  commonly  accomplished  by  writing  an  automated  programthat queries a web server, requests data (usually in the form of the HTML and otherfiles  that  comprise  web  pages),  and  then  parses  that  data  to  extract  needed  information."
   ]
  },
  {
   "cell_type": "markdown",
   "metadata": {},
   "source": [
    "# 7.1 Selenium\n",
    "Selenium automates browsers. That's it! <br>\n",
    "Selenium is a Python library and tool used for automating web browsers to do a number of tasks. One of such is web-scraping to extract useful data and information that may be otherwise unavailable. <br>\n",
    "**For this course, we use Chrome.**"
   ]
  },
  {
   "cell_type": "markdown",
   "metadata": {},
   "source": [
    "## 7.1 Installing Libraries\n",
    "We need to install these two libraries"
   ]
  },
  {
   "cell_type": "code",
   "execution_count": 9,
   "metadata": {},
   "outputs": [
    {
     "name": "stdout",
     "output_type": "stream",
     "text": [
      "Requirement already satisfied: webdriver_manager in c:\\users\\alexander\\anaconda3\\lib\\site-packages (3.8.5)\n",
      "Collecting webdriver_manager\n"
     ]
    },
    {
     "name": "stderr",
     "output_type": "stream",
     "text": [
      "WARNING: Ignoring invalid distribution -tatsmodels (c:\\users\\alexander\\anaconda3\\lib\\site-packages)\n",
      "WARNING: Ignoring invalid distribution -tatsmodels (c:\\users\\alexander\\anaconda3\\lib\\site-packages)\n",
      "WARNING: Ignoring invalid distribution -tatsmodels (c:\\users\\alexander\\anaconda3\\lib\\site-packages)\n",
      "    WARNING: Ignoring invalid distribution -tatsmodels (c:\\users\\alexander\\anaconda3\\lib\\site-packages)\n",
      "WARNING: Ignoring invalid distribution -tatsmodels (c:\\users\\alexander\\anaconda3\\lib\\site-packages)\n",
      "WARNING: Ignoring invalid distribution -tatsmodels (c:\\users\\alexander\\anaconda3\\lib\\site-packages)\n",
      "WARNING: Ignoring invalid distribution -tatsmodels (c:\\users\\alexander\\anaconda3\\lib\\site-packages)\n",
      "WARNING: Ignoring invalid distribution -tatsmodels (c:\\users\\alexander\\anaconda3\\lib\\site-packages)\n"
     ]
    },
    {
     "name": "stdout",
     "output_type": "stream",
     "text": [
      "  Downloading webdriver_manager-4.0.1-py2.py3-none-any.whl (27 kB)\n",
      "Requirement already satisfied: python-dotenv in c:\\users\\alexander\\anaconda3\\lib\\site-packages (from webdriver_manager) (0.21.1)\n",
      "Requirement already satisfied: packaging in c:\\users\\alexander\\anaconda3\\lib\\site-packages (from webdriver_manager) (23.0)\n",
      "Requirement already satisfied: requests in c:\\users\\alexander\\anaconda3\\lib\\site-packages (from webdriver_manager) (2.26.0)\n",
      "Requirement already satisfied: charset-normalizer~=2.0.0 in c:\\users\\alexander\\anaconda3\\lib\\site-packages (from requests->webdriver_manager) (2.0.4)\n",
      "Requirement already satisfied: certifi>=2017.4.17 in c:\\users\\alexander\\anaconda3\\lib\\site-packages (from requests->webdriver_manager) (2022.12.7)\n",
      "Requirement already satisfied: urllib3<1.27,>=1.21.1 in c:\\users\\alexander\\anaconda3\\lib\\site-packages (from requests->webdriver_manager) (1.26.7)\n",
      "Requirement already satisfied: idna<4,>=2.5 in c:\\users\\alexander\\anaconda3\\lib\\site-packages (from requests->webdriver_manager) (3.2)\n",
      "Installing collected packages: webdriver-manager\n",
      "  Attempting uninstall: webdriver-manager\n",
      "    Found existing installation: webdriver-manager 3.8.5\n",
      "    Uninstalling webdriver-manager-3.8.5:\n",
      "      Successfully uninstalled webdriver-manager-3.8.5\n",
      "Successfully installed webdriver-manager-4.0.1\n"
     ]
    }
   ],
   "source": [
    "# !pip install selenium\n",
    "# !pip install webdriver-manager"
   ]
  },
  {
   "cell_type": "markdown",
   "metadata": {},
   "source": [
    "## 7.2 Calling Libraries"
   ]
  },
  {
   "cell_type": "code",
   "execution_count": 9,
   "metadata": {},
   "outputs": [],
   "source": [
    "# this library is to manipulate browser\n",
    "from selenium import webdriver\n",
    "\n",
    "# it allows you to work with differen versions of drivers\n",
    "# We call ChromeDriver\n",
    "from webdriver_manager.chrome import ChromeDriverManager\n",
    "import re\n",
    "import time "
   ]
  },
  {
   "cell_type": "markdown",
   "metadata": {},
   "source": [
    "## 7.3 Launch/Set the Driver\n",
    "This code opens a Chrome Driver. We are going to use it to go navigate on the web."
   ]
  },
  {
   "cell_type": "code",
   "execution_count": 4,
   "metadata": {},
   "outputs": [
    {
     "data": {
      "text/plain": [
       "'C:\\\\Users\\\\Alexander\\\\Documents\\\\GitHub\\\\QLAB_Summer_Python\\\\Lecture_7'"
      ]
     },
     "execution_count": 4,
     "metadata": {},
     "output_type": "execute_result"
    }
   ],
   "source": [
    "pwd"
   ]
  },
  {
   "cell_type": "code",
   "execution_count": 2,
   "metadata": {},
   "outputs": [
    {
     "name": "stderr",
     "output_type": "stream",
     "text": [
      "C:\\Users\\ALEXAN~1\\AppData\\Local\\Temp/ipykernel_4352/2100503156.py:6: DeprecationWarning: executable_path has been deprecated, please pass in a Service object\n",
      "  driver = webdriver.Chrome(executable_path=r'chromedriver-win64/chromedriver.exe')\n"
     ]
    }
   ],
   "source": [
    "from selenium import webdriver\n",
    "from webdriver_manager.chrome import ChromeDriverManager\n",
    "\n",
    "# Case 1 - Download the driver using ChromeDriverManager\n",
    "#driver = webdriver.Chrome(ChromeDriverManager().install())\n",
    "driver = webdriver.Chrome(executable_path=r'chromedriver-win64/chromedriver.exe')\n",
    "driver.maximize_window()\n",
    "\n",
    "url = 'https://resultadoshistorico.onpe.gob.pe/EG2021/'\n",
    "driver.get(url)"
   ]
  },
  {
   "cell_type": "code",
   "execution_count": 3,
   "metadata": {},
   "outputs": [],
   "source": [
    "# # Case 1 - Download the driver\n",
    "# driver = webdriver.Chrome('chromedriver.exe')\n",
    "# driver.maximize_window()\n",
    "\n",
    "# url = 'https://resultadoshistorico.onpe.gob.pe/EG2021/'\n",
    "# driver.get( url )"
   ]
  },
  {
   "cell_type": "code",
   "execution_count": 4,
   "metadata": {},
   "outputs": [],
   "source": [
    "# # Case 2 - ChromeDriverManager\n",
    "# driver = webdriver.Chrome( ChromeDriverManager().install() )\n",
    "# driver.maximize_window()\n",
    "\n",
    "# url = 'https://resultadoshistorico.onpe.gob.pe/EG2021/'\n",
    "# driver.get( url )"
   ]
  },
  {
   "cell_type": "markdown",
   "metadata": {},
   "source": [
    "## Chrome is being controlled by automated test software"
   ]
  },
  {
   "cell_type": "markdown",
   "metadata": {},
   "source": [
    "![Chrome is controlled by automated software](Images/chrome_automated.png)"
   ]
  },
  {
   "cell_type": "code",
   "execution_count": 5,
   "metadata": {},
   "outputs": [
    {
     "name": "stdout",
     "output_type": "stream",
     "text": [
      "Title:  Presentación de Resultados Elecciones Generales y Parlamento Andino 2021\n"
     ]
    }
   ],
   "source": [
    "# Access to the title\n",
    "print('Title: ', driver.title)"
   ]
  },
  {
   "cell_type": "code",
   "execution_count": 6,
   "metadata": {},
   "outputs": [
    {
     "name": "stdout",
     "output_type": "stream",
     "text": [
      "Current Page URL:  https://resultadoshistorico.onpe.gob.pe/EG2021/\n"
     ]
    }
   ],
   "source": [
    "# Access to the curent url \n",
    "print('Current Page URL: ', driver.current_url)"
   ]
  },
  {
   "cell_type": "code",
   "execution_count": 7,
   "metadata": {},
   "outputs": [
    {
     "data": {
      "text/plain": [
       "True"
      ]
     },
     "execution_count": 7,
     "metadata": {},
     "output_type": "execute_result"
    }
   ],
   "source": [
    "# Make screenshot of the webpage\n",
    "driver.save_screenshot('Images/resultados_presidenciales.png')"
   ]
  },
  {
   "cell_type": "code",
   "execution_count": 10,
   "metadata": {},
   "outputs": [
    {
     "name": "stdout",
     "output_type": "stream",
     "text": [
      "Resultados Presidenciales saved!\n"
     ]
    }
   ],
   "source": [
    "if re.search(r'resultadoshistorico', driver.current_url):\n",
    "    driver.save_screenshot('Images/resultados_presidenciales.png') #save screenshot with provided name\n",
    "    print('Resultados Presidenciales saved!')"
   ]
  },
  {
   "cell_type": "code",
   "execution_count": 11,
   "metadata": {},
   "outputs": [
    {
     "name": "stdout",
     "output_type": "stream",
     "text": [
      "Cookies obtained from resultados_presidenciales\n",
      "[{'domain': 'resultadoshistorico.onpe.gob.pe', 'httpOnly': True, 'name': 'web_server_iron', 'path': '/', 'sameSite': 'Lax', 'secure': True, 'value': '!vzIcPHWGTcL2Lteu0EiGh5fRpo/FcrDSi9pbiNJkv0IVJu3hBEK0AIGZznnxL2Uoq9uSADLcaoQksbk='}, {'domain': '.onpe.gob.pe', 'expiry': 1705148325, 'httpOnly': False, 'name': '_gid', 'path': '/', 'sameSite': 'Lax', 'secure': False, 'value': 'GA1.3.798886620.1705061926'}, {'domain': '.onpe.gob.pe', 'expiry': 1739621925, 'httpOnly': False, 'name': '_ga', 'path': '/', 'sameSite': 'Lax', 'secure': False, 'value': 'GA1.3.616954443.1705061925'}, {'domain': '.onpe.gob.pe', 'expiry': 1739621925, 'httpOnly': False, 'name': '_ga_WW5NP75D4F', 'path': '/', 'sameSite': 'Lax', 'secure': False, 'value': 'GS1.1.1705061925.1.0.1705061925.60.0.0'}]\n"
     ]
    }
   ],
   "source": [
    "#get cookie information\n",
    "cookies = driver.get_cookies() \n",
    "print('Cookies obtained from resultados_presidenciales')\n",
    "print(cookies)"
   ]
  },
  {
   "cell_type": "code",
   "execution_count": 12,
   "metadata": {},
   "outputs": [
    {
     "data": {
      "text/plain": [
       "'<html lang=\"en\" class=\"hydrated\"><head><style>\\n    :root {\\n      /* Typography */\\n      --amplify-font-family: \\'Amazon Ember\\', \\'Helvetica Neue\\', \\'Helvetica\\', \\'Arial\\', sans-serif;\\n\\n      --amplify-text-xxs: 0.75rem;\\n      --amplify-text-xs: 0.81rem;\\n      --amplify-text-sm: 0.875rem;\\n      --amplify-text-md: 1rem;\\n      --amplify-text-md-sub: 1.15rem;\\n      --amplify-text-lg: 1.5rem;\\n      --amplify-text-xl: 2rem;\\n      --amplify-text-xxl: 2.5rem;\\n\\n      /* Colors */\\n      --amplify-primary-color: #ff9900;\\n      --amplify-primary-contrast: var(--amplify-white);\\n      --amplify-primary-tint: #ffac31;\\n      --amplify-primary-shade: #e88b01;\\n\\n      --amplify-secondary-color: #152939;\\n      --amplify-secondary-contrast: var(--amplify-white);\\n      --amplify-secondary-tint: #31465f;\\n      --amplify-secondary-shade: #1F2A37;\\n\\n      --amplify-tertiary-color: #5d8aff;\\n      --amplify-tertiary-contrast: var(--amplify-white);\\n      --amplify-tertiary-tint: #7da1ff;\\n      --amplify-tertiary-shade: #537BE5;\\n\\n      --amplify-background-color: var(--amplify-white);\\n\\n      /* Neutral */\\n      --amplify-grey: #828282;\\n      --amplify-light-grey: #c4c4c4;\\n      --amplify-white: #ffffff;\\n      --amplify-smoke-white: #f5f5f5;\\n      --amplify-red: #dd3f5b;\\n      --amplify-blue: #099ac8;\\n    }\\n  </style>\\n  <meta charset=\"utf-8\"><style data-styles=\"\">amplify-icon,amplify-authenticator,amplify-federated-sign-in,amplify-select-mfa-type,amplify-s3-image-picker,amplify-chatbot,amplify-greetings,amplify-s3-album,amplify-s3-text-picker,amplify-tooltip,amplify-icon-button,amplify-checkbox,amplify-container,amplify-link,amplify-photo-picker,amplify-s3-image,amplify-s3-text,amplify-loading-spinner,amplify-section,amplify-button,amplify-sign-out,amplify-nav,amplify-toast,amplify-picker,amplify-form-field,amplify-hint,amplify-input,amplify-label,amplify-totp-setup,amplify-radio-button,amplify-sign-in-button,amplify-amazon-button,amplify-auth0-button,amplify-facebook-button,amplify-google-button,amplify-oauth-button,amplify-strike,amplify-federated-buttons,amplify-auth-fields,amplify-phone-field,amplify-code-field,amplify-email-field,amplify-password-field,amplify-username-field,amplify-country-dial-code,amplify-select,amplify-form-section,amplify-sign-in,amplify-confirm-sign-in,amplify-confirm-sign-up,amplify-forgot-password,amplify-require-new-password,amplify-sign-up,amplify-verify-contact{visibility:hidden}.hydrated{visibility:inherit}</style>\\n  <meta name=\"google\" content=\"notranslate\">\\n  <title>Presentación de Resultados Elecciones Generales y Parlamento Andino 2021</title>\\n  <base href=\"/EG2021/\">\\n  <script type=\"text/javascript\" src=\"https://bam.nr-data.net/1/df67590f5e?a=507167406&amp;sa=1&amp;v=1158.afc605b&amp;t=Unnamed%20Transaction&amp;rst=1330&amp;ref=https://resultadoshistorico.onpe.gob.pe/EG2021/&amp;be=300&amp;fe=1304&amp;dc=393&amp;af=err,xhr,stn,ins,spa&amp;perf=%7B%22timing%22:%7B%22of%22:1705061924423,%22n%22:0,%22f%22:1,%22dn%22:117,%22dne%22:117,%22c%22:117,%22s%22:120,%22ce%22:129,%22rq%22:130,%22rp%22:168,%22rpe%22:169,%22dl%22:171,%22di%22:303,%22ds%22:393,%22de%22:393,%22dc%22:1304,%22l%22:1304,%22le%22:1304%7D,%22navigation%22:%7B%7D%7D&amp;fp=468&amp;fcp=468&amp;jsonp=NREUM.setToken\"></script><script src=\"https://js-agent.newrelic.com/nr-spa-1158.min.js\"></script><script type=\"text/javascript\" async=\"\" src=\"https://www.google-analytics.com/analytics.js\"></script><script type=\"text/javascript\" async=\"\" src=\"https://www.googletagmanager.com/gtag/js?id=G-WW5NP75D4F&amp;l=dataLayer&amp;cx=c\"></script><script src=\"./assets/lib/amcharts/amcharts.js\" type=\"text/javascript\"></script>\\n  <script src=\"./assets/lib/amcharts/serial.js\" type=\"text/javascript\"></script>\\n  <script src=\"./assets/lib/amcharts/pie.js\" type=\"text/javascript\"></script>\\n  <script src=\"./assets/lib/ammap/ammap.js\" type=\"text/javascript\"></script>\\n  <script src=\"./assets/js/scripts.js\" type=\"text/javascript\"></script>\\n  <!-- Global  -->\\n  <script async=\"\" src=\"https://www.googletagmanager.com/gtag/js?id=UA-184811717-4\"></script>\\n  <script>\\n    window.dataLayer = window.dataLayer || [];\\n    function gtag(){dataLayer.push(arguments);}\\n    gtag(\\'js\\', new Date());\\n    gtag(\\'config\\',\\'UA-184811717-4\\');\\n  </script>\\n\\n  <meta name=\"viewport\" content=\"width=device-width, initial-scale=1\">\\n  <meta name=\"google\" content=\"notranslate\">\\n  <link rel=\"icon\" type=\"image/x-icon\" href=\"favicon.ico\">  \\n  <style>\\n    @media (max-width: 1366px) {\\n      svg g g.amcharts-category-axis text.amcharts-axis-label tspan {\\n        font-weight: bold; \\n        font-size: 8px;   \\n      }\\n    }\\n    </style>\\n<link rel=\"stylesheet\" href=\"styles.bd7c35172284dda8da0f.css\"><script charset=\"utf-8\" src=\"common-es2015.f2fb729fa304a53b955b.js\"></script><script charset=\"utf-8\" src=\"6-es2015.f76683b054d851f58f21.js\"></script><style>@font-face{font-family:Glyphicons Halflings;src:url(glyphicons-halflings-regular.5be1347c682810f199c7.eot);src:url(glyphicons-halflings-regular.5be1347c682810f199c7.eot?#iefix) format(\"embedded-opentype\"),url(glyphicons-halflings-regular.be810be3a3e14c682a25.woff2) format(\"woff2\"),url(glyphicons-halflings-regular.82b1212e45a2bc35dd73.woff) format(\"truetype\"),url(glyphicons-halflings-regular.9a17786234899efcc963.svg#glyphicons_halflingsregular) format(\"svg\")}.amcharts-category-axis[_ngcontent-fst-c64]   .amcharts-axis-label[_ngcontent-fst-c64]:first-child   tspan[_ngcontent-fst-c64]{font-weight:700;font-size:500px}.glyphicon[_ngcontent-fst-c64]{position:relative;top:1px;display:inline-block;font-family:Glyphicons Halflings;font-style:normal;font-weight:400;line-height:1;-webkit-font-smoothing:antialiased;-moz-osx-font-smoothing:grayscale}.glyphicon-asterisk[_ngcontent-fst-c64]:before{content:\"\\\\2a\"}.glyphicon-plus[_ngcontent-fst-c64]:before{content:\"\\\\2b\"}.glyphicon-eur[_ngcontent-fst-c64]:before, .glyphicon-euro[_ngcontent-fst-c64]:before{content:\"\\\\20ac\"}.glyphicon-minus[_ngcontent-fst-c64]:before{content:\"\\\\2212\"}.glyphicon-cloud[_ngcontent-fst-c64]:before{content:\"\\\\2601\"}.glyphicon-envelope[_ngcontent-fst-c64]:before{content:\"\\\\2709\"}.glyphicon-pencil[_ngcontent-fst-c64]:before{content:\"\\\\270f\"}.glyphicon-glass[_ngcontent-fst-c64]:before{content:\"\\\\e001\"}.glyphicon-music[_ngcontent-fst-c64]:before{content:\"\\\\e002\"}.glyphicon-search[_ngcontent-fst-c64]:before{content:\"\\\\e003\"}.glyphicon-heart[_ngcontent-fst-c64]:before{content:\"\\\\e005\"}.glyphicon-star[_ngcontent-fst-c64]:before{content:\"\\\\e006\"}.glyphicon-star-empty[_ngcontent-fst-c64]:before{content:\"\\\\e007\"}.glyphicon-user[_ngcontent-fst-c64]:before{content:\"\\\\e008\"}.glyphicon-film[_ngcontent-fst-c64]:before{content:\"\\\\e009\"}.glyphicon-th-large[_ngcontent-fst-c64]:before{content:\"\\\\e010\"}.glyphicon-th[_ngcontent-fst-c64]:before{content:\"\\\\e011\"}.glyphicon-th-list[_ngcontent-fst-c64]:before{content:\"\\\\e012\"}.glyphicon-ok[_ngcontent-fst-c64]:before{content:\"\\\\e013\"}.glyphicon-remove[_ngcontent-fst-c64]:before{content:\"\\\\e014\"}.glyphicon-zoom-in[_ngcontent-fst-c64]:before{content:\"\\\\e015\"}.glyphicon-zoom-out[_ngcontent-fst-c64]:before{content:\"\\\\e016\"}.glyphicon-off[_ngcontent-fst-c64]:before{content:\"\\\\e017\"}.glyphicon-signal[_ngcontent-fst-c64]:before{content:\"\\\\e018\"}.glyphicon-cog[_ngcontent-fst-c64]:before{content:\"\\\\e019\"}.glyphicon-trash[_ngcontent-fst-c64]:before{content:\"\\\\e020\"}.glyphicon-home[_ngcontent-fst-c64]:before{content:\"\\\\e021\"}.glyphicon-file[_ngcontent-fst-c64]:before{content:\"\\\\e022\"}.glyphicon-time[_ngcontent-fst-c64]:before{content:\"\\\\e023\"}.glyphicon-road[_ngcontent-fst-c64]:before{content:\"\\\\e024\"}.glyphicon-download-alt[_ngcontent-fst-c64]:before{content:\"\\\\e025\"}.glyphicon-download[_ngcontent-fst-c64]:before{content:\"\\\\e026\"}.glyphicon-upload[_ngcontent-fst-c64]:before{content:\"\\\\e027\"}.glyphicon-inbox[_ngcontent-fst-c64]:before{content:\"\\\\e028\"}.glyphicon-play-circle[_ngcontent-fst-c64]:before{content:\"\\\\e029\"}.glyphicon-repeat[_ngcontent-fst-c64]:before{content:\"\\\\e030\"}.glyphicon-refresh[_ngcontent-fst-c64]:before{content:\"\\\\e031\"}.glyphicon-list-alt[_ngcontent-fst-c64]:before{content:\"\\\\e032\"}.glyphicon-lock[_ngcontent-fst-c64]:before{content:\"\\\\e033\"}.glyphicon-flag[_ngcontent-fst-c64]:before{content:\"\\\\e034\"}.glyphicon-headphones[_ngcontent-fst-c64]:before{content:\"\\\\e035\"}.glyphicon-volume-off[_ngcontent-fst-c64]:before{content:\"\\\\e036\"}.glyphicon-volume-down[_ngcontent-fst-c64]:before{content:\"\\\\e037\"}.glyphicon-volume-up[_ngcontent-fst-c64]:before{content:\"\\\\e038\"}.glyphicon-qrcode[_ngcontent-fst-c64]:before{content:\"\\\\e039\"}.glyphicon-barcode[_ngcontent-fst-c64]:before{content:\"\\\\e040\"}.glyphicon-tag[_ngcontent-fst-c64]:before{content:\"\\\\e041\"}.glyphicon-tags[_ngcontent-fst-c64]:before{content:\"\\\\e042\"}.glyphicon-book[_ngcontent-fst-c64]:before{content:\"\\\\e043\"}.glyphicon-bookmark[_ngcontent-fst-c64]:before{content:\"\\\\e044\"}.glyphicon-print[_ngcontent-fst-c64]:before{content:\"\\\\e045\"}.glyphicon-camera[_ngcontent-fst-c64]:before{content:\"\\\\e046\"}.glyphicon-font[_ngcontent-fst-c64]:before{content:\"\\\\e047\"}.glyphicon-bold[_ngcontent-fst-c64]:before{content:\"\\\\e048\"}.glyphicon-italic[_ngcontent-fst-c64]:before{content:\"\\\\e049\"}.glyphicon-text-height[_ngcontent-fst-c64]:before{content:\"\\\\e050\"}.glyphicon-text-width[_ngcontent-fst-c64]:before{content:\"\\\\e051\"}.glyphicon-align-left[_ngcontent-fst-c64]:before{content:\"\\\\e052\"}.glyphicon-align-center[_ngcontent-fst-c64]:before{content:\"\\\\e053\"}.glyphicon-align-right[_ngcontent-fst-c64]:before{content:\"\\\\e054\"}.glyphicon-align-justify[_ngcontent-fst-c64]:before{content:\"\\\\e055\"}.glyphicon-list[_ngcontent-fst-c64]:before{content:\"\\\\e056\"}.glyphicon-indent-left[_ngcontent-fst-c64]:before{content:\"\\\\e057\"}.glyphicon-indent-right[_ngcontent-fst-c64]:before{content:\"\\\\e058\"}.glyphicon-facetime-video[_ngcontent-fst-c64]:before{content:\"\\\\e059\"}.glyphicon-picture[_ngcontent-fst-c64]:before{content:\"\\\\e060\"}.glyphicon-map-marker[_ngcontent-fst-c64]:before{content:\"\\\\e062\"}.glyphicon-adjust[_ngcontent-fst-c64]:before{content:\"\\\\e063\"}.glyphicon-tint[_ngcontent-fst-c64]:before{content:\"\\\\e064\"}.glyphicon-edit[_ngcontent-fst-c64]:before{content:\"\\\\e065\"}.glyphicon-share[_ngcontent-fst-c64]:before{content:\"\\\\e066\"}.glyphicon-check[_ngcontent-fst-c64]:before{content:\"\\\\e067\"}.glyphicon-move[_ngcontent-fst-c64]:before{content:\"\\\\e068\"}.glyphicon-step-backward[_ngcontent-fst-c64]:before{content:\"\\\\e069\"}.glyphicon-fast-backward[_ngcontent-fst-c64]:before{content:\"\\\\e070\"}.glyphicon-backward[_ngcontent-fst-c64]:before{content:\"\\\\e071\"}.glyphicon-play[_ngcontent-fst-c64]:before{content:\"\\\\e072\"}.glyphicon-pause[_ngcontent-fst-c64]:before{content:\"\\\\e073\"}.glyphicon-stop[_ngcontent-fst-c64]:before{content:\"\\\\e074\"}.glyphicon-forward[_ngcontent-fst-c64]:before{content:\"\\\\e075\"}.glyphicon-fast-forward[_ngcontent-fst-c64]:before{content:\"\\\\e076\"}.glyphicon-step-forward[_ngcontent-fst-c64]:before{content:\"\\\\e077\"}.glyphicon-eject[_ngcontent-fst-c64]:before{content:\"\\\\e078\"}.glyphicon-chevron-left[_ngcontent-fst-c64]:before{content:\"\\\\e079\"}.glyphicon-chevron-right[_ngcontent-fst-c64]:before{content:\"\\\\e080\"}.glyphicon-plus-sign[_ngcontent-fst-c64]:before{content:\"\\\\e081\"}.glyphicon-minus-sign[_ngcontent-fst-c64]:before{content:\"\\\\e082\"}.glyphicon-remove-sign[_ngcontent-fst-c64]:before{content:\"\\\\e083\"}.glyphicon-ok-sign[_ngcontent-fst-c64]:before{content:\"\\\\e084\"}.glyphicon-question-sign[_ngcontent-fst-c64]:before{content:\"\\\\e085\"}.glyphicon-info-sign[_ngcontent-fst-c64]:before{content:\"\\\\e086\"}.glyphicon-screenshot[_ngcontent-fst-c64]:before{content:\"\\\\e087\"}.glyphicon-remove-circle[_ngcontent-fst-c64]:before{content:\"\\\\e088\"}.glyphicon-ok-circle[_ngcontent-fst-c64]:before{content:\"\\\\e089\"}.glyphicon-ban-circle[_ngcontent-fst-c64]:before{content:\"\\\\e090\"}.glyphicon-arrow-left[_ngcontent-fst-c64]:before{content:\"\\\\e091\"}.glyphicon-arrow-right[_ngcontent-fst-c64]:before{content:\"\\\\e092\"}.glyphicon-arrow-up[_ngcontent-fst-c64]:before{content:\"\\\\e093\"}.glyphicon-arrow-down[_ngcontent-fst-c64]:before{content:\"\\\\e094\"}.glyphicon-share-alt[_ngcontent-fst-c64]:before{content:\"\\\\e095\"}.glyphicon-resize-full[_ngcontent-fst-c64]:before{content:\"\\\\e096\"}.glyphicon-resize-small[_ngcontent-fst-c64]:before{content:\"\\\\e097\"}.glyphicon-exclamation-sign[_ngcontent-fst-c64]:before{content:\"\\\\e101\"}.glyphicon-gift[_ngcontent-fst-c64]:before{content:\"\\\\e102\"}.glyphicon-leaf[_ngcontent-fst-c64]:before{content:\"\\\\e103\"}.glyphicon-fire[_ngcontent-fst-c64]:before{content:\"\\\\e104\"}.glyphicon-eye-open[_ngcontent-fst-c64]:before{content:\"\\\\e105\"}.glyphicon-eye-close[_ngcontent-fst-c64]:before{content:\"\\\\e106\"}.glyphicon-warning-sign[_ngcontent-fst-c64]:before{content:\"\\\\e107\"}.glyphicon-plane[_ngcontent-fst-c64]:before{content:\"\\\\e108\"}.glyphicon-calendar[_ngcontent-fst-c64]:before{content:\"\\\\e109\"}.glyphicon-random[_ngcontent-fst-c64]:before{content:\"\\\\e110\"}.glyphicon-comment[_ngcontent-fst-c64]:before{content:\"\\\\e111\"}.glyphicon-magnet[_ngcontent-fst-c64]:before{content:\"\\\\e112\"}.glyphicon-chevron-up[_ngcontent-fst-c64]:before{content:\"\\\\e113\"}.glyphicon-chevron-down[_ngcontent-fst-c64]:before{content:\"\\\\e114\"}.glyphicon-retweet[_ngcontent-fst-c64]:before{content:\"\\\\e115\"}.glyphicon-shopping-cart[_ngcontent-fst-c64]:before{content:\"\\\\e116\"}.glyphicon-folder-close[_ngcontent-fst-c64]:before{content:\"\\\\e117\"}.glyphicon-folder-open[_ngcontent-fst-c64]:before{content:\"\\\\e118\"}.glyphicon-resize-vertical[_ngcontent-fst-c64]:before{content:\"\\\\e119\"}.glyphicon-resize-horizontal[_ngcontent-fst-c64]:before{content:\"\\\\e120\"}.glyphicon-hdd[_ngcontent-fst-c64]:before{content:\"\\\\e121\"}.glyphicon-bullhorn[_ngcontent-fst-c64]:before{content:\"\\\\e122\"}.glyphicon-bell[_ngcontent-fst-c64]:before{content:\"\\\\e123\"}.glyphicon-certificate[_ngcontent-fst-c64]:before{content:\"\\\\e124\"}.glyphicon-thumbs-up[_ngcontent-fst-c64]:before{content:\"\\\\e125\"}.glyphicon-thumbs-down[_ngcontent-fst-c64]:before{content:\"\\\\e126\"}.glyphicon-hand-right[_ngcontent-fst-c64]:before{content:\"\\\\e127\"}.glyphicon-hand-left[_ngcontent-fst-c64]:before{content:\"\\\\e128\"}.glyphicon-hand-up[_ngcontent-fst-c64]:before{content:\"\\\\e129\"}.glyphicon-hand-down[_ngcontent-fst-c64]:before{content:\"\\\\e130\"}.glyphicon-circle-arrow-right[_ngcontent-fst-c64]:before{content:\"\\\\e131\"}.glyphicon-circle-arrow-left[_ngcontent-fst-c64]:before{content:\"\\\\e132\"}.glyphicon-circle-arrow-up[_ngcontent-fst-c64]:before{content:\"\\\\e133\"}.glyphicon-circle-arrow-down[_ngcontent-fst-c64]:before{content:\"\\\\e134\"}.glyphicon-globe[_ngcontent-fst-c64]:before{content:\"\\\\e135\"}.glyphicon-wrench[_ngcontent-fst-c64]:before{content:\"\\\\e136\"}.glyphicon-tasks[_ngcontent-fst-c64]:before{content:\"\\\\e137\"}.glyphicon-filter[_ngcontent-fst-c64]:before{content:\"\\\\e138\"}.glyphicon-briefcase[_ngcontent-fst-c64]:before{content:\"\\\\e139\"}.glyphicon-fullscreen[_ngcontent-fst-c64]:before{content:\"\\\\e140\"}.glyphicon-dashboard[_ngcontent-fst-c64]:before{content:\"\\\\e141\"}.glyphicon-paperclip[_ngcontent-fst-c64]:before{content:\"\\\\e142\"}.glyphicon-heart-empty[_ngcontent-fst-c64]:before{content:\"\\\\e143\"}.glyphicon-link[_ngcontent-fst-c64]:before{content:\"\\\\e144\"}.glyphicon-phone[_ngcontent-fst-c64]:before{content:\"\\\\e145\"}.glyphicon-pushpin[_ngcontent-fst-c64]:before{content:\"\\\\e146\"}.glyphicon-usd[_ngcontent-fst-c64]:before{content:\"\\\\e148\"}.glyphicon-gbp[_ngcontent-fst-c64]:before{content:\"\\\\e149\"}.glyphicon-sort[_ngcontent-fst-c64]:before{content:\"\\\\e150\"}.glyphicon-sort-by-alphabet[_ngcontent-fst-c64]:before{content:\"\\\\e151\"}.glyphicon-sort-by-alphabet-alt[_ngcontent-fst-c64]:before{content:\"\\\\e152\"}.glyphicon-sort-by-order[_ngcontent-fst-c64]:before{content:\"\\\\e153\"}.glyphicon-sort-by-order-alt[_ngcontent-fst-c64]:before{content:\"\\\\e154\"}.glyphicon-sort-by-attributes[_ngcontent-fst-c64]:before{content:\"\\\\e155\"}.glyphicon-sort-by-attributes-alt[_ngcontent-fst-c64]:before{content:\"\\\\e156\"}.glyphicon-unchecked[_ngcontent-fst-c64]:before{content:\"\\\\e157\"}.glyphicon-expand[_ngcontent-fst-c64]:before{content:\"\\\\e158\"}.glyphicon-collapse-down[_ngcontent-fst-c64]:before{content:\"\\\\e159\"}.glyphicon-collapse-up[_ngcontent-fst-c64]:before{content:\"\\\\e160\"}.glyphicon-log-in[_ngcontent-fst-c64]:before{content:\"\\\\e161\"}.glyphicon-flash[_ngcontent-fst-c64]:before{content:\"\\\\e162\"}.glyphicon-log-out[_ngcontent-fst-c64]:before{content:\"\\\\e163\"}.glyphicon-new-window[_ngcontent-fst-c64]:before{content:\"\\\\e164\"}.glyphicon-record[_ngcontent-fst-c64]:before{content:\"\\\\e165\"}.glyphicon-save[_ngcontent-fst-c64]:before{content:\"\\\\e166\"}.glyphicon-open[_ngcontent-fst-c64]:before{content:\"\\\\e167\"}.glyphicon-saved[_ngcontent-fst-c64]:before{content:\"\\\\e168\"}.glyphicon-import[_ngcontent-fst-c64]:before{content:\"\\\\e169\"}.glyphicon-export[_ngcontent-fst-c64]:before{content:\"\\\\e170\"}.glyphicon-send[_ngcontent-fst-c64]:before{content:\"\\\\e171\"}.glyphicon-floppy-disk[_ngcontent-fst-c64]:before{content:\"\\\\e172\"}.glyphicon-floppy-saved[_ngcontent-fst-c64]:before{content:\"\\\\e173\"}.glyphicon-floppy-remove[_ngcontent-fst-c64]:before{content:\"\\\\e174\"}.glyphicon-floppy-save[_ngcontent-fst-c64]:before{content:\"\\\\e175\"}.glyphicon-floppy-open[_ngcontent-fst-c64]:before{content:\"\\\\e176\"}.glyphicon-credit-card[_ngcontent-fst-c64]:before{content:\"\\\\e177\"}.glyphicon-transfer[_ngcontent-fst-c64]:before{content:\"\\\\e178\"}.glyphicon-cutlery[_ngcontent-fst-c64]:before{content:\"\\\\e179\"}.glyphicon-header[_ngcontent-fst-c64]:before{content:\"\\\\e180\"}.glyphicon-compressed[_ngcontent-fst-c64]:before{content:\"\\\\e181\"}.glyphicon-earphone[_ngcontent-fst-c64]:before{content:\"\\\\e182\"}.glyphicon-phone-alt[_ngcontent-fst-c64]:before{content:\"\\\\e183\"}.glyphicon-tower[_ngcontent-fst-c64]:before{content:\"\\\\e184\"}.glyphicon-stats[_ngcontent-fst-c64]:before{content:\"\\\\e185\"}.glyphicon-sd-video[_ngcontent-fst-c64]:before{content:\"\\\\e186\"}.glyphicon-hd-video[_ngcontent-fst-c64]:before{content:\"\\\\e187\"}.glyphicon-subtitles[_ngcontent-fst-c64]:before{content:\"\\\\e188\"}.glyphicon-sound-stereo[_ngcontent-fst-c64]:before{content:\"\\\\e189\"}.glyphicon-sound-dolby[_ngcontent-fst-c64]:before{content:\"\\\\e190\"}.glyphicon-sound-5-1[_ngcontent-fst-c64]:before{content:\"\\\\e191\"}.glyphicon-sound-6-1[_ngcontent-fst-c64]:before{content:\"\\\\e192\"}.glyphicon-sound-7-1[_ngcontent-fst-c64]:before{content:\"\\\\e193\"}.glyphicon-copyright-mark[_ngcontent-fst-c64]:before{content:\"\\\\e194\"}.glyphicon-registration-mark[_ngcontent-fst-c64]:before{content:\"\\\\e195\"}.glyphicon-cloud-download[_ngcontent-fst-c64]:before{content:\"\\\\e197\"}.glyphicon-cloud-upload[_ngcontent-fst-c64]:before{content:\"\\\\e198\"}.glyphicon-tree-conifer[_ngcontent-fst-c64]:before{content:\"\\\\e199\"}.glyphicon-tree-deciduous[_ngcontent-fst-c64]:before{content:\"\\\\e200\"}.glyphicon-cd[_ngcontent-fst-c64]:before{content:\"\\\\e201\"}.glyphicon-save-file[_ngcontent-fst-c64]:before{content:\"\\\\e202\"}.glyphicon-open-file[_ngcontent-fst-c64]:before{content:\"\\\\e203\"}.glyphicon-level-up[_ngcontent-fst-c64]:before{content:\"\\\\e204\"}.glyphicon-copy[_ngcontent-fst-c64]:before{content:\"\\\\e205\"}.glyphicon-paste[_ngcontent-fst-c64]:before{content:\"\\\\e206\"}.glyphicon-alert[_ngcontent-fst-c64]:before{content:\"\\\\e209\"}.glyphicon-equalizer[_ngcontent-fst-c64]:before{content:\"\\\\e210\"}.glyphicon-king[_ngcontent-fst-c64]:before{content:\"\\\\e211\"}.glyphicon-queen[_ngcontent-fst-c64]:before{content:\"\\\\e212\"}.glyphicon-pawn[_ngcontent-fst-c64]:before{content:\"\\\\e213\"}.glyphicon-bishop[_ngcontent-fst-c64]:before{content:\"\\\\e214\"}.glyphicon-knight[_ngcontent-fst-c64]:before{content:\"\\\\e215\"}.glyphicon-baby-formula[_ngcontent-fst-c64]:before{content:\"\\\\e216\"}.glyphicon-tent[_ngcontent-fst-c64]:before{content:\"\\\\26fa\"}.glyphicon-blackboard[_ngcontent-fst-c64]:before{content:\"\\\\e218\"}.glyphicon-bed[_ngcontent-fst-c64]:before{content:\"\\\\e219\"}.glyphicon-apple[_ngcontent-fst-c64]:before{content:\"\\\\f8ff\"}.glyphicon-erase[_ngcontent-fst-c64]:before{content:\"\\\\e221\"}.glyphicon-hourglass[_ngcontent-fst-c64]:before{content:\"\\\\231b\"}.glyphicon-lamp[_ngcontent-fst-c64]:before{content:\"\\\\e223\"}.glyphicon-duplicate[_ngcontent-fst-c64]:before{content:\"\\\\e224\"}.glyphicon-piggy-bank[_ngcontent-fst-c64]:before{content:\"\\\\e225\"}.glyphicon-scissors[_ngcontent-fst-c64]:before{content:\"\\\\e226\"}.glyphicon-bitcoin[_ngcontent-fst-c64]:before, .glyphicon-btc[_ngcontent-fst-c64]:before, .glyphicon-xbt[_ngcontent-fst-c64]:before{content:\"\\\\e227\"}.glyphicon-jpy[_ngcontent-fst-c64]:before, .glyphicon-yen[_ngcontent-fst-c64]:before{content:\"\\\\00a5\"}.glyphicon-rub[_ngcontent-fst-c64]:before, .glyphicon-ruble[_ngcontent-fst-c64]:before{content:\"\\\\20bd\"}.glyphicon-scale[_ngcontent-fst-c64]:before{content:\"\\\\e230\"}.glyphicon-ice-lolly[_ngcontent-fst-c64]:before{content:\"\\\\e231\"}.glyphicon-ice-lolly-tasted[_ngcontent-fst-c64]:before{content:\"\\\\e232\"}.glyphicon-education[_ngcontent-fst-c64]:before{content:\"\\\\e233\"}.glyphicon-option-horizontal[_ngcontent-fst-c64]:before{content:\"\\\\e234\"}.glyphicon-option-vertical[_ngcontent-fst-c64]:before{content:\"\\\\e235\"}.glyphicon-menu-hamburger[_ngcontent-fst-c64]:before{content:\"\\\\e236\"}.glyphicon-modal-window[_ngcontent-fst-c64]:before{content:\"\\\\e237\"}.glyphicon-oil[_ngcontent-fst-c64]:before{content:\"\\\\e238\"}.glyphicon-grain[_ngcontent-fst-c64]:before{content:\"\\\\e239\"}.glyphicon-sunglasses[_ngcontent-fst-c64]:before{content:\"\\\\e240\"}.glyphicon-text-size[_ngcontent-fst-c64]:before{content:\"\\\\e241\"}.glyphicon-text-color[_ngcontent-fst-c64]:before{content:\"\\\\e242\"}.glyphicon-text-background[_ngcontent-fst-c64]:before{content:\"\\\\e243\"}.glyphicon-object-align-top[_ngcontent-fst-c64]:before{content:\"\\\\e244\"}.glyphicon-object-align-bottom[_ngcontent-fst-c64]:before{content:\"\\\\e245\"}.glyphicon-object-align-horizontal[_ngcontent-fst-c64]:before{content:\"\\\\e246\"}.glyphicon-object-align-left[_ngcontent-fst-c64]:before{content:\"\\\\e247\"}.glyphicon-object-align-vertical[_ngcontent-fst-c64]:before{content:\"\\\\e248\"}.glyphicon-object-align-right[_ngcontent-fst-c64]:before{content:\"\\\\e249\"}.glyphicon-triangle-right[_ngcontent-fst-c64]:before{content:\"\\\\e250\"}.glyphicon-triangle-left[_ngcontent-fst-c64]:before{content:\"\\\\e251\"}.glyphicon-triangle-bottom[_ngcontent-fst-c64]:before{content:\"\\\\e252\"}.glyphicon-triangle-top[_ngcontent-fst-c64]:before{content:\"\\\\e253\"}.glyphicon-console[_ngcontent-fst-c64]:before{content:\"\\\\e254\"}.glyphicon-superscript[_ngcontent-fst-c64]:before{content:\"\\\\e255\"}.glyphicon-subscript[_ngcontent-fst-c64]:before{content:\"\\\\e256\"}.glyphicon-menu-left[_ngcontent-fst-c64]:before{content:\"\\\\e257\"}.glyphicon-menu-right[_ngcontent-fst-c64]:before{content:\"\\\\e258\"}.glyphicon-menu-down[_ngcontent-fst-c64]:before{content:\"\\\\e259\"}.glyphicon-menu-up[_ngcontent-fst-c64]:before{content:\"\\\\e260\"}</style><style>@font-face{font-family:onpe;src:url(onpe.cfae7b7aa6df056a16b4.eot?cjgfmj);src:url(onpe.cfae7b7aa6df056a16b4.eot?cjgfmj#iefix) format(\"embedded-opentype\"),url(onpe.dbdf35b27707f916328f.woff?cjgfmj) format(\"woff\"),url(onpe.98aa4bed3b925268dde6.svg?cjgfmj#onpe) format(\"svg\");font-weight:400;font-style:normal}@font-face{font-family:Michroma;src:url(Michroma.ace9ad8efc608262b70a.eot);src:url(Michroma.ace9ad8efc608262b70a.eot?#iefix) format(\"embedded-opentype\"),url(Michroma.712d9237b077a63586be.woff) format(\"woff\"),url(Michroma.30c88f7bd134d7118404.svg#Michroma) format(\"svg\");font-weight:400;font-style:normal}@font-face{font-family:Harabara;src:url(Harabara_3.ca41fa74d8a3e15854eb.eot);src:url(Harabara_3.ca41fa74d8a3e15854eb.eot?#iefix) format(\"embedded-opentype\"),url(Harabara_3.0d6c56aaeea115e76557.woff) format(\"woff\"),url(Harabara_3.422515099ebc1b30aac5.svg#Harabara_3) format(\"svg\");font-weight:400;font-style:normal}@font-face{font-family:GillSansMT;src:url(GillSansMT.b843c4e837c3cba8aa70.eot);src:url(GillSansMT.b843c4e837c3cba8aa70.eot?#iefix) format(\"embedded-opentype\"),url(GillSansMT.efa8f71cfc96580a44a3.woff) format(\"woff\"),url(GillSansMT.7b4c4c1d788468fdf68b.svg#GillSansMT) format(\"svg\");font-weight:400;font-style:normal}@font-face{font-family:GillSansMT;src:url(GillSansMT-Bold.0ee4780f0ba20d53521c.eot);src:url(GillSansMT-Bold.b57772d306ac9bb42ff6.woff) format(\"woff\"),url(GillSansMT-Bold.9dde853d1ef428e613ee.svg#GillSansMT-Bold) format(\"svg\");font-weight:700;font-style:normal}.tabla_resumen_pc[_ngcontent-fst-c64]{display:block}.tabla_resumen_movil[_ngcontent-fst-c64]{display:none}.bg_departamentos[_ngcontent-fst-c64]{height:333px;width:100%;background-image:url(lima.a759ad236074c903551f.jpg);position:relative;margin-bottom:20px;background-size:cover}.bg_departamentos[_ngcontent-fst-c64]   .tabla_distritoelecoral[_ngcontent-fst-c64]{width:calc(100% - 20px);background-color:rgba(0,0,0,.6);color:#fff;position:absolute;bottom:10px;margin-bottom:0;margin-left:10px}.bg_departamentos[_ngcontent-fst-c64]   .tabla_distritoelecoral[_ngcontent-fst-c64]   td[_ngcontent-fst-c64]{border-top:none}.bg_departamentos[_ngcontent-fst-c64]   .tabla_distritoelecoral[_ngcontent-fst-c64]   .borde_blanco[_ngcontent-fst-c64]{border-left:1px solid #fff}.bg_sin_departamentos[_ngcontent-fst-c64]   td[_ngcontent-fst-c64]{border-right:1px solid #dee2e6;border-bottom:1px solid #dee2e6}[class*=\" icon-\"][_ngcontent-fst-c64], [class^=icon-][_ngcontent-fst-c64]{font-family:onpe!important;speak:none;font-style:normal;font-weight:400;font-variant:normal;text-transform:none;line-height:1;-webkit-font-smoothing:antialiased;-moz-osx-font-smoothing:grayscale}select[_ngcontent-fst-c64]{border:1px solid #8ea3a6}.icon-resumengeneral[_ngcontent-fst-c64]:before{content:\"\\\\e909\"}.icon-elec_regional[_ngcontent-fst-c64]:before{content:\"\\\\e901\"}.icon-elec_municipal[_ngcontent-fst-c64]:before{content:\"\\\\e902\"}.icon-actas[_ngcontent-fst-c64]:before{content:\"\\\\e900\"}.icon-participacion[_ngcontent-fst-c64]:before{content:\"\\\\e903\"}.icon-impresora[_ngcontent-fst-c64]:before{content:\"\\\\e904\"}.icon-barras[_ngcontent-fst-c64]:before{content:\"\\\\e905\"}.icon-info[_ngcontent-fst-c64]:before{content:\"\\\\e906\"}.icon-regresar[_ngcontent-fst-c64]:before{content:\"\\\\e907\"}.icon-buscar[_ngcontent-fst-c64]:before{content:\"\\\\e908\"}.icon-excel[_ngcontent-fst-c64]:before{content:\"\\\\e910\"}.icon-pdf[_ngcontent-fst-c64]:before{content:\"\\\\e911\"}.icon-ico_face[_ngcontent-fst-c64]:before{content:\"\\\\e912\"}.icon-ico_twitter[_ngcontent-fst-c64]:before{content:\"\\\\e913\"}.icon-ico_youtube[_ngcontent-fst-c64]:before{content:\"\\\\e914\"}.icon-ico_google[_ngcontent-fst-c64]:before{content:\"\\\\e915\"}.icon-ico_flickr[_ngcontent-fst-c64]:before{content:\"\\\\e916\"}.icon-ico_instagram[_ngcontent-fst-c64]:before{content:\"\\\\e917\"}.icon-ico_presidencial[_ngcontent-fst-c64]:before{content:\"\\\\e918\"}.icon-ico_d[_ngcontent-fst-c64]:before{content:\"\\\\e919\"}.icon-ico_congresal[_ngcontent-fst-c64]:before{content:\"\\\\e920\"}@font-face{font-family:Roboto;src:url(Roboto-Regular.18b9c674e55e6a14cfc3.eot);src:url(Roboto-Regular.18b9c674e55e6a14cfc3.eot?#iefix) format(\"embedded-opentype\"),url(Roboto-Regular.33a606d57e602ee71cbf.woff) format(\"woff\"),url(Roboto-Regular.3c73f832eb8eea27f132.svg#Roboto-Regular) format(\"svg\");font-weight:400;font-style:normal}@font-face{font-family:Roboto Condensed;src:url(RobotoCondensed-Regular_1.03817afbc5a5cb4cbb0f.eot);src:url(RobotoCondensed-Regular_1.03817afbc5a5cb4cbb0f.eot?#iefix) format(\"embedded-opentype\"),url(RobotoCondensed-Regular_1.98ef0e4f12856e641bf4.woff) format(\"woff\"),url(RobotoCondensed-Regular_1.86d0a588cf68a1147863.svg#RobotoCondensed-Regular_1) format(\"svg\");font-weight:400;font-style:normal}body[_ngcontent-fst-c64]{font-family:Roboto,sans-serif!important;font-size:16px}a[_ngcontent-fst-c64]:hover{cursor:pointer}.body_404[_ngcontent-fst-c64]{padding-bottom:180px}.body_404[_ngcontent-fst-c64], header[_ngcontent-fst-c64]{position:relative}header[_ngcontent-fst-c64]{text-align:center;background:#374e91;color:#fff;margin-bottom:20px}header[_ngcontent-fst-c64]   h1[_ngcontent-fst-c64]{width:100%;font-family:Roboto;font-size:1.5em;margin:0 0 .3em}header[_ngcontent-fst-c64]   h2[_ngcontent-fst-c64]{width:100%;margin:0;font-family:GillSansMT,sans-serif!important;line-height:1em;font-size:2.1em;font-weight:700}header[_ngcontent-fst-c64]   .logo_eg2021[_ngcontent-fst-c64]{width:auto;height:150px}.bg_home[_ngcontent-fst-c64]{background:url(bg_home.f7464546728ba82408dc.jpg);margin-top:190px;z-index:-2}.col-60[_ngcontent-fst-c64]{width:60%;float:left}.col-40[_ngcontent-fst-c64]{width:40%;float:right;position:relative}.conte_botones[_ngcontent-fst-c64]{width:100%;float:right;border-radius:15px;overflow:hidden;margin-bottom:20px}.conte_botones[_ngcontent-fst-c64]   a[_ngcontent-fst-c64]{color:#fff}.conte_botones[_ngcontent-fst-c64]   a[_ngcontent-fst-c64]   .glyphicon[_ngcontent-fst-c64]{transition:all .3s}.conte_botones[_ngcontent-fst-c64]   a[_ngcontent-fst-c64]   .linea1[_ngcontent-fst-c64]{margin-top:10px}.conte_botones[_ngcontent-fst-c64]   a[_ngcontent-fst-c64]   .bg_municipales[_ngcontent-fst-c64]{width:100%;height:300px;background:url(municipales.767f5449163bfa91dcf1.jpg) no-repeat;background-size:100% auto;transition:all .7s}.conte_botones[_ngcontent-fst-c64]   a[_ngcontent-fst-c64]:hover{color:#fff;text-decoration:none}.conte_botones[_ngcontent-fst-c64]   a[_ngcontent-fst-c64]:hover   .glyphicon[_ngcontent-fst-c64]{margin-left:5px}.conte_botones[_ngcontent-fst-c64]   a[_ngcontent-fst-c64]:hover   .bg_municipales[_ngcontent-fst-c64]{width:100%;height:300px;background:url(municipales.767f5449163bfa91dcf1.jpg) no-repeat;background-size:130% auto}.home_botonera[_ngcontent-fst-c64]{width:100%;padding:20px 10px 10px;overflow:hidden}.home_botonera[_ngcontent-fst-c64]   .conte_botones[_ngcontent-fst-c64]{width:50%;float:left;padding:0 10px;margin-bottom:20px}.home_botonera[_ngcontent-fst-c64]   .conte_botones[_ngcontent-fst-c64]   a[_ngcontent-fst-c64]{color:#fff}.home_botonera[_ngcontent-fst-c64]   .conte_botones[_ngcontent-fst-c64]   a[_ngcontent-fst-c64]   .glyphicon[_ngcontent-fst-c64]{transition:all .3s}.home_botonera[_ngcontent-fst-c64]   .conte_botones[_ngcontent-fst-c64]   a[_ngcontent-fst-c64]   .linea1[_ngcontent-fst-c64]{margin-top:10px}.home_botonera[_ngcontent-fst-c64]   .conte_botones[_ngcontent-fst-c64]   a[_ngcontent-fst-c64]   .bg_municipales[_ngcontent-fst-c64]{width:100%;height:300px;background:url(municipales.767f5449163bfa91dcf1.jpg) no-repeat;background-size:100% auto;transition:all .7s}.home_botonera[_ngcontent-fst-c64]   .conte_botones[_ngcontent-fst-c64]   a[_ngcontent-fst-c64]:hover{color:#fff;text-decoration:none}.home_botonera[_ngcontent-fst-c64]   .conte_botones[_ngcontent-fst-c64]   a[_ngcontent-fst-c64]:hover   .glyphicon[_ngcontent-fst-c64]{margin-top:5px}.home_botonera[_ngcontent-fst-c64]   .conte_botones[_ngcontent-fst-c64]   a[_ngcontent-fst-c64]:hover   .bg_municipales[_ngcontent-fst-c64]{width:100%;height:300px;background:url(municipales.767f5449163bfa91dcf1.jpg) no-repeat;background-size:130% auto}.banner_home[_ngcontent-fst-c64]{background:url(banner.d2ba41d4355ce6692e52.jpg) #444c61 no-repeat;background-size:100% auto;min-height:267px;margin-bottom:20px;text-align:center;position:relative}.banner_home[_ngcontent-fst-c64]   h3[_ngcontent-fst-c64]{display:inline-block;font-size:2.5em;color:#fff;margin-top:-.1em;width:100%;left:0;text-align:center;text-shadow:0 0 8px #000;font-family:GillSansMT;font-weight:700}.banner_erm[_ngcontent-fst-c64]{width:70%;float:left;background:url(bg_01.563097fd994657699033.jpg) #e2e2e2 no-repeat;background-size:100% auto;padding-bottom:4.5%;position:relative;margin-bottom:20px}.banner_erm[_ngcontent-fst-c64]   .mapa_inicio[_ngcontent-fst-c64]{width:40%;height:auto;margin-top:10%;margin-left:10%;padding-bottom:3%}.banner_homeeg2021[_ngcontent-fst-c64]{margin-top:-170px;margin-bottom:20px;position:relative}.banner_homeeg2021[_ngcontent-fst-c64]   .bg_bannereg2021[_ngcontent-fst-c64]{width:100%;max-width:100%}.banner_homeeg2021[_ngcontent-fst-c64]   .conte_btns_home_banner[_ngcontent-fst-c64]{width:28%;position:absolute;left:36%;bottom:8%}.banner_homeeg2021[_ngcontent-fst-c64]   .conte_btns_home_banner[_ngcontent-fst-c64]   a[_ngcontent-fst-c64]{width:100%;display:block;color:#fff;margin-bottom:10px}.banner_homeeg2021[_ngcontent-fst-c64]   .conte_btns_home_banner[_ngcontent-fst-c64]   a[_ngcontent-fst-c64]   .btn_informativa[_ngcontent-fst-c64]{padding-top:15px;padding-bottom:15px;padding-left:30px;text-align:center;position:relative}.banner_homeeg2021[_ngcontent-fst-c64]   .conte_btns_home_banner[_ngcontent-fst-c64]   a[_ngcontent-fst-c64]   .glyphicon[_ngcontent-fst-c64]{transition:all .3s}.banner_homeeg2021[_ngcontent-fst-c64]   .conte_btns_home_banner[_ngcontent-fst-c64]   a[_ngcontent-fst-c64]:hover{color:#fff;text-decoration:none}.banner_homeeg2021[_ngcontent-fst-c64]   .conte_btns_home_banner[_ngcontent-fst-c64]   a[_ngcontent-fst-c64]:hover   .glyphicon[_ngcontent-fst-c64]{margin-left:5px}.banner_homeeg2021[_ngcontent-fst-c64]   .conte_btns_home_banner[_ngcontent-fst-c64]   .btn01[_ngcontent-fst-c64]{background:#374e91}.banner_homeeg2021[_ngcontent-fst-c64]   .conte_btns_home_banner[_ngcontent-fst-c64]   .btn02[_ngcontent-fst-c64]{background:#8d9dc3}.banner_emc[_ngcontent-fst-c64]{width:100%;float:left;background:url(bg_01.563097fd994657699033.jpg) #e2e2e2 no-repeat;background-size:100% auto;padding-bottom:0;position:relative;margin-bottom:20px}.banner_emc[_ngcontent-fst-c64]   .mapa_inicio[_ngcontent-fst-c64]{width:39.4%;height:auto;margin-top:.1%;margin-left:0;padding-bottom:0}.banner_emc[_ngcontent-fst-c64]   .transparente[_ngcontent-fst-c64]{width:.87%;height:auto;margin-left:0;padding-bottom:0}.banner_emc[_ngcontent-fst-c64]   .btn_informativa[_ngcontent-fst-c64]{width:30%;position:absolute;right:3%;bottom:5%}.banner_emc[_ngcontent-fst-c64]   .btn_informativa[_ngcontent-fst-c64]   a[_ngcontent-fst-c64]{color:#fff;margin-bottom:.5em}.banner_emc[_ngcontent-fst-c64]   .btn_informativa[_ngcontent-fst-c64]   a[_ngcontent-fst-c64]   .btn01[_ngcontent-fst-c64]{margin-top:1em}.banner_emc[_ngcontent-fst-c64]   .btn_informativa[_ngcontent-fst-c64]   a[_ngcontent-fst-c64]   .glyphicon[_ngcontent-fst-c64]{transition:all .3s}.banner_emc[_ngcontent-fst-c64]   .btn_informativa[_ngcontent-fst-c64]   a[_ngcontent-fst-c64]:hover{color:#fff;text-decoration:none}.banner_emc[_ngcontent-fst-c64]   .btn_informativa[_ngcontent-fst-c64]   a[_ngcontent-fst-c64]:hover   .glyphicon[_ngcontent-fst-c64]{margin-top:5px}.btn_home[_ngcontent-fst-c64]{display:block;clear:both;min-height:50px;text-align:center;padding:15px 10px 15px 20px;color:#fff;position:relative}.btn01[_ngcontent-fst-c64]{background-color:#374e91}.btn02[_ngcontent-fst-c64]{background-color:maroon}.btn03[_ngcontent-fst-c64]{background-color:#8d9dc3}.btn04[_ngcontent-fst-c64]{background-color:grey}.btn05[_ngcontent-fst-c64]{background-color:#b38320}.btn06[_ngcontent-fst-c64]{background-color:#832c31}.flechita_botones[_ngcontent-fst-c64]{position:absolute;left:10px;top:20px}.pic[_ngcontent-fst-c64]{width:100%;padding-top:52%;position:relative;overflow:hidden;float:left}.pic[_ngcontent-fst-c64]   img[_ngcontent-fst-c64]{width:100%;height:auto;position:absolute;top:0;left:0;bottom:0;right:0;transition:all .7s ease}.pic[_ngcontent-fst-c64]:hover{cursor:pointer}.pic[_ngcontent-fst-c64]:hover   img[_ngcontent-fst-c64]{width:110%;height:auto}.logo_home[_ngcontent-fst-c64]{width:50%;height:auto;margin-left:auto;margin-right:auto}.bottom20[_ngcontent-fst-c64]{margin-bottom:20px}.negrita[_ngcontent-fst-c64]{font-weight:700}.logo_onpe[_ngcontent-fst-c64]{float:right}.logo_onpe[_ngcontent-fst-c64]   img[_ngcontent-fst-c64]{width:125px;height:auto}.logo_eleccion[_ngcontent-fst-c64]{float:left;margin-left:-15px}.menuprincipal[_ngcontent-fst-c64]{text-align:center}.menuprincipal[_ngcontent-fst-c64]   .navbar[_ngcontent-fst-c64]{float:right}.menuprincipal[_ngcontent-fst-c64]   .icono_togglemenu[_ngcontent-fst-c64]{display:none}.menuprincipal[_ngcontent-fst-c64]   a[_ngcontent-fst-c64]{display:block;width:100%;background:#fff;color:#374e91;min-height:69px;line-height:66px;margin-bottom:20px;font-size:1em;border-bottom:6px solid #be372e}.menuprincipal[_ngcontent-fst-c64]   a[_ngcontent-fst-c64]   .ico_menu[_ngcontent-fst-c64]{font-size:2.2em;margin-right:10px}.menuprincipal[_ngcontent-fst-c64]   a[_ngcontent-fst-c64]   .texto_menu[_ngcontent-fst-c64]{display:inline-block;line-height:1em;max-width:calc(100% - 63px)}.menuprincipal[_ngcontent-fst-c64]   .btn_azul[_ngcontent-fst-c64]{border-left:10px solid #374e91;transition:all .3s}.menuprincipal[_ngcontent-fst-c64]   .azul_activo[_ngcontent-fst-c64], .menuprincipal[_ngcontent-fst-c64]   .btn_azul[_ngcontent-fst-c64]:active, .menuprincipal[_ngcontent-fst-c64]   .btn_azul[_ngcontent-fst-c64]:hover{background:#374e91;color:#fff;text-decoration:none}.menuprincipal[_ngcontent-fst-c64]   .azul_activo[_ngcontent-fst-c64]   .ico_menu[_ngcontent-fst-c64], .menuprincipal[_ngcontent-fst-c64]   .btn_azul[_ngcontent-fst-c64]:active   .ico_menu[_ngcontent-fst-c64], .menuprincipal[_ngcontent-fst-c64]   .btn_azul[_ngcontent-fst-c64]:hover   .ico_menu[_ngcontent-fst-c64]{fill:#fff}.menuprincipal[_ngcontent-fst-c64]   .btn_acero[_ngcontent-fst-c64]{border-left:10px solid #5f7a98;transition:all .3s}.menuprincipal[_ngcontent-fst-c64]   .acero_activo[_ngcontent-fst-c64], .menuprincipal[_ngcontent-fst-c64]   .btn_acero[_ngcontent-fst-c64]:active, .menuprincipal[_ngcontent-fst-c64]   .btn_acero[_ngcontent-fst-c64]:hover{background:#5f7a98;color:#fff;text-decoration:none}.menuprincipal[_ngcontent-fst-c64]   .acero_activo[_ngcontent-fst-c64]   .ico_menu[_ngcontent-fst-c64], .menuprincipal[_ngcontent-fst-c64]   .btn_acero[_ngcontent-fst-c64]:active   .ico_menu[_ngcontent-fst-c64], .menuprincipal[_ngcontent-fst-c64]   .btn_acero[_ngcontent-fst-c64]:hover   .ico_menu[_ngcontent-fst-c64]{fill:#fff}.menuprincipal[_ngcontent-fst-c64]   .btn_dorado[_ngcontent-fst-c64]{border-left:10px solid #b38320;transition:all .3s}.menuprincipal[_ngcontent-fst-c64]   .btn_dorado[_ngcontent-fst-c64]:active, .menuprincipal[_ngcontent-fst-c64]   .btn_dorado[_ngcontent-fst-c64]:hover, .menuprincipal[_ngcontent-fst-c64]   .dorado_activo[_ngcontent-fst-c64]{background:#b38320;color:#fff;text-decoration:none}.menuprincipal[_ngcontent-fst-c64]   .btn_dorado[_ngcontent-fst-c64]:active   .ico_menu[_ngcontent-fst-c64], .menuprincipal[_ngcontent-fst-c64]   .btn_dorado[_ngcontent-fst-c64]:hover   .ico_menu[_ngcontent-fst-c64], .menuprincipal[_ngcontent-fst-c64]   .dorado_activo[_ngcontent-fst-c64]   .ico_menu[_ngcontent-fst-c64]{fill:#fff}.menuprincipal[_ngcontent-fst-c64]   .btn_celeste[_ngcontent-fst-c64]{border-left:10px solid #3471a6;transition:all .3s}.menuprincipal[_ngcontent-fst-c64]   .btn_celeste[_ngcontent-fst-c64]:active, .menuprincipal[_ngcontent-fst-c64]   .btn_celeste[_ngcontent-fst-c64]:hover, .menuprincipal[_ngcontent-fst-c64]   .celeste_activo[_ngcontent-fst-c64]{background:#3471a6;color:#fff;text-decoration:none}.menuprincipal[_ngcontent-fst-c64]   .btn_celeste[_ngcontent-fst-c64]:active   .ico_menu[_ngcontent-fst-c64], .menuprincipal[_ngcontent-fst-c64]   .btn_celeste[_ngcontent-fst-c64]:hover   .ico_menu[_ngcontent-fst-c64], .menuprincipal[_ngcontent-fst-c64]   .celeste_activo[_ngcontent-fst-c64]   .ico_menu[_ngcontent-fst-c64]{fill:#fff}.menuprincipal[_ngcontent-fst-c64]   .btn_rojo[_ngcontent-fst-c64]{transition:all .3s}.menuprincipal[_ngcontent-fst-c64]   .btn_rojo[_ngcontent-fst-c64]:active, .menuprincipal[_ngcontent-fst-c64]   .btn_rojo[_ngcontent-fst-c64]:hover, .menuprincipal[_ngcontent-fst-c64]   .rojo_activo[_ngcontent-fst-c64]{background:#be372e;color:#fff;text-decoration:none}.menuprincipal[_ngcontent-fst-c64]   .btn_rojo[_ngcontent-fst-c64]:active   .ico_menu[_ngcontent-fst-c64], .menuprincipal[_ngcontent-fst-c64]   .btn_rojo[_ngcontent-fst-c64]:hover   .ico_menu[_ngcontent-fst-c64], .menuprincipal[_ngcontent-fst-c64]   .rojo_activo[_ngcontent-fst-c64]   .ico_menu[_ngcontent-fst-c64]{fill:#fff}.tabs_submenu[_ngcontent-fst-c64]{border-bottom:6px solid #8d9dc3}.nav-item[_ngcontent-fst-c64], .nav-itemactas[_ngcontent-fst-c64]{margin-right:3px;margin-bottom:0!important}.nav-tabs[_ngcontent-fst-c64]   .nav-link[_ngcontent-fst-c64]{background:#e2e2e2;color:#0f2241}.nav-tabs[_ngcontent-fst-c64]   .active[_ngcontent-fst-c64], .nav-tabs[_ngcontent-fst-c64]   .nav-link[_ngcontent-fst-c64]:hover{background:#8d9dc3!important;border:1px solid #8d9dc3!important;color:#fff!important}.subtitulo[_ngcontent-fst-c64]{display:flex;align-items:center;background:#3e679b;color:#fff;min-height:47px;margin-bottom:20px;border-left:14px solid #8aa3c2;padding-left:30px;position:relative}.subtitulo[_ngcontent-fst-c64]   h2[_ngcontent-fst-c64]{margin:0;padding:0;font-size:2.125em;font-family:Roboto Condensed,sans-serif}.subtitulo[_ngcontent-fst-c64]   span[_ngcontent-fst-c64]{display:block}.subtitulo[_ngcontent-fst-c64]   .botonera_print[_ngcontent-fst-c64]{position:absolute;bottom:10px;right:10px}.subtitulo[_ngcontent-fst-c64]   .btn_print[_ngcontent-fst-c64]{border:1px solid #fff;color:#fff;margin-left:7px;padding:2px 10px 0}.subtitulo[_ngcontent-fst-c64]   .btn_print[_ngcontent-fst-c64]   .icon-excel[_ngcontent-fst-c64], .subtitulo[_ngcontent-fst-c64]   .btn_print[_ngcontent-fst-c64]   .icon-impresora[_ngcontent-fst-c64], .subtitulo[_ngcontent-fst-c64]   .btn_print[_ngcontent-fst-c64]   .icon-pdf[_ngcontent-fst-c64]{display:inline-block;margin-right:5px}.subtitulo[_ngcontent-fst-c64]   .btn_print[_ngcontent-fst-c64]:hover{background:#fff!important;color:#3e679b!important;text-decoration:none}.subtitulo_azul[_ngcontent-fst-c64]{display:flex;align-items:center;background:#3e679b;color:#fff;margin-bottom:20px;border-left:14px solid #8aa3c2;padding-left:30px;padding-top:10px;padding-bottom:10px;position:relative}.subtitulo_azul[_ngcontent-fst-c64]   h2[_ngcontent-fst-c64]{margin:0;padding:0;font-size:2.125em;font-family:Roboto Condensed,sans-serif}.subtitulo_detalle_candidato[_ngcontent-fst-c64]{display:block;align-items:center;background:#3e679b;color:#fff;margin-bottom:20px;border-left:14px solid #8aa3c2;padding-left:30px;padding-top:10px;padding-bottom:10px;position:relative}.subtitulo_detalle_candidato[_ngcontent-fst-c64]   h3[_ngcontent-fst-c64]{margin:0;padding:0;font-size:1.4em;text-align:center;font-family:Roboto Condensed,sans-serif}.centrar_vertical[_ngcontent-fst-c64]{vertical-align:middle}.lista_resoluciones[_ngcontent-fst-c64]{color:#0f2241}.lista_resoluciones[_ngcontent-fst-c64]   ul[_ngcontent-fst-c64]{list-style:none}.lista_resoluciones[_ngcontent-fst-c64]   .glyphicon[_ngcontent-fst-c64]{color:#3e679b;font-size:1.5em;padding-right:.3em}.borde_gris[_ngcontent-fst-c64]{padding:10px;margin-bottom:20px;border:1px solid #8ea3a6}.input_mesas[_ngcontent-fst-c64]{width:calc(100% - 130px);border-radius:4px;border:1px solid #cacaca;text-align:center;display:inline-block;height:auto;padding:0 5px}.btn_buscar[_ngcontent-fst-c64]{background:#03618a;color:#fff!important;display:inline-block;padding:4px 20px;border:none;float:right;margin-top:-2px}.btn_buscar[_ngcontent-fst-c64]   .icon-buscar[_ngcontent-fst-c64]{display:inline-block;margin-right:10px}.btn_buscar[_ngcontent-fst-c64]:hover{background:#0083c3;color:#fff}.btn_detalle[_ngcontent-fst-c64]{background:#03618a;color:#fff!important;padding:6px 8px 3px;text-align:center}.btn_detalle[_ngcontent-fst-c64], .btn_detalle[_ngcontent-fst-c64]   .icon-buscar[_ngcontent-fst-c64]{display:inline-block}.btn_detalle[_ngcontent-fst-c64]:hover{background:#0083c3;color:#fff}.btn_regresar[_ngcontent-fst-c64]{background:#03618a;color:#fff!important;display:inline-block;padding:4px 20px;float:right;margin-bottom:20px}.btn_regresar[_ngcontent-fst-c64]   .icon-regresar[_ngcontent-fst-c64]{display:inline-block;margin-right:10px}.btn_regresar[_ngcontent-fst-c64]:hover{background:#0083c3;color:#fff}.conte_mesas[_ngcontent-fst-c64]{width:calc(100% + 2px);display:flex;flex-wrap:wrap;margin:-1px -1px 20px;justify-content:flex-start}.conte_mesas[_ngcontent-fst-c64]   .mesas[_ngcontent-fst-c64]{width:calc(20% - 2px);border:none;margin:1px;text-align:center;padding-top:8px;padding-bottom:6px}.procesada_con[_ngcontent-fst-c64]{background:#b6cdf6}.procesada_con[_ngcontent-fst-c64]   a[_ngcontent-fst-c64]{color:#104d82}.procesada_sin[_ngcontent-fst-c64]{background:#c1c1c1}.procesada_sin[_ngcontent-fst-c64]   a[_ngcontent-fst-c64]{color:#252525}.sin_procesar[_ngcontent-fst-c64]{background:#efd2a8}.sin_procesar[_ngcontent-fst-c64]   a[_ngcontent-fst-c64]{color:#8a6d3b}.procesada_con[_ngcontent-fst-c64]:hover, .procesada_sinn[_ngcontent-fst-c64]:hover, .sin_procesar[_ngcontent-fst-c64]:hover{text-decoration:underline}.leyenda_mesas[_ngcontent-fst-c64]{padding:10px;margin-bottom:20px;border:1px solid #8ea3a6}.leyenda_mesas[_ngcontent-fst-c64]   .icoleyend[_ngcontent-fst-c64]{width:20px;height:20px;display:inline-block;margin-top:4px}.leyenda_mesas[_ngcontent-fst-c64]   span[_ngcontent-fst-c64]{display:inline-block}.centrar[_ngcontent-fst-c64]{width:100%;height:100%;text-align:center;display:table-cell}.foto_agrupacion[_ngcontent-fst-c64]{width:50px;height:50px}.foto_agrupacion_titulo[_ngcontent-fst-c64]{width:100px;height:100px}.conte_paginador[_ngcontent-fst-c64]{display:inline-block;margin-top:5px;margin-bottom:25px}.pagination[_ngcontent-fst-c64]{display:inline-block;padding-left:0;margin:-14px 0;border-radius:4px}.pagination[_ngcontent-fst-c64] > li[_ngcontent-fst-c64]{display:inline}.pagination[_ngcontent-fst-c64] > li[_ngcontent-fst-c64] > a[_ngcontent-fst-c64], .pagination[_ngcontent-fst-c64] > li[_ngcontent-fst-c64] > span[_ngcontent-fst-c64]{position:relative;float:left;padding:6px 12px;margin-left:-1px;line-height:1.42857143;color:#337ab7;text-decoration:none;background-color:#fff;border:1px solid #ddd}.pagination[_ngcontent-fst-c64] > li[_ngcontent-fst-c64]:first-child > a[_ngcontent-fst-c64], .pagination[_ngcontent-fst-c64] > li[_ngcontent-fst-c64]:first-child > span[_ngcontent-fst-c64]{margin-left:0;border-top-left-radius:4px;border-bottom-left-radius:4px}.pagination[_ngcontent-fst-c64] > li[_ngcontent-fst-c64]:last-child > a[_ngcontent-fst-c64], .pagination[_ngcontent-fst-c64] > li[_ngcontent-fst-c64]:last-child > span[_ngcontent-fst-c64]{border-top-right-radius:4px;border-bottom-right-radius:4px}.pagination[_ngcontent-fst-c64] > .active[_ngcontent-fst-c64] > a[_ngcontent-fst-c64], .pagination[_ngcontent-fst-c64] > .active[_ngcontent-fst-c64] > a[_ngcontent-fst-c64]:focus, .pagination[_ngcontent-fst-c64] > .active[_ngcontent-fst-c64] > a[_ngcontent-fst-c64]:hover, .pagination[_ngcontent-fst-c64] > .active[_ngcontent-fst-c64] > span[_ngcontent-fst-c64], .pagination[_ngcontent-fst-c64] > .active[_ngcontent-fst-c64] > span[_ngcontent-fst-c64]:focus, .pagination[_ngcontent-fst-c64] > .active[_ngcontent-fst-c64] > span[_ngcontent-fst-c64]:hover{z-index:3;color:#fff;cursor:default;background-color:#337ab7;border-color:#337ab7}.mapa[_ngcontent-fst-c64]{width:100%;background-color:#eee;border:1px solid #8ea3a6;height:450px}.texto_centrado[_ngcontent-fst-c64]{text-align:center}.tabla_datos[_ngcontent-fst-c64]{font-family:Roboto Condensed,sans-serif}.tabla_datos[_ngcontent-fst-c64]   td[_ngcontent-fst-c64]{vertical-align:middle}.tabla_datos[_ngcontent-fst-c64]   td[_ngcontent-fst-c64]   h1[_ngcontent-fst-c64]{font-size:2.125em}.tabla_datos[_ngcontent-fst-c64]   td[_ngcontent-fst-c64]   h1[_ngcontent-fst-c64], .tabla_datos[_ngcontent-fst-c64]   td[_ngcontent-fst-c64]   h2[_ngcontent-fst-c64]{padding:0;margin:0;line-height:1em}.tabla_datos[_ngcontent-fst-c64]   td[_ngcontent-fst-c64]   h3[_ngcontent-fst-c64]{padding:0;margin:0;font-size:1.125em}.tabla_datos[_ngcontent-fst-c64]   span[_ngcontent-fst-c64]{font-size:.875em;display:inline-block;line-height:1em}.tabla_datos[_ngcontent-fst-c64]   .col_azul[_ngcontent-fst-c64]{background-color:#366288;color:#fff}.tabla_datos[_ngcontent-fst-c64]   .glyphicon[_ngcontent-fst-c64]{color:#afbccb}.tabla_pc[_ngcontent-fst-c64]{display:block}.tabla_movil[_ngcontent-fst-c64]{display:none}.borde_acero[_ngcontent-fst-c64]{border-left:14px solid #afbccb}.cont_selects_ubigeo[_ngcontent-fst-c64]{background:#e2e2e2;margin-bottom:20px;padding:15px 25px}.cont_selects_ubigeo[_ngcontent-fst-c64]   .linea_der[_ngcontent-fst-c64]{border-right:1px solid #959595}.cont_selects_ubigeo[_ngcontent-fst-c64]   label[_ngcontent-fst-c64]{margin:0}.cont_selects_ubigeo[_ngcontent-fst-c64]   .select_ubigeo[_ngcontent-fst-c64]{width:100%;box-sizing:border-box;border-radius:4px;padding:2px}.conte_bordeazul[_ngcontent-fst-c64]{border:1px solid #dee2e6;border-left:14px solid #afbccb;margin-bottom:15px}.conte_bordeazul[_ngcontent-fst-c64]   .conte_selects[_ngcontent-fst-c64]{padding:15px 30px}.conte_bordeazul[_ngcontent-fst-c64]   .conte_cabecera[_ngcontent-fst-c64]{padding:12px 15px;font-family:Roboto Condensed,sans-serif}.conte_bordeazul[_ngcontent-fst-c64]   .conte_cabecera[_ngcontent-fst-c64]   h1[_ngcontent-fst-c64]{padding:0;margin:0;font-size:2.125em;line-height:1em}.conte_bordeazul[_ngcontent-fst-c64]   .conte_cabecera[_ngcontent-fst-c64]   h3[_ngcontent-fst-c64]{padding:0;margin:0;font-size:1.125em}.conte_bordeazul[_ngcontent-fst-c64]   .glyphicon[_ngcontent-fst-c64]{color:#afbccb}.conte_bordeazul[_ngcontent-fst-c64]   label[_ngcontent-fst-c64]{width:100%;margin:0}.conte_bordeazul[_ngcontent-fst-c64]   select[_ngcontent-fst-c64]{width:100%;box-sizing:border-box;border-radius:4px;padding:2px}.conte_bordeazul[_ngcontent-fst-c64]   span[_ngcontent-fst-c64]{font-size:.875em}.conte_select_region[_ngcontent-fst-c64]{width:100%;box-sizing:border-box;border-radius:4px;padding:2px}.graficos_resultados[_ngcontent-fst-c64]{width:100%;height:310px;border:1px solid #8ea3a6}.graficos_resultados_totales[_ngcontent-fst-c64]{width:100%;height:358px;border:1px solid #8ea3a6}.graficos_barras_resultados[_ngcontent-fst-c64]{width:100%;height:335px;border:1px solid #8ea3a6}.graficos_dist_electoral[_ngcontent-fst-c64]{width:100%;height:900px;border:1px solid #8ea3a6}.graficos_resumen[_ngcontent-fst-c64]{width:100%;height:648px;border:1px solid #8ea3a6}.graficos_candidatos[_ngcontent-fst-c64]{width:100%;background:url(bg_candidatos.340f1821c488e4ebf7c9.jpg) no-repeat;background-size:cover;border:1px solid #8ea3a6}.graficos_candidatos[_ngcontent-fst-c64]   ul[_ngcontent-fst-c64]{width:100%;height:100%;display:flex;justify-content:center;align-items:center;margin-bottom:10px;margin-top:10px;padding:0 0 0 15px}.graficos_candidatos[_ngcontent-fst-c64]   ul[_ngcontent-fst-c64]   li[_ngcontent-fst-c64]{display:inline-flex;position:relative;max-width:16.66%}.graficos_candidatos[_ngcontent-fst-c64]   .bg_foto_candidato[_ngcontent-fst-c64]{width:100%;height:auto;max-width:100%;margin-left:-10px;margin-right:-10px}.graficos_candidatos[_ngcontent-fst-c64]   .bg_foto_candidato[_ngcontent-fst-c64]   img[_ngcontent-fst-c64]{max-width:100%}.graficos_candidatos[_ngcontent-fst-c64]   .porcetaje_votos[_ngcontent-fst-c64]{font-family:Roboto,sans-serif;width:100%;padding-right:15%;position:absolute;bottom:-5px;text-align:center;font-size:1.4vw;color:#fff;font-style:italic}.gutters-20[_ngcontent-fst-c64]{margin-right:-10px;margin-left:-10px}.gutters-20[_ngcontent-fst-c64] > .col[_ngcontent-fst-c64], .gutters-20[_ngcontent-fst-c64] > [class*=col-][_ngcontent-fst-c64]{padding-right:10px;padding-left:10px}.leyend_crema[_ngcontent-fst-c64]{display:block;background:#8d9dc3;color:#fff;text-align:center;padding:10px;margin-bottom:20px}.leyend_crema[_ngcontent-fst-c64]   .formula[_ngcontent-fst-c64]{display:inline-block;margin-left:10px}.leyend_crema[_ngcontent-fst-c64]   .formula[_ngcontent-fst-c64]   hr[_ngcontent-fst-c64]{border:1px solid #fff;margin:0}.subtitulo_dorado[_ngcontent-fst-c64]{background:#b38320;color:#fff;margin-top:10px;font-size:1.125em;padding:10px}.centrar_conteleyend[_ngcontent-fst-c64]{display:inline-block}.centrar_conteleyend[_ngcontent-fst-c64]   .datos_leyend[_ngcontent-fst-c64]{display:inline-block;list-style:none;margin:0 0 0 20px;padding:0;color:#fff;font-size:1em;text-align:left}.centrar_conteleyend[_ngcontent-fst-c64]   .simbolo_leyend[_ngcontent-fst-c64]{display:inline-block}.leyenda[_ngcontent-fst-c64]{padding:0;margin:0 0 20px;list-style:none;font-size:1em}.tablas[_ngcontent-fst-c64], .tablas[_ngcontent-fst-c64]   th[_ngcontent-fst-c64]{border:1px solid #cacaca}.tablas[_ngcontent-fst-c64]   th[_ngcontent-fst-c64]{background:#374e91;color:#fff;text-align:center;font-weight:400}.tablas[_ngcontent-fst-c64]   td[_ngcontent-fst-c64]{border:1px solid #cacaca;padding-top:.5em;padding-bottom:.5em}.tablas[_ngcontent-fst-c64]   .pad_lef40[_ngcontent-fst-c64]{padding-left:40px}.tablas[_ngcontent-fst-c64]   .td_totales[_ngcontent-fst-c64]   td[_ngcontent-fst-c64]{background:#fff6c4;color:#5c3500;font-weight:700}.tabla_resultado[_ngcontent-fst-c64]   th[_ngcontent-fst-c64]{text-align:center;border:1px solid #cacaca}.tabla_resultado[_ngcontent-fst-c64]   td[_ngcontent-fst-c64]{padding-top:.2em;padding-bottom:.2em;border:1px solid #cacaca;vertical-align:middle}.tabla_resultado[_ngcontent-fst-c64]   .datos_voto[_ngcontent-fst-c64]   td[_ngcontent-fst-c64]{padding:.5em}.tabla_resultado[_ngcontent-fst-c64]   .tabla_fijo[_ngcontent-fst-c64]{table-layout:fixed}.table-scroll1[_ngcontent-fst-c64], .table-wrap[_ngcontent-fst-c64]{width:100%;overflow-x:scroll;overflow-y:hidden}.table-scroll1[_ngcontent-fst-c64]{height:20px;margin-bottom:10px}.table-scroll[_ngcontent-fst-c64]{position:relative;max-width:100%;margin:auto;overflow:hidden}.table-wrap[_ngcontent-fst-c64]{width:100%;overflow:auto;padding-bottom:20px}.table-scroll[_ngcontent-fst-c64]   table[_ngcontent-fst-c64]{width:100%;margin:auto;border-spacing:0}.table-scroll[_ngcontent-fst-c64]   tfoot[_ngcontent-fst-c64], .table-scroll[_ngcontent-fst-c64]   thead[_ngcontent-fst-c64]{background:#f9f9f9}.clone[_ngcontent-fst-c64]{position:absolute;top:0;left:0;pointer-events:none}.clone[_ngcontent-fst-c64]   td[_ngcontent-fst-c64], .clone[_ngcontent-fst-c64]   th[_ngcontent-fst-c64]{visibility:hidden;border-color:transparent}.clone[_ngcontent-fst-c64]   tbody[_ngcontent-fst-c64]   th[_ngcontent-fst-c64]{visibility:visible}.clone[_ngcontent-fst-c64]   .fixed-side[_ngcontent-fst-c64]{border:1px solid #cacaca;background:#fff;visibility:visible}.clone[_ngcontent-fst-c64]   tfoot[_ngcontent-fst-c64], .clone[_ngcontent-fst-c64]   thead[_ngcontent-fst-c64]{background:transparent}.clone[_ngcontent-fst-c64]   tr[_ngcontent-fst-c64]:nth-of-type(odd)   td[_ngcontent-fst-c64], .clone[_ngcontent-fst-c64]   tr[_ngcontent-fst-c64]:nth-of-type(odd)   th[_ngcontent-fst-c64]{background-color:#f2f2f2}.titulo_td[_ngcontent-fst-c64]{padding:.75rem!important}.tabla_participacion[_ngcontent-fst-c64]   th[_ngcontent-fst-c64]{text-align:center;border:1px solid #969696;padding-top:1.1em;padding-bottom:1.1em;background:#d1d1d1}.tabla_participacion[_ngcontent-fst-c64]   .cabeceradorada[_ngcontent-fst-c64]   th[_ngcontent-fst-c64]{background:#374e91;border-left:1px solid #fff;border-right:1px solid #fff;color:#fff}.tabla_participacion[_ngcontent-fst-c64]   td[_ngcontent-fst-c64]{padding-top:.7em;padding-bottom:.7em;border:1px solid #cacaca;vertical-align:middle}.tabla_participacion[_ngcontent-fst-c64]   .datos_voto[_ngcontent-fst-c64]   td[_ngcontent-fst-c64]{padding:.5em}.datos_participacion[_ngcontent-fst-c64]   .leyend_crema[_ngcontent-fst-c64]{padding:17px 10px}.cabecera_dorada[_ngcontent-fst-c64]{background:#374e91;color:#fff;padding:.75rem;border-left:14px solid #8d9dc3}.img_acta[_ngcontent-fst-c64]{max-width:100%;height:auto}.top20[_ngcontent-fst-c64]{margin-top:20px}footer[_ngcontent-fst-c64]{clear:both;background:#374e91;color:#fff;text-align:center;padding:1.2em 0;font-size:.8em;overflow:hidden;font-family:GillSansMT}footer[_ngcontent-fst-c64]   .centrar_footer[_ngcontent-fst-c64]{width:100%;margin:0 auto;display:flex;align-content:center;justify-content:center;align-items:center}footer[_ngcontent-fst-c64]   .titulo_footer[_ngcontent-fst-c64]{color:#fff;font-size:1.5em;margin:.2em 0;float:left;padding-right:1em;text-align:right;font-weight:700}footer[_ngcontent-fst-c64]   .datos_footer[_ngcontent-fst-c64]{float:right;padding-left:3em;text-align:center}footer[_ngcontent-fst-c64]   .separador_footer[_ngcontent-fst-c64]{margin-left:1em;margin-right:1em}footer[_ngcontent-fst-c64]   .correo[_ngcontent-fst-c64]{color:#fff}footer[_ngcontent-fst-c64]   .correo[_ngcontent-fst-c64]:hover{text-decoration:underline;color:#fff}footer[_ngcontent-fst-c64]   a[_ngcontent-fst-c64]{color:#fff;margin-right:.2em}footer[_ngcontent-fst-c64]   a[_ngcontent-fst-c64]:hover{color:#677796;text-decoration:none}footer[_ngcontent-fst-c64]   p[_ngcontent-fst-c64]{margin:0;padding:0;font-weight:400;font-size:1.2em;text-align:center}footer[_ngcontent-fst-c64]   .social_medias[_ngcontent-fst-c64]{color:#fff;font-size:2.5em}.footer_404[_ngcontent-fst-c64]{width:100%;position:fixed;bottom:0}.p404[_ngcontent-fst-c64]{margin-top:100px;margin-bottom:200px}.barra_noencontrada1[_ngcontent-fst-c64]{background:#3471a3;font-size:26px}.barra_noencontrada1[_ngcontent-fst-c64], .barra_noencontrada2[_ngcontent-fst-c64]{color:#fff;text-align:center;height:60px;line-height:60px}.barra_noencontrada2[_ngcontent-fst-c64]{background:#8aa3c2;font-size:50px;font-weight:lighter}.conte_btn_irinicio[_ngcontent-fst-c64]{text-align:center;border-left:5px solid #3471a3}.btn_irinicio[_ngcontent-fst-c64]{font-family:Roboto,sans-serif;font-weight:700;background:url(btn_irinicio.5762a127ebd33031b0e2.png) no-repeat;width:296px;height:78px;border:none;color:#fff;box-sizing:border-box;padding-left:80px;font-size:25px;line-height:25px;margin-top:40px}.img_404[_ngcontent-fst-c64]{width:164px;height:160px}.cont_img_404[_ngcontent-fst-c64]{width:35%;float:left;text-align:right}.txt_pag404[_ngcontent-fst-c64]{font-family:Roboto,sans-serif;width:65%;color:#3471a3;font-size:50px;line-height:50px;font-weight:700;float:left;padding-top:60px}.bottom_404[_ngcontent-fst-c64]{margin-top:20px}.laptop_mantenimiento[_ngcontent-fst-c64]{width:307px;height:240px}.barra_mantenimiento[_ngcontent-fst-c64]{width:306px;height:43px;margin-top:4px}.txt_mantenimiento[_ngcontent-fst-c64]{font-family:Roboto,sans-serif;color:#3471a3;font-size:38px;line-height:38px;text-align:left;font-weight:700;float:left;padding-top:60px}.conte_mantenimiento[_ngcontent-fst-c64]{text-align:left;border-left:5px solid #3471a3;padding-left:80px;box-sizing:border-box}.centrar_laptop[_ngcontent-fst-c64]{text-align:center}@media (max-width:1730px){.txt_pag404[_ngcontent-fst-c64]{font-size:40px;line-height:40px}.img_404[_ngcontent-fst-c64]{width:140px;height:137px}}@media (max-width:1600px){.btn_irinicio[_ngcontent-fst-c64]{width:250px;height:66px;background-size:contain;padding-left:60px;font-size:16px;line-height:16px}.txt_pag404[_ngcontent-fst-c64]{font-size:36px;line-height:36px}.barra_noencontrada1[_ngcontent-fst-c64]{font-size:22px}}@media (max-width:1200px){.banner_home[_ngcontent-fst-c64]   h3[_ngcontent-fst-c64]{font-size:1.6em}.item_menu[_ngcontent-fst-c64]{flex:0 0 33.333333%;max-width:33.333333%}}@media (max-width:1450px){.menuprincipal[_ngcontent-fst-c64]   a[_ngcontent-fst-c64]{font-size:.9em}.menuprincipal[_ngcontent-fst-c64]   a[_ngcontent-fst-c64]   .ico_menu[_ngcontent-fst-c64]{font-size:2.1em}.conte_mantenimiento[_ngcontent-fst-c64]{border-left:5px solid #3471a3;padding-left:50px}.laptop_mantenimiento[_ngcontent-fst-c64]{width:231px;height:181px}.barra_mantenimiento[_ngcontent-fst-c64]{width:231px;height:32px;margin-top:4px}.txt_mantenimiento[_ngcontent-fst-c64]{font-size:26px;line-height:26px;padding-top:40px}}@media (max-width:1366px){.menuprincipal[_ngcontent-fst-c64]   a[_ngcontent-fst-c64]{font-size:.95em}.menuprincipal[_ngcontent-fst-c64]   a[_ngcontent-fst-c64]   .ico_menu[_ngcontent-fst-c64]{font-size:2.2em}.banner_home[_ngcontent-fst-c64]   h3[_ngcontent-fst-c64]{font-size:2.1em}.home_iz[_ngcontent-fst-c64]   .conte_botones[_ngcontent-fst-c64]   a[_ngcontent-fst-c64]   .pic[_ngcontent-fst-c64]{padding-top:127.6%}.banner_erm[_ngcontent-fst-c64]   .logo_erm2018[_ngcontent-fst-c64]{margin-top:52.4%}.tabla_datos[_ngcontent-fst-c64]   td[_ngcontent-fst-c64]{padding:.4em}.tabla_datos[_ngcontent-fst-c64]   td[_ngcontent-fst-c64]   h2[_ngcontent-fst-c64]{font-size:1.9em}.txt_pag404[_ngcontent-fst-c64]{font-size:35px;line-height:35px;padding-top:48px}.img_404[_ngcontent-fst-c64]{width:117px;height:114px}.btn_irinicio[_ngcontent-fst-c64]{width:210px;height:55px;background-size:contain;padding-left:55px;font-size:16px;line-height:16px}.barra_noencontrada1[_ngcontent-fst-c64]{font-size:18px}.conte_mantenimiento[_ngcontent-fst-c64]{border-left:5px solid #3471a3;padding-left:40px}.laptop_mantenimiento[_ngcontent-fst-c64]{width:219px;height:171px}.barra_mantenimiento[_ngcontent-fst-c64]{width:218px;height:30px;margin-top:4px}.txt_mantenimiento[_ngcontent-fst-c64]{font-size:27px;line-height:27px;padding-top:40px}}@media (max-width:1130px){body[_ngcontent-fst-c64]{font-size:14px}header[_ngcontent-fst-c64]   h1[_ngcontent-fst-c64]{font-size:1.2em}header[_ngcontent-fst-c64]   h2[_ngcontent-fst-c64]{font-size:1.6em}.menuprincipal[_ngcontent-fst-c64]   a[_ngcontent-fst-c64]{padding-left:10px;padding-right:10px;font-size:1em;min-height:70px;line-height:68px}.menuprincipal[_ngcontent-fst-c64]   a[_ngcontent-fst-c64]   .ico_menu[_ngcontent-fst-c64]{font-size:2em}.logo_onpe[_ngcontent-fst-c64]   img[_ngcontent-fst-c64]{width:120px;height:auto}.logo_eleccion[_ngcontent-fst-c64]   img[_ngcontent-fst-c64]{width:207px;height:auto}.subtitulo[_ngcontent-fst-c64]{min-height:110px;font-size:.84em}.tabla_pc[_ngcontent-fst-c64]{display:none}.tabla_movil[_ngcontent-fst-c64]{display:block}}@media screen and (min-width:993px) and (max-width:1050px){.tablas[_ngcontent-fst-c64]   th[_ngcontent-fst-c64]{line-height:1em;padding-left:.5em;padding-right:.5em}.tablas[_ngcontent-fst-c64]   td[_ngcontent-fst-c64], .tablas[_ngcontent-fst-c64]   th[_ngcontent-fst-c64]{font-size:1em}.tabla_datos[_ngcontent-fst-c64]   td[_ngcontent-fst-c64]{padding:.4em}.tabla_datos[_ngcontent-fst-c64]   td[_ngcontent-fst-c64]   h2[_ngcontent-fst-c64]{font-size:1.6em}.home_iz[_ngcontent-fst-c64]   .conte_botones[_ngcontent-fst-c64]   a[_ngcontent-fst-c64]   .pic[_ngcontent-fst-c64]{padding-top:115.4%}}@media (max-width:992px){header[_ngcontent-fst-c64]   h1[_ngcontent-fst-c64]{font-size:.96em}header[_ngcontent-fst-c64]   h2[_ngcontent-fst-c64]{font-size:1.28em}.banner_home[_ngcontent-fst-c64]   h3[_ngcontent-fst-c64]{font-size:1.6em}.graficos_candidatos[_ngcontent-fst-c64]{margin-bottom:20px}.graficos_candidatos[_ngcontent-fst-c64]   .porcetaje_votos[_ngcontent-fst-c64]{font-size:2.2vw}.item_menu[_ngcontent-fst-c64]{flex:0 0 50%;max-width:50%}.pie_municipales[_ngcontent-fst-c64], .pie_regionales[_ngcontent-fst-c64]{order:1;margin-bottom:20px}.barras_municipales[_ngcontent-fst-c64], .barras_regionales[_ngcontent-fst-c64]{order:2}.graficos_barras_resultados[_ngcontent-fst-c64], .graficos_resultados[_ngcontent-fst-c64], .graficos_resultados_totales[_ngcontent-fst-c64]{margin-bottom:20px}.menuprincipal[_ngcontent-fst-c64]   a[_ngcontent-fst-c64]{margin-bottom:10px}.btn_buscar[_ngcontent-fst-c64]{margin-bottom:20px}.tabs_submenu[_ngcontent-fst-c64]{display:flex}.tabs_submenu[_ngcontent-fst-c64]   li[_ngcontent-fst-c64]{width:50%;margin-right:0}.nav-tabs[_ngcontent-fst-c64]   .nav-item[_ngcontent-fst-c64]{padding-left:5px;padding-right:5px}.nav-tabs[_ngcontent-fst-c64]   .nav-item[_ngcontent-fst-c64]   .nav-link[_ngcontent-fst-c64]{width:100%;border-radius:5px;background:none;border:1px solid #b38320;margin-bottom:10px}.footer_404[_ngcontent-fst-c64]   p[_ngcontent-fst-c64]{padding:0;margin:0;display:inline-block}.footer_404[_ngcontent-fst-c64]   span[_ngcontent-fst-c64]{margin:4px 0;width:100%}}@media (max-width:768px){.col-40[_ngcontent-fst-c64], .col-60[_ngcontent-fst-c64]{width:100%}.tabla_resumen_pc[_ngcontent-fst-c64]{display:none}.tabla_resumen_movil[_ngcontent-fst-c64]{display:block}.menuprincipal[_ngcontent-fst-c64]   .icono_togglemenu[_ngcontent-fst-c64]{display:block;width:100%}.logo_onpe[_ngcontent-fst-c64]   img[_ngcontent-fst-c64]{width:90px;height:auto}.logo_eleccion[_ngcontent-fst-c64]   img[_ngcontent-fst-c64]{width:156px;height:auto}header[_ngcontent-fst-c64]   h1[_ngcontent-fst-c64]{font-size:.75em}header[_ngcontent-fst-c64]   h2[_ngcontent-fst-c64]{font-size:1em}.subtitulo[_ngcontent-fst-c64]{padding-bottom:60px}.subtitulo[_ngcontent-fst-c64]   h2[_ngcontent-fst-c64]{margin-bottom:10px}.subtitulo[_ngcontent-fst-c64]   .botonera_print[_ngcontent-fst-c64]{margin-top:10px}.subtitulo[_ngcontent-fst-c64]   .btn_print[_ngcontent-fst-c64]{display:inline-block;margin-top:5px}.tabs_submenu[_ngcontent-fst-c64]   li[_ngcontent-fst-c64]{width:100%}.conte_btn_irinicio[_ngcontent-fst-c64], .conte_mantenimiento[_ngcontent-fst-c64]{border-left:none}.barra_mantenimiento[_ngcontent-fst-c64]{width:60%;height:auto;margin-left:20%;margin-top:4px}.txt_mantenimiento[_ngcontent-fst-c64]{font-size:27px;line-height:27px;padding-left:20%;padding-top:40px}footer[_ngcontent-fst-c64]   .centrar_footer[_ngcontent-fst-c64]{width:90%;display:block}footer[_ngcontent-fst-c64]   .titulo_footer[_ngcontent-fst-c64]{width:100%;text-align:center}footer[_ngcontent-fst-c64]   .datos_footer[_ngcontent-fst-c64]{width:100%}}@media (min-width:769px){.menuprincipal[_ngcontent-fst-c64]   #navbarToggleExternalContent[_ngcontent-fst-c64]{display:block}}@media (max-width:576px){header[_ngcontent-fst-c64]   h1[_ngcontent-fst-c64]{font-size:1.5em}footer[_ngcontent-fst-c64]   .titulo_footer[_ngcontent-fst-c64]{font-size:1em}.subtitulo[_ngcontent-fst-c64]{padding-top:20px;padding-left:20px;padding-bottom:60px}.banner_home[_ngcontent-fst-c64]{text-align:center}.banner_home[_ngcontent-fst-c64]   .logo_home[_ngcontent-fst-c64]{width:100%;margin-left:0}.banner_home[_ngcontent-fst-c64]   h3[_ngcontent-fst-c64]{width:100%;position:relative;margin-top:20px}.banner_erm[_ngcontent-fst-c64]   .logo_erm2018[_ngcontent-fst-c64]{width:70%;margin-top:25%}.logo_onpe[_ngcontent-fst-c64]{float:none;margin:0 auto;padding-bottom:20px}.logo_onpe[_ngcontent-fst-c64]   img[_ngcontent-fst-c64]{width:45%;margin-top:.5em}.banner_homeeg2021[_ngcontent-fst-c64]   .conte_btns_home_banner[_ngcontent-fst-c64]{width:50%;position:absolute;left:30%;bottom:8%;font-size:.8em}.banner_homeeg2021[_ngcontent-fst-c64]   .conte_btns_home_banner[_ngcontent-fst-c64]   a[_ngcontent-fst-c64]   .btn_informativa[_ngcontent-fst-c64]{padding-left:15px}.logo_eleccion[_ngcontent-fst-c64]{float:none;margin:20px auto 10px}.logo_eleccion[_ngcontent-fst-c64]   img[_ngcontent-fst-c64]{width:100%}.barra_noencontrada1[_ngcontent-fst-c64]{height:auto;line-height:1em;padding-top:10px;padding-bottom:10px}.item_menu[_ngcontent-fst-c64]{flex:0 0 100%;max-width:100%}}@media (max-width:380px){header[_ngcontent-fst-c64]   div[_ngcontent-fst-c64]{margin:0;padding:0}header[_ngcontent-fst-c64]   .logo_eleccion[_ngcontent-fst-c64]{width:100%;margin-bottom:20px}header[_ngcontent-fst-c64]   .logo_onpe[_ngcontent-fst-c64]{margin-bottom:20px}.banner_erm[_ngcontent-fst-c64]{width:100%}.home_iz[_ngcontent-fst-c64]   .conte_botones[_ngcontent-fst-c64]{width:calc(100% - 40px);margin-right:20px}}</style><meta http-equiv=\"origin-trial\" content=\"AymqwRC7u88Y4JPvfIF2F37QKylC04248hLCdJAsh8xgOfe/dVJPV3XS3wLFca1ZMVOtnBfVjaCMTVudWM//5g4AAAB7eyJvcmlnaW4iOiJodHRwczovL3d3dy5nb29nbGV0YWdtYW5hZ2VyLmNvbTo0NDMiLCJmZWF0dXJlIjoiUHJpdmFjeVNhbmRib3hBZHNBUElzIiwiZXhwaXJ5IjoxNjk1MTY3OTk5LCJpc1RoaXJkUGFydHkiOnRydWV9\"></head>\\n<body> \\n  <onpe-root ng-version=\"11.0.9\"><router-outlet></router-outlet><onpe-home-onpe _nghost-fst-c64=\"\"><header _ngcontent-fst-c64=\"\"><div _ngcontent-fst-c64=\"\" class=\"container-fluid\"><div _ngcontent-fst-c64=\"\" class=\"row no-gutters\"><div _ngcontent-fst-c64=\"\" class=\"col-sm-3 d-flex\"><div _ngcontent-fst-c64=\"\" class=\"logo_eleccion\"><a _ngcontent-fst-c64=\"\" routerlink=\"/Home\" href=\"/EG2021/Home\"><img _ngcontent-fst-c64=\"\" src=\"./assets/imagenes/logo_eg2021.svg\" alt=\"\" class=\"logo_eg2021\"></a></div></div><div _ngcontent-fst-c64=\"\" class=\"col-sm-6 align-self-center\"><h2 _ngcontent-fst-c64=\"\">PRESENTACIÓN DE RESULTADOS</h2><h1 _ngcontent-fst-c64=\"\">ELECCIONES GENERALES Y PARLAMENTO ANDINO 2021</h1></div><div _ngcontent-fst-c64=\"\" class=\"col-sm-3 align-self-center\"><div _ngcontent-fst-c64=\"\" class=\"logo_onpe\"><a _ngcontent-fst-c64=\"\" href=\"https://www.onpe.gob.pe/\"><img _ngcontent-fst-c64=\"\" src=\"./assets/imagenes/logo_onpe_blanco.svg\" alt=\"ONPE\" class=\"d-print-none\"><img _ngcontent-fst-c64=\"\" src=\"./assets/imagenes/logo_onpe_imprimir.svg\" alt=\"ONPE\" class=\"d-none d-print-block\"></a></div></div></div></div></header><div _ngcontent-fst-c64=\"\" class=\"bg_home\"><div _ngcontent-fst-c64=\"\" class=\"container-fluid\"><div _ngcontent-fst-c64=\"\" class=\"row justify-content-md-center\"><div _ngcontent-fst-c64=\"\" class=\"col col-lg-8\"><div _ngcontent-fst-c64=\"\" class=\"banner_homeeg2021\"><img _ngcontent-fst-c64=\"\" src=\"./assets/imagenes/banner_eg2021.jpg\" alt=\"\" class=\"bg_bannereg2021\"><div _ngcontent-fst-c64=\"\" class=\"conte_btns_home_banner\"><a _ngcontent-fst-c64=\"\" href=\"https://www.onpe.gob.pe/modElecciones/elecciones/2021/EEGG/\" target=\"_blank\"><div _ngcontent-fst-c64=\"\" class=\"btn_informativa btn01\"><span _ngcontent-fst-c64=\"\" aria-hidden=\"true\" class=\"glyphicon glyphicon-chevron-right flechita_botones\"></span> Web Informativa EG2021</div></a></div></div><div _ngcontent-fst-c64=\"\" class=\"row\"><div _ngcontent-fst-c64=\"\" class=\"col-lg-4\"><div _ngcontent-fst-c64=\"\" class=\"conte_botones\"><div _ngcontent-fst-c64=\"\" class=\"pull-left pd02 ancho-ie\"><a _ngcontent-fst-c64=\"\"><div _ngcontent-fst-c64=\"\" class=\"pic\"><img _ngcontent-fst-c64=\"\" src=\"./assets/imagenes/resumen_general.jpg\"></div><div _ngcontent-fst-c64=\"\" class=\"btn_home btn01\"><div _ngcontent-fst-c64=\"\"><span _ngcontent-fst-c64=\"\" aria-hidden=\"true\" class=\"glyphicon glyphicon-chevron-right flechita_botones\"></span> Resumen General</div></div></a></div></div></div><div _ngcontent-fst-c64=\"\" class=\"col-lg-4\"><div _ngcontent-fst-c64=\"\" class=\"conte_botones\"><div _ngcontent-fst-c64=\"\" class=\"pull-left pd02 ancho-ie\"><a _ngcontent-fst-c64=\"\"><div _ngcontent-fst-c64=\"\" class=\"pic\"><img _ngcontent-fst-c64=\"\" src=\"./assets/imagenes/presidencial.jpg\"></div><div _ngcontent-fst-c64=\"\" class=\"btn_home btn02\"><span _ngcontent-fst-c64=\"\" aria-hidden=\"true\" class=\"glyphicon glyphicon-chevron-right flechita_botones\"></span> Elecciones Presidenciales </div></a></div></div></div><div _ngcontent-fst-c64=\"\" class=\"col-lg-4\"><div _ngcontent-fst-c64=\"\" class=\"conte_botones\"><div _ngcontent-fst-c64=\"\" class=\"pull-left pd02 ancho-ie\"><a _ngcontent-fst-c64=\"\"><div _ngcontent-fst-c64=\"\" class=\"pic\"><img _ngcontent-fst-c64=\"\" src=\"./assets/imagenes/congresales.jpg\"></div><div _ngcontent-fst-c64=\"\" class=\"btn_home btn03\"><span _ngcontent-fst-c64=\"\" aria-hidden=\"true\" class=\"glyphicon glyphicon-chevron-right flechita_botones\"></span> Elecciones Congresales </div></a></div></div></div><div _ngcontent-fst-c64=\"\" class=\"col-lg-4\"><div _ngcontent-fst-c64=\"\" class=\"conte_botones\"><div _ngcontent-fst-c64=\"\" class=\"pull-left pd02 ancho-ie\"><a _ngcontent-fst-c64=\"\"><div _ngcontent-fst-c64=\"\" class=\"pic\"><img _ngcontent-fst-c64=\"\" src=\"./assets/imagenes/parlamento_andino.jpg\"></div><div _ngcontent-fst-c64=\"\" class=\"btn_home btn04\"><span _ngcontent-fst-c64=\"\" aria-hidden=\"true\" class=\"glyphicon glyphicon-chevron-right flechita_botones\"></span> Elecciones Parlamento Andino </div></a></div></div></div><div _ngcontent-fst-c64=\"\" class=\"col-lg-4\"><div _ngcontent-fst-c64=\"\" class=\"conte_botones\"><div _ngcontent-fst-c64=\"\" class=\"pull-left pd02 ancho-ie\"><a _ngcontent-fst-c64=\"\"><div _ngcontent-fst-c64=\"\" class=\"pic\"><img _ngcontent-fst-c64=\"\" src=\"./assets/imagenes/actas.jpg\"></div><div _ngcontent-fst-c64=\"\" class=\"btn_home btn05\"><span _ngcontent-fst-c64=\"\" aria-hidden=\"true\" class=\"glyphicon glyphicon-chevron-right flechita_botones\"></span> Actas </div></a></div></div></div><div _ngcontent-fst-c64=\"\" class=\"col-lg-4\"><div _ngcontent-fst-c64=\"\" class=\"conte_botones\"><div _ngcontent-fst-c64=\"\" class=\"pull-left pd02 ancho-ie\"><a _ngcontent-fst-c64=\"\"><div _ngcontent-fst-c64=\"\" class=\"pic\"><img _ngcontent-fst-c64=\"\" src=\"./assets/imagenes/participacion.jpg\"></div><div _ngcontent-fst-c64=\"\" class=\"btn_home btn06\"><span _ngcontent-fst-c64=\"\" aria-hidden=\"true\" class=\"glyphicon glyphicon-chevron-right flechita_botones\"></span> Participación Ciudadana </div></a></div></div></div></div></div></div></div></div><div _ngcontent-fst-c64=\"\" id=\"candidatoModalLong\" tabindex=\"-1\" role=\"dialog\" aria-labelledby=\"exampleModalLongTitle\" aria-hidden=\"true\" class=\"modal fade\"><div _ngcontent-fst-c64=\"\" role=\"document\" class=\"modal-dialog modal-lg\"><div _ngcontent-fst-c64=\"\" class=\"modal-content\"></div></div></div><footer _ngcontent-fst-c64=\"\"><div _ngcontent-fst-c64=\"\" class=\"centrar_footer\"><div _ngcontent-fst-c64=\"\" class=\"titulo_footer\"><p _ngcontent-fst-c64=\"\">Fono ONPE (01) 417-0630 <span _ngcontent-fst-c64=\"\" class=\"separador_footer\">|</span><a _ngcontent-fst-c64=\"\" href=\"mailto:informes@onpe.gob.pe\">informes@onpe.gob.pe</a><span _ngcontent-fst-c64=\"\" class=\"separador_footer\">|</span> Jr. Washington 1894, Cercado de Lima </p></div><div _ngcontent-fst-c64=\"\" class=\"datos_footer\"><a _ngcontent-fst-c64=\"\" href=\"https://www.facebook.com/ONPEoficial?fref=ts\" target=\"_blank\"><img _ngcontent-fst-c64=\"\" src=\"./assets/imagenes/logo_facebook.png\" alt=\"facebook\" class=\"ico_footer\"></a><a _ngcontent-fst-c64=\"\" href=\"https://twitter.com/ONPE_oficial\" target=\"_blank\"><img _ngcontent-fst-c64=\"\" src=\"./assets/imagenes/logo_twitter.png\" alt=\"twitter\" class=\"ico_footer\"></a><a _ngcontent-fst-c64=\"\" href=\"https://www.youtube.com/user/onpeprensa/featured\" target=\"_blank\"><img _ngcontent-fst-c64=\"\" src=\"./assets/imagenes/logo_youtube.png\" alt=\"youtube\" class=\"ico_footer\"></a><a _ngcontent-fst-c64=\"\" href=\"https://www.instagram.com/onpe_oficial/?hl=es-la\" target=\"_blank\"><img _ngcontent-fst-c64=\"\" src=\"./assets/imagenes/logo_instagram.png\" alt=\"instagram\" class=\"ico_footer\"></a><a _ngcontent-fst-c64=\"\" href=\"https://www.flickr.com/photos/onpeprensa/\" target=\"_blank\"><img _ngcontent-fst-c64=\"\" src=\"./assets/imagenes/logo_flickr.png\" alt=\"flickr\" class=\"ico_footer\"></a></div></div></footer></onpe-home-onpe><!----></onpe-root>\\n<script src=\"runtime-es2015.ab9953ec2e465abae7bb.js\" type=\"module\"></script><script src=\"runtime-es5.ab9953ec2e465abae7bb.js\" nomodule=\"\" defer=\"\"></script><script src=\"polyfills-es5.57927b3b209714c5472b.js\" nomodule=\"\" defer=\"\"></script><script src=\"polyfills-es2015.52509035a41bfa93766e.js\" type=\"module\"></script><script src=\"scripts.70faf5a86a90ac363714.js\" defer=\"\"></script><script src=\"main-es2015.a63fb5fd5e0b78be7c8f.js\" type=\"module\"></script><script src=\"main-es5.a63fb5fd5e0b78be7c8f.js\" nomodule=\"\" defer=\"\"></script>\\n<script>\\n    window.NREUM||(NREUM={}),__nr_require=function(t,e,n){function r(n){if(!e[n]){var o=e[n]={exports:{}};t[n][0].call(o.exports,function(e){var o=t[n][1][e];return r(o||e)},o,o.exports)}return e[n].exports}if(\"function\"==typeof __nr_require)return __nr_require;for(var o=0;o<n.length;o++)r(n[o]);return r}({1:[function(t,e,n){function r(t){try{s.console&&console.log(t)}catch(e){}}var o,i=t(\"ee\"),a=t(24),s={};try{o=localStorage.getItem(\"__nr_flags\").split(\",\"),console&&\"function\"==typeof console.log&&(s.console=!0,o.indexOf(\"dev\")!==-1&&(s.dev=!0),o.indexOf(\"nr_dev\")!==-1&&(s.nrDev=!0))}catch(c){}s.nrDev&&i.on(\"internal-error\",function(t){r(t.stack)}),s.dev&&i.on(\"fn-err\",function(t,e,n){r(n.stack)}),s.dev&&(r(\"NR AGENT IN DEVELOPMENT MODE\"),r(\"flags: \"+a(s,function(t,e){return t}).join(\", \")))},{}],2:[function(t,e,n){function r(t,e,n,r,s){try{l?l-=1:o(s||new UncaughtException(t,e,n),!0)}catch(f){try{i(\"ierr\",[f,c.now(),!0])}catch(d){}}return\"function\"==typeof u&&u.apply(this,a(arguments))}function UncaughtException(t,e,n){this.message=t||\"Uncaught error with no additional information\",this.sourceURL=e,this.line=n}function o(t,e){var n=e?null:c.now();i(\"err\",[t,n])}var i=t(\"handle\"),a=t(25),s=t(\"ee\"),c=t(\"loader\"),f=t(\"gos\"),u=window.onerror,d=!1,p=\"nr@seenError\",l=0;c.features.err=!0,t(1),window.onerror=r;try{throw new Error}catch(h){\"stack\"in h&&(t(13),t(12),\"addEventListener\"in window&&t(6),c.xhrWrappable&&t(14),d=!0)}s.on(\"fn-start\",function(t,e,n){d&&(l+=1)}),s.on(\"fn-err\",function(t,e,n){d&&!n[p]&&(f(n,p,function(){return!0}),this.thrown=!0,o(n))}),s.on(\"fn-end\",function(){d&&!this.thrown&&l>0&&(l-=1)}),s.on(\"internal-error\",function(t){i(\"ierr\",[t,c.now(),!0])})},{}],3:[function(t,e,n){t(\"loader\").features.ins=!0},{}],4:[function(t,e,n){function r(){L++,C=g.hash,this[u]=y.now()}function o(){L--,g.hash!==C&&i(0,!0);var t=y.now();this[h]=~~this[h]+t-this[u],this[d]=t}function i(t,e){E.emit(\"newURL\",[\"\"+g,e])}function a(t,e){t.on(e,function(){this[e]=y.now()})}var s=\"-start\",c=\"-end\",f=\"-body\",u=\"fn\"+s,d=\"fn\"+c,p=\"cb\"+s,l=\"cb\"+c,h=\"jsTime\",m=\"fetch\",v=\"addEventListener\",w=window,g=w.location,y=t(\"loader\");if(w[v]&&y.xhrWrappable){var x=t(10),b=t(11),E=t(8),O=t(6),R=t(13),P=t(7),N=t(14),T=t(9),M=t(\"ee\"),S=M.get(\"tracer\");t(16),y.features.spa=!0;var C,L=0;M.on(u,r),M.on(p,r),M.on(d,o),M.on(l,o),M.buffer([u,d,\"xhr-done\",\"xhr-resolved\"]),O.buffer([u]),R.buffer([\"setTimeout\"+c,\"clearTimeout\"+s,u]),N.buffer([u,\"new-xhr\",\"send-xhr\"+s]),P.buffer([m+s,m+\"-done\",m+f+s,m+f+c]),E.buffer([\"newURL\"]),x.buffer([u]),b.buffer([\"propagate\",p,l,\"executor-err\",\"resolve\"+s]),S.buffer([u,\"no-\"+u]),T.buffer([\"new-jsonp\",\"cb-start\",\"jsonp-error\",\"jsonp-end\"]),a(N,\"send-xhr\"+s),a(M,\"xhr-resolved\"),a(M,\"xhr-done\"),a(P,m+s),a(P,m+\"-done\"),a(T,\"new-jsonp\"),a(T,\"jsonp-end\"),a(T,\"cb-start\"),E.on(\"pushState-end\",i),E.on(\"replaceState-end\",i),w[v](\"hashchange\",i,!0),w[v](\"load\",i,!0),w[v](\"popstate\",function(){i(0,L>1)},!0)}},{}],5:[function(t,e,n){function r(t){}if(window.performance&&window.performance.timing&&window.performance.getEntriesByType){var o=t(\"ee\"),i=t(\"handle\"),a=t(13),s=t(12),c=\"learResourceTimings\",f=\"addEventListener\",u=\"resourcetimingbufferfull\",d=\"bstResource\",p=\"resource\",l=\"-start\",h=\"-end\",m=\"fn\"+l,v=\"fn\"+h,w=\"bstTimer\",g=\"pushState\",y=t(\"loader\");y.features.stn=!0,t(8),\"addEventListener\"in window&&t(6);var x=NREUM.o.EV;o.on(m,function(t,e){var n=t[0];n instanceof x&&(this.bstStart=y.now())}),o.on(v,function(t,e){var n=t[0];n instanceof x&&i(\"bst\",[n,e,this.bstStart,y.now()])}),a.on(m,function(t,e,n){this.bstStart=y.now(),this.bstType=n}),a.on(v,function(t,e){i(w,[e,this.bstStart,y.now(),this.bstType])}),s.on(m,function(){this.bstStart=y.now()}),s.on(v,function(t,e){i(w,[e,this.bstStart,y.now(),\"requestAnimationFrame\"])}),o.on(g+l,function(t){this.time=y.now(),this.startPath=location.pathname+location.hash}),o.on(g+h,function(t){i(\"bstHist\",[location.pathname+location.hash,this.startPath,this.time])}),f in window.performance&&(window.performance[\"c\"+c]?window.performance[f](u,function(t){i(d,[window.performance.getEntriesByType(p)]),window.performance[\"c\"+c]()},!1):window.performance[f](\"webkit\"+u,function(t){i(d,[window.performance.getEntriesByType(p)]),window.performance[\"webkitC\"+c]()},!1)),document[f](\"scroll\",r,{passive:!0}),document[f](\"keypress\",r,!1),document[f](\"click\",r,!1)}},{}],6:[function(t,e,n){function r(t){for(var e=t;e&&!e.hasOwnProperty(u);)e=Object.getPrototypeOf(e);e&&o(e)}function o(t){s.inPlace(t,[u,d],\"-\",i)}function i(t,e){return t[1]}var a=t(\"ee\").get(\"events\"),s=t(\"wrap-function\")(a,!0),c=t(\"gos\"),f=XMLHttpRequest,u=\"addEventListener\",d=\"removeEventListener\";e.exports=a,\"getPrototypeOf\"in Object?(r(document),r(window),r(f.prototype)):f.prototype.hasOwnProperty(u)&&(o(window),o(f.prototype)),a.on(u+\"-start\",function(t,e){var n=t[1],r=c(n,\"nr@wrapped\",function(){function t(){if(\"function\"==typeof n.handleEvent)return n.handleEvent.apply(n,arguments)}var e={object:t,\"function\":n}[typeof n];return e?s(e,\"fn-\",null,e.name||\"anonymous\"):n});this.wrapped=t[1]=r}),a.on(d+\"-start\",function(t){t[1]=this.wrapped||t[1]})},{}],7:[function(t,e,n){function r(t,e,n){var r=t[e];\"function\"==typeof r&&(t[e]=function(){var t=i(arguments),e={};o.emit(n+\"before-start\",[t],e);var a;e[m]&&e[m].dt&&(a=e[m].dt);var s=r.apply(this,t);return o.emit(n+\"start\",[t,a],s),s.then(function(t){return o.emit(n+\"end\",[null,t],s),t},function(t){throw o.emit(n+\"end\",[t],s),t})})}var o=t(\"ee\").get(\"fetch\"),i=t(25),a=t(24);e.exports=o;var s=window,c=\"fetch-\",f=c+\"body-\",u=[\"arrayBuffer\",\"blob\",\"json\",\"text\",\"formData\"],d=s.Request,p=s.Response,l=s.fetch,h=\"prototype\",m=\"nr@context\";d&&p&&l&&(a(u,function(t,e){r(d[h],e,f),r(p[h],e,f)}),r(s,\"fetch\",c),o.on(c+\"end\",function(t,e){var n=this;if(e){var r=e.headers.get(\"content-length\");null!==r&&(n.rxSize=r),o.emit(c+\"done\",[null,e],n)}else o.emit(c+\"done\",[t],n)}))},{}],8:[function(t,e,n){var r=t(\"ee\").get(\"history\"),o=t(\"wrap-function\")(r);e.exports=r;var i=window.history&&window.history.constructor&&window.history.constructor.prototype,a=window.history;i&&i.pushState&&i.replaceState&&(a=i),o.inPlace(a,[\"pushState\",\"replaceState\"],\"-\")},{}],9:[function(t,e,n){function r(t){function e(){c.emit(\"jsonp-end\",[],p),t.removeEventListener(\"load\",e,!1),t.removeEventListener(\"error\",n,!1)}function n(){c.emit(\"jsonp-error\",[],p),c.emit(\"jsonp-end\",[],p),t.removeEventListener(\"load\",e,!1),t.removeEventListener(\"error\",n,!1)}var r=t&&\"string\"==typeof t.nodeName&&\"script\"===t.nodeName.toLowerCase();if(r){var o=\"function\"==typeof t.addEventListener;if(o){var a=i(t.src);if(a){var u=s(a),d=\"function\"==typeof u.parent[u.key];if(d){var p={};f.inPlace(u.parent,[u.key],\"cb-\",p),t.addEventListener(\"load\",e,!1),t.addEventListener(\"error\",n,!1),c.emit(\"new-jsonp\",[t.src],p)}}}}}function o(){return\"addEventListener\"in window}function i(t){var e=t.match(u);return e?e[1]:null}function a(t,e){var n=t.match(p),r=n[1],o=n[3];return o?a(o,e[r]):e[r]}function s(t){var e=t.match(d);return e&&e.length>=3?{key:e[2],parent:a(e[1],window)}:{key:t,parent:window}}var c=t(\"ee\").get(\"jsonp\"),f=t(\"wrap-function\")(c);if(e.exports=c,o()){var u=/[?&](?:callback|cb)=([^&#]+)/,d=/(.*)\\\\.([^.]+)/,p=/^(\\\\w+)(\\\\.|$)(.*)$/,l=[\"appendChild\",\"insertBefore\",\"replaceChild\"];Node&&Node.prototype&&Node.prototype.appendChild?f.inPlace(Node.prototype,l,\"dom-\"):(f.inPlace(HTMLElement.prototype,l,\"dom-\"),f.inPlace(HTMLHeadElement.prototype,l,\"dom-\"),f.inPlace(HTMLBodyElement.prototype,l,\"dom-\")),c.on(\"dom-start\",function(t){r(t[0])})}},{}],10:[function(t,e,n){var r=t(\"ee\").get(\"mutation\"),o=t(\"wrap-function\")(r),i=NREUM.o.MO;e.exports=r,i&&(window.MutationObserver=function(t){return this instanceof i?new i(o(t,\"fn-\")):i.apply(this,arguments)},MutationObserver.prototype=i.prototype)},{}],11:[function(t,e,n){function r(t){var e=a.context(),n=s(t,\"executor-\",e),r=new f(n);return a.context(r).getCtx=function(){return e},a.emit(\"new-promise\",[r,e],e),r}function o(t,e){return e}var i=t(\"wrap-function\"),a=t(\"ee\").get(\"promise\"),s=i(a),c=t(24),f=NREUM.o.PR;e.exports=a,f&&(window.Promise=r,[\"all\",\"race\"].forEach(function(t){var e=f[t];f[t]=function(n){function r(t){return function(){a.emit(\"propagate\",[null,!o],i),o=o||!t}}var o=!1;c(n,function(e,n){Promise.resolve(n).then(r(\"all\"===t),r(!1))});var i=e.apply(f,arguments),s=f.resolve(i);return s}}),[\"resolve\",\"reject\"].forEach(function(t){var e=f[t];f[t]=function(t){var n=e.apply(f,arguments);return t!==n&&a.emit(\"propagate\",[t,!0],n),n}}),f.prototype[\"catch\"]=function(t){return this.then(null,t)},f.prototype=Object.create(f.prototype,{constructor:{value:r}}),c(Object.getOwnPropertyNames(f),function(t,e){try{r[e]=f[e]}catch(n){}}),a.on(\"executor-start\",function(t){t[0]=s(t[0],\"resolve-\",this),t[1]=s(t[1],\"resolve-\",this)}),a.on(\"executor-err\",function(t,e,n){t[1](n)}),s.inPlace(f.prototype,[\"then\"],\"then-\",o),a.on(\"then-start\",function(t,e){this.promise=e,t[0]=s(t[0],\"cb-\",this),t[1]=s(t[1],\"cb-\",this)}),a.on(\"then-end\",function(t,e,n){this.nextPromise=n;var r=this.promise;a.emit(\"propagate\",[r,!0],n)}),a.on(\"cb-end\",function(t,e,n){a.emit(\"propagate\",[n,!0],this.nextPromise)}),a.on(\"propagate\",function(t,e,n){this.getCtx&&!e||(this.getCtx=function(){if(t instanceof Promise)var e=a.context(t);return e&&e.getCtx?e.getCtx():this})}),r.toString=function(){return\"\"+f})},{}],12:[function(t,e,n){var r=t(\"ee\").get(\"raf\"),o=t(\"wrap-function\")(r),i=\"equestAnimationFrame\";e.exports=r,o.inPlace(window,[\"r\"+i,\"mozR\"+i,\"webkitR\"+i,\"msR\"+i],\"raf-\"),r.on(\"raf-start\",function(t){t[0]=o(t[0],\"fn-\")})},{}],13:[function(t,e,n){function r(t,e,n){t[0]=a(t[0],\"fn-\",null,n)}function o(t,e,n){this.method=n,this.timerDuration=isNaN(t[1])?0:+t[1],t[0]=a(t[0],\"fn-\",this,n)}var i=t(\"ee\").get(\"timer\"),a=t(\"wrap-function\")(i),s=\"setTimeout\",c=\"setInterval\",f=\"clearTimeout\",u=\"-start\",d=\"-\";e.exports=i,a.inPlace(window,[s,\"setImmediate\"],s+d),a.inPlace(window,[c],c+d),a.inPlace(window,[f,\"clearImmediate\"],f+d),i.on(c+u,r),i.on(s+u,o)},{}],14:[function(t,e,n){function r(t,e){d.inPlace(e,[\"onreadystatechange\"],\"fn-\",s)}function o(){var t=this,e=u.context(t);t.readyState>3&&!e.resolved&&(e.resolved=!0,u.emit(\"xhr-resolved\",[],t)),d.inPlace(t,g,\"fn-\",s)}function i(t){y.push(t),h&&(b?b.then(a):v?v(a):(E=-E,O.data=E))}function a(){for(var t=0;t<y.length;t++)r([],y[t]);y.length&&(y=[])}function s(t,e){return e}function c(t,e){for(var n in t)e[n]=t[n];return e}t(6);var f=t(\"ee\"),u=f.get(\"xhr\"),d=t(\"wrap-function\")(u),p=NREUM.o,l=p.XHR,h=p.MO,m=p.PR,v=p.SI,w=\"readystatechange\",g=[\"onload\",\"onerror\",\"onabort\",\"onloadstart\",\"onloadend\",\"onprogress\",\"ontimeout\"],y=[];e.exports=u;var x=window.XMLHttpRequest=function(t){var e=new l(t);try{u.emit(\"new-xhr\",[e],e),e.addEventListener(w,o,!1)}catch(n){try{u.emit(\"internal-error\",[n])}catch(r){}}return e};if(c(l,x),x.prototype=l.prototype,d.inPlace(x.prototype,[\"open\",\"send\"],\"-xhr-\",s),u.on(\"send-xhr-start\",function(t,e){r(t,e),i(e)}),u.on(\"open-xhr-start\",r),h){var b=m&&m.resolve();if(!v&&!m){var E=1,O=document.createTextNode(E);new h(a).observe(O,{characterData:!0})}}else f.on(\"fn-end\",function(t){t[0]&&t[0].type===w||a()})},{}],15:[function(t,e,n){function r(t){if(!i(t))return null;var e=window.NREUM;if(!e.loader_config)return null;var n=(e.loader_config.accountID||\"\").toString()||null,r=(e.loader_config.agentID||\"\").toString()||null,s=(e.loader_config.trustKey||\"\").toString()||null;if(!n||!r)return null;var c=a.generateCatId(),f=a.generateCatId(),u=Date.now(),d=o(c,f,u,n,r,s);return{header:d,guid:c,traceId:f,timestamp:u}}function o(t,e,n,r,o,i){var a=\"btoa\"in window&&\"function\"==typeof window.btoa;if(!a)return null;var s={v:[0,1],d:{ty:\"Browser\",ac:r,ap:o,id:t,tr:e,ti:n}};return i&&r!==i&&(s.d.tk=i),btoa(JSON.stringify(s))}function i(t){var e=!1,n=!1,r={};if(\"init\"in NREUM&&\"distributed_tracing\"in NREUM.init&&(r=NREUM.init.distributed_tracing,n=!!r.enabled),n)if(t.sameOrigin)e=!0;else if(r.allowed_origins instanceof Array)for(var o=0;o<r.allowed_origins.length;o++){var i=s(r.allowed_origins[o]);if(t.hostname===i.hostname&&t.protocol===i.protocol&&t.port===i.port){e=!0;break}}return n&&e}var a=t(22),s=t(17);e.exports={generateTracePayload:r,shouldGenerateTrace:i}},{}],16:[function(t,e,n){function r(t){var e=this.params,n=this.metrics;if(!this.ended){this.ended=!0;for(var r=0;r<l;r++)t.removeEventListener(p[r],this.listener,!1);e.aborted||(n.duration=s.now()-this.startTime,this.loadCaptureCalled||4!==t.readyState?null==e.status&&(e.status=0):a(this,t),n.cbTime=this.cbTime,d.emit(\"xhr-done\",[t],t),c(\"xhr\",[e,n,this.startTime]))}}function o(t,e){var n=t.responseType;if(\"json\"===n&&null!==e)return e;var r=\"arraybuffer\"===n||\"blob\"===n||\"json\"===n?t.response:t.responseText;return v(r)}function i(t,e){var n=f(e),r=t.params;r.host=n.hostname+\":\"+n.port,r.pathname=n.pathname,t.parsedOrigin=f(e),t.sameOrigin=t.parsedOrigin.sameOrigin}function a(t,e){t.params.status=e.status;var n=o(e,t.lastSize);if(n&&(t.metrics.rxSize=n),t.sameOrigin){var r=e.getResponseHeader(\"X-NewRelic-App-Data\");r&&(t.params.cat=r.split(\", \").pop())}t.loadCaptureCalled=!0}var s=t(\"loader\");if(s.xhrWrappable){var c=t(\"handle\"),f=t(17),u=t(15).generateTracePayload,d=t(\"ee\"),p=[\"load\",\"error\",\"abort\",\"timeout\"],l=p.length,h=t(\"id\"),m=t(20),v=t(19),w=window.XMLHttpRequest;s.features.xhr=!0,t(14),t(7),d.on(\"new-xhr\",function(t){var e=this;e.totalCbs=0,e.called=0,e.cbTime=0,e.end=r,e.ended=!1,e.xhrGuids={},e.lastSize=null,e.loadCaptureCalled=!1,t.addEventListener(\"load\",function(n){a(e,t)},!1),m&&(m>34||m<10)||window.opera||t.addEventListener(\"progress\",function(t){e.lastSize=t.loaded},!1)}),d.on(\"open-xhr-start\",function(t){this.params={method:t[0]},i(this,t[1]),this.metrics={}}),d.on(\"open-xhr-end\",function(t,e){\"loader_config\"in NREUM&&\"xpid\"in NREUM.loader_config&&this.sameOrigin&&e.setRequestHeader(\"X-NewRelic-ID\",NREUM.loader_config.xpid);var n=u(this.parsedOrigin);n&&n.header&&(e.setRequestHeader(\"newrelic\",n.header),this.dt=n)}),d.on(\"send-xhr-start\",function(t,e){var n=this.metrics,r=t[0],o=this;if(n&&r){var i=v(r);i&&(n.txSize=i)}this.startTime=s.now(),this.listener=function(t){try{\"abort\"!==t.type||o.loadCaptureCalled||(o.params.aborted=!0),(\"load\"!==t.type||o.called===o.totalCbs&&(o.onloadCalled||\"function\"!=typeof e.onload))&&o.end(e)}catch(n){try{d.emit(\"internal-error\",[n])}catch(r){}}};for(var a=0;a<l;a++)e.addEventListener(p[a],this.listener,!1)}),d.on(\"xhr-cb-time\",function(t,e,n){this.cbTime+=t,e?this.onloadCalled=!0:this.called+=1,this.called!==this.totalCbs||!this.onloadCalled&&\"function\"==typeof n.onload||this.end(n)}),d.on(\"xhr-load-added\",function(t,e){var n=\"\"+h(t)+!!e;this.xhrGuids&&!this.xhrGuids[n]&&(this.xhrGuids[n]=!0,this.totalCbs+=1)}),d.on(\"xhr-load-removed\",function(t,e){var n=\"\"+h(t)+!!e;this.xhrGuids&&this.xhrGuids[n]&&(delete this.xhrGuids[n],this.totalCbs-=1)}),d.on(\"addEventListener-end\",function(t,e){e instanceof w&&\"load\"===t[0]&&d.emit(\"xhr-load-added\",[t[1],t[2]],e)}),d.on(\"removeEventListener-end\",function(t,e){e instanceof w&&\"load\"===t[0]&&d.emit(\"xhr-load-removed\",[t[1],t[2]],e)}),d.on(\"fn-start\",function(t,e,n){e instanceof w&&(\"onload\"===n&&(this.onload=!0),(\"load\"===(t[0]&&t[0].type)||this.onload)&&(this.xhrCbStart=s.now()))}),d.on(\"fn-end\",function(t,e){this.xhrCbStart&&d.emit(\"xhr-cb-time\",[s.now()-this.xhrCbStart,this.onload,e],e)}),d.on(\"fetch-before-start\",function(t){var e,n=t[1]||{};\"string\"==typeof t[0]?e=t[0]:t[0]&&t[0].url&&(e=t[0].url),e&&(this.parsedOrigin=f(e),this.sameOrigin=this.parsedOrigin.sameOrigin);var r=u(this.parsedOrigin);if(r&&r.header){var o=r.header;if(\"string\"==typeof t[0]){var i={};for(var a in n)i[a]=n[a];i.headers=new Headers(n.headers||{}),i.headers.set(\"newrelic\",o),this.dt=r,t.length>1?t[1]=i:t.push(i)}else t[0]&&t[0].headers&&(t[0].headers.append(\"newrelic\",o),this.dt=r)}})}},{}],17:[function(t,e,n){var r={};e.exports=function(t){if(t in r)return r[t];var e=document.createElement(\"a\"),n=window.location,o={};e.href=t,o.port=e.port;var i=e.href.split(\"://\");!o.port&&i[1]&&(o.port=i[1].split(\"/\")[0].split(\"@\").pop().split(\":\")[1]),o.port&&\"0\"!==o.port||(o.port=\"https\"===i[0]?\"443\":\"80\"),o.hostname=e.hostname||n.hostname,o.pathname=e.pathname,o.protocol=i[0],\"/\"!==o.pathname.charAt(0)&&(o.pathname=\"/\"+o.pathname);var a=!e.protocol||\":\"===e.protocol||e.protocol===n.protocol,s=e.hostname===document.domain&&e.port===n.port;return o.sameOrigin=a&&(!e.hostname||s),\"/\"===o.pathname&&(r[t]=o),o}},{}],18:[function(t,e,n){function r(){}function o(t,e,n){return function(){return i(t,[f.now()].concat(s(arguments)),e?null:this,n),e?void 0:this}}var i=t(\"handle\"),a=t(24),s=t(25),c=t(\"ee\").get(\"tracer\"),f=t(\"loader\"),u=NREUM;\"undefined\"==typeof window.newrelic&&(newrelic=u);var d=[\"setPageViewName\",\"setCustomAttribute\",\"setErrorHandler\",\"finished\",\"addToTrace\",\"inlineHit\",\"addRelease\"],p=\"api-\",l=p+\"ixn-\";a(d,function(t,e){u[e]=o(p+e,!0,\"api\")}),u.addPageAction=o(p+\"addPageAction\",!0),u.setCurrentRouteName=o(p+\"routeName\",!0),e.exports=newrelic,u.interaction=function(){return(new r).get()};var h=r.prototype={createTracer:function(t,e){var n={},r=this,o=\"function\"==typeof e;return i(l+\"tracer\",[f.now(),t,n],r),function(){if(c.emit((o?\"\":\"no-\")+\"fn-start\",[f.now(),r,o],n),o)try{return e.apply(this,arguments)}catch(t){throw c.emit(\"fn-err\",[arguments,this,t],n),t}finally{c.emit(\"fn-end\",[f.now()],n)}}}};a(\"actionText,setName,setAttribute,save,ignore,onEnd,getContext,end,get\".split(\",\"),function(t,e){h[e]=o(l+e)}),newrelic.noticeError=function(t,e){\"string\"==typeof t&&(t=new Error(t)),i(\"err\",[t,f.now(),!1,e])}},{}],19:[function(t,e,n){e.exports=function(t){if(\"string\"==typeof t&&t.length)return t.length;if(\"object\"==typeof t){if(\"undefined\"!=typeof ArrayBuffer&&t instanceof ArrayBuffer&&t.byteLength)return t.byteLength;if(\"undefined\"!=typeof Blob&&t instanceof Blob&&t.size)return t.size;if(!(\"undefined\"!=typeof FormData&&t instanceof FormData))try{return JSON.stringify(t).length}catch(e){return}}}},{}],20:[function(t,e,n){var r=0,o=navigator.userAgent.match(/Firefox[\\\\/\\\\s](\\\\d+\\\\.\\\\d+)/);o&&(r=+o[1]),e.exports=r},{}],21:[function(t,e,n){function r(t,e){var n=t.getEntries();n.forEach(function(t){\"first-paint\"===t.name?a(\"timing\",[\"fp\",Math.floor(t.startTime)]):\"first-contentful-paint\"===t.name&&a(\"timing\",[\"fcp\",Math.floor(t.startTime)])})}function o(t){if(t instanceof c&&!u){var e,n=Math.round(t.timeStamp);e=n>1e12?Date.now()-n:s.now()-n,u=!0,a(\"timing\",[\"fi\",n,{type:t.type,fid:e}])}}if(!(\"init\"in NREUM&&\"page_view_timing\"in NREUM.init&&\"enabled\"in NREUM.init.page_view_timing&&NREUM.init.page_view_timing.enabled===!1)){var i,a=t(\"handle\"),s=t(\"loader\"),c=NREUM.o.EV;if(\"PerformanceObserver\"in window&&\"function\"==typeof window.PerformanceObserver){i=new PerformanceObserver(r);try{i.observe({entryTypes:[\"paint\"]})}catch(f){}}if(\"addEventListener\"in document){var u=!1,d=[\"click\",\"keydown\",\"mousedown\",\"pointerdown\",\"touchstart\"];d.forEach(function(t){document.addEventListener(t,o,!1)})}}},{}],22:[function(t,e,n){function r(){function t(){return e?15&e[n++]:16*Math.random()|0}var e=null,n=0,r=window.crypto||window.msCrypto;r&&r.getRandomValues&&(e=r.getRandomValues(new Uint8Array(31)));for(var o,i=\"xxxxxxxx-xxxx-4xxx-yxxx-xxxxxxxxxxxx\",a=\"\",s=0;s<i.length;s++)o=i[s],\"x\"===o?a+=t().toString(16):\"y\"===o?(o=3&t()|8,a+=o.toString(16)):a+=o;return a}function o(){function t(){return e?15&e[n++]:16*Math.random()|0}var e=null,n=0,r=window.crypto||window.msCrypto;r&&r.getRandomValues&&Uint8Array&&(e=r.getRandomValues(new Uint8Array(31)));for(var o=[],i=0;i<16;i++)o.push(t().toString(16));return o.join(\"\")}e.exports={generateUuid:r,generateCatId:o}},{}],23:[function(t,e,n){function r(t,e){if(!o)return!1;if(t!==o)return!1;if(!e)return!0;if(!i)return!1;for(var n=i.split(\".\"),r=e.split(\".\"),a=0;a<r.length;a++)if(r[a]!==n[a])return!1;return!0}var o=null,i=null,a=/Version\\\\/(\\\\S+)\\\\s+Safari/;if(navigator.userAgent){var s=navigator.userAgent,c=s.match(a);c&&s.indexOf(\"Chrome\")===-1&&s.indexOf(\"Chromium\")===-1&&(o=\"Safari\",i=c[1])}e.exports={agent:o,version:i,match:r}},{}],24:[function(t,e,n){function r(t,e){var n=[],r=\"\",i=0;for(r in t)o.call(t,r)&&(n[i]=e(r,t[r]),i+=1);return n}var o=Object.prototype.hasOwnProperty;e.exports=r},{}],25:[function(t,e,n){function r(t,e,n){e||(e=0),\"undefined\"==typeof n&&(n=t?t.length:0);for(var r=-1,o=n-e||0,i=Array(o<0?0:o);++r<o;)i[r]=t[e+r];return i}e.exports=r},{}],26:[function(t,e,n){e.exports={exists:\"undefined\"!=typeof window.performance&&window.performance.timing&&\"undefined\"!=typeof window.performance.timing.navigationStart}},{}],ee:[function(t,e,n){function r(){}function o(t){function e(t){return t&&t instanceof r?t:t?c(t,s,i):i()}function n(n,r,o,i){if(!p.aborted||i){t&&t(n,r,o);for(var a=e(o),s=m(n),c=s.length,f=0;f<c;f++)s[f].apply(a,r);var d=u[y[n]];return d&&d.push([x,n,r,a]),a}}function l(t,e){g[t]=m(t).concat(e)}function h(t,e){var n=g[t];if(n)for(var r=0;r<n.length;r++)n[r]===e&&n.splice(r,1)}function m(t){return g[t]||[]}function v(t){return d[t]=d[t]||o(n)}function w(t,e){f(t,function(t,n){e=e||\"feature\",y[n]=e,e in u||(u[e]=[])})}var g={},y={},x={on:l,addEventListener:l,removeEventListener:h,emit:n,get:v,listeners:m,context:e,buffer:w,abort:a,aborted:!1};return x}function i(){return new r}function a(){(u.api||u.feature)&&(p.aborted=!0,u=p.backlog={})}var s=\"nr@context\",c=t(\"gos\"),f=t(24),u={},d={},p=e.exports=o();p.backlog=u},{}],gos:[function(t,e,n){function r(t,e,n){if(o.call(t,e))return t[e];var r=n();if(Object.defineProperty&&Object.keys)try{return Object.defineProperty(t,e,{value:r,writable:!0,enumerable:!1}),r}catch(i){}return t[e]=r,r}var o=Object.prototype.hasOwnProperty;e.exports=r},{}],handle:[function(t,e,n){function r(t,e,n,r){o.buffer([t],r),o.emit(t,e,n)}var o=t(\"ee\").get(\"handle\");e.exports=r,r.ee=o},{}],id:[function(t,e,n){function r(t){var e=typeof t;return!t||\"object\"!==e&&\"function\"!==e?-1:t===window?0:a(t,i,function(){return o++})}var o=1,i=\"nr@id\",a=t(\"gos\");e.exports=r},{}],loader:[function(t,e,n){function r(){if(!E++){var t=b.info=NREUM.info,e=l.getElementsByTagName(\"script\")[0];if(setTimeout(u.abort,3e4),!(t&&t.licenseKey&&t.applicationID&&e))return u.abort();f(y,function(e,n){t[e]||(t[e]=n)}),c(\"mark\",[\"onload\",a()+b.offset],null,\"api\");var n=l.createElement(\"script\");n.src=\"https://\"+t.agent,e.parentNode.insertBefore(n,e)}}function o(){\"complete\"===l.readyState&&i()}function i(){c(\"mark\",[\"domContent\",a()+b.offset],null,\"api\")}function a(){return O.exists&&performance.now?Math.round(performance.now()):(s=Math.max((new Date).getTime(),s))-b.offset}var s=(new Date).getTime(),c=t(\"handle\"),f=t(24),u=t(\"ee\"),d=t(23),p=window,l=p.document,h=\"addEventListener\",m=\"attachEvent\",v=p.XMLHttpRequest,w=v&&v.prototype;NREUM.o={ST:setTimeout,SI:p.setImmediate,CT:clearTimeout,XHR:v,REQ:p.Request,EV:p.Event,PR:p.Promise,MO:p.MutationObserver};var g=\"\"+location,y={beacon:\"bam.nr-data.net\",errorBeacon:\"bam.nr-data.net\",agent:\"js-agent.newrelic.com/nr-spa-1158.min.js\"},x=v&&w&&w[h]&&!/CriOS/.test(navigator.userAgent),b=e.exports={offset:s,now:a,origin:g,features:{},xhrWrappable:x,userAgent:d};t(18),t(21),l[h]?(l[h](\"DOMContentLoaded\",i,!1),p[h](\"load\",r,!1)):(l[m](\"onreadystatechange\",o),p[m](\"onload\",r)),c(\"mark\",[\"firstbyte\",s],null,\"api\");var E=0,O=t(26)},{}],\"wrap-function\":[function(t,e,n){function r(t){return!(t&&t instanceof Function&&t.apply&&!t[a])}var o=t(\"ee\"),i=t(25),a=\"nr@original\",s=Object.prototype.hasOwnProperty,c=!1;e.exports=function(t,e){function n(t,e,n,o){function nrWrapper(){var r,a,s,c;try{a=this,r=i(arguments),s=\"function\"==typeof n?n(r,a):n||{}}catch(f){p([f,\"\",[r,a,o],s])}u(e+\"start\",[r,a,o],s);try{return c=t.apply(a,r)}catch(d){throw u(e+\"err\",[r,a,d],s),d}finally{u(e+\"end\",[r,a,c],s)}}return r(t)?t:(e||(e=\"\"),nrWrapper[a]=t,d(t,nrWrapper),nrWrapper)}function f(t,e,o,i){o||(o=\"\");var a,s,c,f=\"-\"===o.charAt(0);for(c=0;c<e.length;c++)s=e[c],a=t[s],r(a)||(t[s]=n(a,f?s+o:o,i,s))}function u(n,r,o){if(!c||e){var i=c;c=!0;try{t.emit(n,r,o,e)}catch(a){p([a,n,r,o])}c=i}}function d(t,e){if(Object.defineProperty&&Object.keys)try{var n=Object.keys(t);return n.forEach(function(n){Object.defineProperty(e,n,{get:function(){return t[n]},set:function(e){return t[n]=e,e}})}),e}catch(r){p([r])}for(var o in t)s.call(t,o)&&(e[o]=t[o]);return e}function p(e){try{t.emit(\"internal-error\",e)}catch(n){}}return t||(t=o),n.inPlace=f,n.flag=a,n}},{}]},{},[\"loader\",2,16,5,3,4]);\\n;NREUM.loader_config={accountID:\"1997682\",trustKey:\"1997682\",agentID:\"507167406\",licenseKey:\"df67590f5e\",applicationID:\"507167406\"}\\n;NREUM.info={beacon:\"bam.nr-data.net\",errorBeacon:\"bam.nr-data.net\",licenseKey:\"df67590f5e\",applicationID:\"507167406\",sa:1}\\n    </script>\\n\\n</body></html>'"
      ]
     },
     "execution_count": 12,
     "metadata": {},
     "output_type": "execute_result"
    }
   ],
   "source": [
    "# Get page source\n",
    "type(driver.page_source)\n",
    "driver.page_source"
   ]
  },
  {
   "cell_type": "code",
   "execution_count": 14,
   "metadata": {},
   "outputs": [],
   "source": [
    "# Refresh the page - \n",
    "driver.refresh() #reload or refresh the browser"
   ]
  },
  {
   "cell_type": "code",
   "execution_count": 15,
   "metadata": {},
   "outputs": [
    {
     "name": "stderr",
     "output_type": "stream",
     "text": [
      "C:\\Users\\ALEXAN~1\\AppData\\Local\\Temp/ipykernel_4352/1478372117.py:1: DeprecationWarning: executable_path has been deprecated, please pass in a Service object\n",
      "  driver = webdriver.Chrome(executable_path=r'chromedriver-win64/chromedriver.exe')\n"
     ]
    }
   ],
   "source": [
    "driver = webdriver.Chrome(executable_path=r'chromedriver-win64/chromedriver.exe')\n",
    "driver.maximize_window()\n",
    "\n",
    "url_1 = \"https://resultadoshistorico.onpe.gob.pe/EG2021/\"\n",
    "driver.get( url_1 )\n",
    "time.sleep(3)\n",
    "\n",
    "url_2 = \"https://www.google.com/\"\n",
    "driver.get( url_2 )\n",
    "time.sleep(3)\n",
    "\n",
    "driver.back()"
   ]
  },
  {
   "cell_type": "code",
   "execution_count": 16,
   "metadata": {},
   "outputs": [],
   "source": [
    "driver.close()"
   ]
  },
  {
   "cell_type": "code",
   "execution_count": 17,
   "metadata": {},
   "outputs": [],
   "source": [
    "driver.quit()"
   ]
  },
  {
   "cell_type": "markdown",
   "metadata": {},
   "source": [
    "![Quite and Close](Images/quite_close.png)"
   ]
  },
  {
   "cell_type": "code",
   "execution_count": 40,
   "metadata": {},
   "outputs": [
    {
     "data": {
      "text/plain": [
       "selenium.webdriver.chrome.webdriver.WebDriver"
      ]
     },
     "execution_count": 40,
     "metadata": {},
     "output_type": "execute_result"
    }
   ],
   "source": [
    "type(driver)"
   ]
  },
  {
   "cell_type": "markdown",
   "metadata": {},
   "source": [
    "`driver` is an `selenium.webdriver.chrome.webdriver.WebDriver` object. This object has some attributes that will help us to navigate on the web."
   ]
  },
  {
   "cell_type": "markdown",
   "metadata": {},
   "source": [
    "Now, you can see in the driver that we are in [this link](https://www.convocatoriascas.com/)."
   ]
  },
  {
   "cell_type": "markdown",
   "metadata": {},
   "source": [
    "# Best Practices before working"
   ]
  },
  {
   "cell_type": "markdown",
   "metadata": {},
   "source": [
    "1. Maximize the browser"
   ]
  },
  {
   "cell_type": "code",
   "execution_count": 18,
   "metadata": {},
   "outputs": [
    {
     "name": "stderr",
     "output_type": "stream",
     "text": [
      "C:\\Users\\ALEXAN~1\\AppData\\Local\\Temp/ipykernel_4352/4112896727.py:1: DeprecationWarning: executable_path has been deprecated, please pass in a Service object\n",
      "  driver = webdriver.Chrome(executable_path=r'chromedriver-win64/chromedriver.exe')\n"
     ]
    }
   ],
   "source": [
    "driver = webdriver.Chrome(executable_path=r'chromedriver-win64/chromedriver.exe')\n",
    "\n",
    "url = 'https://www.kaspersky.com/resource-center/definitions/cookies'\n",
    "driver.get( url )\n",
    "\n",
    "driver.maximize_window()"
   ]
  },
  {
   "cell_type": "markdown",
   "metadata": {},
   "source": [
    "2. Set the Browser Zoom Level to 100 percent"
   ]
  },
  {
   "cell_type": "code",
   "execution_count": 19,
   "metadata": {},
   "outputs": [],
   "source": [
    "driver.execute_script(\"document.body.style.zoom='100%'\")"
   ]
  },
  {
   "cell_type": "markdown",
   "metadata": {},
   "source": [
    "### 7.4.1. HTML\n",
    "HTML stands for HyperText Markup Language. You can deduce that it’s a language for creating web pages. It’s not a programming language like Python or Java, but it’s a markup language. It describes the elements of a page through tags characterized by angle brackets.\n",
    "\n",
    "1. The document always begins and ends using `<html>` and `</html>`.\n",
    "2. `<body></body>` constitutes the visible part of HTML document.\n",
    "3. `<h1>` to `<h3>` tags are defined for the headings."
   ]
  },
  {
   "cell_type": "markdown",
   "metadata": {},
   "source": [
    "#### 7.4.1.1. HTML Headings\n",
    "HTML headings are defined with the `<h1>` to `<h6>` tags.\n",
    "`<h1>` defines the most important heading. `<h6>` defines the least important heading.\n",
    "\n",
    "We can use text cells since markdown reads html tags."
   ]
  },
  {
   "cell_type": "markdown",
   "metadata": {},
   "source": [
    "<h1>This is heading 1</h1>\n",
    "<h2>This is heading 2</h2>\n",
    "<h3>This is heading 3</h3>"
   ]
  },
  {
   "cell_type": "markdown",
   "metadata": {},
   "source": [
    "#### 7.4.1.2. HTML Paragraphs\n",
    "HTML paragraphs are defined with the `<p>` tag.\n",
    "`<br>` tag is similar to `\"\\n\"`."
   ]
  },
  {
   "cell_type": "markdown",
   "metadata": {},
   "source": [
    "<html>\n",
    "<br>\n",
    "<p>My first paragraph.</p> <br>\n",
    "<p>This is another paragraph for this text cell.</p>\n",
    "<html>"
   ]
  },
  {
   "cell_type": "markdown",
   "metadata": {},
   "source": [
    "#### 7.4.1.3. HTML Links\n",
    "HTML links are defined with the <a> tag:"
   ]
  },
  {
   "cell_type": "markdown",
   "metadata": {},
   "source": [
    "<a href=\"http://bayes.cs.ucla.edu/jp_home.html\">This is a link for Judea Pearl Website</a>"
   ]
  },
  {
   "cell_type": "markdown",
   "metadata": {},
   "source": [
    "#### 7.4.1.3. Unordered HTML List\n",
    "An unordered list starts with the `<ul>` tag. Each list item starts with the `<li>` tag."
   ]
  },
  {
   "cell_type": "markdown",
   "metadata": {},
   "source": [
    "<ul>\n",
    "  <li>Coffee</li>\n",
    "  <li>Tea</li>\n",
    "  <li>Milk</li>\n",
    "</ul>"
   ]
  },
  {
   "cell_type": "markdown",
   "metadata": {},
   "source": [
    "#### 7.4.1.4. Ordered HTML List\n",
    "An ordered list starts with the `<ol>` tag. Each list item starts with the `<li>` tag."
   ]
  },
  {
   "cell_type": "markdown",
   "metadata": {},
   "source": [
    "<ol>\n",
    "  <li>Coffee</li>\n",
    "  <li>Tea</li>\n",
    "  <li>Milk</li>\n",
    "</ol>"
   ]
  },
  {
   "cell_type": "markdown",
   "metadata": {},
   "source": [
    "#### 7.4.1.4. HTML Tables\n",
    "\n",
    "A table in HTML consists of table cells inside rows and columns. Each table cell is defined by a `<td>` and a `</td>` tag. Each table row starts with a `<tr>` and end with a `</tr>` tag."
   ]
  },
  {
   "cell_type": "markdown",
   "metadata": {},
   "source": [
    "<table>\n",
    "  <tr>\n",
    "    <th>Manager</th>\n",
    "    <th>Club</th>\n",
    "    <th>Nationality</th>\n",
    "  </tr>\n",
    "  <tr>\n",
    "    <td>Mikel Arteta</td>\n",
    "    <td>Arsenal</td>\n",
    "    <td>Spain</td>\n",
    "  </tr>\n",
    "  <tr>\n",
    "    <td>Thomas Tuchel</td>\n",
    "    <td>Chelsea</td>\n",
    "    <td>Germany</td>\n",
    "  </tr>\n",
    "</table>"
   ]
  },
  {
   "cell_type": "markdown",
   "metadata": {},
   "source": [
    "#### 7.4.1.5. HTML Iframes\n",
    "\n",
    "An HTML iframe is used to display a web page within a web page."
   ]
  },
  {
   "cell_type": "markdown",
   "metadata": {},
   "source": [
    "\n",
    "<!DOCTYPE html>\n",
    "<html>\n",
    "  \n",
    "<head>\n",
    "    <title>HTML iframe src Attribute</title>\n",
    "</head>\n",
    "  \n",
    "<body style=\"text-align: center\">\n",
    "    <h1>Diploma</h1>\n",
    "    <h2>HTML iframe</h2>\n",
    "    <iframe>\n",
    "          \n",
    "        <!DOCTYPE html>\n",
    "        <html>\n",
    "\n",
    "        <head>\n",
    "            <title>New html</title>\n",
    "        </head>\n",
    "\n",
    "        <body style=\"text-align: center\">\n",
    "            <h1>Diploma2</h1>\n",
    "            <h2>HTML iframe</h2>\n",
    "            <iframe>\n",
    "\n",
    "            </iframe>\n",
    "        </body>\n",
    "\n",
    "        </html>\n",
    "    </iframe>\n",
    "</body>\n",
    "  \n",
    "</html>"
   ]
  },
  {
   "cell_type": "markdown",
   "metadata": {},
   "source": [
    "#### 7.4.1.6. HTML Tags - Key"
   ]
  },
  {
   "cell_type": "markdown",
   "metadata": {},
   "source": [
    "|Tag|Description|\n",
    "|---|---|\n",
    "|`<h1>` to `<h6>`|\tDefines HTML headings|\n",
    "|`<ul>`|\tDefines an unordered list|\n",
    "|`<ol>`|\tDefines an ordered list|\n",
    "|`<p>`|\tDefines a paragraph|\n",
    "|`<a>`|\tIt is termed as anchor tag and it creates a hyperlink or link.|\n",
    "|`<div>`|\tIt defines a division or section within HTML document.|\n",
    "|`<strong>`|\tIt is used to define important text.|\n",
    "|`<table>`|\tIt is used to present data in tabular form or to create a table within HTML document.|\n",
    "|`<td>`|\tIt is used to define cells of an HTML table which contains table data|\n",
    "|`<iframe>`|\tDefines an inline frame|"
   ]
  },
  {
   "cell_type": "markdown",
   "metadata": {},
   "source": [
    "### 7.4. Identifying elements in a web page\n",
    "\n",
    "To identify elements of a webpage, we need to inspect the webpage. Open the driver and press `Ctrl`+ `Shift` + `I`."
   ]
  },
  {
   "cell_type": "markdown",
   "metadata": {},
   "source": [
    "#### One Element\n",
    "|Method|Description|\n",
    "|---|---|\n",
    "|find_element_by_id| Use id.|\n",
    "|find_element_by_name| Use name.|\n",
    "|find_element_by_xpath| Use Xpath.|\n",
    "|find_element_by_tag_name| Use HTML tag.|\n",
    "|find_element_by_class_name| Use class name.|\n",
    "|find_element_by_css_selector| Use css selector.|"
   ]
  },
  {
   "cell_type": "markdown",
   "metadata": {},
   "source": [
    "#### Multiple  elements\n",
    "|Method|Description|\n",
    "|---|---|\n",
    "|find_elements_by_id| Use id.|\n",
    "|find_elements_by_name| Use name.|\n",
    "|find_elements_by_xpath| Use Xpath.|\n",
    "|find_elements_by_tag_name| Use HTML tag.|\n",
    "|find_elements_by_class_name| Use class name.|\n",
    "|find_elements_by_css_selector| Use css selector.|"
   ]
  },
  {
   "cell_type": "markdown",
   "metadata": {},
   "source": [
    "### 7.4.1. Xpath\n",
    "XPath in Selenium is an XML path used for navigation through the HTML structure of the page. It is a syntax or language for finding any element on a web page using XML path expression.\n",
    "\n",
    "The basic format of XPath in selenium is explained below with screen shot.\n",
    "<img src=\"../_images/x_path.png\">"
   ]
  },
  {
   "cell_type": "markdown",
   "metadata": {},
   "source": [
    "**DO NOT COMPLICATE!**\n",
    "Finding the XPath of a element:\n",
    "1. Go to the element\n",
    "2. Right click\n",
    "3. Inspect - You may have to do it twice.\n",
    "4. Go to the selected line\n",
    "5. Right click\n",
    "7. Copy \n",
    "8. Copy Full Xpath"
   ]
  },
  {
   "cell_type": "markdown",
   "metadata": {},
   "source": [
    "**Example**\n",
    "\n",
    "We are going to select `Economistas` option and make a click. Use `find_element_by_xpath` and click."
   ]
  },
  {
   "cell_type": "code",
   "execution_count": 20,
   "metadata": {},
   "outputs": [
    {
     "name": "stderr",
     "output_type": "stream",
     "text": [
      "C:\\Users\\ALEXAN~1\\AppData\\Local\\Temp/ipykernel_4352/3855102828.py:1: DeprecationWarning: executable_path has been deprecated, please pass in a Service object\n",
      "  driver = webdriver.Chrome(executable_path=r'chromedriver-win64/chromedriver.exe')\n"
     ]
    }
   ],
   "source": [
    "driver = webdriver.Chrome(executable_path=r'chromedriver-win64/chromedriver.exe')\n",
    "driver.maximize_window()\n",
    "\n",
    "url_1 = \"https://resultadoshistorico.onpe.gob.pe/EG2021/\"\n",
    "driver.get( url_1 )\n",
    "#time.sleep(3)"
   ]
  },
  {
   "cell_type": "code",
   "execution_count": 21,
   "metadata": {},
   "outputs": [],
   "source": [
    "from selenium.webdriver.common.by import By"
   ]
  },
  {
   "cell_type": "code",
   "execution_count": 22,
   "metadata": {},
   "outputs": [],
   "source": [
    "resumen_general = driver.find_element(By.XPATH,'/html/body/onpe-root/onpe-home-onpe/div[1]/div/div/div/div[2]/div[1]/div/div/a/div[1]/img')\n",
    "resumen_general.click()"
   ]
  },
  {
   "cell_type": "code",
   "execution_count": 23,
   "metadata": {},
   "outputs": [
    {
     "name": "stderr",
     "output_type": "stream",
     "text": [
      "C:\\Users\\ALEXAN~1\\AppData\\Local\\Temp/ipykernel_4352/1443114938.py:2: DeprecationWarning: find_element_by_* commands are deprecated. Please use find_element() instead\n",
      "  driver.find_element_by_id('select_ambito')\n",
      "C:\\Users\\ALEXAN~1\\AppData\\Local\\Temp/ipykernel_4352/1443114938.py:3: DeprecationWarning: find_element_by_* commands are deprecated. Please use find_element() instead\n",
      "  driver.find_element_by_name('cod_ambito')\n"
     ]
    },
    {
     "data": {
      "text/plain": [
       "<selenium.webdriver.remote.webelement.WebElement (session=\"aaafdb76b60d2b6eac4cf8995a6bcc39\", element=\"174B5793B4746378BDD626DDA1E45577_element_50\")>"
      ]
     },
     "execution_count": 23,
     "metadata": {},
     "output_type": "execute_result"
    }
   ],
   "source": [
    "# Best practices\n",
    "driver.find_element_by_id('select_ambito')\n",
    "driver.find_element_by_name('cod_ambito')\n",
    "#driver.find_element_by_xpath('/html/body/onpe-root/onpe-layout-container/onpe-onpe-epres-re/div[1]/div[3]/div[1]/div[1]/div/div/div/select')"
   ]
  },
  {
   "cell_type": "code",
   "execution_count": 24,
   "metadata": {},
   "outputs": [
    {
     "name": "stderr",
     "output_type": "stream",
     "text": [
      "C:\\Users\\ALEXAN~1\\AppData\\Local\\Temp/ipykernel_4352/3486675539.py:1: DeprecationWarning: find_element_by_* commands are deprecated. Please use find_element() instead\n",
      "  driver.find_element_by_class_name('select_ubigeo')\n"
     ]
    },
    {
     "data": {
      "text/plain": [
       "<selenium.webdriver.remote.webelement.WebElement (session=\"aaafdb76b60d2b6eac4cf8995a6bcc39\", element=\"174B5793B4746378BDD626DDA1E45577_element_50\")>"
      ]
     },
     "execution_count": 24,
     "metadata": {},
     "output_type": "execute_result"
    }
   ],
   "source": [
    "driver.find_element_by_class_name('select_ubigeo')"
   ]
  },
  {
   "cell_type": "code",
   "execution_count": 25,
   "metadata": {},
   "outputs": [
    {
     "name": "stderr",
     "output_type": "stream",
     "text": [
      "C:\\Users\\ALEXAN~1\\AppData\\Local\\Temp/ipykernel_4352/2823056965.py:1: DeprecationWarning: find_element_by_* commands are deprecated. Please use find_element() instead\n",
      "  searchBox = driver.find_element_by_id('select_ambito')\n"
     ]
    }
   ],
   "source": [
    "searchBox = driver.find_element_by_id('select_ambito')\n",
    "# searchBox = driver.find_element_by_xpath('//*[@id=\"select_ambito\"]')\n",
    "# searchBox = driver.find_element_by_css_selector('#select_ambito')"
   ]
  },
  {
   "cell_type": "markdown",
   "metadata": {},
   "source": [
    "![Web Element](Images/Web_Elementpng.png)"
   ]
  },
  {
   "cell_type": "code",
   "execution_count": 26,
   "metadata": {},
   "outputs": [
    {
     "data": {
      "text/plain": [
       "'T'"
      ]
     },
     "execution_count": 26,
     "metadata": {},
     "output_type": "execute_result"
    }
   ],
   "source": [
    "searchBox.get_attribute('value')"
   ]
  },
  {
   "cell_type": "code",
   "execution_count": 35,
   "metadata": {},
   "outputs": [
    {
     "name": "stderr",
     "output_type": "stream",
     "text": [
      "C:\\Users\\ALEXAN~1\\AppData\\Local\\Temp/ipykernel_4352/892230165.py:1: DeprecationWarning: executable_path has been deprecated, please pass in a Service object\n",
      "  driver = webdriver.Chrome(executable_path=r'chromedriver-win64/chromedriver.exe')\n"
     ]
    }
   ],
   "source": [
    "driver = webdriver.Chrome(executable_path=r'chromedriver-win64/chromedriver.exe')\n",
    "\n",
    "url = 'https://resultadoshistorico.onpe.gob.pe/EG2021/'\n",
    "driver.get( url )\n",
    "\n",
    "driver.maximize_window()"
   ]
  },
  {
   "cell_type": "code",
   "execution_count": 37,
   "metadata": {},
   "outputs": [
    {
     "name": "stderr",
     "output_type": "stream",
     "text": [
      "C:\\Users\\ALEXAN~1\\AppData\\Local\\Temp/ipykernel_4352/1411387364.py:1: DeprecationWarning: find_element_by_* commands are deprecated. Please use find_element() instead\n",
      "  driver.find_element_by_xpath(\"/html/body/onpe-root/onpe-home-onpe/div[1]/div/div/div/div[2]/div[1]/div/div/a/div[1]/img\").click()\n"
     ]
    }
   ],
   "source": [
    "driver.find_element_by_xpath(\"/html/body/onpe-root/onpe-home-onpe/div[1]/div/div/div/div[2]/div[1]/div/div/a/div[1]/img\").click()"
   ]
  },
  {
   "cell_type": "code",
   "execution_count": 39,
   "metadata": {},
   "outputs": [
    {
     "name": "stderr",
     "output_type": "stream",
     "text": [
      "C:\\Users\\ALEXAN~1\\AppData\\Local\\Temp/ipykernel_4352/1563849843.py:1: DeprecationWarning: find_element_by_* commands are deprecated. Please use find_element() instead\n",
      "  searchBox = driver.find_element_by_xpath('/html/body/onpe-root/onpe-layout-container/onpe-onpe-rgen-rsgr/div/div[2]/div[1]/div[1]/div/div/div[1]/select/option[2]')\n"
     ]
    }
   ],
   "source": [
    "searchBox = driver.find_element_by_xpath('/html/body/onpe-root/onpe-layout-container/onpe-onpe-rgen-rsgr/div/div[2]/div[1]/div[1]/div/div/div[1]/select/option[2]')\n",
    "searchBox.click()"
   ]
  },
  {
   "cell_type": "code",
   "execution_count": 40,
   "metadata": {},
   "outputs": [
    {
     "name": "stderr",
     "output_type": "stream",
     "text": [
      "C:\\Users\\ALEXAN~1\\AppData\\Local\\Temp/ipykernel_4352/792330971.py:1: DeprecationWarning: find_element_by_* commands are deprecated. Please use find_element() instead\n",
      "  searchBox = driver.find_element_by_xpath('/html/body/onpe-root/onpe-layout-container/onpe-onpe-rgen-rsgr/div/div[2]/div[1]/div[1]/div/div/div[1]/select/option[2]')\n"
     ]
    },
    {
     "data": {
      "text/plain": [
       "'PERÚ'"
      ]
     },
     "execution_count": 40,
     "metadata": {},
     "output_type": "execute_result"
    }
   ],
   "source": [
    "searchBox = driver.find_element_by_xpath('/html/body/onpe-root/onpe-layout-container/onpe-onpe-rgen-rsgr/div/div[2]/div[1]/div[1]/div/div/div[1]/select/option[2]')\n",
    "searchBox.text"
   ]
  },
  {
   "cell_type": "code",
   "execution_count": 41,
   "metadata": {},
   "outputs": [
    {
     "name": "stderr",
     "output_type": "stream",
     "text": [
      "C:\\Users\\ALEXAN~1\\AppData\\Local\\Temp/ipykernel_4352/2800196250.py:1: DeprecationWarning: find_element_by_* commands are deprecated. Please use find_element() instead\n",
      "  searchBox = driver.find_element_by_id('select_ambito')\n"
     ]
    },
    {
     "data": {
      "text/plain": [
       "<selenium.webdriver.remote.webelement.WebElement (session=\"b5ca8d1ebed563e3c66a5bd8dcd59bc6\", element=\"F4712B94759471922218DCBC330F7E1A_element_91\")>"
      ]
     },
     "execution_count": 41,
     "metadata": {},
     "output_type": "execute_result"
    }
   ],
   "source": [
    "searchBox = driver.find_element_by_id('select_ambito')\n",
    "searchBox"
   ]
  },
  {
   "cell_type": "markdown",
   "metadata": {},
   "source": [
    "**Suggestion** <br>\n",
    "We do not recomend to use `tag` at first time since most web pages use nested tags and it is difficult to define a element using HTML tag. However, it is great to find elements that is inside another located element in the web. Let's see the example."
   ]
  },
  {
   "cell_type": "markdown",
   "metadata": {},
   "source": [
    "# EXAMPLE USING ONPE WEBPAGE"
   ]
  },
  {
   "cell_type": "markdown",
   "metadata": {},
   "source": [
    "## [First Round](https://resultadoshistorico.onpe.gob.pe/EG2021/ResumenGeneral/10/T)"
   ]
  },
  {
   "cell_type": "code",
   "execution_count": 42,
   "metadata": {},
   "outputs": [],
   "source": [
    "# pip install lxml\n",
    "# pip install lxmunidecodel"
   ]
  },
  {
   "cell_type": "code",
   "execution_count": 43,
   "metadata": {},
   "outputs": [],
   "source": [
    "from selenium import webdriver\n",
    "from selenium.webdriver.common.keys import Keys\n",
    "from selenium.common.exceptions import NoSuchElementException\n",
    "from selenium.webdriver import ActionChains\n",
    "import pandas as pd\n",
    "import numpy as np\n",
    "import os\n",
    "import time\n",
    "import re\n",
    "import unidecode\n",
    "import time \n",
    "from selenium.webdriver.support.ui import Select\n",
    "from webdriver_manager.chrome import ChromeDriverManager"
   ]
  },
  {
   "cell_type": "markdown",
   "metadata": {},
   "source": [
    "# Driver Path Address"
   ]
  },
  {
   "cell_type": "code",
   "execution_count": 44,
   "metadata": {},
   "outputs": [
    {
     "name": "stderr",
     "output_type": "stream",
     "text": [
      "C:\\Users\\ALEXAN~1\\AppData\\Local\\Temp/ipykernel_4352/523775411.py:1: DeprecationWarning: executable_path has been deprecated, please pass in a Service object\n",
      "  driver = webdriver.Chrome(executable_path=r'chromedriver-win64/chromedriver.exe')\n"
     ]
    }
   ],
   "source": [
    "driver = webdriver.Chrome(executable_path=r'chromedriver-win64/chromedriver.exe')\n",
    "# Maximize window\n",
    "driver.maximize_window()"
   ]
  },
  {
   "cell_type": "markdown",
   "metadata": {},
   "source": [
    "# Extracting all tables"
   ]
  },
  {
   "cell_type": "code",
   "execution_count": 45,
   "metadata": {},
   "outputs": [
    {
     "name": "stderr",
     "output_type": "stream",
     "text": [
      "C:\\Users\\ALEXAN~1\\AppData\\Local\\Temp/ipykernel_4352/204945401.py:1: DeprecationWarning: executable_path has been deprecated, please pass in a Service object\n",
      "  driver = webdriver.Chrome( ChromeDriverManager().install() )\n",
      "C:\\Users\\ALEXAN~1\\AppData\\Local\\Temp/ipykernel_4352/204945401.py:9: DeprecationWarning: find_element_by_* commands are deprecated. Please use find_element() instead\n",
      "  resumen_general = driver.find_element_by_xpath('/html/body/onpe-root/onpe-home-onpe/div[1]/div/div/div/div[2]/div[1]/div/div/a/div[1]/img')\n"
     ]
    }
   ],
   "source": [
    "driver = webdriver.Chrome( ChromeDriverManager().install() )\n",
    "# Maximize window\n",
    "driver.maximize_window()\n",
    "\n",
    "# go to the link\n",
    "url_1 = \"https://resultadoshistorico.onpe.gob.pe/EG2021/\"\n",
    "driver.get( url_1 )\n",
    "\n",
    "resumen_general = driver.find_element_by_xpath('/html/body/onpe-root/onpe-home-onpe/div[1]/div/div/div/div[2]/div[1]/div/div/a/div[1]/img')\n",
    "resumen_general.click()"
   ]
  },
  {
   "cell_type": "code",
   "execution_count": 46,
   "metadata": {},
   "outputs": [
    {
     "name": "stderr",
     "output_type": "stream",
     "text": [
      "C:\\Users\\ALEXAN~1\\AppData\\Local\\Temp/ipykernel_4352/2079164939.py:1: DeprecationWarning: find_element_by_* commands are deprecated. Please use find_element() instead\n",
      "  presidential = driver.find_element_by_xpath('/html/body/onpe-root/onpe-layout-container/onpe-onpe-rgen-rsgr/div/div[2]/div[2]/ul/li[1]/a')\n"
     ]
    }
   ],
   "source": [
    "presidential = driver.find_element_by_xpath('/html/body/onpe-root/onpe-layout-container/onpe-onpe-rgen-rsgr/div/div[2]/div[2]/ul/li[1]/a')\n",
    "presidential.click()"
   ]
  },
  {
   "cell_type": "code",
   "execution_count": 47,
   "metadata": {},
   "outputs": [
    {
     "name": "stderr",
     "output_type": "stream",
     "text": [
      "C:\\Users\\ALEXAN~1\\AppData\\Local\\Temp/ipykernel_4352/3582292250.py:1: DeprecationWarning: find_element_by_* commands are deprecated. Please use find_element() instead\n",
      "  opt_peru = driver.find_element_by_xpath('/html/body/onpe-root/onpe-layout-container/onpe-onpe-rgen-rsgr/div/div[2]/div[1]/div[1]/div/div/div[1]/select/option[2]')\n"
     ]
    }
   ],
   "source": [
    "opt_peru = driver.find_element_by_xpath('/html/body/onpe-root/onpe-layout-container/onpe-onpe-rgen-rsgr/div/div[2]/div[1]/div[1]/div/div/div[1]/select/option[2]')\n",
    "opt_peru.click()"
   ]
  },
  {
   "cell_type": "markdown",
   "metadata": {},
   "source": [
    "## Pesidential results"
   ]
  },
  {
   "cell_type": "code",
   "execution_count": 48,
   "metadata": {},
   "outputs": [],
   "source": [
    "# presidential = driver.find_element_by_xpath('/html/body/onpe-root/onpe-layout-container/onpe-menu/div/nav/div/div/div[2]/div/div[2]/a/span')\n",
    "# presidential.click"
   ]
  },
  {
   "cell_type": "code",
   "execution_count": 49,
   "metadata": {},
   "outputs": [],
   "source": [
    "# # presidential section\n",
    "# presidential = driver.find_element_by_xpath( \"/html/body/onpe-root/onpe-layout-container/onpe-menu/div/nav/div/div/div[2]/div/div[2]/a\" )\n",
    "# presidential.click()"
   ]
  },
  {
   "cell_type": "markdown",
   "metadata": {},
   "source": [
    "### Get all elements from all options"
   ]
  },
  {
   "cell_type": "code",
   "execution_count": 50,
   "metadata": {},
   "outputs": [],
   "source": [
    "# scope = driver.find_element_by_xpath( \"/html/body/onpe-root/onpe-layout-container/onpe-onpe-epres-re/div[1]/div[3]/div[1]/div[1]/div/div/div/select\" )\n",
    "# scope.click()"
   ]
  },
  {
   "cell_type": "code",
   "execution_count": 52,
   "metadata": {},
   "outputs": [
    {
     "data": {
      "text/plain": [
       "'AMAZONAS'"
      ]
     },
     "execution_count": 52,
     "metadata": {},
     "output_type": "execute_result"
    }
   ],
   "source": [
    "#Actualización de las funciones para usar objetos con selenium\n",
    "regiones = driver.find_element(By.XPATH, '/html/body/onpe-root/onpe-layout-container/onpe-onpe-rgen-rsgr/div/div[2]/div[1]/div[1]/div/div/div[2]/select')\n",
    "regiones.find_elements(By.TAG_NAME,\"option\")[1].text"
   ]
  },
  {
   "cell_type": "code",
   "execution_count": null,
   "metadata": {},
   "outputs": [],
   "source": []
  },
  {
   "cell_type": "code",
   "execution_count": 57,
   "metadata": {},
   "outputs": [
    {
     "name": "stderr",
     "output_type": "stream",
     "text": [
      "C:\\Users\\ALEXAN~1\\AppData\\Local\\Temp/ipykernel_4352/2865713082.py:1: DeprecationWarning: find_element_by_* commands are deprecated. Please use find_element() instead\n",
      "  scope_options = driver.find_element_by_xpath('/html/body/onpe-root/onpe-layout-container/onpe-onpe-rgen-rsgr/div/div[2]/div[1]/div[1]/div/div/div[1]/select')\n",
      "C:\\Users\\Alexander\\anaconda3\\lib\\site-packages\\selenium\\webdriver\\remote\\webelement.py:359: UserWarning: find_elements_by_* commands are deprecated. Please use find_elements() instead\n",
      "  warnings.warn(\"find_elements_by_* commands are deprecated. Please use find_elements() instead\")\n"
     ]
    },
    {
     "data": {
      "text/plain": [
       "'EXTRANJERO'"
      ]
     },
     "execution_count": 57,
     "metadata": {},
     "output_type": "execute_result"
    }
   ],
   "source": [
    "scope_options = driver.find_element_by_xpath('/html/body/onpe-root/onpe-layout-container/onpe-onpe-rgen-rsgr/div/div[2]/div[1]/div[1]/div/div/div[1]/select')\n",
    "scope_options.find_elements_by_tag_name(\"option\")[2].text"
   ]
  },
  {
   "cell_type": "code",
   "execution_count": 59,
   "metadata": {},
   "outputs": [
    {
     "name": "stderr",
     "output_type": "stream",
     "text": [
      "C:\\Users\\ALEXAN~1\\AppData\\Local\\Temp/ipykernel_4352/939183077.py:1: DeprecationWarning: find_element_by_* commands are deprecated. Please use find_element() instead\n",
      "  scope_options = driver.find_element_by_xpath('/html/body/onpe-root/onpe-layout-container/onpe-onpe-rgen-rsgr/div/div[2]/div[1]/div[1]/div/div/div[1]/select')\n"
     ]
    }
   ],
   "source": [
    "scope_options = driver.find_element_by_xpath('/html/body/onpe-root/onpe-layout-container/onpe-onpe-rgen-rsgr/div/div[2]/div[1]/div[1]/div/div/div[1]/select')"
   ]
  },
  {
   "cell_type": "code",
   "execution_count": 62,
   "metadata": {},
   "outputs": [
    {
     "data": {
      "text/plain": [
       "'EXTRANJERO'"
      ]
     },
     "execution_count": 62,
     "metadata": {},
     "output_type": "execute_result"
    }
   ],
   "source": [
    "scope_options.find_elements_by_tag_name(\"option\")[0].text\n",
    "scope_options.find_elements_by_tag_name(\"option\")[1].text\n",
    "scope_options.find_elements_by_tag_name(\"option\")[2].text"
   ]
  },
  {
   "cell_type": "code",
   "execution_count": 63,
   "metadata": {},
   "outputs": [
    {
     "name": "stderr",
     "output_type": "stream",
     "text": [
      "C:\\Users\\ALEXAN~1\\AppData\\Local\\Temp/ipykernel_4352/457926441.py:1: DeprecationWarning: find_element_by_* commands are deprecated. Please use find_element() instead\n",
      "  scope = driver.find_element_by_xpath( \"/html/body/onpe-root/onpe-layout-container/onpe-onpe-rgen-rsgr/div/div[2]/div[1]/div[1]/div/div/div[1]/select\" )\n"
     ]
    },
    {
     "data": {
      "text/plain": [
       "<selenium.webdriver.remote.webelement.WebElement (session=\"7044b58859814a98da64965ce17db995\", element=\"98CC869DA3BC59F8EC849A0A10F8CCE8_element_369\")>"
      ]
     },
     "execution_count": 63,
     "metadata": {},
     "output_type": "execute_result"
    }
   ],
   "source": [
    "scope = driver.find_element_by_xpath( \"/html/body/onpe-root/onpe-layout-container/onpe-onpe-rgen-rsgr/div/div[2]/div[1]/div[1]/div/div/div[1]/select\" )\n",
    "scope"
   ]
  },
  {
   "cell_type": "code",
   "execution_count": 64,
   "metadata": {},
   "outputs": [],
   "source": [
    "scope_options = scope.find_elements_by_tag_name(\"option\")"
   ]
  },
  {
   "cell_type": "code",
   "execution_count": 65,
   "metadata": {},
   "outputs": [
    {
     "data": {
      "text/plain": [
       "[<selenium.webdriver.remote.webelement.WebElement (session=\"7044b58859814a98da64965ce17db995\", element=\"98CC869DA3BC59F8EC849A0A10F8CCE8_element_371\")>,\n",
       " <selenium.webdriver.remote.webelement.WebElement (session=\"7044b58859814a98da64965ce17db995\", element=\"98CC869DA3BC59F8EC849A0A10F8CCE8_element_376\")>,\n",
       " <selenium.webdriver.remote.webelement.WebElement (session=\"7044b58859814a98da64965ce17db995\", element=\"98CC869DA3BC59F8EC849A0A10F8CCE8_element_380\")>]"
      ]
     },
     "execution_count": 65,
     "metadata": {},
     "output_type": "execute_result"
    }
   ],
   "source": [
    "scope_options"
   ]
  },
  {
   "cell_type": "code",
   "execution_count": 66,
   "metadata": {},
   "outputs": [
    {
     "data": {
      "text/plain": [
       "{'TODOS': <selenium.webdriver.remote.webelement.WebElement (session=\"7044b58859814a98da64965ce17db995\", element=\"98CC869DA3BC59F8EC849A0A10F8CCE8_element_371\")>,\n",
       " 'PERÚ': <selenium.webdriver.remote.webelement.WebElement (session=\"7044b58859814a98da64965ce17db995\", element=\"98CC869DA3BC59F8EC849A0A10F8CCE8_element_376\")>,\n",
       " 'EXTRANJERO': <selenium.webdriver.remote.webelement.WebElement (session=\"7044b58859814a98da64965ce17db995\", element=\"98CC869DA3BC59F8EC849A0A10F8CCE8_element_380\")>}"
      ]
     },
     "execution_count": 66,
     "metadata": {},
     "output_type": "execute_result"
    }
   ],
   "source": [
    "dict_scope_options = { i.text : i for i in scope_options }\n",
    "dict_scope_options"
   ]
  },
  {
   "cell_type": "code",
   "execution_count": 67,
   "metadata": {},
   "outputs": [
    {
     "data": {
      "text/plain": [
       "{'TODOS': <selenium.webdriver.remote.webelement.WebElement (session=\"7044b58859814a98da64965ce17db995\", element=\"98CC869DA3BC59F8EC849A0A10F8CCE8_element_371\")>,\n",
       " 'PERÚ': <selenium.webdriver.remote.webelement.WebElement (session=\"7044b58859814a98da64965ce17db995\", element=\"98CC869DA3BC59F8EC849A0A10F8CCE8_element_376\")>,\n",
       " 'EXTRANJERO': <selenium.webdriver.remote.webelement.WebElement (session=\"7044b58859814a98da64965ce17db995\", element=\"98CC869DA3BC59F8EC849A0A10F8CCE8_element_380\")>}"
      ]
     },
     "execution_count": 67,
     "metadata": {},
     "output_type": "execute_result"
    }
   ],
   "source": [
    "# There are three options\n",
    "dict_scope_options.keys()\n",
    "dict_scope_options"
   ]
  },
  {
   "cell_type": "code",
   "execution_count": 68,
   "metadata": {},
   "outputs": [],
   "source": [
    "# We click on Peru\n",
    "dict_scope_options['PERÚ'].click()"
   ]
  },
  {
   "cell_type": "markdown",
   "metadata": {},
   "source": [
    "We have to be careful since everytime we make a click, the url changes."
   ]
  },
  {
   "cell_type": "markdown",
   "metadata": {},
   "source": [
    "### Loop over all departments"
   ]
  },
  {
   "cell_type": "code",
   "execution_count": 74,
   "metadata": {},
   "outputs": [
    {
     "name": "stderr",
     "output_type": "stream",
     "text": [
      "C:\\Users\\ALEXAN~1\\AppData\\Local\\Temp/ipykernel_4352/3847548577.py:4: DeprecationWarning: find_element_by_* commands are deprecated. Please use find_element() instead\n",
      "  dept_0 = driver.find_element_by_xpath( \"/html/body/onpe-root/onpe-layout-container/onpe-onpe-rgen-rsgr/div/div[2]/div[1]/div[1]/div/div/div[2]/select\" )\n"
     ]
    },
    {
     "data": {
      "text/plain": [
       "<selenium.webdriver.remote.webelement.WebElement (session=\"7044b58859814a98da64965ce17db995\", element=\"98CC869DA3BC59F8EC849A0A10F8CCE8_element_4101\")>"
      ]
     },
     "execution_count": 74,
     "metadata": {},
     "output_type": "execute_result"
    }
   ],
   "source": [
    "# Store all_tables\n",
    "all_tables = {}\n",
    "\n",
    "dept_0 = driver.find_element_by_xpath( \"/html/body/onpe-root/onpe-layout-container/onpe-onpe-rgen-rsgr/div/div[2]/div[1]/div[1]/div/div/div[2]/select\" )\n",
    "dept_0"
   ]
  },
  {
   "cell_type": "code",
   "execution_count": 75,
   "metadata": {},
   "outputs": [],
   "source": [
    "# All selenium objects in department select\n",
    "dpt = Select( dept_0 )\n",
    "#dpt.options[15].text"
   ]
  },
  {
   "cell_type": "code",
   "execution_count": 76,
   "metadata": {},
   "outputs": [
    {
     "data": {
      "text/plain": [
       "26"
      ]
     },
     "execution_count": 76,
     "metadata": {},
     "output_type": "execute_result"
    }
   ],
   "source": [
    "# Get number of total options\n",
    "num_prov_options = len( dpt.options )\n",
    "num_prov_options"
   ]
  },
  {
   "cell_type": "code",
   "execution_count": 78,
   "metadata": {},
   "outputs": [
    {
     "name": "stderr",
     "output_type": "stream",
     "text": [
      "C:\\Users\\ALEXAN~1\\AppData\\Local\\Temp/ipykernel_4352/1015677902.py:10: DeprecationWarning: find_element_by_* commands are deprecated. Please use find_element() instead\n",
      "  dpt = Select( driver.find_element_by_xpath( \"/html/body/onpe-root/onpe-layout-container/onpe-onpe-rgen-rsgr/div/div[2]/div[1]/div[1]/div/div/div[2]/select\" ) )\n"
     ]
    },
    {
     "name": "stdout",
     "output_type": "stream",
     "text": [
      "--TODOS--\n",
      "AMAZONAS\n",
      "ANCASH\n",
      "APURIMAC\n",
      "AREQUIPA\n",
      "AYACUCHO\n",
      "CAJAMARCA\n",
      "CALLAO\n",
      "CUSCO\n",
      "HUANCAVELICA\n",
      "HUANUCO\n",
      "ICA\n",
      "JUNIN\n",
      "LA LIBERTAD\n",
      "LAMBAYEQUE\n",
      "LIMA\n",
      "LORETO\n",
      "MADRE DE DIOS\n",
      "MOQUEGUA\n",
      "PASCO\n",
      "PIURA\n",
      "PUNO\n",
      "SAN MARTIN\n",
      "TACNA\n",
      "TUMBES\n",
      "UCAYALI\n"
     ]
    }
   ],
   "source": [
    "# we can loop over all departments\n",
    "# for dpt_idx in range( num_prov_options ):\n",
    "# but it will take too much time\n",
    "# We are going to do it over two departments\n",
    "for dpt_idx in range( num_prov_options ):\n",
    "    \n",
    "    # Get again all departments since HTML is refreshing\n",
    "    # all elements\n",
    "    # Click on one specific department\n",
    "    dpt = Select( driver.find_element_by_xpath( \"/html/body/onpe-root/onpe-layout-container/onpe-onpe-rgen-rsgr/div/div[2]/div[1]/div[1]/div/div/div[2]/select\" ) )\n",
    "    department = dpt.options[ dpt_idx ]\n",
    "    \n",
    "    # Get departmant name\n",
    "    dpt_name = department.text\n",
    "    print(dpt_name)"
   ]
  },
  {
   "cell_type": "markdown",
   "metadata": {},
   "source": [
    "# Dynamic Pages"
   ]
  },
  {
   "cell_type": "code",
   "execution_count": 61,
   "metadata": {},
   "outputs": [
    {
     "name": "stderr",
     "output_type": "stream",
     "text": [
      "C:\\Users\\ALEXAN~1\\AppData\\Local\\Temp/ipykernel_11328/3860859845.py:1: DeprecationWarning: executable_path has been deprecated, please pass in a Service object\n",
      "  driver = webdriver.Chrome( ChromeDriverManager().install() )\n"
     ]
    }
   ],
   "source": [
    "driver = webdriver.Chrome( ChromeDriverManager().install() )\n",
    "# Maximize window\n",
    "driver.maximize_window()\n",
    "driver.get('https://www.legacy.com/obituaries/legacy/obituary-search.aspx?isnew=1&affiliateId=0&stateid=17')"
   ]
  },
  {
   "cell_type": "code",
   "execution_count": 56,
   "metadata": {},
   "outputs": [
    {
     "name": "stderr",
     "output_type": "stream",
     "text": [
      "C:\\Users\\ALEXAN~1\\AppData\\Local\\Temp/ipykernel_11328/2817692743.py:2: DeprecationWarning: find_element_by_* commands are deprecated. Please use find_element() instead\n",
      "  driver.find_element_by_xpath('//*[@id=\"ctl00_ctl00_ContentPlaceHolder1_ContentPlaceHolder1_uxSearchWideControl_ddlSearchRange\"]/option[10]').click()\n",
      "C:\\Users\\ALEXAN~1\\AppData\\Local\\Temp/ipykernel_11328/2817692743.py:5: DeprecationWarning: find_element_by_* commands are deprecated. Please use find_element() instead\n",
      "  death_begin = driver.find_element_by_xpath('//*[@id=\"ctl00_ctl00_ContentPlaceHolder1_ContentPlaceHolder1_uxSearchWideControl_txtStartDate\"]')\n",
      "C:\\Users\\ALEXAN~1\\AppData\\Local\\Temp/ipykernel_11328/2817692743.py:8: DeprecationWarning: find_element_by_* commands are deprecated. Please use find_element() instead\n",
      "  death_end = driver.find_element_by_xpath('//*[@id=\"ctl00_ctl00_ContentPlaceHolder1_ContentPlaceHolder1_uxSearchWideControl_txtEndDate\"]')\n",
      "C:\\Users\\ALEXAN~1\\AppData\\Local\\Temp/ipykernel_11328/2817692743.py:12: DeprecationWarning: find_element_by_* commands are deprecated. Please use find_element() instead\n",
      "  keyword = driver.find_element_by_xpath('//*[@id=\"ctl00_ctl00_ContentPlaceHolder1_ContentPlaceHolder1_uxSearchWideControl_txtFirstName\"]')\n",
      "C:\\Users\\ALEXAN~1\\AppData\\Local\\Temp/ipykernel_11328/2817692743.py:16: DeprecationWarning: find_element_by_* commands are deprecated. Please use find_element() instead\n",
      "  keyword = driver.find_element_by_xpath('//*[@id=\"ctl00_ctl00_ContentPlaceHolder1_ContentPlaceHolder1_uxSearchWideControl_txtLastName\"]')\n",
      "C:\\Users\\ALEXAN~1\\AppData\\Local\\Temp/ipykernel_11328/2817692743.py:20: DeprecationWarning: find_element_by_* commands are deprecated. Please use find_element() instead\n",
      "  keyword = driver.find_element_by_xpath('//*[@id=\"ctl00_ctl00_ContentPlaceHolder1_ContentPlaceHolder1_uxSearchWideControl_txtKeyword\"]')\n",
      "C:\\Users\\ALEXAN~1\\AppData\\Local\\Temp/ipykernel_11328/2817692743.py:24: DeprecationWarning: find_element_by_* commands are deprecated. Please use find_element() instead\n",
      "  driver.find_element_by_xpath('//*[@id=\"ctl00_ctl00_ContentPlaceHolder1_ContentPlaceHolder1_uxSearchWideControl_ddlCountry\"]/option[11]').click()\n",
      "C:\\Users\\ALEXAN~1\\AppData\\Local\\Temp/ipykernel_11328/2817692743.py:27: DeprecationWarning: find_element_by_* commands are deprecated. Please use find_element() instead\n",
      "  driver.find_element_by_xpath('//*[@id=\"lnkSearch\"]').click()\n"
     ]
    }
   ],
   "source": [
    "# range of death\n",
    "driver.find_element_by_xpath('//*[@id=\"ctl00_ctl00_ContentPlaceHolder1_ContentPlaceHolder1_uxSearchWideControl_ddlSearchRange\"]/option[10]').click()\n",
    "\n",
    "\n",
    "death_begin = driver.find_element_by_xpath('//*[@id=\"ctl00_ctl00_ContentPlaceHolder1_ContentPlaceHolder1_uxSearchWideControl_txtStartDate\"]')\n",
    "death_begin.send_keys('10/10/1994')\n",
    "\n",
    "death_end = driver.find_element_by_xpath('//*[@id=\"ctl00_ctl00_ContentPlaceHolder1_ContentPlaceHolder1_uxSearchWideControl_txtEndDate\"]')    \n",
    "death_end.send_keys('10/10/2005')\n",
    "\n",
    "# type the Firstname \n",
    "keyword = driver.find_element_by_xpath('//*[@id=\"ctl00_ctl00_ContentPlaceHolder1_ContentPlaceHolder1_uxSearchWideControl_txtFirstName\"]')\n",
    "keyword.send_keys('robert')\n",
    "\n",
    "# type the Lastname \n",
    "keyword = driver.find_element_by_xpath('//*[@id=\"ctl00_ctl00_ContentPlaceHolder1_ContentPlaceHolder1_uxSearchWideControl_txtLastName\"]')\n",
    "keyword.send_keys('brown')\n",
    "\n",
    "# type the Title \n",
    "keyword = driver.find_element_by_xpath('//*[@id=\"ctl00_ctl00_ContentPlaceHolder1_ContentPlaceHolder1_uxSearchWideControl_txtKeyword\"]')\n",
    "keyword.send_keys('professor')\n",
    "\n",
    " # Set the state of last residence\n",
    "driver.find_element_by_xpath('//*[@id=\"ctl00_ctl00_ContentPlaceHolder1_ContentPlaceHolder1_uxSearchWideControl_ddlCountry\"]/option[11]').click()\n",
    "        \n",
    "# Send information\n",
    "driver.find_element_by_xpath('//*[@id=\"lnkSearch\"]').click()\n",
    "\n",
    "\n"
   ]
  },
  {
   "cell_type": "code",
   "execution_count": 10,
   "metadata": {},
   "outputs": [],
   "source": [
    "# we can loop over all departments\n",
    "# for dpt_idx in range( num_prov_options ):\n",
    "# but it will take too much time\n",
    "# We are going to do it over two departments\n",
    "for dpt_idx in range( 2 ):\n",
    "    \n",
    "    # Get again all departments since HTML is refreshing\n",
    "    # all elements\n",
    "    # Click on one specific department\n",
    "    dpt = Select( driver.find_element_by_xpath( \"/html/body/onpe-root/onpe-layout-container/onpe-onpe-epres-re/div[1]/div[3]/div[1]/div[1]/div/div/div[2]/select\" ) )\n",
    "    department = dpt.options[ dpt_idx ]\n",
    "    \n",
    "    # Get departmant name\n",
    "    dpt_name = department.text\n",
    "    \n",
    "    # We select a different department name\n",
    "    if dpt_name != \"--TODOS--\" :\n",
    "        \n",
    "        # click on department\n",
    "        department.click()\n",
    "        \n",
    "        # Get all elements of province\n",
    "        prov = Select( driver.find_element_by_xpath( \"/html/body/onpe-root/onpe-layout-container/onpe-onpe-epres-re/div[1]/div[3]/div[1]/div[1]/div/div/div[3]/select\" ) )\n",
    "        num_prov_options = len( prov.options )\n",
    "        \n",
    "        for prov_idx in range( num_prov_options ):\n",
    "            \n",
    "            # Get again all districts since HTML is refreshing\n",
    "            # all elements\n",
    "            prov = Select( driver.find_element_by_xpath( \"/html/body/onpe-root/onpe-layout-container/onpe-onpe-epres-re/div[1]/div[3]/div[1]/div[1]/div/div/div[3]/select\" ) )\n",
    "            province = prov.options[ prov_idx ]\n",
    "                \n",
    "            # Get province name\n",
    "            prov_name = province.text\n",
    "            \n",
    "            if prov_name != \"--TODOS--\" :\n",
    "                \n",
    "                # click on province\n",
    "                province.click()\n",
    "                \n",
    "                # Get all elements from district\n",
    "                dist = Select( driver.find_element_by_xpath( \"/html/body/onpe-root/onpe-layout-container/onpe-onpe-epres-re/div[1]/div[3]/div[1]/div[1]/div/div/div[4]/select\" ) )\n",
    "                num_dist_options = len( dist.options )\n",
    "                \n",
    "                for dist_idx in range( num_dist_options ):\n",
    "                    \n",
    "                    # Get again all districts since HTML is refreshing\n",
    "                    # all elements\n",
    "                    dist = Select( driver.find_element_by_xpath( \"/html/body/onpe-root/onpe-layout-container/onpe-onpe-epres-re/div[1]/div[3]/div[1]/div[1]/div/div/div[4]/select\" ) )\n",
    "                    district = dist.options[ dist_idx ]\n",
    "                    \n",
    "                    # Get district name\n",
    "                    dist_name = district.text\n",
    "                    \n",
    "                    if dist_name != \"-- SELECCIONE --\" :\n",
    "                        \n",
    "                        # click on district\n",
    "                        district.click()\n",
    "                        \n",
    "                        # Get UBIGEO\n",
    "                        ubigeo = driver.current_url.split(\"/\")[ -1 ]\n",
    "                        \n",
    "                        ## Get table of presidential votes\n",
    "                        # Get html at this point\n",
    "                        table_path = driver.find_element_by_xpath( \"/html/body/onpe-root/onpe-layout-container/onpe-onpe-epres-re/div[1]/div[4]/div[1]/div[3]/div\" )\n",
    "                        table_html = table_path.get_attribute( 'innerHTML' )\n",
    "                        # Read the table using pandas\n",
    "                        table = pd.read_html( table_html )\n",
    "                        \n",
    "                        # Cleaning tables\n",
    "                        row_new_columns = table[ 0 ].iloc[ 0 , 2: ]\n",
    "                        clean_columns = row_new_columns \\\n",
    "                                              .str.replace( \" \", \"_\") \\\n",
    "                                              .str.lower().str.replace( \"%\", \"share_\") \\\n",
    "                                              .apply( lambda x : unidecode.unidecode( x ) ) \\\n",
    "                                              .tolist()\n",
    "                        \n",
    "                        # Selecting specific columns\n",
    "                        table_clean = table[0].iloc[ 1:, 2: ].copy()\n",
    "                        \n",
    "                        # rename columns\n",
    "                        table_clean.columns = clean_columns\n",
    "                        \n",
    "                        # New values to columns \n",
    "                        table_clean[ 'department' ] = dpt_name\n",
    "                        table_clean[ 'province' ]   = prov_name\n",
    "                        table_clean[ 'district' ]   = dist_name\n",
    "                        table_clean[ 'ubigeo' ]     = ubigeo\n",
    "                        \n",
    "                        # store tables\n",
    "                        all_tables[ ubigeo ] = table_clean"
   ]
  },
  {
   "cell_type": "code",
   "execution_count": 12,
   "metadata": {},
   "outputs": [],
   "source": [
    "final_data = pd.concat( all_tables.values() ).reset_index( drop = True )"
   ]
  },
  {
   "cell_type": "code",
   "execution_count": 15,
   "metadata": {},
   "outputs": [],
   "source": [
    "final_data.to_excel( r'example_round.xlsx' , index = False )"
   ]
  },
  {
   "cell_type": "code",
   "execution_count": null,
   "metadata": {},
   "outputs": [],
   "source": []
  },
  {
   "cell_type": "code",
   "execution_count": null,
   "metadata": {},
   "outputs": [],
   "source": []
  }
 ],
 "metadata": {
  "hide_input": false,
  "kernelspec": {
   "display_name": "Python 3 (ipykernel)",
   "language": "python",
   "name": "python3"
  },
  "language_info": {
   "codemirror_mode": {
    "name": "ipython",
    "version": 3
   },
   "file_extension": ".py",
   "mimetype": "text/x-python",
   "name": "python",
   "nbconvert_exporter": "python",
   "pygments_lexer": "ipython3",
   "version": "3.9.7"
  }
 },
 "nbformat": 4,
 "nbformat_minor": 4
}

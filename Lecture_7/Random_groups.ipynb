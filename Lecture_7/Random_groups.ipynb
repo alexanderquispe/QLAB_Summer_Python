{
 "cells": [
  {
   "cell_type": "code",
   "execution_count": 1,
   "metadata": {},
   "outputs": [],
   "source": [
    "import pandas as pd\n",
    "import numpy as np"
   ]
  },
  {
   "cell_type": "code",
   "execution_count": 55,
   "metadata": {},
   "outputs": [],
   "source": [
    "students = pd.read_excel( r\"../_data/ListaParticipantes_Python.xlsx\", sheet_name = \"Python_Intermedio\" )\n",
    "\n",
    "students.shape"
   ]
  },
  {
   "cell_type": "code",
   "execution_count": 4,
   "metadata": {},
   "outputs": [],
   "source": [
    "# Generate random groups\n",
    "# seed\n",
    "np.random.seed(123)\n",
    "\n",
    "# Select random samples\n",
    "original = np.arange( 0 , 30 ).tolist()\n",
    "results = []\n",
    "\n",
    "# Select random numbers\n",
    "for i in range(6):\n",
    "    try:\n",
    "        values = np.random.choice( original, size=5, replace=False)\n",
    "    except:\n",
    "        values = np.random.choice( original, size=4, replace=False)\n",
    "    original = list(set(original).difference(values))\n",
    "    results.append( values )"
   ]
  },
  {
   "cell_type": "code",
   "execution_count": 45,
   "metadata": {},
   "outputs": [],
   "source": [
    "# Generate new column\n",
    "students[ 'Groups' ] = \"\"\n",
    "\n",
    "# Assing group\n",
    "i = 1 \n",
    "for sample in results:\n",
    "    students.iloc[ sample.tolist() , -1 ] = f\"Group {i}\"\n",
    "    i = i + 1"
   ]
  },
  {
   "cell_type": "code",
   "execution_count": 48,
   "metadata": {},
   "outputs": [],
   "source": [
    "# generate html table for rmd\n",
    "md_table = students.loc[ :, [ 'Apellidos y nombres', 'Groups' ] ]\n",
    "\n",
    "md_table[ 'Num' ] = md_table.groupby( ['Groups'] ).cumcount()\n",
    "\n",
    "md_table.set_index( ['Groups', 'Num'] , inplace = True )\n",
    "\n",
    "clean_table = md_table.unstack( 'Groups' )\n",
    "\n",
    "new_cols = [ mlt_col[ 1 ] for mlt_col in clean_table.columns]\n",
    "\n",
    "clean_table.columns = new_cols\n",
    "\n",
    "clean_table.reset_index( drop = True , inplace = True )"
   ]
  },
  {
   "cell_type": "code",
   "execution_count": 53,
   "metadata": {},
   "outputs": [],
   "source": [
    "# HTML output\n",
    "clean_table.to_html( '../_data/new_groups.html' )"
   ]
  }
 ],
 "metadata": {
  "hide_input": false,
  "kernelspec": {
   "display_name": "Python 3",
   "language": "python",
   "name": "python3"
  },
  "language_info": {
   "codemirror_mode": {
    "name": "ipython",
    "version": 3
   },
   "file_extension": ".py",
   "mimetype": "text/x-python",
   "name": "python",
   "nbconvert_exporter": "python",
   "pygments_lexer": "ipython3",
   "version": "3.8.6"
  }
 },
 "nbformat": 4,
 "nbformat_minor": 4
}

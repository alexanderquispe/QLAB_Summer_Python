{
 "cells": [
  {
   "cell_type": "markdown",
   "metadata": {},
   "source": [
    "# Assignment 4\n"
   ]
  },
  {
   "cell_type": "markdown",
   "metadata": {},
   "source": [
    "In this task you have to scrape all the results from \"Extranjero\". [Here is link](https://resultadoshistorico.onpe.gob.pe/EG2021/EleccionesPresidenciales/RePres/E). \n",
    "You have to **follow the setps as we did in Lecture 7** and get information from all tabs in \"Continente\", \"País\" and \"Estado\".   \n",
    "\n",
    "1. Take the data table TOTAL DE VOTOS. \n",
    "2. Store the four columns ORGANIZACIONES POLÍTICAS, TOTAL, %VÁLIDOS and %EMITIDOS. Rename these columns to political_parties, total, share_valid, share_emitied, respectively. \n",
    "3. Add the columns continent, country, state, ubigeo, and link. These last two items you can extract from the url. \n",
    "4. Append all the tables in just one DataFrame and export an excel file and save it in the folder [\\_data\\_results](https://github.com/alexanderquispe/Diplomado_PUCP/tree/main/Lecture_7/_data_results). \n",
    "5. The name of your Excel file should be the same as the name of your branches. "
   ]
  },
  {
   "cell_type": "code",
   "execution_count": 2,
   "metadata": {},
   "outputs": [
    {
     "name": "stdout",
     "output_type": "stream",
     "text": [
      "Collecting unidecode\n",
      "  Downloading Unidecode-1.3.2-py3-none-any.whl (235 kB)\n",
      "Installing collected packages: unidecode\n",
      "Successfully installed unidecode-1.3.2\n"
     ]
    }
   ],
   "source": [
    "#from bs4 import BeautifulSoup\n",
    "from selenium import webdriver\n",
    "from selenium.webdriver.common.keys import Keys\n",
    "from selenium.common.exceptions import NoSuchElementException\n",
    "from selenium.webdriver import ActionChains\n",
    "import pandas as pd\n",
    "import numpy as np\n",
    "import os\n",
    "import time\n",
    "import r\n",
    "import unidecode\n",
    "import time \n",
    "from selenium.webdriver.support.ui import Select\n",
    "from webdriver_manager.chrome import ChromeDriverManager"
   ]
  },
  {
   "cell_type": "code",
   "execution_count": 3,
   "metadata": {},
   "outputs": [
    {
     "name": "stderr",
     "output_type": "stream",
     "text": [
      "\n",
      "\n",
      "====== WebDriver manager ======\n",
      "Current google-chrome version is 96.0.4664\n",
      "Get LATEST chromedriver version for 96.0.4664 google-chrome\n",
      "Trying to download new driver from https://chromedriver.storage.googleapis.com/96.0.4664.45/chromedriver_win32.zip\n",
      "Driver has been saved in cache [C:\\Users\\JESUS\\.wdm\\drivers\\chromedriver\\win32\\96.0.4664.45]\n",
      "<ipython-input-3-067e592c36e1>:2: DeprecationWarning: executable_path has been deprecated, please pass in a Service object\n",
      "  driver = webdriver.Chrome( ChromeDriverManager().install() )\n"
     ]
    }
   ],
   "source": [
    "## open link\n",
    "driver = webdriver.Chrome( ChromeDriverManager().install() )\n",
    "driver.maximize_window()\n",
    "\n",
    "url = 'https://resultadoshistorico.onpe.gob.pe/EG2021/EleccionesPresidenciales/RePres/E'\n",
    "driver.get( url )"
   ]
  },
  {
   "cell_type": "code",
   "execution_count": 4,
   "metadata": {},
   "outputs": [
    {
     "name": "stderr",
     "output_type": "stream",
     "text": [
      "<ipython-input-4-cc16980747c8>:2: DeprecationWarning: find_element_by_* commands are deprecated. Please use find_element() instead\n",
      "  continentes = Select( driver.find_element_by_xpath( '/html/body/onpe-root/onpe-layout-container/onpe-onpe-epres-re/div[1]/div[3]/div[1]/div[1]/div/div/div[2]/select' ) )\n"
     ]
    },
    {
     "data": {
      "text/plain": [
       "6"
      ]
     },
     "execution_count": 4,
     "metadata": {},
     "output_type": "execute_result"
    }
   ],
   "source": [
    "#num opciones\n",
    "continentes = Select( driver.find_element_by_xpath( '/html/body/onpe-root/onpe-layout-container/onpe-onpe-epres-re/div[1]/div[3]/div[1]/div[1]/div/div/div[2]/select' ) )\n",
    "num_continente = len(continentes.options)\n",
    "num_continente"
   ]
  },
  {
   "cell_type": "code",
   "execution_count": 5,
   "metadata": {},
   "outputs": [
    {
     "name": "stderr",
     "output_type": "stream",
     "text": [
      "<ipython-input-5-4e3ee14c39a0>:4: DeprecationWarning: find_element_by_* commands are deprecated. Please use find_element() instead\n",
      "  continentes = Select( driver.find_element_by_xpath( '/html/body/onpe-root/onpe-layout-container/onpe-onpe-epres-re/div[1]/div[3]/div[1]/div[1]/div/div/div[2]/select' ) )\n",
      "<ipython-input-5-4e3ee14c39a0>:10: DeprecationWarning: find_element_by_* commands are deprecated. Please use find_element() instead\n",
      "  continente01 = Select( driver.find_element_by_xpath( '/html/body/onpe-root/onpe-layout-container/onpe-onpe-epres-re/div[1]/div[3]/div[1]/div[1]/div/div/div[2]/select' ) )\n",
      "<ipython-input-5-4e3ee14c39a0>:25: DeprecationWarning: find_element_by_* commands are deprecated. Please use find_element() instead\n",
      "  countries = Select( driver.find_element_by_xpath( '/html/body/onpe-root/onpe-layout-container/onpe-onpe-epres-re/div[1]/div[3]/div[1]/div[1]/div/div/div[3]/select' ) )\n",
      "<ipython-input-5-4e3ee14c39a0>:30: DeprecationWarning: find_element_by_* commands are deprecated. Please use find_element() instead\n",
      "  country01 = Select( driver.find_element_by_xpath( '/html/body/onpe-root/onpe-layout-container/onpe-onpe-epres-re/div[1]/div[3]/div[1]/div[1]/div/div/div[3]/select' ) )\n",
      "<ipython-input-5-4e3ee14c39a0>:43: DeprecationWarning: find_element_by_* commands are deprecated. Please use find_element() instead\n",
      "  states = Select( driver.find_element_by_xpath( '/html/body/onpe-root/onpe-layout-container/onpe-onpe-epres-re/div[1]/div[3]/div[1]/div[1]/div/div/div[4]/select' ) )\n"
     ]
    }
   ],
   "source": [
    "# Store all_tables\n",
    "all_tables = {}\n",
    "\n",
    "continentes = Select( driver.find_element_by_xpath( '/html/body/onpe-root/onpe-layout-container/onpe-onpe-epres-re/div[1]/div[3]/div[1]/div[1]/div/div/div[2]/select' ) )\n",
    "continentes_opt = len( continentes.options )\n",
    "\n",
    "# We are going to loop over all continents\n",
    "#for continente_idx in range( continentes_opt ):\n",
    "for continente_idx in range( 6 ):\n",
    "    continente01 = Select( driver.find_element_by_xpath( '/html/body/onpe-root/onpe-layout-container/onpe-onpe-epres-re/div[1]/div[3]/div[1]/div[1]/div/div/div[2]/select' ) )\n",
    "    continente02 = continente01.options[ continente_idx ]\n",
    "    \n",
    "    # Get continent name\n",
    "    continente_name = continente02.text\n",
    "    \n",
    "    # We select a different continent name    \n",
    "    if continente_name != '--TODOS--':\n",
    "        \n",
    "        # click on continent\n",
    "        continente02.click()\n",
    "        \n",
    "        # Get all elements of country\n",
    "        countries = Select( driver.find_element_by_xpath( '/html/body/onpe-root/onpe-layout-container/onpe-onpe-epres-re/div[1]/div[3]/div[1]/div[1]/div/div/div[3]/select' ) )\n",
    "        countries_opt = len( countries.options )\n",
    "        \n",
    "        # We are going to loop over all countries\n",
    "        for country_idx in range( countries_opt ):\n",
    "            country01 = Select( driver.find_element_by_xpath( '/html/body/onpe-root/onpe-layout-container/onpe-onpe-epres-re/div[1]/div[3]/div[1]/div[1]/div/div/div[3]/select' ) )\n",
    "            country02 = country01.options[ country_idx ]\n",
    "            \n",
    "            # Get country name\n",
    "            country_name = country02.text\n",
    "            \n",
    "            # We select a different country name \n",
    "            if country_name != '--TODOS--':  \n",
    "                \n",
    "                # click on country\n",
    "                country02.click()\n",
    "                \n",
    "                # Get all elements of state\n",
    "                states = Select( driver.find_element_by_xpath( '/html/body/onpe-root/onpe-layout-container/onpe-onpe-epres-re/div[1]/div[3]/div[1]/div[1]/div/div/div[4]/select' ) )\n",
    "                states_opt = len( states.options )\n",
    "\n",
    "# Completar acá - Parte 3\n",
    "\n",
    "                        # Cleaning tables\n",
    "                        #Store the four columns ORGANIZACIONES POLÍTICAS, TOTAL, %VÁLIDOS and %EMITIDOS\n",
    "                        #Rename these columns to political_parties, total, share_valid, share_emitied, respectively.\n",
    "                        row_new_columns = table[ 0 ].iloc[ 0 , 2: ] # quito los NAN debido a imagenes\n",
    "                        clean_columns = row_new_columns \\\n",
    "                                              .str.replace( \" \", \"_\") \\\n",
    "                                              .str.lower().str.replace( \"organizaciones_políticas\", \"political_parties\" ) \\\n",
    "                                              .str.replace( \"total\", \"total_share\" ) \\\n",
    "                                              .str.replace( \"%válidos\", \"share_valid\" ) \\\n",
    "                                              .str.replace( \"%emitidos\", \"share_emitied\") \\\n",
    "                                              .apply( lambda x : unidecode.unidecode( x ) ) \\\n",
    "                                              .tolist()\n",
    "                        \n",
    "                        # Selecting specific columns\n",
    "                        table_clean = table[0].iloc[ 1:, 2: ].copy()\n",
    "                        \n",
    "                        # rename columns\n",
    "                        table_clean.columns = clean_columns\n",
    "\n",
    "                        # New values to columns \n",
    "                        #Add the columns continent, country, state, ubigeo, and link. These last two items you can extract from the url.\n",
    "                        table_clean[ 'continent' ]  = continente_name\n",
    "                        table_clean[ 'country' ]    = country_name\n",
    "                        table_clean[ 'state' ]      = state_name\n",
    "                        table_clean[ 'ubigeo' ]     = ubigeo\n",
    "                        table_clean[ 'link' ]       = driver.current_url\n",
    "                        \n",
    "                        # store tables\n",
    "                        all_tables[ ubigeo ] = table_clean "
   ]
  },
  {
   "cell_type": "code",
   "execution_count": null,
   "metadata": {},
   "outputs": [],
   "source": [
    "# Completar acá - Parte 5"
   ]
  }
 ],
 "metadata": {
  "hide_input": false,
  "kernelspec": {
   "display_name": "Python 3 (ipykernel)",
   "language": "python",
   "name": "python3"
  },
  "language_info": {
   "codemirror_mode": {
    "name": "ipython",
    "version": 3
   },
   "file_extension": ".py",
   "mimetype": "text/x-python",
   "name": "python",
   "nbconvert_exporter": "python",
   "pygments_lexer": "ipython3",
   "version": "3.9.7"
  }
 },
 "nbformat": 4,
 "nbformat_minor": 4
}

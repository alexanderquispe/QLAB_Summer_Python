{
 "cells": [
  {
   "cell_type": "markdown",
   "metadata": {},
   "source": [
    "# Assignment 4\n"
   ]
  },
  {
   "cell_type": "markdown",
   "metadata": {},
   "source": [
    "In this task you have to scrape all the results from \"Extranjero\". [Here is link](https://resultadoshistorico.onpe.gob.pe/EG2021/EleccionesPresidenciales/RePres/E). \n",
    "You have to **follow the setps as we did in Lecture 7** and get information from all tabs in \"Continente\", \"País\" and \"Estado\".   \n",
    "\n",
    "1. Take the data table TOTAL DE VOTOS. \n",
    "2. Store the four columns ORGANIZACIONES POLÍTICAS, TOTAL, %VÁLIDOS and %EMITIDOS. Rename these columns to political_parties, total, share_valid, share_emitied, respectively. \n",
    "3. Add the columns continent, country, state, ubigeo, and link. These last two items you can extract from the url. \n",
    "4. Append all the tables in just one DataFrame and export an excel file and save it in the folder [\\_data\\_results](https://github.com/alexanderquispe/Diplomado_PUCP/tree/main/Lecture_7/_data_results). \n",
    "5. The name of your Excel file should be the same as the name of your branches. "
   ]
  },
  {
   "cell_type": "markdown",
   "metadata": {},
   "source": [
    "**Step 1** Import the librarys\n"
   ]
  },
  {
   "cell_type": "code",
   "execution_count": 3,
   "metadata": {},
   "outputs": [],
   "source": [
    "from selenium import webdriver\n",
    "import re\n",
    "import time \n",
    "from selenium.webdriver.support.ui import Select\n",
    "from datetime import date\n",
    "import pandas as pd\n",
    "import json"
   ]
  },
  {
   "cell_type": "markdown",
   "metadata": {},
   "source": [
    "**Step 2** Generate the web driver"
   ]
  },
  {
   "cell_type": "code",
   "execution_count": 4,
   "metadata": {},
   "outputs": [],
   "source": [
    "options=webdriver.ChromeOptions()\n",
    "options.add_argument('--incognito')\n",
    "driver=webdriver.Chrome(executable_path='chromedriver', options=options)\n",
    "driver.maximize_window()\n",
    "\n",
    "url=\"https://resultadoshistorico.onpe.gob.pe/EG2021/\"\n",
    "\n",
    "driver.get(url)"
   ]
  },
  {
   "cell_type": "code",
   "execution_count": 5,
   "metadata": {},
   "outputs": [
    {
     "name": "stderr",
     "output_type": "stream",
     "text": [
      "C:\\Users\\Raysa\\AppData\\Local\\Temp/ipykernel_280/1051048992.py:2: DeprecationWarning: find_element_by_* commands are deprecated. Please use find_element() instead\n",
      "  Election=driver.find_element_by_xpath(\"/html/body/onpe-root/onpe-home-onpe/div[1]/div/div/div/div[2]/div[2]/div/div/a/div[2]\")\n"
     ]
    }
   ],
   "source": [
    "#Solution of the problem : we find a problen with the link, it does't open. So we \n",
    "Election=driver.find_element_by_xpath(\"/html/body/onpe-root/onpe-home-onpe/div[1]/div/div/div/div[2]/div[2]/div/div/a/div[2]\")\n",
    "Election.click()"
   ]
  },
  {
   "cell_type": "code",
   "execution_count": 7,
   "metadata": {},
   "outputs": [
    {
     "name": "stderr",
     "output_type": "stream",
     "text": [
      "C:\\Users\\Raysa\\AppData\\Local\\Temp/ipykernel_280/1510869081.py:2: DeprecationWarning: find_element_by_* commands are deprecated. Please use find_element() instead\n",
      "  FOREIGN=Select(driver.find_element_by_xpath(\"/html/body/onpe-root/onpe-layout-container/onpe-onpe-epres-re/div[1]/div[3]/div[1]/div[1]/div/div/div/select\"))\n"
     ]
    }
   ],
   "source": [
    "#Select Foreign contries\n",
    "FOREIGN=Select(driver.find_element_by_xpath(\"/html/body/onpe-root/onpe-layout-container/onpe-onpe-epres-re/div[1]/div[3]/div[1]/div[1]/div/div/div/select\"))\n",
    "For = FOREIGN.options[ 2 ]\n",
    "For.click()"
   ]
  },
  {
   "cell_type": "code",
   "execution_count": 8,
   "metadata": {},
   "outputs": [
    {
     "name": "stderr",
     "output_type": "stream",
     "text": [
      "C:\\Users\\Raysa\\AppData\\Local\\Temp/ipykernel_280/2471109406.py:2: DeprecationWarning: find_element_by_* commands are deprecated. Please use find_element() instead\n",
      "  Continent_0 = driver.find_element_by_xpath( \"/html/body/onpe-root/onpe-layout-container/onpe-onpe-epres-re/div[1]/div[3]/div[1]/div[1]/div/div/div[2]/select\" )\n"
     ]
    },
    {
     "data": {
      "text/plain": [
       "6"
      ]
     },
     "execution_count": 8,
     "metadata": {},
     "output_type": "execute_result"
    }
   ],
   "source": [
    "all_tables = {}\n",
    "Continent_0 = driver.find_element_by_xpath( \"/html/body/onpe-root/onpe-layout-container/onpe-onpe-epres-re/div[1]/div[3]/div[1]/div[1]/div/div/div[2]/select\" )\n",
    "Continent=Select(Continent_0)\n",
    "num_Continent=len(Continent.options)\n",
    "num_Continent\n"
   ]
  },
  {
   "cell_type": "code",
   "execution_count": 9,
   "metadata": {},
   "outputs": [
    {
     "name": "stderr",
     "output_type": "stream",
     "text": [
      "C:\\Users\\Raysa\\AppData\\Local\\Temp/ipykernel_280/2924146598.py:5: DeprecationWarning: find_element_by_* commands are deprecated. Please use find_element() instead\n",
      "  Continent_0=Select(driver.find_element_by_xpath( \"/html/body/onpe-root/onpe-layout-container/onpe-onpe-epres-re/div[1]/div[3]/div[1]/div[1]/div/div/div[2]/select\" ))\n",
      "C:\\Users\\Raysa\\AppData\\Local\\Temp/ipykernel_280/2924146598.py:16: DeprecationWarning: find_element_by_* commands are deprecated. Please use find_element() instead\n",
      "  Country_0=Select(driver.find_element_by_xpath( \"/html/body/onpe-root/onpe-layout-container/onpe-onpe-epres-re/div[1]/div[3]/div[1]/div[1]/div/div/div[3]/select\" ))\n",
      "C:\\Users\\Raysa\\AppData\\Local\\Temp/ipykernel_280/2924146598.py:23: DeprecationWarning: find_element_by_* commands are deprecated. Please use find_element() instead\n",
      "  Country_0=Select(driver.find_element_by_xpath( \"/html/body/onpe-root/onpe-layout-container/onpe-onpe-epres-re/div[1]/div[3]/div[1]/div[1]/div/div/div[3]/select\" ))\n",
      "C:\\Users\\Raysa\\AppData\\Local\\Temp/ipykernel_280/2924146598.py:33: DeprecationWarning: find_element_by_* commands are deprecated. Please use find_element() instead\n",
      "  State_0=Select(driver.find_element_by_xpath( \"/html/body/onpe-root/onpe-layout-container/onpe-onpe-epres-re/div[1]/div[3]/div[1]/div[1]/div/div/div[4]/select\" ))\n",
      "C:\\Users\\Raysa\\AppData\\Local\\Temp/ipykernel_280/2924146598.py:42: DeprecationWarning: find_element_by_* commands are deprecated. Please use find_element() instead\n",
      "  State_0=Select(driver.find_element_by_xpath( \"/html/body/onpe-root/onpe-layout-container/onpe-onpe-epres-re/div[1]/div[3]/div[1]/div[1]/div/div/div[4]/select\" ))\n",
      "C:\\Users\\Raysa\\AppData\\Local\\Temp/ipykernel_280/2924146598.py:55: DeprecationWarning: find_element_by_* commands are deprecated. Please use find_element() instead\n",
      "  table_path=driver.find_element_by_xpath(\"/html/body/onpe-root/onpe-layout-container/onpe-onpe-epres-re/div[1]/div[4]/div[1]/div[3]/div\")\n"
     ]
    }
   ],
   "source": [
    "for Cont_x in range(num_Continent):\n",
    "    # Get again all Continent since HTML is refreshing\n",
    "    # all elements\n",
    "    # Click on one specific Continent\n",
    "    Continent_0=Select(driver.find_element_by_xpath( \"/html/body/onpe-root/onpe-layout-container/onpe-onpe-epres-re/div[1]/div[3]/div[1]/div[1]/div/div/div[2]/select\" ))\n",
    "    Continent = Continent_0.options[ Cont_x ]\n",
    "    #Extract name of Continents text\n",
    "    Continent_name = Continent.text\n",
    "   \n",
    "    # We select a different Continent name\n",
    "    if Continent_name != \"--TODOS--\" :\n",
    "        # click on Continet\n",
    "        Continent.click()\n",
    "    \n",
    "        # Get all elements of Countries\n",
    "        Country_0=Select(driver.find_element_by_xpath( \"/html/body/onpe-root/onpe-layout-container/onpe-onpe-epres-re/div[1]/div[3]/div[1]/div[1]/div/div/div[3]/select\" ))\n",
    "        #Number of Countries\n",
    "        num_Country=len(Country_0.options)\n",
    "        \n",
    "        for Coun_x in range(num_Country):\n",
    "            # Get again all Countries since HTML is refreshing\n",
    "            # all elements\n",
    "            Country_0=Select(driver.find_element_by_xpath( \"/html/body/onpe-root/onpe-layout-container/onpe-onpe-epres-re/div[1]/div[3]/div[1]/div[1]/div/div/div[3]/select\" ))   \n",
    "            Country = Country_0.options[Coun_x]\n",
    "            #Extract name of Countries text\n",
    "            Country_name=Country.text\n",
    "            # We select a different Continent name  \n",
    "            \n",
    "            if Country_name != \"--TODOS--\" :\n",
    "                # click on Country\n",
    "                Country.click()\n",
    "                # Get all elements of State\n",
    "                State_0=Select(driver.find_element_by_xpath( \"/html/body/onpe-root/onpe-layout-container/onpe-onpe-epres-re/div[1]/div[3]/div[1]/div[1]/div/div/div[4]/select\" ))\n",
    "                #Number of Countries\n",
    "                num_State=len(State_0.options)\n",
    "                #Number of Satates\n",
    "                num_State=len(State_0.options)\n",
    "                \n",
    "                for Sta_x in range(num_State):\n",
    "                    # Get again all Countries since HTML is refreshing\n",
    "                    # all elements\n",
    "                    State_0=Select(driver.find_element_by_xpath( \"/html/body/onpe-root/onpe-layout-container/onpe-onpe-epres-re/div[1]/div[3]/div[1]/div[1]/div/div/div[4]/select\" ))   \n",
    "                    State = State_0.options[Sta_x]\n",
    "                    #Extract name of Countries text\n",
    "                    State_name=State.text\n",
    "                    # We select a different Continent name\n",
    "                    \n",
    "                    if State_name != \"--TODOS--\":\n",
    "                        # click on Country\n",
    "                        State.click()        \n",
    "                        # Get UBIGEO\n",
    "                        ubigeo =driver.current_url.split(\"/\")[-1]\n",
    "                        ## Get table of presidential votes\n",
    "                        # Get html at this point\n",
    "                        table_path=driver.find_element_by_xpath(\"/html/body/onpe-root/onpe-layout-container/onpe-onpe-epres-re/div[1]/div[4]/div[1]/div[3]/div\")\n",
    "                        table_html=table_path.get_attribute( 'innerHTML' )\n",
    "                        # Read the table using pandas\n",
    "                        table = pd.read_html( table_html )\n",
    "                        \n",
    "                        # Cleaning tables\n",
    "                        row_new_columns = table[ 0 ].iloc[ 0 , 2: ]\n",
    "                        clean_columns = row_new_columns \\\n",
    "                                              .str.replace( \" \", \"_\") \\\n",
    "                                              .str.lower().str.replace( \"%\", \"share_\") \\\n",
    "                                              .tolist()\n",
    "                        \n",
    "                        # Selecting specific columns\n",
    "                        table_clean = table[0].iloc[ 1:, 2: ].copy()\n",
    "                        \n",
    "                        # rename columns\n",
    "                        table_clean.columns = clean_columns\n",
    "                        \n",
    "                        #Change colmns names\n",
    "                        table_clean=table_clean.rename(columns={\"total\":\"Total\",\"organizaciones_políticas\":\"Political_parties\",\"share_válidos\":\"Share_valid\", \"share_emitidos\":\"Share_emitied\"}, inplace= False)\n",
    "                                                \n",
    "                        # New values to columns \n",
    "                        table_clean[ 'Continent' ] = Continent_name\n",
    "                        table_clean[ 'Country' ]   = Country_name\n",
    "                        table_clean[ 'State' ]   = State_name\n",
    "                        table_clean[ 'Ubigeo' ]     = ubigeo\n",
    "                        table_clean[ 'URL' ] = driver.current_url\n",
    "\n",
    "                        # store tables\n",
    "                        all_tables[ ubigeo ] = table_clean"
   ]
  },
  {
   "cell_type": "code",
   "execution_count": 10,
   "metadata": {},
   "outputs": [
    {
     "data": {
      "text/html": [
       "<div>\n",
       "<style scoped>\n",
       "    .dataframe tbody tr th:only-of-type {\n",
       "        vertical-align: middle;\n",
       "    }\n",
       "\n",
       "    .dataframe tbody tr th {\n",
       "        vertical-align: top;\n",
       "    }\n",
       "\n",
       "    .dataframe thead th {\n",
       "        text-align: right;\n",
       "    }\n",
       "</style>\n",
       "<table border=\"1\" class=\"dataframe\">\n",
       "  <thead>\n",
       "    <tr style=\"text-align: right;\">\n",
       "      <th></th>\n",
       "      <th>Political_parties</th>\n",
       "      <th>Total</th>\n",
       "      <th>Share_valid</th>\n",
       "      <th>Share_emitied</th>\n",
       "      <th>Continent</th>\n",
       "      <th>Country</th>\n",
       "      <th>State</th>\n",
       "      <th>Ubigeo</th>\n",
       "      <th>URL</th>\n",
       "    </tr>\n",
       "  </thead>\n",
       "  <tbody>\n",
       "    <tr>\n",
       "      <th>0</th>\n",
       "      <td>PARTIDO NACIONALISTA PERUANO</td>\n",
       "      <td>0</td>\n",
       "      <td>0.000%</td>\n",
       "      <td>0.000%</td>\n",
       "      <td>AFRICA</td>\n",
       "      <td>SUDAFRICA</td>\n",
       "      <td>PRETORIA</td>\n",
       "      <td>910603</td>\n",
       "      <td>https://resultadoshistorico.onpe.gob.pe/EG2021...</td>\n",
       "    </tr>\n",
       "    <tr>\n",
       "      <th>1</th>\n",
       "      <td>EL FRENTE AMPLIO POR JUSTICIA, VIDA Y LIBERTAD</td>\n",
       "      <td>0</td>\n",
       "      <td>0.000%</td>\n",
       "      <td>0.000%</td>\n",
       "      <td>AFRICA</td>\n",
       "      <td>SUDAFRICA</td>\n",
       "      <td>PRETORIA</td>\n",
       "      <td>910603</td>\n",
       "      <td>https://resultadoshistorico.onpe.gob.pe/EG2021...</td>\n",
       "    </tr>\n",
       "    <tr>\n",
       "      <th>2</th>\n",
       "      <td>PARTIDO MORADO</td>\n",
       "      <td>0</td>\n",
       "      <td>0.000%</td>\n",
       "      <td>0.000%</td>\n",
       "      <td>AFRICA</td>\n",
       "      <td>SUDAFRICA</td>\n",
       "      <td>PRETORIA</td>\n",
       "      <td>910603</td>\n",
       "      <td>https://resultadoshistorico.onpe.gob.pe/EG2021...</td>\n",
       "    </tr>\n",
       "    <tr>\n",
       "      <th>3</th>\n",
       "      <td>PERU PATRIA SEGURA</td>\n",
       "      <td>0</td>\n",
       "      <td>0.000%</td>\n",
       "      <td>0.000%</td>\n",
       "      <td>AFRICA</td>\n",
       "      <td>SUDAFRICA</td>\n",
       "      <td>PRETORIA</td>\n",
       "      <td>910603</td>\n",
       "      <td>https://resultadoshistorico.onpe.gob.pe/EG2021...</td>\n",
       "    </tr>\n",
       "    <tr>\n",
       "      <th>4</th>\n",
       "      <td>VICTORIA NACIONAL</td>\n",
       "      <td>0</td>\n",
       "      <td>0.000%</td>\n",
       "      <td>0.000%</td>\n",
       "      <td>AFRICA</td>\n",
       "      <td>SUDAFRICA</td>\n",
       "      <td>PRETORIA</td>\n",
       "      <td>910603</td>\n",
       "      <td>https://resultadoshistorico.onpe.gob.pe/EG2021...</td>\n",
       "    </tr>\n",
       "    <tr>\n",
       "      <th>...</th>\n",
       "      <td>...</td>\n",
       "      <td>...</td>\n",
       "      <td>...</td>\n",
       "      <td>...</td>\n",
       "      <td>...</td>\n",
       "      <td>...</td>\n",
       "      <td>...</td>\n",
       "      <td>...</td>\n",
       "      <td>...</td>\n",
       "    </tr>\n",
       "    <tr>\n",
       "      <th>4091</th>\n",
       "      <td>ALIANZA PARA EL PROGRESO</td>\n",
       "      <td>0</td>\n",
       "      <td>0.000%</td>\n",
       "      <td>0.000%</td>\n",
       "      <td>OCEANIA</td>\n",
       "      <td>NUEVA ZELANDA</td>\n",
       "      <td>WELLINGTON</td>\n",
       "      <td>950202</td>\n",
       "      <td>https://resultadoshistorico.onpe.gob.pe/EG2021...</td>\n",
       "    </tr>\n",
       "    <tr>\n",
       "      <th>4092</th>\n",
       "      <td>TOTAL DE VOTOS VÁLIDOS</td>\n",
       "      <td>34</td>\n",
       "      <td>100.000%</td>\n",
       "      <td>97.143%</td>\n",
       "      <td>OCEANIA</td>\n",
       "      <td>NUEVA ZELANDA</td>\n",
       "      <td>WELLINGTON</td>\n",
       "      <td>950202</td>\n",
       "      <td>https://resultadoshistorico.onpe.gob.pe/EG2021...</td>\n",
       "    </tr>\n",
       "    <tr>\n",
       "      <th>4093</th>\n",
       "      <td>VOTOS EN BLANCO</td>\n",
       "      <td>0</td>\n",
       "      <td>NaN</td>\n",
       "      <td>0.000%</td>\n",
       "      <td>OCEANIA</td>\n",
       "      <td>NUEVA ZELANDA</td>\n",
       "      <td>WELLINGTON</td>\n",
       "      <td>950202</td>\n",
       "      <td>https://resultadoshistorico.onpe.gob.pe/EG2021...</td>\n",
       "    </tr>\n",
       "    <tr>\n",
       "      <th>4094</th>\n",
       "      <td>VOTOS NULOS</td>\n",
       "      <td>1</td>\n",
       "      <td>NaN</td>\n",
       "      <td>2.857%</td>\n",
       "      <td>OCEANIA</td>\n",
       "      <td>NUEVA ZELANDA</td>\n",
       "      <td>WELLINGTON</td>\n",
       "      <td>950202</td>\n",
       "      <td>https://resultadoshistorico.onpe.gob.pe/EG2021...</td>\n",
       "    </tr>\n",
       "    <tr>\n",
       "      <th>4095</th>\n",
       "      <td>TOTAL DE VOTOS EMITIDOS</td>\n",
       "      <td>35</td>\n",
       "      <td>NaN</td>\n",
       "      <td>100.000%</td>\n",
       "      <td>OCEANIA</td>\n",
       "      <td>NUEVA ZELANDA</td>\n",
       "      <td>WELLINGTON</td>\n",
       "      <td>950202</td>\n",
       "      <td>https://resultadoshistorico.onpe.gob.pe/EG2021...</td>\n",
       "    </tr>\n",
       "  </tbody>\n",
       "</table>\n",
       "<p>4096 rows × 9 columns</p>\n",
       "</div>"
      ],
      "text/plain": [
       "                                   Political_parties Total Share_valid  \\\n",
       "0                       PARTIDO NACIONALISTA PERUANO     0      0.000%   \n",
       "1     EL FRENTE AMPLIO POR JUSTICIA, VIDA Y LIBERTAD     0      0.000%   \n",
       "2                                     PARTIDO MORADO     0      0.000%   \n",
       "3                                 PERU PATRIA SEGURA     0      0.000%   \n",
       "4                                  VICTORIA NACIONAL     0      0.000%   \n",
       "...                                              ...   ...         ...   \n",
       "4091                        ALIANZA PARA EL PROGRESO     0      0.000%   \n",
       "4092                          TOTAL DE VOTOS VÁLIDOS    34    100.000%   \n",
       "4093                                 VOTOS EN BLANCO     0         NaN   \n",
       "4094                                     VOTOS NULOS     1         NaN   \n",
       "4095                         TOTAL DE VOTOS EMITIDOS    35         NaN   \n",
       "\n",
       "     Share_emitied Continent        Country       State  Ubigeo  \\\n",
       "0           0.000%    AFRICA      SUDAFRICA    PRETORIA  910603   \n",
       "1           0.000%    AFRICA      SUDAFRICA    PRETORIA  910603   \n",
       "2           0.000%    AFRICA      SUDAFRICA    PRETORIA  910603   \n",
       "3           0.000%    AFRICA      SUDAFRICA    PRETORIA  910603   \n",
       "4           0.000%    AFRICA      SUDAFRICA    PRETORIA  910603   \n",
       "...            ...       ...            ...         ...     ...   \n",
       "4091        0.000%   OCEANIA  NUEVA ZELANDA  WELLINGTON  950202   \n",
       "4092       97.143%   OCEANIA  NUEVA ZELANDA  WELLINGTON  950202   \n",
       "4093        0.000%   OCEANIA  NUEVA ZELANDA  WELLINGTON  950202   \n",
       "4094        2.857%   OCEANIA  NUEVA ZELANDA  WELLINGTON  950202   \n",
       "4095      100.000%   OCEANIA  NUEVA ZELANDA  WELLINGTON  950202   \n",
       "\n",
       "                                                    URL  \n",
       "0     https://resultadoshistorico.onpe.gob.pe/EG2021...  \n",
       "1     https://resultadoshistorico.onpe.gob.pe/EG2021...  \n",
       "2     https://resultadoshistorico.onpe.gob.pe/EG2021...  \n",
       "3     https://resultadoshistorico.onpe.gob.pe/EG2021...  \n",
       "4     https://resultadoshistorico.onpe.gob.pe/EG2021...  \n",
       "...                                                 ...  \n",
       "4091  https://resultadoshistorico.onpe.gob.pe/EG2021...  \n",
       "4092  https://resultadoshistorico.onpe.gob.pe/EG2021...  \n",
       "4093  https://resultadoshistorico.onpe.gob.pe/EG2021...  \n",
       "4094  https://resultadoshistorico.onpe.gob.pe/EG2021...  \n",
       "4095  https://resultadoshistorico.onpe.gob.pe/EG2021...  \n",
       "\n",
       "[4096 rows x 9 columns]"
      ]
     },
     "execution_count": 10,
     "metadata": {},
     "output_type": "execute_result"
    }
   ],
   "source": [
    "Final_data = pd.concat( all_tables.values() ).reset_index( drop = True )\n",
    "Final_data"
   ]
  },
  {
   "cell_type": "code",
   "execution_count": 12,
   "metadata": {},
   "outputs": [],
   "source": [
    "Final_data.to_excel(r'../_data_results/Group_2_ass_4.xlsx', index=False)"
   ]
  },
  {
   "cell_type": "code",
   "execution_count": 13,
   "metadata": {},
   "outputs": [],
   "source": [
    "driver.close()"
   ]
  },
  {
   "cell_type": "code",
   "execution_count": null,
   "metadata": {},
   "outputs": [],
   "source": []
  }
 ],
 "metadata": {
  "hide_input": false,
  "kernelspec": {
   "display_name": "Python 3 (ipykernel)",
   "language": "python",
   "name": "python3"
  },
  "language_info": {
   "codemirror_mode": {
    "name": "ipython",
    "version": 3
   },
   "file_extension": ".py",
   "mimetype": "text/x-python",
   "name": "python",
   "nbconvert_exporter": "python",
   "pygments_lexer": "ipython3",
   "version": "3.9.7"
  }
 },
 "nbformat": 4,
 "nbformat_minor": 4
}

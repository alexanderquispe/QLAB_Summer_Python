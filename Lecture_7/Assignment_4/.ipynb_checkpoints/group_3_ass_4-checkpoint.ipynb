{
 "cells": [
  {
   "cell_type": "code",
   "execution_count": 1,
   "metadata": {},
   "outputs": [],
   "source": [
    "from selenium import webdriver\n",
    "from selenium.webdriver.common.keys import Keys\n",
    "from selenium.webdriver.support.ui import WebDriverWait\n",
    "from selenium.webdriver.common.by import By\n",
    "from selenium.webdriver.support import expected_conditions as EC\n",
    "import pandas as pd\n",
    "from bs4 import BeautifulSoup\n",
    "import time\n",
    "from webdriver_manager.chrome import ChromeDriverManager\n",
    "from selenium.webdriver.support.ui import Select\n",
    "import unidecode"
   ]
  },
  {
   "cell_type": "code",
   "execution_count": 2,
   "metadata": {},
   "outputs": [
    {
     "name": "stderr",
     "output_type": "stream",
     "text": [
      "\n",
      "\n",
      "====== WebDriver manager ======\n",
      "Current google-chrome version is 96.0.4664\n",
      "Get LATEST chromedriver version for 96.0.4664 google-chrome\n",
      "Driver [C:\\Users\\Usuario\\.wdm\\drivers\\chromedriver\\win32\\96.0.4664.45\\chromedriver.exe] found in cache\n"
     ]
    }
   ],
   "source": [
    "driver = webdriver.Chrome(ChromeDriverManager().install())\n",
    "URL =  'https://www.onpe.gob.pe/elecciones/historico-elecciones/'\n",
    "driver.get( URL )\n",
    "driver.maximize_window()"
   ]
  },
  {
   "cell_type": "code",
   "execution_count": 3,
   "metadata": {},
   "outputs": [
    {
     "name": "stdout",
     "output_type": "stream",
     "text": [
      "Histórico de Elecciones\n",
      "https://www.onpe.gob.pe/elecciones/historico-elecciones/\n"
     ]
    }
   ],
   "source": [
    "# confirmando que estoy en la página indicada\n",
    "print(driver.title)\n",
    "print(driver.current_url)"
   ]
  },
  {
   "cell_type": "code",
   "execution_count": 4,
   "metadata": {},
   "outputs": [],
   "source": [
    "VOTES = pd.DataFrame(columns=['political_parties', 'total', 'share_valid', 'share_emited', 'Continent', 'Country', 'Estate', 'Ubigeo', 'Link'])"
   ]
  },
  {
   "cell_type": "code",
   "execution_count": 5,
   "metadata": {},
   "outputs": [],
   "source": [
    "driver.find_element_by_xpath( \"/html/body/div/div/div/section[2]/div/div[2]/div/div/div[2]/div/div[2]/a\").click()\n",
    "# See all tabs\n",
    "driver.window_handles\n",
    "# Go to the second tab\n",
    "driver.switch_to.window(driver.window_handles[1])\n",
    "# Click on Results\n",
    "driver.find_element_by_xpath( \"/html/body/onpe-root/onpe-home-onpe/div[1]/div/div/div/div[2]/div[2]/div/div/a\" ).click()\n",
    "\n",
    "# Give time to the page to refresh\n",
    "time.sleep( 4 )\n",
    "\n",
    "# Go to Extranjeros\n",
    "scope = Select(driver.find_element_by_id( \"select_ambito\" ))\n",
    "dict_scope_options = { option.text : option for option in scope.options }\n",
    "dict_scope_options['EXTRANJERO'].click()\n",
    "\n",
    "continent = Select(driver.find_element_by_xpath('/html/body/onpe-root/onpe-layout-container/onpe-onpe-epres-re/div[1]/div[3]/div[1]/div[1]/div/div/div[2]/select'))\n",
    "for continent_idx in range(len(continent.options)):\n",
    "    continent = Select(driver.find_element_by_xpath('/html/body/onpe-root/onpe-layout-container/onpe-onpe-epres-re/div[1]/div[3]/div[1]/div[1]/div/div/div[2]/select')).options[continent_idx]\n",
    "    continent_name = continent.text\n",
    "\n",
    "    if continent_name != \"--TODOS--\":\n",
    "        continent.click()\n",
    "        country = Select(driver.find_element_by_xpath('/html/body/onpe-root/onpe-layout-container/onpe-onpe-epres-re/div[1]/div[3]/div[1]/div[1]/div/div/div[3]/select'))\n",
    "        # Rodrigo\n",
    "        for country_idx in range(len(country.options)):\n",
    "            country = Select(driver.find_element_by_xpath('/html/body/onpe-root/onpe-layout-container/onpe-onpe-epres-re/div[1]/div[3]/div[1]/div[1]/div/div/div[3]/select')).options[country_idx]\n",
    "            country_name = country.text\n",
    "\n",
    "            if country_name != \"--TODOS--\":\n",
    "                country.click()\n",
    "                # Claudia\n",
    "                estate = Select(driver.find_element_by_xpath('/html/body/onpe-root/onpe-layout-container/onpe-onpe-epres-re/div[1]/div[3]/div[1]/div[1]/div/div/div[4]/select'))\n",
    "\n",
    "                for estate_idx in range(len(estate.options)):\n",
    "                    estate = Select(driver.find_element_by_xpath('/html/body/onpe-root/onpe-layout-container/onpe-onpe-epres-re/div[1]/div[3]/div[1]/div[1]/div/div/div[4]/select')).options[estate_idx]\n",
    "                    estate_name = estate.text\n",
    "\n",
    "                    if estate_name != \"--TODOS--\":\n",
    "                        ubigeo = driver.current_url.split(\"/\")[-1]\n",
    "                        link = driver.current_url\n",
    "                        estate.click()\n",
    "                        time.sleep(2)\n",
    "                        #Rodrigo2\n",
    "                        table_path = driver.find_element_by_xpath('/html/body/onpe-root/onpe-layout-container/onpe-onpe-epres-re/div[1]/div[4]/div[1]/div[4]')\n",
    "                        table_html = table_path.get_attribute('innerHTML')\n",
    "                        table = pd.read_html(table_html)\n",
    "                        table_ = table[0].iloc[ 1:, 2: ]\n",
    "                        table_.columns = ['political_parties', 'total', 'share_valid', 'share_emited']\n",
    "                        table_.fillna('0.000%')\n",
    "                        table_['Continent'] = continent_name\n",
    "                        table_['Country'] = country_name\n",
    "                        table_['Estate'] = estate_name\n",
    "                        table_['Ubigeo'] = ubigeo\n",
    "                        table_['Link'] = link\n",
    "                        #Daniel\n",
    "                        VOTES = pd.concat([VOTES, table_], axis=0)\n",
    "                        VOTES.reset_index(inplace=True, drop=True)\n",
    "                        "
   ]
  },
  {
   "cell_type": "code",
   "execution_count": 8,
   "metadata": {},
   "outputs": [],
   "source": [
    "VOTES.to_excel(  r'../_data_results/group_3_ass_4.xlsx' , index = False )"
   ]
  }
 ],
 "metadata": {
  "kernelspec": {
   "display_name": "Python 3",
   "language": "python",
   "name": "python3"
  },
  "language_info": {
   "codemirror_mode": {
    "name": "ipython",
    "version": 3
   },
   "file_extension": ".py",
   "mimetype": "text/x-python",
   "name": "python",
   "nbconvert_exporter": "python",
   "pygments_lexer": "ipython3",
   "version": "3.8.3"
  }
 },
 "nbformat": 4,
 "nbformat_minor": 4
}

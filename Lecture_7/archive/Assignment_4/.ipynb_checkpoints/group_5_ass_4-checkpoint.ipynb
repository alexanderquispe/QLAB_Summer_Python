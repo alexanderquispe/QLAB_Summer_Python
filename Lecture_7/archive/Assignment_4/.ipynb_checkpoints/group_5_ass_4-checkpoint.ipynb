{
 "cells": [
  {
   "cell_type": "markdown",
   "id": "c37a555b",
   "metadata": {},
   "source": [
    "# Assignment 4\n",
    "In this task you have to scrape all the results from \"Extranjero\". [Here is link](https://resultadoshistorico.onpe.gob.pe/EG2021/EleccionesPresidenciales/RePres/E). \n",
    "You have to **follow the steps as we did in Lecture 7** and get information from all tabs in \"Continente\", \"País\" and \"Estado\".\n",
    "\n",
    "1. Take the data table TOTAL DE VOTOS.\n",
    "2. Store the four columns ORGANIZACIONES POLÍTICAS, TOTAL, %VÁLIDOS and %EMITIDOS. Rename these columns to political_parties, total, share_valid, share_emitied, respectively. \n",
    "3. Add the columns continent, country, state, ubigeo, and link. These last two items you can extract from the url. \n",
    "4. Append  the tables in just one DataFrame and export an excel file and save it in the folder [\\_data\\_results](https://github.com/alexanderquispe/Diplomado_PUCP/tree/main/Lecture_7/_data_results).\n",
    "5. The name of your Excel file should be the same as the name of your branches. "
   ]
  },
  {
   "cell_type": "markdown",
   "id": "e2bdf0ff",
   "metadata": {},
   "source": [
    "# <a id='outline'> Assignment 4 - Outline </a>\n",
    "- <a href='#1_Lib'> 1. Libraries required </a>\n",
    "- <a href='#2_web_page'> 2. Webpage </a>\n",
    "- <a href='#3_scope'> 3. Scope </a>\n",
    "- <a href='#4_set_up'> 4. Set Up before loop </a>\n",
    "- <a href='#5_loop'> 5. Loop for webscraping </a>\n",
    "- <a href='#6_final_data'> 6. Data processing and storing </a>"
   ]
  },
  {
   "cell_type": "markdown",
   "id": "84822015",
   "metadata": {},
   "source": [
    "## <a id='1_Lib'> 1. Libraries required </a>"
   ]
  },
  {
   "cell_type": "code",
   "execution_count": 1,
   "id": "e2ce934b",
   "metadata": {},
   "outputs": [
    {
     "name": "stdout",
     "output_type": "stream",
     "text": [
      "Requirement already satisfied: lxml in c:\\users\\azula\\anaconda3\\lib\\site-packages (4.6.3)\n"
     ]
    },
    {
     "name": "stderr",
     "output_type": "stream",
     "text": [
      "ERROR: Could not find a version that satisfies the requirement lxmunidecodel\n",
      "ERROR: No matching distribution found for lxmunidecodel\n"
     ]
    },
    {
     "name": "stdout",
     "output_type": "stream",
     "text": [
      "Requirement already satisfied: unidecode in c:\\users\\azula\\anaconda3\\lib\\site-packages (1.3.2)\n"
     ]
    }
   ],
   "source": [
    "#!pip install lxml\n",
    "#!pip install lxmunidecodel\n",
    "#!pip install unidecode\n",
    "\n",
    "\n",
    "import os\n",
    "import time\n",
    "import re\n",
    "import unidecode\n",
    "import time \n",
    "\n",
    "\n",
    "import pandas as pd\n",
    "import numpy as np\n",
    "\n",
    "\n",
    "from selenium import webdriver\n",
    "from selenium.webdriver import ActionChains\n",
    "from selenium.webdriver.support.ui import Select\n",
    "from selenium.webdriver.common.keys import Keys\n",
    "from selenium.common.exceptions import NoSuchElementException\n",
    "from webdriver_manager.chrome import ChromeDriverManager"
   ]
  },
  {
   "cell_type": "markdown",
   "id": "ac30e515",
   "metadata": {},
   "source": [
    "## <a id='2_web_page'> 2. Webpage </a>\n",
    "\n",
    "One option direct link (does not work every time)"
   ]
  },
  {
   "cell_type": "code",
   "execution_count": null,
   "id": "d25c12fd",
   "metadata": {},
   "outputs": [],
   "source": [
    "#ChromeDriverManager\n",
    "#driver = webdriver.Chrome( ChromeDriverManager().install() )\n",
    "#driver.maximize_window()\n",
    "#url = 'https://resultadoshistorico.onpe.gob.pe/EG2021/EleccionesPresidenciales/RePres/E'\n",
    "#driver.get( url )\n",
    "#driver.execute_script( \"document.body.style.zoom='100%'\" )"
   ]
  },
  {
   "cell_type": "markdown",
   "id": "29e54a4b",
   "metadata": {},
   "source": [
    "Second options, \"ONPE Resultado Historico\" link and access with clicks. May require time sleep of 10 or more seconds"
   ]
  },
  {
   "cell_type": "code",
   "execution_count": 2,
   "id": "4ce1ed4a",
   "metadata": {},
   "outputs": [
    {
     "name": "stderr",
     "output_type": "stream",
     "text": [
      "\n",
      "\n",
      "====== WebDriver manager ======\n",
      "Current google-chrome version is 96.0.4664\n",
      "Get LATEST chromedriver version for 96.0.4664 google-chrome\n",
      "Driver [C:\\Users\\azula\\.wdm\\drivers\\chromedriver\\win32\\96.0.4664.45\\chromedriver.exe] found in cache\n",
      "<ipython-input-2-5908a993c7a8>:2: DeprecationWarning: executable_path has been deprecated, please pass in a Service object\n",
      "  driver = webdriver.Chrome( ChromeDriverManager().install() )\n",
      "<ipython-input-2-5908a993c7a8>:8: DeprecationWarning: find_element_by_* commands are deprecated. Please use find_element() instead\n",
      "  presi = driver.find_element_by_xpath('/html/body/onpe-root/onpe-home-onpe/div[1]/div/div/div/div[2]/div[2]/div/div/a/div[2]')\n"
     ]
    }
   ],
   "source": [
    "ChromeDriverManager\n",
    "driver = webdriver.Chrome( ChromeDriverManager().install() )\n",
    "driver.maximize_window()\n",
    "url = 'https://resultadoshistorico.onpe.gob.pe/EG2021/'\n",
    "driver.get( url )\n",
    "driver.execute_script( \"document.body.style.zoom='100%'\" )\n",
    "\n",
    "presi = driver.find_element_by_xpath('/html/body/onpe-root/onpe-home-onpe/div[1]/div/div/div/div[2]/div[2]/div/div/a/div[2]')\n",
    "presi.click()\n",
    "time.sleep(10)"
   ]
  },
  {
   "cell_type": "markdown",
   "id": "6d083bc5",
   "metadata": {},
   "source": [
    "## <a id='3_scope'> 3. Scope </a>\n",
    "\n",
    "In the part we get all the element from the scope and select our element of interest (i.e. Extranjero)"
   ]
  },
  {
   "cell_type": "code",
   "execution_count": 3,
   "id": "3769c3e1",
   "metadata": {},
   "outputs": [
    {
     "name": "stderr",
     "output_type": "stream",
     "text": [
      "<ipython-input-3-8536e4716e71>:3: DeprecationWarning: find_element_by_* commands are deprecated. Please use find_element() instead\n",
      "  scope = driver.find_element_by_xpath('/html/body/onpe-root/onpe-layout-container/onpe-onpe-epres-re/div[1]/div[3]/div[1]/div[1]/div/div/div/select')\n",
      "C:\\Users\\azula\\anaconda3\\lib\\site-packages\\selenium\\webdriver\\remote\\webelement.py:359: UserWarning: find_elements_by_* commands are deprecated. Please use find_elements() instead\n",
      "  warnings.warn(\"find_elements_by_* commands are deprecated. Please use find_elements() instead\")\n"
     ]
    }
   ],
   "source": [
    "# Get the socpe by element_id\n",
    "#scope = driver.find_element_by_id( \"select_ambito\" )\n",
    "scope = driver.find_element_by_xpath('/html/body/onpe-root/onpe-layout-container/onpe-onpe-epres-re/div[1]/div[3]/div[1]/div[1]/div/div/div/select')\n",
    "\n",
    "# All selenium objects in scope\n",
    "scope_options = [ x for x in scope.find_elements_by_tag_name(\"option\") ]\n",
    "dict_scope_options = { option.text : option for option in scope_options }\n",
    "\n",
    "# We click on Extranjero\n",
    "dict_scope_options['EXTRANJERO'].click()"
   ]
  },
  {
   "cell_type": "markdown",
   "id": "7148b648",
   "metadata": {},
   "source": [
    "## <a id='4_set_up'> 4. Set Up before loop </a>"
   ]
  },
  {
   "cell_type": "code",
   "execution_count": 4,
   "id": "91b3775f",
   "metadata": {},
   "outputs": [
    {
     "name": "stderr",
     "output_type": "stream",
     "text": [
      "<ipython-input-4-33c7d3e4b16f>:5: DeprecationWarning: find_element_by_* commands are deprecated. Please use find_element() instead\n",
      "  cnt = Select( driver.find_element_by_xpath( \"/html/body/onpe-root/onpe-layout-container/onpe-onpe-epres-re/div[1]/div[3]/div[1]/div[1]/div/div/div[2]/select\" ) )\n"
     ]
    }
   ],
   "source": [
    "# Store all_tables\n",
    "all_tables = {}\n",
    "\n",
    "# All selenium objects in continen selection\n",
    "cnt = Select( driver.find_element_by_xpath( \"/html/body/onpe-root/onpe-layout-container/onpe-onpe-epres-re/div[1]/div[3]/div[1]/div[1]/div/div/div[2]/select\" ) )\n",
    "\n",
    "# Get number of total options\n",
    "num_cont = len( cnt.options )"
   ]
  },
  {
   "cell_type": "markdown",
   "id": "bbb77623",
   "metadata": {},
   "source": [
    "## <a id='5_loop'> 5. Loop for webscraping </a>"
   ]
  },
  {
   "cell_type": "code",
   "execution_count": 7,
   "id": "a3ec859d",
   "metadata": {},
   "outputs": [
    {
     "name": "stderr",
     "output_type": "stream",
     "text": [
      "<ipython-input-7-1d7d495d847e>:3: DeprecationWarning: find_element_by_* commands are deprecated. Please use find_element() instead\n",
      "  cont = Select(driver.find_element_by_xpath(\"/html/body/onpe-root/onpe-layout-container/onpe-onpe-epres-re/div[1]/div[3]/div[1]/div[1]/div/div/div[2]/select\" ) )\n",
      "<ipython-input-7-1d7d495d847e>:18: DeprecationWarning: find_element_by_* commands are deprecated. Please use find_element() instead\n",
      "  pais = Select( driver.find_element_by_xpath(\"/html/body/onpe-root/onpe-layout-container/onpe-onpe-epres-re/div[1]/div[3]/div[1]/div[1]/div/div/div[3]/select\"))\n",
      "<ipython-input-7-1d7d495d847e>:22: DeprecationWarning: find_element_by_* commands are deprecated. Please use find_element() instead\n",
      "  pais = Select( driver.find_element_by_xpath(\"/html/body/onpe-root/onpe-layout-container/onpe-onpe-epres-re/div[1]/div[3]/div[1]/div[1]/div/div/div[3]/select\" ) )\n",
      "<ipython-input-7-1d7d495d847e>:37: DeprecationWarning: find_element_by_* commands are deprecated. Please use find_element() instead\n",
      "  est = Select( driver.find_element_by_xpath(\"/html/body/onpe-root/onpe-layout-container/onpe-onpe-epres-re/div[1]/div[3]/div[1]/div[1]/div/div/div[4]/select\" ) )\n",
      "<ipython-input-7-1d7d495d847e>:43: DeprecationWarning: find_element_by_* commands are deprecated. Please use find_element() instead\n",
      "  est = Select( driver.find_element_by_xpath(\"/html/body/onpe-root/onpe-layout-container/onpe-onpe-epres-re/div[1]/div[3]/div[1]/div[1]/div/div/div[4]/select\") )\n"
     ]
    },
    {
     "name": "stdout",
     "output_type": "stream",
     "text": [
      "--TODOS--\n",
      "ARGEL\n"
     ]
    },
    {
     "name": "stderr",
     "output_type": "stream",
     "text": [
      "<ipython-input-7-1d7d495d847e>:63: DeprecationWarning: find_element_by_* commands are deprecated. Please use find_element() instead\n",
      "  table_path = driver.find_element_by_xpath( \"/html/body/onpe-root/onpe-layout-container/onpe-onpe-epres-re/div[1]/div[4]/div[1]/div[3]/div\" )\n",
      "<ipython-input-7-1d7d495d847e>:22: DeprecationWarning: find_element_by_* commands are deprecated. Please use find_element() instead\n",
      "  pais = Select( driver.find_element_by_xpath(\"/html/body/onpe-root/onpe-layout-container/onpe-onpe-epres-re/div[1]/div[3]/div[1]/div[1]/div/div/div[3]/select\" ) )\n",
      "<ipython-input-7-1d7d495d847e>:37: DeprecationWarning: find_element_by_* commands are deprecated. Please use find_element() instead\n",
      "  est = Select( driver.find_element_by_xpath(\"/html/body/onpe-root/onpe-layout-container/onpe-onpe-epres-re/div[1]/div[3]/div[1]/div[1]/div/div/div[4]/select\" ) )\n",
      "<ipython-input-7-1d7d495d847e>:43: DeprecationWarning: find_element_by_* commands are deprecated. Please use find_element() instead\n",
      "  est = Select( driver.find_element_by_xpath(\"/html/body/onpe-root/onpe-layout-container/onpe-onpe-epres-re/div[1]/div[3]/div[1]/div[1]/div/div/div[4]/select\") )\n"
     ]
    },
    {
     "name": "stdout",
     "output_type": "stream",
     "text": [
      "--TODOS--\n",
      "RABAT\n"
     ]
    },
    {
     "name": "stderr",
     "output_type": "stream",
     "text": [
      "<ipython-input-7-1d7d495d847e>:63: DeprecationWarning: find_element_by_* commands are deprecated. Please use find_element() instead\n",
      "  table_path = driver.find_element_by_xpath( \"/html/body/onpe-root/onpe-layout-container/onpe-onpe-epres-re/div[1]/div[4]/div[1]/div[3]/div\" )\n",
      "<ipython-input-7-1d7d495d847e>:22: DeprecationWarning: find_element_by_* commands are deprecated. Please use find_element() instead\n",
      "  pais = Select( driver.find_element_by_xpath(\"/html/body/onpe-root/onpe-layout-container/onpe-onpe-epres-re/div[1]/div[3]/div[1]/div[1]/div/div/div[3]/select\" ) )\n",
      "<ipython-input-7-1d7d495d847e>:37: DeprecationWarning: find_element_by_* commands are deprecated. Please use find_element() instead\n",
      "  est = Select( driver.find_element_by_xpath(\"/html/body/onpe-root/onpe-layout-container/onpe-onpe-epres-re/div[1]/div[3]/div[1]/div[1]/div/div/div[4]/select\" ) )\n",
      "<ipython-input-7-1d7d495d847e>:43: DeprecationWarning: find_element_by_* commands are deprecated. Please use find_element() instead\n",
      "  est = Select( driver.find_element_by_xpath(\"/html/body/onpe-root/onpe-layout-container/onpe-onpe-epres-re/div[1]/div[3]/div[1]/div[1]/div/div/div[4]/select\") )\n",
      "<ipython-input-7-1d7d495d847e>:63: DeprecationWarning: find_element_by_* commands are deprecated. Please use find_element() instead\n",
      "  table_path = driver.find_element_by_xpath( \"/html/body/onpe-root/onpe-layout-container/onpe-onpe-epres-re/div[1]/div[4]/div[1]/div[3]/div\" )\n"
     ]
    },
    {
     "name": "stdout",
     "output_type": "stream",
     "text": [
      "--TODOS--\n",
      "EL CAIRO\n"
     ]
    },
    {
     "name": "stderr",
     "output_type": "stream",
     "text": [
      "<ipython-input-7-1d7d495d847e>:22: DeprecationWarning: find_element_by_* commands are deprecated. Please use find_element() instead\n",
      "  pais = Select( driver.find_element_by_xpath(\"/html/body/onpe-root/onpe-layout-container/onpe-onpe-epres-re/div[1]/div[3]/div[1]/div[1]/div/div/div[3]/select\" ) )\n",
      "<ipython-input-7-1d7d495d847e>:37: DeprecationWarning: find_element_by_* commands are deprecated. Please use find_element() instead\n",
      "  est = Select( driver.find_element_by_xpath(\"/html/body/onpe-root/onpe-layout-container/onpe-onpe-epres-re/div[1]/div[3]/div[1]/div[1]/div/div/div[4]/select\" ) )\n",
      "<ipython-input-7-1d7d495d847e>:43: DeprecationWarning: find_element_by_* commands are deprecated. Please use find_element() instead\n",
      "  est = Select( driver.find_element_by_xpath(\"/html/body/onpe-root/onpe-layout-container/onpe-onpe-epres-re/div[1]/div[3]/div[1]/div[1]/div/div/div[4]/select\") )\n",
      "<ipython-input-7-1d7d495d847e>:63: DeprecationWarning: find_element_by_* commands are deprecated. Please use find_element() instead\n",
      "  table_path = driver.find_element_by_xpath( \"/html/body/onpe-root/onpe-layout-container/onpe-onpe-epres-re/div[1]/div[4]/div[1]/div[3]/div\" )\n"
     ]
    },
    {
     "name": "stdout",
     "output_type": "stream",
     "text": [
      "--TODOS--\n",
      "JOHANNESBURGO\n"
     ]
    },
    {
     "name": "stderr",
     "output_type": "stream",
     "text": [
      "<ipython-input-7-1d7d495d847e>:43: DeprecationWarning: find_element_by_* commands are deprecated. Please use find_element() instead\n",
      "  est = Select( driver.find_element_by_xpath(\"/html/body/onpe-root/onpe-layout-container/onpe-onpe-epres-re/div[1]/div[3]/div[1]/div[1]/div/div/div[4]/select\") )\n"
     ]
    },
    {
     "name": "stdout",
     "output_type": "stream",
     "text": [
      "PRETORIA\n"
     ]
    },
    {
     "name": "stderr",
     "output_type": "stream",
     "text": [
      "<ipython-input-7-1d7d495d847e>:63: DeprecationWarning: find_element_by_* commands are deprecated. Please use find_element() instead\n",
      "  table_path = driver.find_element_by_xpath( \"/html/body/onpe-root/onpe-layout-container/onpe-onpe-epres-re/div[1]/div[4]/div[1]/div[3]/div\" )\n",
      "<ipython-input-7-1d7d495d847e>:3: DeprecationWarning: find_element_by_* commands are deprecated. Please use find_element() instead\n",
      "  cont = Select(driver.find_element_by_xpath(\"/html/body/onpe-root/onpe-layout-container/onpe-onpe-epres-re/div[1]/div[3]/div[1]/div[1]/div/div/div[2]/select\" ) )\n",
      "<ipython-input-7-1d7d495d847e>:18: DeprecationWarning: find_element_by_* commands are deprecated. Please use find_element() instead\n",
      "  pais = Select( driver.find_element_by_xpath(\"/html/body/onpe-root/onpe-layout-container/onpe-onpe-epres-re/div[1]/div[3]/div[1]/div[1]/div/div/div[3]/select\"))\n",
      "<ipython-input-7-1d7d495d847e>:22: DeprecationWarning: find_element_by_* commands are deprecated. Please use find_element() instead\n",
      "  pais = Select( driver.find_element_by_xpath(\"/html/body/onpe-root/onpe-layout-container/onpe-onpe-epres-re/div[1]/div[3]/div[1]/div[1]/div/div/div[3]/select\" ) )\n",
      "<ipython-input-7-1d7d495d847e>:37: DeprecationWarning: find_element_by_* commands are deprecated. Please use find_element() instead\n",
      "  est = Select( driver.find_element_by_xpath(\"/html/body/onpe-root/onpe-layout-container/onpe-onpe-epres-re/div[1]/div[3]/div[1]/div[1]/div/div/div[4]/select\" ) )\n",
      "<ipython-input-7-1d7d495d847e>:43: DeprecationWarning: find_element_by_* commands are deprecated. Please use find_element() instead\n",
      "  est = Select( driver.find_element_by_xpath(\"/html/body/onpe-root/onpe-layout-container/onpe-onpe-epres-re/div[1]/div[3]/div[1]/div[1]/div/div/div[4]/select\") )\n"
     ]
    },
    {
     "name": "stdout",
     "output_type": "stream",
     "text": [
      "--TODOS--\n",
      "ARUBA\n"
     ]
    },
    {
     "name": "stderr",
     "output_type": "stream",
     "text": [
      "<ipython-input-7-1d7d495d847e>:63: DeprecationWarning: find_element_by_* commands are deprecated. Please use find_element() instead\n",
      "  table_path = driver.find_element_by_xpath( \"/html/body/onpe-root/onpe-layout-container/onpe-onpe-epres-re/div[1]/div[4]/div[1]/div[3]/div\" )\n",
      "<ipython-input-7-1d7d495d847e>:22: DeprecationWarning: find_element_by_* commands are deprecated. Please use find_element() instead\n",
      "  pais = Select( driver.find_element_by_xpath(\"/html/body/onpe-root/onpe-layout-container/onpe-onpe-epres-re/div[1]/div[3]/div[1]/div[1]/div/div/div[3]/select\" ) )\n",
      "<ipython-input-7-1d7d495d847e>:37: DeprecationWarning: find_element_by_* commands are deprecated. Please use find_element() instead\n",
      "  est = Select( driver.find_element_by_xpath(\"/html/body/onpe-root/onpe-layout-container/onpe-onpe-epres-re/div[1]/div[3]/div[1]/div[1]/div/div/div[4]/select\" ) )\n",
      "<ipython-input-7-1d7d495d847e>:43: DeprecationWarning: find_element_by_* commands are deprecated. Please use find_element() instead\n",
      "  est = Select( driver.find_element_by_xpath(\"/html/body/onpe-root/onpe-layout-container/onpe-onpe-epres-re/div[1]/div[3]/div[1]/div[1]/div/div/div[4]/select\") )\n",
      "<ipython-input-7-1d7d495d847e>:63: DeprecationWarning: find_element_by_* commands are deprecated. Please use find_element() instead\n",
      "  table_path = driver.find_element_by_xpath( \"/html/body/onpe-root/onpe-layout-container/onpe-onpe-epres-re/div[1]/div[4]/div[1]/div[3]/div\" )\n"
     ]
    },
    {
     "name": "stdout",
     "output_type": "stream",
     "text": [
      "--TODOS--\n",
      "BUENOS AIRES\n"
     ]
    },
    {
     "name": "stderr",
     "output_type": "stream",
     "text": [
      "<ipython-input-7-1d7d495d847e>:43: DeprecationWarning: find_element_by_* commands are deprecated. Please use find_element() instead\n",
      "  est = Select( driver.find_element_by_xpath(\"/html/body/onpe-root/onpe-layout-container/onpe-onpe-epres-re/div[1]/div[3]/div[1]/div[1]/div/div/div[4]/select\") )\n",
      "<ipython-input-7-1d7d495d847e>:63: DeprecationWarning: find_element_by_* commands are deprecated. Please use find_element() instead\n",
      "  table_path = driver.find_element_by_xpath( \"/html/body/onpe-root/onpe-layout-container/onpe-onpe-epres-re/div[1]/div[4]/div[1]/div[3]/div\" )\n",
      "<ipython-input-7-1d7d495d847e>:43: DeprecationWarning: find_element_by_* commands are deprecated. Please use find_element() instead\n",
      "  est = Select( driver.find_element_by_xpath(\"/html/body/onpe-root/onpe-layout-container/onpe-onpe-epres-re/div[1]/div[3]/div[1]/div[1]/div/div/div[4]/select\") )\n"
     ]
    },
    {
     "name": "stdout",
     "output_type": "stream",
     "text": [
      "CORDOBA\n",
      "CORRIENTES\n"
     ]
    },
    {
     "name": "stderr",
     "output_type": "stream",
     "text": [
      "<ipython-input-7-1d7d495d847e>:63: DeprecationWarning: find_element_by_* commands are deprecated. Please use find_element() instead\n",
      "  table_path = driver.find_element_by_xpath( \"/html/body/onpe-root/onpe-layout-container/onpe-onpe-epres-re/div[1]/div[4]/div[1]/div[3]/div\" )\n",
      "<ipython-input-7-1d7d495d847e>:43: DeprecationWarning: find_element_by_* commands are deprecated. Please use find_element() instead\n",
      "  est = Select( driver.find_element_by_xpath(\"/html/body/onpe-root/onpe-layout-container/onpe-onpe-epres-re/div[1]/div[3]/div[1]/div[1]/div/div/div[4]/select\") )\n"
     ]
    },
    {
     "name": "stdout",
     "output_type": "stream",
     "text": [
      "LA PLATA\n"
     ]
    },
    {
     "name": "stderr",
     "output_type": "stream",
     "text": [
      "<ipython-input-7-1d7d495d847e>:63: DeprecationWarning: find_element_by_* commands are deprecated. Please use find_element() instead\n",
      "  table_path = driver.find_element_by_xpath( \"/html/body/onpe-root/onpe-layout-container/onpe-onpe-epres-re/div[1]/div[4]/div[1]/div[3]/div\" )\n",
      "<ipython-input-7-1d7d495d847e>:43: DeprecationWarning: find_element_by_* commands are deprecated. Please use find_element() instead\n",
      "  est = Select( driver.find_element_by_xpath(\"/html/body/onpe-root/onpe-layout-container/onpe-onpe-epres-re/div[1]/div[3]/div[1]/div[1]/div/div/div[4]/select\") )\n",
      "<ipython-input-7-1d7d495d847e>:63: DeprecationWarning: find_element_by_* commands are deprecated. Please use find_element() instead\n",
      "  table_path = driver.find_element_by_xpath( \"/html/body/onpe-root/onpe-layout-container/onpe-onpe-epres-re/div[1]/div[4]/div[1]/div[3]/div\" )\n"
     ]
    },
    {
     "name": "stdout",
     "output_type": "stream",
     "text": [
      "MENDOZA\n"
     ]
    },
    {
     "name": "stderr",
     "output_type": "stream",
     "text": [
      "<ipython-input-7-1d7d495d847e>:43: DeprecationWarning: find_element_by_* commands are deprecated. Please use find_element() instead\n",
      "  est = Select( driver.find_element_by_xpath(\"/html/body/onpe-root/onpe-layout-container/onpe-onpe-epres-re/div[1]/div[3]/div[1]/div[1]/div/div/div[4]/select\") )\n",
      "<ipython-input-7-1d7d495d847e>:63: DeprecationWarning: find_element_by_* commands are deprecated. Please use find_element() instead\n",
      "  table_path = driver.find_element_by_xpath( \"/html/body/onpe-root/onpe-layout-container/onpe-onpe-epres-re/div[1]/div[4]/div[1]/div[3]/div\" )\n",
      "<ipython-input-7-1d7d495d847e>:43: DeprecationWarning: find_element_by_* commands are deprecated. Please use find_element() instead\n",
      "  est = Select( driver.find_element_by_xpath(\"/html/body/onpe-root/onpe-layout-container/onpe-onpe-epres-re/div[1]/div[3]/div[1]/div[1]/div/div/div[4]/select\") )\n"
     ]
    },
    {
     "name": "stdout",
     "output_type": "stream",
     "text": [
      "ROSARIO DE SANTA FE\n",
      "SALTA\n"
     ]
    },
    {
     "name": "stderr",
     "output_type": "stream",
     "text": [
      "<ipython-input-7-1d7d495d847e>:63: DeprecationWarning: find_element_by_* commands are deprecated. Please use find_element() instead\n",
      "  table_path = driver.find_element_by_xpath( \"/html/body/onpe-root/onpe-layout-container/onpe-onpe-epres-re/div[1]/div[4]/div[1]/div[3]/div\" )\n",
      "<ipython-input-7-1d7d495d847e>:22: DeprecationWarning: find_element_by_* commands are deprecated. Please use find_element() instead\n",
      "  pais = Select( driver.find_element_by_xpath(\"/html/body/onpe-root/onpe-layout-container/onpe-onpe-epres-re/div[1]/div[3]/div[1]/div[1]/div/div/div[3]/select\" ) )\n",
      "<ipython-input-7-1d7d495d847e>:37: DeprecationWarning: find_element_by_* commands are deprecated. Please use find_element() instead\n",
      "  est = Select( driver.find_element_by_xpath(\"/html/body/onpe-root/onpe-layout-container/onpe-onpe-epres-re/div[1]/div[3]/div[1]/div[1]/div/div/div[4]/select\" ) )\n",
      "<ipython-input-7-1d7d495d847e>:43: DeprecationWarning: find_element_by_* commands are deprecated. Please use find_element() instead\n",
      "  est = Select( driver.find_element_by_xpath(\"/html/body/onpe-root/onpe-layout-container/onpe-onpe-epres-re/div[1]/div[3]/div[1]/div[1]/div/div/div[4]/select\") )\n",
      "<ipython-input-7-1d7d495d847e>:63: DeprecationWarning: find_element_by_* commands are deprecated. Please use find_element() instead\n",
      "  table_path = driver.find_element_by_xpath( \"/html/body/onpe-root/onpe-layout-container/onpe-onpe-epres-re/div[1]/div[4]/div[1]/div[3]/div\" )\n"
     ]
    },
    {
     "name": "stdout",
     "output_type": "stream",
     "text": [
      "--TODOS--\n",
      "COCHABAMBA\n",
      "EL ALTO\n"
     ]
    },
    {
     "name": "stderr",
     "output_type": "stream",
     "text": [
      "<ipython-input-7-1d7d495d847e>:43: DeprecationWarning: find_element_by_* commands are deprecated. Please use find_element() instead\n",
      "  est = Select( driver.find_element_by_xpath(\"/html/body/onpe-root/onpe-layout-container/onpe-onpe-epres-re/div[1]/div[3]/div[1]/div[1]/div/div/div[4]/select\") )\n",
      "<ipython-input-7-1d7d495d847e>:63: DeprecationWarning: find_element_by_* commands are deprecated. Please use find_element() instead\n",
      "  table_path = driver.find_element_by_xpath( \"/html/body/onpe-root/onpe-layout-container/onpe-onpe-epres-re/div[1]/div[4]/div[1]/div[3]/div\" )\n",
      "<ipython-input-7-1d7d495d847e>:43: DeprecationWarning: find_element_by_* commands are deprecated. Please use find_element() instead\n",
      "  est = Select( driver.find_element_by_xpath(\"/html/body/onpe-root/onpe-layout-container/onpe-onpe-epres-re/div[1]/div[3]/div[1]/div[1]/div/div/div[4]/select\") )\n"
     ]
    },
    {
     "name": "stdout",
     "output_type": "stream",
     "text": [
      "LA PAZ\n",
      "SANTA CRUZ\n"
     ]
    },
    {
     "name": "stderr",
     "output_type": "stream",
     "text": [
      "<ipython-input-7-1d7d495d847e>:63: DeprecationWarning: find_element_by_* commands are deprecated. Please use find_element() instead\n",
      "  table_path = driver.find_element_by_xpath( \"/html/body/onpe-root/onpe-layout-container/onpe-onpe-epres-re/div[1]/div[4]/div[1]/div[3]/div\" )\n",
      "<ipython-input-7-1d7d495d847e>:43: DeprecationWarning: find_element_by_* commands are deprecated. Please use find_element() instead\n",
      "  est = Select( driver.find_element_by_xpath(\"/html/body/onpe-root/onpe-layout-container/onpe-onpe-epres-re/div[1]/div[3]/div[1]/div[1]/div/div/div[4]/select\") )\n",
      "<ipython-input-7-1d7d495d847e>:63: DeprecationWarning: find_element_by_* commands are deprecated. Please use find_element() instead\n",
      "  table_path = driver.find_element_by_xpath( \"/html/body/onpe-root/onpe-layout-container/onpe-onpe-epres-re/div[1]/div[4]/div[1]/div[3]/div\" )\n",
      "<ipython-input-7-1d7d495d847e>:22: DeprecationWarning: find_element_by_* commands are deprecated. Please use find_element() instead\n",
      "  pais = Select( driver.find_element_by_xpath(\"/html/body/onpe-root/onpe-layout-container/onpe-onpe-epres-re/div[1]/div[3]/div[1]/div[1]/div/div/div[3]/select\" ) )\n",
      "<ipython-input-7-1d7d495d847e>:37: DeprecationWarning: find_element_by_* commands are deprecated. Please use find_element() instead\n",
      "  est = Select( driver.find_element_by_xpath(\"/html/body/onpe-root/onpe-layout-container/onpe-onpe-epres-re/div[1]/div[3]/div[1]/div[1]/div/div/div[4]/select\" ) )\n",
      "<ipython-input-7-1d7d495d847e>:43: DeprecationWarning: find_element_by_* commands are deprecated. Please use find_element() instead\n",
      "  est = Select( driver.find_element_by_xpath(\"/html/body/onpe-root/onpe-layout-container/onpe-onpe-epres-re/div[1]/div[3]/div[1]/div[1]/div/div/div[4]/select\") )\n"
     ]
    },
    {
     "name": "stdout",
     "output_type": "stream",
     "text": [
      "--TODOS--\n",
      "BELO HORIZONTE\n"
     ]
    },
    {
     "name": "stderr",
     "output_type": "stream",
     "text": [
      "<ipython-input-7-1d7d495d847e>:63: DeprecationWarning: find_element_by_* commands are deprecated. Please use find_element() instead\n",
      "  table_path = driver.find_element_by_xpath( \"/html/body/onpe-root/onpe-layout-container/onpe-onpe-epres-re/div[1]/div[4]/div[1]/div[3]/div\" )\n",
      "<ipython-input-7-1d7d495d847e>:43: DeprecationWarning: find_element_by_* commands are deprecated. Please use find_element() instead\n",
      "  est = Select( driver.find_element_by_xpath(\"/html/body/onpe-root/onpe-layout-container/onpe-onpe-epres-re/div[1]/div[3]/div[1]/div[1]/div/div/div[4]/select\") )\n",
      "<ipython-input-7-1d7d495d847e>:63: DeprecationWarning: find_element_by_* commands are deprecated. Please use find_element() instead\n",
      "  table_path = driver.find_element_by_xpath( \"/html/body/onpe-root/onpe-layout-container/onpe-onpe-epres-re/div[1]/div[4]/div[1]/div[3]/div\" )\n",
      "<ipython-input-7-1d7d495d847e>:43: DeprecationWarning: find_element_by_* commands are deprecated. Please use find_element() instead\n",
      "  est = Select( driver.find_element_by_xpath(\"/html/body/onpe-root/onpe-layout-container/onpe-onpe-epres-re/div[1]/div[3]/div[1]/div[1]/div/div/div[4]/select\") )\n"
     ]
    },
    {
     "name": "stdout",
     "output_type": "stream",
     "text": [
      "BRASILIA\n",
      "CURITIBA\n"
     ]
    },
    {
     "name": "stderr",
     "output_type": "stream",
     "text": [
      "<ipython-input-7-1d7d495d847e>:63: DeprecationWarning: find_element_by_* commands are deprecated. Please use find_element() instead\n",
      "  table_path = driver.find_element_by_xpath( \"/html/body/onpe-root/onpe-layout-container/onpe-onpe-epres-re/div[1]/div[4]/div[1]/div[3]/div\" )\n",
      "<ipython-input-7-1d7d495d847e>:43: DeprecationWarning: find_element_by_* commands are deprecated. Please use find_element() instead\n",
      "  est = Select( driver.find_element_by_xpath(\"/html/body/onpe-root/onpe-layout-container/onpe-onpe-epres-re/div[1]/div[3]/div[1]/div[1]/div/div/div[4]/select\") )\n"
     ]
    },
    {
     "name": "stdout",
     "output_type": "stream",
     "text": [
      "FORTALEZA\n",
      "GOIAS\n"
     ]
    },
    {
     "name": "stderr",
     "output_type": "stream",
     "text": [
      "<ipython-input-7-1d7d495d847e>:63: DeprecationWarning: find_element_by_* commands are deprecated. Please use find_element() instead\n",
      "  table_path = driver.find_element_by_xpath( \"/html/body/onpe-root/onpe-layout-container/onpe-onpe-epres-re/div[1]/div[4]/div[1]/div[3]/div\" )\n",
      "<ipython-input-7-1d7d495d847e>:43: DeprecationWarning: find_element_by_* commands are deprecated. Please use find_element() instead\n",
      "  est = Select( driver.find_element_by_xpath(\"/html/body/onpe-root/onpe-layout-container/onpe-onpe-epres-re/div[1]/div[3]/div[1]/div[1]/div/div/div[4]/select\") )\n",
      "<ipython-input-7-1d7d495d847e>:63: DeprecationWarning: find_element_by_* commands are deprecated. Please use find_element() instead\n",
      "  table_path = driver.find_element_by_xpath( \"/html/body/onpe-root/onpe-layout-container/onpe-onpe-epres-re/div[1]/div[4]/div[1]/div[3]/div\" )\n",
      "<ipython-input-7-1d7d495d847e>:43: DeprecationWarning: find_element_by_* commands are deprecated. Please use find_element() instead\n",
      "  est = Select( driver.find_element_by_xpath(\"/html/body/onpe-root/onpe-layout-container/onpe-onpe-epres-re/div[1]/div[3]/div[1]/div[1]/div/div/div[4]/select\") )\n",
      "<ipython-input-7-1d7d495d847e>:63: DeprecationWarning: find_element_by_* commands are deprecated. Please use find_element() instead\n",
      "  table_path = driver.find_element_by_xpath( \"/html/body/onpe-root/onpe-layout-container/onpe-onpe-epres-re/div[1]/div[4]/div[1]/div[3]/div\" )\n",
      "<ipython-input-7-1d7d495d847e>:43: DeprecationWarning: find_element_by_* commands are deprecated. Please use find_element() instead\n",
      "  est = Select( driver.find_element_by_xpath(\"/html/body/onpe-root/onpe-layout-container/onpe-onpe-epres-re/div[1]/div[3]/div[1]/div[1]/div/div/div[4]/select\") )\n"
     ]
    },
    {
     "name": "stdout",
     "output_type": "stream",
     "text": [
      "MANAOS\n",
      "PORTO ALEGRE\n"
     ]
    },
    {
     "name": "stderr",
     "output_type": "stream",
     "text": [
      "<ipython-input-7-1d7d495d847e>:63: DeprecationWarning: find_element_by_* commands are deprecated. Please use find_element() instead\n",
      "  table_path = driver.find_element_by_xpath( \"/html/body/onpe-root/onpe-layout-container/onpe-onpe-epres-re/div[1]/div[4]/div[1]/div[3]/div\" )\n",
      "<ipython-input-7-1d7d495d847e>:43: DeprecationWarning: find_element_by_* commands are deprecated. Please use find_element() instead\n",
      "  est = Select( driver.find_element_by_xpath(\"/html/body/onpe-root/onpe-layout-container/onpe-onpe-epres-re/div[1]/div[3]/div[1]/div[1]/div/div/div[4]/select\") )\n",
      "<ipython-input-7-1d7d495d847e>:63: DeprecationWarning: find_element_by_* commands are deprecated. Please use find_element() instead\n",
      "  table_path = driver.find_element_by_xpath( \"/html/body/onpe-root/onpe-layout-container/onpe-onpe-epres-re/div[1]/div[4]/div[1]/div[3]/div\" )\n",
      "<ipython-input-7-1d7d495d847e>:43: DeprecationWarning: find_element_by_* commands are deprecated. Please use find_element() instead\n",
      "  est = Select( driver.find_element_by_xpath(\"/html/body/onpe-root/onpe-layout-container/onpe-onpe-epres-re/div[1]/div[3]/div[1]/div[1]/div/div/div[4]/select\") )\n"
     ]
    },
    {
     "name": "stdout",
     "output_type": "stream",
     "text": [
      "RIO BRANCO\n",
      "RIO DE JANEIRO\n"
     ]
    },
    {
     "name": "stderr",
     "output_type": "stream",
     "text": [
      "<ipython-input-7-1d7d495d847e>:63: DeprecationWarning: find_element_by_* commands are deprecated. Please use find_element() instead\n",
      "  table_path = driver.find_element_by_xpath( \"/html/body/onpe-root/onpe-layout-container/onpe-onpe-epres-re/div[1]/div[4]/div[1]/div[3]/div\" )\n",
      "<ipython-input-7-1d7d495d847e>:43: DeprecationWarning: find_element_by_* commands are deprecated. Please use find_element() instead\n",
      "  est = Select( driver.find_element_by_xpath(\"/html/body/onpe-root/onpe-layout-container/onpe-onpe-epres-re/div[1]/div[3]/div[1]/div[1]/div/div/div[4]/select\") )\n",
      "<ipython-input-7-1d7d495d847e>:63: DeprecationWarning: find_element_by_* commands are deprecated. Please use find_element() instead\n",
      "  table_path = driver.find_element_by_xpath( \"/html/body/onpe-root/onpe-layout-container/onpe-onpe-epres-re/div[1]/div[4]/div[1]/div[3]/div\" )\n",
      "<ipython-input-7-1d7d495d847e>:43: DeprecationWarning: find_element_by_* commands are deprecated. Please use find_element() instead\n",
      "  est = Select( driver.find_element_by_xpath(\"/html/body/onpe-root/onpe-layout-container/onpe-onpe-epres-re/div[1]/div[3]/div[1]/div[1]/div/div/div[4]/select\") )\n"
     ]
    },
    {
     "name": "stdout",
     "output_type": "stream",
     "text": [
      "SALVADOR\n",
      "SAO PAULO\n"
     ]
    },
    {
     "name": "stderr",
     "output_type": "stream",
     "text": [
      "<ipython-input-7-1d7d495d847e>:63: DeprecationWarning: find_element_by_* commands are deprecated. Please use find_element() instead\n",
      "  table_path = driver.find_element_by_xpath( \"/html/body/onpe-root/onpe-layout-container/onpe-onpe-epres-re/div[1]/div[4]/div[1]/div[3]/div\" )\n",
      "<ipython-input-7-1d7d495d847e>:22: DeprecationWarning: find_element_by_* commands are deprecated. Please use find_element() instead\n",
      "  pais = Select( driver.find_element_by_xpath(\"/html/body/onpe-root/onpe-layout-container/onpe-onpe-epres-re/div[1]/div[3]/div[1]/div[1]/div/div/div[3]/select\" ) )\n",
      "<ipython-input-7-1d7d495d847e>:37: DeprecationWarning: find_element_by_* commands are deprecated. Please use find_element() instead\n",
      "  est = Select( driver.find_element_by_xpath(\"/html/body/onpe-root/onpe-layout-container/onpe-onpe-epres-re/div[1]/div[3]/div[1]/div[1]/div/div/div[4]/select\" ) )\n",
      "<ipython-input-7-1d7d495d847e>:43: DeprecationWarning: find_element_by_* commands are deprecated. Please use find_element() instead\n",
      "  est = Select( driver.find_element_by_xpath(\"/html/body/onpe-root/onpe-layout-container/onpe-onpe-epres-re/div[1]/div[3]/div[1]/div[1]/div/div/div[4]/select\") )\n",
      "<ipython-input-7-1d7d495d847e>:63: DeprecationWarning: find_element_by_* commands are deprecated. Please use find_element() instead\n",
      "  table_path = driver.find_element_by_xpath( \"/html/body/onpe-root/onpe-layout-container/onpe-onpe-epres-re/div[1]/div[4]/div[1]/div[3]/div\" )\n"
     ]
    },
    {
     "name": "stdout",
     "output_type": "stream",
     "text": [
      "--TODOS--\n",
      "ALBERTA\n"
     ]
    },
    {
     "name": "stderr",
     "output_type": "stream",
     "text": [
      "<ipython-input-7-1d7d495d847e>:43: DeprecationWarning: find_element_by_* commands are deprecated. Please use find_element() instead\n",
      "  est = Select( driver.find_element_by_xpath(\"/html/body/onpe-root/onpe-layout-container/onpe-onpe-epres-re/div[1]/div[3]/div[1]/div[1]/div/div/div[4]/select\") )\n",
      "<ipython-input-7-1d7d495d847e>:63: DeprecationWarning: find_element_by_* commands are deprecated. Please use find_element() instead\n",
      "  table_path = driver.find_element_by_xpath( \"/html/body/onpe-root/onpe-layout-container/onpe-onpe-epres-re/div[1]/div[4]/div[1]/div[3]/div\" )\n",
      "<ipython-input-7-1d7d495d847e>:43: DeprecationWarning: find_element_by_* commands are deprecated. Please use find_element() instead\n",
      "  est = Select( driver.find_element_by_xpath(\"/html/body/onpe-root/onpe-layout-container/onpe-onpe-epres-re/div[1]/div[3]/div[1]/div[1]/div/div/div[4]/select\") )\n"
     ]
    },
    {
     "name": "stdout",
     "output_type": "stream",
     "text": [
      "MANITOBA\n",
      "MONTREAL\n"
     ]
    },
    {
     "name": "stderr",
     "output_type": "stream",
     "text": [
      "<ipython-input-7-1d7d495d847e>:63: DeprecationWarning: find_element_by_* commands are deprecated. Please use find_element() instead\n",
      "  table_path = driver.find_element_by_xpath( \"/html/body/onpe-root/onpe-layout-container/onpe-onpe-epres-re/div[1]/div[4]/div[1]/div[3]/div\" )\n",
      "<ipython-input-7-1d7d495d847e>:43: DeprecationWarning: find_element_by_* commands are deprecated. Please use find_element() instead\n",
      "  est = Select( driver.find_element_by_xpath(\"/html/body/onpe-root/onpe-layout-container/onpe-onpe-epres-re/div[1]/div[3]/div[1]/div[1]/div/div/div[4]/select\") )\n",
      "<ipython-input-7-1d7d495d847e>:63: DeprecationWarning: find_element_by_* commands are deprecated. Please use find_element() instead\n",
      "  table_path = driver.find_element_by_xpath( \"/html/body/onpe-root/onpe-layout-container/onpe-onpe-epres-re/div[1]/div[4]/div[1]/div[3]/div\" )\n",
      "<ipython-input-7-1d7d495d847e>:43: DeprecationWarning: find_element_by_* commands are deprecated. Please use find_element() instead\n",
      "  est = Select( driver.find_element_by_xpath(\"/html/body/onpe-root/onpe-layout-container/onpe-onpe-epres-re/div[1]/div[3]/div[1]/div[1]/div/div/div[4]/select\") )\n"
     ]
    },
    {
     "name": "stdout",
     "output_type": "stream",
     "text": [
      "OTTAWA\n",
      "TORONTO\n"
     ]
    },
    {
     "name": "stderr",
     "output_type": "stream",
     "text": [
      "<ipython-input-7-1d7d495d847e>:63: DeprecationWarning: find_element_by_* commands are deprecated. Please use find_element() instead\n",
      "  table_path = driver.find_element_by_xpath( \"/html/body/onpe-root/onpe-layout-container/onpe-onpe-epres-re/div[1]/div[4]/div[1]/div[3]/div\" )\n",
      "<ipython-input-7-1d7d495d847e>:43: DeprecationWarning: find_element_by_* commands are deprecated. Please use find_element() instead\n",
      "  est = Select( driver.find_element_by_xpath(\"/html/body/onpe-root/onpe-layout-container/onpe-onpe-epres-re/div[1]/div[3]/div[1]/div[1]/div/div/div[4]/select\") )\n",
      "<ipython-input-7-1d7d495d847e>:63: DeprecationWarning: find_element_by_* commands are deprecated. Please use find_element() instead\n",
      "  table_path = driver.find_element_by_xpath( \"/html/body/onpe-root/onpe-layout-container/onpe-onpe-epres-re/div[1]/div[4]/div[1]/div[3]/div\" )\n",
      "<ipython-input-7-1d7d495d847e>:22: DeprecationWarning: find_element_by_* commands are deprecated. Please use find_element() instead\n",
      "  pais = Select( driver.find_element_by_xpath(\"/html/body/onpe-root/onpe-layout-container/onpe-onpe-epres-re/div[1]/div[3]/div[1]/div[1]/div/div/div[3]/select\" ) )\n"
     ]
    },
    {
     "name": "stdout",
     "output_type": "stream",
     "text": [
      "VANCOUVER\n"
     ]
    },
    {
     "name": "stderr",
     "output_type": "stream",
     "text": [
      "<ipython-input-7-1d7d495d847e>:37: DeprecationWarning: find_element_by_* commands are deprecated. Please use find_element() instead\n",
      "  est = Select( driver.find_element_by_xpath(\"/html/body/onpe-root/onpe-layout-container/onpe-onpe-epres-re/div[1]/div[3]/div[1]/div[1]/div/div/div[4]/select\" ) )\n",
      "<ipython-input-7-1d7d495d847e>:43: DeprecationWarning: find_element_by_* commands are deprecated. Please use find_element() instead\n",
      "  est = Select( driver.find_element_by_xpath(\"/html/body/onpe-root/onpe-layout-container/onpe-onpe-epres-re/div[1]/div[3]/div[1]/div[1]/div/div/div[4]/select\") )\n"
     ]
    },
    {
     "name": "stdout",
     "output_type": "stream",
     "text": [
      "--TODOS--\n",
      "ANTOFAGASTA\n"
     ]
    },
    {
     "name": "stderr",
     "output_type": "stream",
     "text": [
      "<ipython-input-7-1d7d495d847e>:63: DeprecationWarning: find_element_by_* commands are deprecated. Please use find_element() instead\n",
      "  table_path = driver.find_element_by_xpath( \"/html/body/onpe-root/onpe-layout-container/onpe-onpe-epres-re/div[1]/div[4]/div[1]/div[3]/div\" )\n",
      "<ipython-input-7-1d7d495d847e>:43: DeprecationWarning: find_element_by_* commands are deprecated. Please use find_element() instead\n",
      "  est = Select( driver.find_element_by_xpath(\"/html/body/onpe-root/onpe-layout-container/onpe-onpe-epres-re/div[1]/div[3]/div[1]/div[1]/div/div/div[4]/select\") )\n"
     ]
    },
    {
     "name": "stdout",
     "output_type": "stream",
     "text": [
      "ARICA\n"
     ]
    },
    {
     "name": "stderr",
     "output_type": "stream",
     "text": [
      "<ipython-input-7-1d7d495d847e>:63: DeprecationWarning: find_element_by_* commands are deprecated. Please use find_element() instead\n",
      "  table_path = driver.find_element_by_xpath( \"/html/body/onpe-root/onpe-layout-container/onpe-onpe-epres-re/div[1]/div[4]/div[1]/div[3]/div\" )\n",
      "<ipython-input-7-1d7d495d847e>:43: DeprecationWarning: find_element_by_* commands are deprecated. Please use find_element() instead\n",
      "  est = Select( driver.find_element_by_xpath(\"/html/body/onpe-root/onpe-layout-container/onpe-onpe-epres-re/div[1]/div[3]/div[1]/div[1]/div/div/div[4]/select\") )\n"
     ]
    },
    {
     "name": "stdout",
     "output_type": "stream",
     "text": [
      "CONCEPCION\n",
      "COPIAPO\n"
     ]
    },
    {
     "name": "stderr",
     "output_type": "stream",
     "text": [
      "<ipython-input-7-1d7d495d847e>:63: DeprecationWarning: find_element_by_* commands are deprecated. Please use find_element() instead\n",
      "  table_path = driver.find_element_by_xpath( \"/html/body/onpe-root/onpe-layout-container/onpe-onpe-epres-re/div[1]/div[4]/div[1]/div[3]/div\" )\n",
      "<ipython-input-7-1d7d495d847e>:43: DeprecationWarning: find_element_by_* commands are deprecated. Please use find_element() instead\n",
      "  est = Select( driver.find_element_by_xpath(\"/html/body/onpe-root/onpe-layout-container/onpe-onpe-epres-re/div[1]/div[3]/div[1]/div[1]/div/div/div[4]/select\") )\n",
      "<ipython-input-7-1d7d495d847e>:63: DeprecationWarning: find_element_by_* commands are deprecated. Please use find_element() instead\n",
      "  table_path = driver.find_element_by_xpath( \"/html/body/onpe-root/onpe-layout-container/onpe-onpe-epres-re/div[1]/div[4]/div[1]/div[3]/div\" )\n",
      "<ipython-input-7-1d7d495d847e>:43: DeprecationWarning: find_element_by_* commands are deprecated. Please use find_element() instead\n",
      "  est = Select( driver.find_element_by_xpath(\"/html/body/onpe-root/onpe-layout-container/onpe-onpe-epres-re/div[1]/div[3]/div[1]/div[1]/div/div/div[4]/select\") )\n"
     ]
    },
    {
     "name": "stdout",
     "output_type": "stream",
     "text": [
      "IQUIQUE\n",
      "SANTIAGO\n"
     ]
    },
    {
     "name": "stderr",
     "output_type": "stream",
     "text": [
      "<ipython-input-7-1d7d495d847e>:63: DeprecationWarning: find_element_by_* commands are deprecated. Please use find_element() instead\n",
      "  table_path = driver.find_element_by_xpath( \"/html/body/onpe-root/onpe-layout-container/onpe-onpe-epres-re/div[1]/div[4]/div[1]/div[3]/div\" )\n",
      "<ipython-input-7-1d7d495d847e>:43: DeprecationWarning: find_element_by_* commands are deprecated. Please use find_element() instead\n",
      "  est = Select( driver.find_element_by_xpath(\"/html/body/onpe-root/onpe-layout-container/onpe-onpe-epres-re/div[1]/div[3]/div[1]/div[1]/div/div/div[4]/select\") )\n",
      "<ipython-input-7-1d7d495d847e>:63: DeprecationWarning: find_element_by_* commands are deprecated. Please use find_element() instead\n",
      "  table_path = driver.find_element_by_xpath( \"/html/body/onpe-root/onpe-layout-container/onpe-onpe-epres-re/div[1]/div[4]/div[1]/div[3]/div\" )\n",
      "<ipython-input-7-1d7d495d847e>:43: DeprecationWarning: find_element_by_* commands are deprecated. Please use find_element() instead\n",
      "  est = Select( driver.find_element_by_xpath(\"/html/body/onpe-root/onpe-layout-container/onpe-onpe-epres-re/div[1]/div[3]/div[1]/div[1]/div/div/div[4]/select\") )\n"
     ]
    },
    {
     "name": "stdout",
     "output_type": "stream",
     "text": [
      "VALPARAISO\n"
     ]
    },
    {
     "name": "stderr",
     "output_type": "stream",
     "text": [
      "<ipython-input-7-1d7d495d847e>:63: DeprecationWarning: find_element_by_* commands are deprecated. Please use find_element() instead\n",
      "  table_path = driver.find_element_by_xpath( \"/html/body/onpe-root/onpe-layout-container/onpe-onpe-epres-re/div[1]/div[4]/div[1]/div[3]/div\" )\n",
      "<ipython-input-7-1d7d495d847e>:22: DeprecationWarning: find_element_by_* commands are deprecated. Please use find_element() instead\n",
      "  pais = Select( driver.find_element_by_xpath(\"/html/body/onpe-root/onpe-layout-container/onpe-onpe-epres-re/div[1]/div[3]/div[1]/div[1]/div/div/div[3]/select\" ) )\n",
      "<ipython-input-7-1d7d495d847e>:37: DeprecationWarning: find_element_by_* commands are deprecated. Please use find_element() instead\n",
      "  est = Select( driver.find_element_by_xpath(\"/html/body/onpe-root/onpe-layout-container/onpe-onpe-epres-re/div[1]/div[3]/div[1]/div[1]/div/div/div[4]/select\" ) )\n",
      "<ipython-input-7-1d7d495d847e>:43: DeprecationWarning: find_element_by_* commands are deprecated. Please use find_element() instead\n",
      "  est = Select( driver.find_element_by_xpath(\"/html/body/onpe-root/onpe-layout-container/onpe-onpe-epres-re/div[1]/div[3]/div[1]/div[1]/div/div/div[4]/select\") )\n",
      "<ipython-input-7-1d7d495d847e>:63: DeprecationWarning: find_element_by_* commands are deprecated. Please use find_element() instead\n",
      "  table_path = driver.find_element_by_xpath( \"/html/body/onpe-root/onpe-layout-container/onpe-onpe-epres-re/div[1]/div[4]/div[1]/div[3]/div\" )\n"
     ]
    },
    {
     "name": "stdout",
     "output_type": "stream",
     "text": [
      "--TODOS--\n",
      "BARRANQUILLA\n"
     ]
    },
    {
     "name": "stderr",
     "output_type": "stream",
     "text": [
      "<ipython-input-7-1d7d495d847e>:43: DeprecationWarning: find_element_by_* commands are deprecated. Please use find_element() instead\n",
      "  est = Select( driver.find_element_by_xpath(\"/html/body/onpe-root/onpe-layout-container/onpe-onpe-epres-re/div[1]/div[3]/div[1]/div[1]/div/div/div[4]/select\") )\n",
      "<ipython-input-7-1d7d495d847e>:63: DeprecationWarning: find_element_by_* commands are deprecated. Please use find_element() instead\n",
      "  table_path = driver.find_element_by_xpath( \"/html/body/onpe-root/onpe-layout-container/onpe-onpe-epres-re/div[1]/div[4]/div[1]/div[3]/div\" )\n",
      "<ipython-input-7-1d7d495d847e>:43: DeprecationWarning: find_element_by_* commands are deprecated. Please use find_element() instead\n",
      "  est = Select( driver.find_element_by_xpath(\"/html/body/onpe-root/onpe-layout-container/onpe-onpe-epres-re/div[1]/div[3]/div[1]/div[1]/div/div/div[4]/select\") )\n"
     ]
    },
    {
     "name": "stdout",
     "output_type": "stream",
     "text": [
      "BOGOTA\n",
      "CALI\n"
     ]
    },
    {
     "name": "stderr",
     "output_type": "stream",
     "text": [
      "<ipython-input-7-1d7d495d847e>:63: DeprecationWarning: find_element_by_* commands are deprecated. Please use find_element() instead\n",
      "  table_path = driver.find_element_by_xpath( \"/html/body/onpe-root/onpe-layout-container/onpe-onpe-epres-re/div[1]/div[4]/div[1]/div[3]/div\" )\n",
      "<ipython-input-7-1d7d495d847e>:43: DeprecationWarning: find_element_by_* commands are deprecated. Please use find_element() instead\n",
      "  est = Select( driver.find_element_by_xpath(\"/html/body/onpe-root/onpe-layout-container/onpe-onpe-epres-re/div[1]/div[3]/div[1]/div[1]/div/div/div[4]/select\") )\n"
     ]
    },
    {
     "name": "stdout",
     "output_type": "stream",
     "text": [
      "CARTAGENA\n"
     ]
    },
    {
     "name": "stderr",
     "output_type": "stream",
     "text": [
      "<ipython-input-7-1d7d495d847e>:63: DeprecationWarning: find_element_by_* commands are deprecated. Please use find_element() instead\n",
      "  table_path = driver.find_element_by_xpath( \"/html/body/onpe-root/onpe-layout-container/onpe-onpe-epres-re/div[1]/div[4]/div[1]/div[3]/div\" )\n",
      "<ipython-input-7-1d7d495d847e>:43: DeprecationWarning: find_element_by_* commands are deprecated. Please use find_element() instead\n",
      "  est = Select( driver.find_element_by_xpath(\"/html/body/onpe-root/onpe-layout-container/onpe-onpe-epres-re/div[1]/div[3]/div[1]/div[1]/div/div/div[4]/select\") )\n"
     ]
    },
    {
     "name": "stdout",
     "output_type": "stream",
     "text": [
      "LETICIA\n"
     ]
    },
    {
     "name": "stderr",
     "output_type": "stream",
     "text": [
      "<ipython-input-7-1d7d495d847e>:63: DeprecationWarning: find_element_by_* commands are deprecated. Please use find_element() instead\n",
      "  table_path = driver.find_element_by_xpath( \"/html/body/onpe-root/onpe-layout-container/onpe-onpe-epres-re/div[1]/div[4]/div[1]/div[3]/div\" )\n",
      "<ipython-input-7-1d7d495d847e>:43: DeprecationWarning: find_element_by_* commands are deprecated. Please use find_element() instead\n",
      "  est = Select( driver.find_element_by_xpath(\"/html/body/onpe-root/onpe-layout-container/onpe-onpe-epres-re/div[1]/div[3]/div[1]/div[1]/div/div/div[4]/select\") )\n"
     ]
    },
    {
     "name": "stdout",
     "output_type": "stream",
     "text": [
      "MEDELLIN\n"
     ]
    },
    {
     "name": "stderr",
     "output_type": "stream",
     "text": [
      "<ipython-input-7-1d7d495d847e>:63: DeprecationWarning: find_element_by_* commands are deprecated. Please use find_element() instead\n",
      "  table_path = driver.find_element_by_xpath( \"/html/body/onpe-root/onpe-layout-container/onpe-onpe-epres-re/div[1]/div[4]/div[1]/div[3]/div\" )\n",
      "<ipython-input-7-1d7d495d847e>:22: DeprecationWarning: find_element_by_* commands are deprecated. Please use find_element() instead\n",
      "  pais = Select( driver.find_element_by_xpath(\"/html/body/onpe-root/onpe-layout-container/onpe-onpe-epres-re/div[1]/div[3]/div[1]/div[1]/div/div/div[3]/select\" ) )\n",
      "<ipython-input-7-1d7d495d847e>:37: DeprecationWarning: find_element_by_* commands are deprecated. Please use find_element() instead\n",
      "  est = Select( driver.find_element_by_xpath(\"/html/body/onpe-root/onpe-layout-container/onpe-onpe-epres-re/div[1]/div[3]/div[1]/div[1]/div/div/div[4]/select\" ) )\n",
      "<ipython-input-7-1d7d495d847e>:43: DeprecationWarning: find_element_by_* commands are deprecated. Please use find_element() instead\n",
      "  est = Select( driver.find_element_by_xpath(\"/html/body/onpe-root/onpe-layout-container/onpe-onpe-epres-re/div[1]/div[3]/div[1]/div[1]/div/div/div[4]/select\") )\n",
      "<ipython-input-7-1d7d495d847e>:63: DeprecationWarning: find_element_by_* commands are deprecated. Please use find_element() instead\n",
      "  table_path = driver.find_element_by_xpath( \"/html/body/onpe-root/onpe-layout-container/onpe-onpe-epres-re/div[1]/div[4]/div[1]/div[3]/div\" )\n",
      "<ipython-input-7-1d7d495d847e>:22: DeprecationWarning: find_element_by_* commands are deprecated. Please use find_element() instead\n",
      "  pais = Select( driver.find_element_by_xpath(\"/html/body/onpe-root/onpe-layout-container/onpe-onpe-epres-re/div[1]/div[3]/div[1]/div[1]/div/div/div[3]/select\" ) )\n"
     ]
    },
    {
     "name": "stdout",
     "output_type": "stream",
     "text": [
      "--TODOS--\n",
      "SAN JOSE\n"
     ]
    },
    {
     "name": "stderr",
     "output_type": "stream",
     "text": [
      "<ipython-input-7-1d7d495d847e>:37: DeprecationWarning: find_element_by_* commands are deprecated. Please use find_element() instead\n",
      "  est = Select( driver.find_element_by_xpath(\"/html/body/onpe-root/onpe-layout-container/onpe-onpe-epres-re/div[1]/div[3]/div[1]/div[1]/div/div/div[4]/select\" ) )\n",
      "<ipython-input-7-1d7d495d847e>:43: DeprecationWarning: find_element_by_* commands are deprecated. Please use find_element() instead\n",
      "  est = Select( driver.find_element_by_xpath(\"/html/body/onpe-root/onpe-layout-container/onpe-onpe-epres-re/div[1]/div[3]/div[1]/div[1]/div/div/div[4]/select\") )\n",
      "<ipython-input-7-1d7d495d847e>:63: DeprecationWarning: find_element_by_* commands are deprecated. Please use find_element() instead\n",
      "  table_path = driver.find_element_by_xpath( \"/html/body/onpe-root/onpe-layout-container/onpe-onpe-epres-re/div[1]/div[4]/div[1]/div[3]/div\" )\n"
     ]
    },
    {
     "name": "stdout",
     "output_type": "stream",
     "text": [
      "--TODOS--\n",
      "LA HABANA\n"
     ]
    },
    {
     "name": "stderr",
     "output_type": "stream",
     "text": [
      "<ipython-input-7-1d7d495d847e>:22: DeprecationWarning: find_element_by_* commands are deprecated. Please use find_element() instead\n",
      "  pais = Select( driver.find_element_by_xpath(\"/html/body/onpe-root/onpe-layout-container/onpe-onpe-epres-re/div[1]/div[3]/div[1]/div[1]/div/div/div[3]/select\" ) )\n",
      "<ipython-input-7-1d7d495d847e>:37: DeprecationWarning: find_element_by_* commands are deprecated. Please use find_element() instead\n",
      "  est = Select( driver.find_element_by_xpath(\"/html/body/onpe-root/onpe-layout-container/onpe-onpe-epres-re/div[1]/div[3]/div[1]/div[1]/div/div/div[4]/select\" ) )\n",
      "<ipython-input-7-1d7d495d847e>:43: DeprecationWarning: find_element_by_* commands are deprecated. Please use find_element() instead\n",
      "  est = Select( driver.find_element_by_xpath(\"/html/body/onpe-root/onpe-layout-container/onpe-onpe-epres-re/div[1]/div[3]/div[1]/div[1]/div/div/div[4]/select\") )\n",
      "<ipython-input-7-1d7d495d847e>:63: DeprecationWarning: find_element_by_* commands are deprecated. Please use find_element() instead\n",
      "  table_path = driver.find_element_by_xpath( \"/html/body/onpe-root/onpe-layout-container/onpe-onpe-epres-re/div[1]/div[4]/div[1]/div[3]/div\" )\n",
      "<ipython-input-7-1d7d495d847e>:43: DeprecationWarning: find_element_by_* commands are deprecated. Please use find_element() instead\n",
      "  est = Select( driver.find_element_by_xpath(\"/html/body/onpe-root/onpe-layout-container/onpe-onpe-epres-re/div[1]/div[3]/div[1]/div[1]/div/div/div[4]/select\") )\n"
     ]
    },
    {
     "name": "stdout",
     "output_type": "stream",
     "text": [
      "--TODOS--\n",
      "AZUAY (CUENCA)\n",
      "GUAYAQUIL\n"
     ]
    },
    {
     "name": "stderr",
     "output_type": "stream",
     "text": [
      "<ipython-input-7-1d7d495d847e>:63: DeprecationWarning: find_element_by_* commands are deprecated. Please use find_element() instead\n",
      "  table_path = driver.find_element_by_xpath( \"/html/body/onpe-root/onpe-layout-container/onpe-onpe-epres-re/div[1]/div[4]/div[1]/div[3]/div\" )\n",
      "<ipython-input-7-1d7d495d847e>:43: DeprecationWarning: find_element_by_* commands are deprecated. Please use find_element() instead\n",
      "  est = Select( driver.find_element_by_xpath(\"/html/body/onpe-root/onpe-layout-container/onpe-onpe-epres-re/div[1]/div[3]/div[1]/div[1]/div/div/div[4]/select\") )\n",
      "<ipython-input-7-1d7d495d847e>:63: DeprecationWarning: find_element_by_* commands are deprecated. Please use find_element() instead\n",
      "  table_path = driver.find_element_by_xpath( \"/html/body/onpe-root/onpe-layout-container/onpe-onpe-epres-re/div[1]/div[4]/div[1]/div[3]/div\" )\n",
      "<ipython-input-7-1d7d495d847e>:43: DeprecationWarning: find_element_by_* commands are deprecated. Please use find_element() instead\n",
      "  est = Select( driver.find_element_by_xpath(\"/html/body/onpe-root/onpe-layout-container/onpe-onpe-epres-re/div[1]/div[3]/div[1]/div[1]/div/div/div[4]/select\") )\n"
     ]
    },
    {
     "name": "stdout",
     "output_type": "stream",
     "text": [
      "LOJA\n",
      "MACHALA\n"
     ]
    },
    {
     "name": "stderr",
     "output_type": "stream",
     "text": [
      "<ipython-input-7-1d7d495d847e>:63: DeprecationWarning: find_element_by_* commands are deprecated. Please use find_element() instead\n",
      "  table_path = driver.find_element_by_xpath( \"/html/body/onpe-root/onpe-layout-container/onpe-onpe-epres-re/div[1]/div[4]/div[1]/div[3]/div\" )\n",
      "<ipython-input-7-1d7d495d847e>:43: DeprecationWarning: find_element_by_* commands are deprecated. Please use find_element() instead\n",
      "  est = Select( driver.find_element_by_xpath(\"/html/body/onpe-root/onpe-layout-container/onpe-onpe-epres-re/div[1]/div[3]/div[1]/div[1]/div/div/div[4]/select\") )\n",
      "<ipython-input-7-1d7d495d847e>:63: DeprecationWarning: find_element_by_* commands are deprecated. Please use find_element() instead\n",
      "  table_path = driver.find_element_by_xpath( \"/html/body/onpe-root/onpe-layout-container/onpe-onpe-epres-re/div[1]/div[4]/div[1]/div[3]/div\" )\n"
     ]
    },
    {
     "name": "stdout",
     "output_type": "stream",
     "text": [
      "QUITO\n"
     ]
    },
    {
     "name": "stderr",
     "output_type": "stream",
     "text": [
      "<ipython-input-7-1d7d495d847e>:22: DeprecationWarning: find_element_by_* commands are deprecated. Please use find_element() instead\n",
      "  pais = Select( driver.find_element_by_xpath(\"/html/body/onpe-root/onpe-layout-container/onpe-onpe-epres-re/div[1]/div[3]/div[1]/div[1]/div/div/div[3]/select\" ) )\n",
      "<ipython-input-7-1d7d495d847e>:37: DeprecationWarning: find_element_by_* commands are deprecated. Please use find_element() instead\n",
      "  est = Select( driver.find_element_by_xpath(\"/html/body/onpe-root/onpe-layout-container/onpe-onpe-epres-re/div[1]/div[3]/div[1]/div[1]/div/div/div[4]/select\" ) )\n",
      "<ipython-input-7-1d7d495d847e>:43: DeprecationWarning: find_element_by_* commands are deprecated. Please use find_element() instead\n",
      "  est = Select( driver.find_element_by_xpath(\"/html/body/onpe-root/onpe-layout-container/onpe-onpe-epres-re/div[1]/div[3]/div[1]/div[1]/div/div/div[4]/select\") )\n",
      "<ipython-input-7-1d7d495d847e>:63: DeprecationWarning: find_element_by_* commands are deprecated. Please use find_element() instead\n",
      "  table_path = driver.find_element_by_xpath( \"/html/body/onpe-root/onpe-layout-container/onpe-onpe-epres-re/div[1]/div[4]/div[1]/div[3]/div\" )\n",
      "<ipython-input-7-1d7d495d847e>:22: DeprecationWarning: find_element_by_* commands are deprecated. Please use find_element() instead\n",
      "  pais = Select( driver.find_element_by_xpath(\"/html/body/onpe-root/onpe-layout-container/onpe-onpe-epres-re/div[1]/div[3]/div[1]/div[1]/div/div/div[3]/select\" ) )\n"
     ]
    },
    {
     "name": "stdout",
     "output_type": "stream",
     "text": [
      "--TODOS--\n",
      "SAN SALVADOR\n"
     ]
    },
    {
     "name": "stderr",
     "output_type": "stream",
     "text": [
      "<ipython-input-7-1d7d495d847e>:37: DeprecationWarning: find_element_by_* commands are deprecated. Please use find_element() instead\n",
      "  est = Select( driver.find_element_by_xpath(\"/html/body/onpe-root/onpe-layout-container/onpe-onpe-epres-re/div[1]/div[3]/div[1]/div[1]/div/div/div[4]/select\" ) )\n",
      "<ipython-input-7-1d7d495d847e>:43: DeprecationWarning: find_element_by_* commands are deprecated. Please use find_element() instead\n",
      "  est = Select( driver.find_element_by_xpath(\"/html/body/onpe-root/onpe-layout-container/onpe-onpe-epres-re/div[1]/div[3]/div[1]/div[1]/div/div/div[4]/select\") )\n"
     ]
    },
    {
     "name": "stdout",
     "output_type": "stream",
     "text": [
      "--TODOS--\n",
      "ATLANTA\n"
     ]
    },
    {
     "name": "stderr",
     "output_type": "stream",
     "text": [
      "<ipython-input-7-1d7d495d847e>:63: DeprecationWarning: find_element_by_* commands are deprecated. Please use find_element() instead\n",
      "  table_path = driver.find_element_by_xpath( \"/html/body/onpe-root/onpe-layout-container/onpe-onpe-epres-re/div[1]/div[4]/div[1]/div[3]/div\" )\n",
      "<ipython-input-7-1d7d495d847e>:43: DeprecationWarning: find_element_by_* commands are deprecated. Please use find_element() instead\n",
      "  est = Select( driver.find_element_by_xpath(\"/html/body/onpe-root/onpe-layout-container/onpe-onpe-epres-re/div[1]/div[3]/div[1]/div[1]/div/div/div[4]/select\") )\n",
      "<ipython-input-7-1d7d495d847e>:63: DeprecationWarning: find_element_by_* commands are deprecated. Please use find_element() instead\n",
      "  table_path = driver.find_element_by_xpath( \"/html/body/onpe-root/onpe-layout-container/onpe-onpe-epres-re/div[1]/div[4]/div[1]/div[3]/div\" )\n",
      "<ipython-input-7-1d7d495d847e>:43: DeprecationWarning: find_element_by_* commands are deprecated. Please use find_element() instead\n",
      "  est = Select( driver.find_element_by_xpath(\"/html/body/onpe-root/onpe-layout-container/onpe-onpe-epres-re/div[1]/div[3]/div[1]/div[1]/div/div/div[4]/select\") )\n"
     ]
    },
    {
     "name": "stdout",
     "output_type": "stream",
     "text": [
      "BOSTON\n",
      "CAROLINA DEL NORTE (CHARLOTTE)\n"
     ]
    },
    {
     "name": "stderr",
     "output_type": "stream",
     "text": [
      "<ipython-input-7-1d7d495d847e>:63: DeprecationWarning: find_element_by_* commands are deprecated. Please use find_element() instead\n",
      "  table_path = driver.find_element_by_xpath( \"/html/body/onpe-root/onpe-layout-container/onpe-onpe-epres-re/div[1]/div[4]/div[1]/div[3]/div\" )\n",
      "<ipython-input-7-1d7d495d847e>:43: DeprecationWarning: find_element_by_* commands are deprecated. Please use find_element() instead\n",
      "  est = Select( driver.find_element_by_xpath(\"/html/body/onpe-root/onpe-layout-container/onpe-onpe-epres-re/div[1]/div[3]/div[1]/div[1]/div/div/div[4]/select\") )\n",
      "<ipython-input-7-1d7d495d847e>:63: DeprecationWarning: find_element_by_* commands are deprecated. Please use find_element() instead\n",
      "  table_path = driver.find_element_by_xpath( \"/html/body/onpe-root/onpe-layout-container/onpe-onpe-epres-re/div[1]/div[4]/div[1]/div[3]/div\" )\n"
     ]
    },
    {
     "name": "stdout",
     "output_type": "stream",
     "text": [
      "CHICAGO\n",
      "DALLAS\n"
     ]
    },
    {
     "name": "stderr",
     "output_type": "stream",
     "text": [
      "<ipython-input-7-1d7d495d847e>:43: DeprecationWarning: find_element_by_* commands are deprecated. Please use find_element() instead\n",
      "  est = Select( driver.find_element_by_xpath(\"/html/body/onpe-root/onpe-layout-container/onpe-onpe-epres-re/div[1]/div[3]/div[1]/div[1]/div/div/div[4]/select\") )\n",
      "<ipython-input-7-1d7d495d847e>:63: DeprecationWarning: find_element_by_* commands are deprecated. Please use find_element() instead\n",
      "  table_path = driver.find_element_by_xpath( \"/html/body/onpe-root/onpe-layout-container/onpe-onpe-epres-re/div[1]/div[4]/div[1]/div[3]/div\" )\n",
      "<ipython-input-7-1d7d495d847e>:43: DeprecationWarning: find_element_by_* commands are deprecated. Please use find_element() instead\n",
      "  est = Select( driver.find_element_by_xpath(\"/html/body/onpe-root/onpe-layout-container/onpe-onpe-epres-re/div[1]/div[3]/div[1]/div[1]/div/div/div[4]/select\") )\n"
     ]
    },
    {
     "name": "stdout",
     "output_type": "stream",
     "text": [
      "DENVER\n",
      "HARTFORD\n"
     ]
    },
    {
     "name": "stderr",
     "output_type": "stream",
     "text": [
      "<ipython-input-7-1d7d495d847e>:63: DeprecationWarning: find_element_by_* commands are deprecated. Please use find_element() instead\n",
      "  table_path = driver.find_element_by_xpath( \"/html/body/onpe-root/onpe-layout-container/onpe-onpe-epres-re/div[1]/div[4]/div[1]/div[3]/div\" )\n",
      "<ipython-input-7-1d7d495d847e>:43: DeprecationWarning: find_element_by_* commands are deprecated. Please use find_element() instead\n",
      "  est = Select( driver.find_element_by_xpath(\"/html/body/onpe-root/onpe-layout-container/onpe-onpe-epres-re/div[1]/div[3]/div[1]/div[1]/div/div/div[4]/select\") )\n",
      "<ipython-input-7-1d7d495d847e>:63: DeprecationWarning: find_element_by_* commands are deprecated. Please use find_element() instead\n",
      "  table_path = driver.find_element_by_xpath( \"/html/body/onpe-root/onpe-layout-container/onpe-onpe-epres-re/div[1]/div[4]/div[1]/div[3]/div\" )\n",
      "<ipython-input-7-1d7d495d847e>:43: DeprecationWarning: find_element_by_* commands are deprecated. Please use find_element() instead\n",
      "  est = Select( driver.find_element_by_xpath(\"/html/body/onpe-root/onpe-layout-container/onpe-onpe-epres-re/div[1]/div[3]/div[1]/div[1]/div/div/div[4]/select\") )\n",
      "<ipython-input-7-1d7d495d847e>:63: DeprecationWarning: find_element_by_* commands are deprecated. Please use find_element() instead\n",
      "  table_path = driver.find_element_by_xpath( \"/html/body/onpe-root/onpe-layout-container/onpe-onpe-epres-re/div[1]/div[4]/div[1]/div[3]/div\" )\n",
      "<ipython-input-7-1d7d495d847e>:43: DeprecationWarning: find_element_by_* commands are deprecated. Please use find_element() instead\n",
      "  est = Select( driver.find_element_by_xpath(\"/html/body/onpe-root/onpe-layout-container/onpe-onpe-epres-re/div[1]/div[3]/div[1]/div[1]/div/div/div[4]/select\") )\n"
     ]
    },
    {
     "name": "stdout",
     "output_type": "stream",
     "text": [
      "HOUSTON\n",
      "LOS ANGELES\n"
     ]
    },
    {
     "name": "stderr",
     "output_type": "stream",
     "text": [
      "<ipython-input-7-1d7d495d847e>:63: DeprecationWarning: find_element_by_* commands are deprecated. Please use find_element() instead\n",
      "  table_path = driver.find_element_by_xpath( \"/html/body/onpe-root/onpe-layout-container/onpe-onpe-epres-re/div[1]/div[4]/div[1]/div[3]/div\" )\n",
      "<ipython-input-7-1d7d495d847e>:43: DeprecationWarning: find_element_by_* commands are deprecated. Please use find_element() instead\n",
      "  est = Select( driver.find_element_by_xpath(\"/html/body/onpe-root/onpe-layout-container/onpe-onpe-epres-re/div[1]/div[3]/div[1]/div[1]/div/div/div[4]/select\") )\n",
      "<ipython-input-7-1d7d495d847e>:63: DeprecationWarning: find_element_by_* commands are deprecated. Please use find_element() instead\n",
      "  table_path = driver.find_element_by_xpath( \"/html/body/onpe-root/onpe-layout-container/onpe-onpe-epres-re/div[1]/div[4]/div[1]/div[3]/div\" )\n"
     ]
    },
    {
     "name": "stdout",
     "output_type": "stream",
     "text": [
      "MIAMI\n",
      "NUEVA JERSEY\n"
     ]
    },
    {
     "name": "stderr",
     "output_type": "stream",
     "text": [
      "<ipython-input-7-1d7d495d847e>:43: DeprecationWarning: find_element_by_* commands are deprecated. Please use find_element() instead\n",
      "  est = Select( driver.find_element_by_xpath(\"/html/body/onpe-root/onpe-layout-container/onpe-onpe-epres-re/div[1]/div[3]/div[1]/div[1]/div/div/div[4]/select\") )\n",
      "<ipython-input-7-1d7d495d847e>:63: DeprecationWarning: find_element_by_* commands are deprecated. Please use find_element() instead\n",
      "  table_path = driver.find_element_by_xpath( \"/html/body/onpe-root/onpe-layout-container/onpe-onpe-epres-re/div[1]/div[4]/div[1]/div[3]/div\" )\n",
      "<ipython-input-7-1d7d495d847e>:43: DeprecationWarning: find_element_by_* commands are deprecated. Please use find_element() instead\n",
      "  est = Select( driver.find_element_by_xpath(\"/html/body/onpe-root/onpe-layout-container/onpe-onpe-epres-re/div[1]/div[3]/div[1]/div[1]/div/div/div[4]/select\") )\n",
      "<ipython-input-7-1d7d495d847e>:63: DeprecationWarning: find_element_by_* commands are deprecated. Please use find_element() instead\n",
      "  table_path = driver.find_element_by_xpath( \"/html/body/onpe-root/onpe-layout-container/onpe-onpe-epres-re/div[1]/div[4]/div[1]/div[3]/div\" )\n",
      "<ipython-input-7-1d7d495d847e>:43: DeprecationWarning: find_element_by_* commands are deprecated. Please use find_element() instead\n",
      "  est = Select( driver.find_element_by_xpath(\"/html/body/onpe-root/onpe-layout-container/onpe-onpe-epres-re/div[1]/div[3]/div[1]/div[1]/div/div/div[4]/select\") )\n"
     ]
    },
    {
     "name": "stdout",
     "output_type": "stream",
     "text": [
      "NUEVA ORLEANS\n",
      "NUEVA YORK\n"
     ]
    },
    {
     "name": "stderr",
     "output_type": "stream",
     "text": [
      "<ipython-input-7-1d7d495d847e>:63: DeprecationWarning: find_element_by_* commands are deprecated. Please use find_element() instead\n",
      "  table_path = driver.find_element_by_xpath( \"/html/body/onpe-root/onpe-layout-container/onpe-onpe-epres-re/div[1]/div[4]/div[1]/div[3]/div\" )\n",
      "<ipython-input-7-1d7d495d847e>:43: DeprecationWarning: find_element_by_* commands are deprecated. Please use find_element() instead\n",
      "  est = Select( driver.find_element_by_xpath(\"/html/body/onpe-root/onpe-layout-container/onpe-onpe-epres-re/div[1]/div[3]/div[1]/div[1]/div/div/div[4]/select\") )\n",
      "<ipython-input-7-1d7d495d847e>:63: DeprecationWarning: find_element_by_* commands are deprecated. Please use find_element() instead\n",
      "  table_path = driver.find_element_by_xpath( \"/html/body/onpe-root/onpe-layout-container/onpe-onpe-epres-re/div[1]/div[4]/div[1]/div[3]/div\" )\n",
      "<ipython-input-7-1d7d495d847e>:43: DeprecationWarning: find_element_by_* commands are deprecated. Please use find_element() instead\n",
      "  est = Select( driver.find_element_by_xpath(\"/html/body/onpe-root/onpe-layout-container/onpe-onpe-epres-re/div[1]/div[3]/div[1]/div[1]/div/div/div[4]/select\") )\n"
     ]
    },
    {
     "name": "stdout",
     "output_type": "stream",
     "text": [
      "OKLAHOMA\n",
      "PHOENIX\n"
     ]
    },
    {
     "name": "stderr",
     "output_type": "stream",
     "text": [
      "<ipython-input-7-1d7d495d847e>:63: DeprecationWarning: find_element_by_* commands are deprecated. Please use find_element() instead\n",
      "  table_path = driver.find_element_by_xpath( \"/html/body/onpe-root/onpe-layout-container/onpe-onpe-epres-re/div[1]/div[4]/div[1]/div[3]/div\" )\n",
      "<ipython-input-7-1d7d495d847e>:43: DeprecationWarning: find_element_by_* commands are deprecated. Please use find_element() instead\n",
      "  est = Select( driver.find_element_by_xpath(\"/html/body/onpe-root/onpe-layout-container/onpe-onpe-epres-re/div[1]/div[3]/div[1]/div[1]/div/div/div[4]/select\") )\n"
     ]
    },
    {
     "name": "stdout",
     "output_type": "stream",
     "text": [
      "SALT LAKE CITY\n"
     ]
    },
    {
     "name": "stderr",
     "output_type": "stream",
     "text": [
      "<ipython-input-7-1d7d495d847e>:63: DeprecationWarning: find_element_by_* commands are deprecated. Please use find_element() instead\n",
      "  table_path = driver.find_element_by_xpath( \"/html/body/onpe-root/onpe-layout-container/onpe-onpe-epres-re/div[1]/div[4]/div[1]/div[3]/div\" )\n",
      "<ipython-input-7-1d7d495d847e>:43: DeprecationWarning: find_element_by_* commands are deprecated. Please use find_element() instead\n",
      "  est = Select( driver.find_element_by_xpath(\"/html/body/onpe-root/onpe-layout-container/onpe-onpe-epres-re/div[1]/div[3]/div[1]/div[1]/div/div/div[4]/select\") )\n"
     ]
    },
    {
     "name": "stdout",
     "output_type": "stream",
     "text": [
      "SAN ANTONIO\n"
     ]
    },
    {
     "name": "stderr",
     "output_type": "stream",
     "text": [
      "<ipython-input-7-1d7d495d847e>:63: DeprecationWarning: find_element_by_* commands are deprecated. Please use find_element() instead\n",
      "  table_path = driver.find_element_by_xpath( \"/html/body/onpe-root/onpe-layout-container/onpe-onpe-epres-re/div[1]/div[4]/div[1]/div[3]/div\" )\n",
      "<ipython-input-7-1d7d495d847e>:43: DeprecationWarning: find_element_by_* commands are deprecated. Please use find_element() instead\n",
      "  est = Select( driver.find_element_by_xpath(\"/html/body/onpe-root/onpe-layout-container/onpe-onpe-epres-re/div[1]/div[3]/div[1]/div[1]/div/div/div[4]/select\") )\n",
      "<ipython-input-7-1d7d495d847e>:63: DeprecationWarning: find_element_by_* commands are deprecated. Please use find_element() instead\n",
      "  table_path = driver.find_element_by_xpath( \"/html/body/onpe-root/onpe-layout-container/onpe-onpe-epres-re/div[1]/div[4]/div[1]/div[3]/div\" )\n"
     ]
    },
    {
     "name": "stdout",
     "output_type": "stream",
     "text": [
      "SAN DIEGO\n",
      "SAN FRANCISCO\n"
     ]
    },
    {
     "name": "stderr",
     "output_type": "stream",
     "text": [
      "<ipython-input-7-1d7d495d847e>:43: DeprecationWarning: find_element_by_* commands are deprecated. Please use find_element() instead\n",
      "  est = Select( driver.find_element_by_xpath(\"/html/body/onpe-root/onpe-layout-container/onpe-onpe-epres-re/div[1]/div[3]/div[1]/div[1]/div/div/div[4]/select\") )\n",
      "<ipython-input-7-1d7d495d847e>:63: DeprecationWarning: find_element_by_* commands are deprecated. Please use find_element() instead\n",
      "  table_path = driver.find_element_by_xpath( \"/html/body/onpe-root/onpe-layout-container/onpe-onpe-epres-re/div[1]/div[4]/div[1]/div[3]/div\" )\n",
      "<ipython-input-7-1d7d495d847e>:43: DeprecationWarning: find_element_by_* commands are deprecated. Please use find_element() instead\n",
      "  est = Select( driver.find_element_by_xpath(\"/html/body/onpe-root/onpe-layout-container/onpe-onpe-epres-re/div[1]/div[3]/div[1]/div[1]/div/div/div[4]/select\") )\n",
      "<ipython-input-7-1d7d495d847e>:63: DeprecationWarning: find_element_by_* commands are deprecated. Please use find_element() instead\n",
      "  table_path = driver.find_element_by_xpath( \"/html/body/onpe-root/onpe-layout-container/onpe-onpe-epres-re/div[1]/div[4]/div[1]/div[3]/div\" )\n",
      "<ipython-input-7-1d7d495d847e>:43: DeprecationWarning: find_element_by_* commands are deprecated. Please use find_element() instead\n",
      "  est = Select( driver.find_element_by_xpath(\"/html/body/onpe-root/onpe-layout-container/onpe-onpe-epres-re/div[1]/div[3]/div[1]/div[1]/div/div/div[4]/select\") )\n"
     ]
    },
    {
     "name": "stdout",
     "output_type": "stream",
     "text": [
      "SEATLE\n",
      "TAMPA\n"
     ]
    },
    {
     "name": "stderr",
     "output_type": "stream",
     "text": [
      "<ipython-input-7-1d7d495d847e>:63: DeprecationWarning: find_element_by_* commands are deprecated. Please use find_element() instead\n",
      "  table_path = driver.find_element_by_xpath( \"/html/body/onpe-root/onpe-layout-container/onpe-onpe-epres-re/div[1]/div[4]/div[1]/div[3]/div\" )\n",
      "<ipython-input-7-1d7d495d847e>:43: DeprecationWarning: find_element_by_* commands are deprecated. Please use find_element() instead\n",
      "  est = Select( driver.find_element_by_xpath(\"/html/body/onpe-root/onpe-layout-container/onpe-onpe-epres-re/div[1]/div[3]/div[1]/div[1]/div/div/div[4]/select\") )\n",
      "<ipython-input-7-1d7d495d847e>:63: DeprecationWarning: find_element_by_* commands are deprecated. Please use find_element() instead\n",
      "  table_path = driver.find_element_by_xpath( \"/html/body/onpe-root/onpe-layout-container/onpe-onpe-epres-re/div[1]/div[4]/div[1]/div[3]/div\" )\n"
     ]
    },
    {
     "name": "stdout",
     "output_type": "stream",
     "text": [
      "WASHINGTON D. C.\n"
     ]
    },
    {
     "name": "stderr",
     "output_type": "stream",
     "text": [
      "<ipython-input-7-1d7d495d847e>:22: DeprecationWarning: find_element_by_* commands are deprecated. Please use find_element() instead\n",
      "  pais = Select( driver.find_element_by_xpath(\"/html/body/onpe-root/onpe-layout-container/onpe-onpe-epres-re/div[1]/div[3]/div[1]/div[1]/div/div/div[3]/select\" ) )\n",
      "<ipython-input-7-1d7d495d847e>:37: DeprecationWarning: find_element_by_* commands are deprecated. Please use find_element() instead\n",
      "  est = Select( driver.find_element_by_xpath(\"/html/body/onpe-root/onpe-layout-container/onpe-onpe-epres-re/div[1]/div[3]/div[1]/div[1]/div/div/div[4]/select\" ) )\n",
      "<ipython-input-7-1d7d495d847e>:43: DeprecationWarning: find_element_by_* commands are deprecated. Please use find_element() instead\n",
      "  est = Select( driver.find_element_by_xpath(\"/html/body/onpe-root/onpe-layout-container/onpe-onpe-epres-re/div[1]/div[3]/div[1]/div[1]/div/div/div[4]/select\") )\n"
     ]
    },
    {
     "name": "stdout",
     "output_type": "stream",
     "text": [
      "--TODOS--\n",
      "GUATEMALA\n"
     ]
    },
    {
     "name": "stderr",
     "output_type": "stream",
     "text": [
      "<ipython-input-7-1d7d495d847e>:63: DeprecationWarning: find_element_by_* commands are deprecated. Please use find_element() instead\n",
      "  table_path = driver.find_element_by_xpath( \"/html/body/onpe-root/onpe-layout-container/onpe-onpe-epres-re/div[1]/div[4]/div[1]/div[3]/div\" )\n",
      "<ipython-input-7-1d7d495d847e>:22: DeprecationWarning: find_element_by_* commands are deprecated. Please use find_element() instead\n",
      "  pais = Select( driver.find_element_by_xpath(\"/html/body/onpe-root/onpe-layout-container/onpe-onpe-epres-re/div[1]/div[3]/div[1]/div[1]/div/div/div[3]/select\" ) )\n",
      "<ipython-input-7-1d7d495d847e>:37: DeprecationWarning: find_element_by_* commands are deprecated. Please use find_element() instead\n",
      "  est = Select( driver.find_element_by_xpath(\"/html/body/onpe-root/onpe-layout-container/onpe-onpe-epres-re/div[1]/div[3]/div[1]/div[1]/div/div/div[4]/select\" ) )\n",
      "<ipython-input-7-1d7d495d847e>:43: DeprecationWarning: find_element_by_* commands are deprecated. Please use find_element() instead\n",
      "  est = Select( driver.find_element_by_xpath(\"/html/body/onpe-root/onpe-layout-container/onpe-onpe-epres-re/div[1]/div[3]/div[1]/div[1]/div/div/div[4]/select\") )\n"
     ]
    },
    {
     "name": "stdout",
     "output_type": "stream",
     "text": [
      "--TODOS--\n",
      "CAYENA\n"
     ]
    },
    {
     "name": "stderr",
     "output_type": "stream",
     "text": [
      "<ipython-input-7-1d7d495d847e>:63: DeprecationWarning: find_element_by_* commands are deprecated. Please use find_element() instead\n",
      "  table_path = driver.find_element_by_xpath( \"/html/body/onpe-root/onpe-layout-container/onpe-onpe-epres-re/div[1]/div[4]/div[1]/div[3]/div\" )\n",
      "<ipython-input-7-1d7d495d847e>:22: DeprecationWarning: find_element_by_* commands are deprecated. Please use find_element() instead\n",
      "  pais = Select( driver.find_element_by_xpath(\"/html/body/onpe-root/onpe-layout-container/onpe-onpe-epres-re/div[1]/div[3]/div[1]/div[1]/div/div/div[3]/select\" ) )\n",
      "<ipython-input-7-1d7d495d847e>:37: DeprecationWarning: find_element_by_* commands are deprecated. Please use find_element() instead\n",
      "  est = Select( driver.find_element_by_xpath(\"/html/body/onpe-root/onpe-layout-container/onpe-onpe-epres-re/div[1]/div[3]/div[1]/div[1]/div/div/div[4]/select\" ) )\n",
      "<ipython-input-7-1d7d495d847e>:43: DeprecationWarning: find_element_by_* commands are deprecated. Please use find_element() instead\n",
      "  est = Select( driver.find_element_by_xpath(\"/html/body/onpe-root/onpe-layout-container/onpe-onpe-epres-re/div[1]/div[3]/div[1]/div[1]/div/div/div[4]/select\") )\n",
      "<ipython-input-7-1d7d495d847e>:63: DeprecationWarning: find_element_by_* commands are deprecated. Please use find_element() instead\n",
      "  table_path = driver.find_element_by_xpath( \"/html/body/onpe-root/onpe-layout-container/onpe-onpe-epres-re/div[1]/div[4]/div[1]/div[3]/div\" )\n",
      "<ipython-input-7-1d7d495d847e>:22: DeprecationWarning: find_element_by_* commands are deprecated. Please use find_element() instead\n",
      "  pais = Select( driver.find_element_by_xpath(\"/html/body/onpe-root/onpe-layout-container/onpe-onpe-epres-re/div[1]/div[3]/div[1]/div[1]/div/div/div[3]/select\" ) )\n"
     ]
    },
    {
     "name": "stdout",
     "output_type": "stream",
     "text": [
      "--TODOS--\n",
      "PUERTO PRINCIPE\n"
     ]
    },
    {
     "name": "stderr",
     "output_type": "stream",
     "text": [
      "<ipython-input-7-1d7d495d847e>:37: DeprecationWarning: find_element_by_* commands are deprecated. Please use find_element() instead\n",
      "  est = Select( driver.find_element_by_xpath(\"/html/body/onpe-root/onpe-layout-container/onpe-onpe-epres-re/div[1]/div[3]/div[1]/div[1]/div/div/div[4]/select\" ) )\n",
      "<ipython-input-7-1d7d495d847e>:43: DeprecationWarning: find_element_by_* commands are deprecated. Please use find_element() instead\n",
      "  est = Select( driver.find_element_by_xpath(\"/html/body/onpe-root/onpe-layout-container/onpe-onpe-epres-re/div[1]/div[3]/div[1]/div[1]/div/div/div[4]/select\") )\n"
     ]
    },
    {
     "name": "stdout",
     "output_type": "stream",
     "text": [
      "--TODOS--\n",
      "TEGUCIGALPA\n"
     ]
    },
    {
     "name": "stderr",
     "output_type": "stream",
     "text": [
      "<ipython-input-7-1d7d495d847e>:63: DeprecationWarning: find_element_by_* commands are deprecated. Please use find_element() instead\n",
      "  table_path = driver.find_element_by_xpath( \"/html/body/onpe-root/onpe-layout-container/onpe-onpe-epres-re/div[1]/div[4]/div[1]/div[3]/div\" )\n",
      "<ipython-input-7-1d7d495d847e>:22: DeprecationWarning: find_element_by_* commands are deprecated. Please use find_element() instead\n",
      "  pais = Select( driver.find_element_by_xpath(\"/html/body/onpe-root/onpe-layout-container/onpe-onpe-epres-re/div[1]/div[3]/div[1]/div[1]/div/div/div[3]/select\" ) )\n",
      "<ipython-input-7-1d7d495d847e>:37: DeprecationWarning: find_element_by_* commands are deprecated. Please use find_element() instead\n",
      "  est = Select( driver.find_element_by_xpath(\"/html/body/onpe-root/onpe-layout-container/onpe-onpe-epres-re/div[1]/div[3]/div[1]/div[1]/div/div/div[4]/select\" ) )\n",
      "<ipython-input-7-1d7d495d847e>:43: DeprecationWarning: find_element_by_* commands are deprecated. Please use find_element() instead\n",
      "  est = Select( driver.find_element_by_xpath(\"/html/body/onpe-root/onpe-layout-container/onpe-onpe-epres-re/div[1]/div[3]/div[1]/div[1]/div/div/div[4]/select\") )\n"
     ]
    },
    {
     "name": "stdout",
     "output_type": "stream",
     "text": [
      "--TODOS--\n",
      "CIUDAD DE MEXICO\n"
     ]
    },
    {
     "name": "stderr",
     "output_type": "stream",
     "text": [
      "<ipython-input-7-1d7d495d847e>:63: DeprecationWarning: find_element_by_* commands are deprecated. Please use find_element() instead\n",
      "  table_path = driver.find_element_by_xpath( \"/html/body/onpe-root/onpe-layout-container/onpe-onpe-epres-re/div[1]/div[4]/div[1]/div[3]/div\" )\n",
      "<ipython-input-7-1d7d495d847e>:43: DeprecationWarning: find_element_by_* commands are deprecated. Please use find_element() instead\n",
      "  est = Select( driver.find_element_by_xpath(\"/html/body/onpe-root/onpe-layout-container/onpe-onpe-epres-re/div[1]/div[3]/div[1]/div[1]/div/div/div[4]/select\") )\n",
      "<ipython-input-7-1d7d495d847e>:63: DeprecationWarning: find_element_by_* commands are deprecated. Please use find_element() instead\n",
      "  table_path = driver.find_element_by_xpath( \"/html/body/onpe-root/onpe-layout-container/onpe-onpe-epres-re/div[1]/div[4]/div[1]/div[3]/div\" )\n",
      "<ipython-input-7-1d7d495d847e>:43: DeprecationWarning: find_element_by_* commands are deprecated. Please use find_element() instead\n",
      "  est = Select( driver.find_element_by_xpath(\"/html/body/onpe-root/onpe-layout-container/onpe-onpe-epres-re/div[1]/div[3]/div[1]/div[1]/div/div/div[4]/select\") )\n"
     ]
    },
    {
     "name": "stdout",
     "output_type": "stream",
     "text": [
      "GUADALAJARA\n",
      "MONTERREY\n"
     ]
    },
    {
     "name": "stderr",
     "output_type": "stream",
     "text": [
      "<ipython-input-7-1d7d495d847e>:63: DeprecationWarning: find_element_by_* commands are deprecated. Please use find_element() instead\n",
      "  table_path = driver.find_element_by_xpath( \"/html/body/onpe-root/onpe-layout-container/onpe-onpe-epres-re/div[1]/div[4]/div[1]/div[3]/div\" )\n",
      "<ipython-input-7-1d7d495d847e>:22: DeprecationWarning: find_element_by_* commands are deprecated. Please use find_element() instead\n",
      "  pais = Select( driver.find_element_by_xpath(\"/html/body/onpe-root/onpe-layout-container/onpe-onpe-epres-re/div[1]/div[3]/div[1]/div[1]/div/div/div[3]/select\" ) )\n",
      "<ipython-input-7-1d7d495d847e>:37: DeprecationWarning: find_element_by_* commands are deprecated. Please use find_element() instead\n",
      "  est = Select( driver.find_element_by_xpath(\"/html/body/onpe-root/onpe-layout-container/onpe-onpe-epres-re/div[1]/div[3]/div[1]/div[1]/div/div/div[4]/select\" ) )\n",
      "<ipython-input-7-1d7d495d847e>:43: DeprecationWarning: find_element_by_* commands are deprecated. Please use find_element() instead\n",
      "  est = Select( driver.find_element_by_xpath(\"/html/body/onpe-root/onpe-layout-container/onpe-onpe-epres-re/div[1]/div[3]/div[1]/div[1]/div/div/div[4]/select\") )\n"
     ]
    },
    {
     "name": "stdout",
     "output_type": "stream",
     "text": [
      "--TODOS--\n",
      "MANAGUA\n"
     ]
    },
    {
     "name": "stderr",
     "output_type": "stream",
     "text": [
      "<ipython-input-7-1d7d495d847e>:63: DeprecationWarning: find_element_by_* commands are deprecated. Please use find_element() instead\n",
      "  table_path = driver.find_element_by_xpath( \"/html/body/onpe-root/onpe-layout-container/onpe-onpe-epres-re/div[1]/div[4]/div[1]/div[3]/div\" )\n",
      "<ipython-input-7-1d7d495d847e>:22: DeprecationWarning: find_element_by_* commands are deprecated. Please use find_element() instead\n",
      "  pais = Select( driver.find_element_by_xpath(\"/html/body/onpe-root/onpe-layout-container/onpe-onpe-epres-re/div[1]/div[3]/div[1]/div[1]/div/div/div[3]/select\" ) )\n",
      "<ipython-input-7-1d7d495d847e>:37: DeprecationWarning: find_element_by_* commands are deprecated. Please use find_element() instead\n",
      "  est = Select( driver.find_element_by_xpath(\"/html/body/onpe-root/onpe-layout-container/onpe-onpe-epres-re/div[1]/div[3]/div[1]/div[1]/div/div/div[4]/select\" ) )\n",
      "<ipython-input-7-1d7d495d847e>:43: DeprecationWarning: find_element_by_* commands are deprecated. Please use find_element() instead\n",
      "  est = Select( driver.find_element_by_xpath(\"/html/body/onpe-root/onpe-layout-container/onpe-onpe-epres-re/div[1]/div[3]/div[1]/div[1]/div/div/div[4]/select\") )\n",
      "<ipython-input-7-1d7d495d847e>:63: DeprecationWarning: find_element_by_* commands are deprecated. Please use find_element() instead\n",
      "  table_path = driver.find_element_by_xpath( \"/html/body/onpe-root/onpe-layout-container/onpe-onpe-epres-re/div[1]/div[4]/div[1]/div[3]/div\" )\n"
     ]
    },
    {
     "name": "stdout",
     "output_type": "stream",
     "text": [
      "--TODOS--\n",
      "COLON\n",
      "DAVID\n"
     ]
    },
    {
     "name": "stderr",
     "output_type": "stream",
     "text": [
      "<ipython-input-7-1d7d495d847e>:43: DeprecationWarning: find_element_by_* commands are deprecated. Please use find_element() instead\n",
      "  est = Select( driver.find_element_by_xpath(\"/html/body/onpe-root/onpe-layout-container/onpe-onpe-epres-re/div[1]/div[3]/div[1]/div[1]/div/div/div[4]/select\") )\n",
      "<ipython-input-7-1d7d495d847e>:63: DeprecationWarning: find_element_by_* commands are deprecated. Please use find_element() instead\n",
      "  table_path = driver.find_element_by_xpath( \"/html/body/onpe-root/onpe-layout-container/onpe-onpe-epres-re/div[1]/div[4]/div[1]/div[3]/div\" )\n",
      "<ipython-input-7-1d7d495d847e>:43: DeprecationWarning: find_element_by_* commands are deprecated. Please use find_element() instead\n",
      "  est = Select( driver.find_element_by_xpath(\"/html/body/onpe-root/onpe-layout-container/onpe-onpe-epres-re/div[1]/div[3]/div[1]/div[1]/div/div/div[4]/select\") )\n"
     ]
    },
    {
     "name": "stdout",
     "output_type": "stream",
     "text": [
      "PANAMA\n",
      "VERAGUAS\n"
     ]
    },
    {
     "name": "stderr",
     "output_type": "stream",
     "text": [
      "<ipython-input-7-1d7d495d847e>:63: DeprecationWarning: find_element_by_* commands are deprecated. Please use find_element() instead\n",
      "  table_path = driver.find_element_by_xpath( \"/html/body/onpe-root/onpe-layout-container/onpe-onpe-epres-re/div[1]/div[4]/div[1]/div[3]/div\" )\n",
      "<ipython-input-7-1d7d495d847e>:43: DeprecationWarning: find_element_by_* commands are deprecated. Please use find_element() instead\n",
      "  est = Select( driver.find_element_by_xpath(\"/html/body/onpe-root/onpe-layout-container/onpe-onpe-epres-re/div[1]/div[3]/div[1]/div[1]/div/div/div[4]/select\") )\n",
      "<ipython-input-7-1d7d495d847e>:63: DeprecationWarning: find_element_by_* commands are deprecated. Please use find_element() instead\n",
      "  table_path = driver.find_element_by_xpath( \"/html/body/onpe-root/onpe-layout-container/onpe-onpe-epres-re/div[1]/div[4]/div[1]/div[3]/div\" )\n",
      "<ipython-input-7-1d7d495d847e>:22: DeprecationWarning: find_element_by_* commands are deprecated. Please use find_element() instead\n",
      "  pais = Select( driver.find_element_by_xpath(\"/html/body/onpe-root/onpe-layout-container/onpe-onpe-epres-re/div[1]/div[3]/div[1]/div[1]/div/div/div[3]/select\" ) )\n",
      "<ipython-input-7-1d7d495d847e>:37: DeprecationWarning: find_element_by_* commands are deprecated. Please use find_element() instead\n",
      "  est = Select( driver.find_element_by_xpath(\"/html/body/onpe-root/onpe-layout-container/onpe-onpe-epres-re/div[1]/div[3]/div[1]/div[1]/div/div/div[4]/select\" ) )\n",
      "<ipython-input-7-1d7d495d847e>:43: DeprecationWarning: find_element_by_* commands are deprecated. Please use find_element() instead\n",
      "  est = Select( driver.find_element_by_xpath(\"/html/body/onpe-root/onpe-layout-container/onpe-onpe-epres-re/div[1]/div[3]/div[1]/div[1]/div/div/div[4]/select\") )\n"
     ]
    },
    {
     "name": "stdout",
     "output_type": "stream",
     "text": [
      "--TODOS--\n",
      "ASUNCION\n"
     ]
    },
    {
     "name": "stderr",
     "output_type": "stream",
     "text": [
      "<ipython-input-7-1d7d495d847e>:63: DeprecationWarning: find_element_by_* commands are deprecated. Please use find_element() instead\n",
      "  table_path = driver.find_element_by_xpath( \"/html/body/onpe-root/onpe-layout-container/onpe-onpe-epres-re/div[1]/div[4]/div[1]/div[3]/div\" )\n",
      "<ipython-input-7-1d7d495d847e>:22: DeprecationWarning: find_element_by_* commands are deprecated. Please use find_element() instead\n",
      "  pais = Select( driver.find_element_by_xpath(\"/html/body/onpe-root/onpe-layout-container/onpe-onpe-epres-re/div[1]/div[3]/div[1]/div[1]/div/div/div[3]/select\" ) )\n",
      "<ipython-input-7-1d7d495d847e>:37: DeprecationWarning: find_element_by_* commands are deprecated. Please use find_element() instead\n",
      "  est = Select( driver.find_element_by_xpath(\"/html/body/onpe-root/onpe-layout-container/onpe-onpe-epres-re/div[1]/div[3]/div[1]/div[1]/div/div/div[4]/select\" ) )\n",
      "<ipython-input-7-1d7d495d847e>:43: DeprecationWarning: find_element_by_* commands are deprecated. Please use find_element() instead\n",
      "  est = Select( driver.find_element_by_xpath(\"/html/body/onpe-root/onpe-layout-container/onpe-onpe-epres-re/div[1]/div[3]/div[1]/div[1]/div/div/div[4]/select\") )\n"
     ]
    },
    {
     "name": "stdout",
     "output_type": "stream",
     "text": [
      "--TODOS--\n",
      "SAN JUAN\n"
     ]
    },
    {
     "name": "stderr",
     "output_type": "stream",
     "text": [
      "<ipython-input-7-1d7d495d847e>:63: DeprecationWarning: find_element_by_* commands are deprecated. Please use find_element() instead\n",
      "  table_path = driver.find_element_by_xpath( \"/html/body/onpe-root/onpe-layout-container/onpe-onpe-epres-re/div[1]/div[4]/div[1]/div[3]/div\" )\n",
      "<ipython-input-7-1d7d495d847e>:22: DeprecationWarning: find_element_by_* commands are deprecated. Please use find_element() instead\n",
      "  pais = Select( driver.find_element_by_xpath(\"/html/body/onpe-root/onpe-layout-container/onpe-onpe-epres-re/div[1]/div[3]/div[1]/div[1]/div/div/div[3]/select\" ) )\n",
      "<ipython-input-7-1d7d495d847e>:37: DeprecationWarning: find_element_by_* commands are deprecated. Please use find_element() instead\n",
      "  est = Select( driver.find_element_by_xpath(\"/html/body/onpe-root/onpe-layout-container/onpe-onpe-epres-re/div[1]/div[3]/div[1]/div[1]/div/div/div[4]/select\" ) )\n",
      "<ipython-input-7-1d7d495d847e>:43: DeprecationWarning: find_element_by_* commands are deprecated. Please use find_element() instead\n",
      "  est = Select( driver.find_element_by_xpath(\"/html/body/onpe-root/onpe-layout-container/onpe-onpe-epres-re/div[1]/div[3]/div[1]/div[1]/div/div/div[4]/select\") )\n"
     ]
    },
    {
     "name": "stdout",
     "output_type": "stream",
     "text": [
      "--TODOS--\n",
      "SANTIAGO DE LOS CABALLEROS\n"
     ]
    },
    {
     "name": "stderr",
     "output_type": "stream",
     "text": [
      "<ipython-input-7-1d7d495d847e>:63: DeprecationWarning: find_element_by_* commands are deprecated. Please use find_element() instead\n",
      "  table_path = driver.find_element_by_xpath( \"/html/body/onpe-root/onpe-layout-container/onpe-onpe-epres-re/div[1]/div[4]/div[1]/div[3]/div\" )\n",
      "<ipython-input-7-1d7d495d847e>:43: DeprecationWarning: find_element_by_* commands are deprecated. Please use find_element() instead\n",
      "  est = Select( driver.find_element_by_xpath(\"/html/body/onpe-root/onpe-layout-container/onpe-onpe-epres-re/div[1]/div[3]/div[1]/div[1]/div/div/div[4]/select\") )\n"
     ]
    },
    {
     "name": "stdout",
     "output_type": "stream",
     "text": [
      "SANTO DOMINGO\n"
     ]
    },
    {
     "name": "stderr",
     "output_type": "stream",
     "text": [
      "<ipython-input-7-1d7d495d847e>:63: DeprecationWarning: find_element_by_* commands are deprecated. Please use find_element() instead\n",
      "  table_path = driver.find_element_by_xpath( \"/html/body/onpe-root/onpe-layout-container/onpe-onpe-epres-re/div[1]/div[4]/div[1]/div[3]/div\" )\n",
      "<ipython-input-7-1d7d495d847e>:22: DeprecationWarning: find_element_by_* commands are deprecated. Please use find_element() instead\n",
      "  pais = Select( driver.find_element_by_xpath(\"/html/body/onpe-root/onpe-layout-container/onpe-onpe-epres-re/div[1]/div[3]/div[1]/div[1]/div/div/div[3]/select\" ) )\n",
      "<ipython-input-7-1d7d495d847e>:37: DeprecationWarning: find_element_by_* commands are deprecated. Please use find_element() instead\n",
      "  est = Select( driver.find_element_by_xpath(\"/html/body/onpe-root/onpe-layout-container/onpe-onpe-epres-re/div[1]/div[3]/div[1]/div[1]/div/div/div[4]/select\" ) )\n",
      "<ipython-input-7-1d7d495d847e>:43: DeprecationWarning: find_element_by_* commands are deprecated. Please use find_element() instead\n",
      "  est = Select( driver.find_element_by_xpath(\"/html/body/onpe-root/onpe-layout-container/onpe-onpe-epres-re/div[1]/div[3]/div[1]/div[1]/div/div/div[4]/select\") )\n"
     ]
    },
    {
     "name": "stdout",
     "output_type": "stream",
     "text": [
      "--TODOS--\n",
      "PUERTO ESPA�A\n"
     ]
    },
    {
     "name": "stderr",
     "output_type": "stream",
     "text": [
      "<ipython-input-7-1d7d495d847e>:63: DeprecationWarning: find_element_by_* commands are deprecated. Please use find_element() instead\n",
      "  table_path = driver.find_element_by_xpath( \"/html/body/onpe-root/onpe-layout-container/onpe-onpe-epres-re/div[1]/div[4]/div[1]/div[3]/div\" )\n",
      "<ipython-input-7-1d7d495d847e>:22: DeprecationWarning: find_element_by_* commands are deprecated. Please use find_element() instead\n",
      "  pais = Select( driver.find_element_by_xpath(\"/html/body/onpe-root/onpe-layout-container/onpe-onpe-epres-re/div[1]/div[3]/div[1]/div[1]/div/div/div[3]/select\" ) )\n",
      "<ipython-input-7-1d7d495d847e>:37: DeprecationWarning: find_element_by_* commands are deprecated. Please use find_element() instead\n",
      "  est = Select( driver.find_element_by_xpath(\"/html/body/onpe-root/onpe-layout-container/onpe-onpe-epres-re/div[1]/div[3]/div[1]/div[1]/div/div/div[4]/select\" ) )\n",
      "<ipython-input-7-1d7d495d847e>:43: DeprecationWarning: find_element_by_* commands are deprecated. Please use find_element() instead\n",
      "  est = Select( driver.find_element_by_xpath(\"/html/body/onpe-root/onpe-layout-container/onpe-onpe-epres-re/div[1]/div[3]/div[1]/div[1]/div/div/div[4]/select\") )\n"
     ]
    },
    {
     "name": "stdout",
     "output_type": "stream",
     "text": [
      "--TODOS--\n",
      "MONTEVIDEO\n"
     ]
    },
    {
     "name": "stderr",
     "output_type": "stream",
     "text": [
      "<ipython-input-7-1d7d495d847e>:63: DeprecationWarning: find_element_by_* commands are deprecated. Please use find_element() instead\n",
      "  table_path = driver.find_element_by_xpath( \"/html/body/onpe-root/onpe-layout-container/onpe-onpe-epres-re/div[1]/div[4]/div[1]/div[3]/div\" )\n",
      "<ipython-input-7-1d7d495d847e>:22: DeprecationWarning: find_element_by_* commands are deprecated. Please use find_element() instead\n",
      "  pais = Select( driver.find_element_by_xpath(\"/html/body/onpe-root/onpe-layout-container/onpe-onpe-epres-re/div[1]/div[3]/div[1]/div[1]/div/div/div[3]/select\" ) )\n",
      "<ipython-input-7-1d7d495d847e>:37: DeprecationWarning: find_element_by_* commands are deprecated. Please use find_element() instead\n",
      "  est = Select( driver.find_element_by_xpath(\"/html/body/onpe-root/onpe-layout-container/onpe-onpe-epres-re/div[1]/div[3]/div[1]/div[1]/div/div/div[4]/select\" ) )\n",
      "<ipython-input-7-1d7d495d847e>:43: DeprecationWarning: find_element_by_* commands are deprecated. Please use find_element() instead\n",
      "  est = Select( driver.find_element_by_xpath(\"/html/body/onpe-root/onpe-layout-container/onpe-onpe-epres-re/div[1]/div[3]/div[1]/div[1]/div/div/div[4]/select\") )\n"
     ]
    },
    {
     "name": "stdout",
     "output_type": "stream",
     "text": [
      "--TODOS--\n",
      "ARAGUA\n"
     ]
    },
    {
     "name": "stderr",
     "output_type": "stream",
     "text": [
      "<ipython-input-7-1d7d495d847e>:63: DeprecationWarning: find_element_by_* commands are deprecated. Please use find_element() instead\n",
      "  table_path = driver.find_element_by_xpath( \"/html/body/onpe-root/onpe-layout-container/onpe-onpe-epres-re/div[1]/div[4]/div[1]/div[3]/div\" )\n",
      "<ipython-input-7-1d7d495d847e>:43: DeprecationWarning: find_element_by_* commands are deprecated. Please use find_element() instead\n",
      "  est = Select( driver.find_element_by_xpath(\"/html/body/onpe-root/onpe-layout-container/onpe-onpe-epres-re/div[1]/div[3]/div[1]/div[1]/div/div/div[4]/select\") )\n"
     ]
    },
    {
     "name": "stdout",
     "output_type": "stream",
     "text": [
      "BARQUISIMETO\n"
     ]
    },
    {
     "name": "stderr",
     "output_type": "stream",
     "text": [
      "<ipython-input-7-1d7d495d847e>:63: DeprecationWarning: find_element_by_* commands are deprecated. Please use find_element() instead\n",
      "  table_path = driver.find_element_by_xpath( \"/html/body/onpe-root/onpe-layout-container/onpe-onpe-epres-re/div[1]/div[4]/div[1]/div[3]/div\" )\n",
      "<ipython-input-7-1d7d495d847e>:43: DeprecationWarning: find_element_by_* commands are deprecated. Please use find_element() instead\n",
      "  est = Select( driver.find_element_by_xpath(\"/html/body/onpe-root/onpe-layout-container/onpe-onpe-epres-re/div[1]/div[3]/div[1]/div[1]/div/div/div[4]/select\") )\n"
     ]
    },
    {
     "name": "stdout",
     "output_type": "stream",
     "text": [
      "CARABOBO\n"
     ]
    },
    {
     "name": "stderr",
     "output_type": "stream",
     "text": [
      "<ipython-input-7-1d7d495d847e>:63: DeprecationWarning: find_element_by_* commands are deprecated. Please use find_element() instead\n",
      "  table_path = driver.find_element_by_xpath( \"/html/body/onpe-root/onpe-layout-container/onpe-onpe-epres-re/div[1]/div[4]/div[1]/div[3]/div\" )\n",
      "<ipython-input-7-1d7d495d847e>:43: DeprecationWarning: find_element_by_* commands are deprecated. Please use find_element() instead\n",
      "  est = Select( driver.find_element_by_xpath(\"/html/body/onpe-root/onpe-layout-container/onpe-onpe-epres-re/div[1]/div[3]/div[1]/div[1]/div/div/div[4]/select\") )\n"
     ]
    },
    {
     "name": "stdout",
     "output_type": "stream",
     "text": [
      "CARACAS\n"
     ]
    },
    {
     "name": "stderr",
     "output_type": "stream",
     "text": [
      "<ipython-input-7-1d7d495d847e>:63: DeprecationWarning: find_element_by_* commands are deprecated. Please use find_element() instead\n",
      "  table_path = driver.find_element_by_xpath( \"/html/body/onpe-root/onpe-layout-container/onpe-onpe-epres-re/div[1]/div[4]/div[1]/div[3]/div\" )\n",
      "<ipython-input-7-1d7d495d847e>:43: DeprecationWarning: find_element_by_* commands are deprecated. Please use find_element() instead\n",
      "  est = Select( driver.find_element_by_xpath(\"/html/body/onpe-root/onpe-layout-container/onpe-onpe-epres-re/div[1]/div[3]/div[1]/div[1]/div/div/div[4]/select\") )\n"
     ]
    },
    {
     "name": "stdout",
     "output_type": "stream",
     "text": [
      "MARACAIBO\n"
     ]
    },
    {
     "name": "stderr",
     "output_type": "stream",
     "text": [
      "<ipython-input-7-1d7d495d847e>:63: DeprecationWarning: find_element_by_* commands are deprecated. Please use find_element() instead\n",
      "  table_path = driver.find_element_by_xpath( \"/html/body/onpe-root/onpe-layout-container/onpe-onpe-epres-re/div[1]/div[4]/div[1]/div[3]/div\" )\n",
      "<ipython-input-7-1d7d495d847e>:43: DeprecationWarning: find_element_by_* commands are deprecated. Please use find_element() instead\n",
      "  est = Select( driver.find_element_by_xpath(\"/html/body/onpe-root/onpe-layout-container/onpe-onpe-epres-re/div[1]/div[3]/div[1]/div[1]/div/div/div[4]/select\") )\n"
     ]
    },
    {
     "name": "stdout",
     "output_type": "stream",
     "text": [
      "NUEVA ESPARTA\n"
     ]
    },
    {
     "name": "stderr",
     "output_type": "stream",
     "text": [
      "<ipython-input-7-1d7d495d847e>:63: DeprecationWarning: find_element_by_* commands are deprecated. Please use find_element() instead\n",
      "  table_path = driver.find_element_by_xpath( \"/html/body/onpe-root/onpe-layout-container/onpe-onpe-epres-re/div[1]/div[4]/div[1]/div[3]/div\" )\n",
      "<ipython-input-7-1d7d495d847e>:43: DeprecationWarning: find_element_by_* commands are deprecated. Please use find_element() instead\n",
      "  est = Select( driver.find_element_by_xpath(\"/html/body/onpe-root/onpe-layout-container/onpe-onpe-epres-re/div[1]/div[3]/div[1]/div[1]/div/div/div[4]/select\") )\n"
     ]
    },
    {
     "name": "stdout",
     "output_type": "stream",
     "text": [
      "PUERTO ORDAZ\n"
     ]
    },
    {
     "name": "stderr",
     "output_type": "stream",
     "text": [
      "<ipython-input-7-1d7d495d847e>:63: DeprecationWarning: find_element_by_* commands are deprecated. Please use find_element() instead\n",
      "  table_path = driver.find_element_by_xpath( \"/html/body/onpe-root/onpe-layout-container/onpe-onpe-epres-re/div[1]/div[4]/div[1]/div[3]/div\" )\n",
      "<ipython-input-7-1d7d495d847e>:43: DeprecationWarning: find_element_by_* commands are deprecated. Please use find_element() instead\n",
      "  est = Select( driver.find_element_by_xpath(\"/html/body/onpe-root/onpe-layout-container/onpe-onpe-epres-re/div[1]/div[3]/div[1]/div[1]/div/div/div[4]/select\") )\n"
     ]
    },
    {
     "name": "stdout",
     "output_type": "stream",
     "text": [
      "TACHIRA\n"
     ]
    },
    {
     "name": "stderr",
     "output_type": "stream",
     "text": [
      "<ipython-input-7-1d7d495d847e>:63: DeprecationWarning: find_element_by_* commands are deprecated. Please use find_element() instead\n",
      "  table_path = driver.find_element_by_xpath( \"/html/body/onpe-root/onpe-layout-container/onpe-onpe-epres-re/div[1]/div[4]/div[1]/div[3]/div\" )\n",
      "<ipython-input-7-1d7d495d847e>:3: DeprecationWarning: find_element_by_* commands are deprecated. Please use find_element() instead\n",
      "  cont = Select(driver.find_element_by_xpath(\"/html/body/onpe-root/onpe-layout-container/onpe-onpe-epres-re/div[1]/div[3]/div[1]/div[1]/div/div/div[2]/select\" ) )\n",
      "<ipython-input-7-1d7d495d847e>:18: DeprecationWarning: find_element_by_* commands are deprecated. Please use find_element() instead\n",
      "  pais = Select( driver.find_element_by_xpath(\"/html/body/onpe-root/onpe-layout-container/onpe-onpe-epres-re/div[1]/div[3]/div[1]/div[1]/div/div/div[3]/select\"))\n",
      "<ipython-input-7-1d7d495d847e>:22: DeprecationWarning: find_element_by_* commands are deprecated. Please use find_element() instead\n",
      "  pais = Select( driver.find_element_by_xpath(\"/html/body/onpe-root/onpe-layout-container/onpe-onpe-epres-re/div[1]/div[3]/div[1]/div[1]/div/div/div[3]/select\" ) )\n",
      "<ipython-input-7-1d7d495d847e>:37: DeprecationWarning: find_element_by_* commands are deprecated. Please use find_element() instead\n",
      "  est = Select( driver.find_element_by_xpath(\"/html/body/onpe-root/onpe-layout-container/onpe-onpe-epres-re/div[1]/div[3]/div[1]/div[1]/div/div/div[4]/select\" ) )\n",
      "<ipython-input-7-1d7d495d847e>:43: DeprecationWarning: find_element_by_* commands are deprecated. Please use find_element() instead\n",
      "  est = Select( driver.find_element_by_xpath(\"/html/body/onpe-root/onpe-layout-container/onpe-onpe-epres-re/div[1]/div[3]/div[1]/div[1]/div/div/div[4]/select\") )\n"
     ]
    },
    {
     "name": "stdout",
     "output_type": "stream",
     "text": [
      "--TODOS--\n",
      "RIAD\n"
     ]
    },
    {
     "name": "stderr",
     "output_type": "stream",
     "text": [
      "<ipython-input-7-1d7d495d847e>:63: DeprecationWarning: find_element_by_* commands are deprecated. Please use find_element() instead\n",
      "  table_path = driver.find_element_by_xpath( \"/html/body/onpe-root/onpe-layout-container/onpe-onpe-epres-re/div[1]/div[4]/div[1]/div[3]/div\" )\n",
      "<ipython-input-7-1d7d495d847e>:22: DeprecationWarning: find_element_by_* commands are deprecated. Please use find_element() instead\n",
      "  pais = Select( driver.find_element_by_xpath(\"/html/body/onpe-root/onpe-layout-container/onpe-onpe-epres-re/div[1]/div[3]/div[1]/div[1]/div/div/div[3]/select\" ) )\n",
      "<ipython-input-7-1d7d495d847e>:37: DeprecationWarning: find_element_by_* commands are deprecated. Please use find_element() instead\n",
      "  est = Select( driver.find_element_by_xpath(\"/html/body/onpe-root/onpe-layout-container/onpe-onpe-epres-re/div[1]/div[3]/div[1]/div[1]/div/div/div[4]/select\" ) )\n",
      "<ipython-input-7-1d7d495d847e>:43: DeprecationWarning: find_element_by_* commands are deprecated. Please use find_element() instead\n",
      "  est = Select( driver.find_element_by_xpath(\"/html/body/onpe-root/onpe-layout-container/onpe-onpe-epres-re/div[1]/div[3]/div[1]/div[1]/div/div/div[4]/select\") )\n"
     ]
    },
    {
     "name": "stdout",
     "output_type": "stream",
     "text": [
      "--TODOS--\n",
      "DUBAI\n"
     ]
    },
    {
     "name": "stderr",
     "output_type": "stream",
     "text": [
      "<ipython-input-7-1d7d495d847e>:63: DeprecationWarning: find_element_by_* commands are deprecated. Please use find_element() instead\n",
      "  table_path = driver.find_element_by_xpath( \"/html/body/onpe-root/onpe-layout-container/onpe-onpe-epres-re/div[1]/div[4]/div[1]/div[3]/div\" )\n",
      "<ipython-input-7-1d7d495d847e>:22: DeprecationWarning: find_element_by_* commands are deprecated. Please use find_element() instead\n",
      "  pais = Select( driver.find_element_by_xpath(\"/html/body/onpe-root/onpe-layout-container/onpe-onpe-epres-re/div[1]/div[3]/div[1]/div[1]/div/div/div[3]/select\" ) )\n",
      "<ipython-input-7-1d7d495d847e>:37: DeprecationWarning: find_element_by_* commands are deprecated. Please use find_element() instead\n",
      "  est = Select( driver.find_element_by_xpath(\"/html/body/onpe-root/onpe-layout-container/onpe-onpe-epres-re/div[1]/div[3]/div[1]/div[1]/div/div/div[4]/select\" ) )\n",
      "<ipython-input-7-1d7d495d847e>:43: DeprecationWarning: find_element_by_* commands are deprecated. Please use find_element() instead\n",
      "  est = Select( driver.find_element_by_xpath(\"/html/body/onpe-root/onpe-layout-container/onpe-onpe-epres-re/div[1]/div[3]/div[1]/div[1]/div/div/div[4]/select\") )\n"
     ]
    },
    {
     "name": "stdout",
     "output_type": "stream",
     "text": [
      "--TODOS--\n",
      "MANILA\n"
     ]
    },
    {
     "name": "stderr",
     "output_type": "stream",
     "text": [
      "<ipython-input-7-1d7d495d847e>:63: DeprecationWarning: find_element_by_* commands are deprecated. Please use find_element() instead\n",
      "  table_path = driver.find_element_by_xpath( \"/html/body/onpe-root/onpe-layout-container/onpe-onpe-epres-re/div[1]/div[4]/div[1]/div[3]/div\" )\n",
      "<ipython-input-7-1d7d495d847e>:22: DeprecationWarning: find_element_by_* commands are deprecated. Please use find_element() instead\n",
      "  pais = Select( driver.find_element_by_xpath(\"/html/body/onpe-root/onpe-layout-container/onpe-onpe-epres-re/div[1]/div[3]/div[1]/div[1]/div/div/div[3]/select\" ) )\n",
      "<ipython-input-7-1d7d495d847e>:37: DeprecationWarning: find_element_by_* commands are deprecated. Please use find_element() instead\n",
      "  est = Select( driver.find_element_by_xpath(\"/html/body/onpe-root/onpe-layout-container/onpe-onpe-epres-re/div[1]/div[3]/div[1]/div[1]/div/div/div[4]/select\" ) )\n",
      "<ipython-input-7-1d7d495d847e>:43: DeprecationWarning: find_element_by_* commands are deprecated. Please use find_element() instead\n",
      "  est = Select( driver.find_element_by_xpath(\"/html/body/onpe-root/onpe-layout-container/onpe-onpe-epres-re/div[1]/div[3]/div[1]/div[1]/div/div/div[4]/select\") )\n"
     ]
    },
    {
     "name": "stdout",
     "output_type": "stream",
     "text": [
      "--TODOS--\n",
      "NUEVA DELHI\n"
     ]
    },
    {
     "name": "stderr",
     "output_type": "stream",
     "text": [
      "<ipython-input-7-1d7d495d847e>:63: DeprecationWarning: find_element_by_* commands are deprecated. Please use find_element() instead\n",
      "  table_path = driver.find_element_by_xpath( \"/html/body/onpe-root/onpe-layout-container/onpe-onpe-epres-re/div[1]/div[4]/div[1]/div[3]/div\" )\n",
      "<ipython-input-7-1d7d495d847e>:22: DeprecationWarning: find_element_by_* commands are deprecated. Please use find_element() instead\n",
      "  pais = Select( driver.find_element_by_xpath(\"/html/body/onpe-root/onpe-layout-container/onpe-onpe-epres-re/div[1]/div[3]/div[1]/div[1]/div/div/div[3]/select\" ) )\n",
      "<ipython-input-7-1d7d495d847e>:37: DeprecationWarning: find_element_by_* commands are deprecated. Please use find_element() instead\n",
      "  est = Select( driver.find_element_by_xpath(\"/html/body/onpe-root/onpe-layout-container/onpe-onpe-epres-re/div[1]/div[3]/div[1]/div[1]/div/div/div[4]/select\" ) )\n",
      "<ipython-input-7-1d7d495d847e>:43: DeprecationWarning: find_element_by_* commands are deprecated. Please use find_element() instead\n",
      "  est = Select( driver.find_element_by_xpath(\"/html/body/onpe-root/onpe-layout-container/onpe-onpe-epres-re/div[1]/div[3]/div[1]/div[1]/div/div/div[4]/select\") )\n"
     ]
    },
    {
     "name": "stdout",
     "output_type": "stream",
     "text": [
      "--TODOS--\n",
      "JAKARTA\n"
     ]
    },
    {
     "name": "stderr",
     "output_type": "stream",
     "text": [
      "<ipython-input-7-1d7d495d847e>:63: DeprecationWarning: find_element_by_* commands are deprecated. Please use find_element() instead\n",
      "  table_path = driver.find_element_by_xpath( \"/html/body/onpe-root/onpe-layout-container/onpe-onpe-epres-re/div[1]/div[4]/div[1]/div[3]/div\" )\n",
      "<ipython-input-7-1d7d495d847e>:22: DeprecationWarning: find_element_by_* commands are deprecated. Please use find_element() instead\n",
      "  pais = Select( driver.find_element_by_xpath(\"/html/body/onpe-root/onpe-layout-container/onpe-onpe-epres-re/div[1]/div[3]/div[1]/div[1]/div/div/div[3]/select\" ) )\n",
      "<ipython-input-7-1d7d495d847e>:37: DeprecationWarning: find_element_by_* commands are deprecated. Please use find_element() instead\n",
      "  est = Select( driver.find_element_by_xpath(\"/html/body/onpe-root/onpe-layout-container/onpe-onpe-epres-re/div[1]/div[3]/div[1]/div[1]/div/div/div[4]/select\" ) )\n",
      "<ipython-input-7-1d7d495d847e>:43: DeprecationWarning: find_element_by_* commands are deprecated. Please use find_element() instead\n",
      "  est = Select( driver.find_element_by_xpath(\"/html/body/onpe-root/onpe-layout-container/onpe-onpe-epres-re/div[1]/div[3]/div[1]/div[1]/div/div/div[4]/select\") )\n"
     ]
    },
    {
     "name": "stdout",
     "output_type": "stream",
     "text": [
      "--TODOS--\n",
      "TEHERAN\n"
     ]
    },
    {
     "name": "stderr",
     "output_type": "stream",
     "text": [
      "<ipython-input-7-1d7d495d847e>:63: DeprecationWarning: find_element_by_* commands are deprecated. Please use find_element() instead\n",
      "  table_path = driver.find_element_by_xpath( \"/html/body/onpe-root/onpe-layout-container/onpe-onpe-epres-re/div[1]/div[4]/div[1]/div[3]/div\" )\n",
      "<ipython-input-7-1d7d495d847e>:22: DeprecationWarning: find_element_by_* commands are deprecated. Please use find_element() instead\n",
      "  pais = Select( driver.find_element_by_xpath(\"/html/body/onpe-root/onpe-layout-container/onpe-onpe-epres-re/div[1]/div[3]/div[1]/div[1]/div/div/div[3]/select\" ) )\n",
      "<ipython-input-7-1d7d495d847e>:37: DeprecationWarning: find_element_by_* commands are deprecated. Please use find_element() instead\n",
      "  est = Select( driver.find_element_by_xpath(\"/html/body/onpe-root/onpe-layout-container/onpe-onpe-epres-re/div[1]/div[3]/div[1]/div[1]/div/div/div[4]/select\" ) )\n",
      "<ipython-input-7-1d7d495d847e>:43: DeprecationWarning: find_element_by_* commands are deprecated. Please use find_element() instead\n",
      "  est = Select( driver.find_element_by_xpath(\"/html/body/onpe-root/onpe-layout-container/onpe-onpe-epres-re/div[1]/div[3]/div[1]/div[1]/div/div/div[4]/select\") )\n",
      "<ipython-input-7-1d7d495d847e>:63: DeprecationWarning: find_element_by_* commands are deprecated. Please use find_element() instead\n",
      "  table_path = driver.find_element_by_xpath( \"/html/body/onpe-root/onpe-layout-container/onpe-onpe-epres-re/div[1]/div[4]/div[1]/div[3]/div\" )\n"
     ]
    },
    {
     "name": "stdout",
     "output_type": "stream",
     "text": [
      "--TODOS--\n",
      "TEL AVIV\n"
     ]
    },
    {
     "name": "stderr",
     "output_type": "stream",
     "text": [
      "<ipython-input-7-1d7d495d847e>:22: DeprecationWarning: find_element_by_* commands are deprecated. Please use find_element() instead\n",
      "  pais = Select( driver.find_element_by_xpath(\"/html/body/onpe-root/onpe-layout-container/onpe-onpe-epres-re/div[1]/div[3]/div[1]/div[1]/div/div/div[3]/select\" ) )\n",
      "<ipython-input-7-1d7d495d847e>:37: DeprecationWarning: find_element_by_* commands are deprecated. Please use find_element() instead\n",
      "  est = Select( driver.find_element_by_xpath(\"/html/body/onpe-root/onpe-layout-container/onpe-onpe-epres-re/div[1]/div[3]/div[1]/div[1]/div/div/div[4]/select\" ) )\n",
      "<ipython-input-7-1d7d495d847e>:43: DeprecationWarning: find_element_by_* commands are deprecated. Please use find_element() instead\n",
      "  est = Select( driver.find_element_by_xpath(\"/html/body/onpe-root/onpe-layout-container/onpe-onpe-epres-re/div[1]/div[3]/div[1]/div[1]/div/div/div[4]/select\") )\n"
     ]
    },
    {
     "name": "stdout",
     "output_type": "stream",
     "text": [
      "--TODOS--\n",
      "FUKUOKA\n"
     ]
    },
    {
     "name": "stderr",
     "output_type": "stream",
     "text": [
      "<ipython-input-7-1d7d495d847e>:63: DeprecationWarning: find_element_by_* commands are deprecated. Please use find_element() instead\n",
      "  table_path = driver.find_element_by_xpath( \"/html/body/onpe-root/onpe-layout-container/onpe-onpe-epres-re/div[1]/div[4]/div[1]/div[3]/div\" )\n",
      "<ipython-input-7-1d7d495d847e>:43: DeprecationWarning: find_element_by_* commands are deprecated. Please use find_element() instead\n",
      "  est = Select( driver.find_element_by_xpath(\"/html/body/onpe-root/onpe-layout-container/onpe-onpe-epres-re/div[1]/div[3]/div[1]/div[1]/div/div/div[4]/select\") )\n",
      "<ipython-input-7-1d7d495d847e>:63: DeprecationWarning: find_element_by_* commands are deprecated. Please use find_element() instead\n",
      "  table_path = driver.find_element_by_xpath( \"/html/body/onpe-root/onpe-layout-container/onpe-onpe-epres-re/div[1]/div[4]/div[1]/div[3]/div\" )\n"
     ]
    },
    {
     "name": "stdout",
     "output_type": "stream",
     "text": [
      "GUNMA\n",
      "HIROSHIMA\n"
     ]
    },
    {
     "name": "stderr",
     "output_type": "stream",
     "text": [
      "<ipython-input-7-1d7d495d847e>:43: DeprecationWarning: find_element_by_* commands are deprecated. Please use find_element() instead\n",
      "  est = Select( driver.find_element_by_xpath(\"/html/body/onpe-root/onpe-layout-container/onpe-onpe-epres-re/div[1]/div[3]/div[1]/div[1]/div/div/div[4]/select\") )\n",
      "<ipython-input-7-1d7d495d847e>:63: DeprecationWarning: find_element_by_* commands are deprecated. Please use find_element() instead\n",
      "  table_path = driver.find_element_by_xpath( \"/html/body/onpe-root/onpe-layout-container/onpe-onpe-epres-re/div[1]/div[4]/div[1]/div[3]/div\" )\n",
      "<ipython-input-7-1d7d495d847e>:43: DeprecationWarning: find_element_by_* commands are deprecated. Please use find_element() instead\n",
      "  est = Select( driver.find_element_by_xpath(\"/html/body/onpe-root/onpe-layout-container/onpe-onpe-epres-re/div[1]/div[3]/div[1]/div[1]/div/div/div[4]/select\") )\n"
     ]
    },
    {
     "name": "stdout",
     "output_type": "stream",
     "text": [
      "KOBE\n",
      "MIE\n"
     ]
    },
    {
     "name": "stderr",
     "output_type": "stream",
     "text": [
      "<ipython-input-7-1d7d495d847e>:63: DeprecationWarning: find_element_by_* commands are deprecated. Please use find_element() instead\n",
      "  table_path = driver.find_element_by_xpath( \"/html/body/onpe-root/onpe-layout-container/onpe-onpe-epres-re/div[1]/div[4]/div[1]/div[3]/div\" )\n",
      "<ipython-input-7-1d7d495d847e>:43: DeprecationWarning: find_element_by_* commands are deprecated. Please use find_element() instead\n",
      "  est = Select( driver.find_element_by_xpath(\"/html/body/onpe-root/onpe-layout-container/onpe-onpe-epres-re/div[1]/div[3]/div[1]/div[1]/div/div/div[4]/select\") )\n",
      "<ipython-input-7-1d7d495d847e>:63: DeprecationWarning: find_element_by_* commands are deprecated. Please use find_element() instead\n",
      "  table_path = driver.find_element_by_xpath( \"/html/body/onpe-root/onpe-layout-container/onpe-onpe-epres-re/div[1]/div[4]/div[1]/div[3]/div\" )\n",
      "<ipython-input-7-1d7d495d847e>:43: DeprecationWarning: find_element_by_* commands are deprecated. Please use find_element() instead\n",
      "  est = Select( driver.find_element_by_xpath(\"/html/body/onpe-root/onpe-layout-container/onpe-onpe-epres-re/div[1]/div[3]/div[1]/div[1]/div/div/div[4]/select\") )\n",
      "<ipython-input-7-1d7d495d847e>:63: DeprecationWarning: find_element_by_* commands are deprecated. Please use find_element() instead\n",
      "  table_path = driver.find_element_by_xpath( \"/html/body/onpe-root/onpe-layout-container/onpe-onpe-epres-re/div[1]/div[4]/div[1]/div[3]/div\" )\n",
      "<ipython-input-7-1d7d495d847e>:43: DeprecationWarning: find_element_by_* commands are deprecated. Please use find_element() instead\n",
      "  est = Select( driver.find_element_by_xpath(\"/html/body/onpe-root/onpe-layout-container/onpe-onpe-epres-re/div[1]/div[3]/div[1]/div[1]/div/div/div[4]/select\") )\n"
     ]
    },
    {
     "name": "stdout",
     "output_type": "stream",
     "text": [
      "NAGOYA\n",
      "OKINAWA\n"
     ]
    },
    {
     "name": "stderr",
     "output_type": "stream",
     "text": [
      "<ipython-input-7-1d7d495d847e>:63: DeprecationWarning: find_element_by_* commands are deprecated. Please use find_element() instead\n",
      "  table_path = driver.find_element_by_xpath( \"/html/body/onpe-root/onpe-layout-container/onpe-onpe-epres-re/div[1]/div[4]/div[1]/div[3]/div\" )\n",
      "<ipython-input-7-1d7d495d847e>:43: DeprecationWarning: find_element_by_* commands are deprecated. Please use find_element() instead\n",
      "  est = Select( driver.find_element_by_xpath(\"/html/body/onpe-root/onpe-layout-container/onpe-onpe-epres-re/div[1]/div[3]/div[1]/div[1]/div/div/div[4]/select\") )\n",
      "<ipython-input-7-1d7d495d847e>:63: DeprecationWarning: find_element_by_* commands are deprecated. Please use find_element() instead\n",
      "  table_path = driver.find_element_by_xpath( \"/html/body/onpe-root/onpe-layout-container/onpe-onpe-epres-re/div[1]/div[4]/div[1]/div[3]/div\" )\n"
     ]
    },
    {
     "name": "stdout",
     "output_type": "stream",
     "text": [
      "SAITAMA\n"
     ]
    },
    {
     "name": "stderr",
     "output_type": "stream",
     "text": [
      "<ipython-input-7-1d7d495d847e>:43: DeprecationWarning: find_element_by_* commands are deprecated. Please use find_element() instead\n",
      "  est = Select( driver.find_element_by_xpath(\"/html/body/onpe-root/onpe-layout-container/onpe-onpe-epres-re/div[1]/div[3]/div[1]/div[1]/div/div/div[4]/select\") )\n",
      "<ipython-input-7-1d7d495d847e>:63: DeprecationWarning: find_element_by_* commands are deprecated. Please use find_element() instead\n",
      "  table_path = driver.find_element_by_xpath( \"/html/body/onpe-root/onpe-layout-container/onpe-onpe-epres-re/div[1]/div[4]/div[1]/div[3]/div\" )\n",
      "<ipython-input-7-1d7d495d847e>:43: DeprecationWarning: find_element_by_* commands are deprecated. Please use find_element() instead\n",
      "  est = Select( driver.find_element_by_xpath(\"/html/body/onpe-root/onpe-layout-container/onpe-onpe-epres-re/div[1]/div[3]/div[1]/div[1]/div/div/div[4]/select\") )\n"
     ]
    },
    {
     "name": "stdout",
     "output_type": "stream",
     "text": [
      "SHIGA\n",
      "SHIZUOKA\n"
     ]
    },
    {
     "name": "stderr",
     "output_type": "stream",
     "text": [
      "<ipython-input-7-1d7d495d847e>:63: DeprecationWarning: find_element_by_* commands are deprecated. Please use find_element() instead\n",
      "  table_path = driver.find_element_by_xpath( \"/html/body/onpe-root/onpe-layout-container/onpe-onpe-epres-re/div[1]/div[4]/div[1]/div[3]/div\" )\n",
      "<ipython-input-7-1d7d495d847e>:43: DeprecationWarning: find_element_by_* commands are deprecated. Please use find_element() instead\n",
      "  est = Select( driver.find_element_by_xpath(\"/html/body/onpe-root/onpe-layout-container/onpe-onpe-epres-re/div[1]/div[3]/div[1]/div[1]/div/div/div[4]/select\") )\n"
     ]
    },
    {
     "name": "stdout",
     "output_type": "stream",
     "text": [
      "TOKIO\n"
     ]
    },
    {
     "name": "stderr",
     "output_type": "stream",
     "text": [
      "<ipython-input-7-1d7d495d847e>:63: DeprecationWarning: find_element_by_* commands are deprecated. Please use find_element() instead\n",
      "  table_path = driver.find_element_by_xpath( \"/html/body/onpe-root/onpe-layout-container/onpe-onpe-epres-re/div[1]/div[4]/div[1]/div[3]/div\" )\n",
      "<ipython-input-7-1d7d495d847e>:22: DeprecationWarning: find_element_by_* commands are deprecated. Please use find_element() instead\n",
      "  pais = Select( driver.find_element_by_xpath(\"/html/body/onpe-root/onpe-layout-container/onpe-onpe-epres-re/div[1]/div[3]/div[1]/div[1]/div/div/div[3]/select\" ) )\n",
      "<ipython-input-7-1d7d495d847e>:37: DeprecationWarning: find_element_by_* commands are deprecated. Please use find_element() instead\n",
      "  est = Select( driver.find_element_by_xpath(\"/html/body/onpe-root/onpe-layout-container/onpe-onpe-epres-re/div[1]/div[3]/div[1]/div[1]/div/div/div[4]/select\" ) )\n",
      "<ipython-input-7-1d7d495d847e>:43: DeprecationWarning: find_element_by_* commands are deprecated. Please use find_element() instead\n",
      "  est = Select( driver.find_element_by_xpath(\"/html/body/onpe-root/onpe-layout-container/onpe-onpe-epres-re/div[1]/div[3]/div[1]/div[1]/div/div/div[4]/select\") )\n"
     ]
    },
    {
     "name": "stdout",
     "output_type": "stream",
     "text": [
      "--TODOS--\n",
      "AMMAN\n"
     ]
    },
    {
     "name": "stderr",
     "output_type": "stream",
     "text": [
      "<ipython-input-7-1d7d495d847e>:63: DeprecationWarning: find_element_by_* commands are deprecated. Please use find_element() instead\n",
      "  table_path = driver.find_element_by_xpath( \"/html/body/onpe-root/onpe-layout-container/onpe-onpe-epres-re/div[1]/div[4]/div[1]/div[3]/div\" )\n",
      "<ipython-input-7-1d7d495d847e>:22: DeprecationWarning: find_element_by_* commands are deprecated. Please use find_element() instead\n",
      "  pais = Select( driver.find_element_by_xpath(\"/html/body/onpe-root/onpe-layout-container/onpe-onpe-epres-re/div[1]/div[3]/div[1]/div[1]/div/div/div[3]/select\" ) )\n",
      "<ipython-input-7-1d7d495d847e>:37: DeprecationWarning: find_element_by_* commands are deprecated. Please use find_element() instead\n",
      "  est = Select( driver.find_element_by_xpath(\"/html/body/onpe-root/onpe-layout-container/onpe-onpe-epres-re/div[1]/div[3]/div[1]/div[1]/div/div/div[4]/select\" ) )\n",
      "<ipython-input-7-1d7d495d847e>:43: DeprecationWarning: find_element_by_* commands are deprecated. Please use find_element() instead\n",
      "  est = Select( driver.find_element_by_xpath(\"/html/body/onpe-root/onpe-layout-container/onpe-onpe-epres-re/div[1]/div[3]/div[1]/div[1]/div/div/div[4]/select\") )\n",
      "<ipython-input-7-1d7d495d847e>:63: DeprecationWarning: find_element_by_* commands are deprecated. Please use find_element() instead\n",
      "  table_path = driver.find_element_by_xpath( \"/html/body/onpe-root/onpe-layout-container/onpe-onpe-epres-re/div[1]/div[4]/div[1]/div[3]/div\" )\n"
     ]
    },
    {
     "name": "stdout",
     "output_type": "stream",
     "text": [
      "--TODOS--\n",
      "AL - KUWAIT\n"
     ]
    },
    {
     "name": "stderr",
     "output_type": "stream",
     "text": [
      "<ipython-input-7-1d7d495d847e>:22: DeprecationWarning: find_element_by_* commands are deprecated. Please use find_element() instead\n",
      "  pais = Select( driver.find_element_by_xpath(\"/html/body/onpe-root/onpe-layout-container/onpe-onpe-epres-re/div[1]/div[3]/div[1]/div[1]/div/div/div[3]/select\" ) )\n",
      "<ipython-input-7-1d7d495d847e>:37: DeprecationWarning: find_element_by_* commands are deprecated. Please use find_element() instead\n",
      "  est = Select( driver.find_element_by_xpath(\"/html/body/onpe-root/onpe-layout-container/onpe-onpe-epres-re/div[1]/div[3]/div[1]/div[1]/div/div/div[4]/select\" ) )\n",
      "<ipython-input-7-1d7d495d847e>:43: DeprecationWarning: find_element_by_* commands are deprecated. Please use find_element() instead\n",
      "  est = Select( driver.find_element_by_xpath(\"/html/body/onpe-root/onpe-layout-container/onpe-onpe-epres-re/div[1]/div[3]/div[1]/div[1]/div/div/div[4]/select\") )\n"
     ]
    },
    {
     "name": "stdout",
     "output_type": "stream",
     "text": [
      "--TODOS--\n",
      "BEIRUT\n"
     ]
    },
    {
     "name": "stderr",
     "output_type": "stream",
     "text": [
      "<ipython-input-7-1d7d495d847e>:63: DeprecationWarning: find_element_by_* commands are deprecated. Please use find_element() instead\n",
      "  table_path = driver.find_element_by_xpath( \"/html/body/onpe-root/onpe-layout-container/onpe-onpe-epres-re/div[1]/div[4]/div[1]/div[3]/div\" )\n",
      "<ipython-input-7-1d7d495d847e>:22: DeprecationWarning: find_element_by_* commands are deprecated. Please use find_element() instead\n",
      "  pais = Select( driver.find_element_by_xpath(\"/html/body/onpe-root/onpe-layout-container/onpe-onpe-epres-re/div[1]/div[3]/div[1]/div[1]/div/div/div[3]/select\" ) )\n",
      "<ipython-input-7-1d7d495d847e>:37: DeprecationWarning: find_element_by_* commands are deprecated. Please use find_element() instead\n",
      "  est = Select( driver.find_element_by_xpath(\"/html/body/onpe-root/onpe-layout-container/onpe-onpe-epres-re/div[1]/div[3]/div[1]/div[1]/div/div/div[4]/select\" ) )\n",
      "<ipython-input-7-1d7d495d847e>:43: DeprecationWarning: find_element_by_* commands are deprecated. Please use find_element() instead\n",
      "  est = Select( driver.find_element_by_xpath(\"/html/body/onpe-root/onpe-layout-container/onpe-onpe-epres-re/div[1]/div[3]/div[1]/div[1]/div/div/div[4]/select\") )\n",
      "<ipython-input-7-1d7d495d847e>:63: DeprecationWarning: find_element_by_* commands are deprecated. Please use find_element() instead\n",
      "  table_path = driver.find_element_by_xpath( \"/html/body/onpe-root/onpe-layout-container/onpe-onpe-epres-re/div[1]/div[4]/div[1]/div[3]/div\" )\n"
     ]
    },
    {
     "name": "stdout",
     "output_type": "stream",
     "text": [
      "--TODOS--\n",
      "KUALA LUMPUR\n"
     ]
    },
    {
     "name": "stderr",
     "output_type": "stream",
     "text": [
      "<ipython-input-7-1d7d495d847e>:22: DeprecationWarning: find_element_by_* commands are deprecated. Please use find_element() instead\n",
      "  pais = Select( driver.find_element_by_xpath(\"/html/body/onpe-root/onpe-layout-container/onpe-onpe-epres-re/div[1]/div[3]/div[1]/div[1]/div/div/div[3]/select\" ) )\n",
      "<ipython-input-7-1d7d495d847e>:37: DeprecationWarning: find_element_by_* commands are deprecated. Please use find_element() instead\n",
      "  est = Select( driver.find_element_by_xpath(\"/html/body/onpe-root/onpe-layout-container/onpe-onpe-epres-re/div[1]/div[3]/div[1]/div[1]/div/div/div[4]/select\" ) )\n",
      "<ipython-input-7-1d7d495d847e>:43: DeprecationWarning: find_element_by_* commands are deprecated. Please use find_element() instead\n",
      "  est = Select( driver.find_element_by_xpath(\"/html/body/onpe-root/onpe-layout-container/onpe-onpe-epres-re/div[1]/div[3]/div[1]/div[1]/div/div/div[4]/select\") )\n"
     ]
    },
    {
     "name": "stdout",
     "output_type": "stream",
     "text": [
      "--TODOS--\n",
      "DOHA\n"
     ]
    },
    {
     "name": "stderr",
     "output_type": "stream",
     "text": [
      "<ipython-input-7-1d7d495d847e>:63: DeprecationWarning: find_element_by_* commands are deprecated. Please use find_element() instead\n",
      "  table_path = driver.find_element_by_xpath( \"/html/body/onpe-root/onpe-layout-container/onpe-onpe-epres-re/div[1]/div[4]/div[1]/div[3]/div\" )\n",
      "<ipython-input-7-1d7d495d847e>:22: DeprecationWarning: find_element_by_* commands are deprecated. Please use find_element() instead\n",
      "  pais = Select( driver.find_element_by_xpath(\"/html/body/onpe-root/onpe-layout-container/onpe-onpe-epres-re/div[1]/div[3]/div[1]/div[1]/div/div/div[3]/select\" ) )\n",
      "<ipython-input-7-1d7d495d847e>:37: DeprecationWarning: find_element_by_* commands are deprecated. Please use find_element() instead\n",
      "  est = Select( driver.find_element_by_xpath(\"/html/body/onpe-root/onpe-layout-container/onpe-onpe-epres-re/div[1]/div[3]/div[1]/div[1]/div/div/div[4]/select\" ) )\n",
      "<ipython-input-7-1d7d495d847e>:43: DeprecationWarning: find_element_by_* commands are deprecated. Please use find_element() instead\n",
      "  est = Select( driver.find_element_by_xpath(\"/html/body/onpe-root/onpe-layout-container/onpe-onpe-epres-re/div[1]/div[3]/div[1]/div[1]/div/div/div[4]/select\") )\n",
      "<ipython-input-7-1d7d495d847e>:63: DeprecationWarning: find_element_by_* commands are deprecated. Please use find_element() instead\n",
      "  table_path = driver.find_element_by_xpath( \"/html/body/onpe-root/onpe-layout-container/onpe-onpe-epres-re/div[1]/div[4]/div[1]/div[3]/div\" )\n"
     ]
    },
    {
     "name": "stdout",
     "output_type": "stream",
     "text": [
      "--TODOS--\n",
      "SEUL\n"
     ]
    },
    {
     "name": "stderr",
     "output_type": "stream",
     "text": [
      "<ipython-input-7-1d7d495d847e>:22: DeprecationWarning: find_element_by_* commands are deprecated. Please use find_element() instead\n",
      "  pais = Select( driver.find_element_by_xpath(\"/html/body/onpe-root/onpe-layout-container/onpe-onpe-epres-re/div[1]/div[3]/div[1]/div[1]/div/div/div[3]/select\" ) )\n",
      "<ipython-input-7-1d7d495d847e>:37: DeprecationWarning: find_element_by_* commands are deprecated. Please use find_element() instead\n",
      "  est = Select( driver.find_element_by_xpath(\"/html/body/onpe-root/onpe-layout-container/onpe-onpe-epres-re/div[1]/div[3]/div[1]/div[1]/div/div/div[4]/select\" ) )\n",
      "<ipython-input-7-1d7d495d847e>:43: DeprecationWarning: find_element_by_* commands are deprecated. Please use find_element() instead\n",
      "  est = Select( driver.find_element_by_xpath(\"/html/body/onpe-root/onpe-layout-container/onpe-onpe-epres-re/div[1]/div[3]/div[1]/div[1]/div/div/div[4]/select\") )\n"
     ]
    },
    {
     "name": "stdout",
     "output_type": "stream",
     "text": [
      "--TODOS--\n",
      "BEIJING (PEKIN)\n"
     ]
    },
    {
     "name": "stderr",
     "output_type": "stream",
     "text": [
      "<ipython-input-7-1d7d495d847e>:63: DeprecationWarning: find_element_by_* commands are deprecated. Please use find_element() instead\n",
      "  table_path = driver.find_element_by_xpath( \"/html/body/onpe-root/onpe-layout-container/onpe-onpe-epres-re/div[1]/div[4]/div[1]/div[3]/div\" )\n",
      "<ipython-input-7-1d7d495d847e>:43: DeprecationWarning: find_element_by_* commands are deprecated. Please use find_element() instead\n",
      "  est = Select( driver.find_element_by_xpath(\"/html/body/onpe-root/onpe-layout-container/onpe-onpe-epres-re/div[1]/div[3]/div[1]/div[1]/div/div/div[4]/select\") )\n",
      "<ipython-input-7-1d7d495d847e>:63: DeprecationWarning: find_element_by_* commands are deprecated. Please use find_element() instead\n",
      "  table_path = driver.find_element_by_xpath( \"/html/body/onpe-root/onpe-layout-container/onpe-onpe-epres-re/div[1]/div[4]/div[1]/div[3]/div\" )\n",
      "<ipython-input-7-1d7d495d847e>:43: DeprecationWarning: find_element_by_* commands are deprecated. Please use find_element() instead\n",
      "  est = Select( driver.find_element_by_xpath(\"/html/body/onpe-root/onpe-layout-container/onpe-onpe-epres-re/div[1]/div[3]/div[1]/div[1]/div/div/div[4]/select\") )\n"
     ]
    },
    {
     "name": "stdout",
     "output_type": "stream",
     "text": [
      "GUANGZHOU\n",
      "HONG KONG\n"
     ]
    },
    {
     "name": "stderr",
     "output_type": "stream",
     "text": [
      "<ipython-input-7-1d7d495d847e>:63: DeprecationWarning: find_element_by_* commands are deprecated. Please use find_element() instead\n",
      "  table_path = driver.find_element_by_xpath( \"/html/body/onpe-root/onpe-layout-container/onpe-onpe-epres-re/div[1]/div[4]/div[1]/div[3]/div\" )\n",
      "<ipython-input-7-1d7d495d847e>:43: DeprecationWarning: find_element_by_* commands are deprecated. Please use find_element() instead\n",
      "  est = Select( driver.find_element_by_xpath(\"/html/body/onpe-root/onpe-layout-container/onpe-onpe-epres-re/div[1]/div[3]/div[1]/div[1]/div/div/div[4]/select\") )\n",
      "<ipython-input-7-1d7d495d847e>:63: DeprecationWarning: find_element_by_* commands are deprecated. Please use find_element() instead\n",
      "  table_path = driver.find_element_by_xpath( \"/html/body/onpe-root/onpe-layout-container/onpe-onpe-epres-re/div[1]/div[4]/div[1]/div[3]/div\" )\n"
     ]
    },
    {
     "name": "stdout",
     "output_type": "stream",
     "text": [
      "SHANGHAI\n"
     ]
    },
    {
     "name": "stderr",
     "output_type": "stream",
     "text": [
      "<ipython-input-7-1d7d495d847e>:22: DeprecationWarning: find_element_by_* commands are deprecated. Please use find_element() instead\n",
      "  pais = Select( driver.find_element_by_xpath(\"/html/body/onpe-root/onpe-layout-container/onpe-onpe-epres-re/div[1]/div[3]/div[1]/div[1]/div/div/div[3]/select\" ) )\n",
      "<ipython-input-7-1d7d495d847e>:37: DeprecationWarning: find_element_by_* commands are deprecated. Please use find_element() instead\n",
      "  est = Select( driver.find_element_by_xpath(\"/html/body/onpe-root/onpe-layout-container/onpe-onpe-epres-re/div[1]/div[3]/div[1]/div[1]/div/div/div[4]/select\" ) )\n",
      "<ipython-input-7-1d7d495d847e>:43: DeprecationWarning: find_element_by_* commands are deprecated. Please use find_element() instead\n",
      "  est = Select( driver.find_element_by_xpath(\"/html/body/onpe-root/onpe-layout-container/onpe-onpe-epres-re/div[1]/div[3]/div[1]/div[1]/div/div/div[4]/select\") )\n"
     ]
    },
    {
     "name": "stdout",
     "output_type": "stream",
     "text": [
      "--TODOS--\n",
      "SINGAPUR\n"
     ]
    },
    {
     "name": "stderr",
     "output_type": "stream",
     "text": [
      "<ipython-input-7-1d7d495d847e>:63: DeprecationWarning: find_element_by_* commands are deprecated. Please use find_element() instead\n",
      "  table_path = driver.find_element_by_xpath( \"/html/body/onpe-root/onpe-layout-container/onpe-onpe-epres-re/div[1]/div[4]/div[1]/div[3]/div\" )\n",
      "<ipython-input-7-1d7d495d847e>:22: DeprecationWarning: find_element_by_* commands are deprecated. Please use find_element() instead\n",
      "  pais = Select( driver.find_element_by_xpath(\"/html/body/onpe-root/onpe-layout-container/onpe-onpe-epres-re/div[1]/div[3]/div[1]/div[1]/div/div/div[3]/select\" ) )\n",
      "<ipython-input-7-1d7d495d847e>:37: DeprecationWarning: find_element_by_* commands are deprecated. Please use find_element() instead\n",
      "  est = Select( driver.find_element_by_xpath(\"/html/body/onpe-root/onpe-layout-container/onpe-onpe-epres-re/div[1]/div[3]/div[1]/div[1]/div/div/div[4]/select\" ) )\n",
      "<ipython-input-7-1d7d495d847e>:43: DeprecationWarning: find_element_by_* commands are deprecated. Please use find_element() instead\n",
      "  est = Select( driver.find_element_by_xpath(\"/html/body/onpe-root/onpe-layout-container/onpe-onpe-epres-re/div[1]/div[3]/div[1]/div[1]/div/div/div[4]/select\") )\n",
      "<ipython-input-7-1d7d495d847e>:63: DeprecationWarning: find_element_by_* commands are deprecated. Please use find_element() instead\n",
      "  table_path = driver.find_element_by_xpath( \"/html/body/onpe-root/onpe-layout-container/onpe-onpe-epres-re/div[1]/div[4]/div[1]/div[3]/div\" )\n",
      "<ipython-input-7-1d7d495d847e>:22: DeprecationWarning: find_element_by_* commands are deprecated. Please use find_element() instead\n",
      "  pais = Select( driver.find_element_by_xpath(\"/html/body/onpe-root/onpe-layout-container/onpe-onpe-epres-re/div[1]/div[3]/div[1]/div[1]/div/div/div[3]/select\" ) )\n"
     ]
    },
    {
     "name": "stdout",
     "output_type": "stream",
     "text": [
      "--TODOS--\n",
      "BANGKOK\n"
     ]
    },
    {
     "name": "stderr",
     "output_type": "stream",
     "text": [
      "<ipython-input-7-1d7d495d847e>:37: DeprecationWarning: find_element_by_* commands are deprecated. Please use find_element() instead\n",
      "  est = Select( driver.find_element_by_xpath(\"/html/body/onpe-root/onpe-layout-container/onpe-onpe-epres-re/div[1]/div[3]/div[1]/div[1]/div/div/div[4]/select\" ) )\n",
      "<ipython-input-7-1d7d495d847e>:43: DeprecationWarning: find_element_by_* commands are deprecated. Please use find_element() instead\n",
      "  est = Select( driver.find_element_by_xpath(\"/html/body/onpe-root/onpe-layout-container/onpe-onpe-epres-re/div[1]/div[3]/div[1]/div[1]/div/div/div[4]/select\") )\n"
     ]
    },
    {
     "name": "stdout",
     "output_type": "stream",
     "text": [
      "--TODOS--\n",
      "ANKARA\n",
      "ESTAMBUL\n"
     ]
    },
    {
     "name": "stderr",
     "output_type": "stream",
     "text": [
      "<ipython-input-7-1d7d495d847e>:63: DeprecationWarning: find_element_by_* commands are deprecated. Please use find_element() instead\n",
      "  table_path = driver.find_element_by_xpath( \"/html/body/onpe-root/onpe-layout-container/onpe-onpe-epres-re/div[1]/div[4]/div[1]/div[3]/div\" )\n",
      "<ipython-input-7-1d7d495d847e>:43: DeprecationWarning: find_element_by_* commands are deprecated. Please use find_element() instead\n",
      "  est = Select( driver.find_element_by_xpath(\"/html/body/onpe-root/onpe-layout-container/onpe-onpe-epres-re/div[1]/div[3]/div[1]/div[1]/div/div/div[4]/select\") )\n",
      "<ipython-input-7-1d7d495d847e>:63: DeprecationWarning: find_element_by_* commands are deprecated. Please use find_element() instead\n",
      "  table_path = driver.find_element_by_xpath( \"/html/body/onpe-root/onpe-layout-container/onpe-onpe-epres-re/div[1]/div[4]/div[1]/div[3]/div\" )\n",
      "<ipython-input-7-1d7d495d847e>:22: DeprecationWarning: find_element_by_* commands are deprecated. Please use find_element() instead\n",
      "  pais = Select( driver.find_element_by_xpath(\"/html/body/onpe-root/onpe-layout-container/onpe-onpe-epres-re/div[1]/div[3]/div[1]/div[1]/div/div/div[3]/select\" ) )\n",
      "<ipython-input-7-1d7d495d847e>:37: DeprecationWarning: find_element_by_* commands are deprecated. Please use find_element() instead\n",
      "  est = Select( driver.find_element_by_xpath(\"/html/body/onpe-root/onpe-layout-container/onpe-onpe-epres-re/div[1]/div[3]/div[1]/div[1]/div/div/div[4]/select\" ) )\n",
      "<ipython-input-7-1d7d495d847e>:43: DeprecationWarning: find_element_by_* commands are deprecated. Please use find_element() instead\n",
      "  est = Select( driver.find_element_by_xpath(\"/html/body/onpe-root/onpe-layout-container/onpe-onpe-epres-re/div[1]/div[3]/div[1]/div[1]/div/div/div[4]/select\") )\n"
     ]
    },
    {
     "name": "stdout",
     "output_type": "stream",
     "text": [
      "--TODOS--\n",
      "HANOI\n"
     ]
    },
    {
     "name": "stderr",
     "output_type": "stream",
     "text": [
      "<ipython-input-7-1d7d495d847e>:63: DeprecationWarning: find_element_by_* commands are deprecated. Please use find_element() instead\n",
      "  table_path = driver.find_element_by_xpath( \"/html/body/onpe-root/onpe-layout-container/onpe-onpe-epres-re/div[1]/div[4]/div[1]/div[3]/div\" )\n",
      "<ipython-input-7-1d7d495d847e>:3: DeprecationWarning: find_element_by_* commands are deprecated. Please use find_element() instead\n",
      "  cont = Select(driver.find_element_by_xpath(\"/html/body/onpe-root/onpe-layout-container/onpe-onpe-epres-re/div[1]/div[3]/div[1]/div[1]/div/div/div[2]/select\" ) )\n",
      "<ipython-input-7-1d7d495d847e>:18: DeprecationWarning: find_element_by_* commands are deprecated. Please use find_element() instead\n",
      "  pais = Select( driver.find_element_by_xpath(\"/html/body/onpe-root/onpe-layout-container/onpe-onpe-epres-re/div[1]/div[3]/div[1]/div[1]/div/div/div[3]/select\"))\n",
      "<ipython-input-7-1d7d495d847e>:22: DeprecationWarning: find_element_by_* commands are deprecated. Please use find_element() instead\n",
      "  pais = Select( driver.find_element_by_xpath(\"/html/body/onpe-root/onpe-layout-container/onpe-onpe-epres-re/div[1]/div[3]/div[1]/div[1]/div/div/div[3]/select\" ) )\n",
      "<ipython-input-7-1d7d495d847e>:37: DeprecationWarning: find_element_by_* commands are deprecated. Please use find_element() instead\n",
      "  est = Select( driver.find_element_by_xpath(\"/html/body/onpe-root/onpe-layout-container/onpe-onpe-epres-re/div[1]/div[3]/div[1]/div[1]/div/div/div[4]/select\" ) )\n",
      "<ipython-input-7-1d7d495d847e>:43: DeprecationWarning: find_element_by_* commands are deprecated. Please use find_element() instead\n",
      "  est = Select( driver.find_element_by_xpath(\"/html/body/onpe-root/onpe-layout-container/onpe-onpe-epres-re/div[1]/div[3]/div[1]/div[1]/div/div/div[4]/select\") )\n"
     ]
    },
    {
     "name": "stdout",
     "output_type": "stream",
     "text": [
      "--TODOS--\n",
      "BERLIN\n"
     ]
    },
    {
     "name": "stderr",
     "output_type": "stream",
     "text": [
      "<ipython-input-7-1d7d495d847e>:63: DeprecationWarning: find_element_by_* commands are deprecated. Please use find_element() instead\n",
      "  table_path = driver.find_element_by_xpath( \"/html/body/onpe-root/onpe-layout-container/onpe-onpe-epres-re/div[1]/div[4]/div[1]/div[3]/div\" )\n",
      "<ipython-input-7-1d7d495d847e>:43: DeprecationWarning: find_element_by_* commands are deprecated. Please use find_element() instead\n",
      "  est = Select( driver.find_element_by_xpath(\"/html/body/onpe-root/onpe-layout-container/onpe-onpe-epres-re/div[1]/div[3]/div[1]/div[1]/div/div/div[4]/select\") )\n",
      "<ipython-input-7-1d7d495d847e>:63: DeprecationWarning: find_element_by_* commands are deprecated. Please use find_element() instead\n",
      "  table_path = driver.find_element_by_xpath( \"/html/body/onpe-root/onpe-layout-container/onpe-onpe-epres-re/div[1]/div[4]/div[1]/div[3]/div\" )\n"
     ]
    },
    {
     "name": "stdout",
     "output_type": "stream",
     "text": [
      "BREMEN\n",
      "COLONIA\n"
     ]
    },
    {
     "name": "stderr",
     "output_type": "stream",
     "text": [
      "<ipython-input-7-1d7d495d847e>:43: DeprecationWarning: find_element_by_* commands are deprecated. Please use find_element() instead\n",
      "  est = Select( driver.find_element_by_xpath(\"/html/body/onpe-root/onpe-layout-container/onpe-onpe-epres-re/div[1]/div[3]/div[1]/div[1]/div/div/div[4]/select\") )\n",
      "<ipython-input-7-1d7d495d847e>:63: DeprecationWarning: find_element_by_* commands are deprecated. Please use find_element() instead\n",
      "  table_path = driver.find_element_by_xpath( \"/html/body/onpe-root/onpe-layout-container/onpe-onpe-epres-re/div[1]/div[4]/div[1]/div[3]/div\" )\n",
      "<ipython-input-7-1d7d495d847e>:43: DeprecationWarning: find_element_by_* commands are deprecated. Please use find_element() instead\n",
      "  est = Select( driver.find_element_by_xpath(\"/html/body/onpe-root/onpe-layout-container/onpe-onpe-epres-re/div[1]/div[3]/div[1]/div[1]/div/div/div[4]/select\") )\n"
     ]
    },
    {
     "name": "stdout",
     "output_type": "stream",
     "text": [
      "FRANKFURT\n",
      "HAMBURGO\n"
     ]
    },
    {
     "name": "stderr",
     "output_type": "stream",
     "text": [
      "<ipython-input-7-1d7d495d847e>:63: DeprecationWarning: find_element_by_* commands are deprecated. Please use find_element() instead\n",
      "  table_path = driver.find_element_by_xpath( \"/html/body/onpe-root/onpe-layout-container/onpe-onpe-epres-re/div[1]/div[4]/div[1]/div[3]/div\" )\n",
      "<ipython-input-7-1d7d495d847e>:43: DeprecationWarning: find_element_by_* commands are deprecated. Please use find_element() instead\n",
      "  est = Select( driver.find_element_by_xpath(\"/html/body/onpe-root/onpe-layout-container/onpe-onpe-epres-re/div[1]/div[3]/div[1]/div[1]/div/div/div[4]/select\") )\n",
      "<ipython-input-7-1d7d495d847e>:63: DeprecationWarning: find_element_by_* commands are deprecated. Please use find_element() instead\n",
      "  table_path = driver.find_element_by_xpath( \"/html/body/onpe-root/onpe-layout-container/onpe-onpe-epres-re/div[1]/div[4]/div[1]/div[3]/div\" )\n",
      "<ipython-input-7-1d7d495d847e>:43: DeprecationWarning: find_element_by_* commands are deprecated. Please use find_element() instead\n",
      "  est = Select( driver.find_element_by_xpath(\"/html/body/onpe-root/onpe-layout-container/onpe-onpe-epres-re/div[1]/div[3]/div[1]/div[1]/div/div/div[4]/select\") )\n"
     ]
    },
    {
     "name": "stdout",
     "output_type": "stream",
     "text": [
      "MUNICH\n"
     ]
    },
    {
     "name": "stderr",
     "output_type": "stream",
     "text": [
      "<ipython-input-7-1d7d495d847e>:63: DeprecationWarning: find_element_by_* commands are deprecated. Please use find_element() instead\n",
      "  table_path = driver.find_element_by_xpath( \"/html/body/onpe-root/onpe-layout-container/onpe-onpe-epres-re/div[1]/div[4]/div[1]/div[3]/div\" )\n",
      "<ipython-input-7-1d7d495d847e>:22: DeprecationWarning: find_element_by_* commands are deprecated. Please use find_element() instead\n",
      "  pais = Select( driver.find_element_by_xpath(\"/html/body/onpe-root/onpe-layout-container/onpe-onpe-epres-re/div[1]/div[3]/div[1]/div[1]/div/div/div[3]/select\" ) )\n",
      "<ipython-input-7-1d7d495d847e>:37: DeprecationWarning: find_element_by_* commands are deprecated. Please use find_element() instead\n",
      "  est = Select( driver.find_element_by_xpath(\"/html/body/onpe-root/onpe-layout-container/onpe-onpe-epres-re/div[1]/div[3]/div[1]/div[1]/div/div/div[4]/select\" ) )\n",
      "<ipython-input-7-1d7d495d847e>:43: DeprecationWarning: find_element_by_* commands are deprecated. Please use find_element() instead\n",
      "  est = Select( driver.find_element_by_xpath(\"/html/body/onpe-root/onpe-layout-container/onpe-onpe-epres-re/div[1]/div[3]/div[1]/div[1]/div/div/div[4]/select\") )\n"
     ]
    },
    {
     "name": "stdout",
     "output_type": "stream",
     "text": [
      "--TODOS--\n",
      "VIENA\n"
     ]
    },
    {
     "name": "stderr",
     "output_type": "stream",
     "text": [
      "<ipython-input-7-1d7d495d847e>:63: DeprecationWarning: find_element_by_* commands are deprecated. Please use find_element() instead\n",
      "  table_path = driver.find_element_by_xpath( \"/html/body/onpe-root/onpe-layout-container/onpe-onpe-epres-re/div[1]/div[4]/div[1]/div[3]/div\" )\n",
      "<ipython-input-7-1d7d495d847e>:22: DeprecationWarning: find_element_by_* commands are deprecated. Please use find_element() instead\n",
      "  pais = Select( driver.find_element_by_xpath(\"/html/body/onpe-root/onpe-layout-container/onpe-onpe-epres-re/div[1]/div[3]/div[1]/div[1]/div/div/div[3]/select\" ) )\n",
      "<ipython-input-7-1d7d495d847e>:37: DeprecationWarning: find_element_by_* commands are deprecated. Please use find_element() instead\n",
      "  est = Select( driver.find_element_by_xpath(\"/html/body/onpe-root/onpe-layout-container/onpe-onpe-epres-re/div[1]/div[3]/div[1]/div[1]/div/div/div[4]/select\" ) )\n",
      "<ipython-input-7-1d7d495d847e>:43: DeprecationWarning: find_element_by_* commands are deprecated. Please use find_element() instead\n",
      "  est = Select( driver.find_element_by_xpath(\"/html/body/onpe-root/onpe-layout-container/onpe-onpe-epres-re/div[1]/div[3]/div[1]/div[1]/div/div/div[4]/select\") )\n",
      "<ipython-input-7-1d7d495d847e>:63: DeprecationWarning: find_element_by_* commands are deprecated. Please use find_element() instead\n",
      "  table_path = driver.find_element_by_xpath( \"/html/body/onpe-root/onpe-layout-container/onpe-onpe-epres-re/div[1]/div[4]/div[1]/div[3]/div\" )\n"
     ]
    },
    {
     "name": "stdout",
     "output_type": "stream",
     "text": [
      "--TODOS--\n",
      "AMBERES\n"
     ]
    },
    {
     "name": "stderr",
     "output_type": "stream",
     "text": [
      "<ipython-input-7-1d7d495d847e>:43: DeprecationWarning: find_element_by_* commands are deprecated. Please use find_element() instead\n",
      "  est = Select( driver.find_element_by_xpath(\"/html/body/onpe-root/onpe-layout-container/onpe-onpe-epres-re/div[1]/div[3]/div[1]/div[1]/div/div/div[4]/select\") )\n",
      "<ipython-input-7-1d7d495d847e>:63: DeprecationWarning: find_element_by_* commands are deprecated. Please use find_element() instead\n",
      "  table_path = driver.find_element_by_xpath( \"/html/body/onpe-root/onpe-layout-container/onpe-onpe-epres-re/div[1]/div[4]/div[1]/div[3]/div\" )\n",
      "<ipython-input-7-1d7d495d847e>:43: DeprecationWarning: find_element_by_* commands are deprecated. Please use find_element() instead\n",
      "  est = Select( driver.find_element_by_xpath(\"/html/body/onpe-root/onpe-layout-container/onpe-onpe-epres-re/div[1]/div[3]/div[1]/div[1]/div/div/div[4]/select\") )\n"
     ]
    },
    {
     "name": "stdout",
     "output_type": "stream",
     "text": [
      "BRUSELAS\n",
      "GANTE\n"
     ]
    },
    {
     "name": "stderr",
     "output_type": "stream",
     "text": [
      "<ipython-input-7-1d7d495d847e>:63: DeprecationWarning: find_element_by_* commands are deprecated. Please use find_element() instead\n",
      "  table_path = driver.find_element_by_xpath( \"/html/body/onpe-root/onpe-layout-container/onpe-onpe-epres-re/div[1]/div[4]/div[1]/div[3]/div\" )\n",
      "<ipython-input-7-1d7d495d847e>:43: DeprecationWarning: find_element_by_* commands are deprecated. Please use find_element() instead\n",
      "  est = Select( driver.find_element_by_xpath(\"/html/body/onpe-root/onpe-layout-container/onpe-onpe-epres-re/div[1]/div[3]/div[1]/div[1]/div/div/div[4]/select\") )\n",
      "<ipython-input-7-1d7d495d847e>:63: DeprecationWarning: find_element_by_* commands are deprecated. Please use find_element() instead\n",
      "  table_path = driver.find_element_by_xpath( \"/html/body/onpe-root/onpe-layout-container/onpe-onpe-epres-re/div[1]/div[4]/div[1]/div[3]/div\" )\n",
      "<ipython-input-7-1d7d495d847e>:22: DeprecationWarning: find_element_by_* commands are deprecated. Please use find_element() instead\n",
      "  pais = Select( driver.find_element_by_xpath(\"/html/body/onpe-root/onpe-layout-container/onpe-onpe-epres-re/div[1]/div[3]/div[1]/div[1]/div/div/div[3]/select\" ) )\n"
     ]
    },
    {
     "name": "stdout",
     "output_type": "stream",
     "text": [
      "LIEJA\n"
     ]
    },
    {
     "name": "stderr",
     "output_type": "stream",
     "text": [
      "<ipython-input-7-1d7d495d847e>:37: DeprecationWarning: find_element_by_* commands are deprecated. Please use find_element() instead\n",
      "  est = Select( driver.find_element_by_xpath(\"/html/body/onpe-root/onpe-layout-container/onpe-onpe-epres-re/div[1]/div[3]/div[1]/div[1]/div/div/div[4]/select\" ) )\n",
      "<ipython-input-7-1d7d495d847e>:43: DeprecationWarning: find_element_by_* commands are deprecated. Please use find_element() instead\n",
      "  est = Select( driver.find_element_by_xpath(\"/html/body/onpe-root/onpe-layout-container/onpe-onpe-epres-re/div[1]/div[3]/div[1]/div[1]/div/div/div[4]/select\") )\n",
      "<ipython-input-7-1d7d495d847e>:63: DeprecationWarning: find_element_by_* commands are deprecated. Please use find_element() instead\n",
      "  table_path = driver.find_element_by_xpath( \"/html/body/onpe-root/onpe-layout-container/onpe-onpe-epres-re/div[1]/div[4]/div[1]/div[3]/div\" )\n"
     ]
    },
    {
     "name": "stdout",
     "output_type": "stream",
     "text": [
      "--TODOS--\n",
      "MINSK\n"
     ]
    },
    {
     "name": "stderr",
     "output_type": "stream",
     "text": [
      "<ipython-input-7-1d7d495d847e>:22: DeprecationWarning: find_element_by_* commands are deprecated. Please use find_element() instead\n",
      "  pais = Select( driver.find_element_by_xpath(\"/html/body/onpe-root/onpe-layout-container/onpe-onpe-epres-re/div[1]/div[3]/div[1]/div[1]/div/div/div[3]/select\" ) )\n",
      "<ipython-input-7-1d7d495d847e>:37: DeprecationWarning: find_element_by_* commands are deprecated. Please use find_element() instead\n",
      "  est = Select( driver.find_element_by_xpath(\"/html/body/onpe-root/onpe-layout-container/onpe-onpe-epres-re/div[1]/div[3]/div[1]/div[1]/div/div/div[4]/select\" ) )\n",
      "<ipython-input-7-1d7d495d847e>:43: DeprecationWarning: find_element_by_* commands are deprecated. Please use find_element() instead\n",
      "  est = Select( driver.find_element_by_xpath(\"/html/body/onpe-root/onpe-layout-container/onpe-onpe-epres-re/div[1]/div[3]/div[1]/div[1]/div/div/div[4]/select\") )\n",
      "<ipython-input-7-1d7d495d847e>:63: DeprecationWarning: find_element_by_* commands are deprecated. Please use find_element() instead\n",
      "  table_path = driver.find_element_by_xpath( \"/html/body/onpe-root/onpe-layout-container/onpe-onpe-epres-re/div[1]/div[4]/div[1]/div[3]/div\" )\n"
     ]
    },
    {
     "name": "stdout",
     "output_type": "stream",
     "text": [
      "--TODOS--\n",
      "ZAGREB\n"
     ]
    },
    {
     "name": "stderr",
     "output_type": "stream",
     "text": [
      "<ipython-input-7-1d7d495d847e>:22: DeprecationWarning: find_element_by_* commands are deprecated. Please use find_element() instead\n",
      "  pais = Select( driver.find_element_by_xpath(\"/html/body/onpe-root/onpe-layout-container/onpe-onpe-epres-re/div[1]/div[3]/div[1]/div[1]/div/div/div[3]/select\" ) )\n",
      "<ipython-input-7-1d7d495d847e>:37: DeprecationWarning: find_element_by_* commands are deprecated. Please use find_element() instead\n",
      "  est = Select( driver.find_element_by_xpath(\"/html/body/onpe-root/onpe-layout-container/onpe-onpe-epres-re/div[1]/div[3]/div[1]/div[1]/div/div/div[4]/select\" ) )\n",
      "<ipython-input-7-1d7d495d847e>:43: DeprecationWarning: find_element_by_* commands are deprecated. Please use find_element() instead\n",
      "  est = Select( driver.find_element_by_xpath(\"/html/body/onpe-root/onpe-layout-container/onpe-onpe-epres-re/div[1]/div[3]/div[1]/div[1]/div/div/div[4]/select\") )\n"
     ]
    },
    {
     "name": "stdout",
     "output_type": "stream",
     "text": [
      "--TODOS--\n",
      "COPENHAGUE\n"
     ]
    },
    {
     "name": "stderr",
     "output_type": "stream",
     "text": [
      "<ipython-input-7-1d7d495d847e>:63: DeprecationWarning: find_element_by_* commands are deprecated. Please use find_element() instead\n",
      "  table_path = driver.find_element_by_xpath( \"/html/body/onpe-root/onpe-layout-container/onpe-onpe-epres-re/div[1]/div[4]/div[1]/div[3]/div\" )\n",
      "<ipython-input-7-1d7d495d847e>:22: DeprecationWarning: find_element_by_* commands are deprecated. Please use find_element() instead\n",
      "  pais = Select( driver.find_element_by_xpath(\"/html/body/onpe-root/onpe-layout-container/onpe-onpe-epres-re/div[1]/div[3]/div[1]/div[1]/div/div/div[3]/select\" ) )\n",
      "<ipython-input-7-1d7d495d847e>:37: DeprecationWarning: find_element_by_* commands are deprecated. Please use find_element() instead\n",
      "  est = Select( driver.find_element_by_xpath(\"/html/body/onpe-root/onpe-layout-container/onpe-onpe-epres-re/div[1]/div[3]/div[1]/div[1]/div/div/div[4]/select\" ) )\n",
      "<ipython-input-7-1d7d495d847e>:43: DeprecationWarning: find_element_by_* commands are deprecated. Please use find_element() instead\n",
      "  est = Select( driver.find_element_by_xpath(\"/html/body/onpe-root/onpe-layout-container/onpe-onpe-epres-re/div[1]/div[3]/div[1]/div[1]/div/div/div[4]/select\") )\n"
     ]
    },
    {
     "name": "stdout",
     "output_type": "stream",
     "text": [
      "--TODOS--\n",
      "ALMERIA\n"
     ]
    },
    {
     "name": "stderr",
     "output_type": "stream",
     "text": [
      "<ipython-input-7-1d7d495d847e>:63: DeprecationWarning: find_element_by_* commands are deprecated. Please use find_element() instead\n",
      "  table_path = driver.find_element_by_xpath( \"/html/body/onpe-root/onpe-layout-container/onpe-onpe-epres-re/div[1]/div[4]/div[1]/div[3]/div\" )\n",
      "<ipython-input-7-1d7d495d847e>:43: DeprecationWarning: find_element_by_* commands are deprecated. Please use find_element() instead\n",
      "  est = Select( driver.find_element_by_xpath(\"/html/body/onpe-root/onpe-layout-container/onpe-onpe-epres-re/div[1]/div[3]/div[1]/div[1]/div/div/div[4]/select\") )\n",
      "<ipython-input-7-1d7d495d847e>:63: DeprecationWarning: find_element_by_* commands are deprecated. Please use find_element() instead\n",
      "  table_path = driver.find_element_by_xpath( \"/html/body/onpe-root/onpe-layout-container/onpe-onpe-epres-re/div[1]/div[4]/div[1]/div[3]/div\" )\n"
     ]
    },
    {
     "name": "stdout",
     "output_type": "stream",
     "text": [
      "BARCELONA\n",
      "BILBAO\n"
     ]
    },
    {
     "name": "stderr",
     "output_type": "stream",
     "text": [
      "<ipython-input-7-1d7d495d847e>:43: DeprecationWarning: find_element_by_* commands are deprecated. Please use find_element() instead\n",
      "  est = Select( driver.find_element_by_xpath(\"/html/body/onpe-root/onpe-layout-container/onpe-onpe-epres-re/div[1]/div[3]/div[1]/div[1]/div/div/div[4]/select\") )\n",
      "<ipython-input-7-1d7d495d847e>:63: DeprecationWarning: find_element_by_* commands are deprecated. Please use find_element() instead\n",
      "  table_path = driver.find_element_by_xpath( \"/html/body/onpe-root/onpe-layout-container/onpe-onpe-epres-re/div[1]/div[4]/div[1]/div[3]/div\" )\n",
      "<ipython-input-7-1d7d495d847e>:43: DeprecationWarning: find_element_by_* commands are deprecated. Please use find_element() instead\n",
      "  est = Select( driver.find_element_by_xpath(\"/html/body/onpe-root/onpe-layout-container/onpe-onpe-epres-re/div[1]/div[3]/div[1]/div[1]/div/div/div[4]/select\") )\n"
     ]
    },
    {
     "name": "stdout",
     "output_type": "stream",
     "text": [
      "LAS PALMAS\n"
     ]
    },
    {
     "name": "stderr",
     "output_type": "stream",
     "text": [
      "<ipython-input-7-1d7d495d847e>:63: DeprecationWarning: find_element_by_* commands are deprecated. Please use find_element() instead\n",
      "  table_path = driver.find_element_by_xpath( \"/html/body/onpe-root/onpe-layout-container/onpe-onpe-epres-re/div[1]/div[4]/div[1]/div[3]/div\" )\n",
      "<ipython-input-7-1d7d495d847e>:43: DeprecationWarning: find_element_by_* commands are deprecated. Please use find_element() instead\n",
      "  est = Select( driver.find_element_by_xpath(\"/html/body/onpe-root/onpe-layout-container/onpe-onpe-epres-re/div[1]/div[3]/div[1]/div[1]/div/div/div[4]/select\") )\n"
     ]
    },
    {
     "name": "stdout",
     "output_type": "stream",
     "text": [
      "MADRID\n"
     ]
    },
    {
     "name": "stderr",
     "output_type": "stream",
     "text": [
      "<ipython-input-7-1d7d495d847e>:63: DeprecationWarning: find_element_by_* commands are deprecated. Please use find_element() instead\n",
      "  table_path = driver.find_element_by_xpath( \"/html/body/onpe-root/onpe-layout-container/onpe-onpe-epres-re/div[1]/div[4]/div[1]/div[3]/div\" )\n",
      "<ipython-input-7-1d7d495d847e>:43: DeprecationWarning: find_element_by_* commands are deprecated. Please use find_element() instead\n",
      "  est = Select( driver.find_element_by_xpath(\"/html/body/onpe-root/onpe-layout-container/onpe-onpe-epres-re/div[1]/div[3]/div[1]/div[1]/div/div/div[4]/select\") )\n"
     ]
    },
    {
     "name": "stdout",
     "output_type": "stream",
     "text": [
      "MALAGA\n"
     ]
    },
    {
     "name": "stderr",
     "output_type": "stream",
     "text": [
      "<ipython-input-7-1d7d495d847e>:63: DeprecationWarning: find_element_by_* commands are deprecated. Please use find_element() instead\n",
      "  table_path = driver.find_element_by_xpath( \"/html/body/onpe-root/onpe-layout-container/onpe-onpe-epres-re/div[1]/div[4]/div[1]/div[3]/div\" )\n",
      "<ipython-input-7-1d7d495d847e>:43: DeprecationWarning: find_element_by_* commands are deprecated. Please use find_element() instead\n",
      "  est = Select( driver.find_element_by_xpath(\"/html/body/onpe-root/onpe-layout-container/onpe-onpe-epres-re/div[1]/div[3]/div[1]/div[1]/div/div/div[4]/select\") )\n",
      "<ipython-input-7-1d7d495d847e>:63: DeprecationWarning: find_element_by_* commands are deprecated. Please use find_element() instead\n",
      "  table_path = driver.find_element_by_xpath( \"/html/body/onpe-root/onpe-layout-container/onpe-onpe-epres-re/div[1]/div[4]/div[1]/div[3]/div\" )\n"
     ]
    },
    {
     "name": "stdout",
     "output_type": "stream",
     "text": [
      "MALLORCA\n",
      "OVIEDO\n"
     ]
    },
    {
     "name": "stderr",
     "output_type": "stream",
     "text": [
      "<ipython-input-7-1d7d495d847e>:43: DeprecationWarning: find_element_by_* commands are deprecated. Please use find_element() instead\n",
      "  est = Select( driver.find_element_by_xpath(\"/html/body/onpe-root/onpe-layout-container/onpe-onpe-epres-re/div[1]/div[3]/div[1]/div[1]/div/div/div[4]/select\") )\n",
      "<ipython-input-7-1d7d495d847e>:63: DeprecationWarning: find_element_by_* commands are deprecated. Please use find_element() instead\n",
      "  table_path = driver.find_element_by_xpath( \"/html/body/onpe-root/onpe-layout-container/onpe-onpe-epres-re/div[1]/div[4]/div[1]/div[3]/div\" )\n",
      "<ipython-input-7-1d7d495d847e>:43: DeprecationWarning: find_element_by_* commands are deprecated. Please use find_element() instead\n",
      "  est = Select( driver.find_element_by_xpath(\"/html/body/onpe-root/onpe-layout-container/onpe-onpe-epres-re/div[1]/div[3]/div[1]/div[1]/div/div/div[4]/select\") )\n",
      "<ipython-input-7-1d7d495d847e>:63: DeprecationWarning: find_element_by_* commands are deprecated. Please use find_element() instead\n",
      "  table_path = driver.find_element_by_xpath( \"/html/body/onpe-root/onpe-layout-container/onpe-onpe-epres-re/div[1]/div[4]/div[1]/div[3]/div\" )\n"
     ]
    },
    {
     "name": "stdout",
     "output_type": "stream",
     "text": [
      "SALAMANCA\n"
     ]
    },
    {
     "name": "stderr",
     "output_type": "stream",
     "text": [
      "<ipython-input-7-1d7d495d847e>:43: DeprecationWarning: find_element_by_* commands are deprecated. Please use find_element() instead\n",
      "  est = Select( driver.find_element_by_xpath(\"/html/body/onpe-root/onpe-layout-container/onpe-onpe-epres-re/div[1]/div[3]/div[1]/div[1]/div/div/div[4]/select\") )\n",
      "<ipython-input-7-1d7d495d847e>:63: DeprecationWarning: find_element_by_* commands are deprecated. Please use find_element() instead\n",
      "  table_path = driver.find_element_by_xpath( \"/html/body/onpe-root/onpe-layout-container/onpe-onpe-epres-re/div[1]/div[4]/div[1]/div[3]/div\" )\n"
     ]
    },
    {
     "name": "stdout",
     "output_type": "stream",
     "text": [
      "SEVILLA\n",
      "TENERIFE\n"
     ]
    },
    {
     "name": "stderr",
     "output_type": "stream",
     "text": [
      "<ipython-input-7-1d7d495d847e>:43: DeprecationWarning: find_element_by_* commands are deprecated. Please use find_element() instead\n",
      "  est = Select( driver.find_element_by_xpath(\"/html/body/onpe-root/onpe-layout-container/onpe-onpe-epres-re/div[1]/div[3]/div[1]/div[1]/div/div/div[4]/select\") )\n",
      "<ipython-input-7-1d7d495d847e>:63: DeprecationWarning: find_element_by_* commands are deprecated. Please use find_element() instead\n",
      "  table_path = driver.find_element_by_xpath( \"/html/body/onpe-root/onpe-layout-container/onpe-onpe-epres-re/div[1]/div[4]/div[1]/div[3]/div\" )\n",
      "<ipython-input-7-1d7d495d847e>:43: DeprecationWarning: find_element_by_* commands are deprecated. Please use find_element() instead\n",
      "  est = Select( driver.find_element_by_xpath(\"/html/body/onpe-root/onpe-layout-container/onpe-onpe-epres-re/div[1]/div[3]/div[1]/div[1]/div/div/div[4]/select\") )\n"
     ]
    },
    {
     "name": "stdout",
     "output_type": "stream",
     "text": [
      "VALENCIA\n"
     ]
    },
    {
     "name": "stderr",
     "output_type": "stream",
     "text": [
      "<ipython-input-7-1d7d495d847e>:63: DeprecationWarning: find_element_by_* commands are deprecated. Please use find_element() instead\n",
      "  table_path = driver.find_element_by_xpath( \"/html/body/onpe-root/onpe-layout-container/onpe-onpe-epres-re/div[1]/div[4]/div[1]/div[3]/div\" )\n",
      "<ipython-input-7-1d7d495d847e>:43: DeprecationWarning: find_element_by_* commands are deprecated. Please use find_element() instead\n",
      "  est = Select( driver.find_element_by_xpath(\"/html/body/onpe-root/onpe-layout-container/onpe-onpe-epres-re/div[1]/div[3]/div[1]/div[1]/div/div/div[4]/select\") )\n"
     ]
    },
    {
     "name": "stdout",
     "output_type": "stream",
     "text": [
      "VIGO\n"
     ]
    },
    {
     "name": "stderr",
     "output_type": "stream",
     "text": [
      "<ipython-input-7-1d7d495d847e>:63: DeprecationWarning: find_element_by_* commands are deprecated. Please use find_element() instead\n",
      "  table_path = driver.find_element_by_xpath( \"/html/body/onpe-root/onpe-layout-container/onpe-onpe-epres-re/div[1]/div[4]/div[1]/div[3]/div\" )\n",
      "<ipython-input-7-1d7d495d847e>:43: DeprecationWarning: find_element_by_* commands are deprecated. Please use find_element() instead\n",
      "  est = Select( driver.find_element_by_xpath(\"/html/body/onpe-root/onpe-layout-container/onpe-onpe-epres-re/div[1]/div[3]/div[1]/div[1]/div/div/div[4]/select\") )\n",
      "<ipython-input-7-1d7d495d847e>:63: DeprecationWarning: find_element_by_* commands are deprecated. Please use find_element() instead\n",
      "  table_path = driver.find_element_by_xpath( \"/html/body/onpe-root/onpe-layout-container/onpe-onpe-epres-re/div[1]/div[4]/div[1]/div[3]/div\" )\n"
     ]
    },
    {
     "name": "stdout",
     "output_type": "stream",
     "text": [
      "ZARAGOZA\n"
     ]
    },
    {
     "name": "stderr",
     "output_type": "stream",
     "text": [
      "<ipython-input-7-1d7d495d847e>:22: DeprecationWarning: find_element_by_* commands are deprecated. Please use find_element() instead\n",
      "  pais = Select( driver.find_element_by_xpath(\"/html/body/onpe-root/onpe-layout-container/onpe-onpe-epres-re/div[1]/div[3]/div[1]/div[1]/div/div/div[3]/select\" ) )\n",
      "<ipython-input-7-1d7d495d847e>:37: DeprecationWarning: find_element_by_* commands are deprecated. Please use find_element() instead\n",
      "  est = Select( driver.find_element_by_xpath(\"/html/body/onpe-root/onpe-layout-container/onpe-onpe-epres-re/div[1]/div[3]/div[1]/div[1]/div/div/div[4]/select\" ) )\n",
      "<ipython-input-7-1d7d495d847e>:43: DeprecationWarning: find_element_by_* commands are deprecated. Please use find_element() instead\n",
      "  est = Select( driver.find_element_by_xpath(\"/html/body/onpe-root/onpe-layout-container/onpe-onpe-epres-re/div[1]/div[3]/div[1]/div[1]/div/div/div[4]/select\") )\n"
     ]
    },
    {
     "name": "stdout",
     "output_type": "stream",
     "text": [
      "--TODOS--\n",
      "HELSINKI\n"
     ]
    },
    {
     "name": "stderr",
     "output_type": "stream",
     "text": [
      "<ipython-input-7-1d7d495d847e>:63: DeprecationWarning: find_element_by_* commands are deprecated. Please use find_element() instead\n",
      "  table_path = driver.find_element_by_xpath( \"/html/body/onpe-root/onpe-layout-container/onpe-onpe-epres-re/div[1]/div[4]/div[1]/div[3]/div\" )\n",
      "<ipython-input-7-1d7d495d847e>:22: DeprecationWarning: find_element_by_* commands are deprecated. Please use find_element() instead\n",
      "  pais = Select( driver.find_element_by_xpath(\"/html/body/onpe-root/onpe-layout-container/onpe-onpe-epres-re/div[1]/div[3]/div[1]/div[1]/div/div/div[3]/select\" ) )\n",
      "<ipython-input-7-1d7d495d847e>:37: DeprecationWarning: find_element_by_* commands are deprecated. Please use find_element() instead\n",
      "  est = Select( driver.find_element_by_xpath(\"/html/body/onpe-root/onpe-layout-container/onpe-onpe-epres-re/div[1]/div[3]/div[1]/div[1]/div/div/div[4]/select\" ) )\n",
      "<ipython-input-7-1d7d495d847e>:43: DeprecationWarning: find_element_by_* commands are deprecated. Please use find_element() instead\n",
      "  est = Select( driver.find_element_by_xpath(\"/html/body/onpe-root/onpe-layout-container/onpe-onpe-epres-re/div[1]/div[3]/div[1]/div[1]/div/div/div[4]/select\") )\n"
     ]
    },
    {
     "name": "stdout",
     "output_type": "stream",
     "text": [
      "--TODOS--\n",
      "BURDEOS\n"
     ]
    },
    {
     "name": "stderr",
     "output_type": "stream",
     "text": [
      "<ipython-input-7-1d7d495d847e>:63: DeprecationWarning: find_element_by_* commands are deprecated. Please use find_element() instead\n",
      "  table_path = driver.find_element_by_xpath( \"/html/body/onpe-root/onpe-layout-container/onpe-onpe-epres-re/div[1]/div[4]/div[1]/div[3]/div\" )\n",
      "<ipython-input-7-1d7d495d847e>:43: DeprecationWarning: find_element_by_* commands are deprecated. Please use find_element() instead\n",
      "  est = Select( driver.find_element_by_xpath(\"/html/body/onpe-root/onpe-layout-container/onpe-onpe-epres-re/div[1]/div[3]/div[1]/div[1]/div/div/div[4]/select\") )\n"
     ]
    },
    {
     "name": "stdout",
     "output_type": "stream",
     "text": [
      "ESTRASBURGO\n"
     ]
    },
    {
     "name": "stderr",
     "output_type": "stream",
     "text": [
      "<ipython-input-7-1d7d495d847e>:63: DeprecationWarning: find_element_by_* commands are deprecated. Please use find_element() instead\n",
      "  table_path = driver.find_element_by_xpath( \"/html/body/onpe-root/onpe-layout-container/onpe-onpe-epres-re/div[1]/div[4]/div[1]/div[3]/div\" )\n",
      "<ipython-input-7-1d7d495d847e>:43: DeprecationWarning: find_element_by_* commands are deprecated. Please use find_element() instead\n",
      "  est = Select( driver.find_element_by_xpath(\"/html/body/onpe-root/onpe-layout-container/onpe-onpe-epres-re/div[1]/div[3]/div[1]/div[1]/div/div/div[4]/select\") )\n"
     ]
    },
    {
     "name": "stdout",
     "output_type": "stream",
     "text": [
      "LYON\n"
     ]
    },
    {
     "name": "stderr",
     "output_type": "stream",
     "text": [
      "<ipython-input-7-1d7d495d847e>:63: DeprecationWarning: find_element_by_* commands are deprecated. Please use find_element() instead\n",
      "  table_path = driver.find_element_by_xpath( \"/html/body/onpe-root/onpe-layout-container/onpe-onpe-epres-re/div[1]/div[4]/div[1]/div[3]/div\" )\n",
      "<ipython-input-7-1d7d495d847e>:43: DeprecationWarning: find_element_by_* commands are deprecated. Please use find_element() instead\n",
      "  est = Select( driver.find_element_by_xpath(\"/html/body/onpe-root/onpe-layout-container/onpe-onpe-epres-re/div[1]/div[3]/div[1]/div[1]/div/div/div[4]/select\") )\n",
      "<ipython-input-7-1d7d495d847e>:63: DeprecationWarning: find_element_by_* commands are deprecated. Please use find_element() instead\n",
      "  table_path = driver.find_element_by_xpath( \"/html/body/onpe-root/onpe-layout-container/onpe-onpe-epres-re/div[1]/div[4]/div[1]/div[3]/div\" )\n",
      "<ipython-input-7-1d7d495d847e>:43: DeprecationWarning: find_element_by_* commands are deprecated. Please use find_element() instead\n",
      "  est = Select( driver.find_element_by_xpath(\"/html/body/onpe-root/onpe-layout-container/onpe-onpe-epres-re/div[1]/div[3]/div[1]/div[1]/div/div/div[4]/select\") )\n"
     ]
    },
    {
     "name": "stdout",
     "output_type": "stream",
     "text": [
      "MARSELLA\n",
      "NIZA\n"
     ]
    },
    {
     "name": "stderr",
     "output_type": "stream",
     "text": [
      "<ipython-input-7-1d7d495d847e>:63: DeprecationWarning: find_element_by_* commands are deprecated. Please use find_element() instead\n",
      "  table_path = driver.find_element_by_xpath( \"/html/body/onpe-root/onpe-layout-container/onpe-onpe-epres-re/div[1]/div[4]/div[1]/div[3]/div\" )\n",
      "<ipython-input-7-1d7d495d847e>:43: DeprecationWarning: find_element_by_* commands are deprecated. Please use find_element() instead\n",
      "  est = Select( driver.find_element_by_xpath(\"/html/body/onpe-root/onpe-layout-container/onpe-onpe-epres-re/div[1]/div[3]/div[1]/div[1]/div/div/div[4]/select\") )\n"
     ]
    },
    {
     "name": "stdout",
     "output_type": "stream",
     "text": [
      "PARIS\n"
     ]
    },
    {
     "name": "stderr",
     "output_type": "stream",
     "text": [
      "<ipython-input-7-1d7d495d847e>:63: DeprecationWarning: find_element_by_* commands are deprecated. Please use find_element() instead\n",
      "  table_path = driver.find_element_by_xpath( \"/html/body/onpe-root/onpe-layout-container/onpe-onpe-epres-re/div[1]/div[4]/div[1]/div[3]/div\" )\n",
      "<ipython-input-7-1d7d495d847e>:43: DeprecationWarning: find_element_by_* commands are deprecated. Please use find_element() instead\n",
      "  est = Select( driver.find_element_by_xpath(\"/html/body/onpe-root/onpe-layout-container/onpe-onpe-epres-re/div[1]/div[3]/div[1]/div[1]/div/div/div[4]/select\") )\n"
     ]
    },
    {
     "name": "stdout",
     "output_type": "stream",
     "text": [
      "TOULOUSE\n"
     ]
    },
    {
     "name": "stderr",
     "output_type": "stream",
     "text": [
      "<ipython-input-7-1d7d495d847e>:63: DeprecationWarning: find_element_by_* commands are deprecated. Please use find_element() instead\n",
      "  table_path = driver.find_element_by_xpath( \"/html/body/onpe-root/onpe-layout-container/onpe-onpe-epres-re/div[1]/div[4]/div[1]/div[3]/div\" )\n",
      "<ipython-input-7-1d7d495d847e>:22: DeprecationWarning: find_element_by_* commands are deprecated. Please use find_element() instead\n",
      "  pais = Select( driver.find_element_by_xpath(\"/html/body/onpe-root/onpe-layout-container/onpe-onpe-epres-re/div[1]/div[3]/div[1]/div[1]/div/div/div[3]/select\" ) )\n",
      "<ipython-input-7-1d7d495d847e>:37: DeprecationWarning: find_element_by_* commands are deprecated. Please use find_element() instead\n",
      "  est = Select( driver.find_element_by_xpath(\"/html/body/onpe-root/onpe-layout-container/onpe-onpe-epres-re/div[1]/div[3]/div[1]/div[1]/div/div/div[4]/select\" ) )\n",
      "<ipython-input-7-1d7d495d847e>:43: DeprecationWarning: find_element_by_* commands are deprecated. Please use find_element() instead\n",
      "  est = Select( driver.find_element_by_xpath(\"/html/body/onpe-root/onpe-layout-container/onpe-onpe-epres-re/div[1]/div[3]/div[1]/div[1]/div/div/div[4]/select\") )\n"
     ]
    },
    {
     "name": "stdout",
     "output_type": "stream",
     "text": [
      "--TODOS--\n",
      "LONDRES\n"
     ]
    },
    {
     "name": "stderr",
     "output_type": "stream",
     "text": [
      "<ipython-input-7-1d7d495d847e>:63: DeprecationWarning: find_element_by_* commands are deprecated. Please use find_element() instead\n",
      "  table_path = driver.find_element_by_xpath( \"/html/body/onpe-root/onpe-layout-container/onpe-onpe-epres-re/div[1]/div[4]/div[1]/div[3]/div\" )\n",
      "<ipython-input-7-1d7d495d847e>:22: DeprecationWarning: find_element_by_* commands are deprecated. Please use find_element() instead\n",
      "  pais = Select( driver.find_element_by_xpath(\"/html/body/onpe-root/onpe-layout-container/onpe-onpe-epres-re/div[1]/div[3]/div[1]/div[1]/div/div/div[3]/select\" ) )\n",
      "<ipython-input-7-1d7d495d847e>:37: DeprecationWarning: find_element_by_* commands are deprecated. Please use find_element() instead\n",
      "  est = Select( driver.find_element_by_xpath(\"/html/body/onpe-root/onpe-layout-container/onpe-onpe-epres-re/div[1]/div[3]/div[1]/div[1]/div/div/div[4]/select\" ) )\n",
      "<ipython-input-7-1d7d495d847e>:43: DeprecationWarning: find_element_by_* commands are deprecated. Please use find_element() instead\n",
      "  est = Select( driver.find_element_by_xpath(\"/html/body/onpe-root/onpe-layout-container/onpe-onpe-epres-re/div[1]/div[3]/div[1]/div[1]/div/div/div[4]/select\") )\n",
      "<ipython-input-7-1d7d495d847e>:63: DeprecationWarning: find_element_by_* commands are deprecated. Please use find_element() instead\n",
      "  table_path = driver.find_element_by_xpath( \"/html/body/onpe-root/onpe-layout-container/onpe-onpe-epres-re/div[1]/div[4]/div[1]/div[3]/div\" )\n"
     ]
    },
    {
     "name": "stdout",
     "output_type": "stream",
     "text": [
      "--TODOS--\n",
      "LUXEMBURGO\n"
     ]
    },
    {
     "name": "stderr",
     "output_type": "stream",
     "text": [
      "<ipython-input-7-1d7d495d847e>:22: DeprecationWarning: find_element_by_* commands are deprecated. Please use find_element() instead\n",
      "  pais = Select( driver.find_element_by_xpath(\"/html/body/onpe-root/onpe-layout-container/onpe-onpe-epres-re/div[1]/div[3]/div[1]/div[1]/div/div/div[3]/select\" ) )\n",
      "<ipython-input-7-1d7d495d847e>:37: DeprecationWarning: find_element_by_* commands are deprecated. Please use find_element() instead\n",
      "  est = Select( driver.find_element_by_xpath(\"/html/body/onpe-root/onpe-layout-container/onpe-onpe-epres-re/div[1]/div[3]/div[1]/div[1]/div/div/div[4]/select\" ) )\n",
      "<ipython-input-7-1d7d495d847e>:43: DeprecationWarning: find_element_by_* commands are deprecated. Please use find_element() instead\n",
      "  est = Select( driver.find_element_by_xpath(\"/html/body/onpe-root/onpe-layout-container/onpe-onpe-epres-re/div[1]/div[3]/div[1]/div[1]/div/div/div[4]/select\") )\n"
     ]
    },
    {
     "name": "stdout",
     "output_type": "stream",
     "text": [
      "--TODOS--\n",
      "ATENAS\n"
     ]
    },
    {
     "name": "stderr",
     "output_type": "stream",
     "text": [
      "<ipython-input-7-1d7d495d847e>:63: DeprecationWarning: find_element_by_* commands are deprecated. Please use find_element() instead\n",
      "  table_path = driver.find_element_by_xpath( \"/html/body/onpe-root/onpe-layout-container/onpe-onpe-epres-re/div[1]/div[4]/div[1]/div[3]/div\" )\n",
      "<ipython-input-7-1d7d495d847e>:43: DeprecationWarning: find_element_by_* commands are deprecated. Please use find_element() instead\n",
      "  est = Select( driver.find_element_by_xpath(\"/html/body/onpe-root/onpe-layout-container/onpe-onpe-epres-re/div[1]/div[3]/div[1]/div[1]/div/div/div[4]/select\") )\n"
     ]
    },
    {
     "name": "stdout",
     "output_type": "stream",
     "text": [
      "SALONICA\n"
     ]
    },
    {
     "name": "stderr",
     "output_type": "stream",
     "text": [
      "<ipython-input-7-1d7d495d847e>:63: DeprecationWarning: find_element_by_* commands are deprecated. Please use find_element() instead\n",
      "  table_path = driver.find_element_by_xpath( \"/html/body/onpe-root/onpe-layout-container/onpe-onpe-epres-re/div[1]/div[4]/div[1]/div[3]/div\" )\n",
      "<ipython-input-7-1d7d495d847e>:22: DeprecationWarning: find_element_by_* commands are deprecated. Please use find_element() instead\n",
      "  pais = Select( driver.find_element_by_xpath(\"/html/body/onpe-root/onpe-layout-container/onpe-onpe-epres-re/div[1]/div[3]/div[1]/div[1]/div/div/div[3]/select\" ) )\n",
      "<ipython-input-7-1d7d495d847e>:37: DeprecationWarning: find_element_by_* commands are deprecated. Please use find_element() instead\n",
      "  est = Select( driver.find_element_by_xpath(\"/html/body/onpe-root/onpe-layout-container/onpe-onpe-epres-re/div[1]/div[3]/div[1]/div[1]/div/div/div[4]/select\" ) )\n",
      "<ipython-input-7-1d7d495d847e>:43: DeprecationWarning: find_element_by_* commands are deprecated. Please use find_element() instead\n",
      "  est = Select( driver.find_element_by_xpath(\"/html/body/onpe-root/onpe-layout-container/onpe-onpe-epres-re/div[1]/div[3]/div[1]/div[1]/div/div/div[4]/select\") )\n"
     ]
    },
    {
     "name": "stdout",
     "output_type": "stream",
     "text": [
      "--TODOS--\n",
      "AMSTERDAM\n"
     ]
    },
    {
     "name": "stderr",
     "output_type": "stream",
     "text": [
      "<ipython-input-7-1d7d495d847e>:63: DeprecationWarning: find_element_by_* commands are deprecated. Please use find_element() instead\n",
      "  table_path = driver.find_element_by_xpath( \"/html/body/onpe-root/onpe-layout-container/onpe-onpe-epres-re/div[1]/div[4]/div[1]/div[3]/div\" )\n",
      "<ipython-input-7-1d7d495d847e>:22: DeprecationWarning: find_element_by_* commands are deprecated. Please use find_element() instead\n",
      "  pais = Select( driver.find_element_by_xpath(\"/html/body/onpe-root/onpe-layout-container/onpe-onpe-epres-re/div[1]/div[3]/div[1]/div[1]/div/div/div[3]/select\" ) )\n",
      "<ipython-input-7-1d7d495d847e>:37: DeprecationWarning: find_element_by_* commands are deprecated. Please use find_element() instead\n",
      "  est = Select( driver.find_element_by_xpath(\"/html/body/onpe-root/onpe-layout-container/onpe-onpe-epres-re/div[1]/div[3]/div[1]/div[1]/div/div/div[4]/select\" ) )\n",
      "<ipython-input-7-1d7d495d847e>:43: DeprecationWarning: find_element_by_* commands are deprecated. Please use find_element() instead\n",
      "  est = Select( driver.find_element_by_xpath(\"/html/body/onpe-root/onpe-layout-container/onpe-onpe-epres-re/div[1]/div[3]/div[1]/div[1]/div/div/div[4]/select\") )\n"
     ]
    },
    {
     "name": "stdout",
     "output_type": "stream",
     "text": [
      "--TODOS--\n",
      "BUDAPEST\n"
     ]
    },
    {
     "name": "stderr",
     "output_type": "stream",
     "text": [
      "<ipython-input-7-1d7d495d847e>:63: DeprecationWarning: find_element_by_* commands are deprecated. Please use find_element() instead\n",
      "  table_path = driver.find_element_by_xpath( \"/html/body/onpe-root/onpe-layout-container/onpe-onpe-epres-re/div[1]/div[4]/div[1]/div[3]/div\" )\n",
      "<ipython-input-7-1d7d495d847e>:22: DeprecationWarning: find_element_by_* commands are deprecated. Please use find_element() instead\n",
      "  pais = Select( driver.find_element_by_xpath(\"/html/body/onpe-root/onpe-layout-container/onpe-onpe-epres-re/div[1]/div[3]/div[1]/div[1]/div/div/div[3]/select\" ) )\n",
      "<ipython-input-7-1d7d495d847e>:37: DeprecationWarning: find_element_by_* commands are deprecated. Please use find_element() instead\n",
      "  est = Select( driver.find_element_by_xpath(\"/html/body/onpe-root/onpe-layout-container/onpe-onpe-epres-re/div[1]/div[3]/div[1]/div[1]/div/div/div[4]/select\" ) )\n",
      "<ipython-input-7-1d7d495d847e>:43: DeprecationWarning: find_element_by_* commands are deprecated. Please use find_element() instead\n",
      "  est = Select( driver.find_element_by_xpath(\"/html/body/onpe-root/onpe-layout-container/onpe-onpe-epres-re/div[1]/div[3]/div[1]/div[1]/div/div/div[4]/select\") )\n"
     ]
    },
    {
     "name": "stdout",
     "output_type": "stream",
     "text": [
      "--TODOS--\n",
      "DUBLIN\n"
     ]
    },
    {
     "name": "stderr",
     "output_type": "stream",
     "text": [
      "<ipython-input-7-1d7d495d847e>:63: DeprecationWarning: find_element_by_* commands are deprecated. Please use find_element() instead\n",
      "  table_path = driver.find_element_by_xpath( \"/html/body/onpe-root/onpe-layout-container/onpe-onpe-epres-re/div[1]/div[4]/div[1]/div[3]/div\" )\n",
      "<ipython-input-7-1d7d495d847e>:22: DeprecationWarning: find_element_by_* commands are deprecated. Please use find_element() instead\n",
      "  pais = Select( driver.find_element_by_xpath(\"/html/body/onpe-root/onpe-layout-container/onpe-onpe-epres-re/div[1]/div[3]/div[1]/div[1]/div/div/div[3]/select\" ) )\n",
      "<ipython-input-7-1d7d495d847e>:37: DeprecationWarning: find_element_by_* commands are deprecated. Please use find_element() instead\n",
      "  est = Select( driver.find_element_by_xpath(\"/html/body/onpe-root/onpe-layout-container/onpe-onpe-epres-re/div[1]/div[3]/div[1]/div[1]/div/div/div[4]/select\" ) )\n",
      "<ipython-input-7-1d7d495d847e>:43: DeprecationWarning: find_element_by_* commands are deprecated. Please use find_element() instead\n",
      "  est = Select( driver.find_element_by_xpath(\"/html/body/onpe-root/onpe-layout-container/onpe-onpe-epres-re/div[1]/div[3]/div[1]/div[1]/div/div/div[4]/select\") )\n"
     ]
    },
    {
     "name": "stdout",
     "output_type": "stream",
     "text": [
      "--TODOS--\n",
      "BOLONIA\n"
     ]
    },
    {
     "name": "stderr",
     "output_type": "stream",
     "text": [
      "<ipython-input-7-1d7d495d847e>:63: DeprecationWarning: find_element_by_* commands are deprecated. Please use find_element() instead\n",
      "  table_path = driver.find_element_by_xpath( \"/html/body/onpe-root/onpe-layout-container/onpe-onpe-epres-re/div[1]/div[4]/div[1]/div[3]/div\" )\n",
      "<ipython-input-7-1d7d495d847e>:43: DeprecationWarning: find_element_by_* commands are deprecated. Please use find_element() instead\n",
      "  est = Select( driver.find_element_by_xpath(\"/html/body/onpe-root/onpe-layout-container/onpe-onpe-epres-re/div[1]/div[3]/div[1]/div[1]/div/div/div[4]/select\") )\n",
      "<ipython-input-7-1d7d495d847e>:63: DeprecationWarning: find_element_by_* commands are deprecated. Please use find_element() instead\n",
      "  table_path = driver.find_element_by_xpath( \"/html/body/onpe-root/onpe-layout-container/onpe-onpe-epres-re/div[1]/div[4]/div[1]/div[3]/div\" )\n"
     ]
    },
    {
     "name": "stdout",
     "output_type": "stream",
     "text": [
      "FLORENCIA\n",
      "GENOVA\n"
     ]
    },
    {
     "name": "stderr",
     "output_type": "stream",
     "text": [
      "<ipython-input-7-1d7d495d847e>:43: DeprecationWarning: find_element_by_* commands are deprecated. Please use find_element() instead\n",
      "  est = Select( driver.find_element_by_xpath(\"/html/body/onpe-root/onpe-layout-container/onpe-onpe-epres-re/div[1]/div[3]/div[1]/div[1]/div/div/div[4]/select\") )\n",
      "<ipython-input-7-1d7d495d847e>:63: DeprecationWarning: find_element_by_* commands are deprecated. Please use find_element() instead\n",
      "  table_path = driver.find_element_by_xpath( \"/html/body/onpe-root/onpe-layout-container/onpe-onpe-epres-re/div[1]/div[4]/div[1]/div[3]/div\" )\n",
      "<ipython-input-7-1d7d495d847e>:43: DeprecationWarning: find_element_by_* commands are deprecated. Please use find_element() instead\n",
      "  est = Select( driver.find_element_by_xpath(\"/html/body/onpe-root/onpe-layout-container/onpe-onpe-epres-re/div[1]/div[3]/div[1]/div[1]/div/div/div[4]/select\") )\n"
     ]
    },
    {
     "name": "stdout",
     "output_type": "stream",
     "text": [
      "MARCAS\n",
      "MILAN\n"
     ]
    },
    {
     "name": "stderr",
     "output_type": "stream",
     "text": [
      "<ipython-input-7-1d7d495d847e>:63: DeprecationWarning: find_element_by_* commands are deprecated. Please use find_element() instead\n",
      "  table_path = driver.find_element_by_xpath( \"/html/body/onpe-root/onpe-layout-container/onpe-onpe-epres-re/div[1]/div[4]/div[1]/div[3]/div\" )\n",
      "<ipython-input-7-1d7d495d847e>:43: DeprecationWarning: find_element_by_* commands are deprecated. Please use find_element() instead\n",
      "  est = Select( driver.find_element_by_xpath(\"/html/body/onpe-root/onpe-layout-container/onpe-onpe-epres-re/div[1]/div[3]/div[1]/div[1]/div/div/div[4]/select\") )\n",
      "<ipython-input-7-1d7d495d847e>:63: DeprecationWarning: find_element_by_* commands are deprecated. Please use find_element() instead\n",
      "  table_path = driver.find_element_by_xpath( \"/html/body/onpe-root/onpe-layout-container/onpe-onpe-epres-re/div[1]/div[4]/div[1]/div[3]/div\" )\n",
      "<ipython-input-7-1d7d495d847e>:43: DeprecationWarning: find_element_by_* commands are deprecated. Please use find_element() instead\n",
      "  est = Select( driver.find_element_by_xpath(\"/html/body/onpe-root/onpe-layout-container/onpe-onpe-epres-re/div[1]/div[3]/div[1]/div[1]/div/div/div[4]/select\") )\n",
      "<ipython-input-7-1d7d495d847e>:63: DeprecationWarning: find_element_by_* commands are deprecated. Please use find_element() instead\n",
      "  table_path = driver.find_element_by_xpath( \"/html/body/onpe-root/onpe-layout-container/onpe-onpe-epres-re/div[1]/div[4]/div[1]/div[3]/div\" )\n",
      "<ipython-input-7-1d7d495d847e>:43: DeprecationWarning: find_element_by_* commands are deprecated. Please use find_element() instead\n",
      "  est = Select( driver.find_element_by_xpath(\"/html/body/onpe-root/onpe-layout-container/onpe-onpe-epres-re/div[1]/div[3]/div[1]/div[1]/div/div/div[4]/select\") )\n"
     ]
    },
    {
     "name": "stdout",
     "output_type": "stream",
     "text": [
      "NAPOLES\n",
      "PERUGIA\n"
     ]
    },
    {
     "name": "stderr",
     "output_type": "stream",
     "text": [
      "<ipython-input-7-1d7d495d847e>:63: DeprecationWarning: find_element_by_* commands are deprecated. Please use find_element() instead\n",
      "  table_path = driver.find_element_by_xpath( \"/html/body/onpe-root/onpe-layout-container/onpe-onpe-epres-re/div[1]/div[4]/div[1]/div[3]/div\" )\n",
      "<ipython-input-7-1d7d495d847e>:43: DeprecationWarning: find_element_by_* commands are deprecated. Please use find_element() instead\n",
      "  est = Select( driver.find_element_by_xpath(\"/html/body/onpe-root/onpe-layout-container/onpe-onpe-epres-re/div[1]/div[3]/div[1]/div[1]/div/div/div[4]/select\") )\n"
     ]
    },
    {
     "name": "stdout",
     "output_type": "stream",
     "text": [
      "ROMA\n"
     ]
    },
    {
     "name": "stderr",
     "output_type": "stream",
     "text": [
      "<ipython-input-7-1d7d495d847e>:63: DeprecationWarning: find_element_by_* commands are deprecated. Please use find_element() instead\n",
      "  table_path = driver.find_element_by_xpath( \"/html/body/onpe-root/onpe-layout-container/onpe-onpe-epres-re/div[1]/div[4]/div[1]/div[3]/div\" )\n",
      "<ipython-input-7-1d7d495d847e>:43: DeprecationWarning: find_element_by_* commands are deprecated. Please use find_element() instead\n",
      "  est = Select( driver.find_element_by_xpath(\"/html/body/onpe-root/onpe-layout-container/onpe-onpe-epres-re/div[1]/div[3]/div[1]/div[1]/div/div/div[4]/select\") )\n"
     ]
    },
    {
     "name": "stdout",
     "output_type": "stream",
     "text": [
      "TRIESTE\n",
      "TURIN\n"
     ]
    },
    {
     "name": "stderr",
     "output_type": "stream",
     "text": [
      "<ipython-input-7-1d7d495d847e>:63: DeprecationWarning: find_element_by_* commands are deprecated. Please use find_element() instead\n",
      "  table_path = driver.find_element_by_xpath( \"/html/body/onpe-root/onpe-layout-container/onpe-onpe-epres-re/div[1]/div[4]/div[1]/div[3]/div\" )\n",
      "<ipython-input-7-1d7d495d847e>:43: DeprecationWarning: find_element_by_* commands are deprecated. Please use find_element() instead\n",
      "  est = Select( driver.find_element_by_xpath(\"/html/body/onpe-root/onpe-layout-container/onpe-onpe-epres-re/div[1]/div[3]/div[1]/div[1]/div/div/div[4]/select\") )\n",
      "<ipython-input-7-1d7d495d847e>:63: DeprecationWarning: find_element_by_* commands are deprecated. Please use find_element() instead\n",
      "  table_path = driver.find_element_by_xpath( \"/html/body/onpe-root/onpe-layout-container/onpe-onpe-epres-re/div[1]/div[4]/div[1]/div[3]/div\" )\n",
      "<ipython-input-7-1d7d495d847e>:22: DeprecationWarning: find_element_by_* commands are deprecated. Please use find_element() instead\n",
      "  pais = Select( driver.find_element_by_xpath(\"/html/body/onpe-root/onpe-layout-container/onpe-onpe-epres-re/div[1]/div[3]/div[1]/div[1]/div/div/div[3]/select\" ) )\n",
      "<ipython-input-7-1d7d495d847e>:37: DeprecationWarning: find_element_by_* commands are deprecated. Please use find_element() instead\n",
      "  est = Select( driver.find_element_by_xpath(\"/html/body/onpe-root/onpe-layout-container/onpe-onpe-epres-re/div[1]/div[3]/div[1]/div[1]/div/div/div[4]/select\" ) )\n",
      "<ipython-input-7-1d7d495d847e>:43: DeprecationWarning: find_element_by_* commands are deprecated. Please use find_element() instead\n",
      "  est = Select( driver.find_element_by_xpath(\"/html/body/onpe-root/onpe-layout-container/onpe-onpe-epres-re/div[1]/div[3]/div[1]/div[1]/div/div/div[4]/select\") )\n"
     ]
    },
    {
     "name": "stdout",
     "output_type": "stream",
     "text": [
      "--TODOS--\n",
      "SKOPJE\n"
     ]
    },
    {
     "name": "stderr",
     "output_type": "stream",
     "text": [
      "<ipython-input-7-1d7d495d847e>:63: DeprecationWarning: find_element_by_* commands are deprecated. Please use find_element() instead\n",
      "  table_path = driver.find_element_by_xpath( \"/html/body/onpe-root/onpe-layout-container/onpe-onpe-epres-re/div[1]/div[4]/div[1]/div[3]/div\" )\n",
      "<ipython-input-7-1d7d495d847e>:22: DeprecationWarning: find_element_by_* commands are deprecated. Please use find_element() instead\n",
      "  pais = Select( driver.find_element_by_xpath(\"/html/body/onpe-root/onpe-layout-container/onpe-onpe-epres-re/div[1]/div[3]/div[1]/div[1]/div/div/div[3]/select\" ) )\n",
      "<ipython-input-7-1d7d495d847e>:37: DeprecationWarning: find_element_by_* commands are deprecated. Please use find_element() instead\n",
      "  est = Select( driver.find_element_by_xpath(\"/html/body/onpe-root/onpe-layout-container/onpe-onpe-epres-re/div[1]/div[3]/div[1]/div[1]/div/div/div[4]/select\" ) )\n",
      "<ipython-input-7-1d7d495d847e>:43: DeprecationWarning: find_element_by_* commands are deprecated. Please use find_element() instead\n",
      "  est = Select( driver.find_element_by_xpath(\"/html/body/onpe-root/onpe-layout-container/onpe-onpe-epres-re/div[1]/div[3]/div[1]/div[1]/div/div/div[4]/select\") )\n"
     ]
    },
    {
     "name": "stdout",
     "output_type": "stream",
     "text": [
      "--TODOS--\n",
      "OSLO\n"
     ]
    },
    {
     "name": "stderr",
     "output_type": "stream",
     "text": [
      "<ipython-input-7-1d7d495d847e>:63: DeprecationWarning: find_element_by_* commands are deprecated. Please use find_element() instead\n",
      "  table_path = driver.find_element_by_xpath( \"/html/body/onpe-root/onpe-layout-container/onpe-onpe-epres-re/div[1]/div[4]/div[1]/div[3]/div\" )\n",
      "<ipython-input-7-1d7d495d847e>:22: DeprecationWarning: find_element_by_* commands are deprecated. Please use find_element() instead\n",
      "  pais = Select( driver.find_element_by_xpath(\"/html/body/onpe-root/onpe-layout-container/onpe-onpe-epres-re/div[1]/div[3]/div[1]/div[1]/div/div/div[3]/select\" ) )\n",
      "<ipython-input-7-1d7d495d847e>:37: DeprecationWarning: find_element_by_* commands are deprecated. Please use find_element() instead\n",
      "  est = Select( driver.find_element_by_xpath(\"/html/body/onpe-root/onpe-layout-container/onpe-onpe-epres-re/div[1]/div[3]/div[1]/div[1]/div/div/div[4]/select\" ) )\n",
      "<ipython-input-7-1d7d495d847e>:43: DeprecationWarning: find_element_by_* commands are deprecated. Please use find_element() instead\n",
      "  est = Select( driver.find_element_by_xpath(\"/html/body/onpe-root/onpe-layout-container/onpe-onpe-epres-re/div[1]/div[3]/div[1]/div[1]/div/div/div[4]/select\") )\n"
     ]
    },
    {
     "name": "stdout",
     "output_type": "stream",
     "text": [
      "--TODOS--\n",
      "VARSOVIA\n"
     ]
    },
    {
     "name": "stderr",
     "output_type": "stream",
     "text": [
      "<ipython-input-7-1d7d495d847e>:63: DeprecationWarning: find_element_by_* commands are deprecated. Please use find_element() instead\n",
      "  table_path = driver.find_element_by_xpath( \"/html/body/onpe-root/onpe-layout-container/onpe-onpe-epres-re/div[1]/div[4]/div[1]/div[3]/div\" )\n",
      "<ipython-input-7-1d7d495d847e>:22: DeprecationWarning: find_element_by_* commands are deprecated. Please use find_element() instead\n",
      "  pais = Select( driver.find_element_by_xpath(\"/html/body/onpe-root/onpe-layout-container/onpe-onpe-epres-re/div[1]/div[3]/div[1]/div[1]/div/div/div[3]/select\" ) )\n",
      "<ipython-input-7-1d7d495d847e>:37: DeprecationWarning: find_element_by_* commands are deprecated. Please use find_element() instead\n",
      "  est = Select( driver.find_element_by_xpath(\"/html/body/onpe-root/onpe-layout-container/onpe-onpe-epres-re/div[1]/div[3]/div[1]/div[1]/div/div/div[4]/select\" ) )\n",
      "<ipython-input-7-1d7d495d847e>:43: DeprecationWarning: find_element_by_* commands are deprecated. Please use find_element() instead\n",
      "  est = Select( driver.find_element_by_xpath(\"/html/body/onpe-root/onpe-layout-container/onpe-onpe-epres-re/div[1]/div[3]/div[1]/div[1]/div/div/div[4]/select\") )\n"
     ]
    },
    {
     "name": "stdout",
     "output_type": "stream",
     "text": [
      "--TODOS--\n",
      "LISBOA\n"
     ]
    },
    {
     "name": "stderr",
     "output_type": "stream",
     "text": [
      "<ipython-input-7-1d7d495d847e>:63: DeprecationWarning: find_element_by_* commands are deprecated. Please use find_element() instead\n",
      "  table_path = driver.find_element_by_xpath( \"/html/body/onpe-root/onpe-layout-container/onpe-onpe-epres-re/div[1]/div[4]/div[1]/div[3]/div\" )\n",
      "<ipython-input-7-1d7d495d847e>:22: DeprecationWarning: find_element_by_* commands are deprecated. Please use find_element() instead\n",
      "  pais = Select( driver.find_element_by_xpath(\"/html/body/onpe-root/onpe-layout-container/onpe-onpe-epres-re/div[1]/div[3]/div[1]/div[1]/div/div/div[3]/select\" ) )\n",
      "<ipython-input-7-1d7d495d847e>:37: DeprecationWarning: find_element_by_* commands are deprecated. Please use find_element() instead\n",
      "  est = Select( driver.find_element_by_xpath(\"/html/body/onpe-root/onpe-layout-container/onpe-onpe-epres-re/div[1]/div[3]/div[1]/div[1]/div/div/div[4]/select\" ) )\n",
      "<ipython-input-7-1d7d495d847e>:43: DeprecationWarning: find_element_by_* commands are deprecated. Please use find_element() instead\n",
      "  est = Select( driver.find_element_by_xpath(\"/html/body/onpe-root/onpe-layout-container/onpe-onpe-epres-re/div[1]/div[3]/div[1]/div[1]/div/div/div[4]/select\") )\n",
      "<ipython-input-7-1d7d495d847e>:63: DeprecationWarning: find_element_by_* commands are deprecated. Please use find_element() instead\n",
      "  table_path = driver.find_element_by_xpath( \"/html/body/onpe-root/onpe-layout-container/onpe-onpe-epres-re/div[1]/div[4]/div[1]/div[3]/div\" )\n"
     ]
    },
    {
     "name": "stdout",
     "output_type": "stream",
     "text": [
      "--TODOS--\n",
      "ANDORRA LA VELLA\n"
     ]
    },
    {
     "name": "stderr",
     "output_type": "stream",
     "text": [
      "<ipython-input-7-1d7d495d847e>:22: DeprecationWarning: find_element_by_* commands are deprecated. Please use find_element() instead\n",
      "  pais = Select( driver.find_element_by_xpath(\"/html/body/onpe-root/onpe-layout-container/onpe-onpe-epres-re/div[1]/div[3]/div[1]/div[1]/div/div/div[3]/select\" ) )\n",
      "<ipython-input-7-1d7d495d847e>:37: DeprecationWarning: find_element_by_* commands are deprecated. Please use find_element() instead\n",
      "  est = Select( driver.find_element_by_xpath(\"/html/body/onpe-root/onpe-layout-container/onpe-onpe-epres-re/div[1]/div[3]/div[1]/div[1]/div/div/div[4]/select\" ) )\n",
      "<ipython-input-7-1d7d495d847e>:43: DeprecationWarning: find_element_by_* commands are deprecated. Please use find_element() instead\n",
      "  est = Select( driver.find_element_by_xpath(\"/html/body/onpe-root/onpe-layout-container/onpe-onpe-epres-re/div[1]/div[3]/div[1]/div[1]/div/div/div[4]/select\") )\n"
     ]
    },
    {
     "name": "stdout",
     "output_type": "stream",
     "text": [
      "--TODOS--\n",
      "PRAGA\n"
     ]
    },
    {
     "name": "stderr",
     "output_type": "stream",
     "text": [
      "<ipython-input-7-1d7d495d847e>:63: DeprecationWarning: find_element_by_* commands are deprecated. Please use find_element() instead\n",
      "  table_path = driver.find_element_by_xpath( \"/html/body/onpe-root/onpe-layout-container/onpe-onpe-epres-re/div[1]/div[4]/div[1]/div[3]/div\" )\n",
      "<ipython-input-7-1d7d495d847e>:22: DeprecationWarning: find_element_by_* commands are deprecated. Please use find_element() instead\n",
      "  pais = Select( driver.find_element_by_xpath(\"/html/body/onpe-root/onpe-layout-container/onpe-onpe-epres-re/div[1]/div[3]/div[1]/div[1]/div/div/div[3]/select\" ) )\n",
      "<ipython-input-7-1d7d495d847e>:37: DeprecationWarning: find_element_by_* commands are deprecated. Please use find_element() instead\n",
      "  est = Select( driver.find_element_by_xpath(\"/html/body/onpe-root/onpe-layout-container/onpe-onpe-epres-re/div[1]/div[3]/div[1]/div[1]/div/div/div[4]/select\" ) )\n",
      "<ipython-input-7-1d7d495d847e>:43: DeprecationWarning: find_element_by_* commands are deprecated. Please use find_element() instead\n",
      "  est = Select( driver.find_element_by_xpath(\"/html/body/onpe-root/onpe-layout-container/onpe-onpe-epres-re/div[1]/div[3]/div[1]/div[1]/div/div/div[4]/select\") )\n",
      "<ipython-input-7-1d7d495d847e>:63: DeprecationWarning: find_element_by_* commands are deprecated. Please use find_element() instead\n",
      "  table_path = driver.find_element_by_xpath( \"/html/body/onpe-root/onpe-layout-container/onpe-onpe-epres-re/div[1]/div[4]/div[1]/div[3]/div\" )\n"
     ]
    },
    {
     "name": "stdout",
     "output_type": "stream",
     "text": [
      "--TODOS--\n",
      "BUCAREST\n"
     ]
    },
    {
     "name": "stderr",
     "output_type": "stream",
     "text": [
      "<ipython-input-7-1d7d495d847e>:43: DeprecationWarning: find_element_by_* commands are deprecated. Please use find_element() instead\n",
      "  est = Select( driver.find_element_by_xpath(\"/html/body/onpe-root/onpe-layout-container/onpe-onpe-epres-re/div[1]/div[3]/div[1]/div[1]/div/div/div[4]/select\") )\n",
      "<ipython-input-7-1d7d495d847e>:63: DeprecationWarning: find_element_by_* commands are deprecated. Please use find_element() instead\n",
      "  table_path = driver.find_element_by_xpath( \"/html/body/onpe-root/onpe-layout-container/onpe-onpe-epres-re/div[1]/div[4]/div[1]/div[3]/div\" )\n",
      "<ipython-input-7-1d7d495d847e>:22: DeprecationWarning: find_element_by_* commands are deprecated. Please use find_element() instead\n",
      "  pais = Select( driver.find_element_by_xpath(\"/html/body/onpe-root/onpe-layout-container/onpe-onpe-epres-re/div[1]/div[3]/div[1]/div[1]/div/div/div[3]/select\" ) )\n"
     ]
    },
    {
     "name": "stdout",
     "output_type": "stream",
     "text": [
      "TIMISOARA\n"
     ]
    },
    {
     "name": "stderr",
     "output_type": "stream",
     "text": [
      "<ipython-input-7-1d7d495d847e>:37: DeprecationWarning: find_element_by_* commands are deprecated. Please use find_element() instead\n",
      "  est = Select( driver.find_element_by_xpath(\"/html/body/onpe-root/onpe-layout-container/onpe-onpe-epres-re/div[1]/div[3]/div[1]/div[1]/div/div/div[4]/select\" ) )\n",
      "<ipython-input-7-1d7d495d847e>:43: DeprecationWarning: find_element_by_* commands are deprecated. Please use find_element() instead\n",
      "  est = Select( driver.find_element_by_xpath(\"/html/body/onpe-root/onpe-layout-container/onpe-onpe-epres-re/div[1]/div[3]/div[1]/div[1]/div/div/div[4]/select\") )\n"
     ]
    },
    {
     "name": "stdout",
     "output_type": "stream",
     "text": [
      "--TODOS--\n",
      "MOSCU\n"
     ]
    },
    {
     "name": "stderr",
     "output_type": "stream",
     "text": [
      "<ipython-input-7-1d7d495d847e>:63: DeprecationWarning: find_element_by_* commands are deprecated. Please use find_element() instead\n",
      "  table_path = driver.find_element_by_xpath( \"/html/body/onpe-root/onpe-layout-container/onpe-onpe-epres-re/div[1]/div[4]/div[1]/div[3]/div\" )\n",
      "<ipython-input-7-1d7d495d847e>:43: DeprecationWarning: find_element_by_* commands are deprecated. Please use find_element() instead\n",
      "  est = Select( driver.find_element_by_xpath(\"/html/body/onpe-root/onpe-layout-container/onpe-onpe-epres-re/div[1]/div[3]/div[1]/div[1]/div/div/div[4]/select\") )\n",
      "<ipython-input-7-1d7d495d847e>:63: DeprecationWarning: find_element_by_* commands are deprecated. Please use find_element() instead\n",
      "  table_path = driver.find_element_by_xpath( \"/html/body/onpe-root/onpe-layout-container/onpe-onpe-epres-re/div[1]/div[4]/div[1]/div[3]/div\" )\n"
     ]
    },
    {
     "name": "stdout",
     "output_type": "stream",
     "text": [
      "SAN PETERSBURGO\n"
     ]
    },
    {
     "name": "stderr",
     "output_type": "stream",
     "text": [
      "<ipython-input-7-1d7d495d847e>:22: DeprecationWarning: find_element_by_* commands are deprecated. Please use find_element() instead\n",
      "  pais = Select( driver.find_element_by_xpath(\"/html/body/onpe-root/onpe-layout-container/onpe-onpe-epres-re/div[1]/div[3]/div[1]/div[1]/div/div/div[3]/select\" ) )\n",
      "<ipython-input-7-1d7d495d847e>:37: DeprecationWarning: find_element_by_* commands are deprecated. Please use find_element() instead\n",
      "  est = Select( driver.find_element_by_xpath(\"/html/body/onpe-root/onpe-layout-container/onpe-onpe-epres-re/div[1]/div[3]/div[1]/div[1]/div/div/div[4]/select\" ) )\n",
      "<ipython-input-7-1d7d495d847e>:43: DeprecationWarning: find_element_by_* commands are deprecated. Please use find_element() instead\n",
      "  est = Select( driver.find_element_by_xpath(\"/html/body/onpe-root/onpe-layout-container/onpe-onpe-epres-re/div[1]/div[3]/div[1]/div[1]/div/div/div[4]/select\") )\n"
     ]
    },
    {
     "name": "stdout",
     "output_type": "stream",
     "text": [
      "--TODOS--\n",
      "ESTOCOLMO\n"
     ]
    },
    {
     "name": "stderr",
     "output_type": "stream",
     "text": [
      "<ipython-input-7-1d7d495d847e>:63: DeprecationWarning: find_element_by_* commands are deprecated. Please use find_element() instead\n",
      "  table_path = driver.find_element_by_xpath( \"/html/body/onpe-root/onpe-layout-container/onpe-onpe-epres-re/div[1]/div[4]/div[1]/div[3]/div\" )\n",
      "<ipython-input-7-1d7d495d847e>:43: DeprecationWarning: find_element_by_* commands are deprecated. Please use find_element() instead\n",
      "  est = Select( driver.find_element_by_xpath(\"/html/body/onpe-root/onpe-layout-container/onpe-onpe-epres-re/div[1]/div[3]/div[1]/div[1]/div/div/div[4]/select\") )\n",
      "<ipython-input-7-1d7d495d847e>:63: DeprecationWarning: find_element_by_* commands are deprecated. Please use find_element() instead\n",
      "  table_path = driver.find_element_by_xpath( \"/html/body/onpe-root/onpe-layout-container/onpe-onpe-epres-re/div[1]/div[4]/div[1]/div[3]/div\" )\n"
     ]
    },
    {
     "name": "stdout",
     "output_type": "stream",
     "text": [
      "MALMO\n"
     ]
    },
    {
     "name": "stderr",
     "output_type": "stream",
     "text": [
      "<ipython-input-7-1d7d495d847e>:22: DeprecationWarning: find_element_by_* commands are deprecated. Please use find_element() instead\n",
      "  pais = Select( driver.find_element_by_xpath(\"/html/body/onpe-root/onpe-layout-container/onpe-onpe-epres-re/div[1]/div[3]/div[1]/div[1]/div/div/div[3]/select\" ) )\n",
      "<ipython-input-7-1d7d495d847e>:37: DeprecationWarning: find_element_by_* commands are deprecated. Please use find_element() instead\n",
      "  est = Select( driver.find_element_by_xpath(\"/html/body/onpe-root/onpe-layout-container/onpe-onpe-epres-re/div[1]/div[3]/div[1]/div[1]/div/div/div[4]/select\" ) )\n",
      "<ipython-input-7-1d7d495d847e>:43: DeprecationWarning: find_element_by_* commands are deprecated. Please use find_element() instead\n",
      "  est = Select( driver.find_element_by_xpath(\"/html/body/onpe-root/onpe-layout-container/onpe-onpe-epres-re/div[1]/div[3]/div[1]/div[1]/div/div/div[4]/select\") )\n",
      "<ipython-input-7-1d7d495d847e>:63: DeprecationWarning: find_element_by_* commands are deprecated. Please use find_element() instead\n",
      "  table_path = driver.find_element_by_xpath( \"/html/body/onpe-root/onpe-layout-container/onpe-onpe-epres-re/div[1]/div[4]/div[1]/div[3]/div\" )\n"
     ]
    },
    {
     "name": "stdout",
     "output_type": "stream",
     "text": [
      "--TODOS--\n",
      "BERNA\n"
     ]
    },
    {
     "name": "stderr",
     "output_type": "stream",
     "text": [
      "<ipython-input-7-1d7d495d847e>:43: DeprecationWarning: find_element_by_* commands are deprecated. Please use find_element() instead\n",
      "  est = Select( driver.find_element_by_xpath(\"/html/body/onpe-root/onpe-layout-container/onpe-onpe-epres-re/div[1]/div[3]/div[1]/div[1]/div/div/div[4]/select\") )\n",
      "<ipython-input-7-1d7d495d847e>:63: DeprecationWarning: find_element_by_* commands are deprecated. Please use find_element() instead\n",
      "  table_path = driver.find_element_by_xpath( \"/html/body/onpe-root/onpe-layout-container/onpe-onpe-epres-re/div[1]/div[4]/div[1]/div[3]/div\" )\n",
      "<ipython-input-7-1d7d495d847e>:43: DeprecationWarning: find_element_by_* commands are deprecated. Please use find_element() instead\n",
      "  est = Select( driver.find_element_by_xpath(\"/html/body/onpe-root/onpe-layout-container/onpe-onpe-epres-re/div[1]/div[3]/div[1]/div[1]/div/div/div[4]/select\") )\n"
     ]
    },
    {
     "name": "stdout",
     "output_type": "stream",
     "text": [
      "GINEBRA\n",
      "ZURICH\n"
     ]
    },
    {
     "name": "stderr",
     "output_type": "stream",
     "text": [
      "<ipython-input-7-1d7d495d847e>:63: DeprecationWarning: find_element_by_* commands are deprecated. Please use find_element() instead\n",
      "  table_path = driver.find_element_by_xpath( \"/html/body/onpe-root/onpe-layout-container/onpe-onpe-epres-re/div[1]/div[4]/div[1]/div[3]/div\" )\n",
      "<ipython-input-7-1d7d495d847e>:22: DeprecationWarning: find_element_by_* commands are deprecated. Please use find_element() instead\n",
      "  pais = Select( driver.find_element_by_xpath(\"/html/body/onpe-root/onpe-layout-container/onpe-onpe-epres-re/div[1]/div[3]/div[1]/div[1]/div/div/div[3]/select\" ) )\n",
      "<ipython-input-7-1d7d495d847e>:37: DeprecationWarning: find_element_by_* commands are deprecated. Please use find_element() instead\n",
      "  est = Select( driver.find_element_by_xpath(\"/html/body/onpe-root/onpe-layout-container/onpe-onpe-epres-re/div[1]/div[3]/div[1]/div[1]/div/div/div[4]/select\" ) )\n",
      "<ipython-input-7-1d7d495d847e>:43: DeprecationWarning: find_element_by_* commands are deprecated. Please use find_element() instead\n",
      "  est = Select( driver.find_element_by_xpath(\"/html/body/onpe-root/onpe-layout-container/onpe-onpe-epres-re/div[1]/div[3]/div[1]/div[1]/div/div/div[4]/select\") )\n",
      "<ipython-input-7-1d7d495d847e>:63: DeprecationWarning: find_element_by_* commands are deprecated. Please use find_element() instead\n",
      "  table_path = driver.find_element_by_xpath( \"/html/body/onpe-root/onpe-layout-container/onpe-onpe-epres-re/div[1]/div[4]/div[1]/div[3]/div\" )\n"
     ]
    },
    {
     "name": "stdout",
     "output_type": "stream",
     "text": [
      "--TODOS--\n",
      "KHARKOV\n"
     ]
    },
    {
     "name": "stderr",
     "output_type": "stream",
     "text": [
      "<ipython-input-7-1d7d495d847e>:43: DeprecationWarning: find_element_by_* commands are deprecated. Please use find_element() instead\n",
      "  est = Select( driver.find_element_by_xpath(\"/html/body/onpe-root/onpe-layout-container/onpe-onpe-epres-re/div[1]/div[3]/div[1]/div[1]/div/div/div[4]/select\") )\n",
      "<ipython-input-7-1d7d495d847e>:63: DeprecationWarning: find_element_by_* commands are deprecated. Please use find_element() instead\n",
      "  table_path = driver.find_element_by_xpath( \"/html/body/onpe-root/onpe-layout-container/onpe-onpe-epres-re/div[1]/div[4]/div[1]/div[3]/div\" )\n",
      "<ipython-input-7-1d7d495d847e>:3: DeprecationWarning: find_element_by_* commands are deprecated. Please use find_element() instead\n",
      "  cont = Select(driver.find_element_by_xpath(\"/html/body/onpe-root/onpe-layout-container/onpe-onpe-epres-re/div[1]/div[3]/div[1]/div[1]/div/div/div[2]/select\" ) )\n"
     ]
    },
    {
     "name": "stdout",
     "output_type": "stream",
     "text": [
      "KIEV\n"
     ]
    },
    {
     "name": "stderr",
     "output_type": "stream",
     "text": [
      "<ipython-input-7-1d7d495d847e>:18: DeprecationWarning: find_element_by_* commands are deprecated. Please use find_element() instead\n",
      "  pais = Select( driver.find_element_by_xpath(\"/html/body/onpe-root/onpe-layout-container/onpe-onpe-epres-re/div[1]/div[3]/div[1]/div[1]/div/div/div[3]/select\"))\n",
      "<ipython-input-7-1d7d495d847e>:22: DeprecationWarning: find_element_by_* commands are deprecated. Please use find_element() instead\n",
      "  pais = Select( driver.find_element_by_xpath(\"/html/body/onpe-root/onpe-layout-container/onpe-onpe-epres-re/div[1]/div[3]/div[1]/div[1]/div/div/div[3]/select\" ) )\n",
      "<ipython-input-7-1d7d495d847e>:37: DeprecationWarning: find_element_by_* commands are deprecated. Please use find_element() instead\n",
      "  est = Select( driver.find_element_by_xpath(\"/html/body/onpe-root/onpe-layout-container/onpe-onpe-epres-re/div[1]/div[3]/div[1]/div[1]/div/div/div[4]/select\" ) )\n",
      "<ipython-input-7-1d7d495d847e>:43: DeprecationWarning: find_element_by_* commands are deprecated. Please use find_element() instead\n",
      "  est = Select( driver.find_element_by_xpath(\"/html/body/onpe-root/onpe-layout-container/onpe-onpe-epres-re/div[1]/div[3]/div[1]/div[1]/div/div/div[4]/select\") )\n"
     ]
    },
    {
     "name": "stdout",
     "output_type": "stream",
     "text": [
      "--TODOS--\n",
      "BRISBANE\n"
     ]
    },
    {
     "name": "stderr",
     "output_type": "stream",
     "text": [
      "<ipython-input-7-1d7d495d847e>:63: DeprecationWarning: find_element_by_* commands are deprecated. Please use find_element() instead\n",
      "  table_path = driver.find_element_by_xpath( \"/html/body/onpe-root/onpe-layout-container/onpe-onpe-epres-re/div[1]/div[4]/div[1]/div[3]/div\" )\n",
      "<ipython-input-7-1d7d495d847e>:43: DeprecationWarning: find_element_by_* commands are deprecated. Please use find_element() instead\n",
      "  est = Select( driver.find_element_by_xpath(\"/html/body/onpe-root/onpe-layout-container/onpe-onpe-epres-re/div[1]/div[3]/div[1]/div[1]/div/div/div[4]/select\") )\n",
      "<ipython-input-7-1d7d495d847e>:63: DeprecationWarning: find_element_by_* commands are deprecated. Please use find_element() instead\n",
      "  table_path = driver.find_element_by_xpath( \"/html/body/onpe-root/onpe-layout-container/onpe-onpe-epres-re/div[1]/div[4]/div[1]/div[3]/div\" )\n",
      "<ipython-input-7-1d7d495d847e>:43: DeprecationWarning: find_element_by_* commands are deprecated. Please use find_element() instead\n",
      "  est = Select( driver.find_element_by_xpath(\"/html/body/onpe-root/onpe-layout-container/onpe-onpe-epres-re/div[1]/div[3]/div[1]/div[1]/div/div/div[4]/select\") )\n"
     ]
    },
    {
     "name": "stdout",
     "output_type": "stream",
     "text": [
      "CAMBERRA\n",
      "MELBOURNE\n"
     ]
    },
    {
     "name": "stderr",
     "output_type": "stream",
     "text": [
      "<ipython-input-7-1d7d495d847e>:63: DeprecationWarning: find_element_by_* commands are deprecated. Please use find_element() instead\n",
      "  table_path = driver.find_element_by_xpath( \"/html/body/onpe-root/onpe-layout-container/onpe-onpe-epres-re/div[1]/div[4]/div[1]/div[3]/div\" )\n",
      "<ipython-input-7-1d7d495d847e>:43: DeprecationWarning: find_element_by_* commands are deprecated. Please use find_element() instead\n",
      "  est = Select( driver.find_element_by_xpath(\"/html/body/onpe-root/onpe-layout-container/onpe-onpe-epres-re/div[1]/div[3]/div[1]/div[1]/div/div/div[4]/select\") )\n",
      "<ipython-input-7-1d7d495d847e>:63: DeprecationWarning: find_element_by_* commands are deprecated. Please use find_element() instead\n",
      "  table_path = driver.find_element_by_xpath( \"/html/body/onpe-root/onpe-layout-container/onpe-onpe-epres-re/div[1]/div[4]/div[1]/div[3]/div\" )\n"
     ]
    },
    {
     "name": "stdout",
     "output_type": "stream",
     "text": [
      "PERTH\n",
      "SIDNEY\n"
     ]
    },
    {
     "name": "stderr",
     "output_type": "stream",
     "text": [
      "<ipython-input-7-1d7d495d847e>:43: DeprecationWarning: find_element_by_* commands are deprecated. Please use find_element() instead\n",
      "  est = Select( driver.find_element_by_xpath(\"/html/body/onpe-root/onpe-layout-container/onpe-onpe-epres-re/div[1]/div[3]/div[1]/div[1]/div/div/div[4]/select\") )\n",
      "<ipython-input-7-1d7d495d847e>:63: DeprecationWarning: find_element_by_* commands are deprecated. Please use find_element() instead\n",
      "  table_path = driver.find_element_by_xpath( \"/html/body/onpe-root/onpe-layout-container/onpe-onpe-epres-re/div[1]/div[4]/div[1]/div[3]/div\" )\n",
      "<ipython-input-7-1d7d495d847e>:22: DeprecationWarning: find_element_by_* commands are deprecated. Please use find_element() instead\n",
      "  pais = Select( driver.find_element_by_xpath(\"/html/body/onpe-root/onpe-layout-container/onpe-onpe-epres-re/div[1]/div[3]/div[1]/div[1]/div/div/div[3]/select\" ) )\n",
      "<ipython-input-7-1d7d495d847e>:37: DeprecationWarning: find_element_by_* commands are deprecated. Please use find_element() instead\n",
      "  est = Select( driver.find_element_by_xpath(\"/html/body/onpe-root/onpe-layout-container/onpe-onpe-epres-re/div[1]/div[3]/div[1]/div[1]/div/div/div[4]/select\" ) )\n",
      "<ipython-input-7-1d7d495d847e>:43: DeprecationWarning: find_element_by_* commands are deprecated. Please use find_element() instead\n",
      "  est = Select( driver.find_element_by_xpath(\"/html/body/onpe-root/onpe-layout-container/onpe-onpe-epres-re/div[1]/div[3]/div[1]/div[1]/div/div/div[4]/select\") )\n"
     ]
    },
    {
     "name": "stdout",
     "output_type": "stream",
     "text": [
      "--TODOS--\n",
      "AUCKLAND\n"
     ]
    },
    {
     "name": "stderr",
     "output_type": "stream",
     "text": [
      "<ipython-input-7-1d7d495d847e>:63: DeprecationWarning: find_element_by_* commands are deprecated. Please use find_element() instead\n",
      "  table_path = driver.find_element_by_xpath( \"/html/body/onpe-root/onpe-layout-container/onpe-onpe-epres-re/div[1]/div[4]/div[1]/div[3]/div\" )\n",
      "<ipython-input-7-1d7d495d847e>:43: DeprecationWarning: find_element_by_* commands are deprecated. Please use find_element() instead\n",
      "  est = Select( driver.find_element_by_xpath(\"/html/body/onpe-root/onpe-layout-container/onpe-onpe-epres-re/div[1]/div[3]/div[1]/div[1]/div/div/div[4]/select\") )\n",
      "<ipython-input-7-1d7d495d847e>:63: DeprecationWarning: find_element_by_* commands are deprecated. Please use find_element() instead\n",
      "  table_path = driver.find_element_by_xpath( \"/html/body/onpe-root/onpe-layout-container/onpe-onpe-epres-re/div[1]/div[4]/div[1]/div[3]/div\" )\n"
     ]
    },
    {
     "name": "stdout",
     "output_type": "stream",
     "text": [
      "WELLINGTON\n"
     ]
    }
   ],
   "source": [
    "######## PARTE CONTINENTES ########\n",
    "for cont_idx in range( num_cont ):\n",
    "    cont = Select(driver.find_element_by_xpath(\"/html/body/onpe-root/onpe-layout-container/onpe-onpe-epres-re/div[1]/div[3]/div[1]/div[1]/div/div/div[2]/select\" ) )\n",
    "    continent = cont.options[ cont_idx ]\n",
    "    \n",
    "    # Get continent name\n",
    "    cont_name = continent.text\n",
    "    \n",
    "    # We select a different continent name\n",
    "    if cont_name != \"--TODOS--\" :\n",
    "        \n",
    "        # click on continent\n",
    "        continent.click()\n",
    "        \n",
    "######## PARTE PAIS ########\n",
    "\n",
    "     # Get all elements of country\n",
    "        pais = Select( driver.find_element_by_xpath(\"/html/body/onpe-root/onpe-layout-container/onpe-onpe-epres-re/div[1]/div[3]/div[1]/div[1]/div/div/div[3]/select\"))\n",
    "        num_pais = len( pais.options )   \n",
    "       \n",
    "        for pais_idx in range( num_pais ):\n",
    "            pais = Select( driver.find_element_by_xpath(\"/html/body/onpe-root/onpe-layout-container/onpe-onpe-epres-re/div[1]/div[3]/div[1]/div[1]/div/div/div[3]/select\" ) )\n",
    "            country = pais.options[ pais_idx ]\n",
    "        \n",
    "        \n",
    "        # Get country name\n",
    "            pais_name = country.text\n",
    "            if pais_name != \"--TODOS--\" :\n",
    "                          \n",
    "                # click on country\n",
    "                country.click()\n",
    "\n",
    "######## PARTE ESTADOS ########\n",
    "\n",
    "                \n",
    "                # Get all elements from estado\n",
    "                est = Select( driver.find_element_by_xpath(\"/html/body/onpe-root/onpe-layout-container/onpe-onpe-epres-re/div[1]/div[3]/div[1]/div[1]/div/div/div[4]/select\" ) )\n",
    "                num_est = len( est.options )\n",
    "                \n",
    "                for est_idx in range( num_est ):\n",
    "                    \n",
    "                    # Get again all states \n",
    "                    est = Select( driver.find_element_by_xpath(\"/html/body/onpe-root/onpe-layout-container/onpe-onpe-epres-re/div[1]/div[3]/div[1]/div[1]/div/div/div[4]/select\") )\n",
    "                    state = est.options[ est_idx ]\n",
    "                    \n",
    "                    # Get states name\n",
    "                    est_name = state.text\n",
    "                    print(est_name)\n",
    "                    if est_name != \"--TODOS--\" :\n",
    "                        \n",
    "                        # click on state\n",
    "                        state.click()\n",
    "                        \n",
    "######## PARTE CONSOLIDAR ########\n",
    "                        \n",
    "                        # Get UBIGEO\n",
    "                        ubigeo = driver.current_url.split(\"/\")[ -1 ]\n",
    "                        \n",
    "                        ## Get table of presidential votes\n",
    "                        # Get html at this point\n",
    "                        # No id for the table wrap, so full xpath \n",
    "                        # is used instead\n",
    "                        table_path = driver.find_element_by_xpath( \"/html/body/onpe-root/onpe-layout-container/onpe-onpe-epres-re/div[1]/div[4]/div[1]/div[3]/div\" )\n",
    "                        table_html = table_path.get_attribute( 'innerHTML' )\n",
    "                        # Read the table using pandas\n",
    "                        table = pd.read_html( table_html )\n",
    "                        \n",
    "                        # Cleaning tables\n",
    "                        row_new_columns = table[ 0 ].iloc[ 0 , 2: ]\n",
    "                        clean_columns = row_new_columns \\\n",
    "                                              .str.replace( \" \", \"_\") \\\n",
    "                                              .str.lower().str.replace( \"%\", \"share_\") \\\n",
    "                                              .apply( lambda x : unidecode.unidecode( x ) ) \\\n",
    "                                              .tolist()\n",
    "                        \n",
    "                        # Selecting specific columns\n",
    "                        table_clean = table[0].iloc[ 1:, 2: ].copy()\n",
    "                        \n",
    "                        # rename columns\n",
    "                        table_clean.columns = clean_columns\n",
    "                        \n",
    "                        # New values to columns \n",
    "                        table_clean[ 'continent' ] = cont_name\n",
    "                        table_clean[ 'country' ]   = pais_name\n",
    "                        table_clean[ 'estate' ]    = est_name\n",
    "                        table_clean[ 'ubigeo' ]    = ubigeo\n",
    "                        table_clean[ 'link' ]      = driver.current_url\n",
    "                        \n",
    "                        # store tables\n",
    "                        all_tables[ ubigeo ] = table_clean                       "
   ]
  },
  {
   "cell_type": "markdown",
   "id": "fce0a9f2",
   "metadata": {},
   "source": [
    "## <a id='6_final_data'> 6. Data processing and storing </a>"
   ]
  },
  {
   "cell_type": "code",
   "execution_count": 8,
   "id": "31015485",
   "metadata": {},
   "outputs": [
    {
     "data": {
      "text/html": [
       "<div>\n",
       "<style scoped>\n",
       "    .dataframe tbody tr th:only-of-type {\n",
       "        vertical-align: middle;\n",
       "    }\n",
       "\n",
       "    .dataframe tbody tr th {\n",
       "        vertical-align: top;\n",
       "    }\n",
       "\n",
       "    .dataframe thead th {\n",
       "        text-align: right;\n",
       "    }\n",
       "</style>\n",
       "<table border=\"1\" class=\"dataframe\">\n",
       "  <thead>\n",
       "    <tr style=\"text-align: right;\">\n",
       "      <th></th>\n",
       "      <th>political_parties</th>\n",
       "      <th>total</th>\n",
       "      <th>share_valid</th>\n",
       "      <th>share_emitied</th>\n",
       "      <th>continent</th>\n",
       "      <th>country</th>\n",
       "      <th>estate</th>\n",
       "      <th>ubigeo</th>\n",
       "      <th>link</th>\n",
       "    </tr>\n",
       "  </thead>\n",
       "  <tbody>\n",
       "    <tr>\n",
       "      <th>0</th>\n",
       "      <td>PARTIDO NACIONALISTA PERUANO</td>\n",
       "      <td>0</td>\n",
       "      <td>0.000%</td>\n",
       "      <td>0.000%</td>\n",
       "      <td>AFRICA</td>\n",
       "      <td>ARGELIA</td>\n",
       "      <td>ARGEL</td>\n",
       "      <td>910101</td>\n",
       "      <td>https://resultadoshistorico.onpe.gob.pe/EG2021...</td>\n",
       "    </tr>\n",
       "    <tr>\n",
       "      <th>1</th>\n",
       "      <td>EL FRENTE AMPLIO POR JUSTICIA, VIDA Y LIBERTAD</td>\n",
       "      <td>0</td>\n",
       "      <td>0.000%</td>\n",
       "      <td>0.000%</td>\n",
       "      <td>AFRICA</td>\n",
       "      <td>ARGELIA</td>\n",
       "      <td>ARGEL</td>\n",
       "      <td>910101</td>\n",
       "      <td>https://resultadoshistorico.onpe.gob.pe/EG2021...</td>\n",
       "    </tr>\n",
       "    <tr>\n",
       "      <th>2</th>\n",
       "      <td>PARTIDO MORADO</td>\n",
       "      <td>0</td>\n",
       "      <td>0.000%</td>\n",
       "      <td>0.000%</td>\n",
       "      <td>AFRICA</td>\n",
       "      <td>ARGELIA</td>\n",
       "      <td>ARGEL</td>\n",
       "      <td>910101</td>\n",
       "      <td>https://resultadoshistorico.onpe.gob.pe/EG2021...</td>\n",
       "    </tr>\n",
       "    <tr>\n",
       "      <th>3</th>\n",
       "      <td>PERU PATRIA SEGURA</td>\n",
       "      <td>0</td>\n",
       "      <td>0.000%</td>\n",
       "      <td>0.000%</td>\n",
       "      <td>AFRICA</td>\n",
       "      <td>ARGELIA</td>\n",
       "      <td>ARGEL</td>\n",
       "      <td>910101</td>\n",
       "      <td>https://resultadoshistorico.onpe.gob.pe/EG2021...</td>\n",
       "    </tr>\n",
       "    <tr>\n",
       "      <th>4</th>\n",
       "      <td>VICTORIA NACIONAL</td>\n",
       "      <td>0</td>\n",
       "      <td>0.000%</td>\n",
       "      <td>0.000%</td>\n",
       "      <td>AFRICA</td>\n",
       "      <td>ARGELIA</td>\n",
       "      <td>ARGEL</td>\n",
       "      <td>910101</td>\n",
       "      <td>https://resultadoshistorico.onpe.gob.pe/EG2021...</td>\n",
       "    </tr>\n",
       "    <tr>\n",
       "      <th>...</th>\n",
       "      <td>...</td>\n",
       "      <td>...</td>\n",
       "      <td>...</td>\n",
       "      <td>...</td>\n",
       "      <td>...</td>\n",
       "      <td>...</td>\n",
       "      <td>...</td>\n",
       "      <td>...</td>\n",
       "      <td>...</td>\n",
       "    </tr>\n",
       "    <tr>\n",
       "      <th>4658</th>\n",
       "      <td>ALIANZA PARA EL PROGRESO</td>\n",
       "      <td>0</td>\n",
       "      <td>0.000%</td>\n",
       "      <td>0.000%</td>\n",
       "      <td>OCEANIA</td>\n",
       "      <td>NUEVA ZELANDA</td>\n",
       "      <td>WELLINGTON</td>\n",
       "      <td>950202</td>\n",
       "      <td>https://resultadoshistorico.onpe.gob.pe/EG2021...</td>\n",
       "    </tr>\n",
       "    <tr>\n",
       "      <th>4659</th>\n",
       "      <td>TOTAL DE VOTOS VÁLIDOS</td>\n",
       "      <td>34</td>\n",
       "      <td>100.000%</td>\n",
       "      <td>97.143%</td>\n",
       "      <td>OCEANIA</td>\n",
       "      <td>NUEVA ZELANDA</td>\n",
       "      <td>WELLINGTON</td>\n",
       "      <td>950202</td>\n",
       "      <td>https://resultadoshistorico.onpe.gob.pe/EG2021...</td>\n",
       "    </tr>\n",
       "    <tr>\n",
       "      <th>4660</th>\n",
       "      <td>VOTOS EN BLANCO</td>\n",
       "      <td>0</td>\n",
       "      <td>NaN</td>\n",
       "      <td>0.000%</td>\n",
       "      <td>OCEANIA</td>\n",
       "      <td>NUEVA ZELANDA</td>\n",
       "      <td>WELLINGTON</td>\n",
       "      <td>950202</td>\n",
       "      <td>https://resultadoshistorico.onpe.gob.pe/EG2021...</td>\n",
       "    </tr>\n",
       "    <tr>\n",
       "      <th>4661</th>\n",
       "      <td>VOTOS NULOS</td>\n",
       "      <td>1</td>\n",
       "      <td>NaN</td>\n",
       "      <td>2.857%</td>\n",
       "      <td>OCEANIA</td>\n",
       "      <td>NUEVA ZELANDA</td>\n",
       "      <td>WELLINGTON</td>\n",
       "      <td>950202</td>\n",
       "      <td>https://resultadoshistorico.onpe.gob.pe/EG2021...</td>\n",
       "    </tr>\n",
       "    <tr>\n",
       "      <th>4662</th>\n",
       "      <td>TOTAL DE VOTOS EMITIDOS</td>\n",
       "      <td>35</td>\n",
       "      <td>NaN</td>\n",
       "      <td>100.000%</td>\n",
       "      <td>OCEANIA</td>\n",
       "      <td>NUEVA ZELANDA</td>\n",
       "      <td>WELLINGTON</td>\n",
       "      <td>950202</td>\n",
       "      <td>https://resultadoshistorico.onpe.gob.pe/EG2021...</td>\n",
       "    </tr>\n",
       "  </tbody>\n",
       "</table>\n",
       "<p>4663 rows × 9 columns</p>\n",
       "</div>"
      ],
      "text/plain": [
       "                                   political_parties total share_valid  \\\n",
       "0                       PARTIDO NACIONALISTA PERUANO     0      0.000%   \n",
       "1     EL FRENTE AMPLIO POR JUSTICIA, VIDA Y LIBERTAD     0      0.000%   \n",
       "2                                     PARTIDO MORADO     0      0.000%   \n",
       "3                                 PERU PATRIA SEGURA     0      0.000%   \n",
       "4                                  VICTORIA NACIONAL     0      0.000%   \n",
       "...                                              ...   ...         ...   \n",
       "4658                        ALIANZA PARA EL PROGRESO     0      0.000%   \n",
       "4659                          TOTAL DE VOTOS VÁLIDOS    34    100.000%   \n",
       "4660                                 VOTOS EN BLANCO     0         NaN   \n",
       "4661                                     VOTOS NULOS     1         NaN   \n",
       "4662                         TOTAL DE VOTOS EMITIDOS    35         NaN   \n",
       "\n",
       "     share_emitied continent        country      estate  ubigeo  \\\n",
       "0           0.000%    AFRICA        ARGELIA       ARGEL  910101   \n",
       "1           0.000%    AFRICA        ARGELIA       ARGEL  910101   \n",
       "2           0.000%    AFRICA        ARGELIA       ARGEL  910101   \n",
       "3           0.000%    AFRICA        ARGELIA       ARGEL  910101   \n",
       "4           0.000%    AFRICA        ARGELIA       ARGEL  910101   \n",
       "...            ...       ...            ...         ...     ...   \n",
       "4658        0.000%   OCEANIA  NUEVA ZELANDA  WELLINGTON  950202   \n",
       "4659       97.143%   OCEANIA  NUEVA ZELANDA  WELLINGTON  950202   \n",
       "4660        0.000%   OCEANIA  NUEVA ZELANDA  WELLINGTON  950202   \n",
       "4661        2.857%   OCEANIA  NUEVA ZELANDA  WELLINGTON  950202   \n",
       "4662      100.000%   OCEANIA  NUEVA ZELANDA  WELLINGTON  950202   \n",
       "\n",
       "                                                   link  \n",
       "0     https://resultadoshistorico.onpe.gob.pe/EG2021...  \n",
       "1     https://resultadoshistorico.onpe.gob.pe/EG2021...  \n",
       "2     https://resultadoshistorico.onpe.gob.pe/EG2021...  \n",
       "3     https://resultadoshistorico.onpe.gob.pe/EG2021...  \n",
       "4     https://resultadoshistorico.onpe.gob.pe/EG2021...  \n",
       "...                                                 ...  \n",
       "4658  https://resultadoshistorico.onpe.gob.pe/EG2021...  \n",
       "4659  https://resultadoshistorico.onpe.gob.pe/EG2021...  \n",
       "4660  https://resultadoshistorico.onpe.gob.pe/EG2021...  \n",
       "4661  https://resultadoshistorico.onpe.gob.pe/EG2021...  \n",
       "4662  https://resultadoshistorico.onpe.gob.pe/EG2021...  \n",
       "\n",
       "[4663 rows x 9 columns]"
      ]
     },
     "execution_count": 8,
     "metadata": {},
     "output_type": "execute_result"
    }
   ],
   "source": [
    "final_data = pd.concat( all_tables.values() ).reset_index( drop = True )\n",
    "final_data = final_data.rename( columns={'organizaciones_politicas': ' political_parties',\n",
    "                                         'share_validos': 'share_valid',\n",
    "                                         'share_emitidos': 'share_emitied'})\n",
    "final_data.to_excel( r'../_data_results/group_5_ass_4.xlsx' , index = False )\n",
    "final_data"
   ]
  },
  {
   "cell_type": "code",
   "execution_count": null,
   "id": "7d5c2787",
   "metadata": {},
   "outputs": [],
   "source": []
  }
 ],
 "metadata": {
  "kernelspec": {
   "display_name": "Python 3",
   "language": "python",
   "name": "python3"
  },
  "language_info": {
   "codemirror_mode": {
    "name": "ipython",
    "version": 3
   },
   "file_extension": ".py",
   "mimetype": "text/x-python",
   "name": "python",
   "nbconvert_exporter": "python",
   "pygments_lexer": "ipython3",
   "version": "3.8.8"
  }
 },
 "nbformat": 4,
 "nbformat_minor": 5
}

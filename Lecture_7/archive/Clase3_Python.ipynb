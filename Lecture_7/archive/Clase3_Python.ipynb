{
 "cells": [
  {
   "attachments": {},
   "cell_type": "markdown",
   "metadata": {},
   "source": [
    "¿Cómo visualizar data?\n",
    "¿Cómo presentar mejor los grágicos?\n",
    "¿Cómo convencemos al público sobre la data que tenemos?"
   ]
  },
  {
   "cell_type": "code",
   "execution_count": 1,
   "metadata": {},
   "outputs": [
    {
     "name": "stdout",
     "output_type": "stream",
     "text": [
      "Requirement already satisfied: seaborn in c:\\anaconda\\lib\\site-packages (0.11.2)\n",
      "Requirement already satisfied: matplotlib>=2.2 in c:\\anaconda\\lib\\site-packages (from seaborn) (3.5.2)\n",
      "Requirement already satisfied: scipy>=1.0 in c:\\anaconda\\lib\\site-packages (from seaborn) (1.9.1)\n",
      "Requirement already satisfied: pandas>=0.23 in c:\\anaconda\\lib\\site-packages (from seaborn) (1.4.4)\n",
      "Requirement already satisfied: numpy>=1.15 in c:\\anaconda\\lib\\site-packages (from seaborn) (1.21.5)\n",
      "Requirement already satisfied: pyparsing>=2.2.1 in c:\\anaconda\\lib\\site-packages (from matplotlib>=2.2->seaborn) (3.0.9)\n",
      "Requirement already satisfied: pillow>=6.2.0 in c:\\anaconda\\lib\\site-packages (from matplotlib>=2.2->seaborn) (9.2.0)\n",
      "Requirement already satisfied: fonttools>=4.22.0 in c:\\anaconda\\lib\\site-packages (from matplotlib>=2.2->seaborn) (4.25.0)\n",
      "Requirement already satisfied: python-dateutil>=2.7 in c:\\anaconda\\lib\\site-packages (from matplotlib>=2.2->seaborn) (2.8.2)\n",
      "Requirement already satisfied: kiwisolver>=1.0.1 in c:\\anaconda\\lib\\site-packages (from matplotlib>=2.2->seaborn) (1.4.2)\n",
      "Requirement already satisfied: cycler>=0.10 in c:\\anaconda\\lib\\site-packages (from matplotlib>=2.2->seaborn) (0.11.0)\n",
      "Requirement already satisfied: packaging>=20.0 in c:\\anaconda\\lib\\site-packages (from matplotlib>=2.2->seaborn) (21.3)\n",
      "Requirement already satisfied: pytz>=2020.1 in c:\\anaconda\\lib\\site-packages (from pandas>=0.23->seaborn) (2022.1)\n",
      "Requirement already satisfied: six>=1.5 in c:\\anaconda\\lib\\site-packages (from python-dateutil>=2.7->matplotlib>=2.2->seaborn) (1.16.0)\n"
     ]
    }
   ],
   "source": [
    "#instalamos seaborn\n",
    "!pip install seaborn"
   ]
  },
  {
   "attachments": {},
   "cell_type": "markdown",
   "metadata": {},
   "source": [
    "1. Q U A N T I T I E S\n",
    "\n",
    "Este tipo de gráfico muestra los niveles de las variables. Además, estos gráficos muestran\n",
    "las variables según categorías o clasificaciones. "
   ]
  },
  {
   "cell_type": "code",
   "execution_count": 2,
   "metadata": {},
   "outputs": [],
   "source": [
    "#importamos los paquetes\n",
    "import numpy as np\n",
    "import pandas as pd\n",
    "from pandas import Series, DataFrame\n",
    "import matplotlib.pyplot as plt\n",
    "import seaborn as sns\n",
    "import datetime as dt\n",
    "\n",
    "#Conjuntos de datos transformados en caracteres latinos. Los siguientes comandos deben usarse \n",
    "#en STATA:\n",
    "#cd\".....\\documents\"\n",
    "#unicode analyze enaho.dta\n",
    "#unicode encoding set \"latin1\"\n",
    "#unicode translate enaho.dta"
   ]
  },
  {
   "attachments": {},
   "cell_type": "markdown",
   "metadata": {},
   "source": [
    "La siguiente base de datos incluye los módulos de ENAHO (200, 300 y 500) para el periódo 2011-2019"
   ]
  },
  {
   "cell_type": "code",
   "execution_count": 7,
   "metadata": {},
   "outputs": [
    {
     "ename": "FileNotFoundError",
     "evalue": "[Errno 2] No such file or directory: '../_data/enaho.dta'",
     "output_type": "error",
     "traceback": [
      "\u001b[1;31m---------------------------------------------------------------------------\u001b[0m",
      "\u001b[1;31mFileNotFoundError\u001b[0m                         Traceback (most recent call last)",
      "\u001b[1;32m~\\AppData\\Local\\Temp\\ipykernel_13808\\2073958117.py\u001b[0m in \u001b[0;36m<module>\u001b[1;34m\u001b[0m\n\u001b[1;32m----> 1\u001b[1;33m \u001b[0menaho\u001b[0m \u001b[1;33m=\u001b[0m \u001b[0mpd\u001b[0m\u001b[1;33m.\u001b[0m\u001b[0mread_stata\u001b[0m\u001b[1;33m(\u001b[0m\u001b[1;34mr\"../_data/enaho.dta\"\u001b[0m\u001b[1;33m)\u001b[0m\u001b[1;33m\u001b[0m\u001b[1;33m\u001b[0m\u001b[0m\n\u001b[0m\u001b[0;32m      2\u001b[0m \u001b[0menaho\u001b[0m\u001b[1;33m\u001b[0m\u001b[1;33m\u001b[0m\u001b[0m\n",
      "\u001b[1;32mc:\\Anaconda\\lib\\site-packages\\pandas\\io\\stata.py\u001b[0m in \u001b[0;36mread_stata\u001b[1;34m(filepath_or_buffer, convert_dates, convert_categoricals, index_col, convert_missing, preserve_dtypes, columns, order_categoricals, chunksize, iterator, compression, storage_options)\u001b[0m\n\u001b[0;32m   2002\u001b[0m ) -> DataFrame | StataReader:\n\u001b[0;32m   2003\u001b[0m \u001b[1;33m\u001b[0m\u001b[0m\n\u001b[1;32m-> 2004\u001b[1;33m     reader = StataReader(\n\u001b[0m\u001b[0;32m   2005\u001b[0m         \u001b[0mfilepath_or_buffer\u001b[0m\u001b[1;33m,\u001b[0m\u001b[1;33m\u001b[0m\u001b[1;33m\u001b[0m\u001b[0m\n\u001b[0;32m   2006\u001b[0m         \u001b[0mconvert_dates\u001b[0m\u001b[1;33m=\u001b[0m\u001b[0mconvert_dates\u001b[0m\u001b[1;33m,\u001b[0m\u001b[1;33m\u001b[0m\u001b[1;33m\u001b[0m\u001b[0m\n",
      "\u001b[1;32mc:\\Anaconda\\lib\\site-packages\\pandas\\io\\stata.py\u001b[0m in \u001b[0;36m__init__\u001b[1;34m(self, path_or_buf, convert_dates, convert_categoricals, index_col, convert_missing, preserve_dtypes, columns, order_categoricals, chunksize, compression, storage_options)\u001b[0m\n\u001b[0;32m   1149\u001b[0m \u001b[1;33m\u001b[0m\u001b[0m\n\u001b[0;32m   1150\u001b[0m         \u001b[0mself\u001b[0m\u001b[1;33m.\u001b[0m\u001b[0m_native_byteorder\u001b[0m \u001b[1;33m=\u001b[0m \u001b[0m_set_endianness\u001b[0m\u001b[1;33m(\u001b[0m\u001b[0msys\u001b[0m\u001b[1;33m.\u001b[0m\u001b[0mbyteorder\u001b[0m\u001b[1;33m)\u001b[0m\u001b[1;33m\u001b[0m\u001b[1;33m\u001b[0m\u001b[0m\n\u001b[1;32m-> 1151\u001b[1;33m         with get_handle(\n\u001b[0m\u001b[0;32m   1152\u001b[0m             \u001b[0mpath_or_buf\u001b[0m\u001b[1;33m,\u001b[0m\u001b[1;33m\u001b[0m\u001b[1;33m\u001b[0m\u001b[0m\n\u001b[0;32m   1153\u001b[0m             \u001b[1;34m\"rb\"\u001b[0m\u001b[1;33m,\u001b[0m\u001b[1;33m\u001b[0m\u001b[1;33m\u001b[0m\u001b[0m\n",
      "\u001b[1;32mc:\\Anaconda\\lib\\site-packages\\pandas\\io\\common.py\u001b[0m in \u001b[0;36mget_handle\u001b[1;34m(path_or_buf, mode, encoding, compression, memory_map, is_text, errors, storage_options)\u001b[0m\n\u001b[0;32m    793\u001b[0m         \u001b[1;32melse\u001b[0m\u001b[1;33m:\u001b[0m\u001b[1;33m\u001b[0m\u001b[1;33m\u001b[0m\u001b[0m\n\u001b[0;32m    794\u001b[0m             \u001b[1;31m# Binary mode\u001b[0m\u001b[1;33m\u001b[0m\u001b[1;33m\u001b[0m\u001b[0m\n\u001b[1;32m--> 795\u001b[1;33m             \u001b[0mhandle\u001b[0m \u001b[1;33m=\u001b[0m \u001b[0mopen\u001b[0m\u001b[1;33m(\u001b[0m\u001b[0mhandle\u001b[0m\u001b[1;33m,\u001b[0m \u001b[0mioargs\u001b[0m\u001b[1;33m.\u001b[0m\u001b[0mmode\u001b[0m\u001b[1;33m)\u001b[0m\u001b[1;33m\u001b[0m\u001b[1;33m\u001b[0m\u001b[0m\n\u001b[0m\u001b[0;32m    796\u001b[0m         \u001b[0mhandles\u001b[0m\u001b[1;33m.\u001b[0m\u001b[0mappend\u001b[0m\u001b[1;33m(\u001b[0m\u001b[0mhandle\u001b[0m\u001b[1;33m)\u001b[0m\u001b[1;33m\u001b[0m\u001b[1;33m\u001b[0m\u001b[0m\n\u001b[0;32m    797\u001b[0m \u001b[1;33m\u001b[0m\u001b[0m\n",
      "\u001b[1;31mFileNotFoundError\u001b[0m: [Errno 2] No such file or directory: '../_data/enaho.dta'"
     ]
    }
   ],
   "source": [
    "enaho = pd.read_stata(r\"../_data/enaho.dta\")\n",
    "enaho "
   ]
  },
  {
   "cell_type": "code",
   "execution_count": null,
   "metadata": {},
   "outputs": [],
   "source": [
    "enaho[\"empresa\"]"
   ]
  },
  {
   "attachments": {},
   "cell_type": "markdown",
   "metadata": {},
   "source": [
    "Clasificación del número de empresas por número de trabajadores contratados \n",
    "\n",
    "Microempresas < 10 trabajadores; pequeñas empresas (10-20 trabajadores), medianas empresas (21-100 trabajadores), grandes negocios (>100 trabajadores)."
   ]
  },
  {
   "attachments": {},
   "cell_type": "markdown",
   "metadata": {},
   "source": [
    "¿Por qué muchos ejemplos usan \"fig, ax = plt.subplots()\" en Matplotlib/pyplot/python? (fig = figura, ax = ejes xy)\n",
    "\n",
    "https://stackoverflow.com/questions/34162443/why-do-many-examples-use-fig-ax-plt-subplots-in-matplots-pyplot-python"
   ]
  },
  {
   "attachments": {},
   "cell_type": "markdown",
   "metadata": {},
   "source": [
    "a. Gráfico de recuento vertical y un color "
   ]
  },
  {
   "cell_type": "code",
   "execution_count": null,
   "metadata": {},
   "outputs": [],
   "source": [
    "#estilo, fondo blanco\n",
    "sns.set(style=\"white\") \n",
    "\n",
    "#tamaño de la figura\n",
    "#una figura de 7 pulgadas de ancho y 4, de alto\n",
    "fig, ax = plt.subplots(figsize=(7,4)) \n",
    "\n",
    "#Lo que quieres plotear con su respectiva data\n",
    "#plot variable/Data???\n",
    "#queremos plotear la variable \"empresa\"\n",
    "#[un booleano, arroja TRUE los casos en los que es 2019]\n",
    "x = sns.countplot(x=\"empresa\", data=enaho[enaho[\"year\"]==\"2019\"])\n",
    "\n",
    "#detalles/etiquetas(label): título, título al eje x y\n",
    "plt.title(\"Cantidad de empresas según clasificación en el 2019\")\n",
    "plt.xlabel(\"Tipo de empresa\")\n",
    "plt.ylabe(\"Número de empresas\")"
   ]
  },
  {
   "attachments": {},
   "cell_type": "markdown",
   "metadata": {},
   "source": [
    "b. Gráfico de recuento horizontal y un color (rojo)"
   ]
  },
  {
   "cell_type": "code",
   "execution_count": null,
   "metadata": {},
   "outputs": [],
   "source": [
    "sns.set(style=\"darkgrid\")\n",
    "fig, ax = plt.subplots(figsize=(7,4))\n",
    "\n",
    "#a diferencia del gráfico anterior, las barras están asociadas a y\n",
    "x = sns.countplot(y=\"empresa\", data=enaho[enaho[\"year\"]==\"2019\"], color=\"red\")\n",
    "\n",
    "plt.title(\"Cantidad de empresa según clasificación en el 2019\")\n",
    "plt.xlabel(\"Número de empresas\")\n",
    "plt.ylabel(\"Tipo de empresas\")"
   ]
  },
  {
   "cell_type": "code",
   "execution_count": null,
   "metadata": {},
   "outputs": [],
   "source": [
    "#EVOLUCIÓN DE LOS NEGOCIOS EN EL PERIODO 2017-2019\n",
    "\n",
    "base2 = enaho[enaho[\"year\"]>\"2016\"]\n",
    "sns.set(style=\"darkgrid\")\n",
    "\n",
    "fig, ax = plt.subplots(figsize=(10,6))\n",
    "\n",
    "#hue: descomposición variable\n",
    "#queremos en el eje x se levante la variable\n",
    "#hue quiere decir: explica cual es la variable de descomposición que vamos a hacer en este ploteo\n",
    "#Se quiere contar el númeor de empresas por las cuatro categorías que se tiene, pero por año\n",
    "#linewidth es el espacio entre barras\n",
    "#y finalmente se llama a la data\n",
    "ax = sns.countplot(x=\"empresa\", hue=\"year\", linewidth=1, data=base2)\n",
    "plt.title(\"Evolución de las empresas en el periódo 2017-2019\")\n",
    "plt.xlabel(\" \")\n",
    "plt.ylabel(\" \")\n",
    "#nota, pie de página, colocamos la fuente\n",
    "txt = \"Elaboración propia - ENAHO (2011-2019)\"\n",
    "#la ubicación dentro de la figura para colocar la fuente (x=0.01, y=0.01, izquierda, arriba, tamaño)\n",
    "plt.figtext(0.01, 0.01, txt, wrap=True, horizontalalignment=\"left\", va=\"top\", fontsize=10)\n",
    "#mover la leyenda, centro derecha\n",
    "#upper, lower, center\n",
    "#right, left\n",
    "sns.move_legend(ax, \"center right\")"
   ]
  },
  {
   "cell_type": "code",
   "execution_count": null,
   "metadata": {},
   "outputs": [],
   "source": [
    "#NÚMERO DE EMPRESAS POR ESTRATO (URBANO O RURAL) Y EVOLUCIÓN POR AÑOS\n",
    "#hue = dividir en grupos pero en el mismo gráfico\n",
    "#col = crear dos nuevos grupos basados en el grupo de identificación\n",
    "\n",
    "\n",
    "#en el eje x vamos a tener hacia arriba el conteo de los números de empresas\n",
    "#hue, es decir, por años quiero ver la evolución\n",
    "#col significa quiero que me crees grupos, osea gráficos separados, a partir de la variable \"area\" (urbano, rural)\n",
    "#altura = 10, aspecto = 1\n",
    "ag = sns.catplot(x=\"empresa\", hue=\"year\", col=\"area\", data=base2, kind=\"count\", height=10, aspect=1):\n",
    "\n",
    "#ylim = el conteo va ir de 0 a 6000\n",
    "#despine y botton tienen que ver con las líneas que rodea al gráfico\n",
    "(ag.set_axis_labels(\"\", \"Número de empresas\")\n",
    " .set(ylim=(0, 6000))\n",
    " .despine(left=True), botton = True)"
   ]
  },
  {
   "attachments": {},
   "cell_type": "markdown",
   "metadata": {},
   "source": [
    "c. Gráfico de barras apiladas"
   ]
  },
  {
   "cell_type": "code",
   "execution_count": null,
   "metadata": {},
   "outputs": [],
   "source": [
    "#quedate con la data del 2019\n",
    "#agrupalos por empresa y area\n",
    "#dame el size, el tamaño\n",
    "#para pasarlo al DataFrame le hago un reseteo del índice\n",
    "enaho[enaho[\"year\"] == \"2019\"].groupby([\"empresa\", \"area\"]).size().reset_index(name=\"num_firms\")"
   ]
  },
  {
   "cell_type": "code",
   "execution_count": null,
   "metadata": {},
   "outputs": [],
   "source": [
    "#columna con las categorías\n",
    "#por empresa y por area\n",
    "base_2 = enaho[enaho[\"year\"] == \"2019\"].groupby([\"empresa\", \"area\"]).size().reset_index(name=\"num_firms\")\n",
    "base_2"
   ]
  },
  {
   "cell_type": "code",
   "execution_count": null,
   "metadata": {},
   "outputs": [],
   "source": [
    "#hay muchas formas de crear la data, dependiendo la figura solicitada\n",
    "#columnas de las categorias\n",
    "base_3 = base_2.pivot(index=\"empresa\", columns=\"area\", values=\"num_firms\")\n",
    "base_3"
   ]
  },
  {
   "cell_type": "code",
   "execution_count": null,
   "metadata": {},
   "outputs": [],
   "source": [
    "#kind,tipo de gráfico: barras\n",
    "#stacked, superpuesta: Si\n",
    "#colores, dos por que tiene dos categorías\n",
    "#título\n",
    "base_3.plot(kind=\"bar\", stacked=True, color=[\"blue\", \"lightblue\"], title=\"Empresa por estrato\")\n",
    "#los nombres de la categorías están inclinados 90°\n",
    "plt.xticks(rotation=90)"
   ]
  },
  {
   "cell_type": "code",
   "execution_count": null,
   "metadata": {},
   "outputs": [],
   "source": [
    "axes = base_3.plot(kind=\"bar\", rot=0, subplots=True, color=[\"blue\", \"lightblue\"], title=\"Empresa por estrato\")\n",
    "plt.xticks(rotation=90)"
   ]
  },
  {
   "attachments": {},
   "cell_type": "markdown",
   "metadata": {},
   "source": [
    "2. P R O P O R C I O N E S \n",
    "\n",
    "Gráficas comprensibles para mostrar variables categóricas. Se usan para explicar las participaciones de las categorías. "
   ]
  },
  {
   "attachments": {},
   "cell_type": "markdown",
   "metadata": {},
   "source": [
    "a. Torta"
   ]
  },
  {
   "cell_type": "code",
   "execution_count": null,
   "metadata": {},
   "outputs": [],
   "source": [
    "#En primer lugar, contraigo el marco de datos para contar categorías de una variable.\n",
    "\n",
    "#agrupado por empresas\n",
    "base = enaho.groupby([\"empresa\"]).count()\n",
    "base"
   ]
  },
  {
   "cell_type": "code",
   "execution_count": null,
   "metadata": {},
   "outputs": [],
   "source": [
    "#etiquetas para corregir nombres de categorías\n",
    "labels = [\"Microempresa\", \"Pequeña empresa\", \"Mediana empresa\", \"Gran empresa\"]\n",
    "\n",
    "#tamaño 5x5\n",
    "plt.figure(figsize=(5, 5))\n",
    "\n",
    "#base de datos conglomerado\n",
    "#labels ya se especifico antes\n",
    "#autopct, los decimales\n",
    "ax = plt.pie(base[\"conglome\"], labels=labels, autopct=\"%.2f %%\")\n",
    "\n",
    "#\n",
    "plt.title(\"Distribución de las empresas peruanas (2019)\")\n",
    "plt.show()"
   ]
  },
  {
   "cell_type": "code",
   "execution_count": null,
   "metadata": {},
   "outputs": [],
   "source": [
    "#crea una base de datos\n",
    "base = enaho.groupby(\"labor\").size()\n",
    "base"
   ]
  },
  {
   "attachments": {},
   "cell_type": "markdown",
   "metadata": {},
   "source": [
    "b. Donas"
   ]
  },
  {
   "cell_type": "code",
   "execution_count": null,
   "metadata": {},
   "outputs": [],
   "source": [
    "base2 = enaho.groupby([\"sector\"]).count()\n",
    "base2"
   ]
  },
  {
   "cell_type": "code",
   "execution_count": null,
   "metadata": {},
   "outputs": [],
   "source": [
    "labels = [\"Agricultura y pesca\", \"Minería\", \"Manufactura\", \"Construcción\", \n",
    "          \"Comercio\", \"Transporte y telecomunicaciones\", \"Finanzas\", \"Servicios\"]\n",
    "\n",
    "#tamaño de la figura\n",
    "plt.figure(figsize=(10,6))\n",
    "\n",
    "#labels ya se especificó\n",
    "#1.1 para un decimal\n",
    "#pdctdistance es la unicación de los porcentajes, que tan lejos del centro\n",
    "ax = plt.pie(base2[\"conglome\"], labels=labels, autopct=\"%1.1f%%\", pctdistance=0.85)\n",
    "\n",
    "#para crear la dona plt.Circle y el radio 0.50, y el fondo blanco\n",
    "center_circle = plt.Circle((0,0), 0.50, fc=\"white\")\n",
    "fig = plt.gcf()\n",
    "\n",
    "#se le agrega lo siguiente???\n",
    "fig.gca().add_artist(center_circle)\n",
    "\n",
    "plt.title(\"Distribución de la mano de obra contratada por sector económico\")\n",
    "\n",
    "#agregamos notas\n",
    "#posición, el texto, pegado, que se encuentre a la derecha, tamaño de la fuente 10\n",
    "txt = \"Elaboración propia - ENAHO(2011-2019)\"\n",
    "plt.figtext(0.2, 0.01, txt, wrap=True, horizontalalignment=\"right\", fontsize=10)\n",
    "\n",
    "plt.show()"
   ]
  },
  {
   "attachments": {},
   "cell_type": "markdown",
   "metadata": {},
   "source": [
    "3. D I S T R I B U C I O N E S\n",
    "\n",
    "Los diagramas de distribución son una forma de evaluar si los datos de una muestra se ajustan a una distribución teórica determinada. "
   ]
  },
  {
   "cell_type": "code",
   "execution_count": null,
   "metadata": {},
   "outputs": [],
   "source": [
    "#una muestra de ENAHO2019\n",
    "base4 = enaho[enaho[\"year\"] == \"2019\"]\n",
    "\n",
    "#de esta base se selecciona la variable salario\n",
    "#l_salario = logaritmo de salario\n",
    "#plotea ello\n",
    "#tipo histograma\n",
    "#bins, bloques de data de separación\n",
    "#tamaño 8,6\n",
    "#título\n",
    "base4[\"l_salario\"].plot(kind=\"hist\", bins=10, figsize=(8,6))\n",
    "plt.title(\"Logaritmo del salario por hora\")\n",
    "\n",
    "txt = \"Elaboración propia - ENAHO(2011-2019)\"\n",
    "plt.figtext(0.5, 0.01, txt, wraps=True, horizontalalignment=\"center\", fontsize=12)\n",
    "plt.show()"
   ]
  },
  {
   "attachments": {},
   "cell_type": "markdown",
   "metadata": {},
   "source": [
    "a. Reducción de Intervalos\n",
    "\n",
    "Distribución de frecuencias con un intervalo más pequeño (menor frecuencia relativa). Por lo tanto, la altura de cada barra representa una cantidad menor."
   ]
  },
  {
   "cell_type": "code",
   "execution_count": null,
   "metadata": {},
   "outputs": [],
   "source": [
    "sns.set(\"paper\")\n",
    "sns.set_style(\"ticks\")\n",
    "\n",
    "base4[\"l_salario\"].plot(kind=\"hist\", bins=20, figsize=(8,6))\n",
    "plt.title(\"Logaritmo del salario por hora\")\n",
    "\n",
    "txt = \"Elaboración propia - ENAHO(2011-2019)\"\n",
    "plt.figtext(0.5, 0.01, txt, wrap=True, horizontalalignment=\"center\", fontsize=11)\n",
    "plt.show()"
   ]
  },
  {
   "attachments": {},
   "cell_type": "markdown",
   "metadata": {},
   "source": [
    "b. Histogramas Multiples"
   ]
  },
  {
   "cell_type": "code",
   "execution_count": null,
   "metadata": {},
   "outputs": [],
   "source": [
    "#utilizamos la base4 como base\n",
    "#vamos a utilizar como columna \"empresa\" \n",
    "#col nos ayuda a crear bloques de gráficos distintos a partir de esa categoría\n",
    "#en nuestro caso, empresa representa 4 tipos (microempresa, pequeña empresa, madiana empresa, gran empresa)\n",
    "figure1 = sns.FacetGrid(base4, col=\"empresa\", margin_titles=True)\n",
    "\n",
    "#a esta figura has un .map, ploteo\n",
    "#tipo: histograma\n",
    "#quiero crear gráficos a partir de la subdivisión de las categorías de las empresas, utilizando la variable salario\n",
    "#np.linspace???\n",
    "figure1.map(plt.hist, \"l_salario\", bin=np.linspace(0, 20, 30))"
   ]
  },
  {
   "cell_type": "code",
   "execution_count": null,
   "metadata": {},
   "outputs": [],
   "source": [
    "#LA DENSIDAD DEL SALARIO REAL POR HORA\n",
    "#la distribución no se asemeja a una normal estánder. La información está concentrada\n",
    "#en valores más bajos y hay algunas observaciones de valores altos.\n",
    "\n",
    "plt.figure(figsize=(8, 8))\n",
    "\n",
    "#te plotea el histograma y te estima la densidad\n",
    "sns.distplot(base4[\"salario\"], label = \"Densidad\", color=\"blue\")\n",
    "plt.title(\"Salario por hora\")\n",
    "plt.xlabel(\"\")\n",
    "plt.show()"
   ]
  },
  {
   "cell_type": "code",
   "execution_count": null,
   "metadata": {},
   "outputs": [],
   "source": [
    "#LOGARITMO DEL SALARIO REAL POR HORA\n",
    "#esto permite corregir la asimetría presentada por los datos originales.\n",
    "\n",
    "plt.figure(figsize=(8, 8))\n",
    "\n",
    "sns.distplot(base4[\"l_salario\"], label=\"Densidad\", color=\"black\")\n",
    "plt.title(\"Logaritmo del salario por hora\")\n",
    "plt.xlabel(\"\")\n",
    "plt.show()"
   ]
  },
  {
   "cell_type": "code",
   "execution_count": null,
   "metadata": {},
   "outputs": [],
   "source": [
    "#SALARIOS RELAES PARA TRES SECTORES (CONSTRUCCIÓN, MINERÍA Y SERVICIOS)\n",
    "\n",
    "base4.l_salario[base4.sector==\"Construcción\"]\n",
    "\n",
    "#tamaño\n",
    "plt.figure(figsize=(10, 6))\n",
    "\n",
    "#quiero que se queden los salarios de los trabajadores que están en sector construcción\n",
    "#label: título, etiqueta\n",
    "#shade=sombra\n",
    "sns.kdeplot(base4.l_salario[base4.sector==\"Construcción\"], label=\"Construcción\", shade=True, color=\"blue\")\n",
    "\n",
    "#quiero que se queden los salarios de los trabajadores que están en sector servicios\n",
    "#label: título, etiqueta\n",
    "#shade=sombra\n",
    "sns.kdeplot(base4.l_salario[base4.sector==\"Comercio, hoteles y restaurantes\"], label=\"Comercio, hoteles y restaurantes\", shade=True, color=\"orange\")\n",
    "\n",
    "#quiero que se queden los salarios de los trabajadores que están en sector minero\n",
    "#label: título, etiqueta\n",
    "#shade=sombra\n",
    "sns.kdeplot(base4.l_salario[base4.sector==\"Minería\"], label=\"Minería\", shade=True, color=\"gray\")\n",
    "\n",
    "#título del eje x\n",
    "plt.xlabel(\"Logaritmo del salario by Industry\")"
   ]
  },
  {
   "cell_type": "code",
   "execution_count": null,
   "metadata": {},
   "outputs": [],
   "source": [
    "#OCUPACIONES LABORALES Y DENSIDADES DE SALARIO REAL POR HORA\n",
    "#se utiliza un bucle para incluir en el mismo gráfico la función de densidad de salarios\n",
    "#por hora para diferentes ocupaciones.\n",
    "\n",
    "#plotear la figura y el tamaño de la figura\n",
    "fig, ax = plt.subplots(figsize=(8, 6))\n",
    "\n",
    "sector = [\"Ocupaciones elementales\", \"Profesionales y fuerzas armadas\", \"Operadores de planta y maquinaria\", \n",
    "          \"Trabajo en actividades agrícolas, selvicultura y pesca\"]\n",
    "nombre = [\"Ocupaciones elementales\", \"Profesionales\", \"Planta y maquinaria\", \n",
    "          \"Actividades extractivas\"]\n",
    "\n",
    "#una especie de tupla (sector y nombre)\n",
    "for a, b in zip(sector, nombre):\n",
    "    #nos quedamos con todos los sectores: a\n",
    "    #label/etiqueta: b\n",
    "    sns.kdeplot(base4.l_salario[base4.labor==a], label=b, shade=True)\n",
    "\n",
    "plt.xlabel(\"Logaritmo del salario por tipo de ocupación\")"
   ]
  },
  {
   "cell_type": "code",
   "execution_count": null,
   "metadata": {},
   "outputs": [],
   "source": [
    "#BOX PLOT SALARIO REAL Y EDUCACIÓN\n",
    "\n",
    "fig, ax = plt.subplots(figsize=(10,6))\n",
    "\n",
    "#a partir de dos variables (educación y logaritmo de salario)\n",
    "#utilizamos el dato del 2019\n",
    "#palette: escala de colores\n",
    "#labels x y\n",
    "box = sns.boxplot(x=\"educ\", y=\"l_salario\", data=enaho[enaho[\"year\"]==\"2019\"], palette=\"rainbow\")\n",
    "plt.xlabel(\"Nivel educativo alcanzado\")\n",
    "plt.ylabel(\"Logaritmo del salario por hora\")\n",
    "#para cada categoría pondremos estos nombres\n",
    "(box.set_xticklabels([\"Sec. completa\", \"No uni. incompleta\", \"No uni. completa\", \"Uni. incompleta\", \n",
    "                       \"Uni. completa\", \"Posgrado\"]))"
   ]
  },
  {
   "attachments": {},
   "cell_type": "markdown",
   "metadata": {},
   "source": [
    "4. R E L A C I O N E S\n",
    "\n",
    "Los gráficos utilizan tantos datos de series temporales como datos transversales. Estos gráficos permiten establecer ciertas evidencias de correlación o relaciones entre variables."
   ]
  },
  {
   "attachments": {},
   "cell_type": "markdown",
   "metadata": {},
   "source": [
    "a. Gráfico de dispersión\n",
    "\n",
    "Primero, se extrae una muestra aleatoria de la base de datos original. Posteriormente, se presenta un gráfico de dispersión entre el salario por hora (logaritmo) y el ingreso mensual no laboral (logaritmo)."
   ]
  },
  {
   "cell_type": "code",
   "execution_count": null,
   "metadata": {},
   "outputs": [],
   "source": [
    "#formato tipo paper, utilizado para publicaciones\n",
    "sns.set(\"paper\")\n",
    "#tamaño\n",
    "plt.figure(figsize=(8, 8))\n",
    "\n",
    "#la data es base4\n",
    "#x y: queremos ver un scatterplot entre el logaritmo del salario laboral por hora y de los ingresos mensuales no laborales\n",
    "#hue=sector, quiero que kla diferencia de colores sea a partir de los sectores\n",
    "#deep, tipo de color\n",
    "plot = sns.scatterplot(data=base4, x=\"l_n_labor\", y=\"l_salario\", hue=\"sector\", palette=\"deep\")\n",
    "\n",
    "#nombramos\n",
    "plt.xlabel(\"Logaritmo del salario laboral por hora\")\n",
    "plt.ylabel(\"Logaritmo de los ingresos mensuales no laborales\")\n",
    "\n",
    "#leyenda\n",
    "#localizada centrada izquierda\n",
    "#menos es izquierda\n",
    "#número de columnas es 3\n",
    "plot.legend(loc=\"center left\", bbox_to_anchor=(-0.2, -0.2), ncol=3) "
   ]
  },
  {
   "cell_type": "code",
   "execution_count": null,
   "metadata": {},
   "outputs": [],
   "source": [
    "#de la base4 vamos a tomar aleatoriamente 3000 unidades\n",
    "base5 = base4.sample(n=3000)\n",
    "\n",
    "#formato tipo paper\n",
    "sns.set(\"paper\")\n",
    "#tamaño\n",
    "plt.figure(figsize=(10,10))\n",
    "\n",
    "#\n",
    "plot = sns.scatterplot(data=base5, x=\"l_n_labor\", y=\"l_salario\", hue=\"sector\", palette=\"flare\")\n",
    "\n",
    "plt.xlabel(\"Logaritmo del salario laboral por hora\")\n",
    "plt.ylabel(\"Logaritmo de los ingresos mensuales no laborales\")\n",
    "\n",
    "#leyenda\n",
    "#centro izquierda\n",
    "#ubicación de la leyenda en términos de dirección\n",
    "#una columna\n",
    "plot.legend(loc=\"center left\", bbox_to_anchor=(1, 0.5), ncol=1)"
   ]
  },
  {
   "cell_type": "code",
   "execution_count": null,
   "metadata": {},
   "outputs": [],
   "source": [
    "#REGRESIÓN DEL SALARIO REAL POR HORA E INGRESO NO LABORAL POR ESTRATO\n",
    "#s = el tamaño del marcador en puntos**2\n",
    "#linewidths = el ancho de línea de los bordes del marcador\n",
    "\n",
    "sns.set_style(\"white\")\n",
    "\n",
    "#sns.lmplot: modelo lineal\n",
    "#utilizamos dos variables\n",
    "#con la base de datos dase5\n",
    "#altura 7\n",
    "#robust, el modelo lineal puede ser corregido a partir de los errores estandar, tipo robustos\n",
    "#paleta: Set1\n",
    "#col: significa separar por grupos, cuando corramos la regresión o este modelo lineal \n",
    "gridobj = sns.lmplot(x=\"l_salario\", y=\"l_n_labor\",\n",
    "                     data=base5, \n",
    "                     height=7, \n",
    "                     robust=True, \n",
    "                     palette=\"Set1\", \n",
    "                     col=\"area\", \n",
    "                     scatter_kws=dict(s=60, linewidths=0.7, edgecolors=\"black\"))\n",
    "\n",
    "gridobj.set(xlim=(0.5, 7.5), ylim=(0, 50))\n",
    "plt.show()\n",
    "\n",
    "\n",
    "2:11:24"
   ]
  }
 ],
 "metadata": {
  "kernelspec": {
   "display_name": "base",
   "language": "python",
   "name": "python3"
  },
  "language_info": {
   "codemirror_mode": {
    "name": "ipython",
    "version": 3
   },
   "file_extension": ".py",
   "mimetype": "text/x-python",
   "name": "python",
   "nbconvert_exporter": "python",
   "pygments_lexer": "ipython3",
   "version": "3.9.13"
  },
  "orig_nbformat": 4,
  "vscode": {
   "interpreter": {
    "hash": "6f5583cf1d9466b5c27e75c89cc6b383bed5736d6b16c51c8074d8690011a952"
   }
  }
 },
 "nbformat": 4,
 "nbformat_minor": 2
}

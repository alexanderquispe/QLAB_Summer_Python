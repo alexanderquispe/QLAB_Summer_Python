{
 "cells": [
  {
   "cell_type": "markdown",
   "metadata": {},
   "source": [
    "# Assigment 6\n",
    "\n",
    "This assigment will be graded if everything works well. I will run the script as once and everything should be done without errors and mistakes. I should be able to run your scripts in my computer and get all the results. **USE RELATIVE PATHS**. An error or exception or anything that breaks the code will means NO GRADE (0). Additionally, you are not able to modify any file handly. It also means NO GRADE (0). Comment everything you think will help others read your script. We expect 0 errors using GitHub. Everything will be graded!\n",
    "\n",
    "**ASK EVERYTHING! WE ARE HERE TO HELP YOU!**"
   ]
  },
  {
   "cell_type": "markdown",
   "metadata": {},
   "source": [
    "1. Generate a folder with the name of your group in this folder **GitHub\\Diplomado_PUCP\\_output\\sbs\\municipal**. The code should run even if the folder exists.\n",
    "2. Scrape all the available information in this [link](https://www.sbs.gob.pe/app/pp/EstadisticasSAEEPortal/Paginas/TIActivaTipoCreditoEmpresa.aspx?tip=C). Save an excel file by year and month request. The excel file should be name using the month and year of the sheet."
   ]
  },
  {
   "cell_type": "markdown",
   "source": [
    "### Installing packages"
   ],
   "metadata": {
    "collapsed": false
   }
  },
  {
   "cell_type": "code",
   "execution_count": null,
   "metadata": {
    "pycharm": {
     "is_executing": true
    }
   },
   "outputs": [],
   "source": [
    "#!pip install selenium\n",
    "#!pip install webdriver-manager"
   ]
  },
  {
   "cell_type": "markdown",
   "source": [
    "### Importing libraries"
   ],
   "metadata": {
    "collapsed": false
   }
  },
  {
   "cell_type": "code",
   "execution_count": 1,
   "metadata": {},
   "outputs": [],
   "source": [
    "# This library is to manipulate browser\n",
    "from selenium import webdriver\n",
    "\n",
    "# it allows you to work with differen versions of drivers\n",
    "# We call ChromeDriver\n",
    "from webdriver_manager.chrome import ChromeDriverManager\n",
    "import os\n",
    "\n",
    "# Options driver\n",
    "from selenium.webdriver.chrome.options import Options\n",
    "\n",
    "# For dataframes\n",
    "import pandas as pd\n",
    "\n",
    "# For simulate human behavior.\n",
    "import time\n",
    "from selenium.webdriver.common.by import By\n",
    "\n",
    "import numpy as np"
   ]
  },
  {
   "cell_type": "markdown",
   "source": [
    "### Generating the folder"
   ],
   "metadata": {
    "collapsed": false
   }
  },
  {
   "cell_type": "code",
   "execution_count": null,
   "outputs": [],
   "source": [
    "folder_name = \"group5\"\n",
    "relative_path = \"..\\..\\_output\\sbs\\municipal/\" + folder_name\n",
    "\n",
    "if not os.path.exists(relative_path):\n",
    "    os.makedirs(relative_path)\n",
    "    print(f\"Folder '{folder_name}' created successfully!\")\n",
    "else:\n",
    "    print(f\"Folder '{folder_name}' already exists!\")"
   ],
   "metadata": {
    "collapsed": false,
    "pycharm": {
     "is_executing": true
    }
   }
  },
  {
   "cell_type": "code",
   "execution_count": null,
   "metadata": {
    "pycharm": {
     "is_executing": true
    }
   },
   "outputs": [],
   "source": [
    "# install ChromeDriverManager\n",
    "driver = webdriver.Chrome( ChromeDriverManager().install() )\n",
    "driver.maximize_window()\n",
    "\n",
    "# Setting\n",
    "options= Options()\n",
    "options.add_argument(\"--start-maximized\")\n",
    "driver = webdriver.Chrome(ChromeDriverManager().install(),options=options)\n",
    "# we open our page\n",
    "driver.get(\"https://www.sbs.gob.pe/app/pp/EstadisticasSAEEPortal/Paginas/TIActivaTipoCreditoEmpresa.aspx?tip=C\")"
   ]
  },
  {
   "cell_type": "markdown",
   "source": [
    "### Identifying dropdowns and buttons"
   ],
   "metadata": {
    "collapsed": false
   }
  },
  {
   "cell_type": "code",
   "execution_count": 4,
   "metadata": {},
   "outputs": [],
   "source": [
    "# Dropdown button list\n",
    "dropdown_button_year = driver.find_element( By.ID, \"ctl00_cphContent_rAnio\")\n",
    "dropdown_button_year.click()"
   ]
  },
  {
   "cell_type": "code",
   "execution_count": 5,
   "metadata": {},
   "outputs": [],
   "source": [
    "# Generate the year list from the dropdown\n",
    "list_year = driver.find_element( By.ID,  \"ctl00_cphContent_rAnio_DropDown\" )\n",
    "years_list = list_year.find_elements( By.TAG_NAME, 'li')\n",
    "list_year_options = len(years_list)"
   ]
  },
  {
   "cell_type": "code",
   "execution_count": 6,
   "metadata": {},
   "outputs": [],
   "source": [
    "# Dropdown button month\n",
    "dropdown_button_month = driver.find_element( By.ID,  \"ctl00_cphContent_rMes\")\n",
    "dropdown_button_month.click()"
   ]
  },
  {
   "cell_type": "code",
   "execution_count": 7,
   "metadata": {},
   "outputs": [],
   "source": [
    "# Generate the month list from the dropdown\n",
    "list_month = driver.find_element( By.ID,  \"ctl00_cphContent_rMes_DropDown\" )\n",
    "months_list = list_month.find_elements( By.TAG_NAME, 'li')\n",
    "list_month_options = len(months_list)"
   ]
  },
  {
   "cell_type": "code",
   "execution_count": 8,
   "outputs": [],
   "source": [
    "# Identifying the \"Consulta\" button\n",
    "driver.find_element( By.ID, \"ctl00_cphContent_btnConsultaMensual\").click()\n",
    "driver.get(\"https://www.sbs.gob.pe/app/pp/EstadisticasSAEEPortal/Paginas/TIActivaTipoCreditoEmpresa.aspx?tip=C\")"
   ],
   "metadata": {
    "collapsed": false
   }
  },
  {
   "cell_type": "code",
   "execution_count": 9,
   "outputs": [],
   "source": [
    "# We can notice that the buttons change the id with Mn or Mex if its national or foreign currency, so we generate a list that has the value of string in order to generate a loop for currency\n",
    "driver.find_element( By.ID, \"ctl00_cphContent_lbtnMn\").click()\n",
    "driver.find_element( By.ID, \"ctl00_cphContent_lbtnMex\").click()\n",
    "list_currency = [\"Mn\", \"Mex\"]"
   ],
   "metadata": {
    "collapsed": false
   }
  },
  {
   "cell_type": "code",
   "execution_count": 10,
   "metadata": {},
   "outputs": [],
   "source": [
    "# We generate two arrays for the year and month, starting with the second item of the list\n",
    "year_numbers_opt = np.array( [1, 0 ] + np.arange(2, list_year_options).tolist() )\n",
    "month_numbers_opt = np.array( [1, 0 ] + np.arange(2, list_month_options).tolist() )"
   ]
  },
  {
   "cell_type": "markdown",
   "source": [
    "### Downloading tables from interest rates in national and foreing currency"
   ],
   "metadata": {
    "collapsed": false
   }
  },
  {
   "cell_type": "code",
   "execution_count": null,
   "metadata": {
    "pycharm": {
     "is_executing": true
    }
   },
   "outputs": [],
   "source": [
    "# We generate list of years, months and tables, in order to identify the different objects that we are webscrapping\n",
    "years_info_list = []\n",
    "months_info_list = []\n",
    "tables_info_list = []\n",
    "\n",
    "# We open our page\n",
    "driver.get(\"https://www.sbs.gob.pe/app/pp/EstadisticasSAEEPortal/Paginas/TIActivaTipoCreditoEmpresa.aspx?tip=C\")\n",
    "\n",
    "# Generating a for loop for every year in the dropdown list\n",
    "for year_number in year_numbers_opt:\n",
    "\n",
    "    # Dropdown button list\n",
    "    dropdown_button_year = driver.find_element( By.ID, \"ctl00_cphContent_rAnio\")\n",
    "    dropdown_button_year.click()\n",
    "\n",
    "    # List of years options\n",
    "    time.sleep(0.5)\n",
    "    driver.find_element( By.XPATH,  f\"/html/body/form/div[1]/div/ul/li[{year_number + 1 }]\" ).click()\n",
    "    year_text = driver.find_element( By.ID, \"ctl00_cphContent_rAnio\").text\n",
    "\n",
    "    # Generating a for loop for every month in the dropdown list\n",
    "    for month_number in month_numbers_opt:\n",
    "\n",
    "        # Dropdown button list\n",
    "        dropdown_button_month = driver.find_element( By.ID, \"ctl00_cphContent_rMes\")\n",
    "        dropdown_button_month.click()\n",
    "\n",
    "        # # List of months options\n",
    "        time.sleep(0.5)\n",
    "        driver.find_element( By.XPATH,  f\"/html/body/form/div[1]/div/ul/li[{month_number + 1 }]\" ).click()\n",
    "        month_text = driver.find_element( By.ID, \"ctl00_cphContent_rMes\").text\n",
    "        print( year_text )\n",
    "        print( month_text )\n",
    "\n",
    "        # Click consultar\n",
    "        driver.find_element( By.ID,\"ctl00_cphContent_btnConsultaMensual\").click()\n",
    "        time.sleep(5)\n",
    "\n",
    "        year_float = int(year_text)\n",
    "\n",
    "        # Generating a for loop for the two types of currencies\n",
    "        for currency in list_currency:\n",
    "            # Selecting the currency, there are two types of ids for the currency buttons\n",
    "            try:\n",
    "                driver.find_element( By.ID, f\"ctl00_cphContent_lbtn{currency}\" ).click()\n",
    "                time.sleep(5)\n",
    "                print(currency)\n",
    "            except:\n",
    "                print(\"No currency tipo 1\")\n",
    "\n",
    "            try:\n",
    "\n",
    "                driver.find_element( By.ID, f\"ctl00_cphContent_lbtn{currency}ASP\" ).click()\n",
    "                time.sleep(5)\n",
    "                print(currency)\n",
    "            except:\n",
    "                print(\"No currency tipo 2\")\n",
    "\n",
    "            # Identifying the tables in the web page, there are three types of formats in all the period of interest\n",
    "            # Type 1 table - Changing the frame and extracting a simple table\n",
    "            try:\n",
    "                # Switch frame\n",
    "                driver.switch_to.frame(driver.find_element( By.ID,f\"ctl00_cphContent_pnContenidoAnteriorMnASP\"))\n",
    "                section_tab_table = driver.find_element( By.XPATH,  \"/html/body/form/table/tbody\" )\n",
    "                table_html = section_tab_table.get_attribute('outerHTML')\n",
    "                table_pd = pd.read_html( table_html )\n",
    "\n",
    "                # Cleaning table\n",
    "                table_clean_1 = table_pd[1].iloc[5:, :].copy().reset_index( drop = True )\n",
    "\n",
    "                # Changing switch\n",
    "                driver.switch_to.default_content()\n",
    "\n",
    "                print(\"Table Tipo 1 - Cambiar de Frame y una tabla simple\")\n",
    "\n",
    "            except:\n",
    "                print(\"No table Tipo 1\")\n",
    "                table_clean_1 = \"Null\"\n",
    "\n",
    "            # Type 2 - Without changing the frame and extracting a complex table\n",
    "            try:\n",
    "                # Get tables\n",
    "                section_id_table = driver.find_element( By.ID, f\"ctl00_cphContent_rpgActual{currency}_OT\" )\n",
    "                table_html = section_id_table.get_attribute('outerHTML')\n",
    "                table_pd = pd.read_html( table_html )\n",
    "\n",
    "                # generate table objects\n",
    "                table0, table1 = table_pd[0], table_pd[1]\n",
    "                table_clean_2 = table1.copy()\n",
    "\n",
    "                # Number of rows of second table\n",
    "                tb1_rows = table1.shape[0]\n",
    "                drop_rows = np.arange( 1, tb1_rows + 2 )\n",
    "\n",
    "                # Clean first table\n",
    "                table0 = table0.drop( drop_rows, axis = 0 )\n",
    "\n",
    "                # Assign values to new table\n",
    "                col_name = table0.iloc[0, 0]\n",
    "                col_values = table0.iloc[1:, 0].tolist()\n",
    "                table_clean_2.insert( loc = 0, column= col_name, value = col_values)\n",
    "\n",
    "                print(\"Table Tipo 2 - No Cambiar de Frame y una tabla Compleja\")\n",
    "\n",
    "            except:\n",
    "                print(\"No table Tipo 2\")\n",
    "                table_clean_2 = \"Null\"\n",
    "\n",
    "\n",
    "            # Check what to save\n",
    "            if ( ( isinstance( table_clean_2, str ) == False ) and ( table_clean_2.shape[1] > 5 ) ):\n",
    "\n",
    "                # Data with no frame\n",
    "                table_clean_2.to_excel( fr\"..\\..\\..\\Diplomado_PUCP\\_output\\sbs\\municipal\\group5/table_clean_{year_text}_{month_text}_{currency}.xlsx\", index = False )\n",
    "\n",
    "                years_info_list.append( year_float)\n",
    "                months_info_list.append( month_text )\n",
    "                tables_info_list.append( \"Table 2\" )\n",
    "                print(\"guardo2\")\n",
    "\n",
    "            elif ( ( isinstance( table_clean_1, str ) == False ) and ( table_clean_1.shape[1] > 5 ) ):\n",
    "                # Data with frame and 1 table\n",
    "                table_clean_1.to_excel( fr\"..\\..\\..\\Diplomado_PUCP\\_output\\sbs\\municipal\\group5/table_clean_{year_text}_{month_text}_{currency}.xlsx\", index = False , header = False )\n",
    "\n",
    "                years_info_list.append( year_float)\n",
    "                months_info_list.append( month_text )\n",
    "                tables_info_list.append( \"Table 1\" )\n",
    "                print(\"guardo1\")\n",
    "\n",
    "            # No table information\n",
    "            # Go to a next month/year combination\n",
    "            else:\n",
    "                # Day ago\n",
    "                years_info_list.append( year_float)\n",
    "                months_info_list.append( month_text )\n",
    "                tables_info_list.append( \"No Table\" )\n",
    "\n",
    "            driver. switch_to.default_content()\n"
   ]
  },
  {
   "cell_type": "code",
   "execution_count": 12,
   "outputs": [],
   "source": [
    "# Validation of the years, months and table types\n",
    "years_unique = list(set(years_info_list))\n",
    "months_unique = list(set(months_info_list))\n",
    "tables_unique = list(set(tables_info_list))"
   ],
   "metadata": {
    "collapsed": false
   }
  }
 ],
 "metadata": {
  "hide_input": false,
  "kernelspec": {
   "display_name": "Python 3 (ipykernel)",
   "language": "python",
   "name": "python3"
  },
  "language_info": {
   "codemirror_mode": {
    "name": "ipython",
    "version": 3
   },
   "file_extension": ".py",
   "mimetype": "text/x-python",
   "name": "python",
   "nbconvert_exporter": "python",
   "pygments_lexer": "ipython3",
   "version": "3.9.13"
  },
  "toc": {
   "base_numbering": 1,
   "nav_menu": {},
   "number_sections": true,
   "sideBar": true,
   "skip_h1_title": false,
   "title_cell": "Table of Contents",
   "title_sidebar": "Contents",
   "toc_cell": false,
   "toc_position": {},
   "toc_section_display": true,
   "toc_window_display": false
  }
 },
 "nbformat": 4,
 "nbformat_minor": 4
}

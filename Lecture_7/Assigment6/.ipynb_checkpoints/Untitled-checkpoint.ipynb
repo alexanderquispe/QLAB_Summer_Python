{
 "cells": [
  {
   "cell_type": "code",
   "execution_count": 1,
   "id": "4f5ee35f",
   "metadata": {},
   "outputs": [
    {
     "name": "stdout",
     "output_type": "stream",
     "text": [
      "Requirement already satisfied: selenium in c:\\users\\laptop\\anaconda3\\lib\\site-packages (4.8.0)\n",
      "Requirement already satisfied: trio~=0.17 in c:\\users\\laptop\\anaconda3\\lib\\site-packages (from selenium) (0.22.0)\n",
      "Requirement already satisfied: trio-websocket~=0.9 in c:\\users\\laptop\\anaconda3\\lib\\site-packages (from selenium) (0.9.2)\n",
      "Requirement already satisfied: certifi>=2021.10.8 in c:\\users\\laptop\\anaconda3\\lib\\site-packages (from selenium) (2022.9.14)\n",
      "Requirement already satisfied: urllib3[socks]~=1.26 in c:\\users\\laptop\\anaconda3\\lib\\site-packages (from selenium) (1.26.11)\n",
      "Requirement already satisfied: exceptiongroup>=1.0.0rc9 in c:\\users\\laptop\\anaconda3\\lib\\site-packages (from trio~=0.17->selenium) (1.1.0)\n",
      "Requirement already satisfied: cffi>=1.14 in c:\\users\\laptop\\anaconda3\\lib\\site-packages (from trio~=0.17->selenium) (1.15.1)\n",
      "Requirement already satisfied: sniffio in c:\\users\\laptop\\anaconda3\\lib\\site-packages (from trio~=0.17->selenium) (1.2.0)\n",
      "Requirement already satisfied: attrs>=19.2.0 in c:\\users\\laptop\\anaconda3\\lib\\site-packages (from trio~=0.17->selenium) (21.4.0)\n",
      "Requirement already satisfied: async-generator>=1.9 in c:\\users\\laptop\\anaconda3\\lib\\site-packages (from trio~=0.17->selenium) (1.10)\n",
      "Requirement already satisfied: sortedcontainers in c:\\users\\laptop\\anaconda3\\lib\\site-packages (from trio~=0.17->selenium) (2.4.0)\n",
      "Requirement already satisfied: outcome in c:\\users\\laptop\\anaconda3\\lib\\site-packages (from trio~=0.17->selenium) (1.2.0)\n",
      "Requirement already satisfied: idna in c:\\users\\laptop\\anaconda3\\lib\\site-packages (from trio~=0.17->selenium) (3.3)\n",
      "Requirement already satisfied: wsproto>=0.14 in c:\\users\\laptop\\anaconda3\\lib\\site-packages (from trio-websocket~=0.9->selenium) (1.2.0)\n",
      "Requirement already satisfied: PySocks!=1.5.7,<2.0,>=1.5.6 in c:\\users\\laptop\\anaconda3\\lib\\site-packages (from urllib3[socks]~=1.26->selenium) (1.7.1)\n",
      "Requirement already satisfied: pycparser in c:\\users\\laptop\\anaconda3\\lib\\site-packages (from cffi>=1.14->trio~=0.17->selenium) (2.21)\n",
      "Requirement already satisfied: h11<1,>=0.9.0 in c:\\users\\laptop\\anaconda3\\lib\\site-packages (from wsproto>=0.14->trio-websocket~=0.9->selenium) (0.14.0)\n",
      "Requirement already satisfied: webdriver-manager in c:\\users\\laptop\\anaconda3\\lib\\site-packages (3.8.5)\n",
      "Requirement already satisfied: tqdm in c:\\users\\laptop\\anaconda3\\lib\\site-packages (from webdriver-manager) (4.64.1)\n",
      "Requirement already satisfied: requests in c:\\users\\laptop\\anaconda3\\lib\\site-packages (from webdriver-manager) (2.28.1)\n",
      "Requirement already satisfied: python-dotenv in c:\\users\\laptop\\anaconda3\\lib\\site-packages (from webdriver-manager) (0.21.1)\n",
      "Requirement already satisfied: packaging in c:\\users\\laptop\\anaconda3\\lib\\site-packages (from webdriver-manager) (21.3)\n",
      "Requirement already satisfied: pyparsing!=3.0.5,>=2.0.2 in c:\\users\\laptop\\anaconda3\\lib\\site-packages (from packaging->webdriver-manager) (3.0.9)\n",
      "Requirement already satisfied: urllib3<1.27,>=1.21.1 in c:\\users\\laptop\\anaconda3\\lib\\site-packages (from requests->webdriver-manager) (1.26.11)\n",
      "Requirement already satisfied: certifi>=2017.4.17 in c:\\users\\laptop\\anaconda3\\lib\\site-packages (from requests->webdriver-manager) (2022.9.14)\n",
      "Requirement already satisfied: idna<4,>=2.5 in c:\\users\\laptop\\anaconda3\\lib\\site-packages (from requests->webdriver-manager) (3.3)\n",
      "Requirement already satisfied: charset-normalizer<3,>=2 in c:\\users\\laptop\\anaconda3\\lib\\site-packages (from requests->webdriver-manager) (2.0.4)\n",
      "Requirement already satisfied: colorama in c:\\users\\laptop\\anaconda3\\lib\\site-packages (from tqdm->webdriver-manager) (0.4.5)\n"
     ]
    }
   ],
   "source": [
    "##Library\n",
    "\n",
    "# For scrape\n",
    "!pip install selenium\n",
    "!pip install webdriver-manager\n",
    "\n",
    "from selenium import webdriver\n",
    "from webdriver_manager.chrome import ChromeDriverManager\n",
    "\n",
    "# Options driver\n",
    "from selenium.webdriver.chrome.options import Options\n",
    "\n",
    "# For dataframes\n",
    "import pandas as pd\n",
    "from pandas import json_normalize\n",
    "\n",
    "# For simulate human behavior.\n",
    "import time\n",
    "from time import sleep\n",
    "import random\n",
    "from selenium.webdriver.common.by import By\n",
    "\n",
    "# Clear data\n",
    "import unidecode\n",
    "#unaccented_string = unidecode.unidecode(accented_string)\n",
    "\n",
    "# Manipulate Json files\n",
    "import json\n",
    "import re\n",
    "import numpy as np\n",
    "\n",
    "# Change directory\n",
    "import os"
   ]
  },
  {
   "cell_type": "code",
   "execution_count": 2,
   "id": "189afc0b",
   "metadata": {},
   "outputs": [
    {
     "data": {
      "text/plain": [
       "'C:\\\\Users\\\\Laptop\\\\Documents\\\\GitHub\\\\Diplomado_PUCP\\\\Lecture_7\\\\Assigment6'"
      ]
     },
     "execution_count": 2,
     "metadata": {},
     "output_type": "execute_result"
    }
   ],
   "source": [
    "pwd"
   ]
  },
  {
   "cell_type": "code",
   "execution_count": 3,
   "id": "1a108917",
   "metadata": {},
   "outputs": [],
   "source": [
    "os.chdir(r'..\\..\\_output\\sbs\\municipal')"
   ]
  },
  {
   "cell_type": "code",
   "execution_count": 4,
   "id": "d3353c52",
   "metadata": {},
   "outputs": [],
   "source": [
    "import os\n",
    "\n",
    "def createFolder(oso):\n",
    "    try:\n",
    "        if not os.path.exists(oso):\n",
    "            os.makedirs(oso)\n",
    "    except OSError:\n",
    "        print ('Error: Creating directory. ' +  oso)"
   ]
  },
  {
   "cell_type": "code",
   "execution_count": 5,
   "id": "4f6b6e23",
   "metadata": {},
   "outputs": [],
   "source": [
    "createFolder('./group_1_ass_6_2022/')"
   ]
  },
  {
   "cell_type": "code",
   "execution_count": 6,
   "id": "05bf3ef5",
   "metadata": {},
   "outputs": [
    {
     "data": {
      "text/plain": [
       "'C:\\\\Users\\\\Laptop\\\\Documents\\\\GitHub\\\\Diplomado_PUCP\\\\_output\\\\sbs\\\\municipal'"
      ]
     },
     "execution_count": 6,
     "metadata": {},
     "output_type": "execute_result"
    }
   ],
   "source": [
    "pwd"
   ]
  },
  {
   "cell_type": "code",
   "execution_count": 7,
   "id": "26d4b0fd",
   "metadata": {},
   "outputs": [],
   "source": [
    "os.chdir(r'..\\..\\..\\_output\\sbs\\municipal\\group_1_ass_6_2022')"
   ]
  },
  {
   "cell_type": "code",
   "execution_count": 8,
   "id": "96e165ba",
   "metadata": {},
   "outputs": [
    {
     "name": "stderr",
     "output_type": "stream",
     "text": [
      "[WDM] - Downloading: 100%|████████████████████████████████████████████████████████| 6.78M/6.78M [00:01<00:00, 3.69MB/s]\n",
      "C:\\Users\\Laptop\\AppData\\Local\\Temp\\ipykernel_25616\\1018851190.py:4: DeprecationWarning: executable_path has been deprecated, please pass in a Service object\n",
      "  driver = webdriver.Chrome(ChromeDriverManager().install(),options=options)\n"
     ]
    }
   ],
   "source": [
    "# Setting\n",
    "options= Options()\n",
    "options.add_argument(\"--start-maximized\")\n",
    "driver = webdriver.Chrome(ChromeDriverManager().install(),options=options)\n",
    "# we open our page\n",
    "# Cajas municipales\n",
    "driver.get(\"https://www.sbs.gob.pe/app/pp/EstadisticasSAEEPortal/Paginas/TIActivaTipoCreditoEmpresa.aspx?tip=C\")"
   ]
  },
  {
   "cell_type": "code",
   "execution_count": 9,
   "id": "a42a7ccb",
   "metadata": {},
   "outputs": [],
   "source": [
    "# Dropdown button list\n",
    "dropdown_button_year = driver.find_element( By.ID, \"ctl00_cphContent_rAnio\")\n",
    "dropdown_button_year.click()\n",
    "\n",
    "# List of years options\n",
    "list_year = driver.find_element( By.ID, \"ctl00_cphContent_rAnio_DropDown\" )\n",
    "years_list = list_year.find_elements( By.TAG_NAME, 'li')\n",
    "list_year_options = len(years_list)\n",
    "\n",
    "# Dropdown button list\n",
    "dropdown_button_month = driver.find_element( By.ID, \"ctl00_cphContent_rMes\")\n",
    "dropdown_button_month.click()\n",
    "\n",
    "# # List of months options\n",
    "list_month = driver.find_element( By.ID,  \"ctl00_cphContent_rMes_DropDown\" )\n",
    "months_list = list_month.find_elements( By.TAG_NAME, 'li')\n",
    "list_month_options = len(months_list)\n",
    "driver.find_element( By.ID, \"ctl00_cphContent_btnConsultaMensual\").click()\n",
    "driver.get(\"https://www.sbs.gob.pe/app/pp/EstadisticasSAEEPortal/Paginas/TIActivaTipoCreditoEmpresa.aspx?tip=C\")"
   ]
  },
  {
   "cell_type": "code",
   "execution_count": 10,
   "id": "7f4c2d69",
   "metadata": {},
   "outputs": [],
   "source": [
    "year_numbers_opt = np.array( [1, 0 ] + np.arange(2, list_year_options).tolist() )\n",
    "month_numbers_opt = np.array( [1, 0 ] + np.arange(2, list_month_options).tolist() )"
   ]
  },
  {
   "cell_type": "code",
   "execution_count": 11,
   "id": "fd676f0f",
   "metadata": {},
   "outputs": [
    {
     "name": "stdout",
     "output_type": "stream",
     "text": [
      "2022\n",
      "Febrero\n"
     ]
    },
    {
     "ename": "NoSuchElementException",
     "evalue": "Message: no such element: Unable to locate element: {\"method\":\"css selector\",\"selector\":\"[id=\"ctl00_cphContent_lbtnMexl\"]\"}\n  (Session info: chrome=110.0.5481.104)\nStacktrace:\nBacktrace:\n\t(No symbol) [0x00E737D3]\n\t(No symbol) [0x00E08B81]\n\t(No symbol) [0x00D0B36D]\n\t(No symbol) [0x00D3D382]\n\t(No symbol) [0x00D3D4BB]\n\t(No symbol) [0x00D73302]\n\t(No symbol) [0x00D5B464]\n\t(No symbol) [0x00D71215]\n\t(No symbol) [0x00D5B216]\n\t(No symbol) [0x00D30D97]\n\t(No symbol) [0x00D3253D]\n\tGetHandleVerifier [0x010EABF2+2510930]\n\tGetHandleVerifier [0x01118EC1+2700065]\n\tGetHandleVerifier [0x0111C86C+2714828]\n\tGetHandleVerifier [0x00F23480+645344]\n\t(No symbol) [0x00E10FD2]\n\t(No symbol) [0x00E16C68]\n\t(No symbol) [0x00E16D4B]\n\t(No symbol) [0x00E20D6B]\n\tBaseThreadInitThunk [0x75356BD9+25]\n\tRtlGetFullPathName_UEx [0x770C8FD2+1218]\n\tRtlGetFullPathName_UEx [0x770C8F9D+1165]\n",
     "output_type": "error",
     "traceback": [
      "\u001b[1;31m---------------------------------------------------------------------------\u001b[0m",
      "\u001b[1;31mNoSuchElementException\u001b[0m                    Traceback (most recent call last)",
      "\u001b[1;32m~\\AppData\\Local\\Temp\\ipykernel_25616\\117247914.py\u001b[0m in \u001b[0;36m<module>\u001b[1;34m\u001b[0m\n\u001b[0;32m     34\u001b[0m \u001b[1;33m\u001b[0m\u001b[0m\n\u001b[0;32m     35\u001b[0m         \u001b[1;31m# Click Moneda Extranjera\u001b[0m\u001b[1;33m\u001b[0m\u001b[1;33m\u001b[0m\u001b[0m\n\u001b[1;32m---> 36\u001b[1;33m         \u001b[0mdriver\u001b[0m\u001b[1;33m.\u001b[0m\u001b[0mfind_element\u001b[0m\u001b[1;33m(\u001b[0m \u001b[0mBy\u001b[0m\u001b[1;33m.\u001b[0m\u001b[0mID\u001b[0m\u001b[1;33m,\u001b[0m\u001b[1;34m\"ctl00_cphContent_lbtnMexl\"\u001b[0m\u001b[1;33m)\u001b[0m\u001b[1;33m.\u001b[0m\u001b[0mclick\u001b[0m\u001b[1;33m(\u001b[0m\u001b[1;33m)\u001b[0m\u001b[1;33m\u001b[0m\u001b[1;33m\u001b[0m\u001b[0m\n\u001b[0m\u001b[0;32m     37\u001b[0m         \u001b[0mtime\u001b[0m\u001b[1;33m.\u001b[0m\u001b[0msleep\u001b[0m\u001b[1;33m(\u001b[0m\u001b[1;36m3\u001b[0m\u001b[1;33m)\u001b[0m\u001b[1;33m\u001b[0m\u001b[1;33m\u001b[0m\u001b[0m\n\u001b[0;32m     38\u001b[0m \u001b[1;33m\u001b[0m\u001b[0m\n",
      "\u001b[1;32m~\\anaconda3\\lib\\site-packages\\selenium\\webdriver\\remote\\webdriver.py\u001b[0m in \u001b[0;36mfind_element\u001b[1;34m(self, by, value)\u001b[0m\n\u001b[0;32m    828\u001b[0m             \u001b[0mvalue\u001b[0m \u001b[1;33m=\u001b[0m \u001b[1;34mf'[name=\"{value}\"]'\u001b[0m\u001b[1;33m\u001b[0m\u001b[1;33m\u001b[0m\u001b[0m\n\u001b[0;32m    829\u001b[0m \u001b[1;33m\u001b[0m\u001b[0m\n\u001b[1;32m--> 830\u001b[1;33m         \u001b[1;32mreturn\u001b[0m \u001b[0mself\u001b[0m\u001b[1;33m.\u001b[0m\u001b[0mexecute\u001b[0m\u001b[1;33m(\u001b[0m\u001b[0mCommand\u001b[0m\u001b[1;33m.\u001b[0m\u001b[0mFIND_ELEMENT\u001b[0m\u001b[1;33m,\u001b[0m \u001b[1;33m{\u001b[0m\u001b[1;34m\"using\"\u001b[0m\u001b[1;33m:\u001b[0m \u001b[0mby\u001b[0m\u001b[1;33m,\u001b[0m \u001b[1;34m\"value\"\u001b[0m\u001b[1;33m:\u001b[0m \u001b[0mvalue\u001b[0m\u001b[1;33m}\u001b[0m\u001b[1;33m)\u001b[0m\u001b[1;33m[\u001b[0m\u001b[1;34m\"value\"\u001b[0m\u001b[1;33m]\u001b[0m\u001b[1;33m\u001b[0m\u001b[1;33m\u001b[0m\u001b[0m\n\u001b[0m\u001b[0;32m    831\u001b[0m \u001b[1;33m\u001b[0m\u001b[0m\n\u001b[0;32m    832\u001b[0m     \u001b[1;32mdef\u001b[0m \u001b[0mfind_elements\u001b[0m\u001b[1;33m(\u001b[0m\u001b[0mself\u001b[0m\u001b[1;33m,\u001b[0m \u001b[0mby\u001b[0m\u001b[1;33m=\u001b[0m\u001b[0mBy\u001b[0m\u001b[1;33m.\u001b[0m\u001b[0mID\u001b[0m\u001b[1;33m,\u001b[0m \u001b[0mvalue\u001b[0m\u001b[1;33m:\u001b[0m \u001b[0mOptional\u001b[0m\u001b[1;33m[\u001b[0m\u001b[0mstr\u001b[0m\u001b[1;33m]\u001b[0m \u001b[1;33m=\u001b[0m \u001b[1;32mNone\u001b[0m\u001b[1;33m)\u001b[0m \u001b[1;33m->\u001b[0m \u001b[0mList\u001b[0m\u001b[1;33m[\u001b[0m\u001b[0mWebElement\u001b[0m\u001b[1;33m]\u001b[0m\u001b[1;33m:\u001b[0m\u001b[1;33m\u001b[0m\u001b[1;33m\u001b[0m\u001b[0m\n",
      "\u001b[1;32m~\\anaconda3\\lib\\site-packages\\selenium\\webdriver\\remote\\webdriver.py\u001b[0m in \u001b[0;36mexecute\u001b[1;34m(self, driver_command, params)\u001b[0m\n\u001b[0;32m    438\u001b[0m         \u001b[0mresponse\u001b[0m \u001b[1;33m=\u001b[0m \u001b[0mself\u001b[0m\u001b[1;33m.\u001b[0m\u001b[0mcommand_executor\u001b[0m\u001b[1;33m.\u001b[0m\u001b[0mexecute\u001b[0m\u001b[1;33m(\u001b[0m\u001b[0mdriver_command\u001b[0m\u001b[1;33m,\u001b[0m \u001b[0mparams\u001b[0m\u001b[1;33m)\u001b[0m\u001b[1;33m\u001b[0m\u001b[1;33m\u001b[0m\u001b[0m\n\u001b[0;32m    439\u001b[0m         \u001b[1;32mif\u001b[0m \u001b[0mresponse\u001b[0m\u001b[1;33m:\u001b[0m\u001b[1;33m\u001b[0m\u001b[1;33m\u001b[0m\u001b[0m\n\u001b[1;32m--> 440\u001b[1;33m             \u001b[0mself\u001b[0m\u001b[1;33m.\u001b[0m\u001b[0merror_handler\u001b[0m\u001b[1;33m.\u001b[0m\u001b[0mcheck_response\u001b[0m\u001b[1;33m(\u001b[0m\u001b[0mresponse\u001b[0m\u001b[1;33m)\u001b[0m\u001b[1;33m\u001b[0m\u001b[1;33m\u001b[0m\u001b[0m\n\u001b[0m\u001b[0;32m    441\u001b[0m             \u001b[0mresponse\u001b[0m\u001b[1;33m[\u001b[0m\u001b[1;34m\"value\"\u001b[0m\u001b[1;33m]\u001b[0m \u001b[1;33m=\u001b[0m \u001b[0mself\u001b[0m\u001b[1;33m.\u001b[0m\u001b[0m_unwrap_value\u001b[0m\u001b[1;33m(\u001b[0m\u001b[0mresponse\u001b[0m\u001b[1;33m.\u001b[0m\u001b[0mget\u001b[0m\u001b[1;33m(\u001b[0m\u001b[1;34m\"value\"\u001b[0m\u001b[1;33m,\u001b[0m \u001b[1;32mNone\u001b[0m\u001b[1;33m)\u001b[0m\u001b[1;33m)\u001b[0m\u001b[1;33m\u001b[0m\u001b[1;33m\u001b[0m\u001b[0m\n\u001b[0;32m    442\u001b[0m             \u001b[1;32mreturn\u001b[0m \u001b[0mresponse\u001b[0m\u001b[1;33m\u001b[0m\u001b[1;33m\u001b[0m\u001b[0m\n",
      "\u001b[1;32m~\\anaconda3\\lib\\site-packages\\selenium\\webdriver\\remote\\errorhandler.py\u001b[0m in \u001b[0;36mcheck_response\u001b[1;34m(self, response)\u001b[0m\n\u001b[0;32m    243\u001b[0m                 \u001b[0malert_text\u001b[0m \u001b[1;33m=\u001b[0m \u001b[0mvalue\u001b[0m\u001b[1;33m[\u001b[0m\u001b[1;34m\"alert\"\u001b[0m\u001b[1;33m]\u001b[0m\u001b[1;33m.\u001b[0m\u001b[0mget\u001b[0m\u001b[1;33m(\u001b[0m\u001b[1;34m\"text\"\u001b[0m\u001b[1;33m)\u001b[0m\u001b[1;33m\u001b[0m\u001b[1;33m\u001b[0m\u001b[0m\n\u001b[0;32m    244\u001b[0m             \u001b[1;32mraise\u001b[0m \u001b[0mexception_class\u001b[0m\u001b[1;33m(\u001b[0m\u001b[0mmessage\u001b[0m\u001b[1;33m,\u001b[0m \u001b[0mscreen\u001b[0m\u001b[1;33m,\u001b[0m \u001b[0mstacktrace\u001b[0m\u001b[1;33m,\u001b[0m \u001b[0malert_text\u001b[0m\u001b[1;33m)\u001b[0m  \u001b[1;31m# type: ignore[call-arg]  # mypy is not smart enough here\u001b[0m\u001b[1;33m\u001b[0m\u001b[1;33m\u001b[0m\u001b[0m\n\u001b[1;32m--> 245\u001b[1;33m         \u001b[1;32mraise\u001b[0m \u001b[0mexception_class\u001b[0m\u001b[1;33m(\u001b[0m\u001b[0mmessage\u001b[0m\u001b[1;33m,\u001b[0m \u001b[0mscreen\u001b[0m\u001b[1;33m,\u001b[0m \u001b[0mstacktrace\u001b[0m\u001b[1;33m)\u001b[0m\u001b[1;33m\u001b[0m\u001b[1;33m\u001b[0m\u001b[0m\n\u001b[0m",
      "\u001b[1;31mNoSuchElementException\u001b[0m: Message: no such element: Unable to locate element: {\"method\":\"css selector\",\"selector\":\"[id=\"ctl00_cphContent_lbtnMexl\"]\"}\n  (Session info: chrome=110.0.5481.104)\nStacktrace:\nBacktrace:\n\t(No symbol) [0x00E737D3]\n\t(No symbol) [0x00E08B81]\n\t(No symbol) [0x00D0B36D]\n\t(No symbol) [0x00D3D382]\n\t(No symbol) [0x00D3D4BB]\n\t(No symbol) [0x00D73302]\n\t(No symbol) [0x00D5B464]\n\t(No symbol) [0x00D71215]\n\t(No symbol) [0x00D5B216]\n\t(No symbol) [0x00D30D97]\n\t(No symbol) [0x00D3253D]\n\tGetHandleVerifier [0x010EABF2+2510930]\n\tGetHandleVerifier [0x01118EC1+2700065]\n\tGetHandleVerifier [0x0111C86C+2714828]\n\tGetHandleVerifier [0x00F23480+645344]\n\t(No symbol) [0x00E10FD2]\n\t(No symbol) [0x00E16C68]\n\t(No symbol) [0x00E16D4B]\n\t(No symbol) [0x00E20D6B]\n\tBaseThreadInitThunk [0x75356BD9+25]\n\tRtlGetFullPathName_UEx [0x770C8FD2+1218]\n\tRtlGetFullPathName_UEx [0x770C8F9D+1165]\n"
     ]
    }
   ],
   "source": [
    "years_info_list = []\n",
    "months_info_list = []\n",
    "tables_info_list = []\n",
    "\n",
    "for year_number in year_numbers_opt[0:22]:\n",
    "    \n",
    "    # Dropdown button list\n",
    "    dropdown_button_year = driver.find_element( By.ID, \"ctl00_cphContent_rAnio\") \n",
    "    dropdown_button_year.click()\n",
    "\n",
    "    # List of years options\n",
    "    time.sleep(0.5)\n",
    "    driver.find_element( By.XPATH,  f\"/html/body/form/div[1]/div/ul/li[{year_number + 1 }]\" ).click()\n",
    "    year_text = driver.find_element( By.ID, \"ctl00_cphContent_rAnio\").text\n",
    "\n",
    "    \n",
    "        \n",
    "    for month_number in month_numbers_opt[0:13]:\n",
    "        \n",
    "        # Dropdown button list\n",
    "        dropdown_button_month = driver.find_element( By.ID, \"ctl00_cphContent_rMes\") \n",
    "        dropdown_button_month.click()\n",
    "\n",
    "        # # List of months options\n",
    "        time.sleep(0.5)\n",
    "        driver.find_element( By.XPATH,  f\"/html/body/form/div[1]/div/ul/li[{month_number + 1 }]\" ).click()\n",
    "        month_text = driver.find_element( By.ID, \"ctl00_cphContent_rMes\").text\n",
    "        print( year_text )\n",
    "        print( month_text )\n",
    "        \n",
    "        # Click consultar\n",
    "        driver.find_element( By.ID,\"ctl00_cphContent_btnConsultaMensual\").click()\n",
    "        time.sleep(5)\n",
    "        \n",
    "        # Click Moneda Extranjera\n",
    "        driver.find_element( By.ID,\"ctl00_cphContent_lbtnMexl\").click()\n",
    "        time.sleep(3)\n",
    "        \n",
    "        year_float = int(year_text)\n",
    "        \n",
    "        try:\n",
    "            # Switch elements\n",
    "            driver.switch_to.frame(driver.find_element( By.ID,\"ctl00_cphContent_pnContenidoAnteriorMnASP\"))\n",
    "            section_tab_table = driver.find_element( By.XPATH,  \"/html/body/form/table/tbody\" )\n",
    "            table_html = section_tab_table.get_attribute('outerHTML')\n",
    "            table_pd = pd.read_html( table_html )\n",
    "\n",
    "            # Cleaning tablr\n",
    "            table_clean_1 = table_pd[1].iloc[5:, :].copy().reset_index( drop = True )\n",
    "\n",
    "            # Changing switch\n",
    "            driver.switch_to.default_content()\n",
    "\n",
    "            print(\"Table Tipo 1 - Cambiar de Frame y una tabla simple\")\n",
    "\n",
    "        except:\n",
    "            print(\"No table Tipo 1\")\n",
    "            table_clean_1 = \"Null\"\n",
    "            \n",
    "            \n",
    "        try:\n",
    "            # Switch elements\n",
    "            driver.switch_to.frame(driver.find_element( By.ID,\"ctl00_cphContent_pnContenidoAnteriorMnASP\"))\n",
    "            section_tab_table = driver.find_element( By.XPATH,  \"/html/body/form/table/tbody\" )\n",
    "            table_html = section_tab_table.get_attribute('outerHTML')\n",
    "            table_pd = pd.read_html( table_html )\n",
    "\n",
    "            # generate table objects\n",
    "            table0, table1 = table_pd[0], table_pd[1]\n",
    "            table_clean_2 = table1.copy()\n",
    "\n",
    "            # Number of rows of second table\n",
    "            tb1_rows = table1.shape[0]\n",
    "            drop_rows = np.arange( 1, tb1_rows + 2 )\n",
    "\n",
    "            # Clean first table\n",
    "            table0 = table0.drop( drop_rows, axis = 0 )\n",
    "\n",
    "            # Assign values to new table\n",
    "            col_name = table0.iloc[0, 0]\n",
    "            col_values = table0.iloc[1:, 0].tolist()\n",
    "            table_clean_2.insert( loc = 0, column= col_name, value = col_values)\n",
    "            \n",
    "            print(\"Table Tipo 2 - Cambiar de Frame y una tabla Compleja\")\n",
    "            \n",
    "             # Changing switch\n",
    "            driver.switch_to.default_content()\n",
    "            \n",
    "        except:\n",
    "            print(\"No table Tipo 2\")\n",
    "            table_clean_2 = \"Null\"\n",
    "            \n",
    "\n",
    "        try:\n",
    "            # Get tables\n",
    "            section_id_table = driver.find_element( By.ID, \"ctl00_cphContent_rpgActualMex_OT\" )\n",
    "            table_html = section_id_table.get_attribute('outerHTML')\n",
    "            table_pd = pd.read_html( table_html )\n",
    "\n",
    "            # generate table objects\n",
    "            table0, table1 = table_pd[0], table_pd[1]\n",
    "            table_clean_3 = table1.copy()\n",
    "\n",
    "            # Number of rows of second table\n",
    "            tb1_rows = table1.shape[0]\n",
    "            drop_rows = np.arange( 1, tb1_rows + 2 )\n",
    "\n",
    "            # Clean first table\n",
    "            table0 = table0.drop( drop_rows, axis = 0 )\n",
    "\n",
    "            # Assign values to new table\n",
    "            col_name = table0.iloc[0, 0]\n",
    "            col_values = table0.iloc[1:, 0].tolist()\n",
    "            table_clean_3.insert( loc = 0, column= col_name, value = col_values)\n",
    "            \n",
    "            print(\"Table Tipo 3 - No Cambiar de Frame y una tabla Compleja\")\n",
    "            \n",
    "        except:\n",
    "            print(\"No table Tipo 3\")\n",
    "            table_clean_3 = \"Null\"\n",
    "            \n",
    "            \n",
    "        # Check what to save\n",
    "        if ( ( isinstance( table_clean_3, str ) == False ) and ( table_clean_3.shape[1] > 5 ) ):\n",
    "            \n",
    "            # Data with no frame\n",
    "    \n",
    "            table_clean_3.to_excel( f'table_clean_{year_text}_{month_text}_Mex.xlsx', index = False )\n",
    "\n",
    "            \n",
    "            years_info_list.append( year_float)\n",
    "            months_info_list.append( month_text )\n",
    "            tables_info_list.append( \"Table 3\" )\n",
    "            print(\"guardo3\")\n",
    "            \n",
    "        elif ( ( isinstance( table_clean_2, str ) == False ) and ( table_clean_2.shape[1] > 5 ) ):\n",
    "            \n",
    "            # Data with frame and 2 tables\n",
    "            table_clean_2.to_excel( f'table_clean_{year_text}_{month_text}_Mex.xlsx', index = False, header = False )\n",
    "            # To break\n",
    "            years_info_list.append( year_float)\n",
    "            months_info_list.append( month_text )\n",
    "            tables_info_list.append( \"Table 2\" )\n",
    "            print(\"guardo2\")\n",
    "            \n",
    "        elif ( ( isinstance( table_clean_1, str ) == False ) and ( table_clean_1.shape[1] > 5 ) ):\n",
    "            # Data with frame and 1 table\n",
    "            table_clean_1.to_excel( f'table_clean_{year_text}_{month_text}_Mex.xlsx', index = False , header = False )\n",
    "            \n",
    "            years_info_list.append( year_float)\n",
    "            months_info_list.append( month_text )\n",
    "            tables_info_list.append( \"Table 1\" )\n",
    "            print(\"guardo1\")\n",
    "            \n",
    "        # No table information\n",
    "        # Go to a previous day\n",
    "        else:\n",
    "            # Day ago\n",
    "            years_info_list.append( year_float)\n",
    "            months_info_list.append( month_text )\n",
    "            tables_info_list.append( \"No Table\" )\n",
    "            \n",
    "        driver.switch_to.default_content()"
   ]
  }
 ],
 "metadata": {
  "kernelspec": {
   "display_name": "Python 3 (ipykernel)",
   "language": "python",
   "name": "python3"
  },
  "language_info": {
   "codemirror_mode": {
    "name": "ipython",
    "version": 3
   },
   "file_extension": ".py",
   "mimetype": "text/x-python",
   "name": "python",
   "nbconvert_exporter": "python",
   "pygments_lexer": "ipython3",
   "version": "3.9.13"
  }
 },
 "nbformat": 4,
 "nbformat_minor": 5
}
